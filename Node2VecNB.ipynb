{
 "cells": [
  {
   "cell_type": "markdown",
   "metadata": {
    "colab_type": "text",
    "id": "view-in-github"
   },
   "source": [
    "<a href=\"https://colab.research.google.com/github/sophielouie/beer-recommendation-system/blob/main/Node2Vec.ipynb\" target=\"_parent\"><img src=\"https://colab.research.google.com/assets/colab-badge.svg\" alt=\"Open In Colab\"/></a>"
   ]
  },
  {
   "cell_type": "code",
   "execution_count": 3,
   "metadata": {
    "colab": {
     "base_uri": "https://localhost:8080/"
    },
    "id": "_M5ce6gDJABZ",
    "outputId": "6505ce7e-e74f-4754-f7a9-b31bb6da75e4"
   },
   "outputs": [
    {
     "name": "stdout",
     "output_type": "stream",
     "text": [
      "Requirement already satisfied: surprise in c:\\users\\timse\\anaconda3\\lib\\site-packages (0.1)\n",
      "Requirement already satisfied: scikit-surprise in c:\\users\\timse\\anaconda3\\lib\\site-packages (from surprise) (1.1.1)\n",
      "Requirement already satisfied: scipy>=1.0.0 in c:\\users\\timse\\anaconda3\\lib\\site-packages (from scikit-surprise->surprise) (1.5.2)\n",
      "Requirement already satisfied: numpy>=1.11.2 in c:\\users\\timse\\anaconda3\\lib\\site-packages (from scikit-surprise->surprise) (1.23.1)\n",
      "Requirement already satisfied: six>=1.10.0 in c:\\users\\timse\\anaconda3\\lib\\site-packages (from scikit-surprise->surprise) (1.15.0)\n",
      "Requirement already satisfied: joblib>=0.11 in c:\\users\\timse\\anaconda3\\lib\\site-packages (from scikit-surprise->surprise) (1.1.0)\n"
     ]
    }
   ],
   "source": [
    "!pip install surprise"
   ]
  },
  {
   "cell_type": "code",
   "execution_count": 72,
   "metadata": {
    "id": "GICYzXHUmLao",
    "scrolled": true
   },
   "outputs": [],
   "source": [
    "import pandas as pd\n",
    "from sklearn.preprocessing import StandardScaler, MinMaxScaler\n",
    "from sklearn.metrics.pairwise import cosine_similarity\n",
    "from surprise import SVD, Reader, Dataset, accuracy\n",
    "from surprise.model_selection import train_test_split\n",
    "import numpy as np\n",
    "from scipy import spatial\n",
    "import statistics as stats\n",
    "import math\n",
    "from networkx.algorithms.dag import topological_sort\n",
    "import networkx as nx\n",
    "from plotly.subplots import make_subplots\n",
    "import plotly.graph_objects as go\n",
    "from node2vec import Node2Vec\n",
    "import pickle"
   ]
  },
  {
   "cell_type": "code",
   "execution_count": 73,
   "metadata": {},
   "outputs": [],
   "source": [
    "from node2vec import Node2Vec as n2v"
   ]
  },
  {
   "cell_type": "code",
   "execution_count": 74,
   "metadata": {},
   "outputs": [],
   "source": [
    "import node2vec"
   ]
  },
  {
   "cell_type": "code",
   "execution_count": 6,
   "metadata": {},
   "outputs": [
    {
     "name": "stdout",
     "output_type": "stream",
     "text": [
      "Requirement already satisfied: node2vec in c:\\users\\timse\\anaconda3\\lib\\site-packages (0.4.6)\n",
      "Requirement already satisfied: tqdm<5.0.0,>=4.55.1 in c:\\users\\timse\\anaconda3\\lib\\site-packages (from node2vec) (4.64.0)\n",
      "Requirement already satisfied: numpy<2.0.0,>=1.19.5 in c:\\users\\timse\\anaconda3\\lib\\site-packages (from node2vec) (1.23.1)\n",
      "Requirement already satisfied: networkx<3.0,>=2.5 in c:\\users\\timse\\anaconda3\\lib\\site-packages (from node2vec) (2.5)\n",
      "Requirement already satisfied: joblib<2.0.0,>=1.1.0 in c:\\users\\timse\\anaconda3\\lib\\site-packages (from node2vec) (1.1.0)\n",
      "Requirement already satisfied: gensim<5.0.0,>=4.1.2 in c:\\users\\timse\\anaconda3\\lib\\site-packages (from node2vec) (4.2.0)\n",
      "Requirement already satisfied: colorama; platform_system == \"Windows\" in c:\\users\\timse\\anaconda3\\lib\\site-packages (from tqdm<5.0.0,>=4.55.1->node2vec) (0.4.4)\n",
      "Requirement already satisfied: decorator>=4.3.0 in c:\\users\\timse\\anaconda3\\lib\\site-packages (from networkx<3.0,>=2.5->node2vec) (4.4.2)\n",
      "Requirement already satisfied: scipy>=0.18.1 in c:\\users\\timse\\anaconda3\\lib\\site-packages (from gensim<5.0.0,>=4.1.2->node2vec) (1.5.2)\n",
      "Requirement already satisfied: smart-open>=1.8.1 in c:\\users\\timse\\anaconda3\\lib\\site-packages (from gensim<5.0.0,>=4.1.2->node2vec) (6.0.0)\n",
      "Requirement already satisfied: Cython==0.29.28 in c:\\users\\timse\\anaconda3\\lib\\site-packages (from gensim<5.0.0,>=4.1.2->node2vec) (0.29.28)\n"
     ]
    }
   ],
   "source": [
    "!pip install node2vec"
   ]
  },
  {
   "cell_type": "code",
   "execution_count": null,
   "metadata": {
    "id": "ornMuY2PnBX2"
   },
   "outputs": [],
   "source": [
    "pd.set_option('display.max_columns', None)"
   ]
  },
  {
   "cell_type": "markdown",
   "metadata": {
    "id": "hos2Q122sNa8"
   },
   "source": [
    "# Data Collection"
   ]
  },
  {
   "cell_type": "code",
   "execution_count": 4,
   "metadata": {
    "id": "LSuwKLYcIxVY"
   },
   "outputs": [],
   "source": [
    "def clean_beer_reviews():\n",
    "    # storing beer review dataset\n",
    "    beer_reviews = pd.read_csv(\"beer_reviews.csv\", encoding=\"utf-8\")\n",
    "    # creating a unique identifier for each beer using brewery name and beer name\n",
    "    beer_reviews['Unique Beer Name'] = beer_reviews['brewery_name'] + ' ' + beer_reviews['beer_name']\n",
    "    # storing beer profile dataset\n",
    "    beer_profile = pd.read_csv(\"beer_profile_ratings.csv\", encoding=\"utf-8\")\n",
    "    # columns to drop from beer reviews\n",
    "    drop_cols = ['brewery_id', 'brewery_name',  'beer_name', 'beer_abv', 'beer_beerid']\n",
    "    # dropping columns from beer reviews\n",
    "    beer_reviews.drop(columns = drop_cols, inplace = True)\n",
    "    # columns to drop from  beer profile\n",
    "    drop_cols = ['Name', 'Style', 'Brewery', 'Description',\n",
    "                 'Min IBU', 'Max IBU', 'Alcohol', 'review_aroma', 'review_appearance', 'review_palate',\n",
    "                 'review_taste', 'review_overall', 'number_of_reviews']\n",
    "    # dropping columns from beer profile\n",
    "    beer_profile.drop(columns = drop_cols, inplace = True)\n",
    "    # combining beer review and beer profile datasets to have profile of each beer attached to every review\n",
    "    df_beer = pd.merge(beer_reviews, beer_profile, left_on = 'Unique Beer Name', right_on = 'Beer Name (Full)', how = 'inner')\n",
    "    # isolating the numerical columns that need to be scaled\n",
    "    need_scaling = df_beer.drop(columns = ['review_time', 'review_profilename', 'beer_style', 'Unique Beer Name', 'Beer Name (Full)'])\n",
    "    # storing the informational portion of the dataset that does not need scaling\n",
    "    informational = df_beer[['review_time', 'review_profilename', 'beer_style', 'Unique Beer Name', 'Beer Name (Full)']]\n",
    "    # renaming beer name column\n",
    "    informational.rename(columns = {'Beer Name (Full)': 'Beer Name'}, inplace = True)\n",
    "\n",
    "    # scaling the data\n",
    "    scaler = MinMaxScaler()\n",
    "    scaler.fit(need_scaling)\n",
    "    need_scaling = pd.DataFrame(scaler.transform(need_scaling), columns = need_scaling.columns)\n",
    "\n",
    "    # recombining the informational data and scaled data\n",
    "    df = pd.concat([informational, need_scaling], axis = 1)\n",
    "    return df"
   ]
  },
  {
   "cell_type": "code",
   "execution_count": 9,
   "metadata": {
    "collapsed": true,
    "id": "t3sgYkrRKFug"
   },
   "outputs": [
    {
     "ename": "UnicodeDecodeError",
     "evalue": "'utf-8' codec can't decode byte 0x9c in position 275: invalid start byte",
     "output_type": "error",
     "traceback": [
      "\u001b[1;31m---------------------------------------------------------------------------\u001b[0m",
      "\u001b[1;31mUnicodeDecodeError\u001b[0m                        Traceback (most recent call last)",
      "\u001b[1;32m<ipython-input-9-b3b6b14f75fd>\u001b[0m in \u001b[0;36m<module>\u001b[1;34m\u001b[0m\n\u001b[1;32m----> 1\u001b[1;33m \u001b[0mdf\u001b[0m \u001b[1;33m=\u001b[0m \u001b[0mclean_beer_reviews\u001b[0m\u001b[1;33m(\u001b[0m\u001b[1;33m)\u001b[0m\u001b[1;33m\u001b[0m\u001b[1;33m\u001b[0m\u001b[0m\n\u001b[0m",
      "\u001b[1;32m<ipython-input-8-550d7c7e5af2>\u001b[0m in \u001b[0;36mclean_beer_reviews\u001b[1;34m()\u001b[0m\n\u001b[0;32m      5\u001b[0m     \u001b[0mbeer_reviews\u001b[0m\u001b[1;33m[\u001b[0m\u001b[1;34m'Unique Beer Name'\u001b[0m\u001b[1;33m]\u001b[0m \u001b[1;33m=\u001b[0m \u001b[0mbeer_reviews\u001b[0m\u001b[1;33m[\u001b[0m\u001b[1;34m'brewery_name'\u001b[0m\u001b[1;33m]\u001b[0m \u001b[1;33m+\u001b[0m \u001b[1;34m' '\u001b[0m \u001b[1;33m+\u001b[0m \u001b[0mbeer_reviews\u001b[0m\u001b[1;33m[\u001b[0m\u001b[1;34m'beer_name'\u001b[0m\u001b[1;33m]\u001b[0m\u001b[1;33m\u001b[0m\u001b[1;33m\u001b[0m\u001b[0m\n\u001b[0;32m      6\u001b[0m     \u001b[1;31m# storing beer profile dataset\u001b[0m\u001b[1;33m\u001b[0m\u001b[1;33m\u001b[0m\u001b[1;33m\u001b[0m\u001b[0m\n\u001b[1;32m----> 7\u001b[1;33m     \u001b[0mbeer_profile\u001b[0m \u001b[1;33m=\u001b[0m \u001b[0mpd\u001b[0m\u001b[1;33m.\u001b[0m\u001b[0mread_csv\u001b[0m\u001b[1;33m(\u001b[0m\u001b[1;34m\"beer_profile_ratings.csv\"\u001b[0m\u001b[1;33m,\u001b[0m \u001b[0mencoding\u001b[0m\u001b[1;33m=\u001b[0m\u001b[1;34m\"utf-8\"\u001b[0m\u001b[1;33m)\u001b[0m\u001b[1;33m\u001b[0m\u001b[1;33m\u001b[0m\u001b[0m\n\u001b[0m\u001b[0;32m      8\u001b[0m     \u001b[1;31m# columns to drop from beer reviews\u001b[0m\u001b[1;33m\u001b[0m\u001b[1;33m\u001b[0m\u001b[1;33m\u001b[0m\u001b[0m\n\u001b[0;32m      9\u001b[0m     \u001b[0mdrop_cols\u001b[0m \u001b[1;33m=\u001b[0m \u001b[1;33m[\u001b[0m\u001b[1;34m'brewery_id'\u001b[0m\u001b[1;33m,\u001b[0m \u001b[1;34m'brewery_name'\u001b[0m\u001b[1;33m,\u001b[0m  \u001b[1;34m'beer_name'\u001b[0m\u001b[1;33m,\u001b[0m \u001b[1;34m'beer_abv'\u001b[0m\u001b[1;33m,\u001b[0m \u001b[1;34m'beer_beerid'\u001b[0m\u001b[1;33m]\u001b[0m\u001b[1;33m\u001b[0m\u001b[1;33m\u001b[0m\u001b[0m\n",
      "\u001b[1;32m~\\anaconda3\\lib\\site-packages\\pandas\\io\\parsers.py\u001b[0m in \u001b[0;36mread_csv\u001b[1;34m(filepath_or_buffer, sep, delimiter, header, names, index_col, usecols, squeeze, prefix, mangle_dupe_cols, dtype, engine, converters, true_values, false_values, skipinitialspace, skiprows, skipfooter, nrows, na_values, keep_default_na, na_filter, verbose, skip_blank_lines, parse_dates, infer_datetime_format, keep_date_col, date_parser, dayfirst, cache_dates, iterator, chunksize, compression, thousands, decimal, lineterminator, quotechar, quoting, doublequote, escapechar, comment, encoding, dialect, error_bad_lines, warn_bad_lines, delim_whitespace, low_memory, memory_map, float_precision)\u001b[0m\n\u001b[0;32m    684\u001b[0m     )\n\u001b[0;32m    685\u001b[0m \u001b[1;33m\u001b[0m\u001b[0m\n\u001b[1;32m--> 686\u001b[1;33m     \u001b[1;32mreturn\u001b[0m \u001b[0m_read\u001b[0m\u001b[1;33m(\u001b[0m\u001b[0mfilepath_or_buffer\u001b[0m\u001b[1;33m,\u001b[0m \u001b[0mkwds\u001b[0m\u001b[1;33m)\u001b[0m\u001b[1;33m\u001b[0m\u001b[1;33m\u001b[0m\u001b[0m\n\u001b[0m\u001b[0;32m    687\u001b[0m \u001b[1;33m\u001b[0m\u001b[0m\n\u001b[0;32m    688\u001b[0m \u001b[1;33m\u001b[0m\u001b[0m\n",
      "\u001b[1;32m~\\anaconda3\\lib\\site-packages\\pandas\\io\\parsers.py\u001b[0m in \u001b[0;36m_read\u001b[1;34m(filepath_or_buffer, kwds)\u001b[0m\n\u001b[0;32m    450\u001b[0m \u001b[1;33m\u001b[0m\u001b[0m\n\u001b[0;32m    451\u001b[0m     \u001b[1;31m# Create the parser.\u001b[0m\u001b[1;33m\u001b[0m\u001b[1;33m\u001b[0m\u001b[1;33m\u001b[0m\u001b[0m\n\u001b[1;32m--> 452\u001b[1;33m     \u001b[0mparser\u001b[0m \u001b[1;33m=\u001b[0m \u001b[0mTextFileReader\u001b[0m\u001b[1;33m(\u001b[0m\u001b[0mfp_or_buf\u001b[0m\u001b[1;33m,\u001b[0m \u001b[1;33m**\u001b[0m\u001b[0mkwds\u001b[0m\u001b[1;33m)\u001b[0m\u001b[1;33m\u001b[0m\u001b[1;33m\u001b[0m\u001b[0m\n\u001b[0m\u001b[0;32m    453\u001b[0m \u001b[1;33m\u001b[0m\u001b[0m\n\u001b[0;32m    454\u001b[0m     \u001b[1;32mif\u001b[0m \u001b[0mchunksize\u001b[0m \u001b[1;32mor\u001b[0m \u001b[0miterator\u001b[0m\u001b[1;33m:\u001b[0m\u001b[1;33m\u001b[0m\u001b[1;33m\u001b[0m\u001b[0m\n",
      "\u001b[1;32m~\\anaconda3\\lib\\site-packages\\pandas\\io\\parsers.py\u001b[0m in \u001b[0;36m__init__\u001b[1;34m(self, f, engine, **kwds)\u001b[0m\n\u001b[0;32m    944\u001b[0m             \u001b[0mself\u001b[0m\u001b[1;33m.\u001b[0m\u001b[0moptions\u001b[0m\u001b[1;33m[\u001b[0m\u001b[1;34m\"has_index_names\"\u001b[0m\u001b[1;33m]\u001b[0m \u001b[1;33m=\u001b[0m \u001b[0mkwds\u001b[0m\u001b[1;33m[\u001b[0m\u001b[1;34m\"has_index_names\"\u001b[0m\u001b[1;33m]\u001b[0m\u001b[1;33m\u001b[0m\u001b[1;33m\u001b[0m\u001b[0m\n\u001b[0;32m    945\u001b[0m \u001b[1;33m\u001b[0m\u001b[0m\n\u001b[1;32m--> 946\u001b[1;33m         \u001b[0mself\u001b[0m\u001b[1;33m.\u001b[0m\u001b[0m_make_engine\u001b[0m\u001b[1;33m(\u001b[0m\u001b[0mself\u001b[0m\u001b[1;33m.\u001b[0m\u001b[0mengine\u001b[0m\u001b[1;33m)\u001b[0m\u001b[1;33m\u001b[0m\u001b[1;33m\u001b[0m\u001b[0m\n\u001b[0m\u001b[0;32m    947\u001b[0m \u001b[1;33m\u001b[0m\u001b[0m\n\u001b[0;32m    948\u001b[0m     \u001b[1;32mdef\u001b[0m \u001b[0mclose\u001b[0m\u001b[1;33m(\u001b[0m\u001b[0mself\u001b[0m\u001b[1;33m)\u001b[0m\u001b[1;33m:\u001b[0m\u001b[1;33m\u001b[0m\u001b[1;33m\u001b[0m\u001b[0m\n",
      "\u001b[1;32m~\\anaconda3\\lib\\site-packages\\pandas\\io\\parsers.py\u001b[0m in \u001b[0;36m_make_engine\u001b[1;34m(self, engine)\u001b[0m\n\u001b[0;32m   1176\u001b[0m     \u001b[1;32mdef\u001b[0m \u001b[0m_make_engine\u001b[0m\u001b[1;33m(\u001b[0m\u001b[0mself\u001b[0m\u001b[1;33m,\u001b[0m \u001b[0mengine\u001b[0m\u001b[1;33m=\u001b[0m\u001b[1;34m\"c\"\u001b[0m\u001b[1;33m)\u001b[0m\u001b[1;33m:\u001b[0m\u001b[1;33m\u001b[0m\u001b[1;33m\u001b[0m\u001b[0m\n\u001b[0;32m   1177\u001b[0m         \u001b[1;32mif\u001b[0m \u001b[0mengine\u001b[0m \u001b[1;33m==\u001b[0m \u001b[1;34m\"c\"\u001b[0m\u001b[1;33m:\u001b[0m\u001b[1;33m\u001b[0m\u001b[1;33m\u001b[0m\u001b[0m\n\u001b[1;32m-> 1178\u001b[1;33m             \u001b[0mself\u001b[0m\u001b[1;33m.\u001b[0m\u001b[0m_engine\u001b[0m \u001b[1;33m=\u001b[0m \u001b[0mCParserWrapper\u001b[0m\u001b[1;33m(\u001b[0m\u001b[0mself\u001b[0m\u001b[1;33m.\u001b[0m\u001b[0mf\u001b[0m\u001b[1;33m,\u001b[0m \u001b[1;33m**\u001b[0m\u001b[0mself\u001b[0m\u001b[1;33m.\u001b[0m\u001b[0moptions\u001b[0m\u001b[1;33m)\u001b[0m\u001b[1;33m\u001b[0m\u001b[1;33m\u001b[0m\u001b[0m\n\u001b[0m\u001b[0;32m   1179\u001b[0m         \u001b[1;32melse\u001b[0m\u001b[1;33m:\u001b[0m\u001b[1;33m\u001b[0m\u001b[1;33m\u001b[0m\u001b[0m\n\u001b[0;32m   1180\u001b[0m             \u001b[1;32mif\u001b[0m \u001b[0mengine\u001b[0m \u001b[1;33m==\u001b[0m \u001b[1;34m\"python\"\u001b[0m\u001b[1;33m:\u001b[0m\u001b[1;33m\u001b[0m\u001b[1;33m\u001b[0m\u001b[0m\n",
      "\u001b[1;32m~\\anaconda3\\lib\\site-packages\\pandas\\io\\parsers.py\u001b[0m in \u001b[0;36m__init__\u001b[1;34m(self, src, **kwds)\u001b[0m\n\u001b[0;32m   2006\u001b[0m         \u001b[0mkwds\u001b[0m\u001b[1;33m[\u001b[0m\u001b[1;34m\"usecols\"\u001b[0m\u001b[1;33m]\u001b[0m \u001b[1;33m=\u001b[0m \u001b[0mself\u001b[0m\u001b[1;33m.\u001b[0m\u001b[0musecols\u001b[0m\u001b[1;33m\u001b[0m\u001b[1;33m\u001b[0m\u001b[0m\n\u001b[0;32m   2007\u001b[0m \u001b[1;33m\u001b[0m\u001b[0m\n\u001b[1;32m-> 2008\u001b[1;33m         \u001b[0mself\u001b[0m\u001b[1;33m.\u001b[0m\u001b[0m_reader\u001b[0m \u001b[1;33m=\u001b[0m \u001b[0mparsers\u001b[0m\u001b[1;33m.\u001b[0m\u001b[0mTextReader\u001b[0m\u001b[1;33m(\u001b[0m\u001b[0msrc\u001b[0m\u001b[1;33m,\u001b[0m \u001b[1;33m**\u001b[0m\u001b[0mkwds\u001b[0m\u001b[1;33m)\u001b[0m\u001b[1;33m\u001b[0m\u001b[1;33m\u001b[0m\u001b[0m\n\u001b[0m\u001b[0;32m   2009\u001b[0m         \u001b[0mself\u001b[0m\u001b[1;33m.\u001b[0m\u001b[0munnamed_cols\u001b[0m \u001b[1;33m=\u001b[0m \u001b[0mself\u001b[0m\u001b[1;33m.\u001b[0m\u001b[0m_reader\u001b[0m\u001b[1;33m.\u001b[0m\u001b[0munnamed_cols\u001b[0m\u001b[1;33m\u001b[0m\u001b[1;33m\u001b[0m\u001b[0m\n\u001b[0;32m   2010\u001b[0m \u001b[1;33m\u001b[0m\u001b[0m\n",
      "\u001b[1;32mpandas\\_libs\\parsers.pyx\u001b[0m in \u001b[0;36mpandas._libs.parsers.TextReader.__cinit__\u001b[1;34m()\u001b[0m\n",
      "\u001b[1;32mpandas\\_libs\\parsers.pyx\u001b[0m in \u001b[0;36mpandas._libs.parsers.TextReader._get_header\u001b[1;34m()\u001b[0m\n",
      "\u001b[1;32mpandas\\_libs\\parsers.pyx\u001b[0m in \u001b[0;36mpandas._libs.parsers.TextReader._tokenize_rows\u001b[1;34m()\u001b[0m\n",
      "\u001b[1;32mpandas\\_libs\\parsers.pyx\u001b[0m in \u001b[0;36mpandas._libs.parsers.raise_parser_error\u001b[1;34m()\u001b[0m\n",
      "\u001b[1;31mUnicodeDecodeError\u001b[0m: 'utf-8' codec can't decode byte 0x9c in position 275: invalid start byte"
     ]
    }
   ],
   "source": [
    "df = clean_beer_reviews()"
   ]
  },
  {
   "cell_type": "markdown",
   "metadata": {
    "id": "_o_9Eii2hDl7"
   },
   "source": [
    "#Defining Parameters before Testing"
   ]
  },
  {
   "cell_type": "markdown",
   "metadata": {
    "id": "RCFpk-oDjSyA"
   },
   "source": [
    "We need to select users to isolate for our test set. The criteria for these users is that they should have reviewed enough beers that there is some likelihood that they would have tried something that has been recommended to them. Starting with binary cumulative gain, we will assess the performance of our recommendation system by determining if the recommended beers have been tried by the user or exceeded a threshold."
   ]
  },
  {
   "cell_type": "markdown",
   "metadata": {
    "id": "fjQbQwQHlFID"
   },
   "source": [
    "- recommend x beers to 10 users\n",
    "- traverse the recommended beer list, see how many have been rated highly\n",
    "- compare the accuracy ratings of the three test users\n",
    "- determine threshold for positive review by finding percentiles of ratings (top 1/4 review would be considered a successful recommendation)"
   ]
  },
  {
   "cell_type": "markdown",
   "metadata": {
    "id": "QhLjDYnulV4J"
   },
   "source": [
    "## Choosing users for our test set"
   ]
  },
  {
   "cell_type": "code",
   "execution_count": null,
   "metadata": {
    "colab": {
     "base_uri": "https://localhost:8080/"
    },
    "id": "upRrdWsNigHi",
    "outputId": "b16352f0-9d6d-4a7c-e4f2-216ef9805bb5"
   },
   "outputs": [],
   "source": [
    "freq_reviews = df.groupby('review_profilename').count().sort_values(by=['review_time'], ascending = False)\n",
    "freq_reviews.rename(columns={'review_time': 'Number of Reviews'}, inplace = True)\n",
    "freq_reviews['Number of Reviews']"
   ]
  },
  {
   "cell_type": "markdown",
   "metadata": {
    "id": "n9R-Vx8unq-q"
   },
   "source": [
    "The ten users with the most beer reviews"
   ]
  },
  {
   "cell_type": "code",
   "execution_count": 10,
   "metadata": {
    "id": "wOp3N3Xvmmq2"
   },
   "outputs": [
    {
     "ename": "NameError",
     "evalue": "name 'freq_reviews' is not defined",
     "output_type": "error",
     "traceback": [
      "\u001b[1;31m---------------------------------------------------------------------------\u001b[0m",
      "\u001b[1;31mNameError\u001b[0m                                 Traceback (most recent call last)",
      "\u001b[1;32m<ipython-input-10-8e1cd4ed09d1>\u001b[0m in \u001b[0;36m<module>\u001b[1;34m\u001b[0m\n\u001b[1;32m----> 1\u001b[1;33m \u001b[0mtest_users\u001b[0m \u001b[1;33m=\u001b[0m \u001b[0mfreq_reviews\u001b[0m\u001b[1;33m.\u001b[0m\u001b[0mindex\u001b[0m\u001b[1;33m[\u001b[0m\u001b[1;33m:\u001b[0m\u001b[1;36m10\u001b[0m\u001b[1;33m]\u001b[0m\u001b[1;33m\u001b[0m\u001b[1;33m\u001b[0m\u001b[0m\n\u001b[0m",
      "\u001b[1;31mNameError\u001b[0m: name 'freq_reviews' is not defined"
     ]
    }
   ],
   "source": [
    "test_users = freq_reviews.index[:10]"
   ]
  },
  {
   "cell_type": "markdown",
   "metadata": {
    "id": "DOIf_AXLrmzE"
   },
   "source": [
    "##Find threshold for what makes a good rating"
   ]
  },
  {
   "cell_type": "code",
   "execution_count": null,
   "metadata": {
    "colab": {
     "base_uri": "https://localhost:8080/"
    },
    "id": "FK0Yys4Ow-zO",
    "outputId": "26917a71-267d-485e-bd0b-94dff19d3a00"
   },
   "outputs": [
    {
     "data": {
      "text/plain": [
       "219603"
      ]
     },
     "execution_count": 17,
     "metadata": {},
     "output_type": "execute_result"
    }
   ],
   "source": [
    "len(df.loc[df.review_overall >= .875])"
   ]
  },
  {
   "cell_type": "code",
   "execution_count": null,
   "metadata": {
    "id": "h3DNlgUksNAQ"
   },
   "outputs": [],
   "source": [
    "THRESHOLD = 0.875"
   ]
  },
  {
   "cell_type": "markdown",
   "metadata": {
    "id": "9oTy5lYLxVg3"
   },
   "source": [
    "Only 219,603 / 744,251 reviews (29.5%) were given a score of .875 or greater, so this will be our threshold for a successful recommendation"
   ]
  },
  {
   "cell_type": "markdown",
   "metadata": {
    "id": "-FDqzfWgnccn"
   },
   "source": [
    "## Remove all ratings by the test users from the training set except for the beer they rated the highest"
   ]
  },
  {
   "cell_type": "code",
   "execution_count": 5,
   "metadata": {
    "id": "I7hkULaznAjl"
   },
   "outputs": [],
   "source": [
    "def create_train_test_split(frac_rem=1):\n",
    "    #frac_rem: fraction of each user in test set to remain in train set\n",
    "    # train_set is copy of df --> df has review_profilename and Unique Beer Name as indicies\n",
    "    # we are preserving user information by reseting indicies, so when we .loc[] we still have access to user and beer info\n",
    "    train_set = df.copy().reset_index()\n",
    "    test_parameters = []\n",
    "    test_set = pd.DataFrame(columns = train_set.columns)\n",
    "\n",
    "\n",
    "    for user in test_users: \n",
    "        # all reviews for a the test user\n",
    "        user_reviews = train_set.loc[train_set.review_profilename == user]\n",
    "\n",
    "        # sorted reviews\n",
    "        user_reviews = user_reviews.sort_values(by = 'review_overall', ascending = False)\n",
    "\n",
    "        # store highest reviewed beer\n",
    "        highest_reviewed_beer = user_reviews.iloc[0]\n",
    "        test_parameters.append((user, highest_reviewed_beer[\"Beer Name\"]))\n",
    "\n",
    "        # calculating the last index to remove from the train set\n",
    "        last_idx = int((len(user_reviews) - 1) * frac_rem)\n",
    "\n",
    "        # concatenate the removed user-beer pairs to test set\n",
    "        test_set = pd.concat([test_set, user_reviews.iloc[1:last_idx]])\n",
    "\n",
    "        # remove all beers from training set, add back in highest_reviewed_beer\n",
    "        train_set.drop(user_reviews.iloc[1:last_idx].index, axis = 0, inplace = True)\n",
    "\n",
    "    return train_set, test_set, test_parameters"
   ]
  },
  {
   "cell_type": "code",
   "execution_count": 12,
   "metadata": {
    "id": "1KMKV_jS0yXM"
   },
   "outputs": [
    {
     "ename": "NameError",
     "evalue": "name 'df' is not defined",
     "output_type": "error",
     "traceback": [
      "\u001b[1;31m---------------------------------------------------------------------------\u001b[0m",
      "\u001b[1;31mNameError\u001b[0m                                 Traceback (most recent call last)",
      "\u001b[1;32m<ipython-input-12-a12266eb1e33>\u001b[0m in \u001b[0;36m<module>\u001b[1;34m\u001b[0m\n\u001b[1;32m----> 1\u001b[1;33m \u001b[0mtrain_set\u001b[0m\u001b[1;33m,\u001b[0m \u001b[0mtest_set\u001b[0m\u001b[1;33m,\u001b[0m \u001b[0mtest_parameters\u001b[0m \u001b[1;33m=\u001b[0m \u001b[0mcreate_train_test_split\u001b[0m\u001b[1;33m(\u001b[0m\u001b[1;36m.5\u001b[0m\u001b[1;33m)\u001b[0m\u001b[1;33m\u001b[0m\u001b[1;33m\u001b[0m\u001b[0m\n\u001b[0m",
      "\u001b[1;32m<ipython-input-11-9911c9d303ff>\u001b[0m in \u001b[0;36mcreate_train_test_split\u001b[1;34m(frac_rem)\u001b[0m\n\u001b[0;32m      3\u001b[0m     \u001b[1;31m# train_set is copy of df --> df has review_profilename and Unique Beer Name as indicies\u001b[0m\u001b[1;33m\u001b[0m\u001b[1;33m\u001b[0m\u001b[1;33m\u001b[0m\u001b[0m\n\u001b[0;32m      4\u001b[0m     \u001b[1;31m# we are preserving user information by reseting indicies, so when we .loc[] we still have access to user and beer info\u001b[0m\u001b[1;33m\u001b[0m\u001b[1;33m\u001b[0m\u001b[1;33m\u001b[0m\u001b[0m\n\u001b[1;32m----> 5\u001b[1;33m     \u001b[0mtrain_set\u001b[0m \u001b[1;33m=\u001b[0m \u001b[0mdf\u001b[0m\u001b[1;33m.\u001b[0m\u001b[0mcopy\u001b[0m\u001b[1;33m(\u001b[0m\u001b[1;33m)\u001b[0m\u001b[1;33m.\u001b[0m\u001b[0mreset_index\u001b[0m\u001b[1;33m(\u001b[0m\u001b[1;33m)\u001b[0m\u001b[1;33m\u001b[0m\u001b[1;33m\u001b[0m\u001b[0m\n\u001b[0m\u001b[0;32m      6\u001b[0m     \u001b[0mtest_parameters\u001b[0m \u001b[1;33m=\u001b[0m \u001b[1;33m[\u001b[0m\u001b[1;33m]\u001b[0m\u001b[1;33m\u001b[0m\u001b[1;33m\u001b[0m\u001b[0m\n\u001b[0;32m      7\u001b[0m     \u001b[0mtest_set\u001b[0m \u001b[1;33m=\u001b[0m \u001b[0mpd\u001b[0m\u001b[1;33m.\u001b[0m\u001b[0mDataFrame\u001b[0m\u001b[1;33m(\u001b[0m\u001b[0mcolumns\u001b[0m \u001b[1;33m=\u001b[0m \u001b[0mtrain_set\u001b[0m\u001b[1;33m.\u001b[0m\u001b[0mcolumns\u001b[0m\u001b[1;33m)\u001b[0m\u001b[1;33m\u001b[0m\u001b[1;33m\u001b[0m\u001b[0m\n",
      "\u001b[1;31mNameError\u001b[0m: name 'df' is not defined"
     ]
    }
   ],
   "source": [
    "train_set, test_set, test_parameters = create_train_test_split(.5)"
   ]
  },
  {
   "cell_type": "code",
   "execution_count": 6,
   "metadata": {
    "id": "JNAJGDC3z5wQ"
   },
   "outputs": [],
   "source": [
    "def calc_score(metric, rec_dict, n_recs, test):\n",
    "    # test is a dataframe consisting of the user reviews to be used to determine relevancy\n",
    "    score = 0\n",
    "    index = 1\n",
    "    num_rel = 0\n",
    "    for user, recs in rec_dict.items():\n",
    "        \n",
    "        for rec in recs:\n",
    "\n",
    "            # we need to include Raise And Catch Exception when beer is not in test set\n",
    "            row = test.loc[(test.review_profilename == user) & (test[\"Unique Beer Name\"] == rec)]\n",
    "\n",
    "            # if rec in test_set and above threshold\n",
    "            if len(row) > 0:\n",
    "                if row[\"review_overall\"].iloc[0] >= THRESHOLD:\n",
    "                    num_rel += 1\n",
    "\n",
    "                    if metric == \"CG\":\n",
    "                        score += 1\n",
    "\n",
    "                    elif metric in [\"DCG\", 'NDCG']:\n",
    "                        score += (1 / math.log2(index + 1))\n",
    "\n",
    "                    elif metric == \"MAP\":\n",
    "                        score += num_rel / index\n",
    "\n",
    "                    else:\n",
    "                        raise Exception(\"Metric type provided is not valid.\")\n",
    "\n",
    "            if metric == 'NDCG':\n",
    "                ideal = 0\n",
    "                for num in range(num_rel):\n",
    "                    # num starts at 0, so we add two to mimic the starting index of 1\n",
    "                    ideal += (1 / math.log2(num + 2))\n",
    "                score = score / ideal\n",
    "\n",
    "            if metric == \"MAP\":\n",
    "                score = score / n_recs\n",
    "\n",
    "            index += 1\n",
    "            print(f\"{user} : {score}\")"
   ]
  },
  {
   "cell_type": "markdown",
   "metadata": {
    "id": "25KwCnRXs-UJ"
   },
   "source": [
    "# Node2Vec"
   ]
  },
  {
   "cell_type": "code",
   "execution_count": null,
   "metadata": {
    "colab": {
     "base_uri": "https://localhost:8080/",
     "height": 206
    },
    "id": "-bIiRJ5K6PeW",
    "outputId": "fe8f7f55-bbf6-4ea4-8ec9-d54d2cc34557"
   },
   "outputs": [
    {
     "data": {
      "text/html": [
       "\n",
       "  <div id=\"df-8ca19cc5-fff3-47cb-aee5-73cc6b20826b\">\n",
       "    <div class=\"colab-df-container\">\n",
       "      <div>\n",
       "<style scoped>\n",
       "    .dataframe tbody tr th:only-of-type {\n",
       "        vertical-align: middle;\n",
       "    }\n",
       "\n",
       "    .dataframe tbody tr th {\n",
       "        vertical-align: top;\n",
       "    }\n",
       "\n",
       "    .dataframe thead th {\n",
       "        text-align: right;\n",
       "    }\n",
       "</style>\n",
       "<table border=\"1\" class=\"dataframe\">\n",
       "  <thead>\n",
       "    <tr style=\"text-align: right;\">\n",
       "      <th></th>\n",
       "      <th>Style</th>\n",
       "      <th>Beer Name (Full)</th>\n",
       "      <th>Astringency</th>\n",
       "      <th>Body</th>\n",
       "      <th>Bitter</th>\n",
       "      <th>Sweet</th>\n",
       "      <th>Sour</th>\n",
       "      <th>Salty</th>\n",
       "      <th>Fruits</th>\n",
       "      <th>Hoppy</th>\n",
       "      <th>Spices</th>\n",
       "      <th>Malty</th>\n",
       "    </tr>\n",
       "  </thead>\n",
       "  <tbody>\n",
       "    <tr>\n",
       "      <th>0</th>\n",
       "      <td>Altbier</td>\n",
       "      <td>Alaskan Brewing Co. Alaskan Amber</td>\n",
       "      <td>13</td>\n",
       "      <td>32</td>\n",
       "      <td>47</td>\n",
       "      <td>74</td>\n",
       "      <td>33</td>\n",
       "      <td>0</td>\n",
       "      <td>33</td>\n",
       "      <td>57</td>\n",
       "      <td>8</td>\n",
       "      <td>111</td>\n",
       "    </tr>\n",
       "    <tr>\n",
       "      <th>1</th>\n",
       "      <td>Altbier</td>\n",
       "      <td>Long Trail Brewing Co. Double Bag</td>\n",
       "      <td>12</td>\n",
       "      <td>57</td>\n",
       "      <td>33</td>\n",
       "      <td>55</td>\n",
       "      <td>16</td>\n",
       "      <td>0</td>\n",
       "      <td>24</td>\n",
       "      <td>35</td>\n",
       "      <td>12</td>\n",
       "      <td>84</td>\n",
       "    </tr>\n",
       "    <tr>\n",
       "      <th>2</th>\n",
       "      <td>Altbier</td>\n",
       "      <td>Long Trail Brewing Co. Long Trail Ale</td>\n",
       "      <td>14</td>\n",
       "      <td>37</td>\n",
       "      <td>42</td>\n",
       "      <td>43</td>\n",
       "      <td>11</td>\n",
       "      <td>0</td>\n",
       "      <td>10</td>\n",
       "      <td>54</td>\n",
       "      <td>4</td>\n",
       "      <td>62</td>\n",
       "    </tr>\n",
       "    <tr>\n",
       "      <th>3</th>\n",
       "      <td>Altbier</td>\n",
       "      <td>Uerige Obergärige Hausbrauerei GmbH / Zum Ueri...</td>\n",
       "      <td>13</td>\n",
       "      <td>55</td>\n",
       "      <td>47</td>\n",
       "      <td>101</td>\n",
       "      <td>18</td>\n",
       "      <td>1</td>\n",
       "      <td>49</td>\n",
       "      <td>40</td>\n",
       "      <td>16</td>\n",
       "      <td>119</td>\n",
       "    </tr>\n",
       "    <tr>\n",
       "      <th>4</th>\n",
       "      <td>Altbier</td>\n",
       "      <td>Ninkasi Brewing Company Sleigh'r Dark Doüble A...</td>\n",
       "      <td>25</td>\n",
       "      <td>51</td>\n",
       "      <td>44</td>\n",
       "      <td>45</td>\n",
       "      <td>9</td>\n",
       "      <td>1</td>\n",
       "      <td>11</td>\n",
       "      <td>51</td>\n",
       "      <td>20</td>\n",
       "      <td>95</td>\n",
       "    </tr>\n",
       "  </tbody>\n",
       "</table>\n",
       "</div>\n",
       "      <button class=\"colab-df-convert\" onclick=\"convertToInteractive('df-8ca19cc5-fff3-47cb-aee5-73cc6b20826b')\"\n",
       "              title=\"Convert this dataframe to an interactive table.\"\n",
       "              style=\"display:none;\">\n",
       "        \n",
       "  <svg xmlns=\"http://www.w3.org/2000/svg\" height=\"24px\"viewBox=\"0 0 24 24\"\n",
       "       width=\"24px\">\n",
       "    <path d=\"M0 0h24v24H0V0z\" fill=\"none\"/>\n",
       "    <path d=\"M18.56 5.44l.94 2.06.94-2.06 2.06-.94-2.06-.94-.94-2.06-.94 2.06-2.06.94zm-11 1L8.5 8.5l.94-2.06 2.06-.94-2.06-.94L8.5 2.5l-.94 2.06-2.06.94zm10 10l.94 2.06.94-2.06 2.06-.94-2.06-.94-.94-2.06-.94 2.06-2.06.94z\"/><path d=\"M17.41 7.96l-1.37-1.37c-.4-.4-.92-.59-1.43-.59-.52 0-1.04.2-1.43.59L10.3 9.45l-7.72 7.72c-.78.78-.78 2.05 0 2.83L4 21.41c.39.39.9.59 1.41.59.51 0 1.02-.2 1.41-.59l7.78-7.78 2.81-2.81c.8-.78.8-2.07 0-2.86zM5.41 20L4 18.59l7.72-7.72 1.47 1.35L5.41 20z\"/>\n",
       "  </svg>\n",
       "      </button>\n",
       "      \n",
       "  <style>\n",
       "    .colab-df-container {\n",
       "      display:flex;\n",
       "      flex-wrap:wrap;\n",
       "      gap: 12px;\n",
       "    }\n",
       "\n",
       "    .colab-df-convert {\n",
       "      background-color: #E8F0FE;\n",
       "      border: none;\n",
       "      border-radius: 50%;\n",
       "      cursor: pointer;\n",
       "      display: none;\n",
       "      fill: #1967D2;\n",
       "      height: 32px;\n",
       "      padding: 0 0 0 0;\n",
       "      width: 32px;\n",
       "    }\n",
       "\n",
       "    .colab-df-convert:hover {\n",
       "      background-color: #E2EBFA;\n",
       "      box-shadow: 0px 1px 2px rgba(60, 64, 67, 0.3), 0px 1px 3px 1px rgba(60, 64, 67, 0.15);\n",
       "      fill: #174EA6;\n",
       "    }\n",
       "\n",
       "    [theme=dark] .colab-df-convert {\n",
       "      background-color: #3B4455;\n",
       "      fill: #D2E3FC;\n",
       "    }\n",
       "\n",
       "    [theme=dark] .colab-df-convert:hover {\n",
       "      background-color: #434B5C;\n",
       "      box-shadow: 0px 1px 3px 1px rgba(0, 0, 0, 0.15);\n",
       "      filter: drop-shadow(0px 1px 2px rgba(0, 0, 0, 0.3));\n",
       "      fill: #FFFFFF;\n",
       "    }\n",
       "  </style>\n",
       "\n",
       "      <script>\n",
       "        const buttonEl =\n",
       "          document.querySelector('#df-8ca19cc5-fff3-47cb-aee5-73cc6b20826b button.colab-df-convert');\n",
       "        buttonEl.style.display =\n",
       "          google.colab.kernel.accessAllowed ? 'block' : 'none';\n",
       "\n",
       "        async function convertToInteractive(key) {\n",
       "          const element = document.querySelector('#df-8ca19cc5-fff3-47cb-aee5-73cc6b20826b');\n",
       "          const dataTable =\n",
       "            await google.colab.kernel.invokeFunction('convertToInteractive',\n",
       "                                                     [key], {});\n",
       "          if (!dataTable) return;\n",
       "\n",
       "          const docLinkHtml = 'Like what you see? Visit the ' +\n",
       "            '<a target=\"_blank\" href=https://colab.research.google.com/notebooks/data_table.ipynb>data table notebook</a>'\n",
       "            + ' to learn more about interactive tables.';\n",
       "          element.innerHTML = '';\n",
       "          dataTable['output_type'] = 'display_data';\n",
       "          await google.colab.output.renderOutput(dataTable, element);\n",
       "          const docLink = document.createElement('div');\n",
       "          docLink.innerHTML = docLinkHtml;\n",
       "          element.appendChild(docLink);\n",
       "        }\n",
       "      </script>\n",
       "    </div>\n",
       "  </div>\n",
       "  "
      ],
      "text/plain": [
       "     Style                                   Beer Name (Full)  Astringency  \\\n",
       "0  Altbier                  Alaskan Brewing Co. Alaskan Amber           13   \n",
       "1  Altbier                  Long Trail Brewing Co. Double Bag           12   \n",
       "2  Altbier              Long Trail Brewing Co. Long Trail Ale           14   \n",
       "3  Altbier  Uerige Obergärige Hausbrauerei GmbH / Zum Ueri...           13   \n",
       "4  Altbier  Ninkasi Brewing Company Sleigh'r Dark Doüble A...           25   \n",
       "\n",
       "   Body  Bitter  Sweet  Sour  Salty  Fruits  Hoppy  Spices  Malty  \n",
       "0    32      47     74    33      0      33     57       8    111  \n",
       "1    57      33     55    16      0      24     35      12     84  \n",
       "2    37      42     43    11      0      10     54       4     62  \n",
       "3    55      47    101    18      1      49     40      16    119  \n",
       "4    51      44     45     9      1      11     51      20     95  "
      ]
     },
     "execution_count": 38,
     "metadata": {},
     "output_type": "execute_result"
    }
   ],
   "source": [
    "drop_cols = ['Name', 'Brewery', 'Description', 'Min IBU', 'Max IBU', 'Alcohol', 'review_aroma', \n",
    "             'review_appearance', 'review_palate', 'review_taste', 'review_overall', \n",
    "             'number_of_reviews', 'ABV']\n",
    "beer_profile = pd.read_csv(\"beer_profile_ratings.csv\", encoding=\"utf-8\")\n",
    "bp = beer_profile.drop(columns = drop_cols)\n",
    "bp.head()"
   ]
  },
  {
   "cell_type": "markdown",
   "metadata": {
    "id": "ibtWmUp1vHeA"
   },
   "source": [
    "Come back and add titles"
   ]
  },
  {
   "cell_type": "code",
   "execution_count": null,
   "metadata": {
    "colab": {
     "base_uri": "https://localhost:8080/",
     "height": 1000
    },
    "id": "JCGK4U2upvD9",
    "outputId": "cf2c0a4d-7a19-4f93-cf23-9f548bd824ee"
   },
   "outputs": [
    {
     "name": "stdout",
     "output_type": "stream",
     "text": [
      "1\n",
      "2\n",
      "3\n",
      "4\n",
      "5\n",
      "6\n",
      "7\n",
      "8\n",
      "9\n",
      "10\n"
     ]
    },
    {
     "data": {
      "text/html": [
       "<html>\n",
       "<head><meta charset=\"utf-8\" /></head>\n",
       "<body>\n",
       "    <div>            <script src=\"https://cdnjs.cloudflare.com/ajax/libs/mathjax/2.7.5/MathJax.js?config=TeX-AMS-MML_SVG\"></script><script type=\"text/javascript\">if (window.MathJax) {MathJax.Hub.Config({SVG: {font: \"STIX-Web\"}});}</script>                <script type=\"text/javascript\">window.PlotlyConfig = {MathJaxConfig: 'local'};</script>\n",
       "        <script src=\"https://cdn.plot.ly/plotly-2.8.3.min.js\"></script>                <div id=\"ff70774e-7afd-4087-ab07-d2ae9ba16b96\" class=\"plotly-graph-div\" style=\"height:1000px; width:1000px;\"></div>            <script type=\"text/javascript\">                                    window.PLOTLYENV=window.PLOTLYENV || {};                                    if (document.getElementById(\"ff70774e-7afd-4087-ab07-d2ae9ba16b96\")) {                    Plotly.newPlot(                        \"ff70774e-7afd-4087-ab07-d2ae9ba16b96\",                        [{\"name\":\"Astringency\",\"x\":[13,12,14,13,25,22,28,18,25,35,34,10,7,9,14,11,17,19,21,21,19,37,21,24,22,14,11,17,20,5,27,29,26,32,33,18,21,27,19,20,11,6,9,18,14,14,17,13,14,6,12,23,7,12,11,8,8,5,11,10,14,34,11,12,13,18,18,9,15,14,13,10,14,25,15,9,7,5,7,2,10,10,10,18,10,8,7,9,4,9,7,9,5,7,13,4,23,11,2,11,9,7,11,15,8,18,18,12,9,12,18,18,13,21,21,15,18,21,17,11,10,14,31,29,26,24,20,9,20,10,14,23,18,11,16,9,14,21,29,16,20,11,15,20,12,8,17,18,14,37,7,18,9,18,12,27,19,19,14,15,14,15,26,14,13,31,34,25,10,9,17,16,13,24,23,18,18,15,37,29,20,35,21,10,2,30,13,9,28,28,15,14,6,36,29,12,22,48,27,24,16,27,23,22,27,19,18,19,26,15,28,19,25,10,21,32,14,19,33,31,11,13,17,23,22,16,33,29,19,31,15,21,21,16,23,18,17,27,22,13,11,21,16,12,20,22,14,32,10,11,9,10,14,6,4,7,5,10,5,13,12,7,6,7,8,8,15,10,8,11,13,18,7,9,15,6,5,9,11,6,10,18,6,19,17,9,16,11,9,14,11,8,14,9,15,12,2,4,1,0,3,0,0,10,12,16,22,23,12,31,26,14,10,14,39,9,15,25,21,36,15,26,20,15,15,21,19,17,17,12,23,37,27,9,42,19,29,27,8,10,3,6,6,11,9,19,11,11,13,10,15,26,15,21,11,29,7,13,9,12,7,10,13,23,12,9,15,8,5,8,9,8,14,14,7,4,16,16,23,13,22,23,28,34,8,17,10,16,15,10,15,6,11,9,19,13,15,2,14,10,7,8,12,3,12,16,27,6,6,15,22,8,4,2,3,0,0,2,29,31,34,10,13,6,9,14,28,8,15,10,10,8,8,11,7,9,21,11,14,15,12,12,11,16,8,7,17,9,17,11,15,7,16,36,7,23,7,42,12,14,19,32,5,9,19,11,6,15,6,12,3,12,3,12,2,11,12,10,10,12,18,23,4,14,10,10,11,6,14,8,19,20,8,12,8,17,9,13,11,17,13,23,11,9,10,8,8,17,7,13,12,15,14,12,12,31,39,23,30,27,25,17,18,15,29,18,13,2,8,8,9,1,9,1,7,7,13,6,5,13,36,4,6,18,13,13,12,14,10,17,8,8,3,8,1,20,1,3,8,2,13,15,14,9,18,32,19,30,25,20,26,12,22,21,12,9,23,10,27,23,11,15,17,9,9,12,12,24,15,16,12,15,8,17,20,23,9,6,17,11,5,10,9,4,14,11,9,10,8,11,9,13,14,22,14,13,20,10,12,11,22,5,8,16,13,25,13,30,21,25,19,39,23,45,23,16,10,36,8,25,39,20,13,30,31,18,24,20,7,22,16,14,25,29,23,23,25,5,9,16,41,7,0,0,0,0,25,16,24,30,45,20,48,28,18,18,46,26,34,18,23,37,36,19,32,38,19,26,15,37,29,21,31,59,23,43,45,22,4,25,8,14,22,11,31,16,18,6,32,12,16,10,15,14,3,10,18,14,12,23,11,43,10,13,19,15,22,13,12,8,12,8,12,13,23,13,22,35,15,30,21,7,15,15,4,9,6,1,3,1,4,9,6,24,12,4,13,2,7,3,4,3,0,8,6,0,0,1,3,3,2,11,0,0,0,0,18,16,6,10,37,19,7,7,14,8,14,11,26,18,8,5,21,7,14,15,12,10,21,10,20,17,10,19,15,21,12,16,13,45,11,26,16,17,21,20,18,31,25,8,26,19,20,26,20,25,8,13,25,17,21,16,12,11,19,19,30,16,17,16,38,32,12,39,34,14,15,17,11,19,24,28,16,7,9,28,14,20,30,21,30,18,22,29,14,10,11,11,15,14,11,20,7,17,22,22,25,16,17,12,15,6,13,8,14,30,23,17,11,20,10,21,18,13,29,9,11,16,11,16,20,18,24,24,17,33,11,8,23,10,17,25,16,6,27,20,15,16,24,25,22,13,30,20,3,26,10,9,19,28,22,7,18,17,18,13,23,16,18,23,15,15,12,15,23,17,12,9,13,11,9,20,17,17,17,21,12,9,6,16,25,17,42,5,14,8,13,8,6,5,9,11,1,7,2,2,5,1,4,3,2,2,0,0,28,36,32,31,30,39,16,34,25,37,32,19,35,40,45,30,39,40,39,29,24,19,27,27,44,35,45,32,29,42,22,20,6,13,10,15,5,20,29,23,12,16,17,23,17,31,14,15,4,30,5,8,4,10,15,7,16,21,16,20,13,24,11,17,17,15,33,34,14,10,16,32,21,21,16,21,9,20,14,13,6,12,19,13,15,7,9,36,13,26,6,14,22,13,15,8,21,35,11,10,13,31,10,8,11,6,20,15,17,15,8,22,18,22,35,32,22,20,18,16,33,8,15,13,49,28,31,23,27,30,15,30,15,23,46,27,19,32,10,35,18,14,27,25,33,33,28,35,23,34,20,24,22,14,6,15,23,13,33,14,5,26,23,26,8,15,19,27,11,6,11,14,5,20,13,35,18,5,21,22,33,22,14,18,12,8,27,19,20,18,13,16,23,13,20,11,18,12,5,8,17,26,15,43,16,11,25,39,24,44,30,28,17,16,24,25,26,12,23,21,17,32,14,20,23,12,28,24,38,27,16,21,16,22,15,21,18,15,15,11,26,15,11,13,21,11,21,10,10,14,9,31,12,7,7,10,14,13,13,10,7,6,11,13,3,12,1,1,2,1,3,3,17,7,2,17,13,10,8,7,12,30,20,15,32,44,31,23,22,19,35,26,28,54,34,37,30,27,25,46,35,18,35,31,34,23,32,43,26,29,43,33,42,40,13,29,19,30,15,16,26,18,39,54,31,38,23,19,31,23,32,4,2,5,18,12,7,6,1,0,1,7,0,2,27,20,21,22,24,36,15,13,35,32,36,34,23,18,35,13,10,18,23,17,9,13,14,15,15,7,21,19,25,16,13,15,24,17,21,16,24,33,23,0,18,3,10,15,23,12,7,12,24,23,25,22,9,18,25,10,4,10,20,9,20,5,11,21,22,9,9,9,11,29,18,14,21,15,8,7,15,11,12,7,7,11,5,18,16,9,6,3,7,14,14,8,16,17,11,17,21,13,16,22,22,25,10,18,25,19,21,9,25,12,10,13,18,19,31,19,8,20,10,21,13,18,17,13,13,27,30,16,16,24,25,16,17,9,16,17,12,43,31,17,17,13,7,18,19,18,6,12,40,19,13,11,15,15,8,19,27,22,13,16,19,14,16,8,11,18,6,10,15,6,13,16,13,15,19,12,16,29,3,3,2,4,10,11,6,6,8,3,16,26,8,28,19,22,9,13,14,24,31,21,7,17,21,10,21,23,16,14,20,15,31,13,20,18,12,18,8,14,17,16,14,7,30,17,10,11,25,14,4,24,16,26,19,14,24,12,21,25,16,24,26,19,20,13,12,19,23,12,29,26,8,16,7,15,27,12,24,27,13,10,3,3,0,0,21,21,25,29,48,23,37,26,22,38,11,28,39,37,30,14,28,26,30,40,26,14,34,45,24,60,57,51,54,38,30,53,15,22,49,76,60,20,20,57,6,35,32,59,53,31,44,23,34,35,35,41,47,33,31,48,81,31,12,63,23,51,34,42,26,15,6,69,29,21,55,33,33,22,15,14,16,6,6,14,2,10,12,18,9,6,2,5,4,7,1,22,15,9,6,17,18,22,20,18,5,22,13,22,5,8,4,7,12,7,8,16,17,11,24,14,11,14,4,2,4,0,2,11,26,15,25,12,12,12,6,15,7,8,15,13,11,7,6,4,2,4,9,7,4,22,7,5,8,5,1,15,13,17,8,26,13,12,3,1,2,10,3,6,4,8,8,0,4,3,12,13,11,10,13,3,5,8,2,10,6,8,4,21,6,9,7,12,16,7,10,9,5,13,7,17,18,15,8,15,38,11,22,21,28,33,9,14,38,28,12,19,38,21,24,10,22,14,28,14,18,24,39,15,22,27,32,9,24,23,17,29,8,29,26,24,19,38,21,17,25,25,26,17,10,25,33,15,29,26,14,21,19,13,45,26,41,20,21,18,25,37,9,7,21,13,26,11,24,17,5,8,20,26,9,20,13,9,13,26,24,24,35,17,15,15,19,12,12,10,16,9,38,24,21,18,15,19,11,7,20,21,36,24,18,66,37,27,28,13,24,38,26,39,39,28,21,31,37,25,35,24,19,37,40,32,26,36,42,22,38,34,37,25,31,33,43,32,25,29,35,19,39,37,38,56,39,26,35,19,34,23,24,18,31,42,24,51,38,32,30,46,30,5,77,29,47,17,47,14,14,17,18,14,37,18,14,36,28,30,16,16,25,24,22,8,15,17,20,19,4,12,6,6,17,7,10,18,5,4,15,5,13,19,21,14,11,15,13,4,3,6,3,13,22,5,12,15,9,12,7,13,8,9,14,10,5,16,14,5,10,9,4,8,20,31,11,12,17,19,8,11,7,17,20,13,15,11,13,25,15,9,9,12,9,10,10,13,13,20,9,17,23,13,10,20,9,14,13,14,15,14,19,12,20,10,19,15,3,10,16,10,9,23,25,17,2,18,7,14,12,9,5,5,8,14,4,5,5,5,3,7,4,3,8,7,13,13,13,19,13,5,9,19,16,22,8,13,11,16,30,19,13,4,17,3,11,15,6,13,9,2,14,14,9,19,5,3,22,6,6,12,8,7,7,15,1,10,4,12,2,1,6,13,19,7,4,16,13,9,10,7,4,11,4,5,9,9,38,9,11,11,13,10,4,5,14,4,9,3,8,11,17,12,20,5,10,5,10,6,19,13,9,6,6,14,12,13,5,11,9,6,7,7,10,8,11,10,6,8,8,7,11,10,14,17,4,26,10,14,16,9,22,17,21,7,13,10,20,24,12,19,7,20,11,6,10,15,15,22,14,15,19,12,14,9,19,16,8,28,14,14,9,14,17,12,15,12,17,20,10,16,10,16,14,16,17,9,32,18,7,9,5,17,22,11,15,12,12,11,9,23,13,17,24,4,14,17,15,35,18,18,8,5,21,20,11,12,14,24,10,18,16,19,23,10,11,22,26,27,18,8,8,5,2,2,0,2,0,0,0,6,6,14,11,11,16,8,10,20,18,20,28,22,40,16,26,18,19,18,17,10,21,1,6,6,7,4,7,3,6,9,9,11,4,4,6,6,9,13,8,7,10,8,8,6,14,12,5,13,8,7,18,12,6,9,13,7,9,7,21,2,15,10,5,7,7,14,9,12,14,15,21,19,18,22,7,16,9,11,11,23,12,22,4,16,13,7,4,8,9,14,7,14,8,8,17,14,29,21,8,7,11,28,14,14,10,14,12,9,12,14,13,4,24,4,10,10,4,1,25,39,38,48,43,37,22,39,49,41,23,21,28,30,43,57,24,39,25,39,30,48,51,65,52,24,54,5,27,28,30,28,41,66,18,17,46,56,33,30,43,32,37,37,32,60,45,30,23,32,27,49,42,10,38,44,47,9,5,4,20,6,8,3,6,16,3,13,7,16,6,11,5,3,22,5,3,15,13,4,11,6,9,8,11,5,10,3,3,7,7,6,9,8,13,9,9,7,10,18,23,15,14,14,5,9,13,20,5,14,18,6,12,21,5,8,13,11,24,13,15,10,21,24,7,24,21,20,11,5,20,21,21,11,4,12,18,15,18,17,10,11,5,3,9,15,14,18,20,4,8,20,5,10,10,17,5,17,12,32,22,12,15,24,13,27,12,20,3,19,15,14,19,22,16,23,10,3,12,10,16,6,13,18,12,29,15,21,21,27,23,16,32,8,18,14,19,18,16,17,26,41,28,20,19,19,36,15,23,43,22,30,27,33,23,30,12,16,40,20,43,7,33,16,17,29,11,8,13,15,2,10,12,11,2,4,18,10,9,14,10,8,7,8,12,15,12,13,13,8,7,4,14,15,8,8,15,16,20,11,7,12,3,5,13,2,11,6,7,9,6,5,4,10,4,10,5,11,12,6,8,9,18,3,7,10,11,7,6,2,13,11,10,16,7,6,9,11,12,5,5,6,20,5,2,8,6,5,7,3,9,3,11,11,8,6,7,8,13,6,5,12,10,12,8,8,16,12,10,12,7,23,10,7,12,15,14,6,14,8,11,6,7,4,10,6,5,4,10,4,8,9,11,10,6,9,13,20,8,13,13,6,12,13,15,9,6,10,12,13,17,8,13,10,17,6,14,11,10,16,13,6,19,20,19,20,17,23,11,9,13,21,21,12,13,11,15,23,12,14,26,20,24,23,32,22,10,29,10,12,16,24,21,6,30,18,13,31,15,15,13,10,21,22,9,11,16,12,7,10,6,4,17,17,27,8,16,9,12,9,6,14,15,10,15,18,11,18,17,15,11,8,11,10,16,8,12,12,17,14,3,13,15,18,30,15,23,20,19,13,25,19,4,28,16,21,13,15,21,17,15,24,5,30,19,7,23,16,22,11,10,20,18,24,8,13,26,21,8,18,15,8,19,2,7,4,4,1,5,17,3,0,1,0,10,23,27,15,16,9,29,16,32,13,16,11,19,17,24,31,14,15,14,15,15,33,12,16,37,22,18,19,28,18,17,21,21,10,14,10,23,10,9,7,18,4,17,14,14,15,11,8,9,15,17,9,7,16,14,22,17,17,11,16,5,24,15,20,9,5,10,27,14,16,20,10,12,17,7,13,12,12,12,13,19,20,21,19,11,18,20,10,10,26,13,10,19,14,20,11,25,15,29,7,15,15,13,11,22,21,9,21,12,22,18,30,17,22,28,19,32,39,12,33,27,15,18,17,16,8,11,5,7,10,9,4,3,0,11,10,1,7,10,25,11,9,18,6,8,4,10,17,11,18,4,0,6,25,14,6,14,6,17,37,17,16,15,22,16,11,5,18,16,31,19,22,23,24,6,19,23,20,11,18,14,20,14,22,19,26,19,21,22,31,42,28,16,48,33,24,49,20,20,37,43,52,48,38,46,33,13,29,23,18,46,6,9,7,17,6,3,6,3,7,14,12,12,7,7,6,8,11,7,15,10,7,10,4,8,10,6,12,8,14,13,20,3,13,7,9,15,15,8,11,8],\"type\":\"histogram\",\"xaxis\":\"x2\",\"yaxis\":\"y2\"},{\"name\":\"Body\",\"x\":[32,57,37,55,51,45,40,49,35,31,48,19,30,32,55,58,41,42,43,72,43,50,27,36,38,53,67,57,36,48,39,30,37,64,54,55,39,61,57,55,65,55,49,71,49,58,74,51,55,39,62,54,47,44,60,34,47,65,68,69,57,41,75,71,58,67,70,57,73,50,41,53,66,55,72,59,62,51,56,44,66,62,45,56,72,43,47,54,62,38,48,53,58,83,63,51,99,55,62,77,48,57,51,59,44,37,26,27,42,56,32,57,55,43,48,39,48,59,41,58,34,31,59,54,60,63,56,69,46,32,59,40,62,89,46,48,35,49,43,22,69,38,60,39,83,50,40,61,41,35,73,49,59,52,41,50,47,38,96,40,85,59,42,56,36,51,49,57,91,31,45,49,47,58,60,44,60,25,27,45,78,31,48,12,3,19,38,25,37,34,41,17,12,31,41,17,40,42,38,26,22,38,44,31,34,46,41,31,32,23,35,33,30,24,21,34,23,28,46,33,31,38,37,53,31,29,35,38,46,52,38,27,32,43,47,38,25,35,34,21,34,42,40,11,24,44,27,34,18,63,43,31,72,52,30,71,62,44,63,62,69,72,67,53,70,54,89,106,46,44,64,62,77,49,87,100,59,57,77,55,43,96,42,82,60,54,52,82,119,47,58,66,79,49,59,58,15,5,5,7,7,12,0,47,30,36,34,26,51,44,68,33,47,33,36,53,54,53,47,59,38,42,24,32,42,50,54,59,42,50,57,38,47,37,68,34,42,48,29,26,99,27,117,39,127,61,50,41,39,38,58,50,30,60,88,136,55,44,54,74,67,41,41,47,40,74,50,55,49,53,31,62,73,53,31,32,52,90,53,68,69,64,90,46,63,59,48,46,65,66,54,45,69,58,58,47,37,23,41,15,15,33,42,17,43,40,32,70,45,20,39,30,8,29,5,0,0,3,33,42,33,42,52,66,52,37,87,72,70,48,75,103,43,37,53,59,49,63,68,71,52,60,62,59,57,38,74,86,66,57,45,29,44,58,85,60,35,50,65,31,50,52,45,35,55,46,29,66,37,55,12,26,22,54,7,55,87,53,42,53,87,74,36,38,66,31,80,66,64,48,34,72,62,55,45,58,49,54,48,83,55,49,69,30,62,96,54,60,43,100,44,62,65,51,84,35,70,53,56,40,31,20,40,48,32,29,27,37,29,22,18,10,14,9,2,70,30,17,44,22,33,11,40,21,33,11,16,10,22,36,35,27,91,15,8,23,8,20,16,9,51,70,63,103,48,48,40,50,68,55,75,67,51,66,57,56,42,96,56,49,63,65,86,61,38,29,38,47,50,33,47,54,44,31,46,40,42,52,36,42,41,44,30,39,35,58,48,57,40,47,66,53,39,42,46,48,65,29,32,50,49,54,55,40,42,31,34,27,32,37,30,28,33,37,36,47,34,41,48,31,52,45,39,39,45,59,54,40,19,38,51,36,43,45,43,52,32,35,56,46,41,18,0,0,0,0,27,37,29,39,44,31,35,41,39,34,30,32,33,35,30,24,31,33,23,37,64,39,19,46,42,38,39,38,40,41,32,23,9,32,23,37,34,30,27,29,31,37,34,28,28,20,25,19,18,27,60,10,29,18,27,14,24,20,28,20,19,13,26,17,36,27,27,87,27,46,63,32,79,28,57,52,37,61,23,23,14,7,7,4,14,9,8,44,16,13,16,9,7,7,10,17,4,14,7,2,2,3,6,4,7,9,0,0,0,0,33,24,18,30,23,39,25,24,23,42,38,106,22,32,31,103,28,44,51,38,44,31,38,40,34,26,44,38,32,34,28,16,27,37,24,54,41,26,27,21,38,21,36,25,37,47,46,45,23,30,54,34,44,21,27,24,48,32,39,26,29,33,40,33,51,33,27,36,29,39,20,32,34,35,47,38,52,11,22,56,64,32,46,35,43,40,44,76,50,54,51,45,82,63,45,94,45,86,75,64,72,63,59,42,69,57,60,87,71,72,70,31,29,33,21,30,50,41,51,30,32,48,33,42,35,48,60,34,40,51,38,23,56,31,23,44,39,27,53,33,52,44,37,40,34,57,42,34,15,29,34,43,31,30,38,49,55,45,40,25,36,37,31,34,43,24,31,31,46,46,39,50,33,34,42,38,43,49,32,37,33,13,19,42,30,31,45,49,42,34,19,32,21,22,15,15,10,21,7,7,15,8,8,8,4,4,3,1,33,34,25,20,39,44,41,40,34,32,34,27,42,33,21,39,38,27,24,55,28,34,25,55,39,31,36,47,31,44,40,29,17,19,15,16,25,35,20,19,20,22,30,14,26,36,29,29,19,17,24,16,18,19,20,18,27,17,24,25,25,41,33,28,20,17,26,23,24,15,19,22,18,34,18,24,23,27,30,24,25,28,38,36,27,22,17,35,29,33,31,28,39,29,49,38,32,40,45,30,35,35,38,26,34,36,40,43,40,27,38,25,15,23,26,33,17,29,17,20,37,9,24,27,32,24,23,26,28,31,27,43,25,48,41,24,20,25,16,26,31,32,42,50,26,43,25,41,31,43,51,35,32,31,15,15,41,32,37,35,21,31,25,40,23,29,16,22,55,20,68,39,34,38,40,85,43,33,99,81,59,54,66,73,42,51,92,55,56,56,58,68,36,47,44,68,34,71,33,14,19,30,19,35,27,23,13,33,23,32,40,26,16,16,22,41,30,21,26,20,25,28,25,25,25,28,25,30,28,27,22,31,21,21,20,25,25,22,21,14,23,22,30,23,44,39,33,27,35,35,36,43,43,21,26,27,27,37,26,9,28,29,20,17,24,27,19,12,6,33,30,6,26,35,4,35,32,27,23,15,33,32,49,24,35,48,30,27,29,23,18,38,41,32,19,33,29,17,30,29,40,24,30,30,46,15,28,34,32,37,35,48,33,25,27,35,42,25,45,40,28,34,12,23,30,32,24,22,22,31,26,9,0,2,10,13,7,9,0,0,4,19,0,2,51,34,55,47,42,47,34,52,57,73,51,54,67,31,39,15,9,14,20,26,9,18,15,28,16,27,26,18,32,33,16,13,32,27,31,24,35,18,27,4,24,24,22,12,21,29,14,17,29,26,31,31,16,16,22,22,6,24,21,29,50,26,31,31,36,19,39,29,37,43,41,34,19,30,21,28,28,25,19,25,29,60,24,40,18,33,20,15,29,57,43,31,95,57,60,45,44,61,43,43,55,60,37,52,51,65,52,31,49,85,67,36,68,50,63,53,34,45,14,52,57,81,54,45,42,44,30,36,48,41,32,22,31,38,32,60,31,54,36,46,28,34,30,46,39,38,21,37,35,33,38,35,37,40,23,43,35,36,36,42,61,38,38,33,50,90,47,43,66,34,38,69,46,49,33,84,45,56,11,30,11,12,32,29,13,26,9,15,57,80,47,69,43,74,59,70,53,58,73,78,61,47,69,67,72,70,129,98,101,86,88,57,66,72,77,81,67,83,25,37,32,30,38,26,16,35,37,38,24,30,33,39,41,45,30,54,26,28,45,40,61,35,26,39,34,43,43,31,58,46,38,27,10,10,41,58,35,37,17,20,10,4,2,0,17,50,36,37,36,22,30,23,28,33,21,15,31,20,25,19,42,20,34,18,22,34,41,38,32,41,28,32,28,29,25,29,19,28,33,32,35,27,33,35,25,50,23,31,36,23,34,23,32,31,41,38,27,24,29,41,40,32,20,55,38,23,30,36,38,7,16,34,23,38,33,43,43,22,30,17,21,14,7,12,2,2,6,10,13,11,2,9,1,6,1,26,32,25,13,19,21,32,43,26,30,38,24,23,28,17,17,30,31,15,14,16,22,19,13,22,12,17,22,12,8,5,10,57,46,116,48,73,68,79,59,112,82,59,79,48,47,50,26,28,34,11,59,49,33,65,42,38,30,25,15,64,35,33,14,35,11,7,27,8,0,23,17,15,7,5,10,9,4,11,39,40,72,104,61,37,67,61,72,36,79,86,56,39,35,71,42,79,57,128,47,44,88,59,63,48,69,47,116,73,58,43,36,80,34,47,29,25,43,42,25,27,29,14,31,42,23,26,39,27,13,26,37,41,27,30,35,21,37,23,29,34,34,43,36,47,47,45,26,38,30,24,46,20,41,27,44,33,26,45,36,38,36,35,42,33,34,26,41,34,46,39,27,15,48,38,24,30,38,31,21,25,42,32,18,27,23,20,101,36,36,37,36,57,34,29,29,48,43,30,42,49,50,51,44,46,49,39,46,36,37,40,20,33,44,41,23,30,22,15,32,30,36,33,28,30,28,25,35,27,54,24,25,39,27,39,34,38,44,30,32,28,26,17,26,31,26,23,17,21,29,32,24,37,21,23,32,25,29,25,46,42,24,11,32,36,17,32,20,27,28,34,25,11,43,22,20,21,38,37,44,65,46,25,50,46,42,46,40,39,44,48,48,33,46,20,18,23,94,88,39,101,55,93,134,60,52,95,61,45,62,75,26,95,94,88,77,76,73,81,77,79,28,66,66,141,83,100,72,70,47,103,91,111,124,66,54,108,94,82,80,95,92,118,103,104,90,100,122,110,39,87,121,128,121,80,99,96,108,97,73,54,103,91,130,79,66,98,73,90,91,75,53,69,90,41,93,77,141,90,84,85,47,117,100,74,64,54,76,82,74,57,86,92,77,152,73,117,88,94,99,88,58,91,111,122,129,110,89,55,58,86,95,78,96,89,91,108,88,115,87,108,88,92,112,90,114,134,104,77,94,114,156,44,93,35,87,69,54,97,115,79,112,96,80,104,91,44,70,66,79,90,80,87,105,73,41,29,18,93,7,46,24,44,26,42,14,23,23,37,33,40,54,47,41,24,37,53,43,40,31,29,87,26,48,32,53,63,36,47,36,37,57,47,36,44,44,68,46,43,56,40,74,48,48,45,43,59,45,30,52,54,71,55,47,50,60,49,51,53,56,166,62,40,65,53,19,44,32,59,64,27,33,32,45,23,38,23,46,47,41,49,34,40,23,55,64,34,46,42,51,36,46,54,52,46,56,47,22,41,39,48,48,42,48,57,66,55,55,65,51,41,42,62,55,37,55,12,57,32,32,18,66,34,43,26,40,35,69,21,31,60,37,53,48,22,39,45,46,62,47,57,87,17,33,51,32,30,38,43,35,47,45,55,43,34,36,36,47,47,24,23,25,7,30,5,4,9,7,0,3,11,22,30,51,52,39,42,48,37,37,44,92,65,32,44,50,30,36,41,31,35,32,41,44,57,43,57,64,33,40,44,29,46,57,36,66,84,47,67,54,55,56,80,43,36,67,66,64,62,43,68,46,61,57,38,89,59,58,41,48,24,43,27,40,42,28,62,37,40,52,49,58,55,41,55,48,94,45,40,85,63,67,45,34,84,46,16,17,47,32,71,69,74,101,64,42,48,64,97,93,111,48,53,87,25,66,37,94,68,51,110,38,32,48,16,28,24,16,1,21,33,29,24,33,27,34,23,46,29,42,32,38,44,30,48,34,30,32,64,51,38,48,35,54,41,71,12,44,10,32,34,48,59,26,26,41,32,30,35,40,36,26,58,46,42,38,41,28,37,47,39,26,19,33,39,33,114,69,101,82,65,97,116,70,120,153,92,76,85,83,74,69,70,76,103,50,138,119,139,109,82,87,88,73,108,68,101,80,141,111,130,72,88,73,91,69,112,77,79,91,83,111,158,154,91,72,79,65,71,86,78,76,71,99,80,95,77,105,89,101,67,105,70,100,104,108,99,63,26,92,102,115,72,83,76,89,101,111,93,83,59,45,24,68,94,71,92,120,81,40,70,65,67,63,109,59,84,95,112,106,118,87,98,88,96,100,115,52,86,93,93,97,90,110,90,79,52,93,46,105,34,51,77,52,80,98,74,73,93,62,95,69,94,90,84,94,77,77,84,89,105,78,75,80,100,87,85,92,84,65,128,108,73,78,106,87,90,77,106,100,26,58,65,51,90,96,95,107,111,120,87,57,89,67,110,102,72,103,64,89,132,125,81,96,145,90,57,108,67,97,71,82,83,100,93,99,105,175,87,74,107,69,85,122,75,92,82,88,137,134,85,80,106,72,116,87,101,75,113,101,115,144,115,95,147,86,104,76,66,73,94,126,83,110,89,153,89,89,124,107,134,126,135,109,155,85,112,102,115,85,39,33,58,44,60,93,57,61,52,94,45,132,21,40,50,57,58,35,59,37,73,59,50,32,75,60,19,34,66,59,83,56,38,44,47,41,46,35,29,44,95,40,49,52,32,48,43,47,58,52,66,36,42,57,55,39,60,52,59,47,55,72,45,52,31,62,32,37,60,51,41,61,60,31,21,23,39,23,40,48,30,32,37,27,41,19,38,49,47,41,27,48,48,37,26,23,44,24,48,30,35,37,20,33,38,25,56,36,49,36,40,26,33,40,60,63,57,58,53,34,46,55,52,69,42,42,45,82,47,82,55,44,47,53,68,48,51,63,69,68,34,60,54,56,46,41,88,62,41,30,53,40,42,44,30,33,45,29,34,46,37,38,30,36,42,35,30,28,32,38,29,35,45,30,32,40,35,68,30,36,43,41,51,22,54,46,67,59,60,35,14,52,13,6,29,13,13,11,34,8,3,4,0,29,22,45,16,24,36,25,18,37,19,32,27,37,36,36,42,32,28,26,35,20,36,32,42,46,30,34,31,52,32,35,29,67,30,48,49,50,54,45,58,70,41,54,69,40,52,71,35,55,48,76,51,33,39,51,35,63,40,34,32,26,61,33,46,41,26,40,37,45,57,23,47,28,26,19,36,68,41,29,46,40,31,36,61,27,18,43,32,64,38,36,29,43,30,50,29,27,37,27,20,28,36,36,23,41,49,50,57,38,38,39,29,38,45,40,42,41,49,32,49,38,36,47,28,40,13,5,11,13,11,9,6,8,0,10,7,4,60,48,52,44,75,49,58,59,36,43,14,65,45,30,4,35,40,24,15,29,22,33,36,48,32,28,33,32,27,47,13,52,30,28,41,18,43,31,40,29,31,25,32,35,33,30,50,23,47,38,32,38,28,29,21,30,26,23,36,28,27,25,22,32,46,47,39,28,38,26,59,27,21,63,35,33,50,55,31,31,34,48,36,31,82,29,52,49,60,37,77,59,47,59,47,42,74,69,51,40,45,41,44,62,112,92,62,64,67,37,31,44,36,50],\"type\":\"histogram\",\"xaxis\":\"x\",\"yaxis\":\"y\"},{\"name\":\"Bitter\",\"x\":[47,33,42,47,44,46,40,37,38,35,55,21,43,29,48,47,55,54,54,48,39,60,37,59,47,69,35,96,76,54,47,72,65,47,52,51,40,56,42,56,40,107,78,90,47,52,66,88,66,25,38,70,64,70,67,29,14,60,80,66,86,86,89,57,38,43,85,26,78,67,61,53,61,90,79,45,56,24,19,29,37,56,16,32,28,22,24,11,13,23,23,27,24,58,34,10,65,36,57,35,37,29,29,41,49,55,74,57,30,54,50,77,59,45,83,46,92,61,66,60,44,54,112,90,102,105,52,52,73,45,87,58,62,111,65,97,53,58,62,51,74,65,65,37,58,45,54,77,67,66,33,94,37,73,49,58,71,70,40,79,74,68,74,61,53,64,88,67,58,44,79,60,54,52,83,86,95,7,39,16,17,21,18,10,1,61,54,31,62,29,34,24,20,43,28,28,22,71,31,43,25,51,55,34,41,36,33,33,32,17,102,36,27,36,29,29,13,20,44,74,19,24,24,28,20,20,28,39,53,23,27,19,30,27,24,28,33,27,37,17,21,24,26,9,21,28,21,25,13,16,23,21,30,16,22,31,124,26,53,25,26,32,30,19,30,15,62,33,35,30,26,20,31,50,58,32,18,35,34,21,29,49,24,32,23,39,29,37,57,26,13,25,18,23,15,23,4,2,8,3,2,5,0,49,29,40,43,24,36,52,62,53,8,38,42,35,65,40,38,39,31,42,49,16,62,35,37,38,44,53,30,40,32,41,95,28,49,54,33,26,35,16,25,27,30,47,31,20,18,40,35,41,21,23,39,75,10,39,34,48,39,23,23,34,31,44,38,25,34,19,33,57,17,11,13,35,10,25,43,17,20,21,33,53,19,14,10,79,47,34,9,24,16,18,22,24,19,2,11,24,5,8,19,3,22,16,14,9,22,12,8,10,4,29,2,3,0,1,10,83,44,82,34,32,49,51,139,92,43,40,62,106,25,19,12,18,61,24,66,93,29,60,67,65,29,20,98,24,59,26,18,18,24,20,38,31,18,28,33,12,20,2,15,18,17,25,18,44,6,17,4,11,14,19,6,25,54,49,24,44,76,33,15,23,57,35,60,19,54,57,34,50,53,46,36,54,18,24,29,64,25,35,36,15,41,67,42,111,22,28,37,50,57,27,29,41,43,133,44,47,78,55,45,71,32,37,28,28,33,21,24,11,16,11,11,35,32,26,26,11,12,9,10,11,9,9,18,7,13,14,7,19,29,2,7,19,10,15,4,5,9,25,17,21,22,35,11,32,26,5,51,4,20,45,17,24,21,37,43,6,28,17,30,24,15,10,13,23,25,27,25,37,22,11,15,31,20,17,20,23,20,19,17,12,25,33,26,22,6,27,24,16,28,17,18,18,13,17,16,20,27,23,16,29,13,9,29,6,39,28,7,9,20,27,17,29,35,19,33,27,29,43,14,15,20,35,36,27,7,36,13,22,19,34,16,13,41,16,38,11,13,12,0,0,0,0,28,39,20,25,43,33,29,18,21,15,19,22,11,25,49,17,10,18,10,31,27,29,20,39,9,25,37,69,25,37,19,31,7,7,6,12,9,11,17,8,4,17,8,6,1,8,4,21,4,9,5,9,9,16,13,17,5,7,3,8,12,7,21,7,7,7,28,43,18,26,42,32,27,32,42,22,36,50,12,33,7,6,7,2,7,3,1,18,15,6,11,4,2,9,6,8,3,8,13,4,1,1,2,4,2,5,0,0,0,0,15,12,16,53,4,7,10,24,22,11,38,56,4,26,19,24,17,8,44,19,19,57,19,18,69,56,57,66,58,44,64,38,61,80,57,64,62,44,70,70,75,60,71,68,68,76,78,60,53,79,48,68,75,78,67,53,71,40,77,84,69,53,63,53,82,75,47,57,88,73,32,89,53,61,68,72,61,55,39,65,61,86,76,57,105,71,62,89,95,103,82,82,144,68,84,145,79,148,101,120,113,90,53,31,113,89,100,114,130,124,106,74,51,73,73,53,80,56,85,62,61,92,46,62,74,64,98,64,57,79,73,43,96,57,30,58,79,64,57,89,52,78,107,59,63,77,106,80,44,58,48,55,97,84,53,40,64,79,45,59,62,76,67,78,84,59,99,53,73,61,53,56,70,67,54,80,92,65,82,95,72,67,38,91,68,68,55,28,22,15,11,17,8,6,5,7,10,14,4,0,3,1,3,4,1,2,1,0,33,32,29,29,42,25,24,34,30,34,45,32,32,38,36,32,41,18,21,50,37,40,34,43,46,30,30,66,29,58,38,32,15,8,13,8,14,10,17,21,7,15,25,12,15,7,13,9,9,28,16,23,7,22,21,11,22,15,17,18,20,19,17,29,29,8,12,22,15,13,24,26,18,16,14,20,26,65,24,24,7,39,34,41,18,19,22,33,20,38,20,41,42,28,49,26,43,71,30,28,40,41,39,20,19,27,35,33,43,36,39,32,7,24,35,41,21,39,16,25,41,13,40,25,51,22,17,47,32,50,20,61,29,52,57,35,18,44,14,47,25,23,38,36,33,53,34,43,40,54,50,32,53,28,26,26,38,25,61,25,22,28,36,46,19,20,15,34,27,14,40,25,35,28,31,75,27,14,25,82,60,34,37,64,23,42,59,49,51,22,45,69,64,25,35,65,15,69,29,20,29,28,13,42,21,34,21,19,26,49,24,38,26,23,36,44,31,23,33,37,15,33,21,25,26,29,29,29,27,36,24,31,16,24,25,22,40,21,31,16,16,35,41,21,21,24,22,29,10,23,33,87,20,12,27,16,24,22,17,27,13,22,19,15,24,22,18,11,11,9,13,9,18,26,5,24,17,18,12,14,26,37,39,29,42,83,18,33,31,30,40,34,43,35,32,30,37,38,48,45,49,26,46,28,42,18,33,41,34,36,48,32,38,31,25,48,26,87,70,62,75,72,55,26,18,28,14,25,25,21,28,11,1,3,8,8,10,6,1,0,4,17,0,5,40,31,36,44,49,35,26,36,77,64,34,44,67,28,53,11,7,18,14,20,3,11,7,6,19,10,36,18,20,21,6,15,30,18,25,9,26,16,26,2,22,6,18,9,16,16,14,10,24,26,22,22,24,10,14,16,3,18,20,34,17,8,12,28,19,13,23,17,19,23,18,17,16,13,12,20,7,11,14,11,17,18,12,8,10,10,2,12,21,48,38,31,48,21,44,39,30,24,42,44,28,42,30,38,35,43,37,18,29,45,55,35,31,42,52,37,22,42,10,37,35,41,38,47,35,40,31,41,20,30,26,26,32,30,41,60,39,35,42,47,26,29,21,35,39,30,16,36,41,30,25,27,37,34,15,36,43,32,35,25,43,30,25,30,20,53,25,14,55,15,27,38,26,21,20,45,24,22,6,3,3,5,10,19,8,15,2,5,45,59,52,48,31,69,58,43,40,58,68,83,46,34,56,47,40,61,143,28,89,48,70,41,52,45,40,58,52,71,41,39,28,31,41,42,9,42,31,51,8,37,35,46,40,38,26,35,34,26,28,48,70,27,28,24,30,27,55,30,39,33,27,22,13,25,44,17,7,10,5,2,1,1,2,0,4,5,2,6,5,2,10,4,3,4,1,5,2,10,5,6,4,4,0,2,4,2,8,9,1,0,1,5,10,12,7,3,1,7,2,3,6,8,5,3,5,0,14,10,17,5,8,3,13,8,14,12,22,20,9,14,6,8,3,11,10,14,14,18,9,15,1,90,13,17,16,9,19,3,8,5,0,2,1,1,0,3,0,12,3,1,0,2,4,1,1,20,33,17,5,16,31,38,118,23,9,40,36,46,14,6,16,33,24,4,12,18,25,21,30,12,9,25,19,8,3,4,3,35,22,66,46,33,33,45,40,49,45,54,60,40,40,23,21,14,21,5,35,21,22,39,17,17,15,20,10,56,35,30,32,64,23,10,11,6,4,13,3,15,22,20,14,6,2,18,50,37,50,56,30,25,35,35,25,40,22,41,18,31,31,37,25,33,31,44,20,39,35,42,41,16,42,26,39,40,26,37,27,77,60,79,39,45,67,70,42,51,58,47,36,45,58,43,80,56,45,73,71,60,59,90,58,40,63,39,15,20,37,18,36,17,43,24,21,33,22,58,11,32,25,25,40,31,35,72,29,36,32,28,28,41,68,36,63,20,14,63,32,32,56,45,24,31,79,62,39,71,38,61,36,65,33,37,34,45,85,62,72,52,45,34,46,47,51,35,53,36,64,29,70,63,54,24,61,49,65,62,56,81,54,81,64,54,61,28,81,77,50,66,52,50,45,56,75,70,77,46,22,80,49,65,55,58,70,41,57,57,62,23,29,43,45,43,35,42,54,31,76,57,58,71,72,37,44,32,45,61,47,25,40,42,43,52,56,36,68,46,44,19,91,27,48,38,49,55,53,120,61,25,62,54,77,67,90,76,19,87,35,38,54,50,30,41,78,66,24,85,41,113,93,32,39,98,80,68,35,60,25,121,88,119,56,64,102,60,41,53,17,41,50,61,74,77,39,124,84,81,62,55,86,24,30,75,44,55,39,52,59,76,68,50,79,49,66,51,32,37,56,68,75,49,40,58,85,34,100,21,67,50,81,47,61,82,56,75,59,114,23,59,48,18,58,33,102,82,55,78,47,65,85,55,55,45,34,60,66,31,69,50,45,53,45,60,29,67,72,124,46,58,31,139,38,30,83,67,14,80,25,61,52,48,92,78,41,108,84,97,83,44,48,92,111,85,86,87,76,83,69,27,66,20,78,37,18,72,31,45,51,79,48,60,47,23,60,28,27,62,54,40,32,37,30,30,3,35,5,8,17,11,15,10,8,13,29,8,10,13,22,14,12,8,15,24,22,11,5,16,38,37,22,4,16,37,12,9,15,7,24,22,15,14,14,35,13,15,20,15,14,21,24,11,11,21,25,8,16,13,30,26,12,25,26,19,15,21,18,23,16,15,8,16,27,80,46,92,70,60,47,32,67,61,51,22,89,98,55,50,36,71,50,82,71,89,59,56,96,42,55,47,62,100,26,51,47,97,44,85,71,70,68,123,99,67,72,85,73,63,76,82,34,61,127,21,44,30,27,24,19,34,30,13,50,31,31,31,34,46,37,30,47,36,26,62,33,53,32,44,16,24,38,31,27,43,30,56,30,36,45,36,41,49,16,28,35,15,17,2,7,9,6,6,0,2,0,0,0,6,36,40,66,18,48,17,58,64,43,40,55,68,65,110,35,42,82,34,67,62,72,21,31,39,30,28,49,16,30,22,19,18,32,22,32,51,15,31,18,11,35,11,21,32,64,17,23,23,15,21,25,28,18,24,33,35,31,26,32,11,33,20,24,23,10,29,28,21,37,27,74,23,26,44,33,35,41,27,63,46,42,20,11,32,29,12,56,16,19,51,52,60,32,43,27,34,38,48,44,46,29,14,39,8,36,20,35,21,24,63,17,11,27,2,13,13,7,3,7,12,11,3,12,6,9,7,14,2,3,9,5,10,3,12,5,4,9,10,22,10,14,11,24,22,6,4,6,0,5,2,5,10,4,7,3,10,6,4,6,6,2,3,10,10,4,11,4,1,2,6,3,0,12,10,6,79,41,62,64,82,62,47,101,137,39,114,67,43,87,66,42,25,53,78,20,66,85,46,93,27,26,54,64,70,60,52,24,114,33,81,95,75,84,49,47,62,91,66,98,95,121,49,71,53,114,62,84,91,130,75,64,88,105,83,110,82,133,53,52,43,91,54,51,64,90,54,67,8,63,81,63,52,52,51,89,113,50,77,87,40,25,11,31,50,68,64,99,46,21,104,75,51,45,80,49,52,61,63,125,104,63,65,91,82,63,68,31,45,78,61,60,82,70,64,35,31,75,41,77,38,36,56,30,59,36,54,76,97,31,51,40,62,98,51,39,68,44,51,61,52,64,70,59,77,86,43,56,68,63,68,94,46,56,54,65,51,83,71,76,9,66,45,35,43,95,50,114,78,19,107,46,49,101,53,75,55,39,42,59,105,77,58,67,150,55,84,67,59,41,42,40,129,63,44,74,90,104,68,33,45,73,48,107,54,54,63,45,105,68,29,70,77,17,73,96,67,69,79,58,39,127,35,92,50,65,54,47,15,43,77,103,55,48,58,70,35,45,66,22,51,83,71,25,48,25,41,39,34,43,50,56,33,30,18,35,16,37,24,42,39,46,40,13,16,82,26,52,24,16,110,24,54,57,34,23,39,13,65,23,38,63,8,18,29,19,14,24,13,29,69,13,11,22,20,12,25,22,20,15,14,16,15,16,29,6,24,24,16,23,19,19,17,22,32,32,24,20,31,16,17,19,7,41,16,18,30,8,23,23,27,57,6,25,16,9,40,18,25,24,8,33,54,52,11,15,29,28,19,14,16,5,10,33,16,19,19,32,22,10,28,25,33,25,18,50,25,34,59,29,32,37,33,74,37,42,28,69,57,68,20,49,31,46,38,40,29,51,40,39,22,40,13,63,38,26,72,60,12,8,26,38,17,18,17,12,23,12,5,15,28,18,25,20,36,20,8,26,24,22,19,9,43,29,23,20,15,37,16,11,19,19,17,6,19,100,40,29,32,25,17,38,5,3,17,5,6,3,14,0,1,4,6,41,19,25,12,28,16,58,17,38,11,14,16,35,13,40,39,25,17,27,14,18,25,13,24,31,11,60,32,73,21,16,19,17,17,14,21,15,17,9,13,31,12,10,27,25,16,54,17,29,24,15,32,11,18,17,8,16,5,9,33,8,12,9,17,10,3,8,9,12,11,6,10,32,8,10,10,18,16,9,9,11,22,18,8,6,17,22,7,3,18,3,14,15,12,10,8,13,18,39,6,12,15,11,8,10,14,12,17,12,8,12,19,26,12,16,9,43,24,9,20,7,14,24,12,19,3,5,18,4,4,7,2,4,0,6,7,2,7,24,51,18,11,35,21,25,3,58,11,29,37,4,0,23,10,6,11,12,9,27,23,15,16,18,13,19,26,12,17,27,10,7,16,20,28,7,19,17,20,9,15,25,22,23,25,23,32,19,15,5,10,10,10,1,2,7,6,2,6,2,5,2,9,6,4,5,10,3,34,8,4,11,18,15,51,49,9,58,27,31,14,71,66,26,41,25,41,16,62,36,55,32,64,54,52,35,14,23,10,19,40,109,78,31,25,40,46,35,16,19,70,13],\"type\":\"histogram\",\"xaxis\":\"x4\",\"yaxis\":\"y4\"},{\"name\":\"Sweet\",\"x\":[74,55,43,101,45,62,58,73,39,50,59,30,43,54,105,49,43,62,54,102,43,84,33,55,54,67,86,106,47,66,52,77,57,135,57,87,62,61,68,170,142,97,83,125,74,117,143,80,102,101,52,125,97,74,110,70,81,146,109,124,86,50,89,98,86,134,92,113,125,137,85,71,107,116,103,100,127,105,103,138,156,116,67,119,123,100,99,126,123,188,148,80,134,186,125,96,124,144,145,134,101,122,114,63,82,53,21,75,63,57,45,118,54,53,48,65,57,70,68,76,52,41,62,71,47,74,75,61,27,56,79,96,95,86,52,55,66,67,52,29,44,55,49,31,44,36,48,55,48,18,63,97,60,34,47,62,73,55,62,60,32,60,37,43,58,55,41,15,62,13,47,62,40,77,71,39,63,54,86,91,124,104,109,14,4,17,39,35,48,31,45,26,12,47,27,27,34,22,57,38,14,27,41,33,30,78,27,30,45,21,30,22,32,49,18,26,34,47,40,45,63,66,92,61,71,50,82,78,73,79,75,41,54,82,62,81,76,54,89,39,31,64,94,13,28,60,51,51,27,117,93,75,92,138,87,100,54,107,98,93,115,118,102,120,100,97,127,121,112,75,116,130,109,89,152,216,91,69,154,58,136,131,83,130,104,94,85,95,101,118,168,175,105,150,171,124,36,16,21,9,31,13,0,99,58,64,56,88,84,66,71,87,123,50,52,65,90,105,83,71,88,58,37,65,62,67,38,59,77,100,94,65,62,46,75,54,63,29,24,21,101,31,162,72,129,54,42,88,50,55,77,86,57,95,88,114,89,91,85,88,80,86,97,68,92,59,103,114,81,86,65,63,95,52,67,52,103,104,102,59,87,88,123,47,181,80,56,32,96,73,62,60,81,71,66,83,48,40,115,21,13,56,100,31,263,123,141,169,127,68,180,95,21,56,25,7,7,13,36,43,38,53,65,77,57,50,66,70,60,48,71,105,43,44,99,60,60,72,58,47,56,131,97,65,76,71,48,61,56,98,89,82,82,75,91,121,87,89,116,53,62,81,100,82,59,60,66,52,49,100,19,49,18,94,16,77,73,75,69,77,71,52,48,70,80,86,66,133,59,50,42,78,62,66,70,67,158,48,65,90,64,54,72,97,74,92,73,49,65,98,47,79,93,78,68,60,46,49,77,46,28,12,52,47,41,42,26,27,41,27,26,5,11,6,5,74,21,10,66,23,44,7,33,22,16,16,16,6,12,18,57,7,59,8,3,3,9,16,4,0,27,70,32,64,31,39,17,15,32,71,38,40,27,57,24,16,57,53,38,103,58,56,27,141,120,56,90,113,114,96,103,115,106,80,84,107,100,120,97,120,95,100,60,82,81,145,109,124,108,79,149,108,108,99,129,97,95,96,103,105,119,136,133,70,120,55,53,60,77,68,45,75,56,77,103,121,62,101,80,121,80,104,83,80,125,93,96,120,16,70,121,86,92,92,99,111,92,60,122,71,62,61,0,0,6,0,39,34,31,22,72,31,59,66,75,32,67,15,55,56,41,55,97,68,42,47,66,31,39,65,48,65,55,68,102,37,26,73,40,193,22,138,81,90,66,129,134,101,196,170,59,30,89,28,52,139,168,84,96,55,30,21,22,99,122,28,143,73,121,79,38,108,46,171,58,77,95,93,57,22,71,80,106,45,24,36,12,4,1,3,13,15,4,38,15,12,16,7,2,8,17,25,3,9,8,3,3,0,10,1,9,3,0,0,0,0,128,145,23,44,33,61,80,37,56,22,100,132,114,54,13,66,67,65,60,31,72,55,39,76,43,14,31,28,23,35,30,16,42,38,45,56,46,38,39,106,32,31,46,42,42,54,46,50,21,33,88,45,57,24,27,31,44,25,48,76,48,33,39,41,79,65,21,56,53,64,13,54,50,55,45,21,103,24,38,74,82,63,30,34,56,66,66,145,23,52,48,33,58,44,29,71,29,65,44,59,51,65,47,24,63,49,59,70,27,46,34,35,47,28,39,42,42,47,53,48,52,45,43,70,15,70,90,43,54,67,42,34,50,28,29,48,56,30,20,77,20,37,51,27,62,44,42,48,40,51,53,89,44,42,76,55,42,54,51,49,82,68,42,73,61,26,41,57,29,64,48,37,52,57,58,61,60,54,54,50,86,25,45,40,50,32,51,92,109,84,35,89,55,71,56,38,35,47,23,44,28,16,19,11,14,15,13,0,38,22,19,30,38,41,26,29,47,33,37,33,52,29,37,46,26,35,25,47,25,59,20,45,58,30,34,51,16,36,30,44,16,16,10,12,15,10,40,19,23,36,24,27,31,27,19,20,17,20,22,20,9,32,22,10,21,15,14,39,16,23,21,24,24,37,28,30,14,10,12,22,24,39,23,14,22,34,38,37,58,44,50,47,55,39,26,69,65,38,25,38,70,81,54,57,30,65,67,117,82,50,65,47,113,48,50,51,36,58,74,23,16,25,31,33,8,33,37,14,28,35,32,46,23,31,84,17,23,39,52,30,58,84,21,18,24,42,28,44,30,31,64,66,18,34,28,53,20,29,45,51,39,23,12,19,38,20,41,29,16,21,29,20,17,35,14,25,54,14,31,39,79,41,54,40,54,33,60,65,70,61,61,68,58,58,59,48,80,97,49,47,67,131,105,87,15,63,91,19,24,30,36,25,31,26,21,32,27,35,49,44,20,20,20,27,26,13,24,36,48,18,26,19,26,25,25,23,16,29,29,50,14,31,14,35,26,33,6,17,35,16,60,76,61,102,41,68,74,59,59,46,91,33,35,53,23,83,61,44,92,48,40,37,32,65,63,8,13,68,48,10,75,64,12,56,27,41,62,17,74,24,21,26,33,37,40,38,19,18,29,48,51,33,18,17,26,37,22,32,43,22,32,35,41,18,34,24,30,24,37,51,28,19,15,50,30,35,57,34,39,27,16,24,18,28,11,28,18,14,14,7,2,2,6,10,16,6,2,0,2,8,0,0,28,59,53,49,45,20,68,71,75,58,33,65,57,30,37,20,6,15,15,31,5,5,8,28,14,8,21,23,3,20,7,12,38,12,30,10,24,28,28,1,21,20,22,10,21,7,13,80,33,13,29,27,14,21,23,28,19,30,28,34,47,34,49,41,39,40,44,44,47,49,48,38,51,56,50,55,21,44,32,82,31,60,26,57,17,79,46,48,42,49,62,13,86,75,57,55,58,54,45,59,91,53,64,89,75,65,80,61,81,107,41,51,77,58,76,83,37,83,31,95,78,83,70,59,47,72,42,63,57,60,44,36,48,76,63,59,44,64,58,71,52,49,52,47,52,53,38,73,44,56,56,52,50,53,42,53,42,62,67,65,82,61,73,26,45,71,47,34,63,74,74,55,45,27,30,60,38,23,15,23,16,11,56,24,16,17,7,19,38,51,36,41,57,42,37,52,55,40,64,37,34,36,59,31,54,47,92,67,71,96,67,46,47,68,61,82,50,71,33,44,53,31,62,28,23,40,39,57,40,72,31,54,57,53,54,78,47,51,66,34,35,58,37,50,62,51,49,58,59,70,14,49,22,10,48,92,178,132,101,89,38,34,19,0,66,174,42,118,101,44,103,80,87,66,73,88,52,16,99,159,29,97,36,74,125,52,69,70,112,70,103,65,69,148,104,56,68,159,44,119,68,67,187,48,71,43,53,50,74,48,77,34,45,80,67,64,68,50,29,53,74,131,86,62,91,49,83,29,82,16,69,59,40,62,61,18,48,39,18,20,6,5,5,24,2,9,3,21,14,6,0,4,4,11,5,12,57,26,15,16,24,46,48,24,5,65,15,18,17,8,22,40,42,13,32,19,24,24,8,13,20,10,47,14,12,7,13,99,38,83,67,39,74,81,75,84,36,50,71,49,57,31,39,18,23,18,60,83,25,88,40,23,36,22,19,71,40,25,31,37,13,3,12,6,0,12,8,12,17,13,13,7,3,2,68,96,93,125,134,64,79,106,178,88,127,51,86,66,56,42,55,75,118,89,68,73,126,113,127,115,97,171,95,111,85,82,102,54,39,48,19,37,36,34,36,48,20,35,31,48,27,29,39,49,31,47,29,24,47,23,33,27,42,38,60,28,73,108,41,70,65,61,41,83,41,22,60,62,65,34,65,93,67,41,48,57,74,53,70,47,38,40,82,22,147,55,46,60,66,55,16,42,47,37,29,47,45,18,14,41,29,19,39,34,54,40,65,51,44,47,41,46,83,56,41,89,46,46,41,33,57,48,63,56,44,33,19,27,34,30,26,18,17,11,19,33,22,12,27,25,27,30,20,24,31,16,25,23,9,32,27,26,26,32,19,10,23,15,23,23,17,13,23,7,13,44,18,17,26,37,15,28,15,42,18,38,24,14,26,38,19,29,18,43,11,37,17,30,36,24,18,17,24,37,43,45,48,11,38,71,80,49,43,42,124,63,61,37,53,28,16,47,75,63,37,70,23,65,80,51,33,79,28,34,28,52,26,46,54,48,65,60,40,50,52,78,94,43,57,78,49,82,38,56,32,57,69,75,88,46,96,105,79,80,86,110,60,120,93,86,85,99,93,96,99,97,87,87,103,62,67,141,81,71,74,87,60,64,85,52,99,90,87,53,62,44,35,75,57,28,60,59,91,48,65,62,32,61,117,62,65,51,45,59,96,98,72,95,74,114,63,75,60,81,73,54,67,86,104,66,87,154,47,35,44,52,67,56,84,59,79,85,93,79,63,59,80,96,82,65,72,85,62,50,76,50,72,33,67,18,53,51,38,74,52,72,69,62,44,89,67,32,59,23,46,49,55,56,52,33,25,14,10,48,4,29,20,51,28,44,22,16,33,42,33,83,50,36,16,26,43,43,25,45,33,41,62,26,29,26,57,70,43,50,50,38,117,90,103,86,112,148,88,120,99,110,117,129,110,110,91,108,119,91,98,116,92,170,155,103,138,100,97,135,145,219,180,97,133,106,35,53,60,74,67,54,38,76,66,41,40,55,59,61,66,56,33,55,48,51,86,38,65,69,77,65,78,23,71,44,74,67,37,84,78,45,74,49,70,68,135,74,72,87,62,71,52,71,104,23,97,9,73,60,58,29,35,45,63,55,48,44,127,55,38,93,71,70,58,61,93,54,50,100,95,76,46,27,51,102,66,73,52,39,51,79,71,67,66,62,36,41,45,41,27,37,30,6,21,4,0,10,13,0,2,10,30,20,47,71,59,51,39,41,52,40,116,59,22,54,45,22,20,99,27,40,26,76,63,78,100,88,88,62,98,79,37,83,82,67,101,109,56,217,92,81,126,93,78,55,97,122,73,110,106,70,145,111,75,60,104,137,86,43,52,26,88,57,94,61,42,66,68,47,68,103,72,85,68,92,73,96,70,88,92,71,98,85,65,86,57,8,12,52,41,76,46,48,76,39,47,107,98,61,57,96,52,47,76,45,44,42,62,50,108,64,21,20,61,25,34,28,14,3,37,55,49,28,53,44,119,40,41,69,89,73,71,100,32,125,97,43,45,135,124,80,102,50,74,103,101,8,123,34,87,74,78,66,47,69,172,52,95,102,86,124,91,116,92,99,75,74,69,43,61,52,57,31,42,31,53,77,83,88,65,48,67,112,46,83,110,60,102,72,42,57,52,106,82,51,37,98,61,73,92,69,50,76,54,87,70,80,75,55,74,109,72,37,50,55,138,63,50,59,33,47,72,126,111,60,32,59,17,28,57,44,51,32,78,58,53,46,46,139,72,41,76,62,75,56,53,74,62,14,46,59,49,35,202,49,61,58,48,45,48,39,34,44,65,67,43,46,97,73,20,42,47,53,82,68,101,61,57,90,71,70,56,79,49,109,47,105,63,64,55,52,74,66,109,53,45,30,117,32,55,22,31,67,13,50,38,49,39,65,17,58,33,47,56,24,24,45,29,68,28,56,30,65,46,44,54,40,30,55,59,58,71,34,42,40,45,54,60,85,52,14,33,32,31,47,62,90,78,65,74,62,56,55,28,66,56,54,50,43,40,60,75,51,61,85,53,32,68,122,84,36,40,43,81,29,41,78,113,49,62,82,57,102,118,71,112,54,70,115,114,67,56,77,51,102,49,82,54,89,80,68,82,77,69,97,87,66,63,78,62,77,73,71,56,55,84,62,51,90,71,82,79,101,96,90,54,64,72,73,63,147,65,95,108,99,120,95,118,129,93,77,124,52,87,81,93,108,61,144,179,103,46,94,96,67,206,42,147,84,151,96,102,65,125,88,105,102,71,69,101,83,74,101,168,104,146,89,89,95,100,127,114,92,136,119,72,127,92,130,73,119,124,92,122,101,136,80,87,130,109,87,124,104,41,44,59,42,45,65,111,80,52,75,53,108,72,45,57,117,58,68,94,83,71,55,54,90,70,80,83,109,130,70,97,68,84,73,61,115,46,63,74,91,49,126,81,92,73,72,73,72,83,59,96,95,97,122,119,72,91,97,70,102,59,83,89,67,119,79,67,93,81,74,116,67,25,70,63,40,26,53,62,52,80,42,85,73,64,69,71,73,66,72,68,125,36,30,75,105,96,58,67,154,62,71,56,63,140,64,89,72,93,69,79,91,55,95,34,33,26,21,65,5,10,40,12,22,22,40,9,2,4,0,26,27,22,16,22,25,20,131,18,70,34,79,29,27,16,40,30,24,33,115,15,33,30,32,36,74,13,29,33,118,16,94,73,57,61,40,51,47,49,52,82,45,48,70,42,60,62,52,53,50,71,65,53,54,33,30,57,48,36,33,25,52,33,60,33,19,53,58,34,15,20,24,23,20,9,29,39,17,26,32,25,26,39,26,60,23,31,16,33,30,18,37,21,16,39,24,23,23,35,27,17,21,24,19,27,27,51,48,23,28,57,14,71,52,46,29,16,25,25,49,30,24,49,20,47,7,1,15,7,8,2,1,5,6,7,3,7,99,119,76,167,124,121,135,127,53,142,30,98,96,34,4,38,17,21,25,11,7,34,21,72,20,31,160,25,18,62,27,18,82,26,31,14,28,25,32,12,36,16,32,32,48,52,58,28,40,31,25,26,51,53,40,47,111,98,75,115,46,32,90,136,107,130,67,106,93,88,54,87,50,78,49,57,83,65,68,38,49,36,50,65,104,49,63,52,64,67,78,73,60,71,65,52,77,81,51,64,62,52,75,58,126,83,95,108,67,46,54,52,72,71],\"type\":\"histogram\",\"xaxis\":\"x3\",\"yaxis\":\"y3\"},{\"name\":\"Sour\",\"x\":[33,16,11,18,9,25,29,22,13,55,25,11,13,13,31,5,18,19,7,25,13,32,13,20,10,29,21,23,39,11,28,20,33,49,10,22,34,46,25,30,25,27,36,72,28,29,38,41,36,23,20,33,27,39,73,28,14,78,67,43,36,28,46,48,36,34,26,20,80,71,38,22,39,56,42,34,39,23,27,26,34,36,13,28,23,25,14,22,31,74,36,22,40,52,44,17,42,45,54,28,35,26,33,23,19,18,23,29,16,20,21,63,20,17,43,23,38,35,33,26,25,27,54,47,45,34,38,24,20,16,30,33,36,32,33,49,28,32,47,16,24,7,20,30,24,10,35,26,44,26,17,49,13,19,27,34,28,72,21,31,31,17,44,38,43,73,59,33,42,24,28,22,28,37,56,59,42,39,119,65,49,49,65,22,1,41,38,27,79,25,39,21,2,58,26,35,45,80,42,32,25,43,54,27,48,24,16,25,35,32,64,35,24,52,5,17,11,36,55,49,57,41,76,45,40,30,59,65,69,103,44,49,50,65,47,64,44,54,76,27,82,54,44,16,34,46,41,58,21,25,15,17,20,18,25,21,6,25,23,17,51,30,11,28,28,18,18,27,22,15,27,28,39,17,42,43,10,11,37,9,26,16,23,31,27,17,30,32,21,29,36,46,41,45,49,33,17,6,4,6,9,3,0,24,18,10,9,7,31,11,22,31,17,20,7,15,29,34,36,20,27,32,30,20,22,18,26,21,27,47,48,28,39,18,67,25,13,33,13,5,10,6,17,24,16,8,7,25,10,14,22,24,7,23,6,9,10,27,18,22,17,18,36,30,33,5,55,29,15,17,33,10,38,48,36,43,33,36,70,24,29,42,49,84,59,32,23,85,30,24,38,18,22,35,49,10,41,11,79,31,6,18,39,8,38,61,114,18,29,20,81,24,2,3,6,0,3,1,133,133,44,13,9,8,5,5,16,33,6,3,6,9,4,6,1,0,29,5,16,12,4,16,9,24,6,16,31,9,10,18,61,36,43,66,35,54,32,57,34,30,30,147,31,25,62,25,28,4,11,29,8,18,4,29,7,18,7,8,9,19,8,11,7,11,9,2,4,18,16,5,9,7,4,13,15,8,25,12,5,9,13,4,12,8,9,10,26,11,11,17,4,20,13,9,19,42,58,18,50,13,51,33,49,41,54,11,28,22,14,13,15,8,10,8,5,31,7,6,8,15,140,4,14,9,5,9,10,3,25,9,28,1,2,4,4,2,4,4,4,1,29,19,19,28,17,33,14,17,22,88,31,3,15,23,16,13,19,15,14,146,29,16,12,10,32,23,26,49,36,30,37,25,20,35,30,43,31,30,44,21,14,25,29,43,27,50,38,41,79,23,45,38,42,36,72,29,66,25,35,41,34,37,36,45,55,143,17,113,63,73,131,172,62,156,69,37,29,62,58,56,61,72,41,204,103,59,61,58,15,57,41,42,59,73,94,78,59,28,37,59,113,20,0,0,2,0,59,70,102,55,144,83,172,113,52,62,110,29,130,70,78,170,122,101,174,76,79,69,81,85,139,75,90,156,81,162,109,38,16,90,55,50,67,49,49,61,120,22,173,76,53,13,67,80,35,41,68,21,50,87,61,41,13,31,54,26,22,28,50,17,19,51,86,16,20,33,47,67,10,55,75,23,53,10,16,9,13,3,8,1,8,4,15,16,12,5,1,6,6,1,13,5,3,4,6,0,0,0,3,1,0,2,0,0,0,0,42,68,15,37,29,57,56,3,11,25,97,34,105,57,9,8,17,27,21,98,23,91,92,44,53,40,37,24,56,58,37,24,26,69,48,79,54,38,55,62,44,56,63,38,53,65,54,85,43,42,35,36,58,23,51,61,48,32,62,88,69,49,57,69,69,76,61,138,75,55,70,84,39,80,81,89,78,41,38,107,76,85,61,68,61,84,55,77,19,43,20,9,64,7,18,42,27,43,19,17,44,21,17,14,70,34,26,16,42,41,29,31,40,35,36,28,58,69,74,29,21,73,26,55,27,73,78,40,24,58,38,16,68,34,28,46,32,35,29,61,12,31,77,43,57,44,44,54,31,49,43,42,65,43,77,39,46,53,62,60,57,45,46,69,59,31,43,42,40,51,51,42,57,72,24,68,57,89,67,55,53,48,30,55,79,49,83,23,47,16,44,17,10,25,24,12,0,12,10,14,9,2,6,1,3,8,10,1,37,9,18,26,24,29,6,35,35,30,40,25,35,45,49,34,35,37,19,41,34,46,16,37,37,15,31,59,18,42,32,35,10,10,22,3,4,7,11,14,11,9,5,17,14,7,2,9,5,8,3,8,5,6,6,3,15,11,7,13,9,7,8,9,6,13,10,10,7,6,10,7,12,11,9,1,1,19,4,7,4,10,10,9,46,9,7,24,23,15,4,5,12,12,14,9,35,31,15,5,42,27,16,13,8,13,15,14,11,20,20,20,8,10,12,10,2,21,7,9,26,11,17,12,36,11,52,36,22,35,13,17,18,32,16,4,7,23,7,19,8,9,20,31,26,13,15,24,9,14,21,17,23,14,10,15,13,7,52,24,10,4,21,5,8,12,13,5,7,3,12,7,23,7,22,5,8,3,28,13,11,17,10,9,17,10,11,6,12,26,13,3,25,11,19,11,8,21,6,3,14,23,16,10,13,11,9,21,13,18,15,17,8,9,3,30,14,6,18,10,12,27,7,14,24,4,20,11,13,17,15,20,4,12,6,9,6,10,8,16,14,16,18,21,13,50,6,31,30,15,31,45,28,8,12,22,15,24,12,13,40,16,9,6,15,16,13,1,2,24,20,1,19,21,2,27,1,16,21,10,22,8,6,15,8,57,17,25,9,13,24,11,27,18,6,17,4,13,14,7,26,13,16,9,21,18,13,14,23,17,18,55,9,15,10,16,3,52,66,55,45,53,22,5,13,10,4,8,4,11,11,4,4,1,5,5,8,5,1,0,0,3,0,0,25,26,63,29,48,27,19,21,80,55,28,61,44,31,38,4,5,72,10,2,5,17,1,11,8,3,11,3,8,7,0,3,11,8,4,7,19,96,33,0,4,10,8,8,8,4,7,29,5,8,11,14,6,11,18,4,2,7,15,10,12,16,21,10,6,12,15,11,22,18,17,8,15,29,25,11,7,12,18,41,17,45,10,13,5,28,10,14,6,10,15,10,14,23,6,5,8,12,18,12,23,13,10,20,18,8,19,5,15,19,4,12,26,3,14,33,3,19,5,18,6,15,19,13,11,28,10,13,11,10,14,10,10,18,5,20,9,19,28,19,7,12,16,15,23,9,21,28,14,14,10,12,25,9,21,16,8,11,18,18,11,17,15,5,4,12,11,19,7,17,14,3,18,14,13,5,6,13,2,10,6,0,27,13,2,3,3,4,3,17,4,9,10,4,4,11,2,6,11,3,2,1,13,15,7,9,19,23,27,19,20,16,11,8,8,14,5,17,10,12,11,8,20,4,7,12,9,23,8,19,13,9,11,9,17,11,10,19,32,20,26,13,13,11,1,15,12,16,12,29,9,33,7,2,19,85,132,103,67,79,21,30,18,0,112,91,98,117,143,96,143,98,89,135,43,103,116,90,119,185,102,95,157,113,118,76,109,188,94,185,219,227,233,123,138,173,70,84,197,241,182,57,90,170,44,134,149,206,198,137,197,116,169,169,178,183,185,145,136,160,284,183,95,229,101,200,163,169,159,75,69,191,122,106,213,107,157,92,87,48,39,33,22,56,10,27,19,48,32,17,5,17,11,34,5,8,17,7,2,7,6,12,57,6,4,16,10,15,4,17,10,11,7,7,6,9,13,8,8,5,4,2,4,25,3,1,3,21,73,21,44,8,19,22,14,11,10,9,13,11,10,7,5,5,2,1,28,55,1,46,9,2,14,8,6,39,24,34,18,32,24,1,6,1,2,18,3,9,9,17,11,3,0,8,21,27,14,25,14,10,31,15,31,32,25,7,21,22,12,8,7,12,31,13,53,20,21,27,42,34,31,49,16,33,105,23,48,33,37,72,21,41,84,54,37,40,66,59,33,54,37,19,45,36,51,81,43,37,49,45,86,33,53,70,51,52,49,65,120,53,71,81,48,46,47,45,54,41,32,47,134,48,73,65,47,59,47,30,99,76,64,127,62,58,63,84,22,32,30,17,24,18,77,56,26,39,44,44,11,34,41,21,24,40,66,42,35,45,35,16,19,27,33,7,26,35,47,34,66,24,41,27,52,30,32,41,18,26,20,17,21,8,23,6,9,16,33,13,21,19,4,35,20,12,36,23,14,16,24,19,22,29,22,23,17,21,24,5,10,6,34,6,15,7,8,20,20,5,14,20,19,21,6,17,22,36,14,6,11,31,20,12,21,18,11,18,14,25,42,14,5,4,10,35,31,42,24,8,44,33,73,42,37,66,49,26,30,28,24,13,3,22,7,10,3,11,4,7,10,4,0,18,1,1,7,3,1,17,12,3,14,9,29,12,5,11,4,4,9,4,8,9,5,5,6,9,8,5,20,36,30,29,9,18,26,29,9,17,28,31,20,13,27,18,21,18,10,11,22,36,22,25,20,22,47,28,22,8,12,14,13,13,22,4,14,10,70,14,9,7,10,9,15,4,15,11,7,2,26,5,27,13,10,22,24,10,3,26,23,10,15,27,5,8,5,13,8,16,4,16,16,21,5,22,18,6,13,8,41,9,25,29,13,13,13,14,12,10,13,9,12,9,9,2,35,9,14,5,16,3,9,7,4,27,5,13,9,12,4,25,8,6,23,1,8,7,9,14,9,13,3,1,1,3,0,0,7,13,20,12,12,15,24,17,14,11,14,13,7,8,18,2,119,20,23,19,2,25,4,10,14,20,8,4,27,11,44,26,44,21,44,19,28,27,39,35,28,41,34,45,26,30,35,36,29,33,29,54,51,35,34,32,38,34,42,28,50,31,74,41,12,31,23,58,40,21,24,19,41,13,22,4,31,36,38,30,30,34,34,26,40,28,52,29,59,15,21,9,36,8,13,28,50,50,48,27,38,17,51,47,60,29,28,33,30,41,52,25,39,17,79,10,24,7,8,6,6,14,18,24,15,12,51,13,24,14,28,22,15,23,40,9,13,29,18,15,18,2,19,22,18,42,11,38,19,20,29,19,24,25,40,44,30,28,39,39,37,4,10,3,0,10,4,0,2,9,16,31,28,14,22,12,39,64,18,22,54,58,62,56,30,48,27,27,46,59,45,13,10,22,26,11,17,6,10,24,4,13,19,17,15,18,11,29,16,31,39,16,16,10,18,26,8,33,29,5,11,25,11,21,33,47,8,9,13,4,26,3,13,17,8,31,8,29,14,28,47,37,17,39,18,31,19,13,23,20,28,27,12,20,15,4,1,24,13,17,4,11,4,9,21,14,32,7,4,11,13,102,12,29,10,10,11,8,14,15,11,2,54,4,11,4,25,0,85,129,180,200,172,130,149,127,225,164,152,122,126,129,131,202,107,133,95,176,148,172,213,230,221,147,166,25,148,104,94,130,163,172,121,83,146,158,106,127,160,154,140,156,171,238,174,148,107,151,102,162,162,109,129,100,148,4,9,10,8,3,1,4,16,16,4,4,26,10,7,7,9,17,33,5,1,5,6,4,15,7,5,18,13,2,12,2,4,4,3,6,12,9,10,6,11,7,7,2,7,14,6,1,23,9,4,9,3,6,11,6,1,12,9,5,13,14,9,21,13,10,16,39,5,4,14,11,15,4,18,11,7,18,6,12,10,16,5,12,4,7,0,4,54,9,7,19,24,10,35,9,16,15,40,13,17,12,3,14,15,9,9,25,6,27,9,31,21,22,8,8,14,23,44,9,3,2,50,11,11,7,6,13,3,15,5,6,8,24,3,11,14,6,13,1,3,2,8,6,11,10,5,23,6,5,13,7,2,7,15,7,9,13,10,1,4,16,20,22,10,0,11,7,6,0,1,12,10,11,4,16,14,5,9,9,6,9,7,11,3,17,2,2,10,14,2,11,2,17,14,4,3,11,12,0,5,6,12,9,6,7,16,16,31,10,30,12,11,15,22,15,8,6,11,27,5,21,6,18,16,11,16,5,12,11,10,12,16,8,95,11,3,16,14,9,9,10,28,20,15,12,15,8,8,12,5,6,14,9,18,24,33,16,18,23,25,14,54,10,11,34,16,23,34,26,67,24,28,29,13,47,4,24,61,12,56,13,55,31,61,22,26,13,34,35,31,41,16,22,46,17,36,21,40,30,51,41,25,45,33,40,47,118,37,41,30,23,28,53,54,63,47,21,33,37,40,37,41,45,45,32,52,71,52,43,71,45,34,64,58,55,58,28,40,74,48,100,46,33,65,41,74,86,67,105,28,64,43,54,43,64,71,28,118,56,21,95,51,82,58,37,48,61,10,24,36,44,11,20,25,28,43,23,39,46,47,54,39,21,25,37,40,35,32,24,32,25,54,25,20,37,30,23,42,24,13,30,41,44,10,25,43,36,72,34,66,57,50,56,52,46,36,45,45,104,44,19,51,58,55,52,30,129,65,35,38,55,100,60,52,87,57,83,42,45,40,27,12,6,2,5,21,2,4,41,14,10,6,20,8,3,0,5,44,61,51,48,73,54,56,40,38,18,76,63,33,43,52,73,43,50,59,48,39,69,91,60,98,49,59,70,82,78,28,25,24,13,20,10,27,20,25,30,37,24,37,29,15,31,23,40,18,24,38,23,16,26,30,20,31,40,22,46,12,45,19,51,30,16,19,64,15,26,36,30,55,31,17,20,51,25,59,50,16,35,75,31,101,39,18,18,40,23,31,42,35,22,53,34,42,48,53,27,41,21,45,68,52,42,35,47,37,35,82,27,29,32,33,23,37,37,24,52,29,30,32,40,47,7,16,19,12,10,10,10,5,2,10,3,5,49,41,184,43,11,67,84,68,6,36,8,59,63,14,0,70,47,45,41,45,38,69,75,66,59,65,62,54,51,52,73,70,93,34,62,117,94,43,76,46,52,26,60,69,54,82,157,40,67,66,71,123,109,138,171,98,196,139,104,154,132,149,135,187,199,209,112,168,177,144,139,100,101,173,11,11,27,22,7,26,20,9,15,43,34,11,20,9,7,6,20,12,62,10,18,24,17,24,12,14,5,34,34,27,43,3,29,26,11,19,43,21,59,17],\"type\":\"histogram\",\"xaxis\":\"x6\",\"yaxis\":\"y6\"},{\"name\":\"Salty\",\"x\":[0,0,0,1,1,1,0,0,1,5,1,4,1,1,0,1,1,0,0,1,1,0,0,2,1,0,0,0,2,0,4,0,0,2,0,0,0,0,0,0,0,1,1,0,0,0,1,0,1,5,0,0,1,1,2,0,0,0,0,1,1,0,0,1,0,0,1,0,2,0,0,1,0,3,0,0,1,0,0,0,1,0,0,0,0,0,1,1,0,0,0,2,0,0,0,0,0,0,0,0,0,2,6,0,0,0,0,0,3,3,0,1,1,0,1,0,2,1,0,0,1,0,0,3,0,1,0,0,0,0,0,0,0,0,0,0,1,0,2,1,0,0,0,1,1,1,0,0,3,0,2,2,0,0,0,3,0,0,1,4,0,1,1,3,2,0,2,0,1,3,0,0,0,2,0,1,0,0,2,6,0,0,4,0,0,2,0,2,0,1,7,8,0,3,5,4,3,2,1,1,6,0,5,3,4,6,2,0,4,0,5,1,3,2,1,3,0,0,0,4,2,0,3,0,3,0,0,0,1,0,5,1,3,0,5,0,3,4,1,0,0,0,0,0,0,0,3,0,0,0,1,1,0,0,1,1,1,2,0,0,2,0,1,4,0,0,2,0,0,1,0,0,0,0,0,0,0,0,0,1,0,0,0,0,0,0,0,0,0,0,0,0,0,1,0,1,0,0,0,0,0,0,0,0,0,0,1,2,2,3,5,2,1,2,1,0,1,1,0,0,1,3,0,0,2,1,0,0,5,1,1,0,1,1,2,1,0,0,1,1,0,0,0,0,0,0,1,0,2,0,0,1,0,2,0,1,0,0,0,1,1,0,0,2,3,0,0,0,0,0,0,0,1,0,0,0,0,0,0,0,0,0,0,0,0,0,0,0,0,0,0,0,0,0,0,1,0,0,0,0,0,0,0,0,1,2,0,0,0,0,1,3,0,0,0,0,0,0,6,0,2,0,1,0,0,0,0,0,0,0,0,3,0,0,0,0,0,0,0,1,2,0,0,0,0,2,2,0,0,0,0,1,0,0,0,0,0,2,0,0,0,0,0,0,1,1,0,0,0,0,0,0,0,0,1,0,0,0,0,1,0,2,0,0,0,0,0,3,0,1,0,0,0,0,1,0,0,0,0,0,1,1,0,0,0,2,0,0,0,0,1,1,0,3,0,3,13,2,6,1,5,0,2,2,0,1,0,0,3,0,1,0,1,0,0,0,0,0,2,0,1,0,0,1,1,5,0,1,0,1,0,6,0,1,0,5,0,0,0,1,0,1,0,4,0,11,0,0,1,3,1,1,0,3,4,0,3,0,1,1,2,2,3,0,0,0,0,0,0,1,1,0,0,1,1,0,0,0,0,0,0,0,0,0,2,1,0,2,0,0,0,1,0,0,0,0,0,0,0,0,0,1,0,0,0,0,0,0,3,3,0,0,0,2,3,0,0,2,0,0,2,0,0,1,0,0,1,2,0,3,0,0,0,1,0,5,0,0,0,2,3,0,0,0,0,0,1,4,0,3,3,0,6,1,0,0,1,0,0,0,2,3,9,3,0,0,6,1,1,3,0,1,2,1,4,3,0,0,0,0,0,0,0,1,5,0,1,1,1,2,0,1,0,0,0,0,0,0,0,0,0,3,1,0,1,0,6,0,0,0,0,1,0,0,0,0,0,2,24,0,1,0,0,0,0,0,0,0,2,0,0,0,0,2,0,0,0,0,0,0,0,1,0,0,0,0,0,0,1,0,0,0,0,0,0,0,1,0,2,4,2,0,2,1,1,0,0,0,0,0,0,0,0,0,0,0,3,1,0,0,0,0,0,0,1,0,0,1,0,4,0,0,1,1,0,1,0,1,0,0,2,1,0,2,1,4,4,1,1,2,0,0,0,0,0,1,0,3,0,0,1,2,0,2,1,0,0,0,0,0,1,0,0,0,0,3,1,0,0,1,2,1,2,0,0,0,0,0,0,0,0,0,0,0,1,4,0,0,1,0,0,0,0,0,0,0,0,0,1,2,0,1,1,0,3,2,1,1,3,1,0,0,6,1,0,0,0,1,4,0,0,1,0,1,1,0,0,3,1,0,0,2,4,0,1,0,0,3,0,0,0,1,0,1,2,1,0,1,0,0,0,1,0,0,0,1,0,0,1,2,0,1,4,1,1,0,1,0,0,0,0,1,2,0,0,1,0,0,0,0,0,1,0,0,0,0,0,0,0,0,0,0,0,0,1,8,1,1,5,5,0,3,1,3,4,3,5,5,5,3,1,4,4,0,0,3,4,2,1,1,3,4,0,2,6,2,0,1,3,5,0,5,3,2,2,3,0,0,1,4,4,0,0,4,0,0,0,2,2,0,5,4,3,4,0,3,1,4,3,6,4,6,2,0,5,5,4,1,0,2,0,0,0,0,0,1,6,0,3,0,0,0,0,1,0,0,0,0,1,0,3,1,2,0,0,6,0,2,0,0,0,2,0,0,1,3,3,5,2,7,0,0,1,3,12,0,0,0,14,6,1,0,0,0,0,2,3,9,7,2,1,3,2,0,1,1,6,2,0,4,1,5,3,2,1,2,3,0,0,0,0,1,5,0,0,3,2,1,0,0,0,3,0,0,0,0,1,0,1,1,0,1,0,0,0,0,1,0,0,0,2,1,1,0,0,1,0,0,0,1,0,0,0,0,3,4,1,2,0,2,0,4,5,6,6,2,0,3,5,4,3,1,2,4,3,2,0,3,0,0,6,5,5,3,0,0,1,1,2,3,0,2,0,0,1,2,0,1,5,0,0,2,2,1,1,0,0,1,0,0,1,6,2,0,1,0,1,2,0,0,0,0,0,0,0,0,0,0,0,3,0,0,0,0,0,2,3,0,3,13,10,4,5,4,0,2,2,11,1,5,6,1,4,3,3,3,6,3,2,1,3,6,1,1,3,0,4,3,0,3,2,3,2,1,1,4,1,2,0,2,2,1,0,1,0,1,0,0,1,0,0,0,0,0,0,0,0,0,2,0,0,0,0,10,1,0,9,2,5,1,0,1,1,3,2,6,4,3,0,3,2,1,1,0,4,2,5,0,1,5,3,3,3,2,3,3,3,0,3,0,1,1,0,1,0,0,0,4,0,0,0,0,0,0,1,4,6,4,1,0,1,3,3,0,0,0,0,3,0,0,2,0,0,1,1,0,5,0,0,1,0,0,0,0,0,0,0,0,1,1,1,1,0,0,0,0,0,0,0,1,0,0,1,0,0,0,2,1,0,1,0,2,0,2,0,2,0,0,0,0,0,3,0,1,0,3,0,3,2,0,6,0,0,0,1,1,1,1,0,0,0,2,1,2,0,2,7,1,0,2,0,0,0,0,2,0,4,6,1,0,1,4,2,0,0,0,1,2,0,0,6,0,0,2,2,1,0,1,0,0,2,0,3,0,0,2,0,1,0,0,0,0,0,1,1,0,0,2,0,0,0,0,1,0,0,0,0,0,1,0,0,0,0,0,0,0,0,0,3,0,0,0,0,0,0,0,4,4,1,1,4,0,1,3,3,0,2,0,2,0,5,0,0,0,5,0,0,1,0,0,0,1,3,0,0,0,0,1,0,1,0,0,1,0,0,0,3,0,3,1,0,1,0,0,0,0,0,3,0,0,0,1,0,0,0,7,1,4,0,1,0,2,4,0,0,0,0,5,0,0,0,0,0,0,1,2,0,0,3,1,0,1,0,0,0,2,1,0,8,0,0,1,3,7,0,0,1,2,0,4,0,0,2,0,0,1,2,0,0,0,0,0,0,0,0,0,4,0,0,0,0,0,0,3,3,0,0,4,3,3,2,4,1,0,0,2,0,0,0,4,3,0,0,6,1,3,3,0,0,3,0,0,0,0,0,0,2,0,3,1,0,0,1,0,0,0,1,3,0,0,0,0,0,0,1,0,0,1,0,0,0,0,0,1,1,1,0,0,2,0,0,0,0,0,0,0,0,0,0,0,0,0,0,1,1,0,0,1,0,0,0,2,0,0,0,1,1,0,0,1,0,3,1,1,0,0,1,1,1,0,2,0,0,0,0,0,2,4,1,1,1,4,1,0,2,3,3,0,1,0,1,2,1,1,2,3,0,4,6,2,5,0,0,2,0,1,4,0,0,4,1,1,1,3,2,1,0,2,0,1,0,0,0,1,0,0,2,1,3,0,0,0,2,5,0,0,0,0,1,1,1,2,0,0,2,1,2,1,1,0,1,0,4,0,0,0,1,1,2,0,1,0,0,0,3,0,1,3,1,0,0,0,0,2,8,1,4,2,2,4,2,1,2,2,2,10,2,2,6,9,7,0,4,1,0,2,13,5,2,6,7,3,4,9,3,0,4,5,7,6,4,3,8,3,8,5,3,8,7,2,10,0,1,4,0,5,4,10,2,5,2,7,5,8,5,0,8,3,5,4,10,0,3,1,4,2,0,0,3,6,3,2,0,7,6,3,1,1,1,0,0,0,0,0,0,0,0,0,0,0,0,0,0,0,1,0,0,1,0,0,0,0,0,0,1,0,0,1,0,0,4,1,0,0,1,1,0,0,0,0,1,0,0,0,0,0,0,0,0,0,2,0,0,2,1,0,0,0,0,0,1,0,1,0,5,0,0,1,1,0,0,0,0,3,0,0,0,0,1,0,2,0,0,0,0,0,0,0,0,0,0,0,2,0,0,0,0,0,0,0,0,0,1,0,0,0,0,0,0,0,0,0,0,0,0,0,0,2,0,0,2,0,0,0,2,1,0,1,0,0,1,0,1,0,0,0,0,0,0,2,0,1,0,1,0,0,0,0,0,0,0,1,4,1,0,2,0,0,2,0,0,0,0,0,3,0,1,0,0,1,2,1,2,0,1,2,0,0,5,3,1,1,2,1,0,0,0,0,2,1,1,3,0,0,0,0,1,0,0,0,0,2,1,0,0,0,0,0,0,0,0,1,0,0,0,1,0,0,0,1,0,0,0,0,0,0,0,0,0,0,0,0,0,0,4,0,0,0,1,0,0,0,0,0,0,0,0,0,2,0,0,1,1,0,0,2,0,0,0,0,0,0,0,0,0,1,1,0,1,0,0,0,4,0,1,0,1,0,0,0,1,0,1,1,0,0,1,0,2,0,0,1,0,1,0,1,0,0,0,0,0,0,0,0,1,0,0,0,0,0,1,0,0,0,2,0,1,1,0,0,1,2,3,0,0,0,0,0,0,0,0,0,0,0,0,0,0,1,0,1,0,0,0,0,0,0,4,2,2,3,0,1,0,0,1,0,0,0,0,0,0,0,0,2,0,0,0,3,0,0,0,0,1,0,0,0,0,0,2,1,1,0,1,0,0,0,0,0,0,0,0,0,0,0,0,0,2,0,0,0,0,0,2,0,0,1,2,0,0,1,0,0,0,0,0,1,0,1,0,0,0,0,0,0,1,1,1,0,0,7,1,0,3,1,6,5,5,0,2,2,0,1,0,0,5,1,2,1,0,0,0,0,3,2,9,6,4,2,1,2,7,0,0,0,1,0,0,1,0,0,1,0,0,3,1,0,1,0,0,0,0,0,0,0,0,1,1,1,2,0,0,0,1,0,0,0,0,0,0,2,0,0,3,0,1,0,36,48,29,0,0,1,0,0,0,1,0,0,0,0,0,0,1,1,0,1,4,0,2,0,0,2,1,0,0,0,0,0,0,0,0,0,1,0,0,0,0,0,0,2,0,0,0,0,0,0,0,0,0,0,0,0,1,0,0,0,2,0,0,1,0,0,1,1,2,0,0,1,2,1,0,9,0,0,0,0,0,1,0,1,0,0,0,0,6,0,3,1,1,0,0,0,0,1,0,0,0,0,0,0,4,18,0,0,0,0,0,0,0,0,0,12,0,0,0,1,0,0,18,0,0,0,0,3,1,0,0,0,0,0,0,0,0,0,0,2,0,1,0,1,0,14,0,0,0,0,0,0,2,0,0,0,0,0,0,0,0,0,0,0,0,0,1,0,0,0,0,0,0,0,0,0,0,0,0,0,0,0,1,0,1,0,0,0,0,0,0,0,0,3,1,2,0,0,0,0,1,0,0,1,2,0,0,0,0,0,0,0,2,0,0,0,1,0,0,0,0,1,0,0,0,2,0,0,1,1,0,0,0,0,0,0,2,1,0,0,0,1,1,0,0,0,2,0,2,0,0,0,0,0,1,0,2,0,0,2,0,0,0,0,0,0,0,0,0,0,0,0,1,1,1,0,0,1,0,0,0,0,4,0,0,0,1,0,0,0,0,1,1,0,0,1,1,0,0,0,1,0,0,0,0,0,0,0,0,0,0,0,0,2,0,0,0,1,0,1,0,1,0,1,0,0,0,0,0,0,1,0,1,3,1,0,6,0,0,0,0,1,1,2,3,0,0,1,2,1,1,0,1,3,1,0,1,1,0,1,0,1,1,2,5,0,0,0,2,1,2,0,0,0,2,0,0,0,1,0,1,0,0,1,0,1,0,0,2,0,0,0,0,2,0,1,2,0,1,0,0,0,5,1,0,2,0,0,1,1,8,0,2,1,0,0,0,2,0,1,0,2,4,0,0,0,0,0,0,0,0,0,0,1,2,0,0,0,0,0,0,4,0,0,0,0,0,0,1,0,1,3,0,0,1,1,0,0,0,0,0,1,3,0,3,0,1,3,5,3,0,4,2,2,3,0,6,3,0,5,1,1,0,0,1,0,1,0,1,3,1,1,0,0,1,1,0,0,0,0,0,1,0,0,0,0,0,0,0,0,0,0,0,2,1,0,0,0,0,0,0,1,0,0,1,0,0,4,1,0,0,1,4,1,1,0,2,0,2,2,1,1,1,0,1,0,4,0,0,1,1,1,0,0,0,1,0,1,4,0,2,0,0,0,0,0,0,2,0,0,2,3,3,0,4,0,2,0,0,1,4,0,1,2,0,0,1,0,0,0,0,0,0,0,0,0,1,0,0,0,0,2,0,0,0,0,0,1,0,0,0,0,0,3,0,0,0,1,3,1,0,16,0,0,4,0,0,0,0,0,0,2,3,4,3,3,1,0,3,3,0,3,0,3,0,1,0,0,3,0,4,0,0,3,0,0,3,0,1,0,1,0,1,0,3,2,1,0,5,1,1,0,0,2,1,0,0,1,0,0,0,1,0,0,0,0,0,2,0,0,0,5,3,2,0,1,0,0,0,1,0,0,0,1,1,0,0,0,0,0,0],\"type\":\"histogram\",\"xaxis\":\"x5\",\"yaxis\":\"y5\"},{\"name\":\"Fruits\",\"x\":[33,24,10,49,11,34,36,21,8,52,32,8,13,11,37,3,20,25,10,50,6,46,13,18,14,23,28,42,40,16,24,20,33,65,14,39,47,40,29,107,63,57,52,101,43,54,78,65,53,45,32,54,46,45,120,41,35,117,83,60,61,34,54,59,61,57,53,36,122,110,47,32,64,88,53,44,49,50,68,62,77,82,35,77,49,63,44,64,46,93,89,45,85,105,82,34,63,88,80,78,59,74,53,37,37,25,26,35,19,25,15,105,18,16,52,29,39,32,50,32,36,26,53,52,43,37,27,27,16,11,38,42,42,40,25,65,32,33,38,15,20,4,24,19,25,8,23,22,72,18,18,55,18,17,24,30,33,81,20,29,30,22,42,41,41,66,60,29,41,26,20,16,29,31,58,70,39,53,111,79,95,62,67,24,5,48,40,35,82,19,35,26,2,50,30,33,34,97,42,37,27,36,74,31,48,27,14,18,41,34,76,27,24,44,5,17,28,38,70,72,45,54,96,52,64,42,63,77,57,85,43,60,59,79,56,66,49,54,71,35,79,50,52,11,30,45,57,72,21,38,42,24,50,58,38,55,8,43,45,37,52,52,42,56,43,25,60,72,54,25,44,74,46,34,72,124,20,20,87,17,54,42,37,61,32,54,37,46,29,85,99,88,106,82,77,54,27,10,8,10,16,7,0,42,18,14,14,13,30,11,28,34,40,18,13,12,44,41,43,23,23,37,29,20,24,21,23,35,41,70,49,38,42,17,78,23,14,22,17,6,20,5,110,29,32,13,10,39,12,18,39,23,11,37,7,6,7,33,29,25,17,33,46,31,41,4,56,54,21,21,36,11,91,72,72,61,63,68,112,65,62,99,95,113,119,63,66,91,69,40,76,27,77,50,61,26,62,32,90,40,14,49,68,15,86,58,102,22,46,13,86,32,4,7,3,0,3,3,80,66,51,15,24,21,7,5,10,30,2,5,8,12,61,7,1,5,42,11,19,13,5,25,15,26,9,22,30,8,12,41,76,52,55,50,40,73,40,60,57,51,38,117,40,46,54,43,29,9,20,43,9,18,4,58,7,40,16,20,15,24,2,7,11,23,12,3,9,60,15,7,5,9,6,10,15,7,38,11,5,6,21,4,8,6,12,13,19,6,7,27,6,33,13,15,18,41,45,11,46,14,63,34,53,45,53,9,24,19,22,7,9,7,10,5,6,27,7,2,15,14,83,3,13,7,5,9,4,0,20,9,34,3,2,4,3,2,6,5,3,1,27,22,11,31,16,30,6,13,15,103,34,1,10,23,15,11,17,17,27,122,27,13,12,7,71,46,73,89,83,75,86,77,67,48,62,67,52,70,70,82,49,56,38,54,35,90,47,73,104,36,87,82,58,56,96,53,67,63,76,64,62,70,81,52,76,101,18,74,60,66,68,90,54,102,71,47,26,63,62,58,62,88,44,133,94,66,54,65,10,54,59,54,67,71,76,99,55,38,55,44,72,25,0,0,4,0,76,86,90,44,108,83,123,103,67,51,76,21,97,76,75,132,108,96,93,80,92,54,74,86,67,88,80,103,84,104,72,74,69,137,51,88,137,77,100,109,140,49,152,147,87,69,77,79,55,89,154,64,100,96,105,36,71,88,119,92,81,61,86,67,90,115,86,102,16,44,92,79,14,46,81,37,69,13,24,10,7,0,10,1,5,7,5,14,9,5,0,5,3,1,9,5,4,2,6,1,0,0,1,1,0,2,0,0,0,0,77,96,15,58,25,46,46,16,15,85,112,47,109,63,12,7,20,49,32,92,25,85,62,47,72,44,43,25,69,73,47,30,30,94,54,97,67,61,67,107,60,77,97,64,68,90,69,128,47,47,39,41,86,29,61,76,55,44,80,138,75,56,70,62,93,83,75,133,85,71,72,107,57,85,82,86,109,41,39,130,111,130,77,73,69,95,70,111,20,61,19,9,86,13,15,70,25,54,23,22,57,35,16,2,77,40,37,18,49,53,31,39,45,36,46,33,57,72,73,44,25,90,32,73,30,105,98,46,33,63,32,16,91,33,31,46,36,37,31,67,11,35,85,53,75,50,51,58,36,80,56,58,76,56,118,54,55,73,93,56,99,74,45,111,91,32,59,73,49,74,67,71,81,92,33,77,70,117,109,83,69,66,46,76,139,58,130,34,49,33,43,42,18,30,16,8,2,18,6,27,6,5,4,1,5,7,7,1,45,7,16,17,32,29,5,36,38,39,41,33,41,51,44,41,42,33,19,30,40,47,23,43,39,22,32,78,18,43,37,31,6,9,19,3,4,2,11,10,8,23,4,20,18,9,3,7,5,10,2,2,0,13,3,4,12,5,3,7,2,6,8,5,5,17,12,15,5,4,7,4,8,8,14,3,2,23,10,5,3,13,11,11,35,9,6,21,23,10,1,10,14,13,15,11,21,25,16,5,45,21,17,10,8,15,15,15,12,17,27,18,9,17,8,13,3,22,10,2,33,24,14,13,31,11,46,29,23,33,12,22,15,36,16,2,10,28,8,25,9,10,24,38,20,14,6,27,8,10,24,20,16,15,6,14,12,3,52,17,6,6,15,4,9,14,11,8,4,5,7,8,41,2,15,11,14,5,10,26,14,9,9,15,15,12,14,9,17,46,9,4,25,10,25,20,6,14,2,1,4,24,15,8,16,6,7,19,5,19,17,22,6,10,3,23,7,6,16,8,15,28,6,13,17,8,10,15,10,20,9,19,2,14,2,8,6,11,8,20,10,12,21,24,15,48,4,28,34,18,36,45,30,11,9,10,16,30,6,15,40,23,10,11,14,19,15,1,2,27,21,3,43,20,2,30,1,14,29,10,24,7,9,18,8,50,18,32,10,12,22,10,26,16,9,12,6,15,6,12,26,6,18,8,17,14,6,11,28,15,17,44,11,11,10,12,2,56,120,72,59,61,26,4,16,14,5,7,7,5,7,2,1,2,6,5,9,3,0,0,0,3,0,1,19,30,60,25,44,23,27,32,90,50,33,68,46,36,38,6,4,70,6,5,4,15,1,13,12,4,4,3,3,6,0,1,22,6,3,6,16,100,35,1,4,9,8,8,12,5,7,76,5,9,4,10,4,15,17,5,2,3,6,1,8,10,15,7,4,10,14,10,19,18,13,6,10,29,33,13,6,15,14,49,13,51,11,20,5,36,7,27,9,8,18,4,14,35,5,9,17,22,26,15,48,19,14,26,22,11,17,10,18,32,1,12,39,6,18,30,3,20,7,32,9,28,27,16,22,35,11,20,12,19,17,9,6,23,9,24,12,23,36,12,13,14,12,26,26,17,24,28,22,13,13,18,25,20,18,19,8,9,23,15,14,19,20,2,6,26,13,21,9,19,22,3,18,14,7,2,3,6,2,7,6,0,32,9,3,4,2,5,5,13,5,9,15,2,3,14,1,7,9,5,2,1,26,12,4,6,22,17,21,22,21,14,11,11,4,5,5,27,7,22,10,4,23,6,4,10,10,28,6,12,9,10,15,5,18,16,10,9,30,12,22,12,9,17,2,17,14,11,11,30,8,27,5,2,20,37,76,50,39,54,7,10,16,0,107,125,98,104,121,74,145,77,102,113,96,102,100,44,113,136,81,94,91,83,111,95,104,119,94,147,117,145,117,124,96,119,70,115,115,138,97,94,121,105,62,85,78,112,114,65,117,54,98,103,117,87,127,93,62,80,141,97,60,115,44,96,88,80,92,18,52,123,58,66,94,34,91,58,39,25,12,14,9,31,2,17,4,24,21,14,0,5,4,19,5,1,14,9,4,2,6,14,89,6,1,13,5,5,1,25,13,3,11,13,23,6,11,7,6,5,1,0,3,31,7,0,1,33,28,17,32,7,27,24,24,21,4,4,22,8,8,6,4,4,4,5,32,69,1,51,7,2,15,5,5,46,30,28,19,32,28,1,4,1,2,19,1,9,6,18,10,0,0,7,34,51,24,67,57,32,63,38,78,61,76,13,97,31,13,18,15,27,66,46,45,42,42,56,59,76,37,87,39,60,71,26,46,44,45,92,22,46,120,82,48,38,80,89,41,62,48,17,53,35,57,108,60,37,58,52,111,38,78,39,48,59,63,93,83,65,77,119,51,53,55,49,60,58,48,45,118,52,84,74,67,80,66,37,100,84,80,72,83,61,96,89,19,36,34,18,23,26,78,61,27,39,46,41,5,36,40,17,21,33,81,46,30,40,29,12,17,21,42,8,28,32,46,32,66,25,47,36,56,37,29,48,21,27,18,18,18,3,19,4,12,11,35,17,25,17,9,36,30,14,36,23,14,19,28,16,18,29,16,19,10,23,23,7,8,5,35,11,15,6,9,18,16,4,15,21,24,25,5,22,23,43,12,6,11,28,20,14,21,18,10,19,17,32,50,10,7,8,11,43,35,48,29,17,44,31,97,51,45,82,60,28,44,31,31,17,3,42,11,11,12,19,3,7,12,5,41,21,9,1,5,3,1,16,14,3,21,12,25,6,13,14,9,3,11,71,2,16,3,9,4,9,13,70,41,28,45,53,35,24,37,40,17,59,37,27,38,22,28,57,30,35,19,16,27,26,41,55,33,32,32,48,17,19,16,13,8,18,27,3,20,7,33,18,4,65,7,13,23,5,19,13,8,1,32,5,28,18,10,31,21,12,4,22,35,12,19,33,4,2,7,9,11,24,4,16,22,78,5,27,8,9,22,13,109,21,30,28,23,13,15,21,15,26,17,3,17,7,4,6,22,9,6,2,14,4,18,10,3,19,6,25,20,19,3,28,11,4,19,3,12,2,14,16,8,12,5,0,1,7,0,0,65,78,117,95,86,93,96,77,80,72,108,92,84,74,90,71,125,77,117,88,69,97,76,95,122,91,60,63,101,89,85,63,98,53,81,77,76,93,67,80,81,86,83,87,75,84,84,92,59,71,64,97,124,68,79,62,61,80,88,61,115,68,88,104,11,35,24,81,61,36,33,20,56,12,28,8,43,44,44,26,32,45,37,30,56,30,58,33,76,21,40,14,39,2,18,26,53,69,60,32,48,22,67,64,97,40,23,32,33,52,53,38,52,20,126,12,22,16,18,3,11,20,14,28,18,13,57,15,20,16,39,17,20,18,43,17,11,28,23,23,17,3,21,30,16,44,8,34,18,21,30,26,27,24,27,42,31,32,27,37,41,1,17,5,0,12,5,0,9,7,15,28,27,19,28,18,42,76,38,22,77,65,72,61,31,48,25,23,57,63,53,26,20,35,56,43,27,24,34,56,7,15,52,27,40,36,14,61,26,39,60,30,11,24,36,39,13,37,56,6,8,41,16,22,33,76,18,7,19,7,25,15,26,21,10,34,11,29,14,25,56,32,19,52,18,50,18,18,30,15,36,24,19,26,15,1,1,13,18,32,2,29,10,9,28,35,32,1,13,26,13,47,16,27,6,9,13,13,14,14,13,2,50,4,9,2,31,0,79,80,103,62,104,55,134,66,95,110,88,82,88,96,66,132,85,67,62,140,109,97,106,72,113,77,89,15,99,66,70,83,89,111,53,83,175,107,106,95,98,113,131,130,100,126,130,88,96,80,43,80,72,35,63,57,125,4,36,15,30,8,7,8,26,10,10,10,56,17,6,12,17,43,29,6,68,11,17,8,28,14,8,39,19,1,11,7,5,3,4,9,13,4,11,6,90,13,9,2,1,10,10,3,33,10,1,9,0,5,3,3,2,7,2,5,1,13,8,74,18,7,21,35,12,15,9,9,19,2,13,10,2,21,14,7,13,25,5,13,3,6,1,6,42,4,11,17,35,11,71,12,23,25,44,9,41,16,4,18,21,6,8,28,8,48,11,50,27,25,8,3,17,18,48,13,4,2,48,6,3,10,7,16,6,9,3,8,9,31,1,15,6,3,11,1,2,6,1,12,3,9,3,19,12,2,13,5,0,7,21,8,4,4,9,3,2,17,21,38,16,0,9,4,6,0,3,32,10,14,11,25,22,3,13,19,7,16,3,11,5,18,8,8,18,17,0,10,8,87,18,8,3,10,16,0,5,9,6,17,18,6,25,26,80,19,61,12,17,41,36,30,14,13,8,63,10,28,10,30,32,26,24,11,23,40,24,22,35,15,40,27,13,38,4,5,3,7,2,14,10,8,16,17,54,14,2,0,4,15,5,47,44,30,76,57,54,37,73,13,41,35,22,25,50,30,81,46,31,47,16,56,6,34,102,18,115,22,97,47,90,24,26,40,68,87,67,62,57,49,78,28,55,51,116,84,100,64,66,64,58,78,88,80,83,80,68,81,58,79,51,91,91,53,80,63,92,49,69,80,84,60,89,73,61,56,63,57,32,75,82,64,90,49,47,95,63,73,67,64,90,62,103,105,76,67,36,92,42,64,72,78,119,32,84,79,22,103,61,103,70,53,48,85,13,42,41,74,13,39,34,47,53,28,46,85,77,64,50,22,36,69,56,43,35,41,39,30,66,35,31,45,34,31,60,16,11,34,29,62,39,56,57,66,94,47,78,78,85,71,73,50,59,51,75,121,69,22,80,84,84,68,54,148,61,51,46,78,140,66,77,98,53,107,57,80,54,35,12,8,2,6,11,3,3,36,2,9,5,12,3,3,0,5,54,70,57,52,77,71,56,78,42,18,74,84,32,74,57,83,40,61,59,118,44,93,88,70,78,87,62,72,98,130,28,28,62,77,51,23,68,40,42,70,71,46,61,48,32,56,45,44,27,31,64,39,42,49,44,33,58,68,38,47,26,58,27,85,40,25,41,62,40,55,77,53,74,43,36,55,89,60,83,92,51,62,73,70,122,55,50,40,78,35,52,77,56,57,78,58,55,76,61,52,44,47,75,72,78,74,90,86,62,60,107,54,26,65,50,52,40,65,49,64,57,48,49,62,65,13,16,19,11,15,13,9,8,1,19,8,4,68,62,165,95,27,105,88,93,15,39,20,88,81,38,0,74,59,45,56,54,46,75,77,96,73,68,132,68,53,64,77,83,96,53,61,69,98,67,83,52,57,31,68,97,86,97,116,49,75,64,78,72,97,79,77,72,115,108,83,110,85,69,102,115,129,164,90,106,113,125,59,123,62,83,21,14,50,30,20,29,26,12,13,56,57,13,33,19,15,13,36,27,96,18,22,33,29,34,25,26,16,33,38,31,51,7,64,46,24,23,54,26,81,33],\"type\":\"histogram\",\"xaxis\":\"x8\",\"yaxis\":\"y8\"},{\"name\":\"Hoppy\",\"x\":[57,35,54,40,51,60,54,37,60,66,68,24,50,32,59,50,80,64,60,43,45,83,45,80,68,87,54,122,100,52,59,104,107,55,68,47,65,77,54,43,23,120,97,105,68,67,72,86,82,48,42,62,67,81,98,35,10,71,96,77,96,114,106,59,42,53,95,23,117,79,61,56,69,105,69,60,62,19,19,31,12,64,9,29,23,21,8,6,7,22,9,29,30,40,52,11,54,30,68,44,39,30,36,57,59,78,105,75,51,68,82,110,75,73,123,70,144,86,94,78,56,77,130,171,134,140,66,67,97,75,112,74,76,115,69,129,58,101,101,76,84,75,93,43,85,49,65,101,85,85,49,127,45,85,77,96,78,112,55,105,91,91,100,78,81,82,112,85,68,61,101,66,64,91,117,120,109,35,47,35,21,30,20,16,1,88,81,49,102,49,61,39,28,71,41,41,50,55,44,70,37,80,97,53,61,73,64,39,50,27,148,54,39,52,44,46,16,25,57,112,22,45,61,36,28,32,61,63,85,63,37,39,45,44,54,49,55,33,52,25,43,41,41,12,29,38,44,32,20,15,21,20,11,14,15,31,23,21,40,36,30,28,18,27,30,19,48,27,29,29,29,3,36,39,47,13,14,23,28,16,23,55,25,27,35,44,22,26,37,14,9,16,9,10,13,28,2,2,6,0,0,3,0,55,42,57,56,46,41,75,99,74,14,58,46,53,86,57,53,68,38,63,58,17,82,58,63,64,72,73,43,70,49,64,152,42,71,68,27,25,14,15,13,34,14,36,43,31,21,41,38,52,26,33,21,51,15,41,45,47,26,23,26,16,37,26,38,31,25,18,37,38,17,15,9,46,8,19,70,19,25,43,24,85,16,12,7,97,53,35,9,14,14,20,20,18,28,5,10,30,6,9,25,3,37,8,26,14,23,20,15,21,6,16,3,3,0,6,16,104,76,71,14,27,36,58,64,95,33,31,47,33,23,24,11,16,64,22,67,97,25,44,49,90,23,15,122,31,80,24,22,20,28,25,35,33,16,41,36,15,21,16,15,10,27,31,14,31,11,29,3,13,12,16,7,42,27,34,33,57,21,33,13,16,53,34,56,17,52,47,30,32,35,53,31,60,28,21,29,54,28,45,37,30,39,28,52,31,26,25,43,45,57,36,33,58,75,26,73,68,118,77,76,96,43,42,43,40,54,26,34,19,33,11,12,9,40,11,13,9,31,11,11,10,9,16,17,6,4,9,12,31,10,6,1,18,3,10,3,5,21,37,20,50,35,51,13,41,40,25,70,7,25,67,33,30,33,41,55,7,37,23,32,26,20,12,15,33,32,15,31,48,13,17,7,22,16,21,19,18,13,15,14,16,38,42,20,21,29,32,31,28,33,15,24,20,25,24,19,25,30,20,32,39,27,20,47,5,61,49,11,15,43,64,36,34,50,40,43,73,68,56,32,23,51,53,53,34,14,51,23,34,35,63,33,27,61,68,58,33,41,17,0,0,0,0,43,58,32,47,72,43,51,27,14,29,55,146,30,46,82,40,20,26,24,115,68,36,33,75,19,63,53,95,40,58,38,50,12,11,5,16,16,19,37,19,18,17,19,5,9,11,4,19,3,7,14,11,16,10,14,21,7,13,10,10,19,9,22,10,20,28,35,26,98,110,73,67,28,133,131,86,98,85,74,58,24,16,35,17,28,8,8,23,21,10,11,7,4,10,9,9,4,12,14,4,2,1,2,4,2,4,0,0,0,0,31,23,19,80,16,114,55,86,28,16,77,29,7,48,12,10,109,12,81,100,34,100,82,27,92,75,107,92,100,51,85,54,89,140,96,102,85,75,93,80,117,91,110,92,103,114,105,78,73,124,70,115,103,84,85,73,110,59,116,141,99,94,80,71,135,101,66,74,131,85,52,91,78,76,99,72,82,73,56,79,73,108,115,102,121,87,79,132,92,103,91,87,133,53,93,140,86,142,115,147,123,78,38,23,142,98,100,105,138,115,123,110,82,92,86,86,119,95,136,104,85,137,79,99,115,103,138,114,73,102,108,62,131,89,46,96,107,88,90,127,63,117,171,83,90,107,172,97,56,85,62,63,139,98,78,57,91,101,59,83,88,98,89,103,119,84,126,78,106,100,69,97,93,89,65,100,128,92,102,135,102,96,47,117,88,91,71,9,7,14,17,5,1,5,4,2,5,3,0,0,1,3,1,1,1,1,0,0,54,58,50,51,74,36,30,64,73,71,64,50,50,68,48,61,69,41,37,76,70,60,47,62,69,54,60,81,39,68,55,43,15,15,17,14,20,19,32,34,9,20,31,17,19,11,17,10,11,36,19,26,7,28,29,17,38,38,35,35,25,34,29,42,49,26,23,51,23,13,45,54,38,17,18,33,45,86,28,32,8,58,59,42,45,21,29,38,29,52,21,56,71,26,69,39,58,88,43,36,45,74,30,31,26,37,47,41,51,45,37,35,12,39,56,74,26,51,28,33,89,18,51,35,98,30,41,68,40,79,28,91,52,71,90,52,28,69,18,83,46,36,73,53,42,96,50,90,53,76,73,46,66,47,33,31,53,43,79,39,25,32,62,66,30,25,25,62,14,7,41,17,33,31,43,42,26,14,67,72,42,33,28,49,31,24,37,46,26,25,32,38,74,37,47,60,17,27,16,26,42,47,20,66,32,55,42,31,52,88,53,57,39,44,70,79,67,32,50,62,18,52,32,53,37,36,45,55,54,53,35,56,19,35,35,52,49,38,40,25,21,48,48,32,28,49,34,36,13,25,31,125,24,6,29,17,33,30,26,22,15,29,33,11,29,34,20,14,12,6,16,10,19,35,7,28,21,33,18,16,22,65,88,64,69,122,29,67,60,50,62,59,63,66,51,53,59,58,81,65,74,48,66,45,54,26,55,75,43,60,74,51,50,59,31,77,44,106,88,75,124,101,74,36,23,42,20,39,29,33,30,15,3,3,9,14,15,9,1,0,5,21,0,9,66,59,57,79,78,65,32,52,115,115,49,61,86,46,77,12,9,28,18,42,4,32,9,9,23,12,65,36,42,23,8,31,52,36,49,16,50,33,41,2,33,10,26,10,20,22,17,11,35,38,24,28,29,16,18,20,3,38,38,56,20,6,16,53,45,16,24,26,21,42,20,19,15,19,10,28,7,17,34,7,16,19,14,7,9,5,3,10,27,38,48,30,26,24,43,38,29,19,25,76,31,34,20,44,46,38,38,23,38,42,24,34,30,51,51,45,22,42,14,39,28,42,40,34,43,61,47,49,29,42,57,28,46,44,58,76,49,59,63,69,33,41,21,50,64,58,23,44,72,49,29,29,69,46,28,50,53,58,44,40,66,47,32,26,17,45,34,15,69,12,27,17,42,29,27,23,25,28,6,2,5,7,6,24,10,19,2,6,18,41,35,29,34,33,30,34,26,49,55,59,30,24,47,31,11,41,39,18,70,34,46,27,28,36,17,29,53,43,54,42,57,44,66,65,14,55,45,71,8,48,56,51,55,48,37,53,61,57,44,63,91,36,43,25,41,38,80,42,53,46,31,25,22,31,63,21,9,17,9,7,1,1,3,0,16,10,16,17,13,7,22,5,7,15,1,14,18,78,12,7,12,8,6,10,10,0,8,14,12,11,5,11,4,25,10,7,6,9,18,15,5,25,9,12,7,7,25,24,23,10,17,6,22,23,32,21,22,20,13,26,15,24,9,38,18,8,27,11,6,21,3,100,16,25,23,14,30,5,9,7,2,4,1,4,0,6,2,15,3,0,0,1,6,2,2,41,57,21,5,34,47,77,146,48,13,70,48,65,15,7,19,43,30,5,17,42,31,30,51,18,11,55,8,11,4,5,3,41,22,50,70,28,32,35,31,46,18,36,38,41,30,15,24,15,14,4,34,14,19,38,20,12,13,29,10,78,40,43,49,76,25,10,14,12,4,17,9,16,28,22,21,4,6,26,30,38,35,31,18,22,42,7,5,38,8,16,8,76,41,11,19,11,34,29,12,38,25,33,51,16,51,8,26,59,17,36,23,47,96,115,58,78,84,124,69,88,87,64,47,87,103,69,90,87,76,88,125,87,83,105,106,58,105,56,16,24,64,23,64,40,53,38,37,51,28,83,34,38,32,34,61,37,55,115,46,57,44,37,56,70,91,50,95,52,27,92,43,53,78,66,35,41,130,91,50,94,61,108,42,92,46,66,57,78,106,89,89,79,61,43,74,76,93,49,88,48,98,50,123,88,77,50,90,56,98,90,76,98,74,128,98,82,78,36,100,104,70,119,81,71,68,84,110,96,130,54,31,104,76,99,81,79,94,67,95,82,112,36,49,81,59,78,64,64,72,41,122,83,80,103,103,53,76,48,95,101,59,38,69,91,73,74,79,58,105,85,68,20,149,55,82,56,99,62,86,139,108,95,100,64,97,104,116,88,32,118,59,72,88,69,37,50,47,37,18,59,20,44,44,20,8,94,13,17,22,36,15,102,38,26,38,39,97,37,13,26,17,23,49,29,48,41,21,33,19,44,38,27,35,7,10,41,24,20,27,29,31,49,36,16,46,16,42,14,22,26,20,44,62,32,32,31,52,7,63,14,33,28,48,36,44,58,24,44,43,33,6,46,22,13,43,25,52,42,35,49,32,25,52,35,29,26,24,31,43,17,23,39,36,18,29,29,17,23,25,86,11,23,14,34,8,30,12,64,5,22,4,12,33,17,25,37,20,58,57,44,26,13,25,53,68,35,46,61,43,52,33,17,26,8,62,13,11,43,10,27,27,39,28,37,22,14,45,6,8,28,25,30,10,25,14,16,2,17,3,8,20,18,16,9,13,16,36,16,19,5,29,19,14,8,27,7,13,5,7,13,24,42,18,3,20,24,12,8,9,10,27,13,10,5,8,4,11,14,20,19,8,18,28,9,10,7,19,8,11,17,12,25,22,18,16,12,16,14,12,10,24,15,20,11,34,94,56,122,100,82,75,36,94,74,60,31,111,135,79,75,46,94,66,107,99,85,90,82,122,56,66,68,80,24,37,63,62,139,80,105,99,86,92,172,129,74,94,97,93,79,97,118,36,76,151,29,58,50,44,30,25,50,41,15,68,49,56,49,55,52,51,49,62,39,30,84,45,60,44,53,25,35,55,49,32,68,43,82,42,42,56,53,66,79,17,32,55,16,18,4,15,9,7,8,0,5,1,0,0,6,52,54,107,11,59,15,71,100,73,61,62,114,117,143,46,57,117,47,89,89,96,15,42,21,39,17,47,15,32,28,25,24,65,23,17,32,15,54,17,20,50,11,25,33,59,15,32,25,30,27,41,37,20,50,39,50,28,26,46,14,35,18,22,31,16,18,30,43,37,29,113,31,21,50,44,15,44,38,69,52,42,33,7,39,41,12,8,25,14,34,9,52,6,13,34,31,21,33,24,12,35,21,38,10,22,12,20,7,26,35,16,5,37,43,12,17,7,3,10,17,15,9,18,7,7,5,28,44,3,12,9,9,5,26,17,4,10,16,9,25,18,4,28,23,20,3,7,2,5,4,4,22,14,8,10,9,7,7,30,9,13,15,12,10,13,19,4,5,2,7,5,10,58,45,21,31,8,29,18,9,16,18,84,105,20,42,22,19,30,19,3,3,33,39,9,39,50,16,19,5,12,32,49,18,16,15,4,21,16,53,67,62,37,24,25,32,65,18,19,23,32,21,26,18,28,31,20,15,27,7,40,18,22,16,28,45,16,12,40,20,50,24,20,29,38,25,48,5,41,48,19,29,18,17,32,55,23,45,30,15,14,12,9,16,31,40,50,12,13,57,43,23,14,38,19,28,26,34,100,53,23,17,45,42,24,33,13,29,30,23,35,43,28,26,16,17,38,9,34,17,18,27,18,34,18,35,43,88,14,23,24,26,57,24,22,17,22,39,37,22,29,53,36,24,56,21,31,49,40,29,65,22,35,24,24,21,54,49,44,0,22,26,14,27,22,42,47,49,2,38,18,12,32,39,39,34,26,19,23,52,48,24,38,86,30,25,19,52,24,24,24,50,33,24,13,44,67,23,11,30,25,5,74,18,31,36,19,55,27,16,34,47,3,39,64,22,42,30,23,15,102,11,63,12,26,22,36,2,17,27,55,43,28,21,56,17,19,38,6,12,30,44,16,20,12,19,25,16,15,59,70,41,13,10,17,11,48,36,20,58,25,44,8,5,116,18,59,9,14,125,13,67,62,18,37,49,14,81,16,19,75,5,15,20,13,16,19,8,27,35,10,17,20,13,19,47,26,22,31,11,21,11,14,36,4,26,12,16,23,29,15,18,18,36,46,27,15,36,22,24,9,14,49,28,25,51,16,57,23,36,65,16,41,22,29,58,36,45,42,20,43,65,68,20,19,62,29,37,21,26,0,14,53,24,41,31,49,46,20,46,46,48,21,21,58,16,33,62,34,34,40,46,62,49,67,49,59,69,35,15,76,35,54,35,74,39,55,40,46,27,45,16,86,31,24,77,77,31,14,36,59,26,24,27,22,46,15,11,56,51,23,38,42,59,22,15,46,42,39,24,12,60,54,26,34,26,68,22,17,28,40,35,11,56,113,46,14,7,30,24,58,5,7,15,3,6,4,7,0,1,5,6,58,23,31,23,46,25,72,32,56,11,19,29,53,31,43,53,49,15,36,37,27,30,25,24,60,11,77,49,103,41,21,25,21,24,9,22,20,21,14,11,24,13,6,13,34,20,25,14,21,28,13,40,10,16,12,10,12,10,13,45,11,13,20,17,10,6,19,13,5,23,11,20,56,16,17,16,12,24,22,16,11,34,20,14,9,20,40,14,8,33,6,13,25,14,10,8,19,21,53,8,23,26,15,21,14,19,21,24,25,14,22,23,45,12,34,12,56,28,11,25,13,20,30,16,27,3,8,20,5,4,7,6,5,0,11,7,3,7,20,43,43,11,43,26,31,4,61,16,36,32,9,0,25,27,21,18,32,19,42,37,23,41,24,17,31,32,36,28,45,57,30,20,25,56,39,32,29,36,30,39,40,63,41,55,33,74,48,33,20,9,20,15,3,8,10,4,11,5,3,11,13,16,13,6,13,23,16,12,10,5,14,10,17,48,69,8,73,27,40,27,92,78,47,34,29,41,17,49,47,94,48,81,63,37,32,14,24,30,18,53,124,78,21,47,28,24,45,14,21,110,16],\"type\":\"histogram\",\"xaxis\":\"x7\",\"yaxis\":\"y7\"},{\"name\":\"Spices\",\"x\":[8,12,4,16,20,4,8,4,16,8,12,2,6,2,19,5,7,10,9,13,8,19,10,7,2,18,4,11,8,9,6,10,3,15,15,6,5,14,12,13,27,14,12,24,17,13,11,14,22,21,22,22,2,17,6,4,10,25,5,10,16,9,17,14,35,32,15,25,9,12,4,23,6,4,27,11,4,18,27,15,27,15,32,18,24,9,25,54,18,30,14,5,31,17,14,66,20,6,17,51,4,16,4,10,13,0,9,5,7,3,2,11,20,7,22,6,9,12,7,28,6,2,8,13,12,12,3,21,7,3,9,13,14,13,6,6,1,6,23,6,13,9,14,2,32,23,17,13,11,9,4,9,19,11,9,8,14,7,2,4,37,3,11,8,7,6,12,21,21,9,11,12,14,9,16,14,13,34,8,13,16,9,28,3,0,3,2,0,17,5,4,10,0,4,6,14,7,0,7,7,1,8,5,3,1,28,3,2,4,3,9,3,0,3,4,7,22,17,32,38,25,16,24,25,29,15,33,32,35,48,34,25,22,29,24,35,30,34,26,16,15,16,36,2,14,28,19,43,8,10,9,4,13,10,15,7,19,9,9,16,5,11,9,13,22,4,4,21,7,28,15,6,10,17,8,16,16,8,19,5,7,7,15,26,11,7,10,24,0,18,6,27,39,8,10,10,7,4,0,2,6,2,0,19,5,14,13,2,25,17,20,10,14,5,10,9,12,15,9,17,8,11,12,9,12,8,9,6,11,13,11,8,11,5,15,3,15,9,45,2,0,1,3,0,103,24,6,13,1,5,21,39,7,6,4,5,3,13,9,26,8,11,13,9,6,8,33,6,3,4,4,4,45,47,33,9,30,53,33,46,29,34,38,49,40,30,34,42,27,21,44,12,56,57,30,12,46,31,28,11,11,28,38,8,43,73,107,120,18,11,20,18,6,5,11,1,0,6,9,14,32,6,27,14,10,3,15,3,1,9,11,13,3,4,3,19,0,4,7,10,8,4,15,8,3,20,17,1,4,31,66,16,31,64,25,52,4,19,12,80,27,33,43,5,63,22,45,11,26,17,7,24,7,10,3,2,13,11,6,9,19,4,1,22,2,6,8,72,8,1,0,7,15,4,4,3,15,2,8,11,2,2,6,2,2,4,7,1,3,5,10,9,16,3,7,11,7,7,16,2,4,2,8,6,8,5,4,4,3,3,1,1,3,2,1,59,170,96,87,184,105,90,153,132,136,50,46,52,169,158,87,118,88,76,42,118,96,50,63,27,7,22,3,10,2,0,3,2,5,5,4,51,2,3,68,1,9,12,3,5,14,1,2,5,39,27,28,31,24,17,24,22,15,23,22,20,10,27,24,33,18,22,17,39,27,40,16,18,34,27,42,16,21,26,21,9,30,21,28,24,37,49,22,29,16,35,12,6,25,27,25,8,20,33,36,15,14,15,12,34,18,13,17,25,25,24,10,24,31,9,39,31,40,35,27,30,15,78,29,23,19,6,0,0,1,0,48,30,39,23,47,26,27,46,41,44,17,35,36,62,50,21,7,50,8,20,71,41,57,36,17,40,42,41,41,19,24,2,0,4,1,1,6,1,17,10,15,64,21,19,2,7,1,27,0,5,6,0,3,3,0,11,82,2,2,3,6,3,0,1,93,5,5,5,30,12,17,10,7,79,66,44,51,25,35,18,1,9,5,1,12,2,4,0,5,0,0,1,2,0,1,1,1,0,5,0,0,0,0,0,0,0,0,0,0,0,13,8,81,13,5,23,26,12,105,123,17,100,52,60,68,152,18,157,178,8,126,42,46,63,4,3,6,5,2,10,4,1,10,1,3,5,3,0,6,6,3,6,6,5,4,2,6,13,4,4,3,5,12,2,4,7,14,0,2,7,2,3,29,9,36,24,22,26,26,18,26,31,22,34,22,28,31,6,21,22,35,29,56,37,14,25,26,58,11,10,6,5,12,9,8,11,3,14,18,5,3,16,17,8,8,9,6,18,11,13,6,8,6,8,1,12,15,4,11,5,1,9,9,11,6,27,8,25,29,3,12,2,10,6,5,17,6,4,18,7,19,5,14,12,8,7,8,8,5,1,8,18,9,2,3,22,4,1,0,5,2,3,1,7,14,4,7,7,4,10,3,1,7,3,6,4,3,5,4,0,13,5,3,2,3,7,5,7,8,7,4,7,4,2,1,0,0,3,2,2,2,1,4,0,1,1,0,0,4,12,2,0,11,4,5,6,12,4,9,2,3,13,6,9,12,4,0,7,7,13,5,7,6,4,13,19,0,6,4,4,3,1,4,5,3,1,11,4,0,2,1,2,3,2,2,1,1,3,4,4,3,3,1,4,7,2,5,3,4,3,5,3,11,4,4,7,4,0,4,9,3,1,5,2,1,3,6,2,1,6,8,3,9,0,2,8,4,5,1,8,11,2,9,2,7,8,7,1,5,6,4,1,2,1,4,7,4,1,1,5,0,3,7,8,2,4,0,4,10,9,1,2,15,1,3,0,5,5,2,6,3,6,9,8,2,4,3,6,2,3,6,3,8,14,9,7,2,5,6,7,11,1,3,11,5,6,9,10,0,5,0,4,2,7,8,7,15,0,14,1,2,4,1,12,2,2,63,21,8,11,2,4,2,5,10,4,6,3,14,5,9,2,6,15,5,4,2,3,0,7,6,3,4,8,5,4,5,6,9,4,10,8,13,2,7,3,5,9,1,12,3,3,0,1,3,6,4,11,4,1,4,3,2,6,4,1,0,1,1,3,7,6,9,3,5,9,3,1,4,7,2,0,4,1,3,17,1,0,12,7,3,6,8,2,2,0,1,1,5,4,12,9,1,5,2,3,6,0,6,17,8,8,5,10,7,12,7,89,16,12,9,14,6,7,3,4,6,4,9,7,9,9,8,4,6,12,4,4,10,11,3,5,0,5,3,10,5,5,3,6,3,8,0,4,1,3,4,0,1,1,0,0,0,3,1,0,1,0,0,2,0,0,10,8,19,15,15,9,9,9,12,32,8,10,18,8,20,3,2,6,2,5,2,5,0,6,1,1,6,3,4,0,0,1,10,2,6,1,4,0,5,0,2,2,1,1,0,1,1,1,0,3,1,4,0,0,2,1,0,4,1,3,3,0,1,4,6,0,1,5,1,3,1,5,4,13,8,1,0,2,6,0,1,2,3,5,1,3,0,4,5,10,6,2,13,2,11,7,5,9,14,25,10,6,5,11,12,12,7,5,9,7,5,12,6,6,1,7,3,8,1,6,8,11,1,3,13,10,5,24,20,9,9,9,3,16,31,19,14,20,34,10,6,5,4,11,26,7,5,10,12,9,20,2,3,12,2,6,12,13,17,14,4,11,9,124,78,103,95,122,121,99,95,65,84,76,105,96,107,93,51,33,38,19,87,54,34,55,23,37,4,24,5,13,3,14,9,7,8,6,2,26,14,8,5,12,15,4,13,31,30,23,14,5,6,5,8,15,4,23,7,5,16,3,23,7,8,16,2,12,1,5,5,12,6,7,11,2,7,5,21,4,4,3,5,2,14,2,5,6,7,8,3,4,2,2,1,21,2,27,0,5,0,0,0,0,1,9,17,3,4,5,3,3,9,9,0,1,7,26,0,2,15,0,5,3,0,4,10,7,5,7,5,0,3,10,10,8,0,4,22,7,3,5,2,6,0,7,7,8,7,1,9,2,10,13,11,7,11,11,5,5,15,3,5,10,4,14,14,2,7,0,0,17,6,5,7,12,15,9,2,5,6,2,2,6,0,0,2,2,5,4,0,4,0,1,0,6,4,2,1,4,7,21,15,6,0,4,7,2,1,2,1,1,0,6,0,4,3,3,7,0,0,5,2,4,2,2,3,19,9,6,11,13,8,5,5,9,6,9,6,8,1,12,5,7,3,1,9,14,13,15,2,1,8,2,1,10,3,5,1,9,5,0,0,1,0,3,3,2,0,4,3,1,0,3,15,19,3,42,32,17,12,21,21,9,35,33,32,11,33,31,3,42,27,53,12,16,40,19,13,38,53,58,63,18,9,22,8,17,5,8,1,6,0,4,9,3,14,0,2,2,3,1,10,4,6,4,2,5,2,1,11,5,4,24,36,25,21,27,37,60,47,57,50,13,19,16,25,27,27,41,30,13,29,28,29,33,40,37,35,22,4,9,47,88,33,26,11,4,13,3,5,4,13,4,7,6,2,4,2,0,6,4,2,5,20,0,5,11,7,3,7,10,17,6,5,0,3,15,9,4,1,7,8,3,4,6,10,14,8,11,10,16,9,4,5,11,6,18,12,4,10,17,12,14,15,2,3,12,25,5,8,9,16,8,14,15,19,5,6,12,13,13,6,4,2,4,9,18,10,23,7,7,11,2,4,20,2,2,11,11,10,8,5,5,6,24,8,3,22,4,11,4,12,13,4,9,13,2,9,8,5,13,16,23,7,8,15,10,8,3,8,3,10,4,47,11,4,11,15,20,9,14,3,59,6,14,3,5,83,6,13,6,8,4,16,2,7,6,4,102,11,7,9,16,8,11,7,7,27,21,7,18,126,19,18,12,9,48,12,110,8,10,28,25,7,8,10,52,37,27,27,14,10,104,17,10,40,9,22,14,4,1,13,13,19,14,9,8,13,70,7,13,18,11,9,13,4,5,21,6,6,11,51,13,34,5,33,25,30,15,16,10,14,6,45,25,33,33,23,17,36,8,33,7,17,13,41,42,32,11,8,19,15,29,9,14,10,30,18,12,14,15,15,18,19,15,27,3,3,2,76,81,88,67,173,105,119,82,58,118,119,78,86,102,124,110,64,101,74,131,45,17,33,101,12,34,51,71,100,138,39,66,78,61,86,79,122,118,85,59,75,111,74,113,102,75,68,72,82,74,155,79,68,98,80,80,30,11,6,12,29,26,26,38,40,54,34,20,24,21,23,16,19,3,29,24,27,20,35,33,18,30,17,21,26,17,35,24,42,35,3,14,6,9,10,7,15,6,5,4,3,2,4,6,7,14,0,16,2,9,10,3,2,11,29,4,4,4,10,12,30,22,6,13,2,10,10,1,7,0,18,7,2,4,8,13,5,5,19,2,8,0,11,3,4,7,3,3,9,0,2,4,1,3,2,12,4,4,6,3,1,7,2,9,2,11,2,5,5,5,2,13,7,7,1,8,5,6,22,7,19,56,46,40,14,16,24,8,32,4,2,8,4,0,7,4,27,33,40,28,24,105,13,36,24,15,49,39,27,48,27,32,27,22,18,26,27,36,15,16,23,15,45,23,17,11,37,13,20,14,23,50,39,28,48,1,12,35,15,28,23,18,16,13,7,38,10,14,73,50,27,15,14,19,11,17,14,10,6,13,7,7,8,12,17,11,22,11,34,12,12,50,21,14,19,14,12,14,28,13,7,3,0,26,6,18,79,117,99,81,104,97,139,111,62,82,125,82,113,70,140,123,87,81,48,90,91,99,84,32,46,88,63,2,3,10,7,4,1,0,2,1,4,0,5,3,9,2,7,28,4,7,5,25,12,12,11,8,4,15,15,2,1,16,3,4,14,25,11,11,12,22,7,8,18,17,13,22,11,23,16,19,8,4,8,9,2,0,11,21,1,20,24,9,7,26,14,21,9,10,17,29,20,18,2,34,90,30,17,14,52,48,14,158,19,25,20,18,8,8,12,30,11,18,79,11,6,5,21,39,11,49,11,5,10,7,13,6,14,4,8,9,2,3,10,7,5,19,35,116,14,10,5,4,2,3,46,29,10,15,15,3,8,0,8,11,19,13,18,15,19,18,12,10,12,21,8,5,15,10,10,9,16,7,169,44,10,5,11,14,5,7,11,12,22,11,9,9,20,22,23,19,4,7,6,19,13,7,17,3,8,3,8,4,6,10,10,4,1,4,4,13,6,7,6,9,1,6,6,0,7,6,3,10,11,4,17,2,8,17,22,20,7,8,12,12,28,61,8,23,17,10,45,20,12,3,10,4,14,10,12,14,21,16,31,16,4,7,1,21,9,3,5,4,12,10,7,3,15,20,51,102,6,6,23,4,3,4,11,6,9,11,21,11,20,10,15,27,30,8,15,4,32,19,15,24,25,16,18,19,29,20,6,14,20,13,25,9,7,45,15,15,12,12,10,14,13,33,4,4,11,7,2,13,127,5,21,12,27,17,2,4,7,6,1,5,6,8,42,21,26,27,20,22,48,10,22,4,36,17,8,49,0,27,5,19,6,14,1,25,17,7,4,26,56,27,7,9,28,33,10,22,20,24,15,9,44,39,18,51,13,44,40,18,45,50,24,23,33,27,14,30,38,27,20,64,66,18,34,33,35,25,54,14,28,19,26,27,31,34,49,41,21,33,34,28,41,28,32,49,37,17,42,29,37,21,19,60,55,11,24,48,15,26,19,15,35,7,8,25,13,37,20,79,55,71,13,68,23,62,11,28,4,3,10,14,9,5,22,11,17,22,15,21,19,25,16,7,25,13,4,45,16,7,37,2,19,28,14,5,65,23,14,53,45,37,25,23,55,31,36,58,47,23,65,32,32,41,32,40,27,35,44,28,37,23,45,34,35,24,22,54,56,35,32,47,23,38,23,50,3,24,21,7,0,14,8,3,1,11,0,10,3,9,6,1,0,0,8,15,6,7,34,27,3,7,13,3,7,4,1,31,3,18,10,16,14,16,12,21,7,6,29,5,7,13,16,3,75,8,38,3,39,15,74,27,25,44,46,32,35,23,18,32,14,19,12,14,40,23,26,28,31,14,20,42,41,12,15,46,21,71,23,24,16,29,57,39,25,32,34,24,47,33,27,50,44,69,37,38,20,39,5,19,50,34,30,21,33,36,32,32,32,34,36,25,29,25,20,25,37,22,40,55,52,60,30,40,34,28,10,58,10,31,13,32,27,33,39,37,15,10,33,5,3,4,5,4,4,3,7,3,6,6,1,48,27,32,29,27,19,14,9,18,8,0,11,7,12,0,17,31,17,14,29,23,34,34,14,28,34,11,30,33,34,23,38,79,46,16,28,76,33,40,14,25,30,30,27,42,22,67,17,49,37,38,7,9,1,3,19,4,13,11,9,10,16,0,20,16,5,13,8,11,27,35,2,3,31,64,79,39,30,53,24,130,80,42,52,25,30,36,128,86,116,27,45,14,30,38,23,27,55,123,124,123,59,34,17,44,47,61,27,28,67,140,96,18,148],\"type\":\"histogram\",\"xaxis\":\"x10\",\"yaxis\":\"y10\"},{\"name\":\"Malty\",\"x\":[111,84,62,119,95,103,97,98,97,77,121,65,93,112,115,110,103,135,111,176,97,121,70,132,117,103,138,130,76,109,100,141,98,182,100,96,80,110,70,62,133,119,117,105,89,122,130,83,98,134,103,119,110,99,100,67,76,104,87,108,95,83,97,89,92,132,113,132,103,114,104,114,119,102,107,115,108,112,88,97,168,110,101,104,141,65,123,74,96,93,76,114,101,170,92,95,130,70,125,143,111,130,91,67,88,117,52,102,92,118,89,117,90,95,73,123,87,126,107,101,79,84,99,120,62,126,109,112,85,95,105,106,94,169,72,89,79,108,81,61,89,89,97,56,88,64,88,89,69,36,99,85,80,74,74,116,122,55,74,117,82,104,69,82,81,69,64,23,75,53,82,89,64,109,113,59,90,19,22,47,70,72,62,15,3,38,50,34,100,54,85,36,23,107,67,46,64,45,84,68,46,49,67,61,65,120,51,43,92,44,62,60,66,66,50,48,32,41,46,63,45,66,61,45,42,42,56,35,67,71,62,40,62,39,62,66,65,57,72,29,22,39,71,7,30,31,28,61,16,93,111,86,127,104,92,140,192,78,114,100,119,158,148,123,135,75,165,144,105,85,127,126,123,104,172,157,113,116,129,78,76,187,83,130,128,92,107,132,147,85,90,130,114,110,119,92,16,10,8,4,17,20,0,113,65,131,94,117,94,115,136,112,86,74,91,92,136,108,87,107,92,114,65,62,78,97,87,102,111,109,116,90,86,87,98,89,128,62,64,63,108,80,138,115,130,102,93,100,67,88,106,107,70,152,159,199,114,110,115,119,105,113,81,106,91,84,101,95,76,101,74,91,107,50,62,68,86,136,77,82,111,118,178,68,108,94,55,35,150,121,78,57,89,49,76,80,57,43,87,21,32,52,78,21,180,97,70,119,82,49,70,57,16,56,16,4,4,7,20,27,23,93,88,157,101,91,207,124,109,98,155,218,80,146,130,128,82,118,133,99,127,167,137,117,103,95,118,121,113,125,58,38,67,63,97,63,76,68,80,76,103,47,51,52,81,92,52,92,77,94,12,48,46,48,18,136,157,118,149,148,186,131,78,86,138,120,130,162,148,114,84,133,168,130,112,141,152,103,147,154,117,127,117,135,142,177,131,167,96,133,114,127,145,164,133,77,126,173,148,92,61,39,79,97,42,76,35,35,75,30,43,13,12,11,8,84,47,20,74,22,30,24,42,31,30,26,15,17,30,31,41,38,95,7,7,31,12,11,7,8,37,91,31,107,69,64,18,50,65,58,72,48,48,96,53,46,76,118,44,31,74,71,58,137,81,59,73,92,82,84,85,75,79,66,64,102,66,83,53,85,65,72,39,78,66,104,80,85,67,58,109,82,79,91,74,76,97,66,58,81,73,68,80,71,64,15,69,19,50,69,27,31,58,49,105,100,71,88,65,100,83,68,71,19,97,74,80,100,38,60,83,64,82,69,49,96,72,43,144,48,31,19,0,0,4,0,37,17,29,19,43,31,30,32,51,32,56,26,8,65,45,25,32,28,20,42,64,28,24,54,40,51,50,32,52,41,47,28,25,16,28,20,32,59,63,17,33,63,61,21,24,24,35,31,36,21,53,43,47,14,33,13,35,56,33,32,77,44,52,24,53,28,30,109,55,51,96,58,105,16,36,88,67,76,20,41,16,4,9,11,11,21,3,85,29,26,38,22,11,10,15,35,3,18,7,4,5,2,4,6,21,8,0,0,0,0,62,64,43,55,56,44,60,62,61,53,80,128,47,56,68,77,59,30,92,68,43,60,27,84,28,24,38,47,65,33,44,25,69,33,61,49,41,35,38,45,31,27,40,45,43,54,61,49,34,47,77,61,59,34,47,25,75,30,74,49,61,41,40,26,46,50,22,23,53,34,21,33,25,32,38,44,45,17,39,31,44,40,36,37,58,44,60,100,91,85,78,70,115,101,73,121,61,134,126,109,90,84,112,64,104,90,96,111,76,111,112,61,42,53,55,53,77,71,69,79,51,90,67,84,50,77,98,70,102,83,69,36,60,53,24,82,69,51,59,100,37,80,92,33,63,86,82,61,42,32,39,60,45,36,61,53,46,59,46,57,47,78,35,47,93,22,39,38,19,50,40,25,53,47,74,60,61,42,30,26,55,13,36,30,24,29,30,92,128,68,42,71,62,86,48,37,38,72,29,12,26,10,19,25,16,30,13,0,57,87,45,27,74,53,68,61,83,69,54,72,71,58,70,91,69,56,56,88,50,85,39,93,64,47,58,100,45,56,79,80,50,23,22,30,34,37,67,43,35,32,38,24,43,65,46,27,18,37,26,43,26,32,46,29,47,53,38,50,34,57,48,43,51,56,39,53,27,31,45,64,55,44,28,41,48,72,66,71,63,82,107,73,43,55,64,103,66,63,42,81,102,76,123,96,66,135,95,109,99,110,100,70,132,81,77,104,71,79,80,39,36,60,40,78,40,46,46,43,59,20,49,52,93,47,78,71,66,52,51,84,95,158,72,62,49,93,43,79,55,67,107,83,73,109,73,121,79,85,102,78,59,55,25,27,59,42,79,56,23,46,72,52,54,53,37,46,85,30,103,83,80,96,64,118,78,66,102,153,104,133,98,115,92,79,115,102,112,89,103,131,74,120,98,138,40,157,53,26,39,76,48,64,55,40,44,74,68,93,81,51,36,38,63,77,67,45,48,72,51,65,62,61,47,47,74,72,57,50,56,63,41,47,33,68,54,51,33,32,50,51,68,66,106,72,68,73,58,78,32,40,87,27,52,49,48,52,85,39,44,46,53,39,41,34,30,18,23,36,48,10,43,67,15,64,47,31,44,26,40,60,84,61,108,138,74,54,56,59,53,85,79,76,48,76,75,59,85,66,80,74,72,51,79,40,85,97,69,60,65,72,68,50,41,88,63,54,25,45,55,61,21,64,45,74,48,73,44,99,44,21,4,6,26,25,18,23,2,0,4,18,0,4,97,96,95,115,62,93,121,117,114,103,86,100,108,58,63,40,15,44,43,66,11,36,22,37,30,26,71,59,54,49,18,49,59,49,66,42,82,23,54,7,50,24,42,31,30,30,32,17,60,58,30,45,24,26,54,58,30,79,73,79,77,31,62,95,91,43,43,68,37,97,84,73,62,53,31,73,63,37,62,47,38,58,48,57,61,51,31,30,89,100,127,51,162,121,92,121,102,122,80,144,121,123,89,107,131,144,138,82,132,147,123,94,132,123,135,123,65,119,50,129,121,140,113,104,84,121,105,129,101,138,90,65,81,110,115,115,72,117,134,115,82,87,72,95,95,89,68,91,105,86,83,65,83,73,68,102,110,105,123,107,137,109,106,64,80,128,58,98,106,64,100,83,80,72,53,98,69,67,34,22,18,22,45,27,27,42,20,30,94,123,91,101,73,114,107,100,75,91,123,131,109,88,131,79,107,127,214,159,119,140,123,90,113,134,108,121,103,128,83,78,94,67,103,80,54,85,88,90,58,117,91,130,112,80,92,134,88,126,113,58,112,108,73,107,102,88,100,98,102,84,51,67,39,34,71,44,40,64,22,26,15,11,2,0,5,23,10,14,16,13,26,8,13,14,11,9,13,4,8,20,8,8,8,10,9,20,13,21,22,39,3,13,12,22,20,36,4,17,18,23,2,21,27,14,3,11,9,19,20,9,23,5,11,18,13,14,18,19,4,28,38,24,14,19,41,30,18,7,33,18,10,56,11,15,21,14,24,13,10,5,2,3,1,7,1,2,4,9,4,0,0,5,0,7,0,62,94,47,44,50,56,90,89,59,40,81,40,57,44,28,32,64,62,27,24,55,33,29,39,15,18,37,56,11,15,7,20,163,74,154,155,115,107,106,129,142,102,100,138,99,108,77,70,38,62,24,88,50,48,74,50,54,46,43,30,101,77,43,50,51,16,12,40,17,1,30,10,18,32,13,5,16,12,15,97,87,139,132,124,72,90,128,149,97,88,85,103,77,91,74,91,97,131,115,48,79,102,103,109,123,151,117,102,88,85,101,102,108,48,64,37,55,23,61,47,67,46,27,39,80,52,45,79,58,37,47,59,70,45,46,62,47,57,23,35,35,88,70,37,69,37,61,37,74,40,36,36,43,74,24,27,71,47,44,50,47,46,45,43,32,54,35,68,39,68,47,80,55,102,91,32,72,80,66,54,84,80,56,29,48,42,37,73,72,99,65,94,98,61,77,90,51,108,83,65,99,78,87,88,100,80,80,100,50,82,76,68,51,69,76,66,85,45,34,60,68,80,81,65,75,79,90,76,59,94,56,48,73,58,71,73,86,78,61,82,56,65,29,47,80,56,56,53,52,49,76,70,56,53,75,75,36,71,44,67,76,55,43,67,95,49,78,56,70,86,98,57,26,117,63,54,44,88,47,56,56,61,19,82,66,68,85,85,65,97,103,74,73,85,46,42,40,142,125,50,126,86,145,168,72,63,110,119,109,93,112,57,105,111,166,97,107,74,109,97,101,78,120,111,153,97,128,87,175,100,130,103,148,129,103,88,148,105,100,89,126,114,155,130,128,137,153,109,127,100,110,122,211,148,143,77,122,147,135,119,63,126,92,154,99,125,147,139,135,100,174,67,137,123,59,120,143,155,119,119,110,63,125,199,113,92,77,72,141,125,106,137,152,99,165,89,127,105,133,128,134,123,154,108,215,173,105,199,77,106,140,127,156,105,102,139,121,189,141,125,130,152,150,135,151,170,159,137,126,113,140,146,75,124,38,117,80,70,139,88,81,93,118,91,133,97,51,100,61,64,106,99,92,89,75,54,50,22,102,12,49,47,50,58,48,27,46,37,51,49,53,57,40,35,42,59,67,37,83,37,23,95,40,72,49,73,93,33,80,43,40,84,88,61,57,57,130,84,86,62,52,80,71,40,78,45,73,69,29,60,68,60,110,49,89,76,55,50,58,64,137,72,53,58,123,55,81,81,101,103,75,69,93,78,57,69,67,84,111,74,96,56,61,72,112,94,89,101,97,98,111,77,77,91,140,97,97,40,90,65,74,74,90,96,95,105,89,109,132,119,79,73,78,108,44,90,22,119,91,89,51,67,80,112,60,99,62,152,73,80,166,97,107,102,88,110,122,92,149,114,109,79,70,78,119,70,70,72,83,64,96,98,103,102,123,96,116,123,86,41,51,48,17,54,26,9,23,17,0,14,12,85,82,132,161,101,130,111,120,99,141,175,139,103,164,141,95,93,177,75,121,103,102,84,104,88,86,125,49,100,87,65,93,97,93,118,140,66,189,117,96,95,171,75,90,126,103,109,113,107,151,161,119,108,95,130,128,135,110,94,47,109,69,103,131,72,72,90,64,113,137,119,122,105,115,128,105,112,101,148,116,120,86,137,139,103,21,76,80,62,108,120,108,131,70,62,86,145,108,99,131,103,84,112,46,81,72,107,102,84,119,40,45,60,25,43,57,45,3,25,29,49,27,53,33,31,34,71,37,38,30,28,52,13,47,46,14,25,95,52,44,61,28,56,75,86,5,49,12,18,34,24,45,16,30,14,29,9,35,37,23,28,39,26,44,25,39,35,13,31,17,21,9,74,65,57,183,134,137,115,143,133,150,95,146,158,143,129,105,116,158,79,126,111,141,76,137,115,126,174,88,112,112,98,126,147,142,109,174,133,143,132,108,104,85,92,108,111,139,147,139,192,154,169,105,146,114,93,126,173,128,122,175,134,127,174,97,173,114,99,78,144,98,106,126,127,123,96,24,115,129,140,83,211,93,125,131,99,115,139,108,67,39,78,143,107,86,154,104,38,129,98,74,94,141,69,97,136,130,124,162,129,117,120,134,112,138,82,90,130,111,129,113,122,108,90,67,111,64,109,47,55,100,36,96,76,94,115,113,51,97,78,104,134,87,63,125,84,107,103,121,93,102,100,122,123,78,63,101,89,104,144,87,98,99,116,96,132,115,114,27,84,66,76,100,165,123,209,152,176,138,121,112,115,129,151,132,130,94,118,171,160,148,142,216,129,111,132,128,119,93,134,151,159,100,156,150,239,102,105,111,118,110,163,112,119,89,117,168,155,120,94,119,78,123,112,139,99,141,113,111,164,146,114,190,148,90,98,85,95,126,127,153,95,86,128,86,88,117,124,98,132,119,84,147,59,77,87,117,98,78,59,101,107,114,130,130,98,112,153,102,169,57,70,83,107,82,65,158,141,119,71,99,76,136,93,37,55,154,69,129,97,45,88,74,57,75,53,48,70,144,44,61,81,36,75,86,75,57,88,83,58,56,88,67,47,92,89,79,64,70,75,72,81,65,83,58,54,106,54,53,93,92,27,24,47,36,32,33,86,47,24,53,27,38,33,46,53,69,36,59,47,54,34,23,27,71,31,41,19,39,70,50,37,34,84,38,46,45,35,36,50,62,128,91,136,75,93,110,87,80,80,82,140,87,114,108,116,97,159,77,105,102,77,102,101,88,106,114,111,88,97,81,113,97,51,107,85,36,30,37,33,46,59,26,52,47,41,24,37,57,22,51,26,50,27,35,39,49,53,27,34,91,44,33,48,39,61,29,40,39,54,33,39,55,112,165,81,118,149,57,155,20,18,53,32,33,34,62,13,7,24,7,57,50,84,70,72,80,76,40,96,87,74,61,71,61,62,102,87,98,65,66,28,83,64,89,73,85,67,64,72,77,69,95,138,69,92,95,88,87,83,86,129,62,87,117,142,87,97,86,114,110,111,114,76,86,92,60,93,66,64,64,57,79,80,70,68,38,70,74,55,46,32,71,66,45,28,65,79,41,52,59,44,58,66,68,28,40,66,33,37,68,38,62,49,37,38,47,39,33,84,41,50,40,48,32,79,45,59,94,52,36,56,51,111,69,101,52,81,47,54,68,53,38,81,49,60,24,15,38,11,13,8,5,14,5,18,22,16,110,119,48,145,170,82,96,121,95,118,29,83,70,30,4,45,35,18,30,32,27,52,41,22,39,23,62,48,23,52,24,36,35,36,41,19,38,52,79,36,24,21,68,44,48,69,64,47,77,43,77,9,16,20,14,47,12,12,41,30,11,20,4,19,26,30,15,40,27,20,55,16,37,60,78,54,100,95,82,82,70,54,66,93,144,85,77,71,80,79,121,140,71,116,101,61,126,129,51,66,70,69,89,105,160,100,132,117,100,74,58,77,73,69],\"type\":\"histogram\",\"xaxis\":\"x9\",\"yaxis\":\"y9\"}],                        {\"template\":{\"data\":{\"bar\":[{\"error_x\":{\"color\":\"#2a3f5f\"},\"error_y\":{\"color\":\"#2a3f5f\"},\"marker\":{\"line\":{\"color\":\"#E5ECF6\",\"width\":0.5},\"pattern\":{\"fillmode\":\"overlay\",\"size\":10,\"solidity\":0.2}},\"type\":\"bar\"}],\"barpolar\":[{\"marker\":{\"line\":{\"color\":\"#E5ECF6\",\"width\":0.5},\"pattern\":{\"fillmode\":\"overlay\",\"size\":10,\"solidity\":0.2}},\"type\":\"barpolar\"}],\"carpet\":[{\"aaxis\":{\"endlinecolor\":\"#2a3f5f\",\"gridcolor\":\"white\",\"linecolor\":\"white\",\"minorgridcolor\":\"white\",\"startlinecolor\":\"#2a3f5f\"},\"baxis\":{\"endlinecolor\":\"#2a3f5f\",\"gridcolor\":\"white\",\"linecolor\":\"white\",\"minorgridcolor\":\"white\",\"startlinecolor\":\"#2a3f5f\"},\"type\":\"carpet\"}],\"choropleth\":[{\"colorbar\":{\"outlinewidth\":0,\"ticks\":\"\"},\"type\":\"choropleth\"}],\"contour\":[{\"colorbar\":{\"outlinewidth\":0,\"ticks\":\"\"},\"colorscale\":[[0.0,\"#0d0887\"],[0.1111111111111111,\"#46039f\"],[0.2222222222222222,\"#7201a8\"],[0.3333333333333333,\"#9c179e\"],[0.4444444444444444,\"#bd3786\"],[0.5555555555555556,\"#d8576b\"],[0.6666666666666666,\"#ed7953\"],[0.7777777777777778,\"#fb9f3a\"],[0.8888888888888888,\"#fdca26\"],[1.0,\"#f0f921\"]],\"type\":\"contour\"}],\"contourcarpet\":[{\"colorbar\":{\"outlinewidth\":0,\"ticks\":\"\"},\"type\":\"contourcarpet\"}],\"heatmap\":[{\"colorbar\":{\"outlinewidth\":0,\"ticks\":\"\"},\"colorscale\":[[0.0,\"#0d0887\"],[0.1111111111111111,\"#46039f\"],[0.2222222222222222,\"#7201a8\"],[0.3333333333333333,\"#9c179e\"],[0.4444444444444444,\"#bd3786\"],[0.5555555555555556,\"#d8576b\"],[0.6666666666666666,\"#ed7953\"],[0.7777777777777778,\"#fb9f3a\"],[0.8888888888888888,\"#fdca26\"],[1.0,\"#f0f921\"]],\"type\":\"heatmap\"}],\"heatmapgl\":[{\"colorbar\":{\"outlinewidth\":0,\"ticks\":\"\"},\"colorscale\":[[0.0,\"#0d0887\"],[0.1111111111111111,\"#46039f\"],[0.2222222222222222,\"#7201a8\"],[0.3333333333333333,\"#9c179e\"],[0.4444444444444444,\"#bd3786\"],[0.5555555555555556,\"#d8576b\"],[0.6666666666666666,\"#ed7953\"],[0.7777777777777778,\"#fb9f3a\"],[0.8888888888888888,\"#fdca26\"],[1.0,\"#f0f921\"]],\"type\":\"heatmapgl\"}],\"histogram\":[{\"marker\":{\"pattern\":{\"fillmode\":\"overlay\",\"size\":10,\"solidity\":0.2}},\"type\":\"histogram\"}],\"histogram2d\":[{\"colorbar\":{\"outlinewidth\":0,\"ticks\":\"\"},\"colorscale\":[[0.0,\"#0d0887\"],[0.1111111111111111,\"#46039f\"],[0.2222222222222222,\"#7201a8\"],[0.3333333333333333,\"#9c179e\"],[0.4444444444444444,\"#bd3786\"],[0.5555555555555556,\"#d8576b\"],[0.6666666666666666,\"#ed7953\"],[0.7777777777777778,\"#fb9f3a\"],[0.8888888888888888,\"#fdca26\"],[1.0,\"#f0f921\"]],\"type\":\"histogram2d\"}],\"histogram2dcontour\":[{\"colorbar\":{\"outlinewidth\":0,\"ticks\":\"\"},\"colorscale\":[[0.0,\"#0d0887\"],[0.1111111111111111,\"#46039f\"],[0.2222222222222222,\"#7201a8\"],[0.3333333333333333,\"#9c179e\"],[0.4444444444444444,\"#bd3786\"],[0.5555555555555556,\"#d8576b\"],[0.6666666666666666,\"#ed7953\"],[0.7777777777777778,\"#fb9f3a\"],[0.8888888888888888,\"#fdca26\"],[1.0,\"#f0f921\"]],\"type\":\"histogram2dcontour\"}],\"mesh3d\":[{\"colorbar\":{\"outlinewidth\":0,\"ticks\":\"\"},\"type\":\"mesh3d\"}],\"parcoords\":[{\"line\":{\"colorbar\":{\"outlinewidth\":0,\"ticks\":\"\"}},\"type\":\"parcoords\"}],\"pie\":[{\"automargin\":true,\"type\":\"pie\"}],\"scatter\":[{\"marker\":{\"colorbar\":{\"outlinewidth\":0,\"ticks\":\"\"}},\"type\":\"scatter\"}],\"scatter3d\":[{\"line\":{\"colorbar\":{\"outlinewidth\":0,\"ticks\":\"\"}},\"marker\":{\"colorbar\":{\"outlinewidth\":0,\"ticks\":\"\"}},\"type\":\"scatter3d\"}],\"scattercarpet\":[{\"marker\":{\"colorbar\":{\"outlinewidth\":0,\"ticks\":\"\"}},\"type\":\"scattercarpet\"}],\"scattergeo\":[{\"marker\":{\"colorbar\":{\"outlinewidth\":0,\"ticks\":\"\"}},\"type\":\"scattergeo\"}],\"scattergl\":[{\"marker\":{\"colorbar\":{\"outlinewidth\":0,\"ticks\":\"\"}},\"type\":\"scattergl\"}],\"scattermapbox\":[{\"marker\":{\"colorbar\":{\"outlinewidth\":0,\"ticks\":\"\"}},\"type\":\"scattermapbox\"}],\"scatterpolar\":[{\"marker\":{\"colorbar\":{\"outlinewidth\":0,\"ticks\":\"\"}},\"type\":\"scatterpolar\"}],\"scatterpolargl\":[{\"marker\":{\"colorbar\":{\"outlinewidth\":0,\"ticks\":\"\"}},\"type\":\"scatterpolargl\"}],\"scatterternary\":[{\"marker\":{\"colorbar\":{\"outlinewidth\":0,\"ticks\":\"\"}},\"type\":\"scatterternary\"}],\"surface\":[{\"colorbar\":{\"outlinewidth\":0,\"ticks\":\"\"},\"colorscale\":[[0.0,\"#0d0887\"],[0.1111111111111111,\"#46039f\"],[0.2222222222222222,\"#7201a8\"],[0.3333333333333333,\"#9c179e\"],[0.4444444444444444,\"#bd3786\"],[0.5555555555555556,\"#d8576b\"],[0.6666666666666666,\"#ed7953\"],[0.7777777777777778,\"#fb9f3a\"],[0.8888888888888888,\"#fdca26\"],[1.0,\"#f0f921\"]],\"type\":\"surface\"}],\"table\":[{\"cells\":{\"fill\":{\"color\":\"#EBF0F8\"},\"line\":{\"color\":\"white\"}},\"header\":{\"fill\":{\"color\":\"#C8D4E3\"},\"line\":{\"color\":\"white\"}},\"type\":\"table\"}]},\"layout\":{\"annotationdefaults\":{\"arrowcolor\":\"#2a3f5f\",\"arrowhead\":0,\"arrowwidth\":1},\"autotypenumbers\":\"strict\",\"coloraxis\":{\"colorbar\":{\"outlinewidth\":0,\"ticks\":\"\"}},\"colorscale\":{\"diverging\":[[0,\"#8e0152\"],[0.1,\"#c51b7d\"],[0.2,\"#de77ae\"],[0.3,\"#f1b6da\"],[0.4,\"#fde0ef\"],[0.5,\"#f7f7f7\"],[0.6,\"#e6f5d0\"],[0.7,\"#b8e186\"],[0.8,\"#7fbc41\"],[0.9,\"#4d9221\"],[1,\"#276419\"]],\"sequential\":[[0.0,\"#0d0887\"],[0.1111111111111111,\"#46039f\"],[0.2222222222222222,\"#7201a8\"],[0.3333333333333333,\"#9c179e\"],[0.4444444444444444,\"#bd3786\"],[0.5555555555555556,\"#d8576b\"],[0.6666666666666666,\"#ed7953\"],[0.7777777777777778,\"#fb9f3a\"],[0.8888888888888888,\"#fdca26\"],[1.0,\"#f0f921\"]],\"sequentialminus\":[[0.0,\"#0d0887\"],[0.1111111111111111,\"#46039f\"],[0.2222222222222222,\"#7201a8\"],[0.3333333333333333,\"#9c179e\"],[0.4444444444444444,\"#bd3786\"],[0.5555555555555556,\"#d8576b\"],[0.6666666666666666,\"#ed7953\"],[0.7777777777777778,\"#fb9f3a\"],[0.8888888888888888,\"#fdca26\"],[1.0,\"#f0f921\"]]},\"colorway\":[\"#636efa\",\"#EF553B\",\"#00cc96\",\"#ab63fa\",\"#FFA15A\",\"#19d3f3\",\"#FF6692\",\"#B6E880\",\"#FF97FF\",\"#FECB52\"],\"font\":{\"color\":\"#2a3f5f\"},\"geo\":{\"bgcolor\":\"white\",\"lakecolor\":\"white\",\"landcolor\":\"#E5ECF6\",\"showlakes\":true,\"showland\":true,\"subunitcolor\":\"white\"},\"hoverlabel\":{\"align\":\"left\"},\"hovermode\":\"closest\",\"mapbox\":{\"style\":\"light\"},\"paper_bgcolor\":\"white\",\"plot_bgcolor\":\"#E5ECF6\",\"polar\":{\"angularaxis\":{\"gridcolor\":\"white\",\"linecolor\":\"white\",\"ticks\":\"\"},\"bgcolor\":\"#E5ECF6\",\"radialaxis\":{\"gridcolor\":\"white\",\"linecolor\":\"white\",\"ticks\":\"\"}},\"scene\":{\"xaxis\":{\"backgroundcolor\":\"#E5ECF6\",\"gridcolor\":\"white\",\"gridwidth\":2,\"linecolor\":\"white\",\"showbackground\":true,\"ticks\":\"\",\"zerolinecolor\":\"white\"},\"yaxis\":{\"backgroundcolor\":\"#E5ECF6\",\"gridcolor\":\"white\",\"gridwidth\":2,\"linecolor\":\"white\",\"showbackground\":true,\"ticks\":\"\",\"zerolinecolor\":\"white\"},\"zaxis\":{\"backgroundcolor\":\"#E5ECF6\",\"gridcolor\":\"white\",\"gridwidth\":2,\"linecolor\":\"white\",\"showbackground\":true,\"ticks\":\"\",\"zerolinecolor\":\"white\"}},\"shapedefaults\":{\"line\":{\"color\":\"#2a3f5f\"}},\"ternary\":{\"aaxis\":{\"gridcolor\":\"white\",\"linecolor\":\"white\",\"ticks\":\"\"},\"baxis\":{\"gridcolor\":\"white\",\"linecolor\":\"white\",\"ticks\":\"\"},\"bgcolor\":\"#E5ECF6\",\"caxis\":{\"gridcolor\":\"white\",\"linecolor\":\"white\",\"ticks\":\"\"}},\"title\":{\"x\":0.05},\"xaxis\":{\"automargin\":true,\"gridcolor\":\"white\",\"linecolor\":\"white\",\"ticks\":\"\",\"title\":{\"standoff\":15},\"zerolinecolor\":\"white\",\"zerolinewidth\":2},\"yaxis\":{\"automargin\":true,\"gridcolor\":\"white\",\"linecolor\":\"white\",\"ticks\":\"\",\"title\":{\"standoff\":15},\"zerolinecolor\":\"white\",\"zerolinewidth\":2}}},\"xaxis\":{\"anchor\":\"y\",\"domain\":[0.0,0.45]},\"yaxis\":{\"anchor\":\"x\",\"domain\":[0.848,1.0]},\"xaxis2\":{\"anchor\":\"y2\",\"domain\":[0.55,1.0]},\"yaxis2\":{\"anchor\":\"x2\",\"domain\":[0.848,1.0]},\"xaxis3\":{\"anchor\":\"y3\",\"domain\":[0.0,0.45]},\"yaxis3\":{\"anchor\":\"x3\",\"domain\":[0.6359999999999999,0.7879999999999999]},\"xaxis4\":{\"anchor\":\"y4\",\"domain\":[0.55,1.0]},\"yaxis4\":{\"anchor\":\"x4\",\"domain\":[0.6359999999999999,0.7879999999999999]},\"xaxis5\":{\"anchor\":\"y5\",\"domain\":[0.0,0.45]},\"yaxis5\":{\"anchor\":\"x5\",\"domain\":[0.424,0.576]},\"xaxis6\":{\"anchor\":\"y6\",\"domain\":[0.55,1.0]},\"yaxis6\":{\"anchor\":\"x6\",\"domain\":[0.424,0.576]},\"xaxis7\":{\"anchor\":\"y7\",\"domain\":[0.0,0.45]},\"yaxis7\":{\"anchor\":\"x7\",\"domain\":[0.212,0.364]},\"xaxis8\":{\"anchor\":\"y8\",\"domain\":[0.55,1.0]},\"yaxis8\":{\"anchor\":\"x8\",\"domain\":[0.212,0.364]},\"xaxis9\":{\"anchor\":\"y9\",\"domain\":[0.0,0.45]},\"yaxis9\":{\"anchor\":\"x9\",\"domain\":[0.0,0.152]},\"xaxis10\":{\"anchor\":\"y10\",\"domain\":[0.55,1.0]},\"yaxis10\":{\"anchor\":\"x10\",\"domain\":[0.0,0.152]},\"title\":{\"text\":\"Beer Attribute Frequency Distributions\"},\"height\":1000,\"width\":1000},                        {\"responsive\": true}                    ).then(function(){\n",
       "                            \n",
       "var gd = document.getElementById('ff70774e-7afd-4087-ab07-d2ae9ba16b96');\n",
       "var x = new MutationObserver(function (mutations, observer) {{\n",
       "        var display = window.getComputedStyle(gd).display;\n",
       "        if (!display || display === 'none') {{\n",
       "            console.log([gd, 'removed!']);\n",
       "            Plotly.purge(gd);\n",
       "            observer.disconnect();\n",
       "        }}\n",
       "}});\n",
       "\n",
       "// Listen for the removal of the full notebook cells\n",
       "var notebookContainer = gd.closest('#notebook-container');\n",
       "if (notebookContainer) {{\n",
       "    x.observe(notebookContainer, {childList: true});\n",
       "}}\n",
       "\n",
       "// Listen for the clearing of the current output cell\n",
       "var outputEl = gd.closest('.output');\n",
       "if (outputEl) {{\n",
       "    x.observe(outputEl, {childList: true});\n",
       "}}\n",
       "\n",
       "                        })                };                            </script>        </div>\n",
       "</body>\n",
       "</html>"
      ]
     },
     "metadata": {},
     "output_type": "display_data"
    }
   ],
   "source": [
    "histo_bp = bp.drop(columns = ['Style', 'Beer Name (Full)'])\n",
    "fig = make_subplots(rows=round(len(histo_bp.columns) / 2), cols=2)\n",
    "# count used for positioning plots\n",
    "pos = 1\n",
    "for col in histo_bp.columns:\n",
    "  fig.append_trace(go.Histogram(x=list(histo_bp[col]), name = col), row=(math.ceil(pos / 2)), col=((pos % 2) + 1))\n",
    "  pos+=1\n",
    "\n",
    "fig.update_layout(height=1000, width=1000, title_text=\"Beer Attribute Frequency Distributions\")\n",
    "fig.show()"
   ]
  },
  {
   "cell_type": "markdown",
   "metadata": {
    "id": "UZvUJT_cBVVT"
   },
   "source": [
    "From these plots, we have decided that there is too little variability in the 'Salty' attribute for the buckets to have meaning. The reason for this is that a beer could be labeled as having significantly more spices than another while being less than 10 points different in its spices rating."
   ]
  },
  {
   "cell_type": "markdown",
   "metadata": {
    "id": "GSOyMsE663Z6"
   },
   "source": [
    "This function that will bin by each column and identify links between beers. \n",
    "\n",
    "We have decided to exclude salty as a bin feature because the distribution is skewed such that the vast majority of beers are not salty at all or are minimally salty, so it is not a valuable metric in distinguishing beers"
   ]
  },
  {
   "cell_type": "code",
   "execution_count": null,
   "metadata": {
    "id": "GGLzl023CkFs"
   },
   "outputs": [],
   "source": [
    "bp = bp.drop(columns = 'Salty')"
   ]
  },
  {
   "cell_type": "code",
   "execution_count": 7,
   "metadata": {
    "id": "AzFCavA-62RU"
   },
   "outputs": [],
   "source": [
    "#iterate through each column; in each column we want to qcut on that column by x bins\n",
    "#Make a new column that describes which buckets the beer falls into for each descriptor\n",
    "#We should have a DF where each beer has a column describing the profile buckets it is in \n",
    "#These will be used make links between beers\n",
    "def bucket_me(x, df):\n",
    "  for col in df.columns:\n",
    "    if col != 'Style':\n",
    "      #Not passing labels in this step to ensure # of labels < bin edges\n",
    "      categories, bins = pd.qcut(df[col], q=x, duplicates = 'drop', retbins = True)\n",
    "      labels = []\n",
    "      for i in range(len(bins) - 1):\n",
    "        labels.append(col + str(i))\n",
    "      df[col] = pd.qcut(df[col], q=x,labels=labels,duplicates='drop')\n",
    "  return df"
   ]
  },
  {
   "cell_type": "code",
   "execution_count": null,
   "metadata": {
    "id": "XR54lhmpfmIL"
   },
   "outputs": [],
   "source": [
    "new_bp = bucket_me(4, bp.set_index('Beer Name (Full)'))"
   ]
  },
  {
   "cell_type": "code",
   "execution_count": null,
   "metadata": {
    "id": "xaOjVdVlf8Cu"
   },
   "outputs": [],
   "source": [
    "new_bp[\"buckets\"] = new_bp.apply(lambda x: ','.join(x.astype(str)), axis=1)"
   ]
  },
  {
   "cell_type": "code",
   "execution_count": 8,
   "metadata": {
    "id": "LcUYZbXC5jPh"
   },
   "outputs": [],
   "source": [
    "def str_to_list(input):\n",
    "  return input.split(',')"
   ]
  },
  {
   "cell_type": "code",
   "execution_count": null,
   "metadata": {
    "id": "Z-f2rMRg5xK5"
   },
   "outputs": [],
   "source": [
    "new_bp[\"buckets\"] = new_bp[\"buckets\"].apply(str_to_list)"
   ]
  },
  {
   "cell_type": "code",
   "execution_count": null,
   "metadata": {
    "colab": {
     "base_uri": "https://localhost:8080/",
     "height": 455
    },
    "id": "a5DBmunbPbb_",
    "outputId": "fe8fae7d-3dac-4a38-d824-c8a9896bf1b3"
   },
   "outputs": [
    {
     "data": {
      "text/html": [
       "\n",
       "  <div id=\"df-8870abb5-8de0-4c0e-b501-8b6b7c3af502\">\n",
       "    <div class=\"colab-df-container\">\n",
       "      <div>\n",
       "<style scoped>\n",
       "    .dataframe tbody tr th:only-of-type {\n",
       "        vertical-align: middle;\n",
       "    }\n",
       "\n",
       "    .dataframe tbody tr th {\n",
       "        vertical-align: top;\n",
       "    }\n",
       "\n",
       "    .dataframe thead th {\n",
       "        text-align: right;\n",
       "    }\n",
       "</style>\n",
       "<table border=\"1\" class=\"dataframe\">\n",
       "  <thead>\n",
       "    <tr style=\"text-align: right;\">\n",
       "      <th></th>\n",
       "      <th>Style</th>\n",
       "      <th>Astringency</th>\n",
       "      <th>Body</th>\n",
       "      <th>Bitter</th>\n",
       "      <th>Sweet</th>\n",
       "      <th>Sour</th>\n",
       "      <th>Fruits</th>\n",
       "      <th>Hoppy</th>\n",
       "      <th>Spices</th>\n",
       "      <th>Malty</th>\n",
       "      <th>buckets</th>\n",
       "    </tr>\n",
       "    <tr>\n",
       "      <th>Beer Name (Full)</th>\n",
       "      <th></th>\n",
       "      <th></th>\n",
       "      <th></th>\n",
       "      <th></th>\n",
       "      <th></th>\n",
       "      <th></th>\n",
       "      <th></th>\n",
       "      <th></th>\n",
       "      <th></th>\n",
       "      <th></th>\n",
       "      <th></th>\n",
       "    </tr>\n",
       "  </thead>\n",
       "  <tbody>\n",
       "    <tr>\n",
       "      <th>Alaskan Brewing Co. Alaskan Amber</th>\n",
       "      <td>Altbier</td>\n",
       "      <td>Astringency1</td>\n",
       "      <td>Body1</td>\n",
       "      <td>Bitter2</td>\n",
       "      <td>Sweet2</td>\n",
       "      <td>Sour2</td>\n",
       "      <td>Fruits2</td>\n",
       "      <td>Hoppy3</td>\n",
       "      <td>Spices1</td>\n",
       "      <td>Malty3</td>\n",
       "      <td>[Altbier, Astringency1, Body1, Bitter2, Sweet2...</td>\n",
       "    </tr>\n",
       "    <tr>\n",
       "      <th>Long Trail Brewing Co. Double Bag</th>\n",
       "      <td>Altbier</td>\n",
       "      <td>Astringency1</td>\n",
       "      <td>Body2</td>\n",
       "      <td>Bitter2</td>\n",
       "      <td>Sweet2</td>\n",
       "      <td>Sour1</td>\n",
       "      <td>Fruits1</td>\n",
       "      <td>Hoppy2</td>\n",
       "      <td>Spices2</td>\n",
       "      <td>Malty2</td>\n",
       "      <td>[Altbier, Astringency1, Body2, Bitter2, Sweet2...</td>\n",
       "    </tr>\n",
       "    <tr>\n",
       "      <th>Long Trail Brewing Co. Long Trail Ale</th>\n",
       "      <td>Altbier</td>\n",
       "      <td>Astringency1</td>\n",
       "      <td>Body1</td>\n",
       "      <td>Bitter2</td>\n",
       "      <td>Sweet1</td>\n",
       "      <td>Sour0</td>\n",
       "      <td>Fruits0</td>\n",
       "      <td>Hoppy2</td>\n",
       "      <td>Spices0</td>\n",
       "      <td>Malty1</td>\n",
       "      <td>[Altbier, Astringency1, Body1, Bitter2, Sweet1...</td>\n",
       "    </tr>\n",
       "    <tr>\n",
       "      <th>Uerige Obergärige Hausbrauerei GmbH / Zum Uerige Uerige Doppelsticke</th>\n",
       "      <td>Altbier</td>\n",
       "      <td>Astringency1</td>\n",
       "      <td>Body2</td>\n",
       "      <td>Bitter2</td>\n",
       "      <td>Sweet3</td>\n",
       "      <td>Sour1</td>\n",
       "      <td>Fruits2</td>\n",
       "      <td>Hoppy2</td>\n",
       "      <td>Spices2</td>\n",
       "      <td>Malty3</td>\n",
       "      <td>[Altbier, Astringency1, Body2, Bitter2, Sweet3...</td>\n",
       "    </tr>\n",
       "    <tr>\n",
       "      <th>Ninkasi Brewing Company Sleigh'r Dark Doüble Alt Ale</th>\n",
       "      <td>Altbier</td>\n",
       "      <td>Astringency3</td>\n",
       "      <td>Body2</td>\n",
       "      <td>Bitter2</td>\n",
       "      <td>Sweet1</td>\n",
       "      <td>Sour0</td>\n",
       "      <td>Fruits0</td>\n",
       "      <td>Hoppy2</td>\n",
       "      <td>Spices2</td>\n",
       "      <td>Malty2</td>\n",
       "      <td>[Altbier, Astringency3, Body2, Bitter2, Sweet1...</td>\n",
       "    </tr>\n",
       "    <tr>\n",
       "      <th>...</th>\n",
       "      <td>...</td>\n",
       "      <td>...</td>\n",
       "      <td>...</td>\n",
       "      <td>...</td>\n",
       "      <td>...</td>\n",
       "      <td>...</td>\n",
       "      <td>...</td>\n",
       "      <td>...</td>\n",
       "      <td>...</td>\n",
       "      <td>...</td>\n",
       "      <td>...</td>\n",
       "    </tr>\n",
       "    <tr>\n",
       "      <th>Cisco Brewers Inc. Winter Shredder</th>\n",
       "      <td>Winter Warmer</td>\n",
       "      <td>Astringency2</td>\n",
       "      <td>Body1</td>\n",
       "      <td>Bitter2</td>\n",
       "      <td>Sweet1</td>\n",
       "      <td>Sour1</td>\n",
       "      <td>Fruits1</td>\n",
       "      <td>Hoppy2</td>\n",
       "      <td>Spices3</td>\n",
       "      <td>Malty2</td>\n",
       "      <td>[Winter Warmer, Astringency2, Body1, Bitter2, ...</td>\n",
       "    </tr>\n",
       "    <tr>\n",
       "      <th>RJ Rockers Brewing Company First Snow Ale</th>\n",
       "      <td>Winter Warmer</td>\n",
       "      <td>Astringency2</td>\n",
       "      <td>Body1</td>\n",
       "      <td>Bitter0</td>\n",
       "      <td>Sweet1</td>\n",
       "      <td>Sour3</td>\n",
       "      <td>Fruits2</td>\n",
       "      <td>Hoppy0</td>\n",
       "      <td>Spices3</td>\n",
       "      <td>Malty1</td>\n",
       "      <td>[Winter Warmer, Astringency2, Body1, Bitter0, ...</td>\n",
       "    </tr>\n",
       "    <tr>\n",
       "      <th>Natty Greene's Pub &amp; Brewing Co. Red Nose Winter Ale</th>\n",
       "      <td>Winter Warmer</td>\n",
       "      <td>Astringency0</td>\n",
       "      <td>Body2</td>\n",
       "      <td>Bitter1</td>\n",
       "      <td>Sweet1</td>\n",
       "      <td>Sour1</td>\n",
       "      <td>Fruits1</td>\n",
       "      <td>Hoppy1</td>\n",
       "      <td>Spices3</td>\n",
       "      <td>Malty2</td>\n",
       "      <td>[Winter Warmer, Astringency0, Body2, Bitter1, ...</td>\n",
       "    </tr>\n",
       "    <tr>\n",
       "      <th>Fish Brewing Company / Fishbowl Brewpub Fish Tale Winterfish</th>\n",
       "      <td>Winter Warmer</td>\n",
       "      <td>Astringency1</td>\n",
       "      <td>Body1</td>\n",
       "      <td>Bitter3</td>\n",
       "      <td>Sweet2</td>\n",
       "      <td>Sour3</td>\n",
       "      <td>Fruits3</td>\n",
       "      <td>Hoppy3</td>\n",
       "      <td>Spices2</td>\n",
       "      <td>Malty1</td>\n",
       "      <td>[Winter Warmer, Astringency1, Body1, Bitter3, ...</td>\n",
       "    </tr>\n",
       "    <tr>\n",
       "      <th>Hoppin' Frog Brewery Barrel Aged Frosted Frog Christmas Ale</th>\n",
       "      <td>Winter Warmer</td>\n",
       "      <td>Astringency0</td>\n",
       "      <td>Body2</td>\n",
       "      <td>Bitter0</td>\n",
       "      <td>Sweet2</td>\n",
       "      <td>Sour1</td>\n",
       "      <td>Fruits2</td>\n",
       "      <td>Hoppy0</td>\n",
       "      <td>Spices3</td>\n",
       "      <td>Malty1</td>\n",
       "      <td>[Winter Warmer, Astringency0, Body2, Bitter0, ...</td>\n",
       "    </tr>\n",
       "  </tbody>\n",
       "</table>\n",
       "<p>3197 rows × 11 columns</p>\n",
       "</div>\n",
       "      <button class=\"colab-df-convert\" onclick=\"convertToInteractive('df-8870abb5-8de0-4c0e-b501-8b6b7c3af502')\"\n",
       "              title=\"Convert this dataframe to an interactive table.\"\n",
       "              style=\"display:none;\">\n",
       "        \n",
       "  <svg xmlns=\"http://www.w3.org/2000/svg\" height=\"24px\"viewBox=\"0 0 24 24\"\n",
       "       width=\"24px\">\n",
       "    <path d=\"M0 0h24v24H0V0z\" fill=\"none\"/>\n",
       "    <path d=\"M18.56 5.44l.94 2.06.94-2.06 2.06-.94-2.06-.94-.94-2.06-.94 2.06-2.06.94zm-11 1L8.5 8.5l.94-2.06 2.06-.94-2.06-.94L8.5 2.5l-.94 2.06-2.06.94zm10 10l.94 2.06.94-2.06 2.06-.94-2.06-.94-.94-2.06-.94 2.06-2.06.94z\"/><path d=\"M17.41 7.96l-1.37-1.37c-.4-.4-.92-.59-1.43-.59-.52 0-1.04.2-1.43.59L10.3 9.45l-7.72 7.72c-.78.78-.78 2.05 0 2.83L4 21.41c.39.39.9.59 1.41.59.51 0 1.02-.2 1.41-.59l7.78-7.78 2.81-2.81c.8-.78.8-2.07 0-2.86zM5.41 20L4 18.59l7.72-7.72 1.47 1.35L5.41 20z\"/>\n",
       "  </svg>\n",
       "      </button>\n",
       "      \n",
       "  <style>\n",
       "    .colab-df-container {\n",
       "      display:flex;\n",
       "      flex-wrap:wrap;\n",
       "      gap: 12px;\n",
       "    }\n",
       "\n",
       "    .colab-df-convert {\n",
       "      background-color: #E8F0FE;\n",
       "      border: none;\n",
       "      border-radius: 50%;\n",
       "      cursor: pointer;\n",
       "      display: none;\n",
       "      fill: #1967D2;\n",
       "      height: 32px;\n",
       "      padding: 0 0 0 0;\n",
       "      width: 32px;\n",
       "    }\n",
       "\n",
       "    .colab-df-convert:hover {\n",
       "      background-color: #E2EBFA;\n",
       "      box-shadow: 0px 1px 2px rgba(60, 64, 67, 0.3), 0px 1px 3px 1px rgba(60, 64, 67, 0.15);\n",
       "      fill: #174EA6;\n",
       "    }\n",
       "\n",
       "    [theme=dark] .colab-df-convert {\n",
       "      background-color: #3B4455;\n",
       "      fill: #D2E3FC;\n",
       "    }\n",
       "\n",
       "    [theme=dark] .colab-df-convert:hover {\n",
       "      background-color: #434B5C;\n",
       "      box-shadow: 0px 1px 3px 1px rgba(0, 0, 0, 0.15);\n",
       "      filter: drop-shadow(0px 1px 2px rgba(0, 0, 0, 0.3));\n",
       "      fill: #FFFFFF;\n",
       "    }\n",
       "  </style>\n",
       "\n",
       "      <script>\n",
       "        const buttonEl =\n",
       "          document.querySelector('#df-8870abb5-8de0-4c0e-b501-8b6b7c3af502 button.colab-df-convert');\n",
       "        buttonEl.style.display =\n",
       "          google.colab.kernel.accessAllowed ? 'block' : 'none';\n",
       "\n",
       "        async function convertToInteractive(key) {\n",
       "          const element = document.querySelector('#df-8870abb5-8de0-4c0e-b501-8b6b7c3af502');\n",
       "          const dataTable =\n",
       "            await google.colab.kernel.invokeFunction('convertToInteractive',\n",
       "                                                     [key], {});\n",
       "          if (!dataTable) return;\n",
       "\n",
       "          const docLinkHtml = 'Like what you see? Visit the ' +\n",
       "            '<a target=\"_blank\" href=https://colab.research.google.com/notebooks/data_table.ipynb>data table notebook</a>'\n",
       "            + ' to learn more about interactive tables.';\n",
       "          element.innerHTML = '';\n",
       "          dataTable['output_type'] = 'display_data';\n",
       "          await google.colab.output.renderOutput(dataTable, element);\n",
       "          const docLink = document.createElement('div');\n",
       "          docLink.innerHTML = docLinkHtml;\n",
       "          element.appendChild(docLink);\n",
       "        }\n",
       "      </script>\n",
       "    </div>\n",
       "  </div>\n",
       "  "
      ],
      "text/plain": [
       "                                                            Style  \\\n",
       "Beer Name (Full)                                                    \n",
       "Alaskan Brewing Co. Alaskan Amber                         Altbier   \n",
       "Long Trail Brewing Co. Double Bag                         Altbier   \n",
       "Long Trail Brewing Co. Long Trail Ale                     Altbier   \n",
       "Uerige Obergärige Hausbrauerei GmbH / Zum Uerig...        Altbier   \n",
       "Ninkasi Brewing Company Sleigh'r Dark Doüble Al...        Altbier   \n",
       "...                                                           ...   \n",
       "Cisco Brewers Inc. Winter Shredder                  Winter Warmer   \n",
       "RJ Rockers Brewing Company First Snow Ale           Winter Warmer   \n",
       "Natty Greene's Pub & Brewing Co. Red Nose Winte...  Winter Warmer   \n",
       "Fish Brewing Company / Fishbowl Brewpub Fish Ta...  Winter Warmer   \n",
       "Hoppin' Frog Brewery Barrel Aged Frosted Frog C...  Winter Warmer   \n",
       "\n",
       "                                                     Astringency   Body  \\\n",
       "Beer Name (Full)                                                          \n",
       "Alaskan Brewing Co. Alaskan Amber                   Astringency1  Body1   \n",
       "Long Trail Brewing Co. Double Bag                   Astringency1  Body2   \n",
       "Long Trail Brewing Co. Long Trail Ale               Astringency1  Body1   \n",
       "Uerige Obergärige Hausbrauerei GmbH / Zum Uerig...  Astringency1  Body2   \n",
       "Ninkasi Brewing Company Sleigh'r Dark Doüble Al...  Astringency3  Body2   \n",
       "...                                                          ...    ...   \n",
       "Cisco Brewers Inc. Winter Shredder                  Astringency2  Body1   \n",
       "RJ Rockers Brewing Company First Snow Ale           Astringency2  Body1   \n",
       "Natty Greene's Pub & Brewing Co. Red Nose Winte...  Astringency0  Body2   \n",
       "Fish Brewing Company / Fishbowl Brewpub Fish Ta...  Astringency1  Body1   \n",
       "Hoppin' Frog Brewery Barrel Aged Frosted Frog C...  Astringency0  Body2   \n",
       "\n",
       "                                                     Bitter   Sweet   Sour  \\\n",
       "Beer Name (Full)                                                             \n",
       "Alaskan Brewing Co. Alaskan Amber                   Bitter2  Sweet2  Sour2   \n",
       "Long Trail Brewing Co. Double Bag                   Bitter2  Sweet2  Sour1   \n",
       "Long Trail Brewing Co. Long Trail Ale               Bitter2  Sweet1  Sour0   \n",
       "Uerige Obergärige Hausbrauerei GmbH / Zum Uerig...  Bitter2  Sweet3  Sour1   \n",
       "Ninkasi Brewing Company Sleigh'r Dark Doüble Al...  Bitter2  Sweet1  Sour0   \n",
       "...                                                     ...     ...    ...   \n",
       "Cisco Brewers Inc. Winter Shredder                  Bitter2  Sweet1  Sour1   \n",
       "RJ Rockers Brewing Company First Snow Ale           Bitter0  Sweet1  Sour3   \n",
       "Natty Greene's Pub & Brewing Co. Red Nose Winte...  Bitter1  Sweet1  Sour1   \n",
       "Fish Brewing Company / Fishbowl Brewpub Fish Ta...  Bitter3  Sweet2  Sour3   \n",
       "Hoppin' Frog Brewery Barrel Aged Frosted Frog C...  Bitter0  Sweet2  Sour1   \n",
       "\n",
       "                                                     Fruits   Hoppy   Spices  \\\n",
       "Beer Name (Full)                                                               \n",
       "Alaskan Brewing Co. Alaskan Amber                   Fruits2  Hoppy3  Spices1   \n",
       "Long Trail Brewing Co. Double Bag                   Fruits1  Hoppy2  Spices2   \n",
       "Long Trail Brewing Co. Long Trail Ale               Fruits0  Hoppy2  Spices0   \n",
       "Uerige Obergärige Hausbrauerei GmbH / Zum Uerig...  Fruits2  Hoppy2  Spices2   \n",
       "Ninkasi Brewing Company Sleigh'r Dark Doüble Al...  Fruits0  Hoppy2  Spices2   \n",
       "...                                                     ...     ...      ...   \n",
       "Cisco Brewers Inc. Winter Shredder                  Fruits1  Hoppy2  Spices3   \n",
       "RJ Rockers Brewing Company First Snow Ale           Fruits2  Hoppy0  Spices3   \n",
       "Natty Greene's Pub & Brewing Co. Red Nose Winte...  Fruits1  Hoppy1  Spices3   \n",
       "Fish Brewing Company / Fishbowl Brewpub Fish Ta...  Fruits3  Hoppy3  Spices2   \n",
       "Hoppin' Frog Brewery Barrel Aged Frosted Frog C...  Fruits2  Hoppy0  Spices3   \n",
       "\n",
       "                                                     Malty  \\\n",
       "Beer Name (Full)                                             \n",
       "Alaskan Brewing Co. Alaskan Amber                   Malty3   \n",
       "Long Trail Brewing Co. Double Bag                   Malty2   \n",
       "Long Trail Brewing Co. Long Trail Ale               Malty1   \n",
       "Uerige Obergärige Hausbrauerei GmbH / Zum Uerig...  Malty3   \n",
       "Ninkasi Brewing Company Sleigh'r Dark Doüble Al...  Malty2   \n",
       "...                                                    ...   \n",
       "Cisco Brewers Inc. Winter Shredder                  Malty2   \n",
       "RJ Rockers Brewing Company First Snow Ale           Malty1   \n",
       "Natty Greene's Pub & Brewing Co. Red Nose Winte...  Malty2   \n",
       "Fish Brewing Company / Fishbowl Brewpub Fish Ta...  Malty1   \n",
       "Hoppin' Frog Brewery Barrel Aged Frosted Frog C...  Malty1   \n",
       "\n",
       "                                                                                              buckets  \n",
       "Beer Name (Full)                                                                                       \n",
       "Alaskan Brewing Co. Alaskan Amber                   [Altbier, Astringency1, Body1, Bitter2, Sweet2...  \n",
       "Long Trail Brewing Co. Double Bag                   [Altbier, Astringency1, Body2, Bitter2, Sweet2...  \n",
       "Long Trail Brewing Co. Long Trail Ale               [Altbier, Astringency1, Body1, Bitter2, Sweet1...  \n",
       "Uerige Obergärige Hausbrauerei GmbH / Zum Uerig...  [Altbier, Astringency1, Body2, Bitter2, Sweet3...  \n",
       "Ninkasi Brewing Company Sleigh'r Dark Doüble Al...  [Altbier, Astringency3, Body2, Bitter2, Sweet1...  \n",
       "...                                                                                               ...  \n",
       "Cisco Brewers Inc. Winter Shredder                  [Winter Warmer, Astringency2, Body1, Bitter2, ...  \n",
       "RJ Rockers Brewing Company First Snow Ale           [Winter Warmer, Astringency2, Body1, Bitter0, ...  \n",
       "Natty Greene's Pub & Brewing Co. Red Nose Winte...  [Winter Warmer, Astringency0, Body2, Bitter1, ...  \n",
       "Fish Brewing Company / Fishbowl Brewpub Fish Ta...  [Winter Warmer, Astringency1, Body1, Bitter3, ...  \n",
       "Hoppin' Frog Brewery Barrel Aged Frosted Frog C...  [Winter Warmer, Astringency0, Body2, Bitter0, ...  \n",
       "\n",
       "[3197 rows x 11 columns]"
      ]
     },
     "execution_count": 54,
     "metadata": {},
     "output_type": "execute_result"
    }
   ],
   "source": [
    "new_bp"
   ]
  },
  {
   "cell_type": "markdown",
   "metadata": {
    "id": "tBtoNkZXgA-P"
   },
   "source": [
    "###Node Graph"
   ]
  },
  {
   "cell_type": "markdown",
   "metadata": {
    "id": "ada4HRvxwGjV"
   },
   "source": [
    "This function will generate a article to article network given an input DataFrame. It will do so by creating an edge_dictionary where each key is going to be a node referenced by unique values in node_col and the values will be a list of other nodes connected to the key through the edge_col."
   ]
  },
  {
   "cell_type": "code",
   "execution_count": 8,
   "metadata": {
    "id": "ub3MHuEpgEkC"
   },
   "outputs": [],
   "source": [
    "def generate_network(df, edge_col = \"buckets\", shared_att = 3):\n",
    "    edge_dct = {}\n",
    "\n",
    "    # iterating for each unique beer in the df\n",
    "    for beer in list(df.index):\n",
    "        # get  \"all topic\" of the beer\n",
    "        beer_topics = df.loc[beer][edge_col]\n",
    "\n",
    "        # creating a list of all the beers that are not the current one and share X attributes\n",
    "        edge_df = df[(df.index != beer) & (df[edge_col].apply(beer_comparer, args = (beer_topics, shared_att, )))]\n",
    "        edge_dct[beer] = edge_df.index\n",
    "    \n",
    "    # create nx network\n",
    "    g = nx.Graph(edge_dct, create_using = nx.MultiGraph)\n",
    "    return g"
   ]
  },
  {
   "cell_type": "code",
   "execution_count": 10,
   "metadata": {
    "id": "3ROePxxq6zuI"
   },
   "outputs": [],
   "source": [
    "def beer_comparer(comp_list, beer_list, shared_att):\n",
    "  # compares two lists and returns True if number of shared values is greater than or equal to shared_att\n",
    "  return len([i for i, j in zip(comp_list, beer_list) if i == j]) >= shared_att"
   ]
  },
  {
   "cell_type": "code",
   "execution_count": 60,
   "metadata": {
    "colab": {
     "base_uri": "https://localhost:8080/"
    },
    "id": "vrksr4zz0BH8",
    "outputId": "8927e6ff-0380-43a2-b7e0-0a39d263726f"
   },
   "outputs": [
    {
     "ename": "NameError",
     "evalue": "name 'new_bp' is not defined",
     "output_type": "error",
     "traceback": [
      "\u001b[0;31m---------------------------------------------------------------------------\u001b[0m",
      "\u001b[0;31mNameError\u001b[0m                                 Traceback (most recent call last)",
      "\u001b[0;32m<ipython-input-60-89befe27a314>\u001b[0m in \u001b[0;36m<module>\u001b[0;34m\u001b[0m\n\u001b[0;32m----> 1\u001b[0;31m \u001b[0mg\u001b[0m \u001b[0;34m=\u001b[0m \u001b[0mgenerate_network\u001b[0m\u001b[0;34m(\u001b[0m\u001b[0mnew_bp\u001b[0m\u001b[0;34m,\u001b[0m \u001b[0mshared_att\u001b[0m \u001b[0;34m=\u001b[0m \u001b[0;36m7\u001b[0m\u001b[0;34m)\u001b[0m\u001b[0;34m\u001b[0m\u001b[0;34m\u001b[0m\u001b[0m\n\u001b[0m\u001b[1;32m      2\u001b[0m \u001b[0mg\u001b[0m\u001b[0;34m\u001b[0m\u001b[0;34m\u001b[0m\u001b[0m\n",
      "\u001b[0;31mNameError\u001b[0m: name 'new_bp' is not defined"
     ]
    }
   ],
   "source": [
    "g = generate_network(new_bp, shared_att = 7)\n",
    "g"
   ]
  },
  {
   "cell_type": "code",
   "execution_count": null,
   "metadata": {
    "colab": {
     "base_uri": "https://localhost:8080/"
    },
    "id": "wzS4F0EE1MH1",
    "outputId": "37486362-77ac-47cc-ce11-d3b2d02abc64"
   },
   "outputs": [
    {
     "name": "stdout",
     "output_type": "stream",
     "text": [
      "Graph with 3197 nodes and 71482 edges\n"
     ]
    }
   ],
   "source": [
    "# Printing out the number of nodes and edges in our graph\n",
    "print(nx.info(g))"
   ]
  },
  {
   "cell_type": "code",
   "execution_count": null,
   "metadata": {
    "id": "flMmqL732Wcn"
   },
   "outputs": [],
   "source": [
    "#nx.draw(g)"
   ]
  },
  {
   "cell_type": "code",
   "execution_count": 1,
   "metadata": {
    "id": "YCI9KLqa6yGm"
   },
   "outputs": [
    {
     "name": "stdout",
     "output_type": "stream",
     "text": [
      "Requirement already satisfied: node2vec in c:\\users\\timse\\anaconda3\\lib\\site-packages (0.4.6)\n",
      "Requirement already satisfied: tqdm<5.0.0,>=4.55.1 in c:\\users\\timse\\anaconda3\\lib\\site-packages (from node2vec) (4.64.0)\n",
      "Requirement already satisfied: networkx<3.0,>=2.5 in c:\\users\\timse\\anaconda3\\lib\\site-packages (from node2vec) (2.5)\n",
      "Requirement already satisfied: numpy<2.0.0,>=1.19.5 in c:\\users\\timse\\anaconda3\\lib\\site-packages (from node2vec) (1.23.1)\n",
      "Requirement already satisfied: joblib<2.0.0,>=1.1.0 in c:\\users\\timse\\anaconda3\\lib\\site-packages (from node2vec) (1.1.0)\n",
      "Requirement already satisfied: gensim<5.0.0,>=4.1.2 in c:\\users\\timse\\anaconda3\\lib\\site-packages (from node2vec) (4.2.0)\n",
      "Requirement already satisfied: colorama; platform_system == \"Windows\" in c:\\users\\timse\\anaconda3\\lib\\site-packages (from tqdm<5.0.0,>=4.55.1->node2vec) (0.4.4)\n",
      "Requirement already satisfied: decorator>=4.3.0 in c:\\users\\timse\\anaconda3\\lib\\site-packages (from networkx<3.0,>=2.5->node2vec) (4.4.2)\n",
      "Requirement already satisfied: Cython==0.29.28 in c:\\users\\timse\\anaconda3\\lib\\site-packages (from gensim<5.0.0,>=4.1.2->node2vec) (0.29.28)\n",
      "Requirement already satisfied: smart-open>=1.8.1 in c:\\users\\timse\\anaconda3\\lib\\site-packages (from gensim<5.0.0,>=4.1.2->node2vec) (6.0.0)\n",
      "Requirement already satisfied: scipy>=0.18.1 in c:\\users\\timse\\anaconda3\\lib\\site-packages (from gensim<5.0.0,>=4.1.2->node2vec) (1.5.2)\n"
     ]
    }
   ],
   "source": [
    "!pip install node2vec"
   ]
  },
  {
   "cell_type": "code",
   "execution_count": null,
   "metadata": {
    "colab": {
     "base_uri": "https://localhost:8080/",
     "height": 66,
     "referenced_widgets": [
      "f221964aabfb44ba9b326c5ca18c6f52",
      "d6da93d4fa384417b97d7c61da258883",
      "8bf57715a74d455e9659c1887d892682",
      "305a128cfa3942d8b9a7ab94e3c30fab",
      "90cff02e5601465e95529da81f9777a9",
      "02ef98c118534013abd7b26552f579be",
      "89889c8f1bbe4b82bddcf6c29daa9399",
      "8557801fd0a44d9f872519f6d7317c1b",
      "f2a7182637314463842dbb5a0a8d9666",
      "a837d23d08634f9190a40887eecb7115",
      "758ca8abab51492da0895320a029c8bd"
     ]
    },
    "id": "DYisDJdr6WcN",
    "outputId": "8ea88639-068e-431f-fd1f-041bc4d39ccd"
   },
   "outputs": [
    {
     "data": {
      "application/vnd.jupyter.widget-view+json": {
       "model_id": "f221964aabfb44ba9b326c5ca18c6f52",
       "version_major": 2,
       "version_minor": 0
      },
      "text/plain": [
       "Computing transition probabilities:   0%|          | 0/3197 [00:00<?, ?it/s]"
      ]
     },
     "metadata": {},
     "output_type": "display_data"
    },
    {
     "name": "stderr",
     "output_type": "stream",
     "text": [
      "Generating walks (CPU: 1): 100%|██████████| 10/10 [03:02<00:00, 18.20s/it]\n"
     ]
    }
   ],
   "source": [
    "embedding = n2v(g, dimensions = 16)\n",
    "# *****Look into walk length, q, other relevant parameters"
   ]
  },
  {
   "cell_type": "code",
   "execution_count": null,
   "metadata": {
    "id": "lqNtnXu97A_2"
   },
   "outputs": [],
   "source": [
    "model = embedding.fit(window = 1, min_count = 1, batch_words = 4)"
   ]
  },
  {
   "cell_type": "code",
   "execution_count": 59,
   "metadata": {
    "colab": {
     "base_uri": "https://localhost:8080/",
     "height": 424
    },
    "id": "ZxswO-Z98L_b",
    "outputId": "0a9d6d35-ba0d-496c-8f8e-e4f8dd4d00ca"
   },
   "outputs": [
    {
     "ename": "NameError",
     "evalue": "name 'g' is not defined",
     "output_type": "error",
     "traceback": [
      "\u001b[0;31m---------------------------------------------------------------------------\u001b[0m",
      "\u001b[0;31mNameError\u001b[0m                                 Traceback (most recent call last)",
      "\u001b[0;32m<ipython-input-59-f579587125b2>\u001b[0m in \u001b[0;36m<module>\u001b[0;34m\u001b[0m\n\u001b[0;32m----> 1\u001b[0;31m emb_df = (pd.DataFrame([model.wv.get_vector(str(n)) for n in g.nodes()],\n\u001b[0m\u001b[1;32m      2\u001b[0m                        index = g.nodes))\n\u001b[1;32m      3\u001b[0m \u001b[0memb_df\u001b[0m\u001b[0;34m\u001b[0m\u001b[0;34m\u001b[0m\u001b[0m\n",
      "\u001b[0;31mNameError\u001b[0m: name 'g' is not defined"
     ]
    }
   ],
   "source": [
    "emb_df = (pd.DataFrame([model.wv.get_vector(str(n)) for n in g.nodes()],\n",
    "                       index = g.nodes))\n",
    "emb_df"
   ]
  },
  {
   "cell_type": "code",
   "execution_count": 68,
   "metadata": {
    "id": "NN8P1K_Vvm6X"
   },
   "outputs": [],
   "source": [
    "def predict_links(g, df, beer_name, num_rec):\n",
    "    #dataframe with just row of given beer name\n",
    "    this_beer = df[df.index == beer_name]\n",
    "\n",
    "    #getting beers which are not already linked to the given beer\n",
    "    \n",
    "    all_nodes = g.nodes()\n",
    "    #list of all beer names that are not adjacent to the beer\n",
    "    all_other_nodes = [n for n in all_nodes if n not in list(g.adj[beer_name]) + [beer_name]]\n",
    "    #DataFrame that contains non-adjacent nodes\n",
    "    other_nodes = df[df.index.isin(all_other_nodes)]\n",
    "    #find the cosine similarity between the given beer and all beers that are not already neighbors\n",
    "    similar = dict()\n",
    "    for beer in other_nodes.iterrows():\n",
    "        similar[beer[0]] = (1 - spatial.distance.cosine(beer[1], np.array(this_beer)))\n",
    "    #sort the dictionary by highest cosine similarity\n",
    "    similar = pd.DataFrame(similar.items(), columns = ['beer', 'cos sim'])\n",
    "    sorted_sim = similar.sort_values(by = 'cos sim', ascending = False)\n",
    "    return sorted_sim['beer'].iloc[0:num_rec]"
   ]
  },
  {
   "cell_type": "code",
   "execution_count": 56,
   "metadata": {},
   "outputs": [],
   "source": [
    "#getting beers which are not already linked to the given beer\n",
    "all_nodes = g.nodes()\n",
    "#list of all beer names that are not adjacent to the beer\n",
    "all_other_nodes = [n for n in all_nodes if n not in list(g.adj['Alaskan Brewing Co. Alaskan Amber']) + ['Alaskan Brewing Co. Alaskan Amber']]\n",
    "#DataFrame that contains non-adjacent nodes\n",
    "other_nodes = emb_df[emb_df.index.isin(all_other_nodes)]"
   ]
  },
  {
   "cell_type": "code",
   "execution_count": null,
   "metadata": {
    "colab": {
     "base_uri": "https://localhost:8080/"
    },
    "id": "f1ECxhNvxLLb",
    "outputId": "4ee3eca7-dee8-4ea4-cb9d-1e1eeb7b7385"
   },
   "outputs": [
    {
     "data": {
      "text/plain": [
       "99                 Fuller Smith & Turner PLC Fuller's ESB\n",
       "727     Williams Brothers Brewing Company Alba Scots P...\n",
       "1319    Kulmbacher Brauerei AG Mönchshof Kellerbier (K...\n",
       "922                     Dogfish Head Brewery Burton Baton\n",
       "215      Brouwerij Duvel Moortgat NV Maredsous 6 - Blonde\n",
       "Name: beer, dtype: object"
      ]
     },
     "execution_count": 67,
     "metadata": {},
     "output_type": "execute_result"
    }
   ],
   "source": [
    "# predicting where there should be additonal edges for Alaskan Brewing Co. Alaskan Amber\n",
    "predict_links(g, emb_df, 'Alaskan Brewing Co. Alaskan Amber', 5)"
   ]
  },
  {
   "cell_type": "code",
   "execution_count": 14,
   "metadata": {},
   "outputs": [],
   "source": [
    "#defining buckets and shared attributes values for Node2Vec algorithm\n",
    "BUCKETS, SHARED_ATTRIBUTES = 4, 7"
   ]
  },
  {
   "cell_type": "code",
   "execution_count": 11,
   "metadata": {},
   "outputs": [
    {
     "ename": "NameError",
     "evalue": "name 'BUCKETS' is not defined",
     "output_type": "error",
     "traceback": [
      "\u001b[0;31m---------------------------------------------------------------------------\u001b[0m",
      "\u001b[0;31mNameError\u001b[0m                                 Traceback (most recent call last)",
      "\u001b[0;32m<ipython-input-11-003bd3344b84>\u001b[0m in \u001b[0;36m<module>\u001b[0;34m\u001b[0m\n\u001b[1;32m      9\u001b[0m \u001b[0mbp\u001b[0m \u001b[0;34m=\u001b[0m \u001b[0mbeer_profile\u001b[0m\u001b[0;34m.\u001b[0m\u001b[0mdrop\u001b[0m\u001b[0;34m(\u001b[0m\u001b[0mcolumns\u001b[0m \u001b[0;34m=\u001b[0m \u001b[0mdrop_cols\u001b[0m\u001b[0;34m)\u001b[0m\u001b[0;34m\u001b[0m\u001b[0;34m\u001b[0m\u001b[0m\n\u001b[1;32m     10\u001b[0m \u001b[0;31m# Bucketing the traits of each beer to measure similarity\u001b[0m\u001b[0;34m\u001b[0m\u001b[0;34m\u001b[0m\u001b[0;34m\u001b[0m\u001b[0m\n\u001b[0;32m---> 11\u001b[0;31m \u001b[0mnew_bp\u001b[0m \u001b[0;34m=\u001b[0m \u001b[0mbucket_me\u001b[0m\u001b[0;34m(\u001b[0m\u001b[0mBUCKETS\u001b[0m\u001b[0;34m,\u001b[0m \u001b[0mbp\u001b[0m\u001b[0;34m.\u001b[0m\u001b[0mset_index\u001b[0m\u001b[0;34m(\u001b[0m\u001b[0;34m'Beer Name (Full)'\u001b[0m\u001b[0;34m)\u001b[0m\u001b[0;34m)\u001b[0m\u001b[0;34m\u001b[0m\u001b[0;34m\u001b[0m\u001b[0m\n\u001b[0m\u001b[1;32m     12\u001b[0m \u001b[0;31m# Make buckets column of strings\u001b[0m\u001b[0;34m\u001b[0m\u001b[0;34m\u001b[0m\u001b[0;34m\u001b[0m\u001b[0m\n\u001b[1;32m     13\u001b[0m \u001b[0mnew_bp\u001b[0m\u001b[0;34m[\u001b[0m\u001b[0;34m\"buckets\"\u001b[0m\u001b[0;34m]\u001b[0m \u001b[0;34m=\u001b[0m \u001b[0mnew_bp\u001b[0m\u001b[0;34m.\u001b[0m\u001b[0mapply\u001b[0m\u001b[0;34m(\u001b[0m\u001b[0;32mlambda\u001b[0m \u001b[0mx\u001b[0m\u001b[0;34m:\u001b[0m \u001b[0;34m','\u001b[0m\u001b[0;34m.\u001b[0m\u001b[0mjoin\u001b[0m\u001b[0;34m(\u001b[0m\u001b[0mx\u001b[0m\u001b[0;34m.\u001b[0m\u001b[0mastype\u001b[0m\u001b[0;34m(\u001b[0m\u001b[0mstr\u001b[0m\u001b[0;34m)\u001b[0m\u001b[0;34m)\u001b[0m\u001b[0;34m,\u001b[0m \u001b[0maxis\u001b[0m\u001b[0;34m=\u001b[0m\u001b[0;36m1\u001b[0m\u001b[0;34m)\u001b[0m\u001b[0;34m\u001b[0m\u001b[0;34m\u001b[0m\u001b[0m\n",
      "\u001b[0;31mNameError\u001b[0m: name 'BUCKETS' is not defined"
     ]
    }
   ],
   "source": [
    "# storing graph 'g' and 'emb_df' in pkl and csv files\n",
    "# Unnecessary columns in beer profile dataset\n",
    "drop_cols = ['Name', 'Brewery', 'Description', 'Min IBU', 'Max IBU', 'Alcohol', 'review_aroma', \n",
    "         'review_appearance', 'review_palate', 'review_taste', 'review_overall', \n",
    "         'number_of_reviews', 'ABV', 'Salty']\n",
    "# Loading in the beer profile dataset\n",
    "beer_profile = pd.read_csv(\"beer_profile_and_ratings.csv\", encoding=\"utf-8\")\n",
    "bp = beer_profile.drop(columns = drop_cols)\n",
    "# Bucketing the traits of each beer to measure similarity\n",
    "new_bp = bucket_me(BUCKETS, bp.set_index('Beer Name (Full)'))\n",
    "# Make buckets column of strings\n",
    "new_bp[\"buckets\"] = new_bp.apply(lambda x: ','.join(x.astype(str)), axis=1)\n",
    "# Turn buckets into list\n",
    "new_bp[\"buckets\"] = new_bp[\"buckets\"].apply(str_to_list)\n",
    "# generating network based on threshold for shared attributes\n",
    "g = generate_network(new_bp, shared_att = SHARED_ATTRIBUTES)\n",
    "\n",
    "filehandler = open('beer_network.pkl', 'wb')\n",
    "pickle.dump(g, filehandler)"
   ]
  },
  {
   "cell_type": "code",
   "execution_count": 25,
   "metadata": {},
   "outputs": [
    {
     "data": {
      "application/vnd.jupyter.widget-view+json": {
       "model_id": "f9e2843b4c4e4c5683d39ded6c9f9394",
       "version_major": 2,
       "version_minor": 0
      },
      "text/plain": [
       "Computing transition probabilities:   0%|          | 0/3197 [00:00<?, ?it/s]"
      ]
     },
     "metadata": {},
     "output_type": "display_data"
    },
    {
     "name": "stderr",
     "output_type": "stream",
     "text": [
      "Generating walks (CPU: 1): 100%|███████████████████████████████████████████████████████| 10/10 [00:33<00:00,  3.39s/it]\n"
     ]
    }
   ],
   "source": [
    "# creating matrix used for predicting new links\n",
    "embedding = n2v(g, dimensions = 16)\n",
    "model = embedding.fit(window = 1, min_count = 1, batch_words = 4)\n",
    "emb_df = (pd.DataFrame([model.wv.get_vector(str(n)) for n in g.nodes()],\n",
    "                   index = g.nodes))\n",
    "\n",
    "# embedding dataframe\n",
    "emb_df.to_csv('embedding_df.csv')"
   ]
  },
  {
   "cell_type": "code",
   "execution_count": 75,
   "metadata": {
    "id": "kniov3uEFP9o"
   },
   "outputs": [],
   "source": [
    "def node2vec(beer, n_recs):\n",
    "    # Loading in pkl file storing graph\n",
    "    filehandler = open('beer_network.pkl', 'rb') \n",
    "    g = pickle.load(filehandler)\n",
    "    # Reading in the embedding dataframe\n",
    "    emb_df = pd.read_csv('embedding_df.csv')\n",
    "    # Set embedding index to beer names\n",
    "    emb_df.set_index(['Unnamed: 0'], inplace=True)\n",
    "    \n",
    "    return predict_links(g, emb_df, beer, n_recs)"
   ]
  },
  {
   "cell_type": "code",
   "execution_count": 77,
   "metadata": {},
   "outputs": [
    {
     "data": {
      "text/plain": [
       "1725               Nelson Brewing Company After Dark Mild\n",
       "2843             Wychwood Brewery Company Ltd King Goblin\n",
       "3041    Erdinger Weissbräu Erdinger Weissbier Kristall...\n",
       "2064       Williams Brothers Brewing Company Midnight Sun\n",
       "316     Gordon Biersch Brewery Restaurant Gordon Biers...\n",
       "195                       Ska Brewing Co. True Blonde Ale\n",
       "1878    Genesee Brewing Co. / Dundee Brewing Co. Dunde...\n",
       "1760          T & R Theakston Ltd. Theakston Old Peculier\n",
       "1735             Coopers Brewery Limited Coopers Mild Ale\n",
       "0                       Alaskan Brewing Co. Alaskan Amber\n",
       "Name: beer, dtype: object"
      ]
     },
     "execution_count": 77,
     "metadata": {},
     "output_type": "execute_result"
    }
   ],
   "source": [
    "node2vec('Thomas Creek Brewery River Falls Red Ale', 10)"
   ]
  },
  {
   "cell_type": "markdown",
   "metadata": {
    "id": "ynmBwpbpJp_D"
   },
   "source": [
    "calcscore, df, test_parameters"
   ]
  },
  {
   "cell_type": "markdown",
   "metadata": {
    "id": "fDPV2DU0D0Us"
   },
   "source": [
    "## Testing Node2Vec\n",
    "- Iterate through test parameters (most frequent reviewers and their top reviewed beers), recommend them each ten beers, and see how they rated those beers"
   ]
  },
  {
   "cell_type": "code",
   "execution_count": 20,
   "metadata": {
    "id": "-6c0l9yoKuS9"
   },
   "outputs": [],
   "source": [
    "# Using the beer_profile dataframe, we want to compare \n",
    "def compile_rec_list_n2v(n_recs):\n",
    "  rec_dict = {}\n",
    "  # iterate through test users, get X recommendations for their only beer review, compare recommendations to actual ratings stored in test_set using DCG\n",
    "  for user, beer in test_parameters[0:5]:\n",
    "    recommendations = predict_links(g, emb_df, beer, n_recs)\n",
    "    rec_dict[user] = list(recommendations)\n",
    "\n",
    "  return rec_dict"
   ]
  },
  {
   "cell_type": "code",
   "execution_count": null,
   "metadata": {
    "id": "_a0LTzg3WPjT"
   },
   "outputs": [],
   "source": [
    "recs = compile_rec_list_n2v(10)"
   ]
  },
  {
   "cell_type": "code",
   "execution_count": null,
   "metadata": {
    "colab": {
     "base_uri": "https://localhost:8080/"
    },
    "id": "G0RU7DtCTrM5",
    "outputId": "cb08fc1d-5a52-4591-c2c9-e600c7f55f41"
   },
   "outputs": [
    {
     "name": "stdout",
     "output_type": "stream",
     "text": [
      "BuckeyeNation : 1\n",
      "mikesgroove : 2\n",
      "northyorksammy : 5\n",
      "brentk56 : 5\n",
      "BEERchitect : 6\n"
     ]
    }
   ],
   "source": [
    "calc_score('CG', recs, 10, df.copy().reset_index())"
   ]
  },
  {
   "cell_type": "markdown",
   "metadata": {
    "id": "QXPbF0CLg5Lo"
   },
   "source": []
  }
 ],
 "metadata": {
  "colab": {
   "collapsed_sections": [],
   "include_colab_link": true,
   "name": "Node2Vec.ipynb",
   "provenance": []
  },
  "kernelspec": {
   "display_name": "Python 3",
   "language": "python",
   "name": "python3"
  },
  "language_info": {
   "codemirror_mode": {
    "name": "ipython",
    "version": 3
   },
   "file_extension": ".py",
   "mimetype": "text/x-python",
   "name": "python",
   "nbconvert_exporter": "python",
   "pygments_lexer": "ipython3",
   "version": "3.8.5"
  },
  "widgets": {
   "application/vnd.jupyter.widget-state+json": {
    "02ef98c118534013abd7b26552f579be": {
     "model_module": "@jupyter-widgets/base",
     "model_module_version": "1.2.0",
     "model_name": "LayoutModel",
     "state": {
      "_model_module": "@jupyter-widgets/base",
      "_model_module_version": "1.2.0",
      "_model_name": "LayoutModel",
      "_view_count": null,
      "_view_module": "@jupyter-widgets/base",
      "_view_module_version": "1.2.0",
      "_view_name": "LayoutView",
      "align_content": null,
      "align_items": null,
      "align_self": null,
      "border": null,
      "bottom": null,
      "display": null,
      "flex": null,
      "flex_flow": null,
      "grid_area": null,
      "grid_auto_columns": null,
      "grid_auto_flow": null,
      "grid_auto_rows": null,
      "grid_column": null,
      "grid_gap": null,
      "grid_row": null,
      "grid_template_areas": null,
      "grid_template_columns": null,
      "grid_template_rows": null,
      "height": null,
      "justify_content": null,
      "justify_items": null,
      "left": null,
      "margin": null,
      "max_height": null,
      "max_width": null,
      "min_height": null,
      "min_width": null,
      "object_fit": null,
      "object_position": null,
      "order": null,
      "overflow": null,
      "overflow_x": null,
      "overflow_y": null,
      "padding": null,
      "right": null,
      "top": null,
      "visibility": null,
      "width": null
     }
    },
    "305a128cfa3942d8b9a7ab94e3c30fab": {
     "model_module": "@jupyter-widgets/controls",
     "model_module_version": "1.5.0",
     "model_name": "HTMLModel",
     "state": {
      "_dom_classes": [],
      "_model_module": "@jupyter-widgets/controls",
      "_model_module_version": "1.5.0",
      "_model_name": "HTMLModel",
      "_view_count": null,
      "_view_module": "@jupyter-widgets/controls",
      "_view_module_version": "1.5.0",
      "_view_name": "HTMLView",
      "description": "",
      "description_tooltip": null,
      "layout": "IPY_MODEL_a837d23d08634f9190a40887eecb7115",
      "placeholder": "​",
      "style": "IPY_MODEL_758ca8abab51492da0895320a029c8bd",
      "value": " 3197/3197 [01:41&lt;00:00, 74.00it/s]"
     }
    },
    "758ca8abab51492da0895320a029c8bd": {
     "model_module": "@jupyter-widgets/controls",
     "model_module_version": "1.5.0",
     "model_name": "DescriptionStyleModel",
     "state": {
      "_model_module": "@jupyter-widgets/controls",
      "_model_module_version": "1.5.0",
      "_model_name": "DescriptionStyleModel",
      "_view_count": null,
      "_view_module": "@jupyter-widgets/base",
      "_view_module_version": "1.2.0",
      "_view_name": "StyleView",
      "description_width": ""
     }
    },
    "8557801fd0a44d9f872519f6d7317c1b": {
     "model_module": "@jupyter-widgets/base",
     "model_module_version": "1.2.0",
     "model_name": "LayoutModel",
     "state": {
      "_model_module": "@jupyter-widgets/base",
      "_model_module_version": "1.2.0",
      "_model_name": "LayoutModel",
      "_view_count": null,
      "_view_module": "@jupyter-widgets/base",
      "_view_module_version": "1.2.0",
      "_view_name": "LayoutView",
      "align_content": null,
      "align_items": null,
      "align_self": null,
      "border": null,
      "bottom": null,
      "display": null,
      "flex": null,
      "flex_flow": null,
      "grid_area": null,
      "grid_auto_columns": null,
      "grid_auto_flow": null,
      "grid_auto_rows": null,
      "grid_column": null,
      "grid_gap": null,
      "grid_row": null,
      "grid_template_areas": null,
      "grid_template_columns": null,
      "grid_template_rows": null,
      "height": null,
      "justify_content": null,
      "justify_items": null,
      "left": null,
      "margin": null,
      "max_height": null,
      "max_width": null,
      "min_height": null,
      "min_width": null,
      "object_fit": null,
      "object_position": null,
      "order": null,
      "overflow": null,
      "overflow_x": null,
      "overflow_y": null,
      "padding": null,
      "right": null,
      "top": null,
      "visibility": null,
      "width": null
     }
    },
    "89889c8f1bbe4b82bddcf6c29daa9399": {
     "model_module": "@jupyter-widgets/controls",
     "model_module_version": "1.5.0",
     "model_name": "DescriptionStyleModel",
     "state": {
      "_model_module": "@jupyter-widgets/controls",
      "_model_module_version": "1.5.0",
      "_model_name": "DescriptionStyleModel",
      "_view_count": null,
      "_view_module": "@jupyter-widgets/base",
      "_view_module_version": "1.2.0",
      "_view_name": "StyleView",
      "description_width": ""
     }
    },
    "8bf57715a74d455e9659c1887d892682": {
     "model_module": "@jupyter-widgets/controls",
     "model_module_version": "1.5.0",
     "model_name": "FloatProgressModel",
     "state": {
      "_dom_classes": [],
      "_model_module": "@jupyter-widgets/controls",
      "_model_module_version": "1.5.0",
      "_model_name": "FloatProgressModel",
      "_view_count": null,
      "_view_module": "@jupyter-widgets/controls",
      "_view_module_version": "1.5.0",
      "_view_name": "ProgressView",
      "bar_style": "success",
      "description": "",
      "description_tooltip": null,
      "layout": "IPY_MODEL_8557801fd0a44d9f872519f6d7317c1b",
      "max": 3197,
      "min": 0,
      "orientation": "horizontal",
      "style": "IPY_MODEL_f2a7182637314463842dbb5a0a8d9666",
      "value": 3197
     }
    },
    "90cff02e5601465e95529da81f9777a9": {
     "model_module": "@jupyter-widgets/base",
     "model_module_version": "1.2.0",
     "model_name": "LayoutModel",
     "state": {
      "_model_module": "@jupyter-widgets/base",
      "_model_module_version": "1.2.0",
      "_model_name": "LayoutModel",
      "_view_count": null,
      "_view_module": "@jupyter-widgets/base",
      "_view_module_version": "1.2.0",
      "_view_name": "LayoutView",
      "align_content": null,
      "align_items": null,
      "align_self": null,
      "border": null,
      "bottom": null,
      "display": null,
      "flex": null,
      "flex_flow": null,
      "grid_area": null,
      "grid_auto_columns": null,
      "grid_auto_flow": null,
      "grid_auto_rows": null,
      "grid_column": null,
      "grid_gap": null,
      "grid_row": null,
      "grid_template_areas": null,
      "grid_template_columns": null,
      "grid_template_rows": null,
      "height": null,
      "justify_content": null,
      "justify_items": null,
      "left": null,
      "margin": null,
      "max_height": null,
      "max_width": null,
      "min_height": null,
      "min_width": null,
      "object_fit": null,
      "object_position": null,
      "order": null,
      "overflow": null,
      "overflow_x": null,
      "overflow_y": null,
      "padding": null,
      "right": null,
      "top": null,
      "visibility": null,
      "width": null
     }
    },
    "a837d23d08634f9190a40887eecb7115": {
     "model_module": "@jupyter-widgets/base",
     "model_module_version": "1.2.0",
     "model_name": "LayoutModel",
     "state": {
      "_model_module": "@jupyter-widgets/base",
      "_model_module_version": "1.2.0",
      "_model_name": "LayoutModel",
      "_view_count": null,
      "_view_module": "@jupyter-widgets/base",
      "_view_module_version": "1.2.0",
      "_view_name": "LayoutView",
      "align_content": null,
      "align_items": null,
      "align_self": null,
      "border": null,
      "bottom": null,
      "display": null,
      "flex": null,
      "flex_flow": null,
      "grid_area": null,
      "grid_auto_columns": null,
      "grid_auto_flow": null,
      "grid_auto_rows": null,
      "grid_column": null,
      "grid_gap": null,
      "grid_row": null,
      "grid_template_areas": null,
      "grid_template_columns": null,
      "grid_template_rows": null,
      "height": null,
      "justify_content": null,
      "justify_items": null,
      "left": null,
      "margin": null,
      "max_height": null,
      "max_width": null,
      "min_height": null,
      "min_width": null,
      "object_fit": null,
      "object_position": null,
      "order": null,
      "overflow": null,
      "overflow_x": null,
      "overflow_y": null,
      "padding": null,
      "right": null,
      "top": null,
      "visibility": null,
      "width": null
     }
    },
    "d6da93d4fa384417b97d7c61da258883": {
     "model_module": "@jupyter-widgets/controls",
     "model_module_version": "1.5.0",
     "model_name": "HTMLModel",
     "state": {
      "_dom_classes": [],
      "_model_module": "@jupyter-widgets/controls",
      "_model_module_version": "1.5.0",
      "_model_name": "HTMLModel",
      "_view_count": null,
      "_view_module": "@jupyter-widgets/controls",
      "_view_module_version": "1.5.0",
      "_view_name": "HTMLView",
      "description": "",
      "description_tooltip": null,
      "layout": "IPY_MODEL_02ef98c118534013abd7b26552f579be",
      "placeholder": "​",
      "style": "IPY_MODEL_89889c8f1bbe4b82bddcf6c29daa9399",
      "value": "Computing transition probabilities: 100%"
     }
    },
    "f221964aabfb44ba9b326c5ca18c6f52": {
     "model_module": "@jupyter-widgets/controls",
     "model_module_version": "1.5.0",
     "model_name": "HBoxModel",
     "state": {
      "_dom_classes": [],
      "_model_module": "@jupyter-widgets/controls",
      "_model_module_version": "1.5.0",
      "_model_name": "HBoxModel",
      "_view_count": null,
      "_view_module": "@jupyter-widgets/controls",
      "_view_module_version": "1.5.0",
      "_view_name": "HBoxView",
      "box_style": "",
      "children": [
       "IPY_MODEL_d6da93d4fa384417b97d7c61da258883",
       "IPY_MODEL_8bf57715a74d455e9659c1887d892682",
       "IPY_MODEL_305a128cfa3942d8b9a7ab94e3c30fab"
      ],
      "layout": "IPY_MODEL_90cff02e5601465e95529da81f9777a9"
     }
    },
    "f2a7182637314463842dbb5a0a8d9666": {
     "model_module": "@jupyter-widgets/controls",
     "model_module_version": "1.5.0",
     "model_name": "ProgressStyleModel",
     "state": {
      "_model_module": "@jupyter-widgets/controls",
      "_model_module_version": "1.5.0",
      "_model_name": "ProgressStyleModel",
      "_view_count": null,
      "_view_module": "@jupyter-widgets/base",
      "_view_module_version": "1.2.0",
      "_view_name": "StyleView",
      "bar_color": null,
      "description_width": ""
     }
    }
   }
  }
 },
 "nbformat": 4,
 "nbformat_minor": 1
}
