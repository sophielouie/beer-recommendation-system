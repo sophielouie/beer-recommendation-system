{
 "cells": [
  {
   "cell_type": "markdown",
   "metadata": {
    "colab_type": "text",
    "id": "view-in-github"
   },
   "source": [
    "<a href=\"https://colab.research.google.com/github/sophielouie/beer-recommendation-system/blob/main/GUI.ipynb\" target=\"_parent\"><img src=\"https://colab.research.google.com/assets/colab-badge.svg\" alt=\"Open In Colab\"/></a>"
   ]
  },
  {
   "cell_type": "code",
   "execution_count": 1,
   "metadata": {
    "id": "wVkubPMHLCR4"
   },
   "outputs": [],
   "source": [
    "import pandas as pd\n",
    "from sklearn.preprocessing import StandardScaler, MinMaxScaler\n",
    "from sklearn.metrics.pairwise import cosine_similarity\n",
    "import numpy as np\n",
    "from scipy import spatial\n",
    "import statistics as stats\n",
    "import math\n",
    "from plotly.subplots import make_subplots\n",
    "from surprise import SVD, Reader, Dataset, accuracy\n",
    "from surprise.model_selection import train_test_split\n",
    "from networkx.algorithms.dag import topological_sort\n",
    "import networkx as nx\n",
    "import plotly.graph_objects as go\n",
    "import pickle\n",
    "\n",
    "#import Node2Vec and Hybrid Notebooks\n",
    "import node2vec_module\n",
    "from node2vec_module import node2vec, clean_beer_reviews\n",
    "from hybridmodel import hybrid_model, clean_beer_reviews\n",
    "import ipywidgets as widgets\n",
    "from IPython.display import display\n",
    "from ipywidgets import Dropdown\n",
    "from ipywidgets import interact, interactive, fixed, interact_manual\n",
    "import pandas as pd"
   ]
  },
  {
   "cell_type": "code",
   "execution_count": 2,
   "metadata": {},
   "outputs": [],
   "source": [
    "import warnings\n",
    "warnings.filterwarnings(\"ignore\")"
   ]
  },
  {
   "cell_type": "markdown",
   "metadata": {
    "id": "bO3FRp1dWSL-"
   },
   "source": [
    "# Beer Recommendation\n",
    "### Welcome to our Nobel Prize winning beer rec algorithms!\n",
    "### We have created two recommendation systems - a Hybrid model and a Node2Vec model\n",
    "#### We use a hybrid recommendation system that generates recommendations by first creating a list of the 50 most similar beers to the target beer using beer reviews (content-based) and then utilizes an SVD matrix to predict the beers that the user would rate the highest (collaborative filtering).\n",
    "#### For our Node2Vec recommedation system, we establish links between beers based on how many attributes they share to form a graph of beer nodes. Node2Vec transforms the graph into vector representations and we use cosine similarity to find beers that re close in proximity, but do not already share an edge. We are working under the assumption that nodes close in distance should have an edge connecting them because Node2Vec preserves the structure of the input graph.\n",
    "### Directions:\n",
    "#### "
   ]
  },
  {
   "cell_type": "code",
   "execution_count": 3,
   "metadata": {},
   "outputs": [],
   "source": [
    "BEER_DF = clean_beer_reviews()"
   ]
  },
  {
   "cell_type": "code",
   "execution_count": 4,
   "metadata": {},
   "outputs": [],
   "source": [
    "# make a fucntion that returns a list of beers\n",
    "def make_beer_list():\n",
    "    return BEER_DF[\"Beer Name\"].unique()\n",
    "\n",
    "\n",
    "# list of user, beer combination\n",
    "def make_beer_user_list(user):\n",
    "    return BEER_DF.loc[BEER_DF[\"review_profilename\"] == user][\"Beer Name\"]\n",
    "\n",
    "# list of users to choose from\n",
    "def make_user_list():\n",
    "    return BEER_DF['review_profilename'].unique()"
   ]
  },
  {
   "cell_type": "code",
   "execution_count": 5,
   "metadata": {},
   "outputs": [
    {
     "data": {
      "application/vnd.jupyter.widget-view+json": {
       "model_id": "528f3dc3b6f445139d800ba9be2f7f76",
       "version_major": 2,
       "version_minor": 0
      },
      "text/plain": [
       "Dropdown(description='Select a model', options=('Hybrid', 'Node2Vec'), style=DescriptionStyle(description_widt…"
      ]
     },
     "metadata": {},
     "output_type": "display_data"
    },
    {
     "data": {
      "application/vnd.jupyter.widget-view+json": {
       "model_id": "a92eb17d443d430495ba7eb46c3b51c7",
       "version_major": 2,
       "version_minor": 0
      },
      "text/plain": [
       "Dropdown(description='Choose one', options=(), style=DescriptionStyle(description_width='initial'), value=None…"
      ]
     },
     "metadata": {},
     "output_type": "display_data"
    },
    {
     "data": {
      "application/vnd.jupyter.widget-view+json": {
       "model_id": "bef72026431b494d92f155fab91ac7b3",
       "version_major": 2,
       "version_minor": 0
      },
      "text/plain": [
       "Dropdown(description='Choose one', layout=Layout(visibility='hidden'), options=(), style=DescriptionStyle(desc…"
      ]
     },
     "metadata": {},
     "output_type": "display_data"
    },
    {
     "data": {
      "application/vnd.jupyter.widget-view+json": {
       "model_id": "24382ca81cd94985a8b3e317d1bc8ad5",
       "version_major": 2,
       "version_minor": 0
      },
      "text/plain": [
       "IntSlider(value=5, continuous_update=False, description='Number of recommendations:', layout=Layout(height='40…"
      ]
     },
     "metadata": {},
     "output_type": "display_data"
    }
   ],
   "source": [
    "# MDOEL TYPE DROPDOWN TO USER/BEER OPTIONS\n",
    "def model_dropdown_eventhandler(change):\n",
    "    determine(model_dropdown.value)\n",
    "\n",
    "option_list = [\"Hybrid\", \"Node2Vec\"]\n",
    "\n",
    "user = make_user_list()[:100]\n",
    "beer = make_beer_list()\n",
    "\n",
    "def determine(x):\n",
    "    third_dropdown.layout.visibility = \"hidden\"\n",
    "    sec_dropdown.index = None\n",
    "    if x == \"Hybrid\":\n",
    "        sec_dropdown.options = user\n",
    "    else:\n",
    "        sec_dropdown.options = beer\n",
    "        \n",
    "# HYBRID MODEL USER CHOISE TO CORRESPONDING BEER OPTIONS\n",
    "def beer_dropdown_eventhandler(change):\n",
    "    determine_beer(sec_dropdown.value)\n",
    "\n",
    "def determine_beer(x):\n",
    "    third_dropdown.index = None\n",
    "    beer_user = make_beer_user_list(x)\n",
    "    if len(beer_user) > 0:\n",
    "        third_dropdown.options = beer_user\n",
    "        third_dropdown.layout.visibility = \"visible\"\n",
    "    else: \n",
    "        third_dropdown.layout.visibility = \"hidden\"\n",
    "\n",
    "model_dropdown = Dropdown(description=\"Select a model\", options=option_list,\n",
    "            style = {'description_width': 'initial'}, value=None)\n",
    "#This will be users for when hybrid is selected, beers for when Node2Vec is selected\n",
    "sec_dropdown = Dropdown(description=\"Choose one\",\n",
    "            style = {'description_width': 'initial'})\n",
    "model_dropdown.observe(model_dropdown_eventhandler, names='value')\n",
    "#This will only appear when Hybrid is selected and contains beer list\n",
    "third_dropdown = Dropdown(description=\"Choose one\", layout = {\"visibility\" : \"hidden\"},\n",
    "            style = {'description_width': 'initial'})\n",
    "sec_dropdown.observe(beer_dropdown_eventhandler, names='value')\n",
    "num_recs = widgets.IntSlider(\n",
    "            value=5,\n",
    "            min=0,\n",
    "            max=10,\n",
    "            step=1,\n",
    "            description='Number of recommendations:',\n",
    "            disabled=False,\n",
    "            continuous_update=False,\n",
    "            orientation='horizontal',\n",
    "            readout=True,\n",
    "            readout_format='d',\n",
    "            layout=widgets.Layout(width='50%', height='40px'),\n",
    "            style = {'description_width': 'initial'}\n",
    "        )\n",
    "\n",
    "display(model_dropdown, sec_dropdown, third_dropdown, num_recs)"
   ]
  },
  {
   "cell_type": "code",
   "execution_count": 6,
   "metadata": {},
   "outputs": [
    {
     "data": {
      "application/vnd.jupyter.widget-view+json": {
       "model_id": "e4169dbdbf58435a9e9fb3c0cdbba114",
       "version_major": 2,
       "version_minor": 0
      },
      "text/plain": [
       "Button(description='Start', style=ButtonStyle())"
      ]
     },
     "metadata": {},
     "output_type": "display_data"
    },
    {
     "data": {
      "application/vnd.jupyter.widget-view+json": {
       "model_id": "7b5e0c368ef44cafb4dbbdb8fb08fe9e",
       "version_major": 2,
       "version_minor": 0
      },
      "text/plain": [
       "Output(layout=Layout(border='1px solid black'))"
      ]
     },
     "metadata": {},
     "output_type": "display_data"
    }
   ],
   "source": [
    "btn = widgets.Button(description='Start')\n",
    "out = widgets.Output(layout={'border': '1px solid black'})\n",
    "\n",
    "display(btn, out)\n",
    "\n",
    "def btn_eventhandler(obj):\n",
    "    out.clear_output()\n",
    "    \n",
    "    if model_dropdown.value == 'Hybrid':\n",
    "        if sec_dropdown.value and third_dropdown.value and num_recs:\n",
    "            with out:\n",
    "                print('running')\n",
    "                result = hybrid_model(sec_dropdown.value, third_dropdown.value, num_recs.value)\n",
    "                print(result['Beer Name'])\n",
    "    \n",
    "    elif model_dropdown.value == 'Node2Vec':\n",
    "        if sec_dropdown.value and num_recs:\n",
    "            with out:\n",
    "                print('running')\n",
    "                print(node2vec(sec_dropdown.value, num_recs.value))\n",
    "    \n",
    "btn.on_click(btn_eventhandler)"
   ]
  }
 ],
 "metadata": {
  "colab": {
   "collapsed_sections": [],
   "include_colab_link": true,
   "name": "GUI.ipynb",
   "provenance": []
  },
  "kernelspec": {
   "display_name": "Python 3",
   "language": "python",
   "name": "python3"
  },
  "language_info": {
   "codemirror_mode": {
    "name": "ipython",
    "version": 3
   },
   "file_extension": ".py",
   "mimetype": "text/x-python",
   "name": "python",
   "nbconvert_exporter": "python",
   "pygments_lexer": "ipython3",
   "version": "3.8.5"
  },
  "widgets": {
   "application/vnd.jupyter.widget-state+json": {
    "7cc37c5544124867a37d67c6a7759b1b": {
     "model_module": "@jupyter-widgets/base",
     "model_module_version": "1.2.0",
     "model_name": "LayoutModel",
     "state": {
      "_model_module": "@jupyter-widgets/base",
      "_model_module_version": "1.2.0",
      "_model_name": "LayoutModel",
      "_view_count": null,
      "_view_module": "@jupyter-widgets/base",
      "_view_module_version": "1.2.0",
      "_view_name": "LayoutView",
      "align_content": null,
      "align_items": null,
      "align_self": null,
      "border": null,
      "bottom": null,
      "display": null,
      "flex": null,
      "flex_flow": null,
      "grid_area": null,
      "grid_auto_columns": null,
      "grid_auto_flow": null,
      "grid_auto_rows": null,
      "grid_column": null,
      "grid_gap": null,
      "grid_row": null,
      "grid_template_areas": null,
      "grid_template_columns": null,
      "grid_template_rows": null,
      "height": null,
      "justify_content": null,
      "justify_items": null,
      "left": null,
      "margin": null,
      "max_height": null,
      "max_width": null,
      "min_height": null,
      "min_width": null,
      "object_fit": null,
      "object_position": null,
      "order": null,
      "overflow": null,
      "overflow_x": null,
      "overflow_y": null,
      "padding": null,
      "right": null,
      "top": null,
      "visibility": null,
      "width": null
     }
    },
    "d09bd68013a44d46b6c3f353173b0dd6": {
     "model_module": "@jupyter-widgets/controls",
     "model_module_version": "1.5.0",
     "model_name": "ButtonStyleModel",
     "state": {
      "_model_module": "@jupyter-widgets/controls",
      "_model_module_version": "1.5.0",
      "_model_name": "ButtonStyleModel",
      "_view_count": null,
      "_view_module": "@jupyter-widgets/base",
      "_view_module_version": "1.2.0",
      "_view_name": "StyleView",
      "button_color": null,
      "font_weight": ""
     }
    },
    "ff452a4017614c51b98d649468c125ff": {
     "model_module": "@jupyter-widgets/controls",
     "model_module_version": "1.5.0",
     "model_name": "FileUploadModel",
     "state": {
      "_counter": 1,
      "_dom_classes": [],
      "_model_module": "@jupyter-widgets/controls",
      "_model_module_version": "1.5.0",
      "_model_name": "FileUploadModel",
      "_view_count": null,
      "_view_module": "@jupyter-widgets/controls",
      "_view_module_version": "1.5.0",
      "_view_name": "FileUploadView",
      "accept": "",
      "button_style": "",
      "data": [
       null
      ],
      "description": "Upload",
      "description_tooltip": null,
      "disabled": false,
      "error": "",
      "icon": "upload",
      "layout": "IPY_MODEL_7cc37c5544124867a37d67c6a7759b1b",
      "metadata": [
       {
        "lastModified": 1656814139137,
        "name": "cat.jpeg",
        "size": 487541,
        "type": "image/jpeg"
       }
      ],
      "multiple": false,
      "style": "IPY_MODEL_d09bd68013a44d46b6c3f353173b0dd6"
     }
    }
   }
  }
 },
 "nbformat": 4,
 "nbformat_minor": 1
}
