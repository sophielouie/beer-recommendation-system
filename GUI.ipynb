{
 "cells": [
  {
   "cell_type": "markdown",
   "metadata": {
    "colab_type": "text",
    "id": "view-in-github"
   },
   "source": [
    "<a href=\"https://colab.research.google.com/github/sophielouie/beer-recommendation-system/blob/main/GUI.ipynb\" target=\"_parent\"><img src=\"https://colab.research.google.com/assets/colab-badge.svg\" alt=\"Open In Colab\"/></a>"
   ]
  },
  {
   "cell_type": "code",
   "execution_count": 1,
   "metadata": {
    "id": "wVkubPMHLCR4"
   },
   "outputs": [],
   "source": [
    "import pandas as pd\n",
    "from sklearn.preprocessing import StandardScaler, MinMaxScaler\n",
    "from sklearn.metrics.pairwise import cosine_similarity\n",
    "import numpy as np\n",
    "from scipy import spatial\n",
    "import statistics as stats\n",
    "import math\n",
    "from plotly.subplots import make_subplots\n",
    "from sklearn.preprocessing import StandardScaler, MinMaxScaler\n",
    "from sklearn.metrics.pairwise import cosine_similarity\n",
    "from surprise import SVD, Reader, Dataset, accuracy\n",
    "from surprise.model_selection import train_test_split\n",
    "from networkx.algorithms.dag import topological_sort\n",
    "import networkx as nx\n",
    "import plotly.graph_objects as go\n",
    "from node2vec import Node2Vec"
   ]
  },
  {
   "cell_type": "code",
   "execution_count": 2,
   "metadata": {},
   "outputs": [],
   "source": [
    "#import Node2Vec and Hybrid Notebooks\n",
    "import node2vec_module\n",
    "from node2vec_module import node2vec"
   ]
  },
  {
   "cell_type": "code",
   "execution_count": 3,
   "metadata": {},
   "outputs": [],
   "source": [
    "#defining buckets and shared attributes values for Node2Vec algorithm\n",
    "BUCKETS, SHARED_ATTRIBUTES = 4, 7"
   ]
  },
  {
   "cell_type": "markdown",
   "metadata": {
    "id": "bptwAP54TE4L"
   },
   "source": [
    "we want to import functions into our gui file\n",
    "- transport endpoint is not connected\n",
    "- we do not understand google file explorer"
   ]
  },
  {
   "cell_type": "code",
   "execution_count": 4,
   "metadata": {
    "id": "DWkkVLrxLSNa"
   },
   "outputs": [
    {
     "name": "stdout",
     "output_type": "stream",
     "text": [
      "Requirement already satisfied: node2vec in /Applications/anaconda3/lib/python3.8/site-packages (0.4.5)\n",
      "Requirement already satisfied: tqdm<5.0.0,>=4.55.1 in /Applications/anaconda3/lib/python3.8/site-packages (from node2vec) (4.64.0)\n",
      "Requirement already satisfied: networkx<3.0,>=2.5 in /Applications/anaconda3/lib/python3.8/site-packages (from node2vec) (2.5)\n",
      "Requirement already satisfied: gensim<5.0.0,>=4.1.2 in /Applications/anaconda3/lib/python3.8/site-packages (from node2vec) (4.1.2)\n",
      "Requirement already satisfied: numpy<2.0.0,>=1.19.5 in /Applications/anaconda3/lib/python3.8/site-packages (from node2vec) (1.23.1)\n",
      "Requirement already satisfied: joblib<2.0.0,>=1.1.0 in /Applications/anaconda3/lib/python3.8/site-packages (from node2vec) (1.1.0)\n",
      "Requirement already satisfied: smart-open>=1.8.1 in /Applications/anaconda3/lib/python3.8/site-packages (from gensim<5.0.0,>=4.1.2->node2vec) (5.2.1)\n",
      "Requirement already satisfied: scipy>=0.18.1 in /Applications/anaconda3/lib/python3.8/site-packages (from gensim<5.0.0,>=4.1.2->node2vec) (1.5.2)\n",
      "Requirement already satisfied: decorator>=4.3.0 in /Applications/anaconda3/lib/python3.8/site-packages (from networkx<3.0,>=2.5->node2vec) (4.4.2)\n",
      "\u001b[33mWARNING: You are using pip version 21.0.1; however, version 22.2.2 is available.\n",
      "You should consider upgrading via the '/Applications/anaconda3/bin/python -m pip install --upgrade pip' command.\u001b[0m\n"
     ]
    }
   ],
   "source": [
    "!pip install node2vec"
   ]
  },
  {
   "cell_type": "code",
   "execution_count": 22,
   "metadata": {
    "colab": {
     "base_uri": "https://localhost:8080/",
     "height": 135
    },
    "id": "NiosDsRbVqFg",
    "outputId": "2cce3180-1d77-4a6f-804d-91253e45409b"
   },
   "outputs": [],
   "source": [
    "import node2vec as n\n",
    "import hybridmodel as h"
   ]
  },
  {
   "cell_type": "markdown",
   "metadata": {
    "id": "bO3FRp1dWSL-"
   },
   "source": [
    "# app interface"
   ]
  },
  {
   "cell_type": "code",
   "execution_count": 8,
   "metadata": {
    "id": "flcfwDxx_XuV"
   },
   "outputs": [],
   "source": [
    "import ipywidgets as widgets\n",
    "from IPython.display import display\n",
    "from ipywidgets import Dropdown\n",
    "from ipywidgets import interact, interactive, fixed, interact_manual\n",
    "import hybridmodel\n",
    "from hybridmodel import clean_beer_reviews\n",
    "import pandas as pd"
   ]
  },
  {
   "cell_type": "code",
   "execution_count": null,
   "metadata": {},
   "outputs": [],
   "source": [
    "# paragraph describing each model"
   ]
  },
  {
   "cell_type": "code",
   "execution_count": 9,
   "metadata": {},
   "outputs": [],
   "source": [
    "def clean_beer_reviews():\n",
    "    # storing beer review dataset\n",
    "    beer_reviews = pd.read_csv(\"beer_reviews.csv\")\n",
    "    # creating a unique identifier for each beer using brewery name and beer name\n",
    "    beer_reviews['Unique Beer Name'] = beer_reviews['brewery_name'] + ' ' + beer_reviews['beer_name']\n",
    "    # storing beer profile dataset\n",
    "    beer_profile = pd.read_csv(\"beer_profile_and_ratings.csv\")\n",
    "    # columns to drop from beer reviews\n",
    "    drop_cols = ['brewery_id', 'brewery_name',  'beer_name', 'beer_abv', 'beer_beerid']\n",
    "    # dropping columns from beer reviews\n",
    "    beer_reviews.drop(columns = drop_cols, inplace = True)\n",
    "    # columns to drop from  beer profile\n",
    "    drop_cols = ['Name', 'Style', 'Brewery', 'Description',\n",
    "                 'Min IBU', 'Max IBU', 'Alcohol', 'review_aroma', 'review_appearance', 'review_palate',\n",
    "                 'review_taste', 'review_overall', 'number_of_reviews']\n",
    "    # dropping columns from beer profile\n",
    "    beer_profile.drop(columns = drop_cols, inplace = True)\n",
    "    # combining beer review and beer profile datasets to have profile of each beer attached to every review\n",
    "    df_beer = pd.merge(beer_reviews, beer_profile, left_on = 'Unique Beer Name', right_on = 'Beer Name (Full)', how = 'inner')\n",
    "    # isolating the numerical columns that need to be scaled\n",
    "    need_scaling = df_beer.drop(columns = ['review_time', 'review_profilename', 'beer_style', 'Unique Beer Name', 'Beer Name (Full)'])\n",
    "    # storing the informational portion of the dataset that does not need scaling\n",
    "    informational = df_beer[['review_time', 'review_profilename', 'beer_style', 'Unique Beer Name', 'Beer Name (Full)']]\n",
    "    # renaming beer name column\n",
    "    informational.rename(columns = {'Beer Name (Full)': 'Beer Name'}, inplace = True)\n",
    "\n",
    "    # scaling the data\n",
    "    scaler = MinMaxScaler()\n",
    "    scaler.fit(need_scaling)\n",
    "    need_scaling = pd.DataFrame(scaler.transform(need_scaling), columns = need_scaling.columns)\n",
    "\n",
    "    # recombining the informational data and scaled data\n",
    "    df = pd.concat([informational, need_scaling], axis = 1)\n",
    "    return df"
   ]
  },
  {
   "cell_type": "code",
   "execution_count": 10,
   "metadata": {},
   "outputs": [
    {
     "name": "stderr",
     "output_type": "stream",
     "text": [
      "/Applications/anaconda3/lib/python3.8/site-packages/pandas/core/frame.py:4296: SettingWithCopyWarning: \n",
      "A value is trying to be set on a copy of a slice from a DataFrame\n",
      "\n",
      "See the caveats in the documentation: https://pandas.pydata.org/pandas-docs/stable/user_guide/indexing.html#returning-a-view-versus-a-copy\n",
      "  return super().rename(\n"
     ]
    }
   ],
   "source": [
    "BEER_DF = clean_beer_reviews()"
   ]
  },
  {
   "cell_type": "code",
   "execution_count": 11,
   "metadata": {},
   "outputs": [],
   "source": [
    "# make a fucntion that returns a list of beers\n",
    "def make_beer_list():\n",
    "    return BEER_DF[\"Beer Name\"].unique()\n",
    "\n",
    "\n",
    "# list of user, beer combination\n",
    "def make_beer_user_list(user):\n",
    "    return BEER_DF.loc[BEER_DF[\"review_profilename\"] == user][\"Beer Name\"]\n",
    "\n",
    "# list of users to choose from\n",
    "def make_user_list():\n",
    "    return BEER_DF['review_profilename'].unique()"
   ]
  },
  {
   "cell_type": "code",
   "execution_count": null,
   "metadata": {},
   "outputs": [],
   "source": [
    "print(len(make_beer_list()))"
   ]
  },
  {
   "cell_type": "code",
   "execution_count": 12,
   "metadata": {},
   "outputs": [
    {
     "data": {
      "application/vnd.jupyter.widget-view+json": {
       "model_id": "d87579c1f6974bb28eaf91427ed21ee4",
       "version_major": 2,
       "version_minor": 0
      },
      "text/plain": [
       "Dropdown(description='Select a model', options=('Hybrid', 'Node2Vec'), style=DescriptionStyle(description_widt…"
      ]
     },
     "metadata": {},
     "output_type": "display_data"
    },
    {
     "data": {
      "application/vnd.jupyter.widget-view+json": {
       "model_id": "4452b0aed87747c8af47392e6fc88259",
       "version_major": 2,
       "version_minor": 0
      },
      "text/plain": [
       "Dropdown(description='Choose one', options=(), style=DescriptionStyle(description_width='initial'), value=None…"
      ]
     },
     "metadata": {},
     "output_type": "display_data"
    },
    {
     "data": {
      "application/vnd.jupyter.widget-view+json": {
       "model_id": "e958858064864dbd9125023f3ba983ca",
       "version_major": 2,
       "version_minor": 0
      },
      "text/plain": [
       "Dropdown(description='Choose one', layout=Layout(visibility='hidden'), options=(), style=DescriptionStyle(desc…"
      ]
     },
     "metadata": {},
     "output_type": "display_data"
    },
    {
     "data": {
      "application/vnd.jupyter.widget-view+json": {
       "model_id": "1ba0ce3dfba44b3cbae136fc881af551",
       "version_major": 2,
       "version_minor": 0
      },
      "text/plain": [
       "IntSlider(value=5, continuous_update=False, description='Number of recommendations:', layout=Layout(height='40…"
      ]
     },
     "metadata": {},
     "output_type": "display_data"
    }
   ],
   "source": [
    "# MDOEL TYPE DROPDOWN TO USER/BEER OPTIONS\n",
    "def model_dropdown_eventhandler(change):\n",
    "    determine(model_dropdown.value)\n",
    "\n",
    "option_list = [\"Hybrid\", \"Node2Vec\"]\n",
    "\n",
    "user = make_user_list()[:100]\n",
    "beer = make_beer_list()\n",
    "\n",
    "def determine(x):\n",
    "    third_dropdown.layout.visibility = \"hidden\"\n",
    "    sec_dropdown.index = None\n",
    "    if x == \"Hybrid\":\n",
    "        sec_dropdown.options = user\n",
    "    else:\n",
    "        sec_dropdown.options = beer\n",
    "        \n",
    "# HYBRID MODEL USER CHOISE TO CORRESPONDING BEER OPTIONS\n",
    "def beer_dropdown_eventhandler(change):\n",
    "    determine_beer(sec_dropdown.value)\n",
    "\n",
    "def determine_beer(x):\n",
    "    third_dropdown.index = None\n",
    "    beer_user = make_beer_user_list(x)\n",
    "    if len(beer_user) > 0:\n",
    "        third_dropdown.options = beer_user\n",
    "        third_dropdown.layout.visibility = \"visible\"\n",
    "    else: \n",
    "        third_dropdown.layout.visibility = \"hidden\"\n",
    "\n",
    "model_dropdown = Dropdown(description=\"Select a model\", options=option_list,\n",
    "            style = {'description_width': 'initial'}, value=None)\n",
    "#This will be users for when hybrid is selected, beers for when Node2Vec is selected\n",
    "sec_dropdown = Dropdown(description=\"Choose one\",\n",
    "            style = {'description_width': 'initial'})\n",
    "model_dropdown.observe(model_dropdown_eventhandler, names='value')\n",
    "#This will only appear when Hybrid is selected and contains beer list\n",
    "third_dropdown = Dropdown(description=\"Choose one\", layout = {\"visibility\" : \"hidden\"},\n",
    "            style = {'description_width': 'initial'})\n",
    "sec_dropdown.observe(beer_dropdown_eventhandler, names='value')\n",
    "num_recs = widgets.IntSlider(\n",
    "            value=5,\n",
    "            min=0,\n",
    "            max=10,\n",
    "            step=1,\n",
    "            description='Number of recommendations:',\n",
    "            disabled=False,\n",
    "            continuous_update=False,\n",
    "            orientation='horizontal',\n",
    "            readout=True,\n",
    "            readout_format='d',\n",
    "            layout=widgets.Layout(width='50%', height='40px'),\n",
    "            style = {'description_width': 'initial'}\n",
    "        )\n",
    "\n",
    "display(model_dropdown, sec_dropdown, third_dropdown, num_recs)"
   ]
  },
  {
   "cell_type": "code",
   "execution_count": 32,
   "metadata": {},
   "outputs": [],
   "source": [
    "import node2vec as n\n",
    "import hybridmodel"
   ]
  },
  {
   "cell_type": "code",
   "execution_count": 33,
   "metadata": {},
   "outputs": [
    {
     "data": {
      "application/vnd.jupyter.widget-view+json": {
       "model_id": "d689c50eb899450d86d8ce3b1a44a384",
       "version_major": 2,
       "version_minor": 0
      },
      "text/plain": [
       "Button(description='Start', style=ButtonStyle())"
      ]
     },
     "metadata": {},
     "output_type": "display_data"
    },
    {
     "name": "stdout",
     "output_type": "stream",
     "text": [
      "running\n"
     ]
    },
    {
     "name": "stderr",
     "output_type": "stream",
     "text": [
      "/Applications/anaconda3/lib/python3.8/site-packages/pandas/core/frame.py:4296: SettingWithCopyWarning: \n",
      "A value is trying to be set on a copy of a slice from a DataFrame\n",
      "\n",
      "See the caveats in the documentation: https://pandas.pydata.org/pandas-docs/stable/user_guide/indexing.html#returning-a-view-versus-a-copy\n",
      "  return super().rename(\n"
     ]
    },
    {
     "ename": "AttributeError",
     "evalue": "'int' object has no attribute 'copy'",
     "output_type": "error",
     "traceback": [
      "\u001b[0;31m---------------------------------------------------------------------------\u001b[0m",
      "\u001b[0;31mAttributeError\u001b[0m                            Traceback (most recent call last)",
      "\u001b[0;32m<ipython-input-33-4069f5d1d7e5>\u001b[0m in \u001b[0;36mbtn_eventhandler\u001b[0;34m(obj)\u001b[0m\n\u001b[1;32m      5\u001b[0m         \u001b[0;32mif\u001b[0m \u001b[0msec_dropdown\u001b[0m\u001b[0;34m.\u001b[0m\u001b[0mvalue\u001b[0m \u001b[0;32mand\u001b[0m \u001b[0mthird_dropdown\u001b[0m\u001b[0;34m.\u001b[0m\u001b[0mvalue\u001b[0m \u001b[0;32mand\u001b[0m \u001b[0mnum_recs\u001b[0m\u001b[0;34m:\u001b[0m\u001b[0;34m\u001b[0m\u001b[0;34m\u001b[0m\u001b[0m\n\u001b[1;32m      6\u001b[0m             \u001b[0mprint\u001b[0m\u001b[0;34m(\u001b[0m\u001b[0;34m'running'\u001b[0m\u001b[0;34m)\u001b[0m\u001b[0;34m\u001b[0m\u001b[0;34m\u001b[0m\u001b[0m\n\u001b[0;32m----> 7\u001b[0;31m             \u001b[0mprint\u001b[0m\u001b[0;34m(\u001b[0m\u001b[0mh\u001b[0m\u001b[0;34m.\u001b[0m\u001b[0mhybrid_model\u001b[0m\u001b[0;34m(\u001b[0m\u001b[0msec_dropdown\u001b[0m\u001b[0;34m.\u001b[0m\u001b[0mvalue\u001b[0m\u001b[0;34m,\u001b[0m \u001b[0mthird_dropdown\u001b[0m\u001b[0;34m.\u001b[0m\u001b[0mvalue\u001b[0m\u001b[0;34m,\u001b[0m \u001b[0mnum_recs\u001b[0m\u001b[0;34m.\u001b[0m\u001b[0mvalue\u001b[0m\u001b[0;34m)\u001b[0m\u001b[0;34m)\u001b[0m\u001b[0;34m\u001b[0m\u001b[0;34m\u001b[0m\u001b[0m\n\u001b[0m\u001b[1;32m      8\u001b[0m \u001b[0;34m\u001b[0m\u001b[0m\n\u001b[1;32m      9\u001b[0m     \u001b[0;32melif\u001b[0m \u001b[0mmodel_dropdown\u001b[0m\u001b[0;34m.\u001b[0m\u001b[0mvalue\u001b[0m \u001b[0;34m==\u001b[0m \u001b[0;34m'Node2Vec'\u001b[0m\u001b[0;34m:\u001b[0m\u001b[0;34m\u001b[0m\u001b[0;34m\u001b[0m\u001b[0m\n",
      "\u001b[0;32m~/Documents/Projects/Beer Recommender/beer-recommendation-system/hybridmodel.py\u001b[0m in \u001b[0;36mhybrid_model\u001b[0;34m(user, beer, n_recs, test_frac)\u001b[0m\n\u001b[1;32m    202\u001b[0m     \u001b[0;31m# Identifying the top 10 most frequent reviewers\u001b[0m\u001b[0;34m\u001b[0m\u001b[0;34m\u001b[0m\u001b[0;34m\u001b[0m\u001b[0m\n\u001b[1;32m    203\u001b[0m     \u001b[0mfreq_reviews\u001b[0m \u001b[0;34m=\u001b[0m \u001b[0mdf\u001b[0m\u001b[0;34m.\u001b[0m\u001b[0mgroupby\u001b[0m\u001b[0;34m(\u001b[0m\u001b[0;34m'review_profilename'\u001b[0m\u001b[0;34m)\u001b[0m\u001b[0;34m.\u001b[0m\u001b[0mcount\u001b[0m\u001b[0;34m(\u001b[0m\u001b[0;34m)\u001b[0m\u001b[0;34m.\u001b[0m\u001b[0msort_values\u001b[0m\u001b[0;34m(\u001b[0m\u001b[0mby\u001b[0m\u001b[0;34m=\u001b[0m\u001b[0;34m[\u001b[0m\u001b[0;34m'review_time'\u001b[0m\u001b[0;34m]\u001b[0m\u001b[0;34m,\u001b[0m \u001b[0mascending\u001b[0m \u001b[0;34m=\u001b[0m \u001b[0;32mFalse\u001b[0m\u001b[0;34m)\u001b[0m\u001b[0;34m\u001b[0m\u001b[0;34m\u001b[0m\u001b[0m\n\u001b[0;32m--> 204\u001b[0;31m     \u001b[0mfreq_reviews\u001b[0m\u001b[0;34m.\u001b[0m\u001b[0mrename\u001b[0m\u001b[0;34m(\u001b[0m\u001b[0mcolumns\u001b[0m\u001b[0;34m=\u001b[0m\u001b[0;34m{\u001b[0m\u001b[0;34m'review_time'\u001b[0m\u001b[0;34m:\u001b[0m \u001b[0;34m'Number of Reviews'\u001b[0m\u001b[0;34m}\u001b[0m\u001b[0;34m,\u001b[0m \u001b[0minplace\u001b[0m \u001b[0;34m=\u001b[0m \u001b[0;32mTrue\u001b[0m\u001b[0;34m)\u001b[0m\u001b[0;34m\u001b[0m\u001b[0;34m\u001b[0m\u001b[0m\n\u001b[0m\u001b[1;32m    205\u001b[0m     \u001b[0mtest_users\u001b[0m \u001b[0;34m=\u001b[0m \u001b[0mfreq_reviews\u001b[0m\u001b[0;34m.\u001b[0m\u001b[0mindex\u001b[0m\u001b[0;34m[\u001b[0m\u001b[0;34m:\u001b[0m\u001b[0;36m10\u001b[0m\u001b[0;34m]\u001b[0m\u001b[0;34m\u001b[0m\u001b[0;34m\u001b[0m\u001b[0m\n\u001b[1;32m    206\u001b[0m     \u001b[0;31m# Divying up the training and test sets\u001b[0m\u001b[0;34m\u001b[0m\u001b[0;34m\u001b[0m\u001b[0;34m\u001b[0m\u001b[0m\n",
      "\u001b[0;32m~/Documents/Projects/Beer Recommender/beer-recommendation-system/hybridmodel.py\u001b[0m in \u001b[0;36mcreate_train_test_split\u001b[0;34m(df, test_users, frac_rem)\u001b[0m\n\u001b[1;32m    138\u001b[0m     \u001b[0;31m#frac_rem: fraction of each user in test set to remain in train set\u001b[0m\u001b[0;34m\u001b[0m\u001b[0;34m\u001b[0m\u001b[0;34m\u001b[0m\u001b[0m\n\u001b[1;32m    139\u001b[0m     \u001b[0;31m# train_set is copy of df --> df has review_profilename and Unique Beer Name as indicies\u001b[0m\u001b[0;34m\u001b[0m\u001b[0;34m\u001b[0m\u001b[0;34m\u001b[0m\u001b[0m\n\u001b[0;32m--> 140\u001b[0;31m     \u001b[0;31m# we are preserving user information by reseting indicies, so when we\u001b[0m\u001b[0;34m\u001b[0m\u001b[0;34m\u001b[0m\u001b[0;34m\u001b[0m\u001b[0m\n\u001b[0m\u001b[1;32m    141\u001b[0m     \u001b[0;31m# .loc[] we still have access to user and beer info\u001b[0m\u001b[0;34m\u001b[0m\u001b[0;34m\u001b[0m\u001b[0;34m\u001b[0m\u001b[0m\n\u001b[1;32m    142\u001b[0m     \u001b[0mtrain_set\u001b[0m \u001b[0;34m=\u001b[0m \u001b[0mcopy\u001b[0m\u001b[0;34m.\u001b[0m\u001b[0mcopy\u001b[0m\u001b[0;34m(\u001b[0m\u001b[0mdf\u001b[0m\u001b[0;34m)\u001b[0m\u001b[0;34m\u001b[0m\u001b[0;34m\u001b[0m\u001b[0m\n",
      "\u001b[0;31mAttributeError\u001b[0m: 'int' object has no attribute 'copy'"
     ]
    }
   ],
   "source": [
    "btn = widgets.Button(description='Start')\n",
    "display(btn)\n",
    "def btn_eventhandler(obj):\n",
    "    if model_dropdown.value == 'Hybrid':\n",
    "        if sec_dropdown.value and third_dropdown.value and num_recs:\n",
    "            print('running')\n",
    "            print(h.hybrid_model(sec_dropdown.value, third_dropdown.value, num_recs.value))\n",
    "    \n",
    "    elif model_dropdown.value == 'Node2Vec':\n",
    "        if sec_dropdown.value and num_recs:\n",
    "            print('running')\n",
    "            print(node2vec(BUCKETS, SHARED_ATTRIBUTES, sec_dropdown.value, num_recs.value))\n",
    "    \n",
    "btn.on_click(btn_eventhandler)"
   ]
  },
  {
   "cell_type": "code",
   "execution_count": null,
   "metadata": {},
   "outputs": [],
   "source": [
    "import sys\n",
    "!{sys.executable} -m pip insta"
   ]
  },
  {
   "cell_type": "code",
   "execution_count": null,
   "metadata": {},
   "outputs": [],
   "source": []
  },
  {
   "cell_type": "code",
   "execution_count": null,
   "metadata": {},
   "outputs": [],
   "source": []
  }
 ],
 "metadata": {
  "colab": {
   "collapsed_sections": [],
   "include_colab_link": true,
   "name": "GUI.ipynb",
   "provenance": []
  },
  "kernelspec": {
   "display_name": "Python 3",
   "language": "python",
   "name": "python3"
  },
  "language_info": {
   "codemirror_mode": {
    "name": "ipython",
    "version": 3
   },
   "file_extension": ".py",
   "mimetype": "text/x-python",
   "name": "python",
   "nbconvert_exporter": "python",
   "pygments_lexer": "ipython3",
   "version": "3.8.5"
  },
  "widgets": {
   "application/vnd.jupyter.widget-state+json": {
    "7cc37c5544124867a37d67c6a7759b1b": {
     "model_module": "@jupyter-widgets/base",
     "model_module_version": "1.2.0",
     "model_name": "LayoutModel",
     "state": {
      "_model_module": "@jupyter-widgets/base",
      "_model_module_version": "1.2.0",
      "_model_name": "LayoutModel",
      "_view_count": null,
      "_view_module": "@jupyter-widgets/base",
      "_view_module_version": "1.2.0",
      "_view_name": "LayoutView",
      "align_content": null,
      "align_items": null,
      "align_self": null,
      "border": null,
      "bottom": null,
      "display": null,
      "flex": null,
      "flex_flow": null,
      "grid_area": null,
      "grid_auto_columns": null,
      "grid_auto_flow": null,
      "grid_auto_rows": null,
      "grid_column": null,
      "grid_gap": null,
      "grid_row": null,
      "grid_template_areas": null,
      "grid_template_columns": null,
      "grid_template_rows": null,
      "height": null,
      "justify_content": null,
      "justify_items": null,
      "left": null,
      "margin": null,
      "max_height": null,
      "max_width": null,
      "min_height": null,
      "min_width": null,
      "object_fit": null,
      "object_position": null,
      "order": null,
      "overflow": null,
      "overflow_x": null,
      "overflow_y": null,
      "padding": null,
      "right": null,
      "top": null,
      "visibility": null,
      "width": null
     }
    },
    "d09bd68013a44d46b6c3f353173b0dd6": {
     "model_module": "@jupyter-widgets/controls",
     "model_module_version": "1.5.0",
     "model_name": "ButtonStyleModel",
     "state": {
      "_model_module": "@jupyter-widgets/controls",
      "_model_module_version": "1.5.0",
      "_model_name": "ButtonStyleModel",
      "_view_count": null,
      "_view_module": "@jupyter-widgets/base",
      "_view_module_version": "1.2.0",
      "_view_name": "StyleView",
      "button_color": null,
      "font_weight": ""
     }
    },
    "ff452a4017614c51b98d649468c125ff": {
     "model_module": "@jupyter-widgets/controls",
     "model_module_version": "1.5.0",
     "model_name": "FileUploadModel",
     "state": {
      "_counter": 1,
      "_dom_classes": [],
      "_model_module": "@jupyter-widgets/controls",
      "_model_module_version": "1.5.0",
      "_model_name": "FileUploadModel",
      "_view_count": null,
      "_view_module": "@jupyter-widgets/controls",
      "_view_module_version": "1.5.0",
      "_view_name": "FileUploadView",
      "accept": "",
      "button_style": "",
      "data": [
       null
      ],
      "description": "Upload",
      "description_tooltip": null,
      "disabled": false,
      "error": "",
      "icon": "upload",
      "layout": "IPY_MODEL_7cc37c5544124867a37d67c6a7759b1b",
      "metadata": [
       {
        "lastModified": 1656814139137,
        "name": "cat.jpeg",
        "size": 487541,
        "type": "image/jpeg"
       }
      ],
      "multiple": false,
      "style": "IPY_MODEL_d09bd68013a44d46b6c3f353173b0dd6"
     }
    }
   }
  }
 },
 "nbformat": 4,
 "nbformat_minor": 1
}
