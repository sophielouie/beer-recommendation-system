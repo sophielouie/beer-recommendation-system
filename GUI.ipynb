{
 "cells": [
  {
   "cell_type": "markdown",
   "metadata": {
    "colab_type": "text",
    "id": "view-in-github"
   },
   "source": [
    "<a href=\"https://colab.research.google.com/github/sophielouie/beer-recommendation-system/blob/main/GUI.ipynb\" target=\"_parent\"><img src=\"https://colab.research.google.com/assets/colab-badge.svg\" alt=\"Open In Colab\"/></a>"
   ]
  },
  {
   "cell_type": "code",
   "execution_count": 1,
   "metadata": {
    "id": "wVkubPMHLCR4"
   },
   "outputs": [],
   "source": [
    "import pandas as pd\n",
    "from sklearn.preprocessing import StandardScaler, MinMaxScaler\n",
    "from sklearn.metrics.pairwise import cosine_similarity\n",
    "import numpy as np\n",
    "from scipy import spatial\n",
    "import statistics as stats\n",
    "import math\n",
    "from plotly.subplots import make_subplots\n",
    "from sklearn.preprocessing import StandardScaler, MinMaxScaler\n",
    "from sklearn.metrics.pairwise import cosine_similarity\n",
    "from surprise import SVD, Reader, Dataset, accuracy\n",
    "from surprise.model_selection import train_test_split\n",
    "from networkx.algorithms.dag import topological_sort\n",
    "import networkx as nx\n",
    "import plotly.graph_objects as go\n",
    "from node2vec import Node2Vec"
   ]
  },
  {
   "cell_type": "code",
   "execution_count": 49,
   "metadata": {},
   "outputs": [],
   "source": [
    "#import Node2Vec and Hybrid Notebooks\n",
    "import node2vec_module\n",
    "from node2vec_module import node2vec"
   ]
  },
  {
   "cell_type": "code",
   "execution_count": 50,
   "metadata": {},
   "outputs": [],
   "source": [
    "#defining buckets and shared attributes values for Node2Vec algorithm\n",
    "BUCKETS, SHARED_ATTRIBUTES = 4, 7"
   ]
  },
  {
   "cell_type": "markdown",
   "metadata": {
    "id": "bptwAP54TE4L"
   },
   "source": [
    "we want to import functions into our gui file\n",
    "- transport endpoint is not connected\n",
    "- we do not understand google file explorer"
   ]
  },
  {
   "cell_type": "code",
   "execution_count": null,
   "metadata": {
    "id": "DWkkVLrxLSNa"
   },
   "outputs": [],
   "source": [
    "!pip install node2vec"
   ]
  },
  {
   "cell_type": "code",
   "execution_count": null,
   "metadata": {
    "colab": {
     "base_uri": "https://localhost:8080/"
    },
    "id": "FQo_5yAKOJfO",
    "outputId": "bdf13309-57f6-4440-8f5b-a764869c8d07"
   },
   "outputs": [],
   "source": [
    "!cp /content/drive/MyDrive/Recommender\\ System/node2vec.py /content"
   ]
  },
  {
   "cell_type": "code",
   "execution_count": 3,
   "metadata": {
    "colab": {
     "base_uri": "https://localhost:8080/",
     "height": 135
    },
    "id": "NiosDsRbVqFg",
    "outputId": "2cce3180-1d77-4a6f-804d-91253e45409b"
   },
   "outputs": [],
   "source": [
    "import node2vec as n"
   ]
  },
  {
   "cell_type": "code",
   "execution_count": 4,
   "metadata": {
    "colab": {
     "base_uri": "https://localhost:8080/",
     "height": 818
    },
    "id": "Ev87BlEnVxBn",
    "outputId": "179b0182-9555-49a0-82cf-7f80ef967dfb"
   },
   "outputs": [
    {
     "ename": "AttributeError",
     "evalue": "module 'node2vec' has no attribute 'clean_beer_reviews'",
     "output_type": "error",
     "traceback": [
      "\u001b[1;31m---------------------------------------------------------------------------\u001b[0m",
      "\u001b[1;31mAttributeError\u001b[0m                            Traceback (most recent call last)",
      "\u001b[1;32m<ipython-input-4-7e1acfabac4a>\u001b[0m in \u001b[0;36m<module>\u001b[1;34m\u001b[0m\n\u001b[1;32m----> 1\u001b[1;33m \u001b[0mdf\u001b[0m \u001b[1;33m=\u001b[0m \u001b[0mn\u001b[0m\u001b[1;33m.\u001b[0m\u001b[0mclean_beer_reviews\u001b[0m\u001b[1;33m(\u001b[0m\u001b[1;33m)\u001b[0m\u001b[1;33m\u001b[0m\u001b[1;33m\u001b[0m\u001b[0m\n\u001b[0m\u001b[0;32m      2\u001b[0m \u001b[1;31m# not working that is why clean_beer_reviews copied in\u001b[0m\u001b[1;33m\u001b[0m\u001b[1;33m\u001b[0m\u001b[1;33m\u001b[0m\u001b[0m\n",
      "\u001b[1;31mAttributeError\u001b[0m: module 'node2vec' has no attribute 'clean_beer_reviews'"
     ]
    }
   ],
   "source": [
    "df = n.clean_beer_reviews()\n",
    "# not working that is why clean_beer_reviews copied in"
   ]
  },
  {
   "cell_type": "markdown",
   "metadata": {
    "id": "bO3FRp1dWSL-"
   },
   "source": [
    "# app interface"
   ]
  },
  {
   "cell_type": "code",
   "execution_count": 5,
   "metadata": {
    "id": "flcfwDxx_XuV"
   },
   "outputs": [],
   "source": [
    "import ipywidgets as widgets\n",
    "from IPython.display import display\n",
    "from ipywidgets import Dropdown\n",
    "from ipywidgets import interact, interactive, fixed, interact_manual\n",
    "import hybridmodel\n",
    "from hybridmodel import clean_beer_reviews\n",
    "import pandas as pd"
   ]
  },
  {
   "cell_type": "code",
   "execution_count": null,
   "metadata": {},
   "outputs": [],
   "source": [
    "# paragraph describing each model"
   ]
  },
  {
   "cell_type": "code",
   "execution_count": 6,
   "metadata": {},
   "outputs": [],
   "source": [
    "def clean_beer_reviews():\n",
    "    # storing beer review dataset\n",
    "    beer_reviews = pd.read_csv(\"beer_reviews.csv\")\n",
    "    # creating a unique identifier for each beer using brewery name and beer name\n",
    "    beer_reviews['Unique Beer Name'] = beer_reviews['brewery_name'] + ' ' + beer_reviews['beer_name']\n",
    "    # storing beer profile dataset\n",
    "    beer_profile = pd.read_csv(\"beer_profile_and_ratings.csv\")\n",
    "    # columns to drop from beer reviews\n",
    "    drop_cols = ['brewery_id', 'brewery_name',  'beer_name', 'beer_abv', 'beer_beerid']\n",
    "    # dropping columns from beer reviews\n",
    "    beer_reviews.drop(columns = drop_cols, inplace = True)\n",
    "    # columns to drop from  beer profile\n",
    "    drop_cols = ['Name', 'Style', 'Brewery', 'Description',\n",
    "                 'Min IBU', 'Max IBU', 'Alcohol', 'review_aroma', 'review_appearance', 'review_palate',\n",
    "                 'review_taste', 'review_overall', 'number_of_reviews']\n",
    "    # dropping columns from beer profile\n",
    "    beer_profile.drop(columns = drop_cols, inplace = True)\n",
    "    # combining beer review and beer profile datasets to have profile of each beer attached to every review\n",
    "    df_beer = pd.merge(beer_reviews, beer_profile, left_on = 'Unique Beer Name', right_on = 'Beer Name (Full)', how = 'inner')\n",
    "    # isolating the numerical columns that need to be scaled\n",
    "    need_scaling = df_beer.drop(columns = ['review_time', 'review_profilename', 'beer_style', 'Unique Beer Name', 'Beer Name (Full)'])\n",
    "    # storing the informational portion of the dataset that does not need scaling\n",
    "    informational = df_beer[['review_time', 'review_profilename', 'beer_style', 'Unique Beer Name', 'Beer Name (Full)']]\n",
    "    # renaming beer name column\n",
    "    informational.rename(columns = {'Beer Name (Full)': 'Beer Name'}, inplace = True)\n",
    "\n",
    "    # scaling the data\n",
    "    scaler = MinMaxScaler()\n",
    "    scaler.fit(need_scaling)\n",
    "    need_scaling = pd.DataFrame(scaler.transform(need_scaling), columns = need_scaling.columns)\n",
    "\n",
    "    # recombining the informational data and scaled data\n",
    "    df = pd.concat([informational, need_scaling], axis = 1)\n",
    "    return df"
   ]
  },
  {
   "cell_type": "code",
   "execution_count": 7,
   "metadata": {},
   "outputs": [
    {
     "name": "stderr",
     "output_type": "stream",
     "text": [
      "C:\\Users\\timse\\anaconda3\\lib\\site-packages\\pandas\\core\\frame.py:4296: SettingWithCopyWarning: \n",
      "A value is trying to be set on a copy of a slice from a DataFrame\n",
      "\n",
      "See the caveats in the documentation: https://pandas.pydata.org/pandas-docs/stable/user_guide/indexing.html#returning-a-view-versus-a-copy\n",
      "  return super().rename(\n"
     ]
    }
   ],
   "source": [
    "BEER_DF = clean_beer_reviews()"
   ]
  },
  {
   "cell_type": "code",
   "execution_count": 8,
   "metadata": {},
   "outputs": [],
   "source": [
    "# make a fucntion that returns a list of beers\n",
    "def make_beer_list():\n",
    "    return BEER_DF[\"Beer Name\"].unique()\n",
    "\n",
    "\n",
    "# list of user, beer combination\n",
    "def make_beer_user_list(user):\n",
    "    return BEER_DF.loc[BEER_DF[\"review_profilename\"] == user][\"Beer Name\"]\n",
    "\n",
    "# list of users to choose from\n",
    "def make_user_list():\n",
    "    return BEER_DF['review_profilename'].unique()"
   ]
  },
  {
   "cell_type": "code",
   "execution_count": 9,
   "metadata": {},
   "outputs": [
    {
     "name": "stdout",
     "output_type": "stream",
     "text": [
      "3183\n"
     ]
    }
   ],
   "source": [
    "print(len(make_beer_list()))"
   ]
  },
  {
   "cell_type": "code",
   "execution_count": 41,
   "metadata": {},
   "outputs": [
    {
     "data": {
      "application/vnd.jupyter.widget-view+json": {
       "model_id": "75a7a69b1f1d414f984d56ac24154736",
       "version_major": 2,
       "version_minor": 0
      },
      "text/plain": [
       "Dropdown(description='Select a model', options=('Hybrid', 'Node2Vec'), style=DescriptionStyle(description_widt…"
      ]
     },
     "metadata": {},
     "output_type": "display_data"
    },
    {
     "data": {
      "application/vnd.jupyter.widget-view+json": {
       "model_id": "70abee21cb734212baca75473bfc1e64",
       "version_major": 2,
       "version_minor": 0
      },
      "text/plain": [
       "Dropdown(description='Choose one', options=(), style=DescriptionStyle(description_width='initial'), value=None…"
      ]
     },
     "metadata": {},
     "output_type": "display_data"
    },
    {
     "data": {
      "application/vnd.jupyter.widget-view+json": {
       "model_id": "d2de2d456b34413eb64e405f1cac09dd",
       "version_major": 2,
       "version_minor": 0
      },
      "text/plain": [
       "Dropdown(description='Choose one', layout=Layout(visibility='hidden'), options=(), style=DescriptionStyle(desc…"
      ]
     },
     "metadata": {},
     "output_type": "display_data"
    },
    {
     "data": {
      "application/vnd.jupyter.widget-view+json": {
       "model_id": "6a4fda0e75764292bc29e9ab19466ffb",
       "version_major": 2,
       "version_minor": 0
      },
      "text/plain": [
       "IntSlider(value=5, continuous_update=False, description='Number of recommendations:', layout=Layout(height='40…"
      ]
     },
     "metadata": {},
     "output_type": "display_data"
    }
   ],
   "source": [
    "# MDOEL TYPE DROPDOWN TO USER/BEER OPTIONS\n",
    "def model_dropdown_eventhandler(change):\n",
    "    determine(model_dropdown.value)\n",
    "\n",
    "option_list = [\"Hybrid\", \"Node2Vec\"]\n",
    "\n",
    "user = make_user_list()[:100]\n",
    "beer = make_beer_list()\n",
    "\n",
    "def determine(x):\n",
    "    third_dropdown.layout.visibility = \"hidden\"\n",
    "    sec_dropdown.index = None\n",
    "    if x == \"Hybrid\":\n",
    "        sec_dropdown.options = user\n",
    "    else:\n",
    "        sec_dropdown.options = beer\n",
    "        \n",
    "# HYBRID MODEL USER CHOISE TO CORRESPONDING BEER OPTIONS\n",
    "def beer_dropdown_eventhandler(change):\n",
    "    determine_beer(sec_dropdown.value)\n",
    "\n",
    "def determine_beer(x):\n",
    "    third_dropdown.index = None\n",
    "    beer_user = make_beer_user_list(x)\n",
    "    if len(beer_user) > 0:\n",
    "        third_dropdown.options = beer_user\n",
    "        third_dropdown.layout.visibility = \"visible\"\n",
    "    else: \n",
    "        third_dropdown.layout.visibility = \"hidden\"\n",
    "\n",
    "model_dropdown = Dropdown(description=\"Select a model\", options=option_list,\n",
    "            style = {'description_width': 'initial'}, value=None)\n",
    "#This will be users for when hybrid is selected, beers for when Node2Vec is selected\n",
    "sec_dropdown = Dropdown(description=\"Choose one\",\n",
    "            style = {'description_width': 'initial'})\n",
    "model_dropdown.observe(model_dropdown_eventhandler, names='value')\n",
    "#This will only appear when Hybrid is selected and contains beer list\n",
    "third_dropdown = Dropdown(description=\"Choose one\", layout = {\"visibility\" : \"hidden\"},\n",
    "            style = {'description_width': 'initial'})\n",
    "sec_dropdown.observe(beer_dropdown_eventhandler, names='value')\n",
    "num_recs = widgets.IntSlider(\n",
    "            value=5,\n",
    "            min=0,\n",
    "            max=10,\n",
    "            step=1,\n",
    "            description='Number of recommendations:',\n",
    "            disabled=False,\n",
    "            continuous_update=False,\n",
    "            orientation='horizontal',\n",
    "            readout=True,\n",
    "            readout_format='d',\n",
    "            layout=widgets.Layout(width='50%', height='40px'),\n",
    "            style = {'description_width': 'initial'}\n",
    "        )\n",
    "\n",
    "display(model_dropdown, sec_dropdown, third_dropdown, num_recs)"
   ]
  },
  {
   "cell_type": "code",
   "execution_count": null,
   "metadata": {},
   "outputs": [],
   "source": []
  },
  {
   "cell_type": "code",
   "execution_count": 54,
   "metadata": {},
   "outputs": [
    {
     "data": {
      "application/vnd.jupyter.widget-view+json": {
       "model_id": "7fad81dbf6ae4753a0774326c6dce6f3",
       "version_major": 2,
       "version_minor": 0
      },
      "text/plain": [
       "Button(description='Start', style=ButtonStyle())"
      ]
     },
     "metadata": {},
     "output_type": "display_data"
    },
    {
     "name": "stdout",
     "output_type": "stream",
     "text": [
      "running\n"
     ]
    }
   ],
   "source": [
    "btn = widgets.Button(description='Start')\n",
    "display(btn)\n",
    "def btn_eventhandler(obj):\n",
    "    if model_dropdown.value == 'Hybrid':\n",
    "        if sec_dropdown.value and third_dropdown.value and num_recs:\n",
    "            print(hybrid_model(sec_dropdown.value, third_dropdown.value, num_recs.value))\n",
    "    \n",
    "    elif model_dropdown.value == 'Node2Vec':\n",
    "        if sec_dropdown.value and num_recs:\n",
    "            print('running')\n",
    "            print(node2vec(BUCKETS, SHARED_ATTRIBUTES, sec_dropdown.value, num_recs))\n",
    "    \n",
    "btn.on_click(btn_eventhandler)"
   ]
  },
  {
   "cell_type": "code",
   "execution_count": null,
   "metadata": {},
   "outputs": [],
   "source": [
    "import sys\n",
    "!{sys.executable} -m pip insta"
   ]
  },
  {
   "cell_type": "code",
   "execution_count": null,
   "metadata": {},
   "outputs": [],
   "source": []
  },
  {
   "cell_type": "code",
   "execution_count": null,
   "metadata": {},
   "outputs": [],
   "source": []
  }
 ],
 "metadata": {
  "colab": {
   "collapsed_sections": [],
   "include_colab_link": true,
   "name": "GUI.ipynb",
   "provenance": []
  },
  "kernelspec": {
   "display_name": "Python 3",
   "language": "python",
   "name": "python3"
  },
  "language_info": {
   "codemirror_mode": {
    "name": "ipython",
    "version": 3
   },
   "file_extension": ".py",
   "mimetype": "text/x-python",
   "name": "python",
   "nbconvert_exporter": "python",
   "pygments_lexer": "ipython3",
   "version": "3.8.5"
  },
  "widgets": {
   "application/vnd.jupyter.widget-state+json": {
    "7cc37c5544124867a37d67c6a7759b1b": {
     "model_module": "@jupyter-widgets/base",
     "model_module_version": "1.2.0",
     "model_name": "LayoutModel",
     "state": {
      "_model_module": "@jupyter-widgets/base",
      "_model_module_version": "1.2.0",
      "_model_name": "LayoutModel",
      "_view_count": null,
      "_view_module": "@jupyter-widgets/base",
      "_view_module_version": "1.2.0",
      "_view_name": "LayoutView",
      "align_content": null,
      "align_items": null,
      "align_self": null,
      "border": null,
      "bottom": null,
      "display": null,
      "flex": null,
      "flex_flow": null,
      "grid_area": null,
      "grid_auto_columns": null,
      "grid_auto_flow": null,
      "grid_auto_rows": null,
      "grid_column": null,
      "grid_gap": null,
      "grid_row": null,
      "grid_template_areas": null,
      "grid_template_columns": null,
      "grid_template_rows": null,
      "height": null,
      "justify_content": null,
      "justify_items": null,
      "left": null,
      "margin": null,
      "max_height": null,
      "max_width": null,
      "min_height": null,
      "min_width": null,
      "object_fit": null,
      "object_position": null,
      "order": null,
      "overflow": null,
      "overflow_x": null,
      "overflow_y": null,
      "padding": null,
      "right": null,
      "top": null,
      "visibility": null,
      "width": null
     }
    },
    "d09bd68013a44d46b6c3f353173b0dd6": {
     "model_module": "@jupyter-widgets/controls",
     "model_module_version": "1.5.0",
     "model_name": "ButtonStyleModel",
     "state": {
      "_model_module": "@jupyter-widgets/controls",
      "_model_module_version": "1.5.0",
      "_model_name": "ButtonStyleModel",
      "_view_count": null,
      "_view_module": "@jupyter-widgets/base",
      "_view_module_version": "1.2.0",
      "_view_name": "StyleView",
      "button_color": null,
      "font_weight": ""
     }
    },
    "ff452a4017614c51b98d649468c125ff": {
     "model_module": "@jupyter-widgets/controls",
     "model_module_version": "1.5.0",
     "model_name": "FileUploadModel",
     "state": {
      "_counter": 1,
      "_dom_classes": [],
      "_model_module": "@jupyter-widgets/controls",
      "_model_module_version": "1.5.0",
      "_model_name": "FileUploadModel",
      "_view_count": null,
      "_view_module": "@jupyter-widgets/controls",
      "_view_module_version": "1.5.0",
      "_view_name": "FileUploadView",
      "accept": "",
      "button_style": "",
      "data": [
       null
      ],
      "description": "Upload",
      "description_tooltip": null,
      "disabled": false,
      "error": "",
      "icon": "upload",
      "layout": "IPY_MODEL_7cc37c5544124867a37d67c6a7759b1b",
      "metadata": [
       {
        "lastModified": 1656814139137,
        "name": "cat.jpeg",
        "size": 487541,
        "type": "image/jpeg"
       }
      ],
      "multiple": false,
      "style": "IPY_MODEL_d09bd68013a44d46b6c3f353173b0dd6"
     }
    }
   }
  }
 },
 "nbformat": 4,
 "nbformat_minor": 1
}
