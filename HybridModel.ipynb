{
  "nbformat": 4,
  "nbformat_minor": 0,
  "metadata": {
    "colab": {
      "name": "HybridModel.ipynb",
      "provenance": [],
      "collapsed_sections": [],
      "include_colab_link": true
    },
    "kernelspec": {
      "name": "python3",
      "display_name": "Python 3"
    },
    "language_info": {
      "name": "python"
    }
  },
  "cells": [
    {
      "cell_type": "markdown",
      "metadata": {
        "id": "view-in-github",
        "colab_type": "text"
      },
      "source": [
        "<a href=\"https://colab.research.google.com/github/sophielouie/beer-recommendation-system/blob/main/HybridModel.ipynb\" target=\"_parent\"><img src=\"https://colab.research.google.com/assets/colab-badge.svg\" alt=\"Open In Colab\"/></a>"
      ]
    },
    {
      "cell_type": "code",
      "execution_count": null,
      "metadata": {
        "colab": {
          "base_uri": "https://localhost:8080/"
        },
        "id": "YKvOCI5WllFz",
        "outputId": "4b60f35a-4863-48ca-b66e-3ab54b98cf39"
      },
      "outputs": [
        {
          "output_type": "stream",
          "name": "stdout",
          "text": [
            "Mounted at /content/gdrive\n"
          ]
        }
      ],
      "source": [
        "from google.colab import drive \n",
        "drive.mount('/content/gdrive')"
      ]
    },
    {
      "cell_type": "code",
      "source": [
        "!pip install surprise"
      ],
      "metadata": {
        "colab": {
          "base_uri": "https://localhost:8080/"
        },
        "id": "_M5ce6gDJABZ",
        "outputId": "6505ce7e-e74f-4754-f7a9-b31bb6da75e4"
      },
      "execution_count": null,
      "outputs": [
        {
          "output_type": "stream",
          "name": "stdout",
          "text": [
            "Looking in indexes: https://pypi.org/simple, https://us-python.pkg.dev/colab-wheels/public/simple/\n",
            "Collecting surprise\n",
            "  Downloading surprise-0.1-py2.py3-none-any.whl (1.8 kB)\n",
            "Collecting scikit-surprise\n",
            "  Downloading scikit-surprise-1.1.1.tar.gz (11.8 MB)\n",
            "\u001b[K     |████████████████████████████████| 11.8 MB 2.2 MB/s \n",
            "\u001b[?25hRequirement already satisfied: joblib>=0.11 in /usr/local/lib/python3.7/dist-packages (from scikit-surprise->surprise) (1.1.0)\n",
            "Requirement already satisfied: numpy>=1.11.2 in /usr/local/lib/python3.7/dist-packages (from scikit-surprise->surprise) (1.21.6)\n",
            "Requirement already satisfied: scipy>=1.0.0 in /usr/local/lib/python3.7/dist-packages (from scikit-surprise->surprise) (1.4.1)\n",
            "Requirement already satisfied: six>=1.10.0 in /usr/local/lib/python3.7/dist-packages (from scikit-surprise->surprise) (1.15.0)\n",
            "Building wheels for collected packages: scikit-surprise\n",
            "  Building wheel for scikit-surprise (setup.py) ... \u001b[?25l\u001b[?25hdone\n",
            "  Created wheel for scikit-surprise: filename=scikit_surprise-1.1.1-cp37-cp37m-linux_x86_64.whl size=1633707 sha256=e4a5b35b3b2d4da7947e9dd44a6ff0919d6cdfafe12a398874c39b6b21d0ac84\n",
            "  Stored in directory: /root/.cache/pip/wheels/76/44/74/b498c42be47b2406bd27994e16c5188e337c657025ab400c1c\n",
            "Successfully built scikit-surprise\n",
            "Installing collected packages: scikit-surprise, surprise\n",
            "Successfully installed scikit-surprise-1.1.1 surprise-0.1\n"
          ]
        }
      ]
    },
    {
      "cell_type": "code",
      "source": [
        "import pandas as pd\n",
        "from sklearn.preprocessing import StandardScaler, MinMaxScaler\n",
        "from sklearn.metrics.pairwise import cosine_similarity\n",
        "from surprise import SVD, Reader, Dataset, accuracy\n",
        "from surprise.model_selection import train_test_split\n",
        "import numpy as np\n",
        "from scipy import spatial\n",
        "import statistics as stats\n",
        "import math\n",
        "from node2vec import Node2Vec as n2v\n",
        "from networkx.algorithms.dag import topological_sort\n",
        "import networkx as nx\n",
        "from plotly.subplots import make_subplots\n",
        "import plotly.graph_objects as go"
      ],
      "metadata": {
        "id": "GICYzXHUmLao"
      },
      "execution_count": null,
      "outputs": []
    },
    {
      "cell_type": "code",
      "source": [
        "pd.set_option('display.max_columns', None)"
      ],
      "metadata": {
        "id": "ornMuY2PnBX2"
      },
      "execution_count": null,
      "outputs": []
    },
    {
      "cell_type": "code",
      "source": [
        "def print_test():\n",
        "  print(\"test\")"
      ],
      "metadata": {
        "id": "sRNlWn-Y-LOt"
      },
      "execution_count": null,
      "outputs": []
    },
    {
      "cell_type": "markdown",
      "source": [
        "# Data Collection"
      ],
      "metadata": {
        "id": "hos2Q122sNa8"
      }
    },
    {
      "cell_type": "code",
      "source": [
        "def clean_beer_reviews():\n",
        "  # storing beer review dataset\n",
        "  beer_reviews = pd.read_csv(\"gdrive/MyDrive/Recommender System/beer_reviews.csv\", encoding=\"utf-8\")\n",
        "  # creating a unique identifier for each beer using brewery name and beer name\n",
        "  beer_reviews['Unique Beer Name'] = beer_reviews['brewery_name'] + ' ' + beer_reviews['beer_name']\n",
        "  # storing beer profile dataset\n",
        "  beer_profile = pd.read_csv(\"gdrive/MyDrive/Recommender System/beer_profile_and_ratings.csv\", encoding=\"utf-8\")\n",
        "  # columns to drop from beer reviews\n",
        "  drop_cols = ['brewery_id', 'brewery_name',  'beer_name', 'beer_abv', 'beer_beerid']\n",
        "  # dropping columns from beer reviews\n",
        "  beer_reviews.drop(columns = drop_cols, inplace = True)\n",
        "  # columns to drop from  beer profile\n",
        "  drop_cols = ['Name', 'Style', 'Brewery', 'Description',\n",
        "       'Min IBU', 'Max IBU', 'Alcohol', 'review_aroma', 'review_appearance', 'review_palate', 'review_taste',\n",
        "       'review_overall', 'number_of_reviews']\n",
        "  # dropping columns from beer profile\n",
        "  beer_profile.drop(columns = drop_cols, inplace = True)\n",
        "  # combining beer review and beer profile datasets to have profile of each beer attached to every review\n",
        "  df_beer = pd.merge(beer_reviews, beer_profile, left_on = 'Unique Beer Name', right_on = 'Beer Name (Full)', how = 'inner')\n",
        "  # isolating the numerical columns that need to be scaled\n",
        "  need_scaling = df_beer.drop(columns = ['review_time', 'review_profilename', 'beer_style', 'Unique Beer Name', 'Beer Name (Full)'])\n",
        "  # storing the informational portion of the dataset that does not need scaling\n",
        "  informational = df_beer[['review_time', 'review_profilename', 'beer_style', 'Unique Beer Name', 'Beer Name (Full)']]\n",
        "  # renaming beer name column\n",
        "  informational.rename(columns = {'Beer Name (Full)': 'Beer Name'}, inplace = True)\n",
        "\n",
        "  # scaling the data\n",
        "  scaler = MinMaxScaler()\n",
        "  scaler.fit(need_scaling)\n",
        "  need_scaling = pd.DataFrame(scaler.transform(need_scaling), columns = need_scaling.columns)\n",
        "\n",
        "  # recombining the informational data and scaled data\n",
        "  df = pd.concat([informational, need_scaling], axis = 1)\n",
        "  return df"
      ],
      "metadata": {
        "id": "LSuwKLYcIxVY"
      },
      "execution_count": null,
      "outputs": []
    },
    {
      "cell_type": "code",
      "source": [
        "df = clean_beer_reviews()"
      ],
      "metadata": {
        "id": "t3sgYkrRKFug"
      },
      "execution_count": null,
      "outputs": []
    },
    {
      "cell_type": "markdown",
      "source": [
        "# Hybrid Model"
      ],
      "metadata": {
        "id": "mMLtiG5vsUn5"
      }
    },
    {
      "cell_type": "markdown",
      "source": [
        "Conceptualize the hybrid model"
      ],
      "metadata": {
        "id": "hpl9P1tZu4rc"
      }
    },
    {
      "cell_type": "code",
      "source": [
        "def hybrid(user, beer, n_recs, df, svd_model):\n",
        "\n",
        "  values = ['review_aroma',\t'review_appearance',\t'review_palate',\t'review_taste', 'ABV', 'Astringency', 'Body', 'Bitter', 'Sweet', 'Sour', 'Salty', 'Fruits', 'Hoppy', 'Spices', 'Malty']\n",
        "\n",
        "  target_beer_vector = df.loc[(user, beer)][values]\n",
        "\n",
        "  # list of top 50 similar beers\n",
        "  similar = []\n",
        "  for beer_name in df[\"Beer Name\"].unique():\n",
        "    beer_vectors = df.loc[df[\"Beer Name\"] == beer_name][values]\n",
        "    cos_sim = list()\n",
        "    for beer_vector in np.array(beer_vectors):\n",
        "      cos_sim.append(1 - spatial.distance.cosine(beer_vector, target_beer_vector))\n",
        "    similar.append((beer_name, stats.mean(cos_sim)))\n",
        "\n",
        "  # sort in decreasing order\n",
        "  similar = sorted(similar, key = lambda x: x[1], reverse = True)\n",
        "  sim = similar[1:50]\n",
        "\n",
        "  # get metadata for each of 50 similar beers\n",
        "  beer_idx = [i[0] for i in sim]\n",
        "\n",
        "  # we are trying to make a list of the top 50 similar beers and its metadata\n",
        "  # there are multiple reviews for a single beer by different users, so we will average review_overall for each similar beer --> groupby and average\n",
        "  beers = pd.DataFrame()\n",
        "  for idx in beer_idx:\n",
        "    average_rating = df[df['Beer Name'] == idx].groupby('Beer Name').mean()[['review_overall']]\n",
        "    beers = pd.concat([beers, average_rating])\n",
        "  \n",
        "  beers = beers.reset_index()\n",
        "\n",
        "  # create an \"est\" column and apply SVD.predict() to each book\n",
        "  # predict using the svd_model\n",
        "  beers['est'] = beers.apply(lambda x: svd_model.predict(user, x['Beer Name'], x['review_overall']).est, axis = 1)\n",
        "\n",
        "  # sort predictions in decreasing order\n",
        "  beers = beers.sort_values(by = 'est', ascending = False)\n",
        "\n",
        "  # return top n recommendations\n",
        "  return beers[:n_recs]"
      ],
      "metadata": {
        "id": "nmhXcV2HumYj"
      },
      "execution_count": null,
      "outputs": []
    },
    {
      "cell_type": "code",
      "source": [
        "df.set_index(['review_profilename', 'Unique Beer Name'], inplace = True)"
      ],
      "metadata": {
        "id": "YmR3Ncv-btB6"
      },
      "execution_count": null,
      "outputs": []
    },
    {
      "cell_type": "markdown",
      "source": [
        "#Hybrid Testing"
      ],
      "metadata": {
        "id": "_o_9Eii2hDl7"
      }
    },
    {
      "cell_type": "markdown",
      "source": [
        "We need to select users to isolate for our test set. The criteria for these users is that they should have reviewed enough beers that there is some likelihood that they would have tried something that has been recommended to them. Starting with binary cumulative gain, we will assess the performance of our recommendation system by determining if the recommended beers have been tried by the user or exceeded a threshold."
      ],
      "metadata": {
        "id": "RCFpk-oDjSyA"
      }
    },
    {
      "cell_type": "markdown",
      "source": [
        "- recommend x beers to 10 users\n",
        "- traverse the recommended beer list, see how many have been rated highly\n",
        "- compare the accuracy ratings of the three test users\n",
        "- determine threshold for positive review by finding percentiles of ratings (top 1/4 review would be considered a successful recommendation)"
      ],
      "metadata": {
        "id": "fjQbQwQHlFID"
      }
    },
    {
      "cell_type": "markdown",
      "source": [
        "## Choosing users for our test set"
      ],
      "metadata": {
        "id": "QhLjDYnulV4J"
      }
    },
    {
      "cell_type": "code",
      "source": [
        "freq_reviews = df.groupby('review_profilename').count().sort_values(by=['review_time'], ascending = False)\n",
        "freq_reviews.rename(columns={'review_time': 'Number of Reviews'}, inplace = True)\n",
        "freq_reviews['Number of Reviews']"
      ],
      "metadata": {
        "colab": {
          "base_uri": "https://localhost:8080/"
        },
        "id": "upRrdWsNigHi",
        "outputId": "b16352f0-9d6d-4a7c-e4f2-216ef9805bb5"
      },
      "execution_count": null,
      "outputs": [
        {
          "output_type": "execute_result",
          "data": {
            "text/plain": [
              "review_profilename\n",
              "BuckeyeNation     1505\n",
              "mikesgroove       1422\n",
              "northyorksammy    1348\n",
              "brentk56          1225\n",
              "BEERchitect       1201\n",
              "                  ... \n",
              "cheapdark            1\n",
              "cheath               1\n",
              "chefguy              1\n",
              "chefmonty            1\n",
              "zzajjber             1\n",
              "Name: Number of Reviews, Length: 26631, dtype: int64"
            ]
          },
          "metadata": {},
          "execution_count": 15
        }
      ]
    },
    {
      "cell_type": "markdown",
      "source": [
        "The ten users with the most beer reviews"
      ],
      "metadata": {
        "id": "n9R-Vx8unq-q"
      }
    },
    {
      "cell_type": "code",
      "source": [
        "test_users = freq_reviews.index[:10]"
      ],
      "metadata": {
        "id": "wOp3N3Xvmmq2"
      },
      "execution_count": null,
      "outputs": []
    },
    {
      "cell_type": "markdown",
      "source": [
        "##Find threshold for what makes a good rating"
      ],
      "metadata": {
        "id": "DOIf_AXLrmzE"
      }
    },
    {
      "cell_type": "code",
      "source": [
        "len(df.loc[df.review_overall >= .875])"
      ],
      "metadata": {
        "colab": {
          "base_uri": "https://localhost:8080/"
        },
        "id": "FK0Yys4Ow-zO",
        "outputId": "26917a71-267d-485e-bd0b-94dff19d3a00"
      },
      "execution_count": null,
      "outputs": [
        {
          "output_type": "execute_result",
          "data": {
            "text/plain": [
              "219603"
            ]
          },
          "metadata": {},
          "execution_count": 17
        }
      ]
    },
    {
      "cell_type": "code",
      "source": [
        "THRESHOLD = 0.875"
      ],
      "metadata": {
        "id": "h3DNlgUksNAQ"
      },
      "execution_count": null,
      "outputs": []
    },
    {
      "cell_type": "markdown",
      "source": [
        "Only 219,603 / 744,251 reviews (29.5%) were given a score of .875 or greater, so this will be our threshold for a successful recommendation"
      ],
      "metadata": {
        "id": "9oTy5lYLxVg3"
      }
    },
    {
      "cell_type": "markdown",
      "source": [
        "## Remove all ratings by the test users from the training set except for the beer they rated the highest"
      ],
      "metadata": {
        "id": "-FDqzfWgnccn"
      }
    },
    {
      "cell_type": "code",
      "source": [
        "def create_train_test_split(frac_rem=1, df, test_users):\n",
        "  #frac_rem: fraction of each user in test set to remain in train set\n",
        "  # train_set is copy of df --> df has review_profilename and Unique Beer Name as indicies\n",
        "  # we are preserving user information by reseting indicies, so when we .loc[] we still have access to user and beer info\n",
        "  train_set = df.copy().reset_index()\n",
        "  test_parameters = []\n",
        "  test_set = pd.DataFrame(columns = train_set.columns)\n",
        "\n",
        "\n",
        "  for user in test_users: \n",
        "    # all reviews for a the test user\n",
        "    user_reviews = train_set.loc[train_set.review_profilename == user]\n",
        "\n",
        "    # sorted reviews\n",
        "    user_reviews = user_reviews.sort_values(by = 'review_overall', ascending = False)\n",
        "\n",
        "    # store highest reviewed beer\n",
        "    highest_reviewed_beer = user_reviews.iloc[0]\n",
        "    test_parameters.append((user, highest_reviewed_beer[\"Beer Name\"]))\n",
        "\n",
        "    # calculating the last index to remove from the train set\n",
        "    last_idx = int((len(user_reviews) - 1) * frac_rem)\n",
        "\n",
        "    # concatenate the removed user-beer pairs to test set\n",
        "    test_set = pd.concat([test_set, user_reviews.iloc[1:last_idx]])\n",
        "\n",
        "    # remove all beers from training set, add back in highest_reviewed_beer\n",
        "    train_set.drop(user_reviews.iloc[1:last_idx].index, axis = 0, inplace = True)\n",
        "\n",
        "  return train_set, test_set, test_parameters"
      ],
      "metadata": {
        "id": "I7hkULaznAjl"
      },
      "execution_count": null,
      "outputs": []
    },
    {
      "cell_type": "code",
      "source": [
        "train_set, test_set, test_parameters = create_train_test_split(.5)"
      ],
      "metadata": {
        "id": "1KMKV_jS0yXM"
      },
      "execution_count": null,
      "outputs": []
    },
    {
      "cell_type": "code",
      "source": [
        "def train_svd(train_set, test_set):\n",
        "  # creating and training SVD on train_set\n",
        "  reader = Reader()\n",
        "  test_data = Dataset.load_from_df(test_set[['review_profilename', 'Beer Name', 'review_overall']], reader)\n",
        "  train_data = Dataset.load_from_df(train_set[['review_profilename', 'Beer Name', 'review_overall']], reader)\n",
        "\n",
        "  # NEED TO TURN OUR TRAIN_SET INTO surprise TRAINSET TYPE\n",
        "  surprise_train_set = train_data.build_full_trainset()\n",
        "\n",
        "  # train\n",
        "  svd = SVD()\n",
        "  svd.fit(surprise_train_set)\n",
        "  return svd\n",
        "# NEED TO FIGURE OUT IF SVD USES USER INFORMATION FOR CALCULATIONS --> can this model perform well without significant historical review data"
      ],
      "metadata": {
        "id": "mvVNQfjXhIG9",
        "colab": {
          "base_uri": "https://localhost:8080/"
        },
        "outputId": "e3eca87f-4257-4df0-edf9-c5b1a4299459"
      },
      "execution_count": null,
      "outputs": [
        {
          "output_type": "execute_result",
          "data": {
            "text/plain": [
              "<surprise.prediction_algorithms.matrix_factorization.SVD at 0x7f50f89bef50>"
            ]
          },
          "metadata": {},
          "execution_count": 32
        }
      ]
    },
    {
      "cell_type": "code",
      "source": [
        "def hybrid_model(test_frac = 1, user, beer, n_recs):\n",
        "  # Collecting and cleaning the dataset\n",
        "  df = clean_beer_reviews()\n",
        "  # Setting the index for easier querying\n",
        "  df.set_index(['review_profilename', 'Unique Beer Name'], inplace = True)\n",
        "  # Identifying the top 10 most frequent reviewers\n",
        "  freq_reviews = df.groupby('review_profilename').count().sort_values(by=['review_time'], ascending = False)\n",
        "  freq_reviews.rename(columns={'review_time': 'Number of Reviews'}, inplace = True)\n",
        "  test_users = freq_reviews.index[:10]\n",
        "  # Divying up the training and test sets\n",
        "  train_set, test_set, test_parameters = create_train_test_split(test_frac, df, test_users)\n",
        "  # Train the SVD model\n",
        "  svd = train_svd(train_set, test_set)\n",
        "  # Resetting the index to cooperate with hybrid function\n",
        "  train_set.set_index([\"review_profilename\", \"Unique Beer Name\"], inplace = True)\n",
        "  return hybrid(user, beer, n_recs, train_set, svd)"
      ],
      "metadata": {
        "id": "sByLkaIL-uvT"
      },
      "execution_count": null,
      "outputs": []
    },
    {
      "cell_type": "markdown",
      "source": [
        "Separate Testing Function"
      ],
      "metadata": {
        "id": "2pb9bYBK-vjr"
      }
    },
    {
      "cell_type": "code",
      "source": [
        "# setting train_set index to be compatible with hybrid()\n",
        "train_set.set_index([\"review_profilename\", \"Unique Beer Name\"], inplace = True)"
      ],
      "metadata": {
        "id": "7Y2h0xNfuoic"
      },
      "execution_count": null,
      "outputs": []
    },
    {
      "cell_type": "code",
      "source": [
        "def compile_rec_list(n_recs, ):\n",
        "  rec_dict = {}\n",
        "  # iterate through test users, get X recommendations for their only beer review, compare recommendations to actual ratings stored in test_set using DCG\n",
        "  for user, beer in test_parameters[0:5]:\n",
        "    recommendations = hybrid(user, beer, n_recs, train_set, svd)\n",
        "    rec_dict[user] = list(recommendations[\"Beer Name\"])\n",
        "\n",
        "  return rec_dict"
      ],
      "metadata": {
        "id": "7arKiQsZAaiM"
      },
      "execution_count": null,
      "outputs": []
    },
    {
      "cell_type": "code",
      "source": [
        "# pass test_parameters in as parameter !!\n",
        "recs = compile_rec_list(10)"
      ],
      "metadata": {
        "colab": {
          "base_uri": "https://localhost:8080/"
        },
        "id": "SLBgeu0QNawW",
        "outputId": "67eb402d-5439-41f6-bd2d-42fc13efd2ac"
      },
      "execution_count": null,
      "outputs": [
        {
          "output_type": "stream",
          "name": "stderr",
          "text": [
            "/usr/local/lib/python3.7/dist-packages/ipykernel_launcher.py:5: PerformanceWarning: indexing past lexsort depth may impact performance.\n",
            "  \"\"\"\n"
          ]
        }
      ]
    },
    {
      "cell_type": "code",
      "source": [
        "def calc_score(metric, rec_dict, n_recs, test):\n",
        "  # test is a dataframe consisting of the user reviews to be used to determine relevancy\n",
        "  score = 0\n",
        "  index = 1\n",
        "  num_rel = 0\n",
        "  for user, recs in rec_dict.items():\n",
        "\n",
        "    for rec in recs:\n",
        "\n",
        "      # we need to include Raise And Catch Exception when beer is not in test set\n",
        "      row = test.loc[(test.review_profilename == user) & (test[\"Unique Beer Name\"] == rec)]\n",
        "\n",
        "      # if rec in test_set and above threshold\n",
        "      if len(row) > 0:\n",
        "        if row[\"review_overall\"].iloc[0] >= THRESHOLD:\n",
        "          num_rel += 1\n",
        "\n",
        "          if metric == \"CG\":\n",
        "            score += 1\n",
        "\n",
        "          elif metric in [\"DCG\", 'NDCG']:\n",
        "            score += (1 / math.log2(index + 1))\n",
        "\n",
        "          elif metric == \"MAP\":\n",
        "            score += num_rel / index\n",
        "\n",
        "          else:\n",
        "            raise Exception(\"Metric type provided is not valid.\")\n",
        "\n",
        "    if metric == 'NDCG':\n",
        "      ideal = 0\n",
        "      for num in range(num_rel):\n",
        "        # num starts at 0, so we add two to mimic the starting index of 1\n",
        "        ideal += (1 / math.log2(num + 2))\n",
        "      score = score / ideal\n",
        "\n",
        "    if metric == \"MAP\":\n",
        "      score = score / n_recs\n",
        "\n",
        "    index += 1\n",
        "    print(f\"{user} : {score}\")"
      ],
      "metadata": {
        "id": "JNAJGDC3z5wQ"
      },
      "execution_count": null,
      "outputs": []
    },
    {
      "cell_type": "code",
      "source": [
        "calc_score(\"CG\", recs, 10, test_set)"
      ],
      "metadata": {
        "colab": {
          "base_uri": "https://localhost:8080/"
        },
        "id": "VMW_THOux6iF",
        "outputId": "bb116471-aa63-4e67-ad00-8fb0ae246d66"
      },
      "execution_count": null,
      "outputs": [
        {
          "output_type": "stream",
          "name": "stdout",
          "text": [
            "BuckeyeNation : 1\n",
            "mikesgroove : 1\n",
            "northyorksammy : 3\n",
            "brentk56 : 4\n",
            "BEERchitect : 5\n"
          ]
        }
      ]
    }
  ]
}