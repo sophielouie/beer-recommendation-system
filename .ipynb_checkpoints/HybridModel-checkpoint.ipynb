{
 "cells": [
  {
   "cell_type": "markdown",
   "metadata": {
    "colab_type": "text",
    "id": "view-in-github"
   },
   "source": [
    "<a href=\"https://colab.research.google.com/github/sophielouie/beer-recommendation-system/blob/main/HybridModel.ipynb\" target=\"_parent\"><img src=\"https://colab.research.google.com/assets/colab-badge.svg\" alt=\"Open In Colab\"/></a>"
   ]
  },
  {
   "cell_type": "code",
   "execution_count": 2,
   "metadata": {
    "id": "GICYzXHUmLao"
   },
   "outputs": [],
   "source": [
    "import pandas as pd\n",
    "from sklearn.preprocessing import StandardScaler, MinMaxScaler\n",
    "from sklearn.metrics.pairwise import cosine_similarity\n",
    "from surprise import SVD, Reader, Dataset, accuracy\n",
    "from surprise.model_selection import train_test_split\n",
    "import numpy as np\n",
    "from scipy import spatial\n",
    "import statistics as stats\n",
    "import math\n",
    "from networkx.algorithms.dag import topological_sort\n",
    "import networkx as nx\n",
    "from plotly.subplots import make_subplots\n",
    "import plotly.graph_objects as go\n",
    "from node2vec import Node2Vec"
   ]
  },
  {
   "cell_type": "code",
   "execution_count": 5,
   "metadata": {
    "id": "ornMuY2PnBX2"
   },
   "outputs": [],
   "source": [
    "pd.set_option('display.max_columns', None)"
   ]
  },
  {
   "cell_type": "code",
   "execution_count": null,
   "metadata": {
    "id": "sRNlWn-Y-LOt"
   },
   "outputs": [],
   "source": [
    "def print_test():\n",
    "    print(\"test\")"
   ]
  },
  {
   "cell_type": "markdown",
   "metadata": {
    "id": "hos2Q122sNa8"
   },
   "source": [
    "# Data Collection"
   ]
  },
  {
   "cell_type": "code",
   "execution_count": 6,
   "metadata": {
    "id": "LSuwKLYcIxVY"
   },
   "outputs": [],
   "source": [
    "def clean_beer_reviews():\n",
    "    # storing beer review dataset\n",
    "    beer_reviews = pd.read_csv(\"https://github.com/sophielouie/beer-recommendation-system/blob/327eadea3edbb0426803926a3982b7c209615cf0/beer_reviews.csv?raw=true\", encoding=\"utf-8\")\n",
    "    # creating a unique identifier for each beer using brewery name and beer name\n",
    "    beer_reviews['Unique Beer Name'] = beer_reviews['brewery_name'] + ' ' + beer_reviews['beer_name']\n",
    "    # storing beer profile dataset\n",
    "    beer_profile = pd.read_csv(\"https://github.com/sophielouie/beer-recommendation-system/blob/327eadea3edbb0426803926a3982b7c209615cf0/beer_profile_ratings.csv?raw=true\", encoding=\"utf-8\")\n",
    "    # columns to drop from beer reviews\n",
    "    drop_cols = ['brewery_id', 'brewery_name',  'beer_name', 'beer_abv', 'beer_beerid']\n",
    "    # dropping columns from beer reviews\n",
    "    beer_reviews.drop(columns = drop_cols, inplace = True)\n",
    "    # columns to drop from  beer profile\n",
    "    drop_cols = ['Name', 'Style', 'Brewery', 'Description',\n",
    "                 'Min IBU', 'Max IBU', 'Alcohol', 'review_aroma', 'review_appearance', 'review_palate',\n",
    "                 'review_taste', 'review_overall', 'number_of_reviews']\n",
    "    # dropping columns from beer profile\n",
    "    beer_profile.drop(columns = drop_cols, inplace = True)\n",
    "    # combining beer review and beer profile datasets to have profile of each beer attached to every review\n",
    "    df_beer = pd.merge(beer_reviews, beer_profile, left_on = 'Unique Beer Name', right_on = 'Beer Name (Full)', how = 'inner')\n",
    "    # isolating the numerical columns that need to be scaled\n",
    "    need_scaling = df_beer.drop(columns = ['review_time', 'review_profilename', 'beer_style', 'Unique Beer Name', 'Beer Name (Full)'])\n",
    "    # storing the informational portion of the dataset that does not need scaling\n",
    "    informational = df_beer[['review_time', 'review_profilename', 'beer_style', 'Unique Beer Name', 'Beer Name (Full)']]\n",
    "    # renaming beer name column\n",
    "    informational.rename(columns = {'Beer Name (Full)': 'Beer Name'}, inplace = True)\n",
    "\n",
    "    # scaling the data\n",
    "    scaler = MinMaxScaler()\n",
    "    scaler.fit(need_scaling)\n",
    "    need_scaling = pd.DataFrame(scaler.transform(need_scaling), columns = need_scaling.columns)\n",
    "\n",
    "    # recombining the informational data and scaled data\n",
    "    df = pd.concat([informational, need_scaling], axis = 1)\n",
    "    return df"
   ]
  },
  {
   "cell_type": "code",
   "execution_count": 7,
   "metadata": {
    "colab": {
     "base_uri": "https://localhost:8080/"
    },
    "id": "t3sgYkrRKFug",
    "outputId": "1eaccb8a-7525-4e53-fd0b-063b8ba8ba14"
   },
   "outputs": [
    {
     "name": "stderr",
     "output_type": "stream",
     "text": [
      "/usr/local/lib/python3.7/dist-packages/pandas/core/frame.py:5047: SettingWithCopyWarning: \n",
      "A value is trying to be set on a copy of a slice from a DataFrame\n",
      "\n",
      "See the caveats in the documentation: https://pandas.pydata.org/pandas-docs/stable/user_guide/indexing.html#returning-a-view-versus-a-copy\n",
      "  errors=errors,\n"
     ]
    }
   ],
   "source": [
    "df = clean_beer_reviews()"
   ]
  },
  {
   "cell_type": "markdown",
   "metadata": {
    "id": "mMLtiG5vsUn5"
   },
   "source": [
    "# Hybrid Model"
   ]
  },
  {
   "cell_type": "markdown",
   "metadata": {
    "id": "hpl9P1tZu4rc"
   },
   "source": [
    "Conceptualize the hybrid model"
   ]
  },
  {
   "cell_type": "code",
   "execution_count": 8,
   "metadata": {
    "id": "nmhXcV2HumYj"
   },
   "outputs": [],
   "source": [
    "def hybrid(user, beer, n_recs, df, svd_model):\n",
    "\n",
    "    values = ['review_aroma',\t'review_appearance',\t'review_palate',\t'review_taste', 'ABV', 'Astringency', 'Body', 'Bitter', 'Sweet', 'Sour', 'Salty', 'Fruits', 'Hoppy', 'Spices', 'Malty']\n",
    "\n",
    "    target_beer_vector = df.loc[(user, beer)][values]\n",
    "\n",
    "    # list of top 50 similar beers\n",
    "    similar = []\n",
    "    for beer_name in df[\"Beer Name\"].unique():\n",
    "        beer_vectors = df.loc[df[\"Beer Name\"] == beer_name][values]\n",
    "        cos_sim = list()\n",
    "    for beer_vector in np.array(beer_vectors):\n",
    "        cos_sim.append(1 - spatial.distance.cosine(beer_vector, target_beer_vector))\n",
    "    similar.append((beer_name, stats.mean(cos_sim)))\n",
    "\n",
    "    # sort in decreasing order\n",
    "    similar = sorted(similar, key = lambda x: x[1], reverse = True)\n",
    "    sim = similar[1:50]\n",
    "\n",
    "    # get metadata for each of 50 similar beers\n",
    "    beer_idx = [i[0] for i in sim]\n",
    "\n",
    "    # we are trying to make a list of the top 50 similar beers and its metadata\n",
    "    # there are multiple reviews for a single beer by different users, so we will average review_overall for each similar beer --> groupby and average\n",
    "    beers = pd.DataFrame()\n",
    "    for idx in beer_idx:\n",
    "        average_rating = df[df['Beer Name'] == idx].groupby('Beer Name').mean()[['review_overall']]\n",
    "        beers = pd.concat([beers, average_rating])\n",
    "  \n",
    "    beers = beers.reset_index()\n",
    "\n",
    "    # create an \"est\" column and apply SVD.predict() to each book\n",
    "    # predict using the svd_model\n",
    "    beers['est'] = beers.apply(lambda x: svd_model.predict(user, x['Beer Name'], x['review_overall']).est, axis = 1)\n",
    "\n",
    "    # sort predictions in decreasing order\n",
    "    beers = beers.sort_values(by = 'est', ascending = False)\n",
    "\n",
    "    # return top n recommendations\n",
    "    return beers[:n_recs]"
   ]
  },
  {
   "cell_type": "code",
   "execution_count": 9,
   "metadata": {
    "id": "YmR3Ncv-btB6"
   },
   "outputs": [],
   "source": [
    "df.set_index(['review_profilename', 'Unique Beer Name'], inplace = True)"
   ]
  },
  {
   "cell_type": "markdown",
   "metadata": {
    "id": "_o_9Eii2hDl7"
   },
   "source": [
    "#Hybrid Testing"
   ]
  },
  {
   "cell_type": "markdown",
   "metadata": {
    "id": "RCFpk-oDjSyA"
   },
   "source": [
    "We need to select users to isolate for our test set. The criteria for these users is that they should have reviewed enough beers that there is some likelihood that they would have tried something that has been recommended to them. Starting with binary cumulative gain, we will assess the performance of our recommendation system by determining if the recommended beers have been tried by the user or exceeded a threshold."
   ]
  },
  {
   "cell_type": "markdown",
   "metadata": {
    "id": "fjQbQwQHlFID"
   },
   "source": [
    "- recommend x beers to 10 users\n",
    "- traverse the recommended beer list, see how many have been rated highly\n",
    "- compare the accuracy ratings of the three test users\n",
    "- determine threshold for positive review by finding percentiles of ratings (top 1/4 review would be considered a successful recommendation)"
   ]
  },
  {
   "cell_type": "markdown",
   "metadata": {
    "id": "QhLjDYnulV4J"
   },
   "source": [
    "## Choosing users for our test set"
   ]
  },
  {
   "cell_type": "code",
   "execution_count": 10,
   "metadata": {
    "colab": {
     "base_uri": "https://localhost:8080/"
    },
    "id": "upRrdWsNigHi",
    "outputId": "8a9f7f3f-6389-44f3-aa36-80b09d750702"
   },
   "outputs": [
    {
     "data": {
      "text/plain": [
       "review_profilename\n",
       "BuckeyeNation     1505\n",
       "mikesgroove       1422\n",
       "northyorksammy    1348\n",
       "brentk56          1225\n",
       "BEERchitect       1201\n",
       "                  ... \n",
       "cheapdark            1\n",
       "cheath               1\n",
       "chefguy              1\n",
       "chefmonty            1\n",
       "zzajjber             1\n",
       "Name: Number of Reviews, Length: 26631, dtype: int64"
      ]
     },
     "execution_count": 10,
     "metadata": {},
     "output_type": "execute_result"
    }
   ],
   "source": [
    "freq_reviews = df.groupby('review_profilename').count().sort_values(by=['review_time'], ascending = False)\n",
    "freq_reviews.rename(columns={'review_time': 'Number of Reviews'}, inplace = True)\n",
    "freq_reviews['Number of Reviews']"
   ]
  },
  {
   "cell_type": "markdown",
   "metadata": {
    "id": "n9R-Vx8unq-q"
   },
   "source": [
    "The ten users with the most beer reviews"
   ]
  },
  {
   "cell_type": "code",
   "execution_count": 11,
   "metadata": {
    "id": "wOp3N3Xvmmq2"
   },
   "outputs": [],
   "source": [
    "test_users = freq_reviews.index[:10]"
   ]
  },
  {
   "cell_type": "markdown",
   "metadata": {
    "id": "DOIf_AXLrmzE"
   },
   "source": [
    "##Find threshold for what makes a good rating"
   ]
  },
  {
   "cell_type": "code",
   "execution_count": 12,
   "metadata": {
    "colab": {
     "base_uri": "https://localhost:8080/"
    },
    "id": "FK0Yys4Ow-zO",
    "outputId": "0588be34-84e4-4b0b-bfdb-0b3d36f777a5"
   },
   "outputs": [
    {
     "data": {
      "text/plain": [
       "219603"
      ]
     },
     "execution_count": 12,
     "metadata": {},
     "output_type": "execute_result"
    }
   ],
   "source": [
    "len(df.loc[df.review_overall >= .875])"
   ]
  },
  {
   "cell_type": "code",
   "execution_count": 13,
   "metadata": {
    "id": "h3DNlgUksNAQ"
   },
   "outputs": [],
   "source": [
    "THRESHOLD = 0.875"
   ]
  },
  {
   "cell_type": "markdown",
   "metadata": {
    "id": "9oTy5lYLxVg3"
   },
   "source": [
    "Only 219,603 / 744,251 reviews (29.5%) were given a score of .875 or greater, so this will be our threshold for a successful recommendation"
   ]
  },
  {
   "cell_type": "markdown",
   "metadata": {
    "id": "-FDqzfWgnccn"
   },
   "source": [
    "## Remove all ratings by the test users from the training set except for the beer they rated the highest"
   ]
  },
  {
   "cell_type": "code",
   "execution_count": 66,
   "metadata": {
    "id": "I7hkULaznAjl"
   },
   "outputs": [],
   "source": [
    "def create_train_test_split(df, test_users, frac_rem=1):\n",
    "    #frac_rem: fraction of each user in test set to remain in train set\n",
    "    # train_set is copy of df --> df has review_profilename and Unique Beer Name as indicies\n",
    "    # we are preserving user information by reseting indicies, so when we .loc[] we still have access to user and beer info\n",
    "    train_set = df.copy().reset_index()\n",
    "    test_parameters = []\n",
    "    test_set = pd.DataFrame(columns = train_set.columns)\n",
    "\n",
    "\n",
    "    for user in test_users: \n",
    "        # all reviews for a the test user\n",
    "        user_reviews = train_set.loc[train_set.review_profilename == user]\n",
    "\n",
    "        # sorted reviews\n",
    "        sorted_user_reviews = user_reviews.sort_values(by = 'review_overall', ascending = False)\n",
    "\n",
    "        # store highest reviewed beer\n",
    "        highest_reviewed_beer = sorted_user_reviews.iloc[0]\n",
    "        test_parameters.append((user, highest_reviewed_beer[\"Beer Name\"]))\n",
    "\n",
    "        # removing highest reviewed beer from user_reviews so that it remains in the train set\n",
    "        user_reviews.drop(highest_reviewed_beer.name, axis = 0, inplace = True)\n",
    "\n",
    "        # calculating the last index to remove from the train set\n",
    "        last_idx = int((len(user_reviews) - 1) * frac_rem)\n",
    "\n",
    "        # concatenate the removed user-beer pairs to test set\n",
    "        test_set = pd.concat([test_set, user_reviews.iloc[0:last_idx]])\n",
    "\n",
    "        # remove all beers from training set\n",
    "        train_set.drop(user_reviews.iloc[0:last_idx].index, axis = 0, inplace = True)\n",
    "\n",
    "    return train_set, test_set, test_parameters"
   ]
  },
  {
   "cell_type": "code",
   "execution_count": 67,
   "metadata": {
    "colab": {
     "base_uri": "https://localhost:8080/"
    },
    "id": "1KMKV_jS0yXM",
    "outputId": "77aa7b99-d8d7-4ec5-a8aa-ba74101e50e7"
   },
   "outputs": [
    {
     "name": "stderr",
     "output_type": "stream",
     "text": [
      "/usr/local/lib/python3.7/dist-packages/pandas/core/frame.py:4913: SettingWithCopyWarning: \n",
      "A value is trying to be set on a copy of a slice from a DataFrame\n",
      "\n",
      "See the caveats in the documentation: https://pandas.pydata.org/pandas-docs/stable/user_guide/indexing.html#returning-a-view-versus-a-copy\n",
      "  errors=errors,\n"
     ]
    }
   ],
   "source": [
    "train_set, test_set, test_parameters = create_train_test_split(df, test_users, .5)"
   ]
  },
  {
   "cell_type": "code",
   "execution_count": 70,
   "metadata": {
    "id": "mvVNQfjXhIG9"
   },
   "outputs": [],
   "source": [
    "def train_svd(train_set, test_set):\n",
    "    # creating and training SVD on train_set\n",
    "    reader = Reader()\n",
    "\n",
    "    # train_set = train_set.reset_index()\n",
    "    # test_set = test_set.reset_index()\n",
    "\n",
    "    test_data = Dataset.load_from_df(test_set[['review_profilename', 'Beer Name', 'review_overall']], reader)\n",
    "    train_data = Dataset.load_from_df(train_set[['review_profilename', 'Beer Name', 'review_overall']], reader)\n",
    "\n",
    "    # NEED TO TURN OUR TRAIN_SET INTO surprise TRAINSET TYPE\n",
    "    surprise_train_set = train_data.build_full_trainset()\n",
    "\n",
    "    # train\n",
    "    svd = SVD()\n",
    "    svd.fit(surprise_train_set)\n",
    "    return svd\n",
    "# NEED TO FIGURE OUT IF SVD USES USER INFORMATION FOR CALCULATIONS --> can this model perform well without significant historical review data"
   ]
  },
  {
   "cell_type": "code",
   "execution_count": 71,
   "metadata": {
    "id": "uCSDBLGJDcsr"
   },
   "outputs": [],
   "source": [
    "svd = train_svd(train_set, test_set)"
   ]
  },
  {
   "cell_type": "code",
   "execution_count": 72,
   "metadata": {
    "id": "sByLkaIL-uvT"
   },
   "outputs": [],
   "source": [
    "def hybrid_model(user, beer, n_recs, test_frac = 1):\n",
    "    # Collecting and cleaning the dataset\n",
    "    df = clean_beer_reviews()\n",
    "    # Setting the index for easier querying\n",
    "    df.set_index(['review_profilename', 'Unique Beer Name'], inplace = True)\n",
    "    # Identifying the top 10 most frequent reviewers\n",
    "    freq_reviews = df.groupby('review_profilename').count().sort_values(by=['review_time'], ascending = False)\n",
    "    freq_reviews.rename(columns={'review_time': 'Number of Reviews'}, inplace = True)\n",
    "    test_users = freq_reviews.index[:10]\n",
    "    # Divying up the training and test sets\n",
    "    train_set, test_set, test_parameters = create_train_test_split(test_frac, df, test_users)\n",
    "    # Train the SVD model\n",
    "    svd = train_svd(train_set, test_set)\n",
    "    # Resetting the index to cooperate with hybrid function\n",
    "    train_set.set_index([\"review_profilename\", \"Unique Beer Name\"], inplace = True)\n",
    "    return hybrid(user, beer, n_recs, train_set, svd)"
   ]
  },
  {
   "cell_type": "markdown",
   "metadata": {
    "id": "2pb9bYBK-vjr"
   },
   "source": [
    "Separate Testing Function"
   ]
  },
  {
   "cell_type": "code",
   "execution_count": 73,
   "metadata": {
    "id": "7Y2h0xNfuoic"
   },
   "outputs": [],
   "source": [
    "# setting train_set index to be compatible with hybrid()\n",
    "train_set.set_index([\"review_profilename\", \"Unique Beer Name\"], inplace = True)"
   ]
  },
  {
   "cell_type": "code",
   "execution_count": 76,
   "metadata": {
    "id": "7arKiQsZAaiM"
   },
   "outputs": [],
   "source": [
    "def compile_rec_list(n_recs, test_parameters):\n",
    "    rec_dict = {}\n",
    "    # iterate through test users, get X recommendations for their only beer review, compare recommendations to actual ratings stored in test_set using DCG\n",
    "    for user, beer in test_parameters[0:5]:\n",
    "        recommendations = hybrid(user, beer, n_recs, train_set, svd)\n",
    "        rec_dict[user] = list(recommendations[\"Beer Name\"])\n",
    "\n",
    "    return rec_dict"
   ]
  },
  {
   "cell_type": "code",
   "execution_count": 77,
   "metadata": {
    "colab": {
     "base_uri": "https://localhost:8080/"
    },
    "id": "SLBgeu0QNawW",
    "outputId": "f704bfbe-45b4-45b1-a4d9-1873e465d90b"
   },
   "outputs": [
    {
     "name": "stderr",
     "output_type": "stream",
     "text": [
      "/usr/local/lib/python3.7/dist-packages/ipykernel_launcher.py:5: PerformanceWarning: indexing past lexsort depth may impact performance.\n",
      "  \"\"\"\n"
     ]
    }
   ],
   "source": [
    "# pass test_parameters in as parameter !!\n",
    "recs = compile_rec_list(10, test_parameters)"
   ]
  },
  {
   "cell_type": "code",
   "execution_count": 3,
   "metadata": {
    "id": "JNAJGDC3z5wQ"
   },
   "outputs": [],
   "source": [
    "def calc_score(metric, rec_dict, n_recs, test):\n",
    "    # test is a dataframe consisting of the user reviews to be used to determine relevancy\n",
    "    score = 0\n",
    "    index = 1\n",
    "    num_rel = 0\n",
    "    for user, recs in rec_dict.items():\n",
    "\n",
    "        for rec in recs:\n",
    "            \n",
    "            # we need to include Raise And Catch Exception when beer is not in test set\n",
    "            row = test.loc[(test.review_profilename == user) & (test[\"Unique Beer Name\"] == rec)]\n",
    "\n",
    "            # if rec in test_set and above threshold\n",
    "            if len(row) > 0:\n",
    "                if row[\"review_overall\"].iloc[0] >= THRESHOLD:\n",
    "                    num_rel += 1\n",
    "\n",
    "                    if metric == \"CG\":\n",
    "                        score += 1\n",
    "\n",
    "                    elif metric in [\"DCG\", 'NDCG']:\n",
    "                        score += (1 / math.log2(index + 1))\n",
    "\n",
    "                    elif metric == \"MAP\":\n",
    "                        score += num_rel / index\n",
    "\n",
    "                    else:\n",
    "                        raise Exception(\"Metric type provided is not valid.\")\n",
    "\n",
    "            if metric == 'NDCG':\n",
    "                ideal = 0\n",
    "                for num in range(num_rel):\n",
    "                    # num starts at 0, so we add two to mimic the starting index of 1\\\n",
    "                    ideal += (1 / math.log2(num + 2))\n",
    "    \n",
    "                score = score / ideal\n",
    "\n",
    "    if metric == \"MAP\":\n",
    "        score = score / n_recs\n",
    "\n",
    "    index += 1\n",
    "    print(f\"{user} : {score}\")"
   ]
  },
  {
   "cell_type": "code",
   "execution_count": 85,
   "metadata": {
    "colab": {
     "base_uri": "https://localhost:8080/"
    },
    "id": "VMW_THOux6iF",
    "outputId": "a5b3bdfc-af0f-4f30-b107-a9f2fc7fa5fc"
   },
   "outputs": [
    {
     "name": "stdout",
     "output_type": "stream",
     "text": [
      "BuckeyeNation : 1\n",
      "mikesgroove : 1\n",
      "northyorksammy : 1\n",
      "brentk56 : 1\n",
      "BEERchitect : 1\n"
     ]
    }
   ],
   "source": [
    "calc_score(\"CG\", recs, 10, test_set)"
   ]
  }
 ],
 "metadata": {
  "colab": {
   "collapsed_sections": [],
   "include_colab_link": true,
   "name": "HybridModel.ipynb",
   "provenance": []
  },
  "kernelspec": {
   "display_name": "Python 3",
   "language": "python",
   "name": "python3"
  },
  "language_info": {
   "codemirror_mode": {
    "name": "ipython",
    "version": 3
   },
   "file_extension": ".py",
   "mimetype": "text/x-python",
   "name": "python",
   "nbconvert_exporter": "python",
   "pygments_lexer": "ipython3",
   "version": "3.8.5"
  }
 },
 "nbformat": 4,
 "nbformat_minor": 1
}
