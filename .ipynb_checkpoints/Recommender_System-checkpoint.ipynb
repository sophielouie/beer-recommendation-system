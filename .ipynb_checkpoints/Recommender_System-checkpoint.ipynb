{
 "cells": [
  {
   "cell_type": "markdown",
   "metadata": {
    "colab_type": "text",
    "id": "view-in-github"
   },
   "source": [
    "<a href=\"https://colab.research.google.com/github/sophielouie/beer-recommendation-system/blob/main/Recommender_System.ipynb\" target=\"_parent\"><img src=\"https://colab.research.google.com/assets/colab-badge.svg\" alt=\"Open In Colab\"/></a>"
   ]
  },
  {
   "cell_type": "code",
   "execution_count": 1,
   "metadata": {
    "colab": {
     "base_uri": "https://localhost:8080/"
    },
    "id": "YKvOCI5WllFz",
    "outputId": "660dc8ba-141a-4063-b8fd-877829636d58"
   },
   "outputs": [
    {
     "name": "stdout",
     "output_type": "stream",
     "text": [
      "Mounted at /content/gdrive\n"
     ]
    }
   ],
   "source": [
    "from google.colab import drive \n",
    "drive.mount('/content/gdrive')"
   ]
  },
  {
   "cell_type": "code",
   "execution_count": 2,
   "metadata": {
    "colab": {
     "base_uri": "https://localhost:8080/"
    },
    "id": "_M5ce6gDJABZ",
    "outputId": "c8d5d5b0-6650-45e0-8b3a-a3bfd7f844cd"
   },
   "outputs": [
    {
     "name": "stdout",
     "output_type": "stream",
     "text": [
      "Looking in indexes: https://pypi.org/simple, https://us-python.pkg.dev/colab-wheels/public/simple/\n",
      "Collecting surprise\n",
      "  Downloading surprise-0.1-py2.py3-none-any.whl (1.8 kB)\n",
      "Collecting scikit-surprise\n",
      "  Downloading scikit-surprise-1.1.1.tar.gz (11.8 MB)\n",
      "\u001b[K     |████████████████████████████████| 11.8 MB 7.8 MB/s \n",
      "\u001b[?25hRequirement already satisfied: joblib>=0.11 in /usr/local/lib/python3.7/dist-packages (from scikit-surprise->surprise) (1.1.0)\n",
      "Requirement already satisfied: numpy>=1.11.2 in /usr/local/lib/python3.7/dist-packages (from scikit-surprise->surprise) (1.21.6)\n",
      "Requirement already satisfied: scipy>=1.0.0 in /usr/local/lib/python3.7/dist-packages (from scikit-surprise->surprise) (1.4.1)\n",
      "Requirement already satisfied: six>=1.10.0 in /usr/local/lib/python3.7/dist-packages (from scikit-surprise->surprise) (1.15.0)\n",
      "Building wheels for collected packages: scikit-surprise\n",
      "  Building wheel for scikit-surprise (setup.py) ... \u001b[?25l\u001b[?25hdone\n",
      "  Created wheel for scikit-surprise: filename=scikit_surprise-1.1.1-cp37-cp37m-linux_x86_64.whl size=1633734 sha256=a5d220ca2c68890bba7bec29bd2559590e1a425ee7cdf9819cb062174feb52de\n",
      "  Stored in directory: /root/.cache/pip/wheels/76/44/74/b498c42be47b2406bd27994e16c5188e337c657025ab400c1c\n",
      "Successfully built scikit-surprise\n",
      "Installing collected packages: scikit-surprise, surprise\n",
      "Successfully installed scikit-surprise-1.1.1 surprise-0.1\n"
     ]
    }
   ],
   "source": [
    "pip install surprise"
   ]
  },
  {
   "cell_type": "code",
   "execution_count": 3,
   "metadata": {
    "id": "GICYzXHUmLao"
   },
   "outputs": [],
   "source": [
    "import pandas as pd\n",
    "from sklearn.preprocessing import StandardScaler, MinMaxScaler\n",
    "from sklearn.metrics.pairwise import cosine_similarity\n",
    "from surprise import SVD, Reader, Dataset, accuracy\n",
    "from surprise.model_selection import train_test_split\n",
    "import numpy as np\n",
    "from scipy import spatial\n",
    "import statistics as stats"
   ]
  },
  {
   "cell_type": "code",
   "execution_count": 4,
   "metadata": {
    "id": "ornMuY2PnBX2"
   },
   "outputs": [],
   "source": [
    "pd.set_option('display.max_columns', None)"
   ]
  },
  {
   "cell_type": "markdown",
   "metadata": {
    "id": "hos2Q122sNa8"
   },
   "source": [
    "# Data Collection"
   ]
  },
  {
   "cell_type": "code",
   "execution_count": 14,
   "metadata": {
    "colab": {
     "base_uri": "https://localhost:8080/",
     "height": 617
    },
    "id": "ZPiGiwpCl5LT",
    "outputId": "0d287c9f-8776-45cb-e2c8-2492cda9b790"
   },
   "outputs": [
    {
     "data": {
      "text/html": [
       "\n",
       "  <div id=\"df-86126595-e723-4889-a124-20534eb42831\">\n",
       "    <div class=\"colab-df-container\">\n",
       "      <div>\n",
       "<style scoped>\n",
       "    .dataframe tbody tr th:only-of-type {\n",
       "        vertical-align: middle;\n",
       "    }\n",
       "\n",
       "    .dataframe tbody tr th {\n",
       "        vertical-align: top;\n",
       "    }\n",
       "\n",
       "    .dataframe thead th {\n",
       "        text-align: right;\n",
       "    }\n",
       "</style>\n",
       "<table border=\"1\" class=\"dataframe\">\n",
       "  <thead>\n",
       "    <tr style=\"text-align: right;\">\n",
       "      <th></th>\n",
       "      <th>brewery_id</th>\n",
       "      <th>brewery_name</th>\n",
       "      <th>review_time</th>\n",
       "      <th>review_overall</th>\n",
       "      <th>review_aroma</th>\n",
       "      <th>review_appearance</th>\n",
       "      <th>review_profilename</th>\n",
       "      <th>beer_style</th>\n",
       "      <th>review_palate</th>\n",
       "      <th>review_taste</th>\n",
       "      <th>beer_name</th>\n",
       "      <th>beer_abv</th>\n",
       "      <th>beer_beerid</th>\n",
       "      <th>Unique Beer Name</th>\n",
       "    </tr>\n",
       "  </thead>\n",
       "  <tbody>\n",
       "    <tr>\n",
       "      <th>0</th>\n",
       "      <td>10325</td>\n",
       "      <td>Vecchio Birraio</td>\n",
       "      <td>1234817823</td>\n",
       "      <td>1.5</td>\n",
       "      <td>2.0</td>\n",
       "      <td>2.5</td>\n",
       "      <td>stcules</td>\n",
       "      <td>Hefeweizen</td>\n",
       "      <td>1.5</td>\n",
       "      <td>1.5</td>\n",
       "      <td>Sausa Weizen</td>\n",
       "      <td>5.0</td>\n",
       "      <td>47986</td>\n",
       "      <td>Vecchio Birraio Sausa Weizen</td>\n",
       "    </tr>\n",
       "    <tr>\n",
       "      <th>1</th>\n",
       "      <td>10325</td>\n",
       "      <td>Vecchio Birraio</td>\n",
       "      <td>1235915097</td>\n",
       "      <td>3.0</td>\n",
       "      <td>2.5</td>\n",
       "      <td>3.0</td>\n",
       "      <td>stcules</td>\n",
       "      <td>English Strong Ale</td>\n",
       "      <td>3.0</td>\n",
       "      <td>3.0</td>\n",
       "      <td>Red Moon</td>\n",
       "      <td>6.2</td>\n",
       "      <td>48213</td>\n",
       "      <td>Vecchio Birraio Red Moon</td>\n",
       "    </tr>\n",
       "    <tr>\n",
       "      <th>2</th>\n",
       "      <td>10325</td>\n",
       "      <td>Vecchio Birraio</td>\n",
       "      <td>1235916604</td>\n",
       "      <td>3.0</td>\n",
       "      <td>2.5</td>\n",
       "      <td>3.0</td>\n",
       "      <td>stcules</td>\n",
       "      <td>Foreign / Export Stout</td>\n",
       "      <td>3.0</td>\n",
       "      <td>3.0</td>\n",
       "      <td>Black Horse Black Beer</td>\n",
       "      <td>6.5</td>\n",
       "      <td>48215</td>\n",
       "      <td>Vecchio Birraio Black Horse Black Beer</td>\n",
       "    </tr>\n",
       "    <tr>\n",
       "      <th>3</th>\n",
       "      <td>10325</td>\n",
       "      <td>Vecchio Birraio</td>\n",
       "      <td>1234725145</td>\n",
       "      <td>3.0</td>\n",
       "      <td>3.0</td>\n",
       "      <td>3.5</td>\n",
       "      <td>stcules</td>\n",
       "      <td>German Pilsener</td>\n",
       "      <td>2.5</td>\n",
       "      <td>3.0</td>\n",
       "      <td>Sausa Pils</td>\n",
       "      <td>5.0</td>\n",
       "      <td>47969</td>\n",
       "      <td>Vecchio Birraio Sausa Pils</td>\n",
       "    </tr>\n",
       "    <tr>\n",
       "      <th>4</th>\n",
       "      <td>1075</td>\n",
       "      <td>Caldera Brewing Company</td>\n",
       "      <td>1293735206</td>\n",
       "      <td>4.0</td>\n",
       "      <td>4.5</td>\n",
       "      <td>4.0</td>\n",
       "      <td>johnmichaelsen</td>\n",
       "      <td>American Double / Imperial IPA</td>\n",
       "      <td>4.0</td>\n",
       "      <td>4.5</td>\n",
       "      <td>Cauldron DIPA</td>\n",
       "      <td>7.7</td>\n",
       "      <td>64883</td>\n",
       "      <td>Caldera Brewing Company Cauldron DIPA</td>\n",
       "    </tr>\n",
       "  </tbody>\n",
       "</table>\n",
       "</div>\n",
       "      <button class=\"colab-df-convert\" onclick=\"convertToInteractive('df-86126595-e723-4889-a124-20534eb42831')\"\n",
       "              title=\"Convert this dataframe to an interactive table.\"\n",
       "              style=\"display:none;\">\n",
       "        \n",
       "  <svg xmlns=\"http://www.w3.org/2000/svg\" height=\"24px\"viewBox=\"0 0 24 24\"\n",
       "       width=\"24px\">\n",
       "    <path d=\"M0 0h24v24H0V0z\" fill=\"none\"/>\n",
       "    <path d=\"M18.56 5.44l.94 2.06.94-2.06 2.06-.94-2.06-.94-.94-2.06-.94 2.06-2.06.94zm-11 1L8.5 8.5l.94-2.06 2.06-.94-2.06-.94L8.5 2.5l-.94 2.06-2.06.94zm10 10l.94 2.06.94-2.06 2.06-.94-2.06-.94-.94-2.06-.94 2.06-2.06.94z\"/><path d=\"M17.41 7.96l-1.37-1.37c-.4-.4-.92-.59-1.43-.59-.52 0-1.04.2-1.43.59L10.3 9.45l-7.72 7.72c-.78.78-.78 2.05 0 2.83L4 21.41c.39.39.9.59 1.41.59.51 0 1.02-.2 1.41-.59l7.78-7.78 2.81-2.81c.8-.78.8-2.07 0-2.86zM5.41 20L4 18.59l7.72-7.72 1.47 1.35L5.41 20z\"/>\n",
       "  </svg>\n",
       "      </button>\n",
       "      \n",
       "  <style>\n",
       "    .colab-df-container {\n",
       "      display:flex;\n",
       "      flex-wrap:wrap;\n",
       "      gap: 12px;\n",
       "    }\n",
       "\n",
       "    .colab-df-convert {\n",
       "      background-color: #E8F0FE;\n",
       "      border: none;\n",
       "      border-radius: 50%;\n",
       "      cursor: pointer;\n",
       "      display: none;\n",
       "      fill: #1967D2;\n",
       "      height: 32px;\n",
       "      padding: 0 0 0 0;\n",
       "      width: 32px;\n",
       "    }\n",
       "\n",
       "    .colab-df-convert:hover {\n",
       "      background-color: #E2EBFA;\n",
       "      box-shadow: 0px 1px 2px rgba(60, 64, 67, 0.3), 0px 1px 3px 1px rgba(60, 64, 67, 0.15);\n",
       "      fill: #174EA6;\n",
       "    }\n",
       "\n",
       "    [theme=dark] .colab-df-convert {\n",
       "      background-color: #3B4455;\n",
       "      fill: #D2E3FC;\n",
       "    }\n",
       "\n",
       "    [theme=dark] .colab-df-convert:hover {\n",
       "      background-color: #434B5C;\n",
       "      box-shadow: 0px 1px 3px 1px rgba(0, 0, 0, 0.15);\n",
       "      filter: drop-shadow(0px 1px 2px rgba(0, 0, 0, 0.3));\n",
       "      fill: #FFFFFF;\n",
       "    }\n",
       "  </style>\n",
       "\n",
       "      <script>\n",
       "        const buttonEl =\n",
       "          document.querySelector('#df-86126595-e723-4889-a124-20534eb42831 button.colab-df-convert');\n",
       "        buttonEl.style.display =\n",
       "          google.colab.kernel.accessAllowed ? 'block' : 'none';\n",
       "\n",
       "        async function convertToInteractive(key) {\n",
       "          const element = document.querySelector('#df-86126595-e723-4889-a124-20534eb42831');\n",
       "          const dataTable =\n",
       "            await google.colab.kernel.invokeFunction('convertToInteractive',\n",
       "                                                     [key], {});\n",
       "          if (!dataTable) return;\n",
       "\n",
       "          const docLinkHtml = 'Like what you see? Visit the ' +\n",
       "            '<a target=\"_blank\" href=https://colab.research.google.com/notebooks/data_table.ipynb>data table notebook</a>'\n",
       "            + ' to learn more about interactive tables.';\n",
       "          element.innerHTML = '';\n",
       "          dataTable['output_type'] = 'display_data';\n",
       "          await google.colab.output.renderOutput(dataTable, element);\n",
       "          const docLink = document.createElement('div');\n",
       "          docLink.innerHTML = docLinkHtml;\n",
       "          element.appendChild(docLink);\n",
       "        }\n",
       "      </script>\n",
       "    </div>\n",
       "  </div>\n",
       "  "
      ],
      "text/plain": [
       "   brewery_id             brewery_name  review_time  review_overall  \\\n",
       "0       10325          Vecchio Birraio   1234817823             1.5   \n",
       "1       10325          Vecchio Birraio   1235915097             3.0   \n",
       "2       10325          Vecchio Birraio   1235916604             3.0   \n",
       "3       10325          Vecchio Birraio   1234725145             3.0   \n",
       "4        1075  Caldera Brewing Company   1293735206             4.0   \n",
       "\n",
       "   review_aroma  review_appearance review_profilename  \\\n",
       "0           2.0                2.5            stcules   \n",
       "1           2.5                3.0            stcules   \n",
       "2           2.5                3.0            stcules   \n",
       "3           3.0                3.5            stcules   \n",
       "4           4.5                4.0     johnmichaelsen   \n",
       "\n",
       "                       beer_style  review_palate  review_taste  \\\n",
       "0                      Hefeweizen            1.5           1.5   \n",
       "1              English Strong Ale            3.0           3.0   \n",
       "2          Foreign / Export Stout            3.0           3.0   \n",
       "3                 German Pilsener            2.5           3.0   \n",
       "4  American Double / Imperial IPA            4.0           4.5   \n",
       "\n",
       "                beer_name  beer_abv  beer_beerid  \\\n",
       "0            Sausa Weizen       5.0        47986   \n",
       "1                Red Moon       6.2        48213   \n",
       "2  Black Horse Black Beer       6.5        48215   \n",
       "3              Sausa Pils       5.0        47969   \n",
       "4           Cauldron DIPA       7.7        64883   \n",
       "\n",
       "                         Unique Beer Name  \n",
       "0            Vecchio Birraio Sausa Weizen  \n",
       "1                Vecchio Birraio Red Moon  \n",
       "2  Vecchio Birraio Black Horse Black Beer  \n",
       "3              Vecchio Birraio Sausa Pils  \n",
       "4   Caldera Brewing Company Cauldron DIPA  "
      ]
     },
     "execution_count": 14,
     "metadata": {},
     "output_type": "execute_result"
    }
   ],
   "source": [
    "beer_reviews = pd.read_csv(\"gdrive/MyDrive/Recommender System/beer_reviews.csv\", encoding=\"utf-8\")\n",
    "beer_reviews['Unique Beer Name'] = beer_reviews['brewery_name'] + ' ' + beer_reviews['beer_name']\n",
    "beer_reviews.head()"
   ]
  },
  {
   "cell_type": "code",
   "execution_count": 15,
   "metadata": {
    "colab": {
     "base_uri": "https://localhost:8080/",
     "height": 583
    },
    "id": "HE4B4RpkmuKv",
    "outputId": "6b512bca-6a34-4cfd-da68-e4a6c9f562fe"
   },
   "outputs": [
    {
     "data": {
      "text/html": [
       "\n",
       "  <div id=\"df-3ab05239-bcad-460d-bf4d-78b0d4de283d\">\n",
       "    <div class=\"colab-df-container\">\n",
       "      <div>\n",
       "<style scoped>\n",
       "    .dataframe tbody tr th:only-of-type {\n",
       "        vertical-align: middle;\n",
       "    }\n",
       "\n",
       "    .dataframe tbody tr th {\n",
       "        vertical-align: top;\n",
       "    }\n",
       "\n",
       "    .dataframe thead th {\n",
       "        text-align: right;\n",
       "    }\n",
       "</style>\n",
       "<table border=\"1\" class=\"dataframe\">\n",
       "  <thead>\n",
       "    <tr style=\"text-align: right;\">\n",
       "      <th></th>\n",
       "      <th>Name</th>\n",
       "      <th>Style</th>\n",
       "      <th>Brewery</th>\n",
       "      <th>Beer Name (Full)</th>\n",
       "      <th>Description</th>\n",
       "      <th>ABV</th>\n",
       "      <th>Min IBU</th>\n",
       "      <th>Max IBU</th>\n",
       "      <th>Astringency</th>\n",
       "      <th>Body</th>\n",
       "      <th>Alcohol</th>\n",
       "      <th>Bitter</th>\n",
       "      <th>Sweet</th>\n",
       "      <th>Sour</th>\n",
       "      <th>Salty</th>\n",
       "      <th>Fruits</th>\n",
       "      <th>Hoppy</th>\n",
       "      <th>Spices</th>\n",
       "      <th>Malty</th>\n",
       "      <th>review_aroma</th>\n",
       "      <th>review_appearance</th>\n",
       "      <th>review_palate</th>\n",
       "      <th>review_taste</th>\n",
       "      <th>review_overall</th>\n",
       "      <th>number_of_reviews</th>\n",
       "    </tr>\n",
       "  </thead>\n",
       "  <tbody>\n",
       "    <tr>\n",
       "      <th>0</th>\n",
       "      <td>Amber</td>\n",
       "      <td>Altbier</td>\n",
       "      <td>Alaskan Brewing Co.</td>\n",
       "      <td>Alaskan Brewing Co. Alaskan Amber</td>\n",
       "      <td>Notes:Richly malty and long on the palate, wit...</td>\n",
       "      <td>5.3</td>\n",
       "      <td>25</td>\n",
       "      <td>50</td>\n",
       "      <td>13</td>\n",
       "      <td>32</td>\n",
       "      <td>9</td>\n",
       "      <td>47</td>\n",
       "      <td>74</td>\n",
       "      <td>33</td>\n",
       "      <td>0</td>\n",
       "      <td>33</td>\n",
       "      <td>57</td>\n",
       "      <td>8</td>\n",
       "      <td>111</td>\n",
       "      <td>3.498994</td>\n",
       "      <td>3.636821</td>\n",
       "      <td>3.556338</td>\n",
       "      <td>3.643863</td>\n",
       "      <td>3.847082</td>\n",
       "      <td>497</td>\n",
       "    </tr>\n",
       "    <tr>\n",
       "      <th>1</th>\n",
       "      <td>Double Bag</td>\n",
       "      <td>Altbier</td>\n",
       "      <td>Long Trail Brewing Co.</td>\n",
       "      <td>Long Trail Brewing Co. Double Bag</td>\n",
       "      <td>Notes:This malty, full-bodied double alt is al...</td>\n",
       "      <td>7.2</td>\n",
       "      <td>25</td>\n",
       "      <td>50</td>\n",
       "      <td>12</td>\n",
       "      <td>57</td>\n",
       "      <td>18</td>\n",
       "      <td>33</td>\n",
       "      <td>55</td>\n",
       "      <td>16</td>\n",
       "      <td>0</td>\n",
       "      <td>24</td>\n",
       "      <td>35</td>\n",
       "      <td>12</td>\n",
       "      <td>84</td>\n",
       "      <td>3.798337</td>\n",
       "      <td>3.846154</td>\n",
       "      <td>3.904366</td>\n",
       "      <td>4.024948</td>\n",
       "      <td>4.034304</td>\n",
       "      <td>481</td>\n",
       "    </tr>\n",
       "    <tr>\n",
       "      <th>2</th>\n",
       "      <td>Long Trail Ale</td>\n",
       "      <td>Altbier</td>\n",
       "      <td>Long Trail Brewing Co.</td>\n",
       "      <td>Long Trail Brewing Co. Long Trail Ale</td>\n",
       "      <td>Notes:Long Trail Ale is a full-bodied amber al...</td>\n",
       "      <td>5.0</td>\n",
       "      <td>25</td>\n",
       "      <td>50</td>\n",
       "      <td>14</td>\n",
       "      <td>37</td>\n",
       "      <td>6</td>\n",
       "      <td>42</td>\n",
       "      <td>43</td>\n",
       "      <td>11</td>\n",
       "      <td>0</td>\n",
       "      <td>10</td>\n",
       "      <td>54</td>\n",
       "      <td>4</td>\n",
       "      <td>62</td>\n",
       "      <td>3.409814</td>\n",
       "      <td>3.667109</td>\n",
       "      <td>3.600796</td>\n",
       "      <td>3.631300</td>\n",
       "      <td>3.830239</td>\n",
       "      <td>377</td>\n",
       "    </tr>\n",
       "    <tr>\n",
       "      <th>3</th>\n",
       "      <td>Doppelsticke</td>\n",
       "      <td>Altbier</td>\n",
       "      <td>Uerige Obergärige Hausbrauerei GmbH / Zum Uerige</td>\n",
       "      <td>Uerige Obergärige Hausbrauerei GmbH / Zum Ueri...</td>\n",
       "      <td>Notes:</td>\n",
       "      <td>8.5</td>\n",
       "      <td>25</td>\n",
       "      <td>50</td>\n",
       "      <td>13</td>\n",
       "      <td>55</td>\n",
       "      <td>31</td>\n",
       "      <td>47</td>\n",
       "      <td>101</td>\n",
       "      <td>18</td>\n",
       "      <td>1</td>\n",
       "      <td>49</td>\n",
       "      <td>40</td>\n",
       "      <td>16</td>\n",
       "      <td>119</td>\n",
       "      <td>4.148098</td>\n",
       "      <td>4.033967</td>\n",
       "      <td>4.150815</td>\n",
       "      <td>4.205163</td>\n",
       "      <td>4.005435</td>\n",
       "      <td>368</td>\n",
       "    </tr>\n",
       "    <tr>\n",
       "      <th>4</th>\n",
       "      <td>Sleigh'r Dark Doüble Alt Ale</td>\n",
       "      <td>Altbier</td>\n",
       "      <td>Ninkasi Brewing Company</td>\n",
       "      <td>Ninkasi Brewing Company Sleigh'r Dark Doüble A...</td>\n",
       "      <td>Notes:Called 'Dark Double Alt' on the label.Se...</td>\n",
       "      <td>7.2</td>\n",
       "      <td>25</td>\n",
       "      <td>50</td>\n",
       "      <td>25</td>\n",
       "      <td>51</td>\n",
       "      <td>26</td>\n",
       "      <td>44</td>\n",
       "      <td>45</td>\n",
       "      <td>9</td>\n",
       "      <td>1</td>\n",
       "      <td>11</td>\n",
       "      <td>51</td>\n",
       "      <td>20</td>\n",
       "      <td>95</td>\n",
       "      <td>3.625000</td>\n",
       "      <td>3.973958</td>\n",
       "      <td>3.734375</td>\n",
       "      <td>3.765625</td>\n",
       "      <td>3.817708</td>\n",
       "      <td>96</td>\n",
       "    </tr>\n",
       "  </tbody>\n",
       "</table>\n",
       "</div>\n",
       "      <button class=\"colab-df-convert\" onclick=\"convertToInteractive('df-3ab05239-bcad-460d-bf4d-78b0d4de283d')\"\n",
       "              title=\"Convert this dataframe to an interactive table.\"\n",
       "              style=\"display:none;\">\n",
       "        \n",
       "  <svg xmlns=\"http://www.w3.org/2000/svg\" height=\"24px\"viewBox=\"0 0 24 24\"\n",
       "       width=\"24px\">\n",
       "    <path d=\"M0 0h24v24H0V0z\" fill=\"none\"/>\n",
       "    <path d=\"M18.56 5.44l.94 2.06.94-2.06 2.06-.94-2.06-.94-.94-2.06-.94 2.06-2.06.94zm-11 1L8.5 8.5l.94-2.06 2.06-.94-2.06-.94L8.5 2.5l-.94 2.06-2.06.94zm10 10l.94 2.06.94-2.06 2.06-.94-2.06-.94-.94-2.06-.94 2.06-2.06.94z\"/><path d=\"M17.41 7.96l-1.37-1.37c-.4-.4-.92-.59-1.43-.59-.52 0-1.04.2-1.43.59L10.3 9.45l-7.72 7.72c-.78.78-.78 2.05 0 2.83L4 21.41c.39.39.9.59 1.41.59.51 0 1.02-.2 1.41-.59l7.78-7.78 2.81-2.81c.8-.78.8-2.07 0-2.86zM5.41 20L4 18.59l7.72-7.72 1.47 1.35L5.41 20z\"/>\n",
       "  </svg>\n",
       "      </button>\n",
       "      \n",
       "  <style>\n",
       "    .colab-df-container {\n",
       "      display:flex;\n",
       "      flex-wrap:wrap;\n",
       "      gap: 12px;\n",
       "    }\n",
       "\n",
       "    .colab-df-convert {\n",
       "      background-color: #E8F0FE;\n",
       "      border: none;\n",
       "      border-radius: 50%;\n",
       "      cursor: pointer;\n",
       "      display: none;\n",
       "      fill: #1967D2;\n",
       "      height: 32px;\n",
       "      padding: 0 0 0 0;\n",
       "      width: 32px;\n",
       "    }\n",
       "\n",
       "    .colab-df-convert:hover {\n",
       "      background-color: #E2EBFA;\n",
       "      box-shadow: 0px 1px 2px rgba(60, 64, 67, 0.3), 0px 1px 3px 1px rgba(60, 64, 67, 0.15);\n",
       "      fill: #174EA6;\n",
       "    }\n",
       "\n",
       "    [theme=dark] .colab-df-convert {\n",
       "      background-color: #3B4455;\n",
       "      fill: #D2E3FC;\n",
       "    }\n",
       "\n",
       "    [theme=dark] .colab-df-convert:hover {\n",
       "      background-color: #434B5C;\n",
       "      box-shadow: 0px 1px 3px 1px rgba(0, 0, 0, 0.15);\n",
       "      filter: drop-shadow(0px 1px 2px rgba(0, 0, 0, 0.3));\n",
       "      fill: #FFFFFF;\n",
       "    }\n",
       "  </style>\n",
       "\n",
       "      <script>\n",
       "        const buttonEl =\n",
       "          document.querySelector('#df-3ab05239-bcad-460d-bf4d-78b0d4de283d button.colab-df-convert');\n",
       "        buttonEl.style.display =\n",
       "          google.colab.kernel.accessAllowed ? 'block' : 'none';\n",
       "\n",
       "        async function convertToInteractive(key) {\n",
       "          const element = document.querySelector('#df-3ab05239-bcad-460d-bf4d-78b0d4de283d');\n",
       "          const dataTable =\n",
       "            await google.colab.kernel.invokeFunction('convertToInteractive',\n",
       "                                                     [key], {});\n",
       "          if (!dataTable) return;\n",
       "\n",
       "          const docLinkHtml = 'Like what you see? Visit the ' +\n",
       "            '<a target=\"_blank\" href=https://colab.research.google.com/notebooks/data_table.ipynb>data table notebook</a>'\n",
       "            + ' to learn more about interactive tables.';\n",
       "          element.innerHTML = '';\n",
       "          dataTable['output_type'] = 'display_data';\n",
       "          await google.colab.output.renderOutput(dataTable, element);\n",
       "          const docLink = document.createElement('div');\n",
       "          docLink.innerHTML = docLinkHtml;\n",
       "          element.appendChild(docLink);\n",
       "        }\n",
       "      </script>\n",
       "    </div>\n",
       "  </div>\n",
       "  "
      ],
      "text/plain": [
       "                           Name    Style  \\\n",
       "0                         Amber  Altbier   \n",
       "1                    Double Bag  Altbier   \n",
       "2                Long Trail Ale  Altbier   \n",
       "3                  Doppelsticke  Altbier   \n",
       "4  Sleigh'r Dark Doüble Alt Ale  Altbier   \n",
       "\n",
       "                                            Brewery  \\\n",
       "0                               Alaskan Brewing Co.   \n",
       "1                            Long Trail Brewing Co.   \n",
       "2                            Long Trail Brewing Co.   \n",
       "3  Uerige Obergärige Hausbrauerei GmbH / Zum Uerige   \n",
       "4                           Ninkasi Brewing Company   \n",
       "\n",
       "                                    Beer Name (Full)  \\\n",
       "0                  Alaskan Brewing Co. Alaskan Amber   \n",
       "1                  Long Trail Brewing Co. Double Bag   \n",
       "2              Long Trail Brewing Co. Long Trail Ale   \n",
       "3  Uerige Obergärige Hausbrauerei GmbH / Zum Ueri...   \n",
       "4  Ninkasi Brewing Company Sleigh'r Dark Doüble A...   \n",
       "\n",
       "                                         Description  ABV  Min IBU  Max IBU  \\\n",
       "0  Notes:Richly malty and long on the palate, wit...  5.3       25       50   \n",
       "1  Notes:This malty, full-bodied double alt is al...  7.2       25       50   \n",
       "2  Notes:Long Trail Ale is a full-bodied amber al...  5.0       25       50   \n",
       "3                                             Notes:  8.5       25       50   \n",
       "4  Notes:Called 'Dark Double Alt' on the label.Se...  7.2       25       50   \n",
       "\n",
       "   Astringency  Body  Alcohol  Bitter  Sweet  Sour  Salty  Fruits  Hoppy  \\\n",
       "0           13    32        9      47     74    33      0      33     57   \n",
       "1           12    57       18      33     55    16      0      24     35   \n",
       "2           14    37        6      42     43    11      0      10     54   \n",
       "3           13    55       31      47    101    18      1      49     40   \n",
       "4           25    51       26      44     45     9      1      11     51   \n",
       "\n",
       "   Spices  Malty  review_aroma  review_appearance  review_palate  \\\n",
       "0       8    111      3.498994           3.636821       3.556338   \n",
       "1      12     84      3.798337           3.846154       3.904366   \n",
       "2       4     62      3.409814           3.667109       3.600796   \n",
       "3      16    119      4.148098           4.033967       4.150815   \n",
       "4      20     95      3.625000           3.973958       3.734375   \n",
       "\n",
       "   review_taste  review_overall  number_of_reviews  \n",
       "0      3.643863        3.847082                497  \n",
       "1      4.024948        4.034304                481  \n",
       "2      3.631300        3.830239                377  \n",
       "3      4.205163        4.005435                368  \n",
       "4      3.765625        3.817708                 96  "
      ]
     },
     "execution_count": 15,
     "metadata": {},
     "output_type": "execute_result"
    }
   ],
   "source": [
    "beer_profile = pd.read_csv(\"gdrive/MyDrive/Recommender System/beer_profile_and_ratings.csv\", encoding=\"utf-8\")\n",
    "beer_profile.head()"
   ]
  },
  {
   "cell_type": "code",
   "execution_count": 16,
   "metadata": {
    "id": "fKYRbBwyp5ze"
   },
   "outputs": [],
   "source": [
    "drop_cols = ['brewery_id', 'brewery_name',  'beer_name', 'beer_abv', 'beer_beerid']\n",
    "beer_reviews.drop(columns = drop_cols, inplace = True)"
   ]
  },
  {
   "cell_type": "code",
   "execution_count": 17,
   "metadata": {
    "id": "JQCsXHJmrBva"
   },
   "outputs": [],
   "source": [
    "drop_cols = ['Name', 'Style', 'Brewery', 'Description',\n",
    "       'Min IBU', 'Max IBU', 'Alcohol', 'review_aroma', 'review_appearance', 'review_palate', 'review_taste',\n",
    "       'review_overall', 'number_of_reviews']\n",
    "beer_profile.drop(columns = drop_cols, inplace = True)"
   ]
  },
  {
   "cell_type": "code",
   "execution_count": 18,
   "metadata": {
    "id": "huWJZHbJoqyI"
   },
   "outputs": [],
   "source": [
    "df_beer = pd.merge(beer_reviews, beer_profile, left_on = 'Unique Beer Name', right_on = 'Beer Name (Full)', how = 'inner')"
   ]
  },
  {
   "cell_type": "code",
   "execution_count": 19,
   "metadata": {
    "id": "eojIyiiftdb8"
   },
   "outputs": [],
   "source": [
    "need_scaling = df_beer.drop(columns = ['review_time', 'review_profilename', 'beer_style', 'Unique Beer Name', 'Beer Name (Full)'])\n",
    "informational = df_beer[['review_time', 'review_profilename', 'beer_style', 'Unique Beer Name', 'Beer Name (Full)']]"
   ]
  },
  {
   "cell_type": "code",
   "execution_count": 20,
   "metadata": {
    "colab": {
     "base_uri": "https://localhost:8080/"
    },
    "id": "VNHAaN9wry61",
    "outputId": "b644f37c-2d39-4c41-b64e-9c601a4677dd"
   },
   "outputs": [
    {
     "name": "stderr",
     "output_type": "stream",
     "text": [
      "/usr/local/lib/python3.7/dist-packages/pandas/core/frame.py:5047: SettingWithCopyWarning: \n",
      "A value is trying to be set on a copy of a slice from a DataFrame\n",
      "\n",
      "See the caveats in the documentation: https://pandas.pydata.org/pandas-docs/stable/user_guide/indexing.html#returning-a-view-versus-a-copy\n",
      "  errors=errors,\n"
     ]
    }
   ],
   "source": [
    "informational.rename(columns = {'Beer Name (Full)': 'Beer Name'}, inplace = True)"
   ]
  },
  {
   "cell_type": "code",
   "execution_count": 21,
   "metadata": {
    "id": "Vy07-YdQtBm0"
   },
   "outputs": [],
   "source": [
    "# scaler = StandardScaler()\n",
    "scaler = MinMaxScaler()\n",
    "scaler.fit(need_scaling)\n",
    "need_scaling = pd.DataFrame(scaler.transform(need_scaling), columns = need_scaling.columns)"
   ]
  },
  {
   "cell_type": "code",
   "execution_count": 22,
   "metadata": {
    "colab": {
     "base_uri": "https://localhost:8080/",
     "height": 350
    },
    "id": "4hqbadWVya-I",
    "outputId": "8b915655-49ef-4516-c1d9-7ec7bad39303"
   },
   "outputs": [
    {
     "data": {
      "text/html": [
       "\n",
       "  <div id=\"df-56b55825-df87-4c77-a01e-f7ec72bf8fb7\">\n",
       "    <div class=\"colab-df-container\">\n",
       "      <div>\n",
       "<style scoped>\n",
       "    .dataframe tbody tr th:only-of-type {\n",
       "        vertical-align: middle;\n",
       "    }\n",
       "\n",
       "    .dataframe tbody tr th {\n",
       "        vertical-align: top;\n",
       "    }\n",
       "\n",
       "    .dataframe thead th {\n",
       "        text-align: right;\n",
       "    }\n",
       "</style>\n",
       "<table border=\"1\" class=\"dataframe\">\n",
       "  <thead>\n",
       "    <tr style=\"text-align: right;\">\n",
       "      <th></th>\n",
       "      <th>review_time</th>\n",
       "      <th>review_profilename</th>\n",
       "      <th>beer_style</th>\n",
       "      <th>Unique Beer Name</th>\n",
       "      <th>Beer Name</th>\n",
       "      <th>review_overall</th>\n",
       "      <th>review_aroma</th>\n",
       "      <th>review_appearance</th>\n",
       "      <th>review_palate</th>\n",
       "      <th>review_taste</th>\n",
       "      <th>ABV</th>\n",
       "      <th>Astringency</th>\n",
       "      <th>Body</th>\n",
       "      <th>Bitter</th>\n",
       "      <th>Sweet</th>\n",
       "      <th>Sour</th>\n",
       "      <th>Salty</th>\n",
       "      <th>Fruits</th>\n",
       "      <th>Hoppy</th>\n",
       "      <th>Spices</th>\n",
       "      <th>Malty</th>\n",
       "    </tr>\n",
       "  </thead>\n",
       "  <tbody>\n",
       "    <tr>\n",
       "      <th>0</th>\n",
       "      <td>1010963392</td>\n",
       "      <td>fodeeoz</td>\n",
       "      <td>Light Lager</td>\n",
       "      <td>Amstel Brouwerij B. V. Amstel Light</td>\n",
       "      <td>Amstel Brouwerij B. V. Amstel Light</td>\n",
       "      <td>0.500</td>\n",
       "      <td>0.25</td>\n",
       "      <td>0.5</td>\n",
       "      <td>0.375</td>\n",
       "      <td>0.375</td>\n",
       "      <td>0.125</td>\n",
       "      <td>0.259259</td>\n",
       "      <td>0.148571</td>\n",
       "      <td>0.24</td>\n",
       "      <td>0.079848</td>\n",
       "      <td>0.038732</td>\n",
       "      <td>0.083333</td>\n",
       "      <td>0.022857</td>\n",
       "      <td>0.377907</td>\n",
       "      <td>0.032609</td>\n",
       "      <td>0.297071</td>\n",
       "    </tr>\n",
       "    <tr>\n",
       "      <th>1</th>\n",
       "      <td>1010861086</td>\n",
       "      <td>jdhilt</td>\n",
       "      <td>Light Lager</td>\n",
       "      <td>Amstel Brouwerij B. V. Amstel Light</td>\n",
       "      <td>Amstel Brouwerij B. V. Amstel Light</td>\n",
       "      <td>0.375</td>\n",
       "      <td>0.50</td>\n",
       "      <td>0.5</td>\n",
       "      <td>0.250</td>\n",
       "      <td>0.250</td>\n",
       "      <td>0.125</td>\n",
       "      <td>0.259259</td>\n",
       "      <td>0.148571</td>\n",
       "      <td>0.24</td>\n",
       "      <td>0.079848</td>\n",
       "      <td>0.038732</td>\n",
       "      <td>0.083333</td>\n",
       "      <td>0.022857</td>\n",
       "      <td>0.377907</td>\n",
       "      <td>0.032609</td>\n",
       "      <td>0.297071</td>\n",
       "    </tr>\n",
       "  </tbody>\n",
       "</table>\n",
       "</div>\n",
       "      <button class=\"colab-df-convert\" onclick=\"convertToInteractive('df-56b55825-df87-4c77-a01e-f7ec72bf8fb7')\"\n",
       "              title=\"Convert this dataframe to an interactive table.\"\n",
       "              style=\"display:none;\">\n",
       "        \n",
       "  <svg xmlns=\"http://www.w3.org/2000/svg\" height=\"24px\"viewBox=\"0 0 24 24\"\n",
       "       width=\"24px\">\n",
       "    <path d=\"M0 0h24v24H0V0z\" fill=\"none\"/>\n",
       "    <path d=\"M18.56 5.44l.94 2.06.94-2.06 2.06-.94-2.06-.94-.94-2.06-.94 2.06-2.06.94zm-11 1L8.5 8.5l.94-2.06 2.06-.94-2.06-.94L8.5 2.5l-.94 2.06-2.06.94zm10 10l.94 2.06.94-2.06 2.06-.94-2.06-.94-.94-2.06-.94 2.06-2.06.94z\"/><path d=\"M17.41 7.96l-1.37-1.37c-.4-.4-.92-.59-1.43-.59-.52 0-1.04.2-1.43.59L10.3 9.45l-7.72 7.72c-.78.78-.78 2.05 0 2.83L4 21.41c.39.39.9.59 1.41.59.51 0 1.02-.2 1.41-.59l7.78-7.78 2.81-2.81c.8-.78.8-2.07 0-2.86zM5.41 20L4 18.59l7.72-7.72 1.47 1.35L5.41 20z\"/>\n",
       "  </svg>\n",
       "      </button>\n",
       "      \n",
       "  <style>\n",
       "    .colab-df-container {\n",
       "      display:flex;\n",
       "      flex-wrap:wrap;\n",
       "      gap: 12px;\n",
       "    }\n",
       "\n",
       "    .colab-df-convert {\n",
       "      background-color: #E8F0FE;\n",
       "      border: none;\n",
       "      border-radius: 50%;\n",
       "      cursor: pointer;\n",
       "      display: none;\n",
       "      fill: #1967D2;\n",
       "      height: 32px;\n",
       "      padding: 0 0 0 0;\n",
       "      width: 32px;\n",
       "    }\n",
       "\n",
       "    .colab-df-convert:hover {\n",
       "      background-color: #E2EBFA;\n",
       "      box-shadow: 0px 1px 2px rgba(60, 64, 67, 0.3), 0px 1px 3px 1px rgba(60, 64, 67, 0.15);\n",
       "      fill: #174EA6;\n",
       "    }\n",
       "\n",
       "    [theme=dark] .colab-df-convert {\n",
       "      background-color: #3B4455;\n",
       "      fill: #D2E3FC;\n",
       "    }\n",
       "\n",
       "    [theme=dark] .colab-df-convert:hover {\n",
       "      background-color: #434B5C;\n",
       "      box-shadow: 0px 1px 3px 1px rgba(0, 0, 0, 0.15);\n",
       "      filter: drop-shadow(0px 1px 2px rgba(0, 0, 0, 0.3));\n",
       "      fill: #FFFFFF;\n",
       "    }\n",
       "  </style>\n",
       "\n",
       "      <script>\n",
       "        const buttonEl =\n",
       "          document.querySelector('#df-56b55825-df87-4c77-a01e-f7ec72bf8fb7 button.colab-df-convert');\n",
       "        buttonEl.style.display =\n",
       "          google.colab.kernel.accessAllowed ? 'block' : 'none';\n",
       "\n",
       "        async function convertToInteractive(key) {\n",
       "          const element = document.querySelector('#df-56b55825-df87-4c77-a01e-f7ec72bf8fb7');\n",
       "          const dataTable =\n",
       "            await google.colab.kernel.invokeFunction('convertToInteractive',\n",
       "                                                     [key], {});\n",
       "          if (!dataTable) return;\n",
       "\n",
       "          const docLinkHtml = 'Like what you see? Visit the ' +\n",
       "            '<a target=\"_blank\" href=https://colab.research.google.com/notebooks/data_table.ipynb>data table notebook</a>'\n",
       "            + ' to learn more about interactive tables.';\n",
       "          element.innerHTML = '';\n",
       "          dataTable['output_type'] = 'display_data';\n",
       "          await google.colab.output.renderOutput(dataTable, element);\n",
       "          const docLink = document.createElement('div');\n",
       "          docLink.innerHTML = docLinkHtml;\n",
       "          element.appendChild(docLink);\n",
       "        }\n",
       "      </script>\n",
       "    </div>\n",
       "  </div>\n",
       "  "
      ],
      "text/plain": [
       "   review_time review_profilename   beer_style  \\\n",
       "0   1010963392            fodeeoz  Light Lager   \n",
       "1   1010861086             jdhilt  Light Lager   \n",
       "\n",
       "                      Unique Beer Name                            Beer Name  \\\n",
       "0  Amstel Brouwerij B. V. Amstel Light  Amstel Brouwerij B. V. Amstel Light   \n",
       "1  Amstel Brouwerij B. V. Amstel Light  Amstel Brouwerij B. V. Amstel Light   \n",
       "\n",
       "   review_overall  review_aroma  review_appearance  review_palate  \\\n",
       "0           0.500          0.25                0.5          0.375   \n",
       "1           0.375          0.50                0.5          0.250   \n",
       "\n",
       "   review_taste    ABV  Astringency      Body  Bitter     Sweet      Sour  \\\n",
       "0         0.375  0.125     0.259259  0.148571    0.24  0.079848  0.038732   \n",
       "1         0.250  0.125     0.259259  0.148571    0.24  0.079848  0.038732   \n",
       "\n",
       "      Salty    Fruits     Hoppy    Spices     Malty  \n",
       "0  0.083333  0.022857  0.377907  0.032609  0.297071  \n",
       "1  0.083333  0.022857  0.377907  0.032609  0.297071  "
      ]
     },
     "execution_count": 22,
     "metadata": {},
     "output_type": "execute_result"
    }
   ],
   "source": [
    "df = pd.concat([informational, need_scaling], axis = 1)\n",
    "df[:2]"
   ]
  },
  {
   "cell_type": "markdown",
   "metadata": {
    "id": "mMLtiG5vsUn5"
   },
   "source": [
    "# Hybrid Model"
   ]
  },
  {
   "cell_type": "markdown",
   "metadata": {
    "id": "hpl9P1tZu4rc"
   },
   "source": [
    "Conceptualize the hybrid model"
   ]
  },
  {
   "cell_type": "code",
   "execution_count": 23,
   "metadata": {
    "id": "nmhXcV2HumYj"
   },
   "outputs": [],
   "source": [
    "def hybrid(user, beer, n_recs, df, svd_model):\n",
    "\n",
    "    values = ['review_aroma',\t'review_appearance',\t'review_palate',\t'review_taste', 'ABV', 'Astringency', 'Body', 'Bitter', 'Sweet', 'Sour', 'Salty', 'Fruits', 'Hoppy', 'Spices', 'Malty']\n",
    "\n",
    "    target_beer_vector = df.loc[(user, beer)][values]\n",
    "\n",
    "    # list of top 50 similar beers\n",
    "    similar = []\n",
    "    for beer_name in df[\"Beer Name\"].unique():\n",
    "        beer_vectors = df.loc[df[\"Beer Name\"] == beer_name][values]\n",
    "        cos_sim = list()\n",
    "        for beer_vector in np.array(beer_vectors):\n",
    "            cos_sim.append(1 - spatial.distance.cosine(beer_vector, target_beer_vector))\n",
    "        similar.append((beer_name, stats.mean(cos_sim)))\n",
    "\n",
    "    # sort in decreasing order\n",
    "    similar = sorted(similar, key = lambda x: x[1], reverse = True)\n",
    "    sim = similar[1:50]\n",
    "\n",
    "    # get metadata for each of 50 similar beers\n",
    "    beer_idx = [i[0] for i in sim]\n",
    "\n",
    "    # we are trying to make a list of the top 50 similar beers and its metadata\n",
    "    # there are multiple reviews for a single beer by different users, so we will average review_overall for each similar beer --> groupby and average\n",
    "    beers = pd.DataFrame()\n",
    "    for idx in beer_idx:\n",
    "        average_rating = df[df['Beer Name'] == idx].groupby('Beer Name').mean()[['review_overall']]\n",
    "        beers = pd.concat([beers, average_rating])\n",
    "  \n",
    "    beers = beers.reset_index()\n",
    "\n",
    "    # create an \"est\" column and apply SVD.predict() to each book\n",
    "    # predict using the svd_model\n",
    "    beers['est'] = beers.apply(lambda x: svd_model.predict(user, x['Beer Name'], x['review_overall']).est, axis = 1)\n",
    "\n",
    "    # sort predictions in decreasing order\n",
    "    beers = beers.sort_values(by = 'est', ascending = False)\n",
    "\n",
    "    # return top n recommendations\n",
    "    return beers[:n_recs]"
   ]
  },
  {
   "cell_type": "code",
   "execution_count": 24,
   "metadata": {
    "id": "YmR3Ncv-btB6"
   },
   "outputs": [],
   "source": [
    "df.set_index(['review_profilename', 'Unique Beer Name'], inplace = True)"
   ]
  },
  {
   "cell_type": "code",
   "execution_count": 37,
   "metadata": {
    "id": "VtL-VaMPgZ9J"
   },
   "outputs": [],
   "source": [
    "# # creating new temporary dataframe with only profilename, beer name, and review overall to be transformed into a surprise dataset\n",
    "# temp_df = pd.DataFrame({\"review_profilename\" : df.index.get_level_values(0), \"Beer Name\" : df[\"Beer Name\"], \"review_overall\" : df[\"review_overall\"]})\n",
    "# temp_df.head()"
   ]
  },
  {
   "cell_type": "code",
   "execution_count": 38,
   "metadata": {
    "id": "iFpCL8DAQkhM"
   },
   "outputs": [],
   "source": [
    "# # collaborative filtering\n",
    "# reader = Reader()\n",
    "# data = Dataset.load_from_df(temp_df[['review_profilename', 'Beer Name', 'review_overall']], reader)\n",
    "\n",
    "# # split data into train test\n",
    "# trainset, testset = train_test_split(data, test_size=0.3, random_state=10)\n",
    "\n",
    "# # train\n",
    "# svd = SVD()\n",
    "# svd.fit(trainset)\n",
    "\n",
    "# # run the trained model against the testset\n",
    "# test_pred = svd.test(testset)\n",
    "\n",
    "# # get RMSE\n",
    "# accuracy.rmse(test_pred, verbose=True)"
   ]
  },
  {
   "cell_type": "code",
   "execution_count": 39,
   "metadata": {
    "id": "6X7n0JZMk-Ym"
   },
   "outputs": [],
   "source": [
    "# # generate recommendations\n",
    "# user_id = temp_df['review_profilename'].values[0]\n",
    "# beer_id = temp_df['Beer Name'].values[0]\n",
    "# n_recs = 5"
   ]
  },
  {
   "cell_type": "code",
   "execution_count": 40,
   "metadata": {
    "id": "1tfeEed3Xx67"
   },
   "outputs": [],
   "source": [
    "# hybrid(user_id, beer_id, n_recs, df, svd)"
   ]
  },
  {
   "cell_type": "markdown",
   "metadata": {
    "id": "_o_9Eii2hDl7"
   },
   "source": [
    "#Hybrid Testing"
   ]
  },
  {
   "cell_type": "markdown",
   "metadata": {
    "id": "RCFpk-oDjSyA"
   },
   "source": [
    "We need to select users to isolate for our test set. The criteria for these users is that they should have reviewed enough beers that there is some likelihood that they would have tried something that has been recommended to them. Starting with binary cumulative gain, we will assess the performance of our recommendation system by determining if the recommended beers have been tried by the user or exceeded a threshold."
   ]
  },
  {
   "cell_type": "markdown",
   "metadata": {
    "id": "fjQbQwQHlFID"
   },
   "source": [
    "- recommend x beers to 3 users\n",
    "- traverse the recommended beer list, see how many have been rated highly\n",
    "- compare the accuracy ratings of the three test users\n",
    "- determine threshold for positive review by finding percentiles of ratings (top 1/4 review would be considered a successful recommendation)"
   ]
  },
  {
   "cell_type": "markdown",
   "metadata": {
    "id": "QhLjDYnulV4J"
   },
   "source": [
    "## Choosing users for our test set"
   ]
  },
  {
   "cell_type": "code",
   "execution_count": 29,
   "metadata": {
    "colab": {
     "base_uri": "https://localhost:8080/"
    },
    "id": "upRrdWsNigHi",
    "outputId": "2c8ddea4-2fb2-4eb8-d282-13c7afe4571a"
   },
   "outputs": [
    {
     "data": {
      "text/plain": [
       "review_profilename\n",
       "BuckeyeNation     1505\n",
       "mikesgroove       1422\n",
       "northyorksammy    1348\n",
       "brentk56          1225\n",
       "BEERchitect       1201\n",
       "                  ... \n",
       "cheapdark            1\n",
       "cheath               1\n",
       "chefguy              1\n",
       "chefmonty            1\n",
       "zzajjber             1\n",
       "Name: Number of Reviews, Length: 26631, dtype: int64"
      ]
     },
     "execution_count": 29,
     "metadata": {},
     "output_type": "execute_result"
    }
   ],
   "source": [
    "freq_reviews = df.groupby('review_profilename').count().sort_values(by=['review_time'], ascending = False)\n",
    "freq_reviews.rename(columns={'review_time': 'Number of Reviews'}, inplace = True)\n",
    "freq_reviews['Number of Reviews']"
   ]
  },
  {
   "cell_type": "markdown",
   "metadata": {
    "id": "n9R-Vx8unq-q"
   },
   "source": [
    "The ten users with the most beer reviews"
   ]
  },
  {
   "cell_type": "code",
   "execution_count": 30,
   "metadata": {
    "id": "wOp3N3Xvmmq2"
   },
   "outputs": [],
   "source": [
    "test_users = freq_reviews.index[:10]"
   ]
  },
  {
   "cell_type": "markdown",
   "metadata": {
    "id": "DOIf_AXLrmzE"
   },
   "source": [
    "##Find threshold for what makes a good rating"
   ]
  },
  {
   "cell_type": "code",
   "execution_count": 31,
   "metadata": {
    "colab": {
     "base_uri": "https://localhost:8080/"
    },
    "id": "FK0Yys4Ow-zO",
    "outputId": "81a65e71-74dd-43bd-db02-f4c97bcd2d53"
   },
   "outputs": [
    {
     "data": {
      "text/plain": [
       "219603"
      ]
     },
     "execution_count": 31,
     "metadata": {},
     "output_type": "execute_result"
    }
   ],
   "source": [
    "len(df.loc[df.review_overall >= .875])"
   ]
  },
  {
   "cell_type": "code",
   "execution_count": 32,
   "metadata": {
    "id": "h3DNlgUksNAQ"
   },
   "outputs": [],
   "source": [
    "THRESHOLD = 0.875"
   ]
  },
  {
   "cell_type": "markdown",
   "metadata": {
    "id": "9oTy5lYLxVg3"
   },
   "source": [
    "Only 219,603 / 744,251 reviews (29.5%) were given a score of .875 or greater, so this will be our threshold for a successful recommendation"
   ]
  },
  {
   "cell_type": "markdown",
   "metadata": {
    "id": "-FDqzfWgnccn"
   },
   "source": [
    "## Remove all ratings by the test users from the training set except for the beer they rated the highest"
   ]
  },
  {
   "cell_type": "code",
   "execution_count": 33,
   "metadata": {
    "id": "I7hkULaznAjl"
   },
   "outputs": [],
   "source": [
    "def create_train_test_split():\n",
    "    # train_set is copy of df --> df has review_profilename and Unique Beer Name as indicies\n",
    "    # we are preserving user information by reseting indicies, so when we .loc[] we still have access to user and beer info\n",
    "    train_set = df.copy().reset_index()\n",
    "    test_parameters = []\n",
    "    test_set = pd.DataFrame(columns = train_set.columns)\n",
    "\n",
    "\n",
    "    for user in test_users: \n",
    "        # all reviews for a the test user\n",
    "        user_reviews = train_set.loc[train_set.review_profilename == user]\n",
    "\n",
    "        # sorted reviews\n",
    "        user_reviews = user_reviews.sort_values(by = 'review_overall', ascending = False)\n",
    "\n",
    "        # store highest reviewed beer\n",
    "        highest_reviewed_beer = user_reviews.iloc[0]\n",
    "        test_parameters.append((user, highest_reviewed_beer[\"Beer Name\"]))\n",
    "\n",
    "        # concatenate the removed user-beer pairs to train set\n",
    "        test_set = pd.concat([test_set, user_reviews.iloc[1:]])\n",
    "\n",
    "        # remove all beers from training set, add back in highest_reviewed_beer\n",
    "        train_set.drop(user_reviews.iloc[1:].index, axis = 0, inplace = True)\n",
    "\n",
    "    return train_set, test_set, test_parameters"
   ]
  },
  {
   "cell_type": "code",
   "execution_count": 34,
   "metadata": {
    "id": "1KMKV_jS0yXM"
   },
   "outputs": [],
   "source": [
    "train_set, test_set, test_parameters = create_train_test_split()"
   ]
  },
  {
   "cell_type": "code",
   "execution_count": 36,
   "metadata": {
    "colab": {
     "base_uri": "https://localhost:8080/"
    },
    "id": "mvVNQfjXhIG9",
    "outputId": "535056ea-37a2-4fd6-a65e-e7cbc85049c7"
   },
   "outputs": [
    {
     "data": {
      "text/plain": [
       "<surprise.prediction_algorithms.matrix_factorization.SVD at 0x7f5e12d7c790>"
      ]
     },
     "execution_count": 36,
     "metadata": {},
     "output_type": "execute_result"
    }
   ],
   "source": [
    "# creating and training SVD on train_set\n",
    "reader = Reader()\n",
    "test_data = Dataset.load_from_df(test_set[['review_profilename', 'Beer Name', 'review_overall']], reader)\n",
    "train_data = Dataset.load_from_df(train_set[['review_profilename', 'Beer Name', 'review_overall']], reader)\n",
    "\n",
    "# NEED TO TURN OUR TRAIN_SET INTO surprise TRAINSET TYPE\n",
    "surprise_train_set = train_data.build_full_trainset()\n",
    "\n",
    "# train\n",
    "svd = SVD()\n",
    "svd.fit(surprise_train_set)\n",
    "\n",
    "# NEED TO FIGURE OUT IF SVD USES USER INFORMATION FOR CALCULATIONS --> can this model perform well without significant historical review data"
   ]
  },
  {
   "cell_type": "code",
   "execution_count": 41,
   "metadata": {
    "colab": {
     "base_uri": "https://localhost:8080/"
    },
    "id": "xO5WrTNXqQlM",
    "outputId": "41c37569-675f-4122-9a25-38ebbac1cc8c"
   },
   "outputs": [
    {
     "name": "stdout",
     "output_type": "stream",
     "text": [
      "('BuckeyeNation', 'Belhaven Brewery Company Ltd. Wee Heavy')\n"
     ]
    }
   ],
   "source": [
    "print(test_parameters[0])"
   ]
  },
  {
   "cell_type": "code",
   "execution_count": 42,
   "metadata": {
    "id": "7Y2h0xNfuoic"
   },
   "outputs": [],
   "source": [
    "# setting train_set index to be compatible with hybrid()\n",
    "train_set.set_index([\"review_profilename\", \"Unique Beer Name\"], inplace = True)\n",
    "# test_set.set_index([\"review_profilename\", \"Unique Beer Name\"], inplace = True)"
   ]
  },
  {
   "cell_type": "code",
   "execution_count": 61,
   "metadata": {
    "id": "7arKiQsZAaiM"
   },
   "outputs": [],
   "source": [
    "n_recs = 10\n",
    "\n",
    "def evaluate():\n",
    "    rec_dict = {}\n",
    "    # iterate through test users, get X recommendations for their only beer review, compare recommendations to actual ratings stored in test_set using DCG\n",
    "    for user, beer in test_parameters[0:5]:\n",
    "        recommendations = hybrid(user, beer, n_recs, train_set, svd)\n",
    "        rec_dict[user] = list(recommendations[\"Beer Name\"])\n",
    "\n",
    "    return rec_dict"
   ]
  },
  {
   "cell_type": "code",
   "execution_count": null,
   "metadata": {
    "colab": {
     "base_uri": "https://localhost:8080/"
    },
    "id": "SLBgeu0QNawW",
    "outputId": "7cef729e-7c25-49ed-bb30-e5fcf112b4af"
   },
   "outputs": [
    {
     "name": "stderr",
     "output_type": "stream",
     "text": [
      "/usr/local/lib/python3.7/dist-packages/ipykernel_launcher.py:5: PerformanceWarning: indexing past lexsort depth may impact performance.\n",
      "  \"\"\"\n"
     ]
    }
   ],
   "source": [
    "# pass test_parameters in as parameter !!\n",
    "recs = evaluate()"
   ]
  },
  {
   "cell_type": "code",
   "execution_count": 58,
   "metadata": {
    "id": "JNAJGDC3z5wQ"
   },
   "outputs": [],
   "source": [
    "def calc_score(metric, rec_dict, n_recs, test):\n",
    "    # test is a dataframe consisting of the user reviews to be used to determine relevancy\n",
    "    score = 0\n",
    "    index = 1\n",
    "    num_rel = 0\n",
    "    for user, recs in rec_dict.items():\n",
    "        \n",
    "        for rec in recs:\n",
    "\n",
    "            # we need to include Raise And Catch Exception when beer is not in test set\n",
    "            row = test.loc[(test.review_profilename == user) & (test[\"Unique Beer Name\"] == rec)]\n",
    "\n",
    "            # if rec in test_set and above threshold\n",
    "            if len(row) > 0:\n",
    "                if row[\"review_overall\"].iloc[0] >= THRESHOLD:\n",
    "                    num_rel += 1\n",
    "\n",
    "                    if metric == \"CG\":\n",
    "                        score += 1\n",
    "\n",
    "                    elif metric in [\"DCG\", 'NDCG']:\n",
    "                        score += (1 / math.log2(index + 1))\n",
    "\n",
    "                    elif metric == \"MAP\":\n",
    "                        score += num_rel / index\n",
    "\n",
    "                    else:\n",
    "                        raise Exception(\"Metric type provided is not valid.\")\n",
    "\n",
    "            if metric == 'NDCG':\n",
    "                ideal = 0\n",
    "                for num in range(num_rel):\n",
    "                    # num starts at 0, so we add two to mimic the starting index of 1\n",
    "                    ideal += (1 / math.log2(num + 2))\n",
    "                score = score / ideal\n",
    "\n",
    "            if metric == \"MAP\":\n",
    "                score = score / n_recs\n",
    "\n",
    "            index += 1\n",
    "            print(f\"{user} : {score}\")"
   ]
  },
  {
   "cell_type": "code",
   "execution_count": 56,
   "metadata": {
    "colab": {
     "base_uri": "https://localhost:8080/"
    },
    "id": "VMW_THOux6iF",
    "outputId": "2cf636e9-66ce-4382-fd8e-ffdaba0828a7"
   },
   "outputs": [
    {
     "name": "stderr",
     "output_type": "stream",
     "text": [
      "/usr/local/lib/python3.7/dist-packages/ipykernel_launcher.py:5: PerformanceWarning: indexing past lexsort depth may impact performance.\n",
      "  \"\"\"\n"
     ]
    },
    {
     "name": "stdout",
     "output_type": "stream",
     "text": [
      "0.875\n",
      "0.875\n",
      "BuckeyeNation : 2/10\n",
      "0.75\n",
      "0.25\n",
      "0.75\n",
      "0.625\n",
      "mikesgroove : 0/10\n",
      "0.875\n",
      "0.625\n",
      "0.875\n",
      "0.75\n",
      "0.875\n",
      "northyorksammy : 3/10\n",
      "0.75\n",
      "brentk56 : 0/10\n",
      "1.0\n",
      "0.875\n",
      "0.75\n",
      "0.75\n",
      "BEERchitect : 2/10\n"
     ]
    }
   ],
   "source": [
    "evaluate(metric = \"CG\")"
   ]
  },
  {
   "cell_type": "markdown",
   "metadata": {
    "id": "25KwCnRXs-UJ"
   },
   "source": [
    "# Node2Vec"
   ]
  },
  {
   "cell_type": "code",
   "execution_count": null,
   "metadata": {
    "colab": {
     "base_uri": "https://localhost:8080/",
     "height": 206
    },
    "id": "-bIiRJ5K6PeW",
    "outputId": "0e31c8f7-9a09-4de4-be59-618f4329ee94"
   },
   "outputs": [
    {
     "data": {
      "text/html": [
       "\n",
       "  <div id=\"df-b960cd11-a442-4bc8-b065-295327f0d262\">\n",
       "    <div class=\"colab-df-container\">\n",
       "      <div>\n",
       "<style scoped>\n",
       "    .dataframe tbody tr th:only-of-type {\n",
       "        vertical-align: middle;\n",
       "    }\n",
       "\n",
       "    .dataframe tbody tr th {\n",
       "        vertical-align: top;\n",
       "    }\n",
       "\n",
       "    .dataframe thead th {\n",
       "        text-align: right;\n",
       "    }\n",
       "</style>\n",
       "<table border=\"1\" class=\"dataframe\">\n",
       "  <thead>\n",
       "    <tr style=\"text-align: right;\">\n",
       "      <th></th>\n",
       "      <th>Style</th>\n",
       "      <th>Beer Name (Full)</th>\n",
       "      <th>Astringency</th>\n",
       "      <th>Body</th>\n",
       "      <th>Bitter</th>\n",
       "      <th>Sweet</th>\n",
       "      <th>Sour</th>\n",
       "      <th>Salty</th>\n",
       "      <th>Fruits</th>\n",
       "      <th>Hoppy</th>\n",
       "      <th>Spices</th>\n",
       "      <th>Malty</th>\n",
       "    </tr>\n",
       "  </thead>\n",
       "  <tbody>\n",
       "    <tr>\n",
       "      <th>0</th>\n",
       "      <td>Altbier</td>\n",
       "      <td>Alaskan Brewing Co. Alaskan Amber</td>\n",
       "      <td>13</td>\n",
       "      <td>32</td>\n",
       "      <td>47</td>\n",
       "      <td>74</td>\n",
       "      <td>33</td>\n",
       "      <td>0</td>\n",
       "      <td>33</td>\n",
       "      <td>57</td>\n",
       "      <td>8</td>\n",
       "      <td>111</td>\n",
       "    </tr>\n",
       "    <tr>\n",
       "      <th>1</th>\n",
       "      <td>Altbier</td>\n",
       "      <td>Long Trail Brewing Co. Double Bag</td>\n",
       "      <td>12</td>\n",
       "      <td>57</td>\n",
       "      <td>33</td>\n",
       "      <td>55</td>\n",
       "      <td>16</td>\n",
       "      <td>0</td>\n",
       "      <td>24</td>\n",
       "      <td>35</td>\n",
       "      <td>12</td>\n",
       "      <td>84</td>\n",
       "    </tr>\n",
       "    <tr>\n",
       "      <th>2</th>\n",
       "      <td>Altbier</td>\n",
       "      <td>Long Trail Brewing Co. Long Trail Ale</td>\n",
       "      <td>14</td>\n",
       "      <td>37</td>\n",
       "      <td>42</td>\n",
       "      <td>43</td>\n",
       "      <td>11</td>\n",
       "      <td>0</td>\n",
       "      <td>10</td>\n",
       "      <td>54</td>\n",
       "      <td>4</td>\n",
       "      <td>62</td>\n",
       "    </tr>\n",
       "    <tr>\n",
       "      <th>3</th>\n",
       "      <td>Altbier</td>\n",
       "      <td>Uerige Obergärige Hausbrauerei GmbH / Zum Ueri...</td>\n",
       "      <td>13</td>\n",
       "      <td>55</td>\n",
       "      <td>47</td>\n",
       "      <td>101</td>\n",
       "      <td>18</td>\n",
       "      <td>1</td>\n",
       "      <td>49</td>\n",
       "      <td>40</td>\n",
       "      <td>16</td>\n",
       "      <td>119</td>\n",
       "    </tr>\n",
       "    <tr>\n",
       "      <th>4</th>\n",
       "      <td>Altbier</td>\n",
       "      <td>Ninkasi Brewing Company Sleigh'r Dark Doüble A...</td>\n",
       "      <td>25</td>\n",
       "      <td>51</td>\n",
       "      <td>44</td>\n",
       "      <td>45</td>\n",
       "      <td>9</td>\n",
       "      <td>1</td>\n",
       "      <td>11</td>\n",
       "      <td>51</td>\n",
       "      <td>20</td>\n",
       "      <td>95</td>\n",
       "    </tr>\n",
       "  </tbody>\n",
       "</table>\n",
       "</div>\n",
       "      <button class=\"colab-df-convert\" onclick=\"convertToInteractive('df-b960cd11-a442-4bc8-b065-295327f0d262')\"\n",
       "              title=\"Convert this dataframe to an interactive table.\"\n",
       "              style=\"display:none;\">\n",
       "        \n",
       "  <svg xmlns=\"http://www.w3.org/2000/svg\" height=\"24px\"viewBox=\"0 0 24 24\"\n",
       "       width=\"24px\">\n",
       "    <path d=\"M0 0h24v24H0V0z\" fill=\"none\"/>\n",
       "    <path d=\"M18.56 5.44l.94 2.06.94-2.06 2.06-.94-2.06-.94-.94-2.06-.94 2.06-2.06.94zm-11 1L8.5 8.5l.94-2.06 2.06-.94-2.06-.94L8.5 2.5l-.94 2.06-2.06.94zm10 10l.94 2.06.94-2.06 2.06-.94-2.06-.94-.94-2.06-.94 2.06-2.06.94z\"/><path d=\"M17.41 7.96l-1.37-1.37c-.4-.4-.92-.59-1.43-.59-.52 0-1.04.2-1.43.59L10.3 9.45l-7.72 7.72c-.78.78-.78 2.05 0 2.83L4 21.41c.39.39.9.59 1.41.59.51 0 1.02-.2 1.41-.59l7.78-7.78 2.81-2.81c.8-.78.8-2.07 0-2.86zM5.41 20L4 18.59l7.72-7.72 1.47 1.35L5.41 20z\"/>\n",
       "  </svg>\n",
       "      </button>\n",
       "      \n",
       "  <style>\n",
       "    .colab-df-container {\n",
       "      display:flex;\n",
       "      flex-wrap:wrap;\n",
       "      gap: 12px;\n",
       "    }\n",
       "\n",
       "    .colab-df-convert {\n",
       "      background-color: #E8F0FE;\n",
       "      border: none;\n",
       "      border-radius: 50%;\n",
       "      cursor: pointer;\n",
       "      display: none;\n",
       "      fill: #1967D2;\n",
       "      height: 32px;\n",
       "      padding: 0 0 0 0;\n",
       "      width: 32px;\n",
       "    }\n",
       "\n",
       "    .colab-df-convert:hover {\n",
       "      background-color: #E2EBFA;\n",
       "      box-shadow: 0px 1px 2px rgba(60, 64, 67, 0.3), 0px 1px 3px 1px rgba(60, 64, 67, 0.15);\n",
       "      fill: #174EA6;\n",
       "    }\n",
       "\n",
       "    [theme=dark] .colab-df-convert {\n",
       "      background-color: #3B4455;\n",
       "      fill: #D2E3FC;\n",
       "    }\n",
       "\n",
       "    [theme=dark] .colab-df-convert:hover {\n",
       "      background-color: #434B5C;\n",
       "      box-shadow: 0px 1px 3px 1px rgba(0, 0, 0, 0.15);\n",
       "      filter: drop-shadow(0px 1px 2px rgba(0, 0, 0, 0.3));\n",
       "      fill: #FFFFFF;\n",
       "    }\n",
       "  </style>\n",
       "\n",
       "      <script>\n",
       "        const buttonEl =\n",
       "          document.querySelector('#df-b960cd11-a442-4bc8-b065-295327f0d262 button.colab-df-convert');\n",
       "        buttonEl.style.display =\n",
       "          google.colab.kernel.accessAllowed ? 'block' : 'none';\n",
       "\n",
       "        async function convertToInteractive(key) {\n",
       "          const element = document.querySelector('#df-b960cd11-a442-4bc8-b065-295327f0d262');\n",
       "          const dataTable =\n",
       "            await google.colab.kernel.invokeFunction('convertToInteractive',\n",
       "                                                     [key], {});\n",
       "          if (!dataTable) return;\n",
       "\n",
       "          const docLinkHtml = 'Like what you see? Visit the ' +\n",
       "            '<a target=\"_blank\" href=https://colab.research.google.com/notebooks/data_table.ipynb>data table notebook</a>'\n",
       "            + ' to learn more about interactive tables.';\n",
       "          element.innerHTML = '';\n",
       "          dataTable['output_type'] = 'display_data';\n",
       "          await google.colab.output.renderOutput(dataTable, element);\n",
       "          const docLink = document.createElement('div');\n",
       "          docLink.innerHTML = docLinkHtml;\n",
       "          element.appendChild(docLink);\n",
       "        }\n",
       "      </script>\n",
       "    </div>\n",
       "  </div>\n",
       "  "
      ],
      "text/plain": [
       "     Style                                   Beer Name (Full)  Astringency  \\\n",
       "0  Altbier                  Alaskan Brewing Co. Alaskan Amber           13   \n",
       "1  Altbier                  Long Trail Brewing Co. Double Bag           12   \n",
       "2  Altbier              Long Trail Brewing Co. Long Trail Ale           14   \n",
       "3  Altbier  Uerige Obergärige Hausbrauerei GmbH / Zum Ueri...           13   \n",
       "4  Altbier  Ninkasi Brewing Company Sleigh'r Dark Doüble A...           25   \n",
       "\n",
       "   Body  Bitter  Sweet  Sour  Salty  Fruits  Hoppy  Spices  Malty  \n",
       "0    32      47     74    33      0      33     57       8    111  \n",
       "1    57      33     55    16      0      24     35      12     84  \n",
       "2    37      42     43    11      0      10     54       4     62  \n",
       "3    55      47    101    18      1      49     40      16    119  \n",
       "4    51      44     45     9      1      11     51      20     95  "
      ]
     },
     "execution_count": 5,
     "metadata": {},
     "output_type": "execute_result"
    }
   ],
   "source": [
    "drop_cols = ['Name', 'Brewery', 'Description', 'Min IBU', 'Max IBU', 'Alcohol', 'review_aroma', \n",
    "             'review_appearance', 'review_palate', 'review_taste', 'review_overall', \n",
    "             'number_of_reviews', 'ABV']\n",
    "beer_profile = pd.read_csv(\"gdrive/MyDrive/Recommender System/beer_profile_and_ratings.csv\", encoding=\"utf-8\")\n",
    "bp = beer_profile.drop(columns = drop_cols)\n",
    "bp.head()"
   ]
  },
  {
   "cell_type": "markdown",
   "metadata": {
    "id": "ibtWmUp1vHeA"
   },
   "source": [
    "Come back and add titles"
   ]
  },
  {
   "cell_type": "code",
   "execution_count": null,
   "metadata": {
    "colab": {
     "base_uri": "https://localhost:8080/",
     "height": 1000
    },
    "id": "JCGK4U2upvD9",
    "outputId": "b7fd0dbc-8819-4857-ea00-83b1e76a7538"
   },
   "outputs": [
    {
     "name": "stdout",
     "output_type": "stream",
     "text": [
      "1\n",
      "2\n",
      "3\n",
      "4\n",
      "5\n",
      "6\n",
      "7\n",
      "8\n",
      "9\n",
      "10\n"
     ]
    },
    {
     "data": {
      "text/html": [
       "<html>\n",
       "<head><meta charset=\"utf-8\" /></head>\n",
       "<body>\n",
       "    <div>            <script src=\"https://cdnjs.cloudflare.com/ajax/libs/mathjax/2.7.5/MathJax.js?config=TeX-AMS-MML_SVG\"></script><script type=\"text/javascript\">if (window.MathJax) {MathJax.Hub.Config({SVG: {font: \"STIX-Web\"}});}</script>                <script type=\"text/javascript\">window.PlotlyConfig = {MathJaxConfig: 'local'};</script>\n",
       "        <script src=\"https://cdn.plot.ly/plotly-2.8.3.min.js\"></script>                <div id=\"8db62f35-592b-4759-a02c-27a94c41376e\" class=\"plotly-graph-div\" style=\"height:1000px; width:1000px;\"></div>            <script type=\"text/javascript\">                                    window.PLOTLYENV=window.PLOTLYENV || {};                                    if (document.getElementById(\"8db62f35-592b-4759-a02c-27a94c41376e\")) {                    Plotly.newPlot(                        \"8db62f35-592b-4759-a02c-27a94c41376e\",                        [{\"name\":\"Astringency\",\"x\":[13,12,14,13,25,22,28,18,25,35,34,10,7,9,14,11,17,19,21,21,19,37,21,24,22,14,11,17,20,5,27,29,26,32,33,18,21,27,19,20,11,6,9,18,14,14,17,13,14,6,12,23,7,12,11,8,8,5,11,10,14,34,11,12,13,18,18,9,15,14,13,10,14,25,15,9,7,5,7,2,10,10,10,18,10,8,7,9,4,9,7,9,5,7,13,4,23,11,2,11,9,7,11,15,8,18,18,12,9,12,18,18,13,21,21,15,18,21,17,11,10,14,31,29,26,24,20,9,20,10,14,23,18,11,16,9,14,21,29,16,20,11,15,20,12,8,17,18,14,37,7,18,9,18,12,27,19,19,14,15,14,15,26,14,13,31,34,25,10,9,17,16,13,24,23,18,18,15,37,29,20,35,21,10,2,30,13,9,28,28,15,14,6,36,29,12,22,48,27,24,16,27,23,22,27,19,18,19,26,15,28,19,25,10,21,32,14,19,33,31,11,13,17,23,22,16,33,29,19,31,15,21,21,16,23,18,17,27,22,13,11,21,16,12,20,22,14,32,10,11,9,10,14,6,4,7,5,10,5,13,12,7,6,7,8,8,15,10,8,11,13,18,7,9,15,6,5,9,11,6,10,18,6,19,17,9,16,11,9,14,11,8,14,9,15,12,2,4,1,0,3,0,0,10,12,16,22,23,12,31,26,14,10,14,39,9,15,25,21,36,15,26,20,15,15,21,19,17,17,12,23,37,27,9,42,19,29,27,8,10,3,6,6,11,9,19,11,11,13,10,15,26,15,21,11,29,7,13,9,12,7,10,13,23,12,9,15,8,5,8,9,8,14,14,7,4,16,16,23,13,22,23,28,34,8,17,10,16,15,10,15,6,11,9,19,13,15,2,14,10,7,8,12,3,12,16,27,6,6,15,22,8,4,2,3,0,0,2,29,31,34,10,13,6,9,14,28,8,15,10,10,8,8,11,7,9,21,11,14,15,12,12,11,16,8,7,17,9,17,11,15,7,16,36,7,23,7,42,12,14,19,32,5,9,19,11,6,15,6,12,3,12,3,12,2,11,12,10,10,12,18,23,4,14,10,10,11,6,14,8,19,20,8,12,8,17,9,13,11,17,13,23,11,9,10,8,8,17,7,13,12,15,14,12,12,31,39,23,30,27,25,17,18,15,29,18,13,2,8,8,9,1,9,1,7,7,13,6,5,13,36,4,6,18,13,13,12,14,10,17,8,8,3,8,1,20,1,3,8,2,13,15,14,9,18,32,19,30,25,20,26,12,22,21,12,9,23,10,27,23,11,15,17,9,9,12,12,24,15,16,12,15,8,17,20,23,9,6,17,11,5,10,9,4,14,11,9,10,8,11,9,13,14,22,14,13,20,10,12,11,22,5,8,16,13,25,13,30,21,25,19,39,23,45,23,16,10,36,8,25,39,20,13,30,31,18,24,20,7,22,16,14,25,29,23,23,25,5,9,16,41,7,0,0,0,0,25,16,24,30,45,20,48,28,18,18,46,26,34,18,23,37,36,19,32,38,19,26,15,37,29,21,31,59,23,43,45,22,4,25,8,14,22,11,31,16,18,6,32,12,16,10,15,14,3,10,18,14,12,23,11,43,10,13,19,15,22,13,12,8,12,8,12,13,23,13,22,35,15,30,21,7,15,15,4,9,6,1,3,1,4,9,6,24,12,4,13,2,7,3,4,3,0,8,6,0,0,1,3,3,2,11,0,0,0,0,18,16,6,10,37,19,7,7,14,8,14,11,26,18,8,5,21,7,14,15,12,10,21,10,20,17,10,19,15,21,12,16,13,45,11,26,16,17,21,20,18,31,25,8,26,19,20,26,20,25,8,13,25,17,21,16,12,11,19,19,30,16,17,16,38,32,12,39,34,14,15,17,11,19,24,28,16,7,9,28,14,20,30,21,30,18,22,29,14,10,11,11,15,14,11,20,7,17,22,22,25,16,17,12,15,6,13,8,14,30,23,17,11,20,10,21,18,13,29,9,11,16,11,16,20,18,24,24,17,33,11,8,23,10,17,25,16,6,27,20,15,16,24,25,22,13,30,20,3,26,10,9,19,28,22,7,18,17,18,13,23,16,18,23,15,15,12,15,23,17,12,9,13,11,9,20,17,17,17,21,12,9,6,16,25,17,42,5,14,8,13,8,6,5,9,11,1,7,2,2,5,1,4,3,2,2,0,0,28,36,32,31,30,39,16,34,25,37,32,19,35,40,45,30,39,40,39,29,24,19,27,27,44,35,45,32,29,42,22,20,6,13,10,15,5,20,29,23,12,16,17,23,17,31,14,15,4,30,5,8,4,10,15,7,16,21,16,20,13,24,11,17,17,15,33,34,14,10,16,32,21,21,16,21,9,20,14,13,6,12,19,13,15,7,9,36,13,26,6,14,22,13,15,8,21,35,11,10,13,31,10,8,11,6,20,15,17,15,8,22,18,22,35,32,22,20,18,16,33,8,15,13,49,28,31,23,27,30,15,30,15,23,46,27,19,32,10,35,18,14,27,25,33,33,28,35,23,34,20,24,22,14,6,15,23,13,33,14,5,26,23,26,8,15,19,27,11,6,11,14,5,20,13,35,18,5,21,22,33,22,14,18,12,8,27,19,20,18,13,16,23,13,20,11,18,12,5,8,17,26,15,43,16,11,25,39,24,44,30,28,17,16,24,25,26,12,23,21,17,32,14,20,23,12,28,24,38,27,16,21,16,22,15,21,18,15,15,11,26,15,11,13,21,11,21,10,10,14,9,31,12,7,7,10,14,13,13,10,7,6,11,13,3,12,1,1,2,1,3,3,17,7,2,17,13,10,8,7,12,30,20,15,32,44,31,23,22,19,35,26,28,54,34,37,30,27,25,46,35,18,35,31,34,23,32,43,26,29,43,33,42,40,13,29,19,30,15,16,26,18,39,54,31,38,23,19,31,23,32,4,2,5,18,12,7,6,1,0,1,7,0,2,27,20,21,22,24,36,15,13,35,32,36,34,23,18,35,13,10,18,23,17,9,13,14,15,15,7,21,19,25,16,13,15,24,17,21,16,24,33,23,0,18,3,10,15,23,12,7,12,24,23,25,22,9,18,25,10,4,10,20,9,20,5,11,21,22,9,9,9,11,29,18,14,21,15,8,7,15,11,12,7,7,11,5,18,16,9,6,3,7,14,14,8,16,17,11,17,21,13,16,22,22,25,10,18,25,19,21,9,25,12,10,13,18,19,31,19,8,20,10,21,13,18,17,13,13,27,30,16,16,24,25,16,17,9,16,17,12,43,31,17,17,13,7,18,19,18,6,12,40,19,13,11,15,15,8,19,27,22,13,16,19,14,16,8,11,18,6,10,15,6,13,16,13,15,19,12,16,29,3,3,2,4,10,11,6,6,8,3,16,26,8,28,19,22,9,13,14,24,31,21,7,17,21,10,21,23,16,14,20,15,31,13,20,18,12,18,8,14,17,16,14,7,30,17,10,11,25,14,4,24,16,26,19,14,24,12,21,25,16,24,26,19,20,13,12,19,23,12,29,26,8,16,7,15,27,12,24,27,13,10,3,3,0,0,21,21,25,29,48,23,37,26,22,38,11,28,39,37,30,14,28,26,30,40,26,14,34,45,24,60,57,51,54,38,30,53,15,22,49,76,60,20,20,57,6,35,32,59,53,31,44,23,34,35,35,41,47,33,31,48,81,31,12,63,23,51,34,42,26,15,6,69,29,21,55,33,33,22,15,14,16,6,6,14,2,10,12,18,9,6,2,5,4,7,1,22,15,9,6,17,18,22,20,18,5,22,13,22,5,8,4,7,12,7,8,16,17,11,24,14,11,14,4,2,4,0,2,11,26,15,25,12,12,12,6,15,7,8,15,13,11,7,6,4,2,4,9,7,4,22,7,5,8,5,1,15,13,17,8,26,13,12,3,1,2,10,3,6,4,8,8,0,4,3,12,13,11,10,13,3,5,8,2,10,6,8,4,21,6,9,7,12,16,7,10,9,5,13,7,17,18,15,8,15,38,11,22,21,28,33,9,14,38,28,12,19,38,21,24,10,22,14,28,14,18,24,39,15,22,27,32,9,24,23,17,29,8,29,26,24,19,38,21,17,25,25,26,17,10,25,33,15,29,26,14,21,19,13,45,26,41,20,21,18,25,37,9,7,21,13,26,11,24,17,5,8,20,26,9,20,13,9,13,26,24,24,35,17,15,15,19,12,12,10,16,9,38,24,21,18,15,19,11,7,20,21,36,24,18,66,37,27,28,13,24,38,26,39,39,28,21,31,37,25,35,24,19,37,40,32,26,36,42,22,38,34,37,25,31,33,43,32,25,29,35,19,39,37,38,56,39,26,35,19,34,23,24,18,31,42,24,51,38,32,30,46,30,5,77,29,47,17,47,14,14,17,18,14,37,18,14,36,28,30,16,16,25,24,22,8,15,17,20,19,4,12,6,6,17,7,10,18,5,4,15,5,13,19,21,14,11,15,13,4,3,6,3,13,22,5,12,15,9,12,7,13,8,9,14,10,5,16,14,5,10,9,4,8,20,31,11,12,17,19,8,11,7,17,20,13,15,11,13,25,15,9,9,12,9,10,10,13,13,20,9,17,23,13,10,20,9,14,13,14,15,14,19,12,20,10,19,15,3,10,16,10,9,23,25,17,2,18,7,14,12,9,5,5,8,14,4,5,5,5,3,7,4,3,8,7,13,13,13,19,13,5,9,19,16,22,8,13,11,16,30,19,13,4,17,3,11,15,6,13,9,2,14,14,9,19,5,3,22,6,6,12,8,7,7,15,1,10,4,12,2,1,6,13,19,7,4,16,13,9,10,7,4,11,4,5,9,9,38,9,11,11,13,10,4,5,14,4,9,3,8,11,17,12,20,5,10,5,10,6,19,13,9,6,6,14,12,13,5,11,9,6,7,7,10,8,11,10,6,8,8,7,11,10,14,17,4,26,10,14,16,9,22,17,21,7,13,10,20,24,12,19,7,20,11,6,10,15,15,22,14,15,19,12,14,9,19,16,8,28,14,14,9,14,17,12,15,12,17,20,10,16,10,16,14,16,17,9,32,18,7,9,5,17,22,11,15,12,12,11,9,23,13,17,24,4,14,17,15,35,18,18,8,5,21,20,11,12,14,24,10,18,16,19,23,10,11,22,26,27,18,8,8,5,2,2,0,2,0,0,0,6,6,14,11,11,16,8,10,20,18,20,28,22,40,16,26,18,19,18,17,10,21,1,6,6,7,4,7,3,6,9,9,11,4,4,6,6,9,13,8,7,10,8,8,6,14,12,5,13,8,7,18,12,6,9,13,7,9,7,21,2,15,10,5,7,7,14,9,12,14,15,21,19,18,22,7,16,9,11,11,23,12,22,4,16,13,7,4,8,9,14,7,14,8,8,17,14,29,21,8,7,11,28,14,14,10,14,12,9,12,14,13,4,24,4,10,10,4,1,25,39,38,48,43,37,22,39,49,41,23,21,28,30,43,57,24,39,25,39,30,48,51,65,52,24,54,5,27,28,30,28,41,66,18,17,46,56,33,30,43,32,37,37,32,60,45,30,23,32,27,49,42,10,38,44,47,9,5,4,20,6,8,3,6,16,3,13,7,16,6,11,5,3,22,5,3,15,13,4,11,6,9,8,11,5,10,3,3,7,7,6,9,8,13,9,9,7,10,18,23,15,14,14,5,9,13,20,5,14,18,6,12,21,5,8,13,11,24,13,15,10,21,24,7,24,21,20,11,5,20,21,21,11,4,12,18,15,18,17,10,11,5,3,9,15,14,18,20,4,8,20,5,10,10,17,5,17,12,32,22,12,15,24,13,27,12,20,3,19,15,14,19,22,16,23,10,3,12,10,16,6,13,18,12,29,15,21,21,27,23,16,32,8,18,14,19,18,16,17,26,41,28,20,19,19,36,15,23,43,22,30,27,33,23,30,12,16,40,20,43,7,33,16,17,29,11,8,13,15,2,10,12,11,2,4,18,10,9,14,10,8,7,8,12,15,12,13,13,8,7,4,14,15,8,8,15,16,20,11,7,12,3,5,13,2,11,6,7,9,6,5,4,10,4,10,5,11,12,6,8,9,18,3,7,10,11,7,6,2,13,11,10,16,7,6,9,11,12,5,5,6,20,5,2,8,6,5,7,3,9,3,11,11,8,6,7,8,13,6,5,12,10,12,8,8,16,12,10,12,7,23,10,7,12,15,14,6,14,8,11,6,7,4,10,6,5,4,10,4,8,9,11,10,6,9,13,20,8,13,13,6,12,13,15,9,6,10,12,13,17,8,13,10,17,6,14,11,10,16,13,6,19,20,19,20,17,23,11,9,13,21,21,12,13,11,15,23,12,14,26,20,24,23,32,22,10,29,10,12,16,24,21,6,30,18,13,31,15,15,13,10,21,22,9,11,16,12,7,10,6,4,17,17,27,8,16,9,12,9,6,14,15,10,15,18,11,18,17,15,11,8,11,10,16,8,12,12,17,14,3,13,15,18,30,15,23,20,19,13,25,19,4,28,16,21,13,15,21,17,15,24,5,30,19,7,23,16,22,11,10,20,18,24,8,13,26,21,8,18,15,8,19,2,7,4,4,1,5,17,3,0,1,0,10,23,27,15,16,9,29,16,32,13,16,11,19,17,24,31,14,15,14,15,15,33,12,16,37,22,18,19,28,18,17,21,21,10,14,10,23,10,9,7,18,4,17,14,14,15,11,8,9,15,17,9,7,16,14,22,17,17,11,16,5,24,15,20,9,5,10,27,14,16,20,10,12,17,7,13,12,12,12,13,19,20,21,19,11,18,20,10,10,26,13,10,19,14,20,11,25,15,29,7,15,15,13,11,22,21,9,21,12,22,18,30,17,22,28,19,32,39,12,33,27,15,18,17,16,8,11,5,7,10,9,4,3,0,11,10,1,7,10,25,11,9,18,6,8,4,10,17,11,18,4,0,6,25,14,6,14,6,17,37,17,16,15,22,16,11,5,18,16,31,19,22,23,24,6,19,23,20,11,18,14,20,14,22,19,26,19,21,22,31,42,28,16,48,33,24,49,20,20,37,43,52,48,38,46,33,13,29,23,18,46,6,9,7,17,6,3,6,3,7,14,12,12,7,7,6,8,11,7,15,10,7,10,4,8,10,6,12,8,14,13,20,3,13,7,9,15,15,8,11,8],\"type\":\"histogram\",\"xaxis\":\"x2\",\"yaxis\":\"y2\"},{\"name\":\"Body\",\"x\":[32,57,37,55,51,45,40,49,35,31,48,19,30,32,55,58,41,42,43,72,43,50,27,36,38,53,67,57,36,48,39,30,37,64,54,55,39,61,57,55,65,55,49,71,49,58,74,51,55,39,62,54,47,44,60,34,47,65,68,69,57,41,75,71,58,67,70,57,73,50,41,53,66,55,72,59,62,51,56,44,66,62,45,56,72,43,47,54,62,38,48,53,58,83,63,51,99,55,62,77,48,57,51,59,44,37,26,27,42,56,32,57,55,43,48,39,48,59,41,58,34,31,59,54,60,63,56,69,46,32,59,40,62,89,46,48,35,49,43,22,69,38,60,39,83,50,40,61,41,35,73,49,59,52,41,50,47,38,96,40,85,59,42,56,36,51,49,57,91,31,45,49,47,58,60,44,60,25,27,45,78,31,48,12,3,19,38,25,37,34,41,17,12,31,41,17,40,42,38,26,22,38,44,31,34,46,41,31,32,23,35,33,30,24,21,34,23,28,46,33,31,38,37,53,31,29,35,38,46,52,38,27,32,43,47,38,25,35,34,21,34,42,40,11,24,44,27,34,18,63,43,31,72,52,30,71,62,44,63,62,69,72,67,53,70,54,89,106,46,44,64,62,77,49,87,100,59,57,77,55,43,96,42,82,60,54,52,82,119,47,58,66,79,49,59,58,15,5,5,7,7,12,0,47,30,36,34,26,51,44,68,33,47,33,36,53,54,53,47,59,38,42,24,32,42,50,54,59,42,50,57,38,47,37,68,34,42,48,29,26,99,27,117,39,127,61,50,41,39,38,58,50,30,60,88,136,55,44,54,74,67,41,41,47,40,74,50,55,49,53,31,62,73,53,31,32,52,90,53,68,69,64,90,46,63,59,48,46,65,66,54,45,69,58,58,47,37,23,41,15,15,33,42,17,43,40,32,70,45,20,39,30,8,29,5,0,0,3,33,42,33,42,52,66,52,37,87,72,70,48,75,103,43,37,53,59,49,63,68,71,52,60,62,59,57,38,74,86,66,57,45,29,44,58,85,60,35,50,65,31,50,52,45,35,55,46,29,66,37,55,12,26,22,54,7,55,87,53,42,53,87,74,36,38,66,31,80,66,64,48,34,72,62,55,45,58,49,54,48,83,55,49,69,30,62,96,54,60,43,100,44,62,65,51,84,35,70,53,56,40,31,20,40,48,32,29,27,37,29,22,18,10,14,9,2,70,30,17,44,22,33,11,40,21,33,11,16,10,22,36,35,27,91,15,8,23,8,20,16,9,51,70,63,103,48,48,40,50,68,55,75,67,51,66,57,56,42,96,56,49,63,65,86,61,38,29,38,47,50,33,47,54,44,31,46,40,42,52,36,42,41,44,30,39,35,58,48,57,40,47,66,53,39,42,46,48,65,29,32,50,49,54,55,40,42,31,34,27,32,37,30,28,33,37,36,47,34,41,48,31,52,45,39,39,45,59,54,40,19,38,51,36,43,45,43,52,32,35,56,46,41,18,0,0,0,0,27,37,29,39,44,31,35,41,39,34,30,32,33,35,30,24,31,33,23,37,64,39,19,46,42,38,39,38,40,41,32,23,9,32,23,37,34,30,27,29,31,37,34,28,28,20,25,19,18,27,60,10,29,18,27,14,24,20,28,20,19,13,26,17,36,27,27,87,27,46,63,32,79,28,57,52,37,61,23,23,14,7,7,4,14,9,8,44,16,13,16,9,7,7,10,17,4,14,7,2,2,3,6,4,7,9,0,0,0,0,33,24,18,30,23,39,25,24,23,42,38,106,22,32,31,103,28,44,51,38,44,31,38,40,34,26,44,38,32,34,28,16,27,37,24,54,41,26,27,21,38,21,36,25,37,47,46,45,23,30,54,34,44,21,27,24,48,32,39,26,29,33,40,33,51,33,27,36,29,39,20,32,34,35,47,38,52,11,22,56,64,32,46,35,43,40,44,76,50,54,51,45,82,63,45,94,45,86,75,64,72,63,59,42,69,57,60,87,71,72,70,31,29,33,21,30,50,41,51,30,32,48,33,42,35,48,60,34,40,51,38,23,56,31,23,44,39,27,53,33,52,44,37,40,34,57,42,34,15,29,34,43,31,30,38,49,55,45,40,25,36,37,31,34,43,24,31,31,46,46,39,50,33,34,42,38,43,49,32,37,33,13,19,42,30,31,45,49,42,34,19,32,21,22,15,15,10,21,7,7,15,8,8,8,4,4,3,1,33,34,25,20,39,44,41,40,34,32,34,27,42,33,21,39,38,27,24,55,28,34,25,55,39,31,36,47,31,44,40,29,17,19,15,16,25,35,20,19,20,22,30,14,26,36,29,29,19,17,24,16,18,19,20,18,27,17,24,25,25,41,33,28,20,17,26,23,24,15,19,22,18,34,18,24,23,27,30,24,25,28,38,36,27,22,17,35,29,33,31,28,39,29,49,38,32,40,45,30,35,35,38,26,34,36,40,43,40,27,38,25,15,23,26,33,17,29,17,20,37,9,24,27,32,24,23,26,28,31,27,43,25,48,41,24,20,25,16,26,31,32,42,50,26,43,25,41,31,43,51,35,32,31,15,15,41,32,37,35,21,31,25,40,23,29,16,22,55,20,68,39,34,38,40,85,43,33,99,81,59,54,66,73,42,51,92,55,56,56,58,68,36,47,44,68,34,71,33,14,19,30,19,35,27,23,13,33,23,32,40,26,16,16,22,41,30,21,26,20,25,28,25,25,25,28,25,30,28,27,22,31,21,21,20,25,25,22,21,14,23,22,30,23,44,39,33,27,35,35,36,43,43,21,26,27,27,37,26,9,28,29,20,17,24,27,19,12,6,33,30,6,26,35,4,35,32,27,23,15,33,32,49,24,35,48,30,27,29,23,18,38,41,32,19,33,29,17,30,29,40,24,30,30,46,15,28,34,32,37,35,48,33,25,27,35,42,25,45,40,28,34,12,23,30,32,24,22,22,31,26,9,0,2,10,13,7,9,0,0,4,19,0,2,51,34,55,47,42,47,34,52,57,73,51,54,67,31,39,15,9,14,20,26,9,18,15,28,16,27,26,18,32,33,16,13,32,27,31,24,35,18,27,4,24,24,22,12,21,29,14,17,29,26,31,31,16,16,22,22,6,24,21,29,50,26,31,31,36,19,39,29,37,43,41,34,19,30,21,28,28,25,19,25,29,60,24,40,18,33,20,15,29,57,43,31,95,57,60,45,44,61,43,43,55,60,37,52,51,65,52,31,49,85,67,36,68,50,63,53,34,45,14,52,57,81,54,45,42,44,30,36,48,41,32,22,31,38,32,60,31,54,36,46,28,34,30,46,39,38,21,37,35,33,38,35,37,40,23,43,35,36,36,42,61,38,38,33,50,90,47,43,66,34,38,69,46,49,33,84,45,56,11,30,11,12,32,29,13,26,9,15,57,80,47,69,43,74,59,70,53,58,73,78,61,47,69,67,72,70,129,98,101,86,88,57,66,72,77,81,67,83,25,37,32,30,38,26,16,35,37,38,24,30,33,39,41,45,30,54,26,28,45,40,61,35,26,39,34,43,43,31,58,46,38,27,10,10,41,58,35,37,17,20,10,4,2,0,17,50,36,37,36,22,30,23,28,33,21,15,31,20,25,19,42,20,34,18,22,34,41,38,32,41,28,32,28,29,25,29,19,28,33,32,35,27,33,35,25,50,23,31,36,23,34,23,32,31,41,38,27,24,29,41,40,32,20,55,38,23,30,36,38,7,16,34,23,38,33,43,43,22,30,17,21,14,7,12,2,2,6,10,13,11,2,9,1,6,1,26,32,25,13,19,21,32,43,26,30,38,24,23,28,17,17,30,31,15,14,16,22,19,13,22,12,17,22,12,8,5,10,57,46,116,48,73,68,79,59,112,82,59,79,48,47,50,26,28,34,11,59,49,33,65,42,38,30,25,15,64,35,33,14,35,11,7,27,8,0,23,17,15,7,5,10,9,4,11,39,40,72,104,61,37,67,61,72,36,79,86,56,39,35,71,42,79,57,128,47,44,88,59,63,48,69,47,116,73,58,43,36,80,34,47,29,25,43,42,25,27,29,14,31,42,23,26,39,27,13,26,37,41,27,30,35,21,37,23,29,34,34,43,36,47,47,45,26,38,30,24,46,20,41,27,44,33,26,45,36,38,36,35,42,33,34,26,41,34,46,39,27,15,48,38,24,30,38,31,21,25,42,32,18,27,23,20,101,36,36,37,36,57,34,29,29,48,43,30,42,49,50,51,44,46,49,39,46,36,37,40,20,33,44,41,23,30,22,15,32,30,36,33,28,30,28,25,35,27,54,24,25,39,27,39,34,38,44,30,32,28,26,17,26,31,26,23,17,21,29,32,24,37,21,23,32,25,29,25,46,42,24,11,32,36,17,32,20,27,28,34,25,11,43,22,20,21,38,37,44,65,46,25,50,46,42,46,40,39,44,48,48,33,46,20,18,23,94,88,39,101,55,93,134,60,52,95,61,45,62,75,26,95,94,88,77,76,73,81,77,79,28,66,66,141,83,100,72,70,47,103,91,111,124,66,54,108,94,82,80,95,92,118,103,104,90,100,122,110,39,87,121,128,121,80,99,96,108,97,73,54,103,91,130,79,66,98,73,90,91,75,53,69,90,41,93,77,141,90,84,85,47,117,100,74,64,54,76,82,74,57,86,92,77,152,73,117,88,94,99,88,58,91,111,122,129,110,89,55,58,86,95,78,96,89,91,108,88,115,87,108,88,92,112,90,114,134,104,77,94,114,156,44,93,35,87,69,54,97,115,79,112,96,80,104,91,44,70,66,79,90,80,87,105,73,41,29,18,93,7,46,24,44,26,42,14,23,23,37,33,40,54,47,41,24,37,53,43,40,31,29,87,26,48,32,53,63,36,47,36,37,57,47,36,44,44,68,46,43,56,40,74,48,48,45,43,59,45,30,52,54,71,55,47,50,60,49,51,53,56,166,62,40,65,53,19,44,32,59,64,27,33,32,45,23,38,23,46,47,41,49,34,40,23,55,64,34,46,42,51,36,46,54,52,46,56,47,22,41,39,48,48,42,48,57,66,55,55,65,51,41,42,62,55,37,55,12,57,32,32,18,66,34,43,26,40,35,69,21,31,60,37,53,48,22,39,45,46,62,47,57,87,17,33,51,32,30,38,43,35,47,45,55,43,34,36,36,47,47,24,23,25,7,30,5,4,9,7,0,3,11,22,30,51,52,39,42,48,37,37,44,92,65,32,44,50,30,36,41,31,35,32,41,44,57,43,57,64,33,40,44,29,46,57,36,66,84,47,67,54,55,56,80,43,36,67,66,64,62,43,68,46,61,57,38,89,59,58,41,48,24,43,27,40,42,28,62,37,40,52,49,58,55,41,55,48,94,45,40,85,63,67,45,34,84,46,16,17,47,32,71,69,74,101,64,42,48,64,97,93,111,48,53,87,25,66,37,94,68,51,110,38,32,48,16,28,24,16,1,21,33,29,24,33,27,34,23,46,29,42,32,38,44,30,48,34,30,32,64,51,38,48,35,54,41,71,12,44,10,32,34,48,59,26,26,41,32,30,35,40,36,26,58,46,42,38,41,28,37,47,39,26,19,33,39,33,114,69,101,82,65,97,116,70,120,153,92,76,85,83,74,69,70,76,103,50,138,119,139,109,82,87,88,73,108,68,101,80,141,111,130,72,88,73,91,69,112,77,79,91,83,111,158,154,91,72,79,65,71,86,78,76,71,99,80,95,77,105,89,101,67,105,70,100,104,108,99,63,26,92,102,115,72,83,76,89,101,111,93,83,59,45,24,68,94,71,92,120,81,40,70,65,67,63,109,59,84,95,112,106,118,87,98,88,96,100,115,52,86,93,93,97,90,110,90,79,52,93,46,105,34,51,77,52,80,98,74,73,93,62,95,69,94,90,84,94,77,77,84,89,105,78,75,80,100,87,85,92,84,65,128,108,73,78,106,87,90,77,106,100,26,58,65,51,90,96,95,107,111,120,87,57,89,67,110,102,72,103,64,89,132,125,81,96,145,90,57,108,67,97,71,82,83,100,93,99,105,175,87,74,107,69,85,122,75,92,82,88,137,134,85,80,106,72,116,87,101,75,113,101,115,144,115,95,147,86,104,76,66,73,94,126,83,110,89,153,89,89,124,107,134,126,135,109,155,85,112,102,115,85,39,33,58,44,60,93,57,61,52,94,45,132,21,40,50,57,58,35,59,37,73,59,50,32,75,60,19,34,66,59,83,56,38,44,47,41,46,35,29,44,95,40,49,52,32,48,43,47,58,52,66,36,42,57,55,39,60,52,59,47,55,72,45,52,31,62,32,37,60,51,41,61,60,31,21,23,39,23,40,48,30,32,37,27,41,19,38,49,47,41,27,48,48,37,26,23,44,24,48,30,35,37,20,33,38,25,56,36,49,36,40,26,33,40,60,63,57,58,53,34,46,55,52,69,42,42,45,82,47,82,55,44,47,53,68,48,51,63,69,68,34,60,54,56,46,41,88,62,41,30,53,40,42,44,30,33,45,29,34,46,37,38,30,36,42,35,30,28,32,38,29,35,45,30,32,40,35,68,30,36,43,41,51,22,54,46,67,59,60,35,14,52,13,6,29,13,13,11,34,8,3,4,0,29,22,45,16,24,36,25,18,37,19,32,27,37,36,36,42,32,28,26,35,20,36,32,42,46,30,34,31,52,32,35,29,67,30,48,49,50,54,45,58,70,41,54,69,40,52,71,35,55,48,76,51,33,39,51,35,63,40,34,32,26,61,33,46,41,26,40,37,45,57,23,47,28,26,19,36,68,41,29,46,40,31,36,61,27,18,43,32,64,38,36,29,43,30,50,29,27,37,27,20,28,36,36,23,41,49,50,57,38,38,39,29,38,45,40,42,41,49,32,49,38,36,47,28,40,13,5,11,13,11,9,6,8,0,10,7,4,60,48,52,44,75,49,58,59,36,43,14,65,45,30,4,35,40,24,15,29,22,33,36,48,32,28,33,32,27,47,13,52,30,28,41,18,43,31,40,29,31,25,32,35,33,30,50,23,47,38,32,38,28,29,21,30,26,23,36,28,27,25,22,32,46,47,39,28,38,26,59,27,21,63,35,33,50,55,31,31,34,48,36,31,82,29,52,49,60,37,77,59,47,59,47,42,74,69,51,40,45,41,44,62,112,92,62,64,67,37,31,44,36,50],\"type\":\"histogram\",\"xaxis\":\"x\",\"yaxis\":\"y\"},{\"name\":\"Bitter\",\"x\":[47,33,42,47,44,46,40,37,38,35,55,21,43,29,48,47,55,54,54,48,39,60,37,59,47,69,35,96,76,54,47,72,65,47,52,51,40,56,42,56,40,107,78,90,47,52,66,88,66,25,38,70,64,70,67,29,14,60,80,66,86,86,89,57,38,43,85,26,78,67,61,53,61,90,79,45,56,24,19,29,37,56,16,32,28,22,24,11,13,23,23,27,24,58,34,10,65,36,57,35,37,29,29,41,49,55,74,57,30,54,50,77,59,45,83,46,92,61,66,60,44,54,112,90,102,105,52,52,73,45,87,58,62,111,65,97,53,58,62,51,74,65,65,37,58,45,54,77,67,66,33,94,37,73,49,58,71,70,40,79,74,68,74,61,53,64,88,67,58,44,79,60,54,52,83,86,95,7,39,16,17,21,18,10,1,61,54,31,62,29,34,24,20,43,28,28,22,71,31,43,25,51,55,34,41,36,33,33,32,17,102,36,27,36,29,29,13,20,44,74,19,24,24,28,20,20,28,39,53,23,27,19,30,27,24,28,33,27,37,17,21,24,26,9,21,28,21,25,13,16,23,21,30,16,22,31,124,26,53,25,26,32,30,19,30,15,62,33,35,30,26,20,31,50,58,32,18,35,34,21,29,49,24,32,23,39,29,37,57,26,13,25,18,23,15,23,4,2,8,3,2,5,0,49,29,40,43,24,36,52,62,53,8,38,42,35,65,40,38,39,31,42,49,16,62,35,37,38,44,53,30,40,32,41,95,28,49,54,33,26,35,16,25,27,30,47,31,20,18,40,35,41,21,23,39,75,10,39,34,48,39,23,23,34,31,44,38,25,34,19,33,57,17,11,13,35,10,25,43,17,20,21,33,53,19,14,10,79,47,34,9,24,16,18,22,24,19,2,11,24,5,8,19,3,22,16,14,9,22,12,8,10,4,29,2,3,0,1,10,83,44,82,34,32,49,51,139,92,43,40,62,106,25,19,12,18,61,24,66,93,29,60,67,65,29,20,98,24,59,26,18,18,24,20,38,31,18,28,33,12,20,2,15,18,17,25,18,44,6,17,4,11,14,19,6,25,54,49,24,44,76,33,15,23,57,35,60,19,54,57,34,50,53,46,36,54,18,24,29,64,25,35,36,15,41,67,42,111,22,28,37,50,57,27,29,41,43,133,44,47,78,55,45,71,32,37,28,28,33,21,24,11,16,11,11,35,32,26,26,11,12,9,10,11,9,9,18,7,13,14,7,19,29,2,7,19,10,15,4,5,9,25,17,21,22,35,11,32,26,5,51,4,20,45,17,24,21,37,43,6,28,17,30,24,15,10,13,23,25,27,25,37,22,11,15,31,20,17,20,23,20,19,17,12,25,33,26,22,6,27,24,16,28,17,18,18,13,17,16,20,27,23,16,29,13,9,29,6,39,28,7,9,20,27,17,29,35,19,33,27,29,43,14,15,20,35,36,27,7,36,13,22,19,34,16,13,41,16,38,11,13,12,0,0,0,0,28,39,20,25,43,33,29,18,21,15,19,22,11,25,49,17,10,18,10,31,27,29,20,39,9,25,37,69,25,37,19,31,7,7,6,12,9,11,17,8,4,17,8,6,1,8,4,21,4,9,5,9,9,16,13,17,5,7,3,8,12,7,21,7,7,7,28,43,18,26,42,32,27,32,42,22,36,50,12,33,7,6,7,2,7,3,1,18,15,6,11,4,2,9,6,8,3,8,13,4,1,1,2,4,2,5,0,0,0,0,15,12,16,53,4,7,10,24,22,11,38,56,4,26,19,24,17,8,44,19,19,57,19,18,69,56,57,66,58,44,64,38,61,80,57,64,62,44,70,70,75,60,71,68,68,76,78,60,53,79,48,68,75,78,67,53,71,40,77,84,69,53,63,53,82,75,47,57,88,73,32,89,53,61,68,72,61,55,39,65,61,86,76,57,105,71,62,89,95,103,82,82,144,68,84,145,79,148,101,120,113,90,53,31,113,89,100,114,130,124,106,74,51,73,73,53,80,56,85,62,61,92,46,62,74,64,98,64,57,79,73,43,96,57,30,58,79,64,57,89,52,78,107,59,63,77,106,80,44,58,48,55,97,84,53,40,64,79,45,59,62,76,67,78,84,59,99,53,73,61,53,56,70,67,54,80,92,65,82,95,72,67,38,91,68,68,55,28,22,15,11,17,8,6,5,7,10,14,4,0,3,1,3,4,1,2,1,0,33,32,29,29,42,25,24,34,30,34,45,32,32,38,36,32,41,18,21,50,37,40,34,43,46,30,30,66,29,58,38,32,15,8,13,8,14,10,17,21,7,15,25,12,15,7,13,9,9,28,16,23,7,22,21,11,22,15,17,18,20,19,17,29,29,8,12,22,15,13,24,26,18,16,14,20,26,65,24,24,7,39,34,41,18,19,22,33,20,38,20,41,42,28,49,26,43,71,30,28,40,41,39,20,19,27,35,33,43,36,39,32,7,24,35,41,21,39,16,25,41,13,40,25,51,22,17,47,32,50,20,61,29,52,57,35,18,44,14,47,25,23,38,36,33,53,34,43,40,54,50,32,53,28,26,26,38,25,61,25,22,28,36,46,19,20,15,34,27,14,40,25,35,28,31,75,27,14,25,82,60,34,37,64,23,42,59,49,51,22,45,69,64,25,35,65,15,69,29,20,29,28,13,42,21,34,21,19,26,49,24,38,26,23,36,44,31,23,33,37,15,33,21,25,26,29,29,29,27,36,24,31,16,24,25,22,40,21,31,16,16,35,41,21,21,24,22,29,10,23,33,87,20,12,27,16,24,22,17,27,13,22,19,15,24,22,18,11,11,9,13,9,18,26,5,24,17,18,12,14,26,37,39,29,42,83,18,33,31,30,40,34,43,35,32,30,37,38,48,45,49,26,46,28,42,18,33,41,34,36,48,32,38,31,25,48,26,87,70,62,75,72,55,26,18,28,14,25,25,21,28,11,1,3,8,8,10,6,1,0,4,17,0,5,40,31,36,44,49,35,26,36,77,64,34,44,67,28,53,11,7,18,14,20,3,11,7,6,19,10,36,18,20,21,6,15,30,18,25,9,26,16,26,2,22,6,18,9,16,16,14,10,24,26,22,22,24,10,14,16,3,18,20,34,17,8,12,28,19,13,23,17,19,23,18,17,16,13,12,20,7,11,14,11,17,18,12,8,10,10,2,12,21,48,38,31,48,21,44,39,30,24,42,44,28,42,30,38,35,43,37,18,29,45,55,35,31,42,52,37,22,42,10,37,35,41,38,47,35,40,31,41,20,30,26,26,32,30,41,60,39,35,42,47,26,29,21,35,39,30,16,36,41,30,25,27,37,34,15,36,43,32,35,25,43,30,25,30,20,53,25,14,55,15,27,38,26,21,20,45,24,22,6,3,3,5,10,19,8,15,2,5,45,59,52,48,31,69,58,43,40,58,68,83,46,34,56,47,40,61,143,28,89,48,70,41,52,45,40,58,52,71,41,39,28,31,41,42,9,42,31,51,8,37,35,46,40,38,26,35,34,26,28,48,70,27,28,24,30,27,55,30,39,33,27,22,13,25,44,17,7,10,5,2,1,1,2,0,4,5,2,6,5,2,10,4,3,4,1,5,2,10,5,6,4,4,0,2,4,2,8,9,1,0,1,5,10,12,7,3,1,7,2,3,6,8,5,3,5,0,14,10,17,5,8,3,13,8,14,12,22,20,9,14,6,8,3,11,10,14,14,18,9,15,1,90,13,17,16,9,19,3,8,5,0,2,1,1,0,3,0,12,3,1,0,2,4,1,1,20,33,17,5,16,31,38,118,23,9,40,36,46,14,6,16,33,24,4,12,18,25,21,30,12,9,25,19,8,3,4,3,35,22,66,46,33,33,45,40,49,45,54,60,40,40,23,21,14,21,5,35,21,22,39,17,17,15,20,10,56,35,30,32,64,23,10,11,6,4,13,3,15,22,20,14,6,2,18,50,37,50,56,30,25,35,35,25,40,22,41,18,31,31,37,25,33,31,44,20,39,35,42,41,16,42,26,39,40,26,37,27,77,60,79,39,45,67,70,42,51,58,47,36,45,58,43,80,56,45,73,71,60,59,90,58,40,63,39,15,20,37,18,36,17,43,24,21,33,22,58,11,32,25,25,40,31,35,72,29,36,32,28,28,41,68,36,63,20,14,63,32,32,56,45,24,31,79,62,39,71,38,61,36,65,33,37,34,45,85,62,72,52,45,34,46,47,51,35,53,36,64,29,70,63,54,24,61,49,65,62,56,81,54,81,64,54,61,28,81,77,50,66,52,50,45,56,75,70,77,46,22,80,49,65,55,58,70,41,57,57,62,23,29,43,45,43,35,42,54,31,76,57,58,71,72,37,44,32,45,61,47,25,40,42,43,52,56,36,68,46,44,19,91,27,48,38,49,55,53,120,61,25,62,54,77,67,90,76,19,87,35,38,54,50,30,41,78,66,24,85,41,113,93,32,39,98,80,68,35,60,25,121,88,119,56,64,102,60,41,53,17,41,50,61,74,77,39,124,84,81,62,55,86,24,30,75,44,55,39,52,59,76,68,50,79,49,66,51,32,37,56,68,75,49,40,58,85,34,100,21,67,50,81,47,61,82,56,75,59,114,23,59,48,18,58,33,102,82,55,78,47,65,85,55,55,45,34,60,66,31,69,50,45,53,45,60,29,67,72,124,46,58,31,139,38,30,83,67,14,80,25,61,52,48,92,78,41,108,84,97,83,44,48,92,111,85,86,87,76,83,69,27,66,20,78,37,18,72,31,45,51,79,48,60,47,23,60,28,27,62,54,40,32,37,30,30,3,35,5,8,17,11,15,10,8,13,29,8,10,13,22,14,12,8,15,24,22,11,5,16,38,37,22,4,16,37,12,9,15,7,24,22,15,14,14,35,13,15,20,15,14,21,24,11,11,21,25,8,16,13,30,26,12,25,26,19,15,21,18,23,16,15,8,16,27,80,46,92,70,60,47,32,67,61,51,22,89,98,55,50,36,71,50,82,71,89,59,56,96,42,55,47,62,100,26,51,47,97,44,85,71,70,68,123,99,67,72,85,73,63,76,82,34,61,127,21,44,30,27,24,19,34,30,13,50,31,31,31,34,46,37,30,47,36,26,62,33,53,32,44,16,24,38,31,27,43,30,56,30,36,45,36,41,49,16,28,35,15,17,2,7,9,6,6,0,2,0,0,0,6,36,40,66,18,48,17,58,64,43,40,55,68,65,110,35,42,82,34,67,62,72,21,31,39,30,28,49,16,30,22,19,18,32,22,32,51,15,31,18,11,35,11,21,32,64,17,23,23,15,21,25,28,18,24,33,35,31,26,32,11,33,20,24,23,10,29,28,21,37,27,74,23,26,44,33,35,41,27,63,46,42,20,11,32,29,12,56,16,19,51,52,60,32,43,27,34,38,48,44,46,29,14,39,8,36,20,35,21,24,63,17,11,27,2,13,13,7,3,7,12,11,3,12,6,9,7,14,2,3,9,5,10,3,12,5,4,9,10,22,10,14,11,24,22,6,4,6,0,5,2,5,10,4,7,3,10,6,4,6,6,2,3,10,10,4,11,4,1,2,6,3,0,12,10,6,79,41,62,64,82,62,47,101,137,39,114,67,43,87,66,42,25,53,78,20,66,85,46,93,27,26,54,64,70,60,52,24,114,33,81,95,75,84,49,47,62,91,66,98,95,121,49,71,53,114,62,84,91,130,75,64,88,105,83,110,82,133,53,52,43,91,54,51,64,90,54,67,8,63,81,63,52,52,51,89,113,50,77,87,40,25,11,31,50,68,64,99,46,21,104,75,51,45,80,49,52,61,63,125,104,63,65,91,82,63,68,31,45,78,61,60,82,70,64,35,31,75,41,77,38,36,56,30,59,36,54,76,97,31,51,40,62,98,51,39,68,44,51,61,52,64,70,59,77,86,43,56,68,63,68,94,46,56,54,65,51,83,71,76,9,66,45,35,43,95,50,114,78,19,107,46,49,101,53,75,55,39,42,59,105,77,58,67,150,55,84,67,59,41,42,40,129,63,44,74,90,104,68,33,45,73,48,107,54,54,63,45,105,68,29,70,77,17,73,96,67,69,79,58,39,127,35,92,50,65,54,47,15,43,77,103,55,48,58,70,35,45,66,22,51,83,71,25,48,25,41,39,34,43,50,56,33,30,18,35,16,37,24,42,39,46,40,13,16,82,26,52,24,16,110,24,54,57,34,23,39,13,65,23,38,63,8,18,29,19,14,24,13,29,69,13,11,22,20,12,25,22,20,15,14,16,15,16,29,6,24,24,16,23,19,19,17,22,32,32,24,20,31,16,17,19,7,41,16,18,30,8,23,23,27,57,6,25,16,9,40,18,25,24,8,33,54,52,11,15,29,28,19,14,16,5,10,33,16,19,19,32,22,10,28,25,33,25,18,50,25,34,59,29,32,37,33,74,37,42,28,69,57,68,20,49,31,46,38,40,29,51,40,39,22,40,13,63,38,26,72,60,12,8,26,38,17,18,17,12,23,12,5,15,28,18,25,20,36,20,8,26,24,22,19,9,43,29,23,20,15,37,16,11,19,19,17,6,19,100,40,29,32,25,17,38,5,3,17,5,6,3,14,0,1,4,6,41,19,25,12,28,16,58,17,38,11,14,16,35,13,40,39,25,17,27,14,18,25,13,24,31,11,60,32,73,21,16,19,17,17,14,21,15,17,9,13,31,12,10,27,25,16,54,17,29,24,15,32,11,18,17,8,16,5,9,33,8,12,9,17,10,3,8,9,12,11,6,10,32,8,10,10,18,16,9,9,11,22,18,8,6,17,22,7,3,18,3,14,15,12,10,8,13,18,39,6,12,15,11,8,10,14,12,17,12,8,12,19,26,12,16,9,43,24,9,20,7,14,24,12,19,3,5,18,4,4,7,2,4,0,6,7,2,7,24,51,18,11,35,21,25,3,58,11,29,37,4,0,23,10,6,11,12,9,27,23,15,16,18,13,19,26,12,17,27,10,7,16,20,28,7,19,17,20,9,15,25,22,23,25,23,32,19,15,5,10,10,10,1,2,7,6,2,6,2,5,2,9,6,4,5,10,3,34,8,4,11,18,15,51,49,9,58,27,31,14,71,66,26,41,25,41,16,62,36,55,32,64,54,52,35,14,23,10,19,40,109,78,31,25,40,46,35,16,19,70,13],\"type\":\"histogram\",\"xaxis\":\"x4\",\"yaxis\":\"y4\"},{\"name\":\"Sweet\",\"x\":[74,55,43,101,45,62,58,73,39,50,59,30,43,54,105,49,43,62,54,102,43,84,33,55,54,67,86,106,47,66,52,77,57,135,57,87,62,61,68,170,142,97,83,125,74,117,143,80,102,101,52,125,97,74,110,70,81,146,109,124,86,50,89,98,86,134,92,113,125,137,85,71,107,116,103,100,127,105,103,138,156,116,67,119,123,100,99,126,123,188,148,80,134,186,125,96,124,144,145,134,101,122,114,63,82,53,21,75,63,57,45,118,54,53,48,65,57,70,68,76,52,41,62,71,47,74,75,61,27,56,79,96,95,86,52,55,66,67,52,29,44,55,49,31,44,36,48,55,48,18,63,97,60,34,47,62,73,55,62,60,32,60,37,43,58,55,41,15,62,13,47,62,40,77,71,39,63,54,86,91,124,104,109,14,4,17,39,35,48,31,45,26,12,47,27,27,34,22,57,38,14,27,41,33,30,78,27,30,45,21,30,22,32,49,18,26,34,47,40,45,63,66,92,61,71,50,82,78,73,79,75,41,54,82,62,81,76,54,89,39,31,64,94,13,28,60,51,51,27,117,93,75,92,138,87,100,54,107,98,93,115,118,102,120,100,97,127,121,112,75,116,130,109,89,152,216,91,69,154,58,136,131,83,130,104,94,85,95,101,118,168,175,105,150,171,124,36,16,21,9,31,13,0,99,58,64,56,88,84,66,71,87,123,50,52,65,90,105,83,71,88,58,37,65,62,67,38,59,77,100,94,65,62,46,75,54,63,29,24,21,101,31,162,72,129,54,42,88,50,55,77,86,57,95,88,114,89,91,85,88,80,86,97,68,92,59,103,114,81,86,65,63,95,52,67,52,103,104,102,59,87,88,123,47,181,80,56,32,96,73,62,60,81,71,66,83,48,40,115,21,13,56,100,31,263,123,141,169,127,68,180,95,21,56,25,7,7,13,36,43,38,53,65,77,57,50,66,70,60,48,71,105,43,44,99,60,60,72,58,47,56,131,97,65,76,71,48,61,56,98,89,82,82,75,91,121,87,89,116,53,62,81,100,82,59,60,66,52,49,100,19,49,18,94,16,77,73,75,69,77,71,52,48,70,80,86,66,133,59,50,42,78,62,66,70,67,158,48,65,90,64,54,72,97,74,92,73,49,65,98,47,79,93,78,68,60,46,49,77,46,28,12,52,47,41,42,26,27,41,27,26,5,11,6,5,74,21,10,66,23,44,7,33,22,16,16,16,6,12,18,57,7,59,8,3,3,9,16,4,0,27,70,32,64,31,39,17,15,32,71,38,40,27,57,24,16,57,53,38,103,58,56,27,141,120,56,90,113,114,96,103,115,106,80,84,107,100,120,97,120,95,100,60,82,81,145,109,124,108,79,149,108,108,99,129,97,95,96,103,105,119,136,133,70,120,55,53,60,77,68,45,75,56,77,103,121,62,101,80,121,80,104,83,80,125,93,96,120,16,70,121,86,92,92,99,111,92,60,122,71,62,61,0,0,6,0,39,34,31,22,72,31,59,66,75,32,67,15,55,56,41,55,97,68,42,47,66,31,39,65,48,65,55,68,102,37,26,73,40,193,22,138,81,90,66,129,134,101,196,170,59,30,89,28,52,139,168,84,96,55,30,21,22,99,122,28,143,73,121,79,38,108,46,171,58,77,95,93,57,22,71,80,106,45,24,36,12,4,1,3,13,15,4,38,15,12,16,7,2,8,17,25,3,9,8,3,3,0,10,1,9,3,0,0,0,0,128,145,23,44,33,61,80,37,56,22,100,132,114,54,13,66,67,65,60,31,72,55,39,76,43,14,31,28,23,35,30,16,42,38,45,56,46,38,39,106,32,31,46,42,42,54,46,50,21,33,88,45,57,24,27,31,44,25,48,76,48,33,39,41,79,65,21,56,53,64,13,54,50,55,45,21,103,24,38,74,82,63,30,34,56,66,66,145,23,52,48,33,58,44,29,71,29,65,44,59,51,65,47,24,63,49,59,70,27,46,34,35,47,28,39,42,42,47,53,48,52,45,43,70,15,70,90,43,54,67,42,34,50,28,29,48,56,30,20,77,20,37,51,27,62,44,42,48,40,51,53,89,44,42,76,55,42,54,51,49,82,68,42,73,61,26,41,57,29,64,48,37,52,57,58,61,60,54,54,50,86,25,45,40,50,32,51,92,109,84,35,89,55,71,56,38,35,47,23,44,28,16,19,11,14,15,13,0,38,22,19,30,38,41,26,29,47,33,37,33,52,29,37,46,26,35,25,47,25,59,20,45,58,30,34,51,16,36,30,44,16,16,10,12,15,10,40,19,23,36,24,27,31,27,19,20,17,20,22,20,9,32,22,10,21,15,14,39,16,23,21,24,24,37,28,30,14,10,12,22,24,39,23,14,22,34,38,37,58,44,50,47,55,39,26,69,65,38,25,38,70,81,54,57,30,65,67,117,82,50,65,47,113,48,50,51,36,58,74,23,16,25,31,33,8,33,37,14,28,35,32,46,23,31,84,17,23,39,52,30,58,84,21,18,24,42,28,44,30,31,64,66,18,34,28,53,20,29,45,51,39,23,12,19,38,20,41,29,16,21,29,20,17,35,14,25,54,14,31,39,79,41,54,40,54,33,60,65,70,61,61,68,58,58,59,48,80,97,49,47,67,131,105,87,15,63,91,19,24,30,36,25,31,26,21,32,27,35,49,44,20,20,20,27,26,13,24,36,48,18,26,19,26,25,25,23,16,29,29,50,14,31,14,35,26,33,6,17,35,16,60,76,61,102,41,68,74,59,59,46,91,33,35,53,23,83,61,44,92,48,40,37,32,65,63,8,13,68,48,10,75,64,12,56,27,41,62,17,74,24,21,26,33,37,40,38,19,18,29,48,51,33,18,17,26,37,22,32,43,22,32,35,41,18,34,24,30,24,37,51,28,19,15,50,30,35,57,34,39,27,16,24,18,28,11,28,18,14,14,7,2,2,6,10,16,6,2,0,2,8,0,0,28,59,53,49,45,20,68,71,75,58,33,65,57,30,37,20,6,15,15,31,5,5,8,28,14,8,21,23,3,20,7,12,38,12,30,10,24,28,28,1,21,20,22,10,21,7,13,80,33,13,29,27,14,21,23,28,19,30,28,34,47,34,49,41,39,40,44,44,47,49,48,38,51,56,50,55,21,44,32,82,31,60,26,57,17,79,46,48,42,49,62,13,86,75,57,55,58,54,45,59,91,53,64,89,75,65,80,61,81,107,41,51,77,58,76,83,37,83,31,95,78,83,70,59,47,72,42,63,57,60,44,36,48,76,63,59,44,64,58,71,52,49,52,47,52,53,38,73,44,56,56,52,50,53,42,53,42,62,67,65,82,61,73,26,45,71,47,34,63,74,74,55,45,27,30,60,38,23,15,23,16,11,56,24,16,17,7,19,38,51,36,41,57,42,37,52,55,40,64,37,34,36,59,31,54,47,92,67,71,96,67,46,47,68,61,82,50,71,33,44,53,31,62,28,23,40,39,57,40,72,31,54,57,53,54,78,47,51,66,34,35,58,37,50,62,51,49,58,59,70,14,49,22,10,48,92,178,132,101,89,38,34,19,0,66,174,42,118,101,44,103,80,87,66,73,88,52,16,99,159,29,97,36,74,125,52,69,70,112,70,103,65,69,148,104,56,68,159,44,119,68,67,187,48,71,43,53,50,74,48,77,34,45,80,67,64,68,50,29,53,74,131,86,62,91,49,83,29,82,16,69,59,40,62,61,18,48,39,18,20,6,5,5,24,2,9,3,21,14,6,0,4,4,11,5,12,57,26,15,16,24,46,48,24,5,65,15,18,17,8,22,40,42,13,32,19,24,24,8,13,20,10,47,14,12,7,13,99,38,83,67,39,74,81,75,84,36,50,71,49,57,31,39,18,23,18,60,83,25,88,40,23,36,22,19,71,40,25,31,37,13,3,12,6,0,12,8,12,17,13,13,7,3,2,68,96,93,125,134,64,79,106,178,88,127,51,86,66,56,42,55,75,118,89,68,73,126,113,127,115,97,171,95,111,85,82,102,54,39,48,19,37,36,34,36,48,20,35,31,48,27,29,39,49,31,47,29,24,47,23,33,27,42,38,60,28,73,108,41,70,65,61,41,83,41,22,60,62,65,34,65,93,67,41,48,57,74,53,70,47,38,40,82,22,147,55,46,60,66,55,16,42,47,37,29,47,45,18,14,41,29,19,39,34,54,40,65,51,44,47,41,46,83,56,41,89,46,46,41,33,57,48,63,56,44,33,19,27,34,30,26,18,17,11,19,33,22,12,27,25,27,30,20,24,31,16,25,23,9,32,27,26,26,32,19,10,23,15,23,23,17,13,23,7,13,44,18,17,26,37,15,28,15,42,18,38,24,14,26,38,19,29,18,43,11,37,17,30,36,24,18,17,24,37,43,45,48,11,38,71,80,49,43,42,124,63,61,37,53,28,16,47,75,63,37,70,23,65,80,51,33,79,28,34,28,52,26,46,54,48,65,60,40,50,52,78,94,43,57,78,49,82,38,56,32,57,69,75,88,46,96,105,79,80,86,110,60,120,93,86,85,99,93,96,99,97,87,87,103,62,67,141,81,71,74,87,60,64,85,52,99,90,87,53,62,44,35,75,57,28,60,59,91,48,65,62,32,61,117,62,65,51,45,59,96,98,72,95,74,114,63,75,60,81,73,54,67,86,104,66,87,154,47,35,44,52,67,56,84,59,79,85,93,79,63,59,80,96,82,65,72,85,62,50,76,50,72,33,67,18,53,51,38,74,52,72,69,62,44,89,67,32,59,23,46,49,55,56,52,33,25,14,10,48,4,29,20,51,28,44,22,16,33,42,33,83,50,36,16,26,43,43,25,45,33,41,62,26,29,26,57,70,43,50,50,38,117,90,103,86,112,148,88,120,99,110,117,129,110,110,91,108,119,91,98,116,92,170,155,103,138,100,97,135,145,219,180,97,133,106,35,53,60,74,67,54,38,76,66,41,40,55,59,61,66,56,33,55,48,51,86,38,65,69,77,65,78,23,71,44,74,67,37,84,78,45,74,49,70,68,135,74,72,87,62,71,52,71,104,23,97,9,73,60,58,29,35,45,63,55,48,44,127,55,38,93,71,70,58,61,93,54,50,100,95,76,46,27,51,102,66,73,52,39,51,79,71,67,66,62,36,41,45,41,27,37,30,6,21,4,0,10,13,0,2,10,30,20,47,71,59,51,39,41,52,40,116,59,22,54,45,22,20,99,27,40,26,76,63,78,100,88,88,62,98,79,37,83,82,67,101,109,56,217,92,81,126,93,78,55,97,122,73,110,106,70,145,111,75,60,104,137,86,43,52,26,88,57,94,61,42,66,68,47,68,103,72,85,68,92,73,96,70,88,92,71,98,85,65,86,57,8,12,52,41,76,46,48,76,39,47,107,98,61,57,96,52,47,76,45,44,42,62,50,108,64,21,20,61,25,34,28,14,3,37,55,49,28,53,44,119,40,41,69,89,73,71,100,32,125,97,43,45,135,124,80,102,50,74,103,101,8,123,34,87,74,78,66,47,69,172,52,95,102,86,124,91,116,92,99,75,74,69,43,61,52,57,31,42,31,53,77,83,88,65,48,67,112,46,83,110,60,102,72,42,57,52,106,82,51,37,98,61,73,92,69,50,76,54,87,70,80,75,55,74,109,72,37,50,55,138,63,50,59,33,47,72,126,111,60,32,59,17,28,57,44,51,32,78,58,53,46,46,139,72,41,76,62,75,56,53,74,62,14,46,59,49,35,202,49,61,58,48,45,48,39,34,44,65,67,43,46,97,73,20,42,47,53,82,68,101,61,57,90,71,70,56,79,49,109,47,105,63,64,55,52,74,66,109,53,45,30,117,32,55,22,31,67,13,50,38,49,39,65,17,58,33,47,56,24,24,45,29,68,28,56,30,65,46,44,54,40,30,55,59,58,71,34,42,40,45,54,60,85,52,14,33,32,31,47,62,90,78,65,74,62,56,55,28,66,56,54,50,43,40,60,75,51,61,85,53,32,68,122,84,36,40,43,81,29,41,78,113,49,62,82,57,102,118,71,112,54,70,115,114,67,56,77,51,102,49,82,54,89,80,68,82,77,69,97,87,66,63,78,62,77,73,71,56,55,84,62,51,90,71,82,79,101,96,90,54,64,72,73,63,147,65,95,108,99,120,95,118,129,93,77,124,52,87,81,93,108,61,144,179,103,46,94,96,67,206,42,147,84,151,96,102,65,125,88,105,102,71,69,101,83,74,101,168,104,146,89,89,95,100,127,114,92,136,119,72,127,92,130,73,119,124,92,122,101,136,80,87,130,109,87,124,104,41,44,59,42,45,65,111,80,52,75,53,108,72,45,57,117,58,68,94,83,71,55,54,90,70,80,83,109,130,70,97,68,84,73,61,115,46,63,74,91,49,126,81,92,73,72,73,72,83,59,96,95,97,122,119,72,91,97,70,102,59,83,89,67,119,79,67,93,81,74,116,67,25,70,63,40,26,53,62,52,80,42,85,73,64,69,71,73,66,72,68,125,36,30,75,105,96,58,67,154,62,71,56,63,140,64,89,72,93,69,79,91,55,95,34,33,26,21,65,5,10,40,12,22,22,40,9,2,4,0,26,27,22,16,22,25,20,131,18,70,34,79,29,27,16,40,30,24,33,115,15,33,30,32,36,74,13,29,33,118,16,94,73,57,61,40,51,47,49,52,82,45,48,70,42,60,62,52,53,50,71,65,53,54,33,30,57,48,36,33,25,52,33,60,33,19,53,58,34,15,20,24,23,20,9,29,39,17,26,32,25,26,39,26,60,23,31,16,33,30,18,37,21,16,39,24,23,23,35,27,17,21,24,19,27,27,51,48,23,28,57,14,71,52,46,29,16,25,25,49,30,24,49,20,47,7,1,15,7,8,2,1,5,6,7,3,7,99,119,76,167,124,121,135,127,53,142,30,98,96,34,4,38,17,21,25,11,7,34,21,72,20,31,160,25,18,62,27,18,82,26,31,14,28,25,32,12,36,16,32,32,48,52,58,28,40,31,25,26,51,53,40,47,111,98,75,115,46,32,90,136,107,130,67,106,93,88,54,87,50,78,49,57,83,65,68,38,49,36,50,65,104,49,63,52,64,67,78,73,60,71,65,52,77,81,51,64,62,52,75,58,126,83,95,108,67,46,54,52,72,71],\"type\":\"histogram\",\"xaxis\":\"x3\",\"yaxis\":\"y3\"},{\"name\":\"Sour\",\"x\":[33,16,11,18,9,25,29,22,13,55,25,11,13,13,31,5,18,19,7,25,13,32,13,20,10,29,21,23,39,11,28,20,33,49,10,22,34,46,25,30,25,27,36,72,28,29,38,41,36,23,20,33,27,39,73,28,14,78,67,43,36,28,46,48,36,34,26,20,80,71,38,22,39,56,42,34,39,23,27,26,34,36,13,28,23,25,14,22,31,74,36,22,40,52,44,17,42,45,54,28,35,26,33,23,19,18,23,29,16,20,21,63,20,17,43,23,38,35,33,26,25,27,54,47,45,34,38,24,20,16,30,33,36,32,33,49,28,32,47,16,24,7,20,30,24,10,35,26,44,26,17,49,13,19,27,34,28,72,21,31,31,17,44,38,43,73,59,33,42,24,28,22,28,37,56,59,42,39,119,65,49,49,65,22,1,41,38,27,79,25,39,21,2,58,26,35,45,80,42,32,25,43,54,27,48,24,16,25,35,32,64,35,24,52,5,17,11,36,55,49,57,41,76,45,40,30,59,65,69,103,44,49,50,65,47,64,44,54,76,27,82,54,44,16,34,46,41,58,21,25,15,17,20,18,25,21,6,25,23,17,51,30,11,28,28,18,18,27,22,15,27,28,39,17,42,43,10,11,37,9,26,16,23,31,27,17,30,32,21,29,36,46,41,45,49,33,17,6,4,6,9,3,0,24,18,10,9,7,31,11,22,31,17,20,7,15,29,34,36,20,27,32,30,20,22,18,26,21,27,47,48,28,39,18,67,25,13,33,13,5,10,6,17,24,16,8,7,25,10,14,22,24,7,23,6,9,10,27,18,22,17,18,36,30,33,5,55,29,15,17,33,10,38,48,36,43,33,36,70,24,29,42,49,84,59,32,23,85,30,24,38,18,22,35,49,10,41,11,79,31,6,18,39,8,38,61,114,18,29,20,81,24,2,3,6,0,3,1,133,133,44,13,9,8,5,5,16,33,6,3,6,9,4,6,1,0,29,5,16,12,4,16,9,24,6,16,31,9,10,18,61,36,43,66,35,54,32,57,34,30,30,147,31,25,62,25,28,4,11,29,8,18,4,29,7,18,7,8,9,19,8,11,7,11,9,2,4,18,16,5,9,7,4,13,15,8,25,12,5,9,13,4,12,8,9,10,26,11,11,17,4,20,13,9,19,42,58,18,50,13,51,33,49,41,54,11,28,22,14,13,15,8,10,8,5,31,7,6,8,15,140,4,14,9,5,9,10,3,25,9,28,1,2,4,4,2,4,4,4,1,29,19,19,28,17,33,14,17,22,88,31,3,15,23,16,13,19,15,14,146,29,16,12,10,32,23,26,49,36,30,37,25,20,35,30,43,31,30,44,21,14,25,29,43,27,50,38,41,79,23,45,38,42,36,72,29,66,25,35,41,34,37,36,45,55,143,17,113,63,73,131,172,62,156,69,37,29,62,58,56,61,72,41,204,103,59,61,58,15,57,41,42,59,73,94,78,59,28,37,59,113,20,0,0,2,0,59,70,102,55,144,83,172,113,52,62,110,29,130,70,78,170,122,101,174,76,79,69,81,85,139,75,90,156,81,162,109,38,16,90,55,50,67,49,49,61,120,22,173,76,53,13,67,80,35,41,68,21,50,87,61,41,13,31,54,26,22,28,50,17,19,51,86,16,20,33,47,67,10,55,75,23,53,10,16,9,13,3,8,1,8,4,15,16,12,5,1,6,6,1,13,5,3,4,6,0,0,0,3,1,0,2,0,0,0,0,42,68,15,37,29,57,56,3,11,25,97,34,105,57,9,8,17,27,21,98,23,91,92,44,53,40,37,24,56,58,37,24,26,69,48,79,54,38,55,62,44,56,63,38,53,65,54,85,43,42,35,36,58,23,51,61,48,32,62,88,69,49,57,69,69,76,61,138,75,55,70,84,39,80,81,89,78,41,38,107,76,85,61,68,61,84,55,77,19,43,20,9,64,7,18,42,27,43,19,17,44,21,17,14,70,34,26,16,42,41,29,31,40,35,36,28,58,69,74,29,21,73,26,55,27,73,78,40,24,58,38,16,68,34,28,46,32,35,29,61,12,31,77,43,57,44,44,54,31,49,43,42,65,43,77,39,46,53,62,60,57,45,46,69,59,31,43,42,40,51,51,42,57,72,24,68,57,89,67,55,53,48,30,55,79,49,83,23,47,16,44,17,10,25,24,12,0,12,10,14,9,2,6,1,3,8,10,1,37,9,18,26,24,29,6,35,35,30,40,25,35,45,49,34,35,37,19,41,34,46,16,37,37,15,31,59,18,42,32,35,10,10,22,3,4,7,11,14,11,9,5,17,14,7,2,9,5,8,3,8,5,6,6,3,15,11,7,13,9,7,8,9,6,13,10,10,7,6,10,7,12,11,9,1,1,19,4,7,4,10,10,9,46,9,7,24,23,15,4,5,12,12,14,9,35,31,15,5,42,27,16,13,8,13,15,14,11,20,20,20,8,10,12,10,2,21,7,9,26,11,17,12,36,11,52,36,22,35,13,17,18,32,16,4,7,23,7,19,8,9,20,31,26,13,15,24,9,14,21,17,23,14,10,15,13,7,52,24,10,4,21,5,8,12,13,5,7,3,12,7,23,7,22,5,8,3,28,13,11,17,10,9,17,10,11,6,12,26,13,3,25,11,19,11,8,21,6,3,14,23,16,10,13,11,9,21,13,18,15,17,8,9,3,30,14,6,18,10,12,27,7,14,24,4,20,11,13,17,15,20,4,12,6,9,6,10,8,16,14,16,18,21,13,50,6,31,30,15,31,45,28,8,12,22,15,24,12,13,40,16,9,6,15,16,13,1,2,24,20,1,19,21,2,27,1,16,21,10,22,8,6,15,8,57,17,25,9,13,24,11,27,18,6,17,4,13,14,7,26,13,16,9,21,18,13,14,23,17,18,55,9,15,10,16,3,52,66,55,45,53,22,5,13,10,4,8,4,11,11,4,4,1,5,5,8,5,1,0,0,3,0,0,25,26,63,29,48,27,19,21,80,55,28,61,44,31,38,4,5,72,10,2,5,17,1,11,8,3,11,3,8,7,0,3,11,8,4,7,19,96,33,0,4,10,8,8,8,4,7,29,5,8,11,14,6,11,18,4,2,7,15,10,12,16,21,10,6,12,15,11,22,18,17,8,15,29,25,11,7,12,18,41,17,45,10,13,5,28,10,14,6,10,15,10,14,23,6,5,8,12,18,12,23,13,10,20,18,8,19,5,15,19,4,12,26,3,14,33,3,19,5,18,6,15,19,13,11,28,10,13,11,10,14,10,10,18,5,20,9,19,28,19,7,12,16,15,23,9,21,28,14,14,10,12,25,9,21,16,8,11,18,18,11,17,15,5,4,12,11,19,7,17,14,3,18,14,13,5,6,13,2,10,6,0,27,13,2,3,3,4,3,17,4,9,10,4,4,11,2,6,11,3,2,1,13,15,7,9,19,23,27,19,20,16,11,8,8,14,5,17,10,12,11,8,20,4,7,12,9,23,8,19,13,9,11,9,17,11,10,19,32,20,26,13,13,11,1,15,12,16,12,29,9,33,7,2,19,85,132,103,67,79,21,30,18,0,112,91,98,117,143,96,143,98,89,135,43,103,116,90,119,185,102,95,157,113,118,76,109,188,94,185,219,227,233,123,138,173,70,84,197,241,182,57,90,170,44,134,149,206,198,137,197,116,169,169,178,183,185,145,136,160,284,183,95,229,101,200,163,169,159,75,69,191,122,106,213,107,157,92,87,48,39,33,22,56,10,27,19,48,32,17,5,17,11,34,5,8,17,7,2,7,6,12,57,6,4,16,10,15,4,17,10,11,7,7,6,9,13,8,8,5,4,2,4,25,3,1,3,21,73,21,44,8,19,22,14,11,10,9,13,11,10,7,5,5,2,1,28,55,1,46,9,2,14,8,6,39,24,34,18,32,24,1,6,1,2,18,3,9,9,17,11,3,0,8,21,27,14,25,14,10,31,15,31,32,25,7,21,22,12,8,7,12,31,13,53,20,21,27,42,34,31,49,16,33,105,23,48,33,37,72,21,41,84,54,37,40,66,59,33,54,37,19,45,36,51,81,43,37,49,45,86,33,53,70,51,52,49,65,120,53,71,81,48,46,47,45,54,41,32,47,134,48,73,65,47,59,47,30,99,76,64,127,62,58,63,84,22,32,30,17,24,18,77,56,26,39,44,44,11,34,41,21,24,40,66,42,35,45,35,16,19,27,33,7,26,35,47,34,66,24,41,27,52,30,32,41,18,26,20,17,21,8,23,6,9,16,33,13,21,19,4,35,20,12,36,23,14,16,24,19,22,29,22,23,17,21,24,5,10,6,34,6,15,7,8,20,20,5,14,20,19,21,6,17,22,36,14,6,11,31,20,12,21,18,11,18,14,25,42,14,5,4,10,35,31,42,24,8,44,33,73,42,37,66,49,26,30,28,24,13,3,22,7,10,3,11,4,7,10,4,0,18,1,1,7,3,1,17,12,3,14,9,29,12,5,11,4,4,9,4,8,9,5,5,6,9,8,5,20,36,30,29,9,18,26,29,9,17,28,31,20,13,27,18,21,18,10,11,22,36,22,25,20,22,47,28,22,8,12,14,13,13,22,4,14,10,70,14,9,7,10,9,15,4,15,11,7,2,26,5,27,13,10,22,24,10,3,26,23,10,15,27,5,8,5,13,8,16,4,16,16,21,5,22,18,6,13,8,41,9,25,29,13,13,13,14,12,10,13,9,12,9,9,2,35,9,14,5,16,3,9,7,4,27,5,13,9,12,4,25,8,6,23,1,8,7,9,14,9,13,3,1,1,3,0,0,7,13,20,12,12,15,24,17,14,11,14,13,7,8,18,2,119,20,23,19,2,25,4,10,14,20,8,4,27,11,44,26,44,21,44,19,28,27,39,35,28,41,34,45,26,30,35,36,29,33,29,54,51,35,34,32,38,34,42,28,50,31,74,41,12,31,23,58,40,21,24,19,41,13,22,4,31,36,38,30,30,34,34,26,40,28,52,29,59,15,21,9,36,8,13,28,50,50,48,27,38,17,51,47,60,29,28,33,30,41,52,25,39,17,79,10,24,7,8,6,6,14,18,24,15,12,51,13,24,14,28,22,15,23,40,9,13,29,18,15,18,2,19,22,18,42,11,38,19,20,29,19,24,25,40,44,30,28,39,39,37,4,10,3,0,10,4,0,2,9,16,31,28,14,22,12,39,64,18,22,54,58,62,56,30,48,27,27,46,59,45,13,10,22,26,11,17,6,10,24,4,13,19,17,15,18,11,29,16,31,39,16,16,10,18,26,8,33,29,5,11,25,11,21,33,47,8,9,13,4,26,3,13,17,8,31,8,29,14,28,47,37,17,39,18,31,19,13,23,20,28,27,12,20,15,4,1,24,13,17,4,11,4,9,21,14,32,7,4,11,13,102,12,29,10,10,11,8,14,15,11,2,54,4,11,4,25,0,85,129,180,200,172,130,149,127,225,164,152,122,126,129,131,202,107,133,95,176,148,172,213,230,221,147,166,25,148,104,94,130,163,172,121,83,146,158,106,127,160,154,140,156,171,238,174,148,107,151,102,162,162,109,129,100,148,4,9,10,8,3,1,4,16,16,4,4,26,10,7,7,9,17,33,5,1,5,6,4,15,7,5,18,13,2,12,2,4,4,3,6,12,9,10,6,11,7,7,2,7,14,6,1,23,9,4,9,3,6,11,6,1,12,9,5,13,14,9,21,13,10,16,39,5,4,14,11,15,4,18,11,7,18,6,12,10,16,5,12,4,7,0,4,54,9,7,19,24,10,35,9,16,15,40,13,17,12,3,14,15,9,9,25,6,27,9,31,21,22,8,8,14,23,44,9,3,2,50,11,11,7,6,13,3,15,5,6,8,24,3,11,14,6,13,1,3,2,8,6,11,10,5,23,6,5,13,7,2,7,15,7,9,13,10,1,4,16,20,22,10,0,11,7,6,0,1,12,10,11,4,16,14,5,9,9,6,9,7,11,3,17,2,2,10,14,2,11,2,17,14,4,3,11,12,0,5,6,12,9,6,7,16,16,31,10,30,12,11,15,22,15,8,6,11,27,5,21,6,18,16,11,16,5,12,11,10,12,16,8,95,11,3,16,14,9,9,10,28,20,15,12,15,8,8,12,5,6,14,9,18,24,33,16,18,23,25,14,54,10,11,34,16,23,34,26,67,24,28,29,13,47,4,24,61,12,56,13,55,31,61,22,26,13,34,35,31,41,16,22,46,17,36,21,40,30,51,41,25,45,33,40,47,118,37,41,30,23,28,53,54,63,47,21,33,37,40,37,41,45,45,32,52,71,52,43,71,45,34,64,58,55,58,28,40,74,48,100,46,33,65,41,74,86,67,105,28,64,43,54,43,64,71,28,118,56,21,95,51,82,58,37,48,61,10,24,36,44,11,20,25,28,43,23,39,46,47,54,39,21,25,37,40,35,32,24,32,25,54,25,20,37,30,23,42,24,13,30,41,44,10,25,43,36,72,34,66,57,50,56,52,46,36,45,45,104,44,19,51,58,55,52,30,129,65,35,38,55,100,60,52,87,57,83,42,45,40,27,12,6,2,5,21,2,4,41,14,10,6,20,8,3,0,5,44,61,51,48,73,54,56,40,38,18,76,63,33,43,52,73,43,50,59,48,39,69,91,60,98,49,59,70,82,78,28,25,24,13,20,10,27,20,25,30,37,24,37,29,15,31,23,40,18,24,38,23,16,26,30,20,31,40,22,46,12,45,19,51,30,16,19,64,15,26,36,30,55,31,17,20,51,25,59,50,16,35,75,31,101,39,18,18,40,23,31,42,35,22,53,34,42,48,53,27,41,21,45,68,52,42,35,47,37,35,82,27,29,32,33,23,37,37,24,52,29,30,32,40,47,7,16,19,12,10,10,10,5,2,10,3,5,49,41,184,43,11,67,84,68,6,36,8,59,63,14,0,70,47,45,41,45,38,69,75,66,59,65,62,54,51,52,73,70,93,34,62,117,94,43,76,46,52,26,60,69,54,82,157,40,67,66,71,123,109,138,171,98,196,139,104,154,132,149,135,187,199,209,112,168,177,144,139,100,101,173,11,11,27,22,7,26,20,9,15,43,34,11,20,9,7,6,20,12,62,10,18,24,17,24,12,14,5,34,34,27,43,3,29,26,11,19,43,21,59,17],\"type\":\"histogram\",\"xaxis\":\"x6\",\"yaxis\":\"y6\"},{\"name\":\"Salty\",\"x\":[0,0,0,1,1,1,0,0,1,5,1,4,1,1,0,1,1,0,0,1,1,0,0,2,1,0,0,0,2,0,4,0,0,2,0,0,0,0,0,0,0,1,1,0,0,0,1,0,1,5,0,0,1,1,2,0,0,0,0,1,1,0,0,1,0,0,1,0,2,0,0,1,0,3,0,0,1,0,0,0,1,0,0,0,0,0,1,1,0,0,0,2,0,0,0,0,0,0,0,0,0,2,6,0,0,0,0,0,3,3,0,1,1,0,1,0,2,1,0,0,1,0,0,3,0,1,0,0,0,0,0,0,0,0,0,0,1,0,2,1,0,0,0,1,1,1,0,0,3,0,2,2,0,0,0,3,0,0,1,4,0,1,1,3,2,0,2,0,1,3,0,0,0,2,0,1,0,0,2,6,0,0,4,0,0,2,0,2,0,1,7,8,0,3,5,4,3,2,1,1,6,0,5,3,4,6,2,0,4,0,5,1,3,2,1,3,0,0,0,4,2,0,3,0,3,0,0,0,1,0,5,1,3,0,5,0,3,4,1,0,0,0,0,0,0,0,3,0,0,0,1,1,0,0,1,1,1,2,0,0,2,0,1,4,0,0,2,0,0,1,0,0,0,0,0,0,0,0,0,1,0,0,0,0,0,0,0,0,0,0,0,0,0,1,0,1,0,0,0,0,0,0,0,0,0,0,1,2,2,3,5,2,1,2,1,0,1,1,0,0,1,3,0,0,2,1,0,0,5,1,1,0,1,1,2,1,0,0,1,1,0,0,0,0,0,0,1,0,2,0,0,1,0,2,0,1,0,0,0,1,1,0,0,2,3,0,0,0,0,0,0,0,1,0,0,0,0,0,0,0,0,0,0,0,0,0,0,0,0,0,0,0,0,0,0,1,0,0,0,0,0,0,0,0,1,2,0,0,0,0,1,3,0,0,0,0,0,0,6,0,2,0,1,0,0,0,0,0,0,0,0,3,0,0,0,0,0,0,0,1,2,0,0,0,0,2,2,0,0,0,0,1,0,0,0,0,0,2,0,0,0,0,0,0,1,1,0,0,0,0,0,0,0,0,1,0,0,0,0,1,0,2,0,0,0,0,0,3,0,1,0,0,0,0,1,0,0,0,0,0,1,1,0,0,0,2,0,0,0,0,1,1,0,3,0,3,13,2,6,1,5,0,2,2,0,1,0,0,3,0,1,0,1,0,0,0,0,0,2,0,1,0,0,1,1,5,0,1,0,1,0,6,0,1,0,5,0,0,0,1,0,1,0,4,0,11,0,0,1,3,1,1,0,3,4,0,3,0,1,1,2,2,3,0,0,0,0,0,0,1,1,0,0,1,1,0,0,0,0,0,0,0,0,0,2,1,0,2,0,0,0,1,0,0,0,0,0,0,0,0,0,1,0,0,0,0,0,0,3,3,0,0,0,2,3,0,0,2,0,0,2,0,0,1,0,0,1,2,0,3,0,0,0,1,0,5,0,0,0,2,3,0,0,0,0,0,1,4,0,3,3,0,6,1,0,0,1,0,0,0,2,3,9,3,0,0,6,1,1,3,0,1,2,1,4,3,0,0,0,0,0,0,0,1,5,0,1,1,1,2,0,1,0,0,0,0,0,0,0,0,0,3,1,0,1,0,6,0,0,0,0,1,0,0,0,0,0,2,24,0,1,0,0,0,0,0,0,0,2,0,0,0,0,2,0,0,0,0,0,0,0,1,0,0,0,0,0,0,1,0,0,0,0,0,0,0,1,0,2,4,2,0,2,1,1,0,0,0,0,0,0,0,0,0,0,0,3,1,0,0,0,0,0,0,1,0,0,1,0,4,0,0,1,1,0,1,0,1,0,0,2,1,0,2,1,4,4,1,1,2,0,0,0,0,0,1,0,3,0,0,1,2,0,2,1,0,0,0,0,0,1,0,0,0,0,3,1,0,0,1,2,1,2,0,0,0,0,0,0,0,0,0,0,0,1,4,0,0,1,0,0,0,0,0,0,0,0,0,1,2,0,1,1,0,3,2,1,1,3,1,0,0,6,1,0,0,0,1,4,0,0,1,0,1,1,0,0,3,1,0,0,2,4,0,1,0,0,3,0,0,0,1,0,1,2,1,0,1,0,0,0,1,0,0,0,1,0,0,1,2,0,1,4,1,1,0,1,0,0,0,0,1,2,0,0,1,0,0,0,0,0,1,0,0,0,0,0,0,0,0,0,0,0,0,1,8,1,1,5,5,0,3,1,3,4,3,5,5,5,3,1,4,4,0,0,3,4,2,1,1,3,4,0,2,6,2,0,1,3,5,0,5,3,2,2,3,0,0,1,4,4,0,0,4,0,0,0,2,2,0,5,4,3,4,0,3,1,4,3,6,4,6,2,0,5,5,4,1,0,2,0,0,0,0,0,1,6,0,3,0,0,0,0,1,0,0,0,0,1,0,3,1,2,0,0,6,0,2,0,0,0,2,0,0,1,3,3,5,2,7,0,0,1,3,12,0,0,0,14,6,1,0,0,0,0,2,3,9,7,2,1,3,2,0,1,1,6,2,0,4,1,5,3,2,1,2,3,0,0,0,0,1,5,0,0,3,2,1,0,0,0,3,0,0,0,0,1,0,1,1,0,1,0,0,0,0,1,0,0,0,2,1,1,0,0,1,0,0,0,1,0,0,0,0,3,4,1,2,0,2,0,4,5,6,6,2,0,3,5,4,3,1,2,4,3,2,0,3,0,0,6,5,5,3,0,0,1,1,2,3,0,2,0,0,1,2,0,1,5,0,0,2,2,1,1,0,0,1,0,0,1,6,2,0,1,0,1,2,0,0,0,0,0,0,0,0,0,0,0,3,0,0,0,0,0,2,3,0,3,13,10,4,5,4,0,2,2,11,1,5,6,1,4,3,3,3,6,3,2,1,3,6,1,1,3,0,4,3,0,3,2,3,2,1,1,4,1,2,0,2,2,1,0,1,0,1,0,0,1,0,0,0,0,0,0,0,0,0,2,0,0,0,0,10,1,0,9,2,5,1,0,1,1,3,2,6,4,3,0,3,2,1,1,0,4,2,5,0,1,5,3,3,3,2,3,3,3,0,3,0,1,1,0,1,0,0,0,4,0,0,0,0,0,0,1,4,6,4,1,0,1,3,3,0,0,0,0,3,0,0,2,0,0,1,1,0,5,0,0,1,0,0,0,0,0,0,0,0,1,1,1,1,0,0,0,0,0,0,0,1,0,0,1,0,0,0,2,1,0,1,0,2,0,2,0,2,0,0,0,0,0,3,0,1,0,3,0,3,2,0,6,0,0,0,1,1,1,1,0,0,0,2,1,2,0,2,7,1,0,2,0,0,0,0,2,0,4,6,1,0,1,4,2,0,0,0,1,2,0,0,6,0,0,2,2,1,0,1,0,0,2,0,3,0,0,2,0,1,0,0,0,0,0,1,1,0,0,2,0,0,0,0,1,0,0,0,0,0,1,0,0,0,0,0,0,0,0,0,3,0,0,0,0,0,0,0,4,4,1,1,4,0,1,3,3,0,2,0,2,0,5,0,0,0,5,0,0,1,0,0,0,1,3,0,0,0,0,1,0,1,0,0,1,0,0,0,3,0,3,1,0,1,0,0,0,0,0,3,0,0,0,1,0,0,0,7,1,4,0,1,0,2,4,0,0,0,0,5,0,0,0,0,0,0,1,2,0,0,3,1,0,1,0,0,0,2,1,0,8,0,0,1,3,7,0,0,1,2,0,4,0,0,2,0,0,1,2,0,0,0,0,0,0,0,0,0,4,0,0,0,0,0,0,3,3,0,0,4,3,3,2,4,1,0,0,2,0,0,0,4,3,0,0,6,1,3,3,0,0,3,0,0,0,0,0,0,2,0,3,1,0,0,1,0,0,0,1,3,0,0,0,0,0,0,1,0,0,1,0,0,0,0,0,1,1,1,0,0,2,0,0,0,0,0,0,0,0,0,0,0,0,0,0,1,1,0,0,1,0,0,0,2,0,0,0,1,1,0,0,1,0,3,1,1,0,0,1,1,1,0,2,0,0,0,0,0,2,4,1,1,1,4,1,0,2,3,3,0,1,0,1,2,1,1,2,3,0,4,6,2,5,0,0,2,0,1,4,0,0,4,1,1,1,3,2,1,0,2,0,1,0,0,0,1,0,0,2,1,3,0,0,0,2,5,0,0,0,0,1,1,1,2,0,0,2,1,2,1,1,0,1,0,4,0,0,0,1,1,2,0,1,0,0,0,3,0,1,3,1,0,0,0,0,2,8,1,4,2,2,4,2,1,2,2,2,10,2,2,6,9,7,0,4,1,0,2,13,5,2,6,7,3,4,9,3,0,4,5,7,6,4,3,8,3,8,5,3,8,7,2,10,0,1,4,0,5,4,10,2,5,2,7,5,8,5,0,8,3,5,4,10,0,3,1,4,2,0,0,3,6,3,2,0,7,6,3,1,1,1,0,0,0,0,0,0,0,0,0,0,0,0,0,0,0,1,0,0,1,0,0,0,0,0,0,1,0,0,1,0,0,4,1,0,0,1,1,0,0,0,0,1,0,0,0,0,0,0,0,0,0,2,0,0,2,1,0,0,0,0,0,1,0,1,0,5,0,0,1,1,0,0,0,0,3,0,0,0,0,1,0,2,0,0,0,0,0,0,0,0,0,0,0,2,0,0,0,0,0,0,0,0,0,1,0,0,0,0,0,0,0,0,0,0,0,0,0,0,2,0,0,2,0,0,0,2,1,0,1,0,0,1,0,1,0,0,0,0,0,0,2,0,1,0,1,0,0,0,0,0,0,0,1,4,1,0,2,0,0,2,0,0,0,0,0,3,0,1,0,0,1,2,1,2,0,1,2,0,0,5,3,1,1,2,1,0,0,0,0,2,1,1,3,0,0,0,0,1,0,0,0,0,2,1,0,0,0,0,0,0,0,0,1,0,0,0,1,0,0,0,1,0,0,0,0,0,0,0,0,0,0,0,0,0,0,4,0,0,0,1,0,0,0,0,0,0,0,0,0,2,0,0,1,1,0,0,2,0,0,0,0,0,0,0,0,0,1,1,0,1,0,0,0,4,0,1,0,1,0,0,0,1,0,1,1,0,0,1,0,2,0,0,1,0,1,0,1,0,0,0,0,0,0,0,0,1,0,0,0,0,0,1,0,0,0,2,0,1,1,0,0,1,2,3,0,0,0,0,0,0,0,0,0,0,0,0,0,0,1,0,1,0,0,0,0,0,0,4,2,2,3,0,1,0,0,1,0,0,0,0,0,0,0,0,2,0,0,0,3,0,0,0,0,1,0,0,0,0,0,2,1,1,0,1,0,0,0,0,0,0,0,0,0,0,0,0,0,2,0,0,0,0,0,2,0,0,1,2,0,0,1,0,0,0,0,0,1,0,1,0,0,0,0,0,0,1,1,1,0,0,7,1,0,3,1,6,5,5,0,2,2,0,1,0,0,5,1,2,1,0,0,0,0,3,2,9,6,4,2,1,2,7,0,0,0,1,0,0,1,0,0,1,0,0,3,1,0,1,0,0,0,0,0,0,0,0,1,1,1,2,0,0,0,1,0,0,0,0,0,0,2,0,0,3,0,1,0,36,48,29,0,0,1,0,0,0,1,0,0,0,0,0,0,1,1,0,1,4,0,2,0,0,2,1,0,0,0,0,0,0,0,0,0,1,0,0,0,0,0,0,2,0,0,0,0,0,0,0,0,0,0,0,0,1,0,0,0,2,0,0,1,0,0,1,1,2,0,0,1,2,1,0,9,0,0,0,0,0,1,0,1,0,0,0,0,6,0,3,1,1,0,0,0,0,1,0,0,0,0,0,0,4,18,0,0,0,0,0,0,0,0,0,12,0,0,0,1,0,0,18,0,0,0,0,3,1,0,0,0,0,0,0,0,0,0,0,2,0,1,0,1,0,14,0,0,0,0,0,0,2,0,0,0,0,0,0,0,0,0,0,0,0,0,1,0,0,0,0,0,0,0,0,0,0,0,0,0,0,0,1,0,1,0,0,0,0,0,0,0,0,3,1,2,0,0,0,0,1,0,0,1,2,0,0,0,0,0,0,0,2,0,0,0,1,0,0,0,0,1,0,0,0,2,0,0,1,1,0,0,0,0,0,0,2,1,0,0,0,1,1,0,0,0,2,0,2,0,0,0,0,0,1,0,2,0,0,2,0,0,0,0,0,0,0,0,0,0,0,0,1,1,1,0,0,1,0,0,0,0,4,0,0,0,1,0,0,0,0,1,1,0,0,1,1,0,0,0,1,0,0,0,0,0,0,0,0,0,0,0,0,2,0,0,0,1,0,1,0,1,0,1,0,0,0,0,0,0,1,0,1,3,1,0,6,0,0,0,0,1,1,2,3,0,0,1,2,1,1,0,1,3,1,0,1,1,0,1,0,1,1,2,5,0,0,0,2,1,2,0,0,0,2,0,0,0,1,0,1,0,0,1,0,1,0,0,2,0,0,0,0,2,0,1,2,0,1,0,0,0,5,1,0,2,0,0,1,1,8,0,2,1,0,0,0,2,0,1,0,2,4,0,0,0,0,0,0,0,0,0,0,1,2,0,0,0,0,0,0,4,0,0,0,0,0,0,1,0,1,3,0,0,1,1,0,0,0,0,0,1,3,0,3,0,1,3,5,3,0,4,2,2,3,0,6,3,0,5,1,1,0,0,1,0,1,0,1,3,1,1,0,0,1,1,0,0,0,0,0,1,0,0,0,0,0,0,0,0,0,0,0,2,1,0,0,0,0,0,0,1,0,0,1,0,0,4,1,0,0,1,4,1,1,0,2,0,2,2,1,1,1,0,1,0,4,0,0,1,1,1,0,0,0,1,0,1,4,0,2,0,0,0,0,0,0,2,0,0,2,3,3,0,4,0,2,0,0,1,4,0,1,2,0,0,1,0,0,0,0,0,0,0,0,0,1,0,0,0,0,2,0,0,0,0,0,1,0,0,0,0,0,3,0,0,0,1,3,1,0,16,0,0,4,0,0,0,0,0,0,2,3,4,3,3,1,0,3,3,0,3,0,3,0,1,0,0,3,0,4,0,0,3,0,0,3,0,1,0,1,0,1,0,3,2,1,0,5,1,1,0,0,2,1,0,0,1,0,0,0,1,0,0,0,0,0,2,0,0,0,5,3,2,0,1,0,0,0,1,0,0,0,1,1,0,0,0,0,0,0],\"type\":\"histogram\",\"xaxis\":\"x5\",\"yaxis\":\"y5\"},{\"name\":\"Fruits\",\"x\":[33,24,10,49,11,34,36,21,8,52,32,8,13,11,37,3,20,25,10,50,6,46,13,18,14,23,28,42,40,16,24,20,33,65,14,39,47,40,29,107,63,57,52,101,43,54,78,65,53,45,32,54,46,45,120,41,35,117,83,60,61,34,54,59,61,57,53,36,122,110,47,32,64,88,53,44,49,50,68,62,77,82,35,77,49,63,44,64,46,93,89,45,85,105,82,34,63,88,80,78,59,74,53,37,37,25,26,35,19,25,15,105,18,16,52,29,39,32,50,32,36,26,53,52,43,37,27,27,16,11,38,42,42,40,25,65,32,33,38,15,20,4,24,19,25,8,23,22,72,18,18,55,18,17,24,30,33,81,20,29,30,22,42,41,41,66,60,29,41,26,20,16,29,31,58,70,39,53,111,79,95,62,67,24,5,48,40,35,82,19,35,26,2,50,30,33,34,97,42,37,27,36,74,31,48,27,14,18,41,34,76,27,24,44,5,17,28,38,70,72,45,54,96,52,64,42,63,77,57,85,43,60,59,79,56,66,49,54,71,35,79,50,52,11,30,45,57,72,21,38,42,24,50,58,38,55,8,43,45,37,52,52,42,56,43,25,60,72,54,25,44,74,46,34,72,124,20,20,87,17,54,42,37,61,32,54,37,46,29,85,99,88,106,82,77,54,27,10,8,10,16,7,0,42,18,14,14,13,30,11,28,34,40,18,13,12,44,41,43,23,23,37,29,20,24,21,23,35,41,70,49,38,42,17,78,23,14,22,17,6,20,5,110,29,32,13,10,39,12,18,39,23,11,37,7,6,7,33,29,25,17,33,46,31,41,4,56,54,21,21,36,11,91,72,72,61,63,68,112,65,62,99,95,113,119,63,66,91,69,40,76,27,77,50,61,26,62,32,90,40,14,49,68,15,86,58,102,22,46,13,86,32,4,7,3,0,3,3,80,66,51,15,24,21,7,5,10,30,2,5,8,12,61,7,1,5,42,11,19,13,5,25,15,26,9,22,30,8,12,41,76,52,55,50,40,73,40,60,57,51,38,117,40,46,54,43,29,9,20,43,9,18,4,58,7,40,16,20,15,24,2,7,11,23,12,3,9,60,15,7,5,9,6,10,15,7,38,11,5,6,21,4,8,6,12,13,19,6,7,27,6,33,13,15,18,41,45,11,46,14,63,34,53,45,53,9,24,19,22,7,9,7,10,5,6,27,7,2,15,14,83,3,13,7,5,9,4,0,20,9,34,3,2,4,3,2,6,5,3,1,27,22,11,31,16,30,6,13,15,103,34,1,10,23,15,11,17,17,27,122,27,13,12,7,71,46,73,89,83,75,86,77,67,48,62,67,52,70,70,82,49,56,38,54,35,90,47,73,104,36,87,82,58,56,96,53,67,63,76,64,62,70,81,52,76,101,18,74,60,66,68,90,54,102,71,47,26,63,62,58,62,88,44,133,94,66,54,65,10,54,59,54,67,71,76,99,55,38,55,44,72,25,0,0,4,0,76,86,90,44,108,83,123,103,67,51,76,21,97,76,75,132,108,96,93,80,92,54,74,86,67,88,80,103,84,104,72,74,69,137,51,88,137,77,100,109,140,49,152,147,87,69,77,79,55,89,154,64,100,96,105,36,71,88,119,92,81,61,86,67,90,115,86,102,16,44,92,79,14,46,81,37,69,13,24,10,7,0,10,1,5,7,5,14,9,5,0,5,3,1,9,5,4,2,6,1,0,0,1,1,0,2,0,0,0,0,77,96,15,58,25,46,46,16,15,85,112,47,109,63,12,7,20,49,32,92,25,85,62,47,72,44,43,25,69,73,47,30,30,94,54,97,67,61,67,107,60,77,97,64,68,90,69,128,47,47,39,41,86,29,61,76,55,44,80,138,75,56,70,62,93,83,75,133,85,71,72,107,57,85,82,86,109,41,39,130,111,130,77,73,69,95,70,111,20,61,19,9,86,13,15,70,25,54,23,22,57,35,16,2,77,40,37,18,49,53,31,39,45,36,46,33,57,72,73,44,25,90,32,73,30,105,98,46,33,63,32,16,91,33,31,46,36,37,31,67,11,35,85,53,75,50,51,58,36,80,56,58,76,56,118,54,55,73,93,56,99,74,45,111,91,32,59,73,49,74,67,71,81,92,33,77,70,117,109,83,69,66,46,76,139,58,130,34,49,33,43,42,18,30,16,8,2,18,6,27,6,5,4,1,5,7,7,1,45,7,16,17,32,29,5,36,38,39,41,33,41,51,44,41,42,33,19,30,40,47,23,43,39,22,32,78,18,43,37,31,6,9,19,3,4,2,11,10,8,23,4,20,18,9,3,7,5,10,2,2,0,13,3,4,12,5,3,7,2,6,8,5,5,17,12,15,5,4,7,4,8,8,14,3,2,23,10,5,3,13,11,11,35,9,6,21,23,10,1,10,14,13,15,11,21,25,16,5,45,21,17,10,8,15,15,15,12,17,27,18,9,17,8,13,3,22,10,2,33,24,14,13,31,11,46,29,23,33,12,22,15,36,16,2,10,28,8,25,9,10,24,38,20,14,6,27,8,10,24,20,16,15,6,14,12,3,52,17,6,6,15,4,9,14,11,8,4,5,7,8,41,2,15,11,14,5,10,26,14,9,9,15,15,12,14,9,17,46,9,4,25,10,25,20,6,14,2,1,4,24,15,8,16,6,7,19,5,19,17,22,6,10,3,23,7,6,16,8,15,28,6,13,17,8,10,15,10,20,9,19,2,14,2,8,6,11,8,20,10,12,21,24,15,48,4,28,34,18,36,45,30,11,9,10,16,30,6,15,40,23,10,11,14,19,15,1,2,27,21,3,43,20,2,30,1,14,29,10,24,7,9,18,8,50,18,32,10,12,22,10,26,16,9,12,6,15,6,12,26,6,18,8,17,14,6,11,28,15,17,44,11,11,10,12,2,56,120,72,59,61,26,4,16,14,5,7,7,5,7,2,1,2,6,5,9,3,0,0,0,3,0,1,19,30,60,25,44,23,27,32,90,50,33,68,46,36,38,6,4,70,6,5,4,15,1,13,12,4,4,3,3,6,0,1,22,6,3,6,16,100,35,1,4,9,8,8,12,5,7,76,5,9,4,10,4,15,17,5,2,3,6,1,8,10,15,7,4,10,14,10,19,18,13,6,10,29,33,13,6,15,14,49,13,51,11,20,5,36,7,27,9,8,18,4,14,35,5,9,17,22,26,15,48,19,14,26,22,11,17,10,18,32,1,12,39,6,18,30,3,20,7,32,9,28,27,16,22,35,11,20,12,19,17,9,6,23,9,24,12,23,36,12,13,14,12,26,26,17,24,28,22,13,13,18,25,20,18,19,8,9,23,15,14,19,20,2,6,26,13,21,9,19,22,3,18,14,7,2,3,6,2,7,6,0,32,9,3,4,2,5,5,13,5,9,15,2,3,14,1,7,9,5,2,1,26,12,4,6,22,17,21,22,21,14,11,11,4,5,5,27,7,22,10,4,23,6,4,10,10,28,6,12,9,10,15,5,18,16,10,9,30,12,22,12,9,17,2,17,14,11,11,30,8,27,5,2,20,37,76,50,39,54,7,10,16,0,107,125,98,104,121,74,145,77,102,113,96,102,100,44,113,136,81,94,91,83,111,95,104,119,94,147,117,145,117,124,96,119,70,115,115,138,97,94,121,105,62,85,78,112,114,65,117,54,98,103,117,87,127,93,62,80,141,97,60,115,44,96,88,80,92,18,52,123,58,66,94,34,91,58,39,25,12,14,9,31,2,17,4,24,21,14,0,5,4,19,5,1,14,9,4,2,6,14,89,6,1,13,5,5,1,25,13,3,11,13,23,6,11,7,6,5,1,0,3,31,7,0,1,33,28,17,32,7,27,24,24,21,4,4,22,8,8,6,4,4,4,5,32,69,1,51,7,2,15,5,5,46,30,28,19,32,28,1,4,1,2,19,1,9,6,18,10,0,0,7,34,51,24,67,57,32,63,38,78,61,76,13,97,31,13,18,15,27,66,46,45,42,42,56,59,76,37,87,39,60,71,26,46,44,45,92,22,46,120,82,48,38,80,89,41,62,48,17,53,35,57,108,60,37,58,52,111,38,78,39,48,59,63,93,83,65,77,119,51,53,55,49,60,58,48,45,118,52,84,74,67,80,66,37,100,84,80,72,83,61,96,89,19,36,34,18,23,26,78,61,27,39,46,41,5,36,40,17,21,33,81,46,30,40,29,12,17,21,42,8,28,32,46,32,66,25,47,36,56,37,29,48,21,27,18,18,18,3,19,4,12,11,35,17,25,17,9,36,30,14,36,23,14,19,28,16,18,29,16,19,10,23,23,7,8,5,35,11,15,6,9,18,16,4,15,21,24,25,5,22,23,43,12,6,11,28,20,14,21,18,10,19,17,32,50,10,7,8,11,43,35,48,29,17,44,31,97,51,45,82,60,28,44,31,31,17,3,42,11,11,12,19,3,7,12,5,41,21,9,1,5,3,1,16,14,3,21,12,25,6,13,14,9,3,11,71,2,16,3,9,4,9,13,70,41,28,45,53,35,24,37,40,17,59,37,27,38,22,28,57,30,35,19,16,27,26,41,55,33,32,32,48,17,19,16,13,8,18,27,3,20,7,33,18,4,65,7,13,23,5,19,13,8,1,32,5,28,18,10,31,21,12,4,22,35,12,19,33,4,2,7,9,11,24,4,16,22,78,5,27,8,9,22,13,109,21,30,28,23,13,15,21,15,26,17,3,17,7,4,6,22,9,6,2,14,4,18,10,3,19,6,25,20,19,3,28,11,4,19,3,12,2,14,16,8,12,5,0,1,7,0,0,65,78,117,95,86,93,96,77,80,72,108,92,84,74,90,71,125,77,117,88,69,97,76,95,122,91,60,63,101,89,85,63,98,53,81,77,76,93,67,80,81,86,83,87,75,84,84,92,59,71,64,97,124,68,79,62,61,80,88,61,115,68,88,104,11,35,24,81,61,36,33,20,56,12,28,8,43,44,44,26,32,45,37,30,56,30,58,33,76,21,40,14,39,2,18,26,53,69,60,32,48,22,67,64,97,40,23,32,33,52,53,38,52,20,126,12,22,16,18,3,11,20,14,28,18,13,57,15,20,16,39,17,20,18,43,17,11,28,23,23,17,3,21,30,16,44,8,34,18,21,30,26,27,24,27,42,31,32,27,37,41,1,17,5,0,12,5,0,9,7,15,28,27,19,28,18,42,76,38,22,77,65,72,61,31,48,25,23,57,63,53,26,20,35,56,43,27,24,34,56,7,15,52,27,40,36,14,61,26,39,60,30,11,24,36,39,13,37,56,6,8,41,16,22,33,76,18,7,19,7,25,15,26,21,10,34,11,29,14,25,56,32,19,52,18,50,18,18,30,15,36,24,19,26,15,1,1,13,18,32,2,29,10,9,28,35,32,1,13,26,13,47,16,27,6,9,13,13,14,14,13,2,50,4,9,2,31,0,79,80,103,62,104,55,134,66,95,110,88,82,88,96,66,132,85,67,62,140,109,97,106,72,113,77,89,15,99,66,70,83,89,111,53,83,175,107,106,95,98,113,131,130,100,126,130,88,96,80,43,80,72,35,63,57,125,4,36,15,30,8,7,8,26,10,10,10,56,17,6,12,17,43,29,6,68,11,17,8,28,14,8,39,19,1,11,7,5,3,4,9,13,4,11,6,90,13,9,2,1,10,10,3,33,10,1,9,0,5,3,3,2,7,2,5,1,13,8,74,18,7,21,35,12,15,9,9,19,2,13,10,2,21,14,7,13,25,5,13,3,6,1,6,42,4,11,17,35,11,71,12,23,25,44,9,41,16,4,18,21,6,8,28,8,48,11,50,27,25,8,3,17,18,48,13,4,2,48,6,3,10,7,16,6,9,3,8,9,31,1,15,6,3,11,1,2,6,1,12,3,9,3,19,12,2,13,5,0,7,21,8,4,4,9,3,2,17,21,38,16,0,9,4,6,0,3,32,10,14,11,25,22,3,13,19,7,16,3,11,5,18,8,8,18,17,0,10,8,87,18,8,3,10,16,0,5,9,6,17,18,6,25,26,80,19,61,12,17,41,36,30,14,13,8,63,10,28,10,30,32,26,24,11,23,40,24,22,35,15,40,27,13,38,4,5,3,7,2,14,10,8,16,17,54,14,2,0,4,15,5,47,44,30,76,57,54,37,73,13,41,35,22,25,50,30,81,46,31,47,16,56,6,34,102,18,115,22,97,47,90,24,26,40,68,87,67,62,57,49,78,28,55,51,116,84,100,64,66,64,58,78,88,80,83,80,68,81,58,79,51,91,91,53,80,63,92,49,69,80,84,60,89,73,61,56,63,57,32,75,82,64,90,49,47,95,63,73,67,64,90,62,103,105,76,67,36,92,42,64,72,78,119,32,84,79,22,103,61,103,70,53,48,85,13,42,41,74,13,39,34,47,53,28,46,85,77,64,50,22,36,69,56,43,35,41,39,30,66,35,31,45,34,31,60,16,11,34,29,62,39,56,57,66,94,47,78,78,85,71,73,50,59,51,75,121,69,22,80,84,84,68,54,148,61,51,46,78,140,66,77,98,53,107,57,80,54,35,12,8,2,6,11,3,3,36,2,9,5,12,3,3,0,5,54,70,57,52,77,71,56,78,42,18,74,84,32,74,57,83,40,61,59,118,44,93,88,70,78,87,62,72,98,130,28,28,62,77,51,23,68,40,42,70,71,46,61,48,32,56,45,44,27,31,64,39,42,49,44,33,58,68,38,47,26,58,27,85,40,25,41,62,40,55,77,53,74,43,36,55,89,60,83,92,51,62,73,70,122,55,50,40,78,35,52,77,56,57,78,58,55,76,61,52,44,47,75,72,78,74,90,86,62,60,107,54,26,65,50,52,40,65,49,64,57,48,49,62,65,13,16,19,11,15,13,9,8,1,19,8,4,68,62,165,95,27,105,88,93,15,39,20,88,81,38,0,74,59,45,56,54,46,75,77,96,73,68,132,68,53,64,77,83,96,53,61,69,98,67,83,52,57,31,68,97,86,97,116,49,75,64,78,72,97,79,77,72,115,108,83,110,85,69,102,115,129,164,90,106,113,125,59,123,62,83,21,14,50,30,20,29,26,12,13,56,57,13,33,19,15,13,36,27,96,18,22,33,29,34,25,26,16,33,38,31,51,7,64,46,24,23,54,26,81,33],\"type\":\"histogram\",\"xaxis\":\"x8\",\"yaxis\":\"y8\"},{\"name\":\"Hoppy\",\"x\":[57,35,54,40,51,60,54,37,60,66,68,24,50,32,59,50,80,64,60,43,45,83,45,80,68,87,54,122,100,52,59,104,107,55,68,47,65,77,54,43,23,120,97,105,68,67,72,86,82,48,42,62,67,81,98,35,10,71,96,77,96,114,106,59,42,53,95,23,117,79,61,56,69,105,69,60,62,19,19,31,12,64,9,29,23,21,8,6,7,22,9,29,30,40,52,11,54,30,68,44,39,30,36,57,59,78,105,75,51,68,82,110,75,73,123,70,144,86,94,78,56,77,130,171,134,140,66,67,97,75,112,74,76,115,69,129,58,101,101,76,84,75,93,43,85,49,65,101,85,85,49,127,45,85,77,96,78,112,55,105,91,91,100,78,81,82,112,85,68,61,101,66,64,91,117,120,109,35,47,35,21,30,20,16,1,88,81,49,102,49,61,39,28,71,41,41,50,55,44,70,37,80,97,53,61,73,64,39,50,27,148,54,39,52,44,46,16,25,57,112,22,45,61,36,28,32,61,63,85,63,37,39,45,44,54,49,55,33,52,25,43,41,41,12,29,38,44,32,20,15,21,20,11,14,15,31,23,21,40,36,30,28,18,27,30,19,48,27,29,29,29,3,36,39,47,13,14,23,28,16,23,55,25,27,35,44,22,26,37,14,9,16,9,10,13,28,2,2,6,0,0,3,0,55,42,57,56,46,41,75,99,74,14,58,46,53,86,57,53,68,38,63,58,17,82,58,63,64,72,73,43,70,49,64,152,42,71,68,27,25,14,15,13,34,14,36,43,31,21,41,38,52,26,33,21,51,15,41,45,47,26,23,26,16,37,26,38,31,25,18,37,38,17,15,9,46,8,19,70,19,25,43,24,85,16,12,7,97,53,35,9,14,14,20,20,18,28,5,10,30,6,9,25,3,37,8,26,14,23,20,15,21,6,16,3,3,0,6,16,104,76,71,14,27,36,58,64,95,33,31,47,33,23,24,11,16,64,22,67,97,25,44,49,90,23,15,122,31,80,24,22,20,28,25,35,33,16,41,36,15,21,16,15,10,27,31,14,31,11,29,3,13,12,16,7,42,27,34,33,57,21,33,13,16,53,34,56,17,52,47,30,32,35,53,31,60,28,21,29,54,28,45,37,30,39,28,52,31,26,25,43,45,57,36,33,58,75,26,73,68,118,77,76,96,43,42,43,40,54,26,34,19,33,11,12,9,40,11,13,9,31,11,11,10,9,16,17,6,4,9,12,31,10,6,1,18,3,10,3,5,21,37,20,50,35,51,13,41,40,25,70,7,25,67,33,30,33,41,55,7,37,23,32,26,20,12,15,33,32,15,31,48,13,17,7,22,16,21,19,18,13,15,14,16,38,42,20,21,29,32,31,28,33,15,24,20,25,24,19,25,30,20,32,39,27,20,47,5,61,49,11,15,43,64,36,34,50,40,43,73,68,56,32,23,51,53,53,34,14,51,23,34,35,63,33,27,61,68,58,33,41,17,0,0,0,0,43,58,32,47,72,43,51,27,14,29,55,146,30,46,82,40,20,26,24,115,68,36,33,75,19,63,53,95,40,58,38,50,12,11,5,16,16,19,37,19,18,17,19,5,9,11,4,19,3,7,14,11,16,10,14,21,7,13,10,10,19,9,22,10,20,28,35,26,98,110,73,67,28,133,131,86,98,85,74,58,24,16,35,17,28,8,8,23,21,10,11,7,4,10,9,9,4,12,14,4,2,1,2,4,2,4,0,0,0,0,31,23,19,80,16,114,55,86,28,16,77,29,7,48,12,10,109,12,81,100,34,100,82,27,92,75,107,92,100,51,85,54,89,140,96,102,85,75,93,80,117,91,110,92,103,114,105,78,73,124,70,115,103,84,85,73,110,59,116,141,99,94,80,71,135,101,66,74,131,85,52,91,78,76,99,72,82,73,56,79,73,108,115,102,121,87,79,132,92,103,91,87,133,53,93,140,86,142,115,147,123,78,38,23,142,98,100,105,138,115,123,110,82,92,86,86,119,95,136,104,85,137,79,99,115,103,138,114,73,102,108,62,131,89,46,96,107,88,90,127,63,117,171,83,90,107,172,97,56,85,62,63,139,98,78,57,91,101,59,83,88,98,89,103,119,84,126,78,106,100,69,97,93,89,65,100,128,92,102,135,102,96,47,117,88,91,71,9,7,14,17,5,1,5,4,2,5,3,0,0,1,3,1,1,1,1,0,0,54,58,50,51,74,36,30,64,73,71,64,50,50,68,48,61,69,41,37,76,70,60,47,62,69,54,60,81,39,68,55,43,15,15,17,14,20,19,32,34,9,20,31,17,19,11,17,10,11,36,19,26,7,28,29,17,38,38,35,35,25,34,29,42,49,26,23,51,23,13,45,54,38,17,18,33,45,86,28,32,8,58,59,42,45,21,29,38,29,52,21,56,71,26,69,39,58,88,43,36,45,74,30,31,26,37,47,41,51,45,37,35,12,39,56,74,26,51,28,33,89,18,51,35,98,30,41,68,40,79,28,91,52,71,90,52,28,69,18,83,46,36,73,53,42,96,50,90,53,76,73,46,66,47,33,31,53,43,79,39,25,32,62,66,30,25,25,62,14,7,41,17,33,31,43,42,26,14,67,72,42,33,28,49,31,24,37,46,26,25,32,38,74,37,47,60,17,27,16,26,42,47,20,66,32,55,42,31,52,88,53,57,39,44,70,79,67,32,50,62,18,52,32,53,37,36,45,55,54,53,35,56,19,35,35,52,49,38,40,25,21,48,48,32,28,49,34,36,13,25,31,125,24,6,29,17,33,30,26,22,15,29,33,11,29,34,20,14,12,6,16,10,19,35,7,28,21,33,18,16,22,65,88,64,69,122,29,67,60,50,62,59,63,66,51,53,59,58,81,65,74,48,66,45,54,26,55,75,43,60,74,51,50,59,31,77,44,106,88,75,124,101,74,36,23,42,20,39,29,33,30,15,3,3,9,14,15,9,1,0,5,21,0,9,66,59,57,79,78,65,32,52,115,115,49,61,86,46,77,12,9,28,18,42,4,32,9,9,23,12,65,36,42,23,8,31,52,36,49,16,50,33,41,2,33,10,26,10,20,22,17,11,35,38,24,28,29,16,18,20,3,38,38,56,20,6,16,53,45,16,24,26,21,42,20,19,15,19,10,28,7,17,34,7,16,19,14,7,9,5,3,10,27,38,48,30,26,24,43,38,29,19,25,76,31,34,20,44,46,38,38,23,38,42,24,34,30,51,51,45,22,42,14,39,28,42,40,34,43,61,47,49,29,42,57,28,46,44,58,76,49,59,63,69,33,41,21,50,64,58,23,44,72,49,29,29,69,46,28,50,53,58,44,40,66,47,32,26,17,45,34,15,69,12,27,17,42,29,27,23,25,28,6,2,5,7,6,24,10,19,2,6,18,41,35,29,34,33,30,34,26,49,55,59,30,24,47,31,11,41,39,18,70,34,46,27,28,36,17,29,53,43,54,42,57,44,66,65,14,55,45,71,8,48,56,51,55,48,37,53,61,57,44,63,91,36,43,25,41,38,80,42,53,46,31,25,22,31,63,21,9,17,9,7,1,1,3,0,16,10,16,17,13,7,22,5,7,15,1,14,18,78,12,7,12,8,6,10,10,0,8,14,12,11,5,11,4,25,10,7,6,9,18,15,5,25,9,12,7,7,25,24,23,10,17,6,22,23,32,21,22,20,13,26,15,24,9,38,18,8,27,11,6,21,3,100,16,25,23,14,30,5,9,7,2,4,1,4,0,6,2,15,3,0,0,1,6,2,2,41,57,21,5,34,47,77,146,48,13,70,48,65,15,7,19,43,30,5,17,42,31,30,51,18,11,55,8,11,4,5,3,41,22,50,70,28,32,35,31,46,18,36,38,41,30,15,24,15,14,4,34,14,19,38,20,12,13,29,10,78,40,43,49,76,25,10,14,12,4,17,9,16,28,22,21,4,6,26,30,38,35,31,18,22,42,7,5,38,8,16,8,76,41,11,19,11,34,29,12,38,25,33,51,16,51,8,26,59,17,36,23,47,96,115,58,78,84,124,69,88,87,64,47,87,103,69,90,87,76,88,125,87,83,105,106,58,105,56,16,24,64,23,64,40,53,38,37,51,28,83,34,38,32,34,61,37,55,115,46,57,44,37,56,70,91,50,95,52,27,92,43,53,78,66,35,41,130,91,50,94,61,108,42,92,46,66,57,78,106,89,89,79,61,43,74,76,93,49,88,48,98,50,123,88,77,50,90,56,98,90,76,98,74,128,98,82,78,36,100,104,70,119,81,71,68,84,110,96,130,54,31,104,76,99,81,79,94,67,95,82,112,36,49,81,59,78,64,64,72,41,122,83,80,103,103,53,76,48,95,101,59,38,69,91,73,74,79,58,105,85,68,20,149,55,82,56,99,62,86,139,108,95,100,64,97,104,116,88,32,118,59,72,88,69,37,50,47,37,18,59,20,44,44,20,8,94,13,17,22,36,15,102,38,26,38,39,97,37,13,26,17,23,49,29,48,41,21,33,19,44,38,27,35,7,10,41,24,20,27,29,31,49,36,16,46,16,42,14,22,26,20,44,62,32,32,31,52,7,63,14,33,28,48,36,44,58,24,44,43,33,6,46,22,13,43,25,52,42,35,49,32,25,52,35,29,26,24,31,43,17,23,39,36,18,29,29,17,23,25,86,11,23,14,34,8,30,12,64,5,22,4,12,33,17,25,37,20,58,57,44,26,13,25,53,68,35,46,61,43,52,33,17,26,8,62,13,11,43,10,27,27,39,28,37,22,14,45,6,8,28,25,30,10,25,14,16,2,17,3,8,20,18,16,9,13,16,36,16,19,5,29,19,14,8,27,7,13,5,7,13,24,42,18,3,20,24,12,8,9,10,27,13,10,5,8,4,11,14,20,19,8,18,28,9,10,7,19,8,11,17,12,25,22,18,16,12,16,14,12,10,24,15,20,11,34,94,56,122,100,82,75,36,94,74,60,31,111,135,79,75,46,94,66,107,99,85,90,82,122,56,66,68,80,24,37,63,62,139,80,105,99,86,92,172,129,74,94,97,93,79,97,118,36,76,151,29,58,50,44,30,25,50,41,15,68,49,56,49,55,52,51,49,62,39,30,84,45,60,44,53,25,35,55,49,32,68,43,82,42,42,56,53,66,79,17,32,55,16,18,4,15,9,7,8,0,5,1,0,0,6,52,54,107,11,59,15,71,100,73,61,62,114,117,143,46,57,117,47,89,89,96,15,42,21,39,17,47,15,32,28,25,24,65,23,17,32,15,54,17,20,50,11,25,33,59,15,32,25,30,27,41,37,20,50,39,50,28,26,46,14,35,18,22,31,16,18,30,43,37,29,113,31,21,50,44,15,44,38,69,52,42,33,7,39,41,12,8,25,14,34,9,52,6,13,34,31,21,33,24,12,35,21,38,10,22,12,20,7,26,35,16,5,37,43,12,17,7,3,10,17,15,9,18,7,7,5,28,44,3,12,9,9,5,26,17,4,10,16,9,25,18,4,28,23,20,3,7,2,5,4,4,22,14,8,10,9,7,7,30,9,13,15,12,10,13,19,4,5,2,7,5,10,58,45,21,31,8,29,18,9,16,18,84,105,20,42,22,19,30,19,3,3,33,39,9,39,50,16,19,5,12,32,49,18,16,15,4,21,16,53,67,62,37,24,25,32,65,18,19,23,32,21,26,18,28,31,20,15,27,7,40,18,22,16,28,45,16,12,40,20,50,24,20,29,38,25,48,5,41,48,19,29,18,17,32,55,23,45,30,15,14,12,9,16,31,40,50,12,13,57,43,23,14,38,19,28,26,34,100,53,23,17,45,42,24,33,13,29,30,23,35,43,28,26,16,17,38,9,34,17,18,27,18,34,18,35,43,88,14,23,24,26,57,24,22,17,22,39,37,22,29,53,36,24,56,21,31,49,40,29,65,22,35,24,24,21,54,49,44,0,22,26,14,27,22,42,47,49,2,38,18,12,32,39,39,34,26,19,23,52,48,24,38,86,30,25,19,52,24,24,24,50,33,24,13,44,67,23,11,30,25,5,74,18,31,36,19,55,27,16,34,47,3,39,64,22,42,30,23,15,102,11,63,12,26,22,36,2,17,27,55,43,28,21,56,17,19,38,6,12,30,44,16,20,12,19,25,16,15,59,70,41,13,10,17,11,48,36,20,58,25,44,8,5,116,18,59,9,14,125,13,67,62,18,37,49,14,81,16,19,75,5,15,20,13,16,19,8,27,35,10,17,20,13,19,47,26,22,31,11,21,11,14,36,4,26,12,16,23,29,15,18,18,36,46,27,15,36,22,24,9,14,49,28,25,51,16,57,23,36,65,16,41,22,29,58,36,45,42,20,43,65,68,20,19,62,29,37,21,26,0,14,53,24,41,31,49,46,20,46,46,48,21,21,58,16,33,62,34,34,40,46,62,49,67,49,59,69,35,15,76,35,54,35,74,39,55,40,46,27,45,16,86,31,24,77,77,31,14,36,59,26,24,27,22,46,15,11,56,51,23,38,42,59,22,15,46,42,39,24,12,60,54,26,34,26,68,22,17,28,40,35,11,56,113,46,14,7,30,24,58,5,7,15,3,6,4,7,0,1,5,6,58,23,31,23,46,25,72,32,56,11,19,29,53,31,43,53,49,15,36,37,27,30,25,24,60,11,77,49,103,41,21,25,21,24,9,22,20,21,14,11,24,13,6,13,34,20,25,14,21,28,13,40,10,16,12,10,12,10,13,45,11,13,20,17,10,6,19,13,5,23,11,20,56,16,17,16,12,24,22,16,11,34,20,14,9,20,40,14,8,33,6,13,25,14,10,8,19,21,53,8,23,26,15,21,14,19,21,24,25,14,22,23,45,12,34,12,56,28,11,25,13,20,30,16,27,3,8,20,5,4,7,6,5,0,11,7,3,7,20,43,43,11,43,26,31,4,61,16,36,32,9,0,25,27,21,18,32,19,42,37,23,41,24,17,31,32,36,28,45,57,30,20,25,56,39,32,29,36,30,39,40,63,41,55,33,74,48,33,20,9,20,15,3,8,10,4,11,5,3,11,13,16,13,6,13,23,16,12,10,5,14,10,17,48,69,8,73,27,40,27,92,78,47,34,29,41,17,49,47,94,48,81,63,37,32,14,24,30,18,53,124,78,21,47,28,24,45,14,21,110,16],\"type\":\"histogram\",\"xaxis\":\"x7\",\"yaxis\":\"y7\"},{\"name\":\"Spices\",\"x\":[8,12,4,16,20,4,8,4,16,8,12,2,6,2,19,5,7,10,9,13,8,19,10,7,2,18,4,11,8,9,6,10,3,15,15,6,5,14,12,13,27,14,12,24,17,13,11,14,22,21,22,22,2,17,6,4,10,25,5,10,16,9,17,14,35,32,15,25,9,12,4,23,6,4,27,11,4,18,27,15,27,15,32,18,24,9,25,54,18,30,14,5,31,17,14,66,20,6,17,51,4,16,4,10,13,0,9,5,7,3,2,11,20,7,22,6,9,12,7,28,6,2,8,13,12,12,3,21,7,3,9,13,14,13,6,6,1,6,23,6,13,9,14,2,32,23,17,13,11,9,4,9,19,11,9,8,14,7,2,4,37,3,11,8,7,6,12,21,21,9,11,12,14,9,16,14,13,34,8,13,16,9,28,3,0,3,2,0,17,5,4,10,0,4,6,14,7,0,7,7,1,8,5,3,1,28,3,2,4,3,9,3,0,3,4,7,22,17,32,38,25,16,24,25,29,15,33,32,35,48,34,25,22,29,24,35,30,34,26,16,15,16,36,2,14,28,19,43,8,10,9,4,13,10,15,7,19,9,9,16,5,11,9,13,22,4,4,21,7,28,15,6,10,17,8,16,16,8,19,5,7,7,15,26,11,7,10,24,0,18,6,27,39,8,10,10,7,4,0,2,6,2,0,19,5,14,13,2,25,17,20,10,14,5,10,9,12,15,9,17,8,11,12,9,12,8,9,6,11,13,11,8,11,5,15,3,15,9,45,2,0,1,3,0,103,24,6,13,1,5,21,39,7,6,4,5,3,13,9,26,8,11,13,9,6,8,33,6,3,4,4,4,45,47,33,9,30,53,33,46,29,34,38,49,40,30,34,42,27,21,44,12,56,57,30,12,46,31,28,11,11,28,38,8,43,73,107,120,18,11,20,18,6,5,11,1,0,6,9,14,32,6,27,14,10,3,15,3,1,9,11,13,3,4,3,19,0,4,7,10,8,4,15,8,3,20,17,1,4,31,66,16,31,64,25,52,4,19,12,80,27,33,43,5,63,22,45,11,26,17,7,24,7,10,3,2,13,11,6,9,19,4,1,22,2,6,8,72,8,1,0,7,15,4,4,3,15,2,8,11,2,2,6,2,2,4,7,1,3,5,10,9,16,3,7,11,7,7,16,2,4,2,8,6,8,5,4,4,3,3,1,1,3,2,1,59,170,96,87,184,105,90,153,132,136,50,46,52,169,158,87,118,88,76,42,118,96,50,63,27,7,22,3,10,2,0,3,2,5,5,4,51,2,3,68,1,9,12,3,5,14,1,2,5,39,27,28,31,24,17,24,22,15,23,22,20,10,27,24,33,18,22,17,39,27,40,16,18,34,27,42,16,21,26,21,9,30,21,28,24,37,49,22,29,16,35,12,6,25,27,25,8,20,33,36,15,14,15,12,34,18,13,17,25,25,24,10,24,31,9,39,31,40,35,27,30,15,78,29,23,19,6,0,0,1,0,48,30,39,23,47,26,27,46,41,44,17,35,36,62,50,21,7,50,8,20,71,41,57,36,17,40,42,41,41,19,24,2,0,4,1,1,6,1,17,10,15,64,21,19,2,7,1,27,0,5,6,0,3,3,0,11,82,2,2,3,6,3,0,1,93,5,5,5,30,12,17,10,7,79,66,44,51,25,35,18,1,9,5,1,12,2,4,0,5,0,0,1,2,0,1,1,1,0,5,0,0,0,0,0,0,0,0,0,0,0,13,8,81,13,5,23,26,12,105,123,17,100,52,60,68,152,18,157,178,8,126,42,46,63,4,3,6,5,2,10,4,1,10,1,3,5,3,0,6,6,3,6,6,5,4,2,6,13,4,4,3,5,12,2,4,7,14,0,2,7,2,3,29,9,36,24,22,26,26,18,26,31,22,34,22,28,31,6,21,22,35,29,56,37,14,25,26,58,11,10,6,5,12,9,8,11,3,14,18,5,3,16,17,8,8,9,6,18,11,13,6,8,6,8,1,12,15,4,11,5,1,9,9,11,6,27,8,25,29,3,12,2,10,6,5,17,6,4,18,7,19,5,14,12,8,7,8,8,5,1,8,18,9,2,3,22,4,1,0,5,2,3,1,7,14,4,7,7,4,10,3,1,7,3,6,4,3,5,4,0,13,5,3,2,3,7,5,7,8,7,4,7,4,2,1,0,0,3,2,2,2,1,4,0,1,1,0,0,4,12,2,0,11,4,5,6,12,4,9,2,3,13,6,9,12,4,0,7,7,13,5,7,6,4,13,19,0,6,4,4,3,1,4,5,3,1,11,4,0,2,1,2,3,2,2,1,1,3,4,4,3,3,1,4,7,2,5,3,4,3,5,3,11,4,4,7,4,0,4,9,3,1,5,2,1,3,6,2,1,6,8,3,9,0,2,8,4,5,1,8,11,2,9,2,7,8,7,1,5,6,4,1,2,1,4,7,4,1,1,5,0,3,7,8,2,4,0,4,10,9,1,2,15,1,3,0,5,5,2,6,3,6,9,8,2,4,3,6,2,3,6,3,8,14,9,7,2,5,6,7,11,1,3,11,5,6,9,10,0,5,0,4,2,7,8,7,15,0,14,1,2,4,1,12,2,2,63,21,8,11,2,4,2,5,10,4,6,3,14,5,9,2,6,15,5,4,2,3,0,7,6,3,4,8,5,4,5,6,9,4,10,8,13,2,7,3,5,9,1,12,3,3,0,1,3,6,4,11,4,1,4,3,2,6,4,1,0,1,1,3,7,6,9,3,5,9,3,1,4,7,2,0,4,1,3,17,1,0,12,7,3,6,8,2,2,0,1,1,5,4,12,9,1,5,2,3,6,0,6,17,8,8,5,10,7,12,7,89,16,12,9,14,6,7,3,4,6,4,9,7,9,9,8,4,6,12,4,4,10,11,3,5,0,5,3,10,5,5,3,6,3,8,0,4,1,3,4,0,1,1,0,0,0,3,1,0,1,0,0,2,0,0,10,8,19,15,15,9,9,9,12,32,8,10,18,8,20,3,2,6,2,5,2,5,0,6,1,1,6,3,4,0,0,1,10,2,6,1,4,0,5,0,2,2,1,1,0,1,1,1,0,3,1,4,0,0,2,1,0,4,1,3,3,0,1,4,6,0,1,5,1,3,1,5,4,13,8,1,0,2,6,0,1,2,3,5,1,3,0,4,5,10,6,2,13,2,11,7,5,9,14,25,10,6,5,11,12,12,7,5,9,7,5,12,6,6,1,7,3,8,1,6,8,11,1,3,13,10,5,24,20,9,9,9,3,16,31,19,14,20,34,10,6,5,4,11,26,7,5,10,12,9,20,2,3,12,2,6,12,13,17,14,4,11,9,124,78,103,95,122,121,99,95,65,84,76,105,96,107,93,51,33,38,19,87,54,34,55,23,37,4,24,5,13,3,14,9,7,8,6,2,26,14,8,5,12,15,4,13,31,30,23,14,5,6,5,8,15,4,23,7,5,16,3,23,7,8,16,2,12,1,5,5,12,6,7,11,2,7,5,21,4,4,3,5,2,14,2,5,6,7,8,3,4,2,2,1,21,2,27,0,5,0,0,0,0,1,9,17,3,4,5,3,3,9,9,0,1,7,26,0,2,15,0,5,3,0,4,10,7,5,7,5,0,3,10,10,8,0,4,22,7,3,5,2,6,0,7,7,8,7,1,9,2,10,13,11,7,11,11,5,5,15,3,5,10,4,14,14,2,7,0,0,17,6,5,7,12,15,9,2,5,6,2,2,6,0,0,2,2,5,4,0,4,0,1,0,6,4,2,1,4,7,21,15,6,0,4,7,2,1,2,1,1,0,6,0,4,3,3,7,0,0,5,2,4,2,2,3,19,9,6,11,13,8,5,5,9,6,9,6,8,1,12,5,7,3,1,9,14,13,15,2,1,8,2,1,10,3,5,1,9,5,0,0,1,0,3,3,2,0,4,3,1,0,3,15,19,3,42,32,17,12,21,21,9,35,33,32,11,33,31,3,42,27,53,12,16,40,19,13,38,53,58,63,18,9,22,8,17,5,8,1,6,0,4,9,3,14,0,2,2,3,1,10,4,6,4,2,5,2,1,11,5,4,24,36,25,21,27,37,60,47,57,50,13,19,16,25,27,27,41,30,13,29,28,29,33,40,37,35,22,4,9,47,88,33,26,11,4,13,3,5,4,13,4,7,6,2,4,2,0,6,4,2,5,20,0,5,11,7,3,7,10,17,6,5,0,3,15,9,4,1,7,8,3,4,6,10,14,8,11,10,16,9,4,5,11,6,18,12,4,10,17,12,14,15,2,3,12,25,5,8,9,16,8,14,15,19,5,6,12,13,13,6,4,2,4,9,18,10,23,7,7,11,2,4,20,2,2,11,11,10,8,5,5,6,24,8,3,22,4,11,4,12,13,4,9,13,2,9,8,5,13,16,23,7,8,15,10,8,3,8,3,10,4,47,11,4,11,15,20,9,14,3,59,6,14,3,5,83,6,13,6,8,4,16,2,7,6,4,102,11,7,9,16,8,11,7,7,27,21,7,18,126,19,18,12,9,48,12,110,8,10,28,25,7,8,10,52,37,27,27,14,10,104,17,10,40,9,22,14,4,1,13,13,19,14,9,8,13,70,7,13,18,11,9,13,4,5,21,6,6,11,51,13,34,5,33,25,30,15,16,10,14,6,45,25,33,33,23,17,36,8,33,7,17,13,41,42,32,11,8,19,15,29,9,14,10,30,18,12,14,15,15,18,19,15,27,3,3,2,76,81,88,67,173,105,119,82,58,118,119,78,86,102,124,110,64,101,74,131,45,17,33,101,12,34,51,71,100,138,39,66,78,61,86,79,122,118,85,59,75,111,74,113,102,75,68,72,82,74,155,79,68,98,80,80,30,11,6,12,29,26,26,38,40,54,34,20,24,21,23,16,19,3,29,24,27,20,35,33,18,30,17,21,26,17,35,24,42,35,3,14,6,9,10,7,15,6,5,4,3,2,4,6,7,14,0,16,2,9,10,3,2,11,29,4,4,4,10,12,30,22,6,13,2,10,10,1,7,0,18,7,2,4,8,13,5,5,19,2,8,0,11,3,4,7,3,3,9,0,2,4,1,3,2,12,4,4,6,3,1,7,2,9,2,11,2,5,5,5,2,13,7,7,1,8,5,6,22,7,19,56,46,40,14,16,24,8,32,4,2,8,4,0,7,4,27,33,40,28,24,105,13,36,24,15,49,39,27,48,27,32,27,22,18,26,27,36,15,16,23,15,45,23,17,11,37,13,20,14,23,50,39,28,48,1,12,35,15,28,23,18,16,13,7,38,10,14,73,50,27,15,14,19,11,17,14,10,6,13,7,7,8,12,17,11,22,11,34,12,12,50,21,14,19,14,12,14,28,13,7,3,0,26,6,18,79,117,99,81,104,97,139,111,62,82,125,82,113,70,140,123,87,81,48,90,91,99,84,32,46,88,63,2,3,10,7,4,1,0,2,1,4,0,5,3,9,2,7,28,4,7,5,25,12,12,11,8,4,15,15,2,1,16,3,4,14,25,11,11,12,22,7,8,18,17,13,22,11,23,16,19,8,4,8,9,2,0,11,21,1,20,24,9,7,26,14,21,9,10,17,29,20,18,2,34,90,30,17,14,52,48,14,158,19,25,20,18,8,8,12,30,11,18,79,11,6,5,21,39,11,49,11,5,10,7,13,6,14,4,8,9,2,3,10,7,5,19,35,116,14,10,5,4,2,3,46,29,10,15,15,3,8,0,8,11,19,13,18,15,19,18,12,10,12,21,8,5,15,10,10,9,16,7,169,44,10,5,11,14,5,7,11,12,22,11,9,9,20,22,23,19,4,7,6,19,13,7,17,3,8,3,8,4,6,10,10,4,1,4,4,13,6,7,6,9,1,6,6,0,7,6,3,10,11,4,17,2,8,17,22,20,7,8,12,12,28,61,8,23,17,10,45,20,12,3,10,4,14,10,12,14,21,16,31,16,4,7,1,21,9,3,5,4,12,10,7,3,15,20,51,102,6,6,23,4,3,4,11,6,9,11,21,11,20,10,15,27,30,8,15,4,32,19,15,24,25,16,18,19,29,20,6,14,20,13,25,9,7,45,15,15,12,12,10,14,13,33,4,4,11,7,2,13,127,5,21,12,27,17,2,4,7,6,1,5,6,8,42,21,26,27,20,22,48,10,22,4,36,17,8,49,0,27,5,19,6,14,1,25,17,7,4,26,56,27,7,9,28,33,10,22,20,24,15,9,44,39,18,51,13,44,40,18,45,50,24,23,33,27,14,30,38,27,20,64,66,18,34,33,35,25,54,14,28,19,26,27,31,34,49,41,21,33,34,28,41,28,32,49,37,17,42,29,37,21,19,60,55,11,24,48,15,26,19,15,35,7,8,25,13,37,20,79,55,71,13,68,23,62,11,28,4,3,10,14,9,5,22,11,17,22,15,21,19,25,16,7,25,13,4,45,16,7,37,2,19,28,14,5,65,23,14,53,45,37,25,23,55,31,36,58,47,23,65,32,32,41,32,40,27,35,44,28,37,23,45,34,35,24,22,54,56,35,32,47,23,38,23,50,3,24,21,7,0,14,8,3,1,11,0,10,3,9,6,1,0,0,8,15,6,7,34,27,3,7,13,3,7,4,1,31,3,18,10,16,14,16,12,21,7,6,29,5,7,13,16,3,75,8,38,3,39,15,74,27,25,44,46,32,35,23,18,32,14,19,12,14,40,23,26,28,31,14,20,42,41,12,15,46,21,71,23,24,16,29,57,39,25,32,34,24,47,33,27,50,44,69,37,38,20,39,5,19,50,34,30,21,33,36,32,32,32,34,36,25,29,25,20,25,37,22,40,55,52,60,30,40,34,28,10,58,10,31,13,32,27,33,39,37,15,10,33,5,3,4,5,4,4,3,7,3,6,6,1,48,27,32,29,27,19,14,9,18,8,0,11,7,12,0,17,31,17,14,29,23,34,34,14,28,34,11,30,33,34,23,38,79,46,16,28,76,33,40,14,25,30,30,27,42,22,67,17,49,37,38,7,9,1,3,19,4,13,11,9,10,16,0,20,16,5,13,8,11,27,35,2,3,31,64,79,39,30,53,24,130,80,42,52,25,30,36,128,86,116,27,45,14,30,38,23,27,55,123,124,123,59,34,17,44,47,61,27,28,67,140,96,18,148],\"type\":\"histogram\",\"xaxis\":\"x10\",\"yaxis\":\"y10\"},{\"name\":\"Malty\",\"x\":[111,84,62,119,95,103,97,98,97,77,121,65,93,112,115,110,103,135,111,176,97,121,70,132,117,103,138,130,76,109,100,141,98,182,100,96,80,110,70,62,133,119,117,105,89,122,130,83,98,134,103,119,110,99,100,67,76,104,87,108,95,83,97,89,92,132,113,132,103,114,104,114,119,102,107,115,108,112,88,97,168,110,101,104,141,65,123,74,96,93,76,114,101,170,92,95,130,70,125,143,111,130,91,67,88,117,52,102,92,118,89,117,90,95,73,123,87,126,107,101,79,84,99,120,62,126,109,112,85,95,105,106,94,169,72,89,79,108,81,61,89,89,97,56,88,64,88,89,69,36,99,85,80,74,74,116,122,55,74,117,82,104,69,82,81,69,64,23,75,53,82,89,64,109,113,59,90,19,22,47,70,72,62,15,3,38,50,34,100,54,85,36,23,107,67,46,64,45,84,68,46,49,67,61,65,120,51,43,92,44,62,60,66,66,50,48,32,41,46,63,45,66,61,45,42,42,56,35,67,71,62,40,62,39,62,66,65,57,72,29,22,39,71,7,30,31,28,61,16,93,111,86,127,104,92,140,192,78,114,100,119,158,148,123,135,75,165,144,105,85,127,126,123,104,172,157,113,116,129,78,76,187,83,130,128,92,107,132,147,85,90,130,114,110,119,92,16,10,8,4,17,20,0,113,65,131,94,117,94,115,136,112,86,74,91,92,136,108,87,107,92,114,65,62,78,97,87,102,111,109,116,90,86,87,98,89,128,62,64,63,108,80,138,115,130,102,93,100,67,88,106,107,70,152,159,199,114,110,115,119,105,113,81,106,91,84,101,95,76,101,74,91,107,50,62,68,86,136,77,82,111,118,178,68,108,94,55,35,150,121,78,57,89,49,76,80,57,43,87,21,32,52,78,21,180,97,70,119,82,49,70,57,16,56,16,4,4,7,20,27,23,93,88,157,101,91,207,124,109,98,155,218,80,146,130,128,82,118,133,99,127,167,137,117,103,95,118,121,113,125,58,38,67,63,97,63,76,68,80,76,103,47,51,52,81,92,52,92,77,94,12,48,46,48,18,136,157,118,149,148,186,131,78,86,138,120,130,162,148,114,84,133,168,130,112,141,152,103,147,154,117,127,117,135,142,177,131,167,96,133,114,127,145,164,133,77,126,173,148,92,61,39,79,97,42,76,35,35,75,30,43,13,12,11,8,84,47,20,74,22,30,24,42,31,30,26,15,17,30,31,41,38,95,7,7,31,12,11,7,8,37,91,31,107,69,64,18,50,65,58,72,48,48,96,53,46,76,118,44,31,74,71,58,137,81,59,73,92,82,84,85,75,79,66,64,102,66,83,53,85,65,72,39,78,66,104,80,85,67,58,109,82,79,91,74,76,97,66,58,81,73,68,80,71,64,15,69,19,50,69,27,31,58,49,105,100,71,88,65,100,83,68,71,19,97,74,80,100,38,60,83,64,82,69,49,96,72,43,144,48,31,19,0,0,4,0,37,17,29,19,43,31,30,32,51,32,56,26,8,65,45,25,32,28,20,42,64,28,24,54,40,51,50,32,52,41,47,28,25,16,28,20,32,59,63,17,33,63,61,21,24,24,35,31,36,21,53,43,47,14,33,13,35,56,33,32,77,44,52,24,53,28,30,109,55,51,96,58,105,16,36,88,67,76,20,41,16,4,9,11,11,21,3,85,29,26,38,22,11,10,15,35,3,18,7,4,5,2,4,6,21,8,0,0,0,0,62,64,43,55,56,44,60,62,61,53,80,128,47,56,68,77,59,30,92,68,43,60,27,84,28,24,38,47,65,33,44,25,69,33,61,49,41,35,38,45,31,27,40,45,43,54,61,49,34,47,77,61,59,34,47,25,75,30,74,49,61,41,40,26,46,50,22,23,53,34,21,33,25,32,38,44,45,17,39,31,44,40,36,37,58,44,60,100,91,85,78,70,115,101,73,121,61,134,126,109,90,84,112,64,104,90,96,111,76,111,112,61,42,53,55,53,77,71,69,79,51,90,67,84,50,77,98,70,102,83,69,36,60,53,24,82,69,51,59,100,37,80,92,33,63,86,82,61,42,32,39,60,45,36,61,53,46,59,46,57,47,78,35,47,93,22,39,38,19,50,40,25,53,47,74,60,61,42,30,26,55,13,36,30,24,29,30,92,128,68,42,71,62,86,48,37,38,72,29,12,26,10,19,25,16,30,13,0,57,87,45,27,74,53,68,61,83,69,54,72,71,58,70,91,69,56,56,88,50,85,39,93,64,47,58,100,45,56,79,80,50,23,22,30,34,37,67,43,35,32,38,24,43,65,46,27,18,37,26,43,26,32,46,29,47,53,38,50,34,57,48,43,51,56,39,53,27,31,45,64,55,44,28,41,48,72,66,71,63,82,107,73,43,55,64,103,66,63,42,81,102,76,123,96,66,135,95,109,99,110,100,70,132,81,77,104,71,79,80,39,36,60,40,78,40,46,46,43,59,20,49,52,93,47,78,71,66,52,51,84,95,158,72,62,49,93,43,79,55,67,107,83,73,109,73,121,79,85,102,78,59,55,25,27,59,42,79,56,23,46,72,52,54,53,37,46,85,30,103,83,80,96,64,118,78,66,102,153,104,133,98,115,92,79,115,102,112,89,103,131,74,120,98,138,40,157,53,26,39,76,48,64,55,40,44,74,68,93,81,51,36,38,63,77,67,45,48,72,51,65,62,61,47,47,74,72,57,50,56,63,41,47,33,68,54,51,33,32,50,51,68,66,106,72,68,73,58,78,32,40,87,27,52,49,48,52,85,39,44,46,53,39,41,34,30,18,23,36,48,10,43,67,15,64,47,31,44,26,40,60,84,61,108,138,74,54,56,59,53,85,79,76,48,76,75,59,85,66,80,74,72,51,79,40,85,97,69,60,65,72,68,50,41,88,63,54,25,45,55,61,21,64,45,74,48,73,44,99,44,21,4,6,26,25,18,23,2,0,4,18,0,4,97,96,95,115,62,93,121,117,114,103,86,100,108,58,63,40,15,44,43,66,11,36,22,37,30,26,71,59,54,49,18,49,59,49,66,42,82,23,54,7,50,24,42,31,30,30,32,17,60,58,30,45,24,26,54,58,30,79,73,79,77,31,62,95,91,43,43,68,37,97,84,73,62,53,31,73,63,37,62,47,38,58,48,57,61,51,31,30,89,100,127,51,162,121,92,121,102,122,80,144,121,123,89,107,131,144,138,82,132,147,123,94,132,123,135,123,65,119,50,129,121,140,113,104,84,121,105,129,101,138,90,65,81,110,115,115,72,117,134,115,82,87,72,95,95,89,68,91,105,86,83,65,83,73,68,102,110,105,123,107,137,109,106,64,80,128,58,98,106,64,100,83,80,72,53,98,69,67,34,22,18,22,45,27,27,42,20,30,94,123,91,101,73,114,107,100,75,91,123,131,109,88,131,79,107,127,214,159,119,140,123,90,113,134,108,121,103,128,83,78,94,67,103,80,54,85,88,90,58,117,91,130,112,80,92,134,88,126,113,58,112,108,73,107,102,88,100,98,102,84,51,67,39,34,71,44,40,64,22,26,15,11,2,0,5,23,10,14,16,13,26,8,13,14,11,9,13,4,8,20,8,8,8,10,9,20,13,21,22,39,3,13,12,22,20,36,4,17,18,23,2,21,27,14,3,11,9,19,20,9,23,5,11,18,13,14,18,19,4,28,38,24,14,19,41,30,18,7,33,18,10,56,11,15,21,14,24,13,10,5,2,3,1,7,1,2,4,9,4,0,0,5,0,7,0,62,94,47,44,50,56,90,89,59,40,81,40,57,44,28,32,64,62,27,24,55,33,29,39,15,18,37,56,11,15,7,20,163,74,154,155,115,107,106,129,142,102,100,138,99,108,77,70,38,62,24,88,50,48,74,50,54,46,43,30,101,77,43,50,51,16,12,40,17,1,30,10,18,32,13,5,16,12,15,97,87,139,132,124,72,90,128,149,97,88,85,103,77,91,74,91,97,131,115,48,79,102,103,109,123,151,117,102,88,85,101,102,108,48,64,37,55,23,61,47,67,46,27,39,80,52,45,79,58,37,47,59,70,45,46,62,47,57,23,35,35,88,70,37,69,37,61,37,74,40,36,36,43,74,24,27,71,47,44,50,47,46,45,43,32,54,35,68,39,68,47,80,55,102,91,32,72,80,66,54,84,80,56,29,48,42,37,73,72,99,65,94,98,61,77,90,51,108,83,65,99,78,87,88,100,80,80,100,50,82,76,68,51,69,76,66,85,45,34,60,68,80,81,65,75,79,90,76,59,94,56,48,73,58,71,73,86,78,61,82,56,65,29,47,80,56,56,53,52,49,76,70,56,53,75,75,36,71,44,67,76,55,43,67,95,49,78,56,70,86,98,57,26,117,63,54,44,88,47,56,56,61,19,82,66,68,85,85,65,97,103,74,73,85,46,42,40,142,125,50,126,86,145,168,72,63,110,119,109,93,112,57,105,111,166,97,107,74,109,97,101,78,120,111,153,97,128,87,175,100,130,103,148,129,103,88,148,105,100,89,126,114,155,130,128,137,153,109,127,100,110,122,211,148,143,77,122,147,135,119,63,126,92,154,99,125,147,139,135,100,174,67,137,123,59,120,143,155,119,119,110,63,125,199,113,92,77,72,141,125,106,137,152,99,165,89,127,105,133,128,134,123,154,108,215,173,105,199,77,106,140,127,156,105,102,139,121,189,141,125,130,152,150,135,151,170,159,137,126,113,140,146,75,124,38,117,80,70,139,88,81,93,118,91,133,97,51,100,61,64,106,99,92,89,75,54,50,22,102,12,49,47,50,58,48,27,46,37,51,49,53,57,40,35,42,59,67,37,83,37,23,95,40,72,49,73,93,33,80,43,40,84,88,61,57,57,130,84,86,62,52,80,71,40,78,45,73,69,29,60,68,60,110,49,89,76,55,50,58,64,137,72,53,58,123,55,81,81,101,103,75,69,93,78,57,69,67,84,111,74,96,56,61,72,112,94,89,101,97,98,111,77,77,91,140,97,97,40,90,65,74,74,90,96,95,105,89,109,132,119,79,73,78,108,44,90,22,119,91,89,51,67,80,112,60,99,62,152,73,80,166,97,107,102,88,110,122,92,149,114,109,79,70,78,119,70,70,72,83,64,96,98,103,102,123,96,116,123,86,41,51,48,17,54,26,9,23,17,0,14,12,85,82,132,161,101,130,111,120,99,141,175,139,103,164,141,95,93,177,75,121,103,102,84,104,88,86,125,49,100,87,65,93,97,93,118,140,66,189,117,96,95,171,75,90,126,103,109,113,107,151,161,119,108,95,130,128,135,110,94,47,109,69,103,131,72,72,90,64,113,137,119,122,105,115,128,105,112,101,148,116,120,86,137,139,103,21,76,80,62,108,120,108,131,70,62,86,145,108,99,131,103,84,112,46,81,72,107,102,84,119,40,45,60,25,43,57,45,3,25,29,49,27,53,33,31,34,71,37,38,30,28,52,13,47,46,14,25,95,52,44,61,28,56,75,86,5,49,12,18,34,24,45,16,30,14,29,9,35,37,23,28,39,26,44,25,39,35,13,31,17,21,9,74,65,57,183,134,137,115,143,133,150,95,146,158,143,129,105,116,158,79,126,111,141,76,137,115,126,174,88,112,112,98,126,147,142,109,174,133,143,132,108,104,85,92,108,111,139,147,139,192,154,169,105,146,114,93,126,173,128,122,175,134,127,174,97,173,114,99,78,144,98,106,126,127,123,96,24,115,129,140,83,211,93,125,131,99,115,139,108,67,39,78,143,107,86,154,104,38,129,98,74,94,141,69,97,136,130,124,162,129,117,120,134,112,138,82,90,130,111,129,113,122,108,90,67,111,64,109,47,55,100,36,96,76,94,115,113,51,97,78,104,134,87,63,125,84,107,103,121,93,102,100,122,123,78,63,101,89,104,144,87,98,99,116,96,132,115,114,27,84,66,76,100,165,123,209,152,176,138,121,112,115,129,151,132,130,94,118,171,160,148,142,216,129,111,132,128,119,93,134,151,159,100,156,150,239,102,105,111,118,110,163,112,119,89,117,168,155,120,94,119,78,123,112,139,99,141,113,111,164,146,114,190,148,90,98,85,95,126,127,153,95,86,128,86,88,117,124,98,132,119,84,147,59,77,87,117,98,78,59,101,107,114,130,130,98,112,153,102,169,57,70,83,107,82,65,158,141,119,71,99,76,136,93,37,55,154,69,129,97,45,88,74,57,75,53,48,70,144,44,61,81,36,75,86,75,57,88,83,58,56,88,67,47,92,89,79,64,70,75,72,81,65,83,58,54,106,54,53,93,92,27,24,47,36,32,33,86,47,24,53,27,38,33,46,53,69,36,59,47,54,34,23,27,71,31,41,19,39,70,50,37,34,84,38,46,45,35,36,50,62,128,91,136,75,93,110,87,80,80,82,140,87,114,108,116,97,159,77,105,102,77,102,101,88,106,114,111,88,97,81,113,97,51,107,85,36,30,37,33,46,59,26,52,47,41,24,37,57,22,51,26,50,27,35,39,49,53,27,34,91,44,33,48,39,61,29,40,39,54,33,39,55,112,165,81,118,149,57,155,20,18,53,32,33,34,62,13,7,24,7,57,50,84,70,72,80,76,40,96,87,74,61,71,61,62,102,87,98,65,66,28,83,64,89,73,85,67,64,72,77,69,95,138,69,92,95,88,87,83,86,129,62,87,117,142,87,97,86,114,110,111,114,76,86,92,60,93,66,64,64,57,79,80,70,68,38,70,74,55,46,32,71,66,45,28,65,79,41,52,59,44,58,66,68,28,40,66,33,37,68,38,62,49,37,38,47,39,33,84,41,50,40,48,32,79,45,59,94,52,36,56,51,111,69,101,52,81,47,54,68,53,38,81,49,60,24,15,38,11,13,8,5,14,5,18,22,16,110,119,48,145,170,82,96,121,95,118,29,83,70,30,4,45,35,18,30,32,27,52,41,22,39,23,62,48,23,52,24,36,35,36,41,19,38,52,79,36,24,21,68,44,48,69,64,47,77,43,77,9,16,20,14,47,12,12,41,30,11,20,4,19,26,30,15,40,27,20,55,16,37,60,78,54,100,95,82,82,70,54,66,93,144,85,77,71,80,79,121,140,71,116,101,61,126,129,51,66,70,69,89,105,160,100,132,117,100,74,58,77,73,69],\"type\":\"histogram\",\"xaxis\":\"x9\",\"yaxis\":\"y9\"}],                        {\"template\":{\"data\":{\"bar\":[{\"error_x\":{\"color\":\"#2a3f5f\"},\"error_y\":{\"color\":\"#2a3f5f\"},\"marker\":{\"line\":{\"color\":\"#E5ECF6\",\"width\":0.5},\"pattern\":{\"fillmode\":\"overlay\",\"size\":10,\"solidity\":0.2}},\"type\":\"bar\"}],\"barpolar\":[{\"marker\":{\"line\":{\"color\":\"#E5ECF6\",\"width\":0.5},\"pattern\":{\"fillmode\":\"overlay\",\"size\":10,\"solidity\":0.2}},\"type\":\"barpolar\"}],\"carpet\":[{\"aaxis\":{\"endlinecolor\":\"#2a3f5f\",\"gridcolor\":\"white\",\"linecolor\":\"white\",\"minorgridcolor\":\"white\",\"startlinecolor\":\"#2a3f5f\"},\"baxis\":{\"endlinecolor\":\"#2a3f5f\",\"gridcolor\":\"white\",\"linecolor\":\"white\",\"minorgridcolor\":\"white\",\"startlinecolor\":\"#2a3f5f\"},\"type\":\"carpet\"}],\"choropleth\":[{\"colorbar\":{\"outlinewidth\":0,\"ticks\":\"\"},\"type\":\"choropleth\"}],\"contour\":[{\"colorbar\":{\"outlinewidth\":0,\"ticks\":\"\"},\"colorscale\":[[0.0,\"#0d0887\"],[0.1111111111111111,\"#46039f\"],[0.2222222222222222,\"#7201a8\"],[0.3333333333333333,\"#9c179e\"],[0.4444444444444444,\"#bd3786\"],[0.5555555555555556,\"#d8576b\"],[0.6666666666666666,\"#ed7953\"],[0.7777777777777778,\"#fb9f3a\"],[0.8888888888888888,\"#fdca26\"],[1.0,\"#f0f921\"]],\"type\":\"contour\"}],\"contourcarpet\":[{\"colorbar\":{\"outlinewidth\":0,\"ticks\":\"\"},\"type\":\"contourcarpet\"}],\"heatmap\":[{\"colorbar\":{\"outlinewidth\":0,\"ticks\":\"\"},\"colorscale\":[[0.0,\"#0d0887\"],[0.1111111111111111,\"#46039f\"],[0.2222222222222222,\"#7201a8\"],[0.3333333333333333,\"#9c179e\"],[0.4444444444444444,\"#bd3786\"],[0.5555555555555556,\"#d8576b\"],[0.6666666666666666,\"#ed7953\"],[0.7777777777777778,\"#fb9f3a\"],[0.8888888888888888,\"#fdca26\"],[1.0,\"#f0f921\"]],\"type\":\"heatmap\"}],\"heatmapgl\":[{\"colorbar\":{\"outlinewidth\":0,\"ticks\":\"\"},\"colorscale\":[[0.0,\"#0d0887\"],[0.1111111111111111,\"#46039f\"],[0.2222222222222222,\"#7201a8\"],[0.3333333333333333,\"#9c179e\"],[0.4444444444444444,\"#bd3786\"],[0.5555555555555556,\"#d8576b\"],[0.6666666666666666,\"#ed7953\"],[0.7777777777777778,\"#fb9f3a\"],[0.8888888888888888,\"#fdca26\"],[1.0,\"#f0f921\"]],\"type\":\"heatmapgl\"}],\"histogram\":[{\"marker\":{\"pattern\":{\"fillmode\":\"overlay\",\"size\":10,\"solidity\":0.2}},\"type\":\"histogram\"}],\"histogram2d\":[{\"colorbar\":{\"outlinewidth\":0,\"ticks\":\"\"},\"colorscale\":[[0.0,\"#0d0887\"],[0.1111111111111111,\"#46039f\"],[0.2222222222222222,\"#7201a8\"],[0.3333333333333333,\"#9c179e\"],[0.4444444444444444,\"#bd3786\"],[0.5555555555555556,\"#d8576b\"],[0.6666666666666666,\"#ed7953\"],[0.7777777777777778,\"#fb9f3a\"],[0.8888888888888888,\"#fdca26\"],[1.0,\"#f0f921\"]],\"type\":\"histogram2d\"}],\"histogram2dcontour\":[{\"colorbar\":{\"outlinewidth\":0,\"ticks\":\"\"},\"colorscale\":[[0.0,\"#0d0887\"],[0.1111111111111111,\"#46039f\"],[0.2222222222222222,\"#7201a8\"],[0.3333333333333333,\"#9c179e\"],[0.4444444444444444,\"#bd3786\"],[0.5555555555555556,\"#d8576b\"],[0.6666666666666666,\"#ed7953\"],[0.7777777777777778,\"#fb9f3a\"],[0.8888888888888888,\"#fdca26\"],[1.0,\"#f0f921\"]],\"type\":\"histogram2dcontour\"}],\"mesh3d\":[{\"colorbar\":{\"outlinewidth\":0,\"ticks\":\"\"},\"type\":\"mesh3d\"}],\"parcoords\":[{\"line\":{\"colorbar\":{\"outlinewidth\":0,\"ticks\":\"\"}},\"type\":\"parcoords\"}],\"pie\":[{\"automargin\":true,\"type\":\"pie\"}],\"scatter\":[{\"marker\":{\"colorbar\":{\"outlinewidth\":0,\"ticks\":\"\"}},\"type\":\"scatter\"}],\"scatter3d\":[{\"line\":{\"colorbar\":{\"outlinewidth\":0,\"ticks\":\"\"}},\"marker\":{\"colorbar\":{\"outlinewidth\":0,\"ticks\":\"\"}},\"type\":\"scatter3d\"}],\"scattercarpet\":[{\"marker\":{\"colorbar\":{\"outlinewidth\":0,\"ticks\":\"\"}},\"type\":\"scattercarpet\"}],\"scattergeo\":[{\"marker\":{\"colorbar\":{\"outlinewidth\":0,\"ticks\":\"\"}},\"type\":\"scattergeo\"}],\"scattergl\":[{\"marker\":{\"colorbar\":{\"outlinewidth\":0,\"ticks\":\"\"}},\"type\":\"scattergl\"}],\"scattermapbox\":[{\"marker\":{\"colorbar\":{\"outlinewidth\":0,\"ticks\":\"\"}},\"type\":\"scattermapbox\"}],\"scatterpolar\":[{\"marker\":{\"colorbar\":{\"outlinewidth\":0,\"ticks\":\"\"}},\"type\":\"scatterpolar\"}],\"scatterpolargl\":[{\"marker\":{\"colorbar\":{\"outlinewidth\":0,\"ticks\":\"\"}},\"type\":\"scatterpolargl\"}],\"scatterternary\":[{\"marker\":{\"colorbar\":{\"outlinewidth\":0,\"ticks\":\"\"}},\"type\":\"scatterternary\"}],\"surface\":[{\"colorbar\":{\"outlinewidth\":0,\"ticks\":\"\"},\"colorscale\":[[0.0,\"#0d0887\"],[0.1111111111111111,\"#46039f\"],[0.2222222222222222,\"#7201a8\"],[0.3333333333333333,\"#9c179e\"],[0.4444444444444444,\"#bd3786\"],[0.5555555555555556,\"#d8576b\"],[0.6666666666666666,\"#ed7953\"],[0.7777777777777778,\"#fb9f3a\"],[0.8888888888888888,\"#fdca26\"],[1.0,\"#f0f921\"]],\"type\":\"surface\"}],\"table\":[{\"cells\":{\"fill\":{\"color\":\"#EBF0F8\"},\"line\":{\"color\":\"white\"}},\"header\":{\"fill\":{\"color\":\"#C8D4E3\"},\"line\":{\"color\":\"white\"}},\"type\":\"table\"}]},\"layout\":{\"annotationdefaults\":{\"arrowcolor\":\"#2a3f5f\",\"arrowhead\":0,\"arrowwidth\":1},\"autotypenumbers\":\"strict\",\"coloraxis\":{\"colorbar\":{\"outlinewidth\":0,\"ticks\":\"\"}},\"colorscale\":{\"diverging\":[[0,\"#8e0152\"],[0.1,\"#c51b7d\"],[0.2,\"#de77ae\"],[0.3,\"#f1b6da\"],[0.4,\"#fde0ef\"],[0.5,\"#f7f7f7\"],[0.6,\"#e6f5d0\"],[0.7,\"#b8e186\"],[0.8,\"#7fbc41\"],[0.9,\"#4d9221\"],[1,\"#276419\"]],\"sequential\":[[0.0,\"#0d0887\"],[0.1111111111111111,\"#46039f\"],[0.2222222222222222,\"#7201a8\"],[0.3333333333333333,\"#9c179e\"],[0.4444444444444444,\"#bd3786\"],[0.5555555555555556,\"#d8576b\"],[0.6666666666666666,\"#ed7953\"],[0.7777777777777778,\"#fb9f3a\"],[0.8888888888888888,\"#fdca26\"],[1.0,\"#f0f921\"]],\"sequentialminus\":[[0.0,\"#0d0887\"],[0.1111111111111111,\"#46039f\"],[0.2222222222222222,\"#7201a8\"],[0.3333333333333333,\"#9c179e\"],[0.4444444444444444,\"#bd3786\"],[0.5555555555555556,\"#d8576b\"],[0.6666666666666666,\"#ed7953\"],[0.7777777777777778,\"#fb9f3a\"],[0.8888888888888888,\"#fdca26\"],[1.0,\"#f0f921\"]]},\"colorway\":[\"#636efa\",\"#EF553B\",\"#00cc96\",\"#ab63fa\",\"#FFA15A\",\"#19d3f3\",\"#FF6692\",\"#B6E880\",\"#FF97FF\",\"#FECB52\"],\"font\":{\"color\":\"#2a3f5f\"},\"geo\":{\"bgcolor\":\"white\",\"lakecolor\":\"white\",\"landcolor\":\"#E5ECF6\",\"showlakes\":true,\"showland\":true,\"subunitcolor\":\"white\"},\"hoverlabel\":{\"align\":\"left\"},\"hovermode\":\"closest\",\"mapbox\":{\"style\":\"light\"},\"paper_bgcolor\":\"white\",\"plot_bgcolor\":\"#E5ECF6\",\"polar\":{\"angularaxis\":{\"gridcolor\":\"white\",\"linecolor\":\"white\",\"ticks\":\"\"},\"bgcolor\":\"#E5ECF6\",\"radialaxis\":{\"gridcolor\":\"white\",\"linecolor\":\"white\",\"ticks\":\"\"}},\"scene\":{\"xaxis\":{\"backgroundcolor\":\"#E5ECF6\",\"gridcolor\":\"white\",\"gridwidth\":2,\"linecolor\":\"white\",\"showbackground\":true,\"ticks\":\"\",\"zerolinecolor\":\"white\"},\"yaxis\":{\"backgroundcolor\":\"#E5ECF6\",\"gridcolor\":\"white\",\"gridwidth\":2,\"linecolor\":\"white\",\"showbackground\":true,\"ticks\":\"\",\"zerolinecolor\":\"white\"},\"zaxis\":{\"backgroundcolor\":\"#E5ECF6\",\"gridcolor\":\"white\",\"gridwidth\":2,\"linecolor\":\"white\",\"showbackground\":true,\"ticks\":\"\",\"zerolinecolor\":\"white\"}},\"shapedefaults\":{\"line\":{\"color\":\"#2a3f5f\"}},\"ternary\":{\"aaxis\":{\"gridcolor\":\"white\",\"linecolor\":\"white\",\"ticks\":\"\"},\"baxis\":{\"gridcolor\":\"white\",\"linecolor\":\"white\",\"ticks\":\"\"},\"bgcolor\":\"#E5ECF6\",\"caxis\":{\"gridcolor\":\"white\",\"linecolor\":\"white\",\"ticks\":\"\"}},\"title\":{\"x\":0.05},\"xaxis\":{\"automargin\":true,\"gridcolor\":\"white\",\"linecolor\":\"white\",\"ticks\":\"\",\"title\":{\"standoff\":15},\"zerolinecolor\":\"white\",\"zerolinewidth\":2},\"yaxis\":{\"automargin\":true,\"gridcolor\":\"white\",\"linecolor\":\"white\",\"ticks\":\"\",\"title\":{\"standoff\":15},\"zerolinecolor\":\"white\",\"zerolinewidth\":2}}},\"xaxis\":{\"anchor\":\"y\",\"domain\":[0.0,0.45]},\"yaxis\":{\"anchor\":\"x\",\"domain\":[0.848,1.0]},\"xaxis2\":{\"anchor\":\"y2\",\"domain\":[0.55,1.0]},\"yaxis2\":{\"anchor\":\"x2\",\"domain\":[0.848,1.0]},\"xaxis3\":{\"anchor\":\"y3\",\"domain\":[0.0,0.45]},\"yaxis3\":{\"anchor\":\"x3\",\"domain\":[0.6359999999999999,0.7879999999999999]},\"xaxis4\":{\"anchor\":\"y4\",\"domain\":[0.55,1.0]},\"yaxis4\":{\"anchor\":\"x4\",\"domain\":[0.6359999999999999,0.7879999999999999]},\"xaxis5\":{\"anchor\":\"y5\",\"domain\":[0.0,0.45]},\"yaxis5\":{\"anchor\":\"x5\",\"domain\":[0.424,0.576]},\"xaxis6\":{\"anchor\":\"y6\",\"domain\":[0.55,1.0]},\"yaxis6\":{\"anchor\":\"x6\",\"domain\":[0.424,0.576]},\"xaxis7\":{\"anchor\":\"y7\",\"domain\":[0.0,0.45]},\"yaxis7\":{\"anchor\":\"x7\",\"domain\":[0.212,0.364]},\"xaxis8\":{\"anchor\":\"y8\",\"domain\":[0.55,1.0]},\"yaxis8\":{\"anchor\":\"x8\",\"domain\":[0.212,0.364]},\"xaxis9\":{\"anchor\":\"y9\",\"domain\":[0.0,0.45]},\"yaxis9\":{\"anchor\":\"x9\",\"domain\":[0.0,0.152]},\"xaxis10\":{\"anchor\":\"y10\",\"domain\":[0.55,1.0]},\"yaxis10\":{\"anchor\":\"x10\",\"domain\":[0.0,0.152]},\"title\":{\"text\":\"Beer Attribute Frequency Distributions\"},\"height\":1000,\"width\":1000},                        {\"responsive\": true}                    ).then(function(){\n",
       "                            \n",
       "var gd = document.getElementById('8db62f35-592b-4759-a02c-27a94c41376e');\n",
       "var x = new MutationObserver(function (mutations, observer) {{\n",
       "        var display = window.getComputedStyle(gd).display;\n",
       "        if (!display || display === 'none') {{\n",
       "            console.log([gd, 'removed!']);\n",
       "            Plotly.purge(gd);\n",
       "            observer.disconnect();\n",
       "        }}\n",
       "}});\n",
       "\n",
       "// Listen for the removal of the full notebook cells\n",
       "var notebookContainer = gd.closest('#notebook-container');\n",
       "if (notebookContainer) {{\n",
       "    x.observe(notebookContainer, {childList: true});\n",
       "}}\n",
       "\n",
       "// Listen for the clearing of the current output cell\n",
       "var outputEl = gd.closest('.output');\n",
       "if (outputEl) {{\n",
       "    x.observe(outputEl, {childList: true});\n",
       "}}\n",
       "\n",
       "                        })                };                            </script>        </div>\n",
       "</body>\n",
       "</html>"
      ]
     },
     "metadata": {},
     "output_type": "display_data"
    }
   ],
   "source": [
    "from plotly.subplots import make_subplots\n",
    "import plotly.graph_objects as go\n",
    "import math\n",
    "\n",
    "histo_bp = bp.drop(columns = ['Style', 'Beer Name (Full)'])\n",
    "fig = make_subplots(rows=round(len(histo_bp.columns) / 2), cols=2)\n",
    "# count used for positioning plots\n",
    "pos = 1\n",
    "for col in histo_bp.columns:\n",
    "    print(pos)\n",
    "    fig.append_trace(go.Histogram(x=list(histo_bp[col]), name = col), row=(math.ceil(pos / 2)), col=((pos % 2) + 1))\n",
    "    pos+=1\n",
    "\n",
    "fig.update_layout(height=1000, width=1000, title_text=\"Beer Attribute Frequency Distributions\")\n",
    "fig.show()"
   ]
  },
  {
   "cell_type": "markdown",
   "metadata": {
    "id": "UZvUJT_cBVVT"
   },
   "source": [
    "From these plots, we have decided that there is too little variability in the 'Salty' attribute for the buckets to have meaning. The reason for this is that a beer could be labeled as having significantly more spices than another while being less than 10 points different in its spices rating."
   ]
  },
  {
   "cell_type": "markdown",
   "metadata": {
    "id": "GSOyMsE663Z6"
   },
   "source": [
    "This function that will bin by each column and identify links between beers. \n",
    "\n",
    "We have decided to exclude salty as a bin feature because the distribution is skewed such that the vast majority of beers are not salty at all or are minimally salty, so it is not a valuable metric in distinguishing beers"
   ]
  },
  {
   "cell_type": "code",
   "execution_count": null,
   "metadata": {
    "id": "GGLzl023CkFs"
   },
   "outputs": [],
   "source": [
    "bp = bp.drop(columns = 'Salty')"
   ]
  },
  {
   "cell_type": "code",
   "execution_count": null,
   "metadata": {
    "id": "AzFCavA-62RU"
   },
   "outputs": [],
   "source": [
    "#iterate through each column; in each column we want to qcut on that column by x bins\n",
    "#Make a new column that describes which buckets the beer falls into for each descriptor\n",
    "#We should have a DF where each beer has a column describing the profile buckets it is in \n",
    "#These will be used make links between beers\n",
    "def bucket_me(x, df):\n",
    "  for col in df.columns:\n",
    "    if col != 'Style':\n",
    "      #Not passing labels in this step to ensure # of labels < bin edges\n",
    "      categories, bins = pd.qcut(df[col], q=x, duplicates = 'drop', retbins = True)\n",
    "      labels = []\n",
    "      for i in range(len(bins) - 1):\n",
    "        labels.append(col + str(i))\n",
    "      df[col] = pd.qcut(df[col], q=x,labels=labels,duplicates='drop')\n",
    "  return df"
   ]
  },
  {
   "cell_type": "code",
   "execution_count": null,
   "metadata": {
    "id": "XR54lhmpfmIL"
   },
   "outputs": [],
   "source": [
    "new_bp = bucket_me(4, bp.set_index('Beer Name (Full)'))"
   ]
  },
  {
   "cell_type": "code",
   "execution_count": null,
   "metadata": {
    "id": "xaOjVdVlf8Cu"
   },
   "outputs": [],
   "source": [
    "new_bp[\"all topics\"] = new_bp.apply(lambda x: ','.join(x.astype(str)), axis=1)"
   ]
  },
  {
   "cell_type": "code",
   "execution_count": null,
   "metadata": {
    "id": "LcUYZbXC5jPh"
   },
   "outputs": [],
   "source": [
    "def str_to_list(input):\n",
    "  return input.split(',')"
   ]
  },
  {
   "cell_type": "code",
   "execution_count": null,
   "metadata": {
    "id": "Z-f2rMRg5xK5"
   },
   "outputs": [],
   "source": [
    "new_bp[\"all topics\"] = new_bp[\"all topics\"].apply(str_to_list)"
   ]
  },
  {
   "cell_type": "markdown",
   "metadata": {
    "id": "tBtoNkZXgA-P"
   },
   "source": [
    "###Node Graph"
   ]
  },
  {
   "cell_type": "markdown",
   "metadata": {
    "id": "ada4HRvxwGjV"
   },
   "source": [
    "This function will generate a article to article network given an input DataFrame. It will do so by creating an edge_dictionary where each key is going to be a node referenced by unique values in node_col and the values will be a list of other nodes connected to the key through the edge_col."
   ]
  },
  {
   "cell_type": "code",
   "execution_count": null,
   "metadata": {
    "id": "ub3MHuEpgEkC"
   },
   "outputs": [],
   "source": [
    "from networkx.algorithms.dag import topological_sort\n",
    "import networkx as nx\n",
    "\n",
    "def generate_network(df, edge_col = \"all topics\", shared_att = 3):\n",
    "    edge_dct = {}\n",
    "\n",
    "    # iterating for each unique beer in the df\n",
    "    for beer in list(df.index):\n",
    "        # get  \"all topic\" of the beer\n",
    "        beer_topics = df.loc[beer][edge_col]\n",
    "\n",
    "        # creating a list of all the beers that are not the current one and share X attributes\n",
    "        edge_df = df[(df.index != beer) & (df[edge_col].apply(beer_comparer, args = (beer_topics, shared_att, )))]\n",
    "        edge_dct[beer] = edge_df.index\n",
    "    \n",
    "    # create nx network\n",
    "    g = nx.Graph(edge_dct, create_using = nx.MultiGraph)\n",
    "    return g"
   ]
  },
  {
   "cell_type": "code",
   "execution_count": null,
   "metadata": {
    "id": "3ROePxxq6zuI"
   },
   "outputs": [],
   "source": [
    "def beer_comparer(comp_list, beer_list, shared_att):\n",
    "  # compares two lists and returns True if number of shared values is greater than or equal to shared_att\n",
    "  return len([i for i, j in zip(comp_list, beer_list) if i == j]) >= shared_att"
   ]
  },
  {
   "cell_type": "code",
   "execution_count": null,
   "metadata": {
    "colab": {
     "base_uri": "https://localhost:8080/"
    },
    "id": "vrksr4zz0BH8",
    "outputId": "3456da7c-7c18-4311-ad80-246cb0773caa"
   },
   "outputs": [
    {
     "data": {
      "text/plain": [
       "<networkx.classes.graph.Graph at 0x7f6f07ce73d0>"
      ]
     },
     "execution_count": 15,
     "metadata": {},
     "output_type": "execute_result"
    }
   ],
   "source": [
    "g = generate_network(new_bp, shared_att = 7)\n",
    "g"
   ]
  },
  {
   "cell_type": "code",
   "execution_count": null,
   "metadata": {
    "colab": {
     "base_uri": "https://localhost:8080/"
    },
    "id": "wzS4F0EE1MH1",
    "outputId": "52c735a6-07d0-4411-81d9-157dd1dcaa30"
   },
   "outputs": [
    {
     "name": "stdout",
     "output_type": "stream",
     "text": [
      "Graph with 3197 nodes and 71482 edges\n"
     ]
    }
   ],
   "source": [
    "print(nx.info(g))"
   ]
  },
  {
   "cell_type": "code",
   "execution_count": null,
   "metadata": {
    "colab": {
     "base_uri": "https://localhost:8080/"
    },
    "id": "Knw2UFgPPoTP",
    "outputId": "32f0158a-588c-4ba2-a8e5-ea8e0543a8c5"
   },
   "outputs": [
    {
     "data": {
      "text/plain": [
       "NodeView(('Alaskan Brewing Co. Alaskan Amber', 'Long Trail Brewing Co. Double Bag', 'Long Trail Brewing Co. Long Trail Ale', 'Uerige Obergärige Hausbrauerei GmbH / Zum Uerige Uerige Doppelsticke', \"Ninkasi Brewing Company Sleigh'r Dark Doüble Alt Ale\", 'Uerige Obergärige Hausbrauerei GmbH / Zum Uerige Uerige Sticke', 'Widmer Brothers Brewing Company Okto', 'Southampton Publick House Southampton Altbier', 'The Olde Mecklenburg Brewery OMB Copper', 'Brauerei Pinkus Mueller Organic Münster Alt', 'Uerige Obergärige Hausbrauerei GmbH / Zum Uerige Uerige Altbier (Classic)', 'Yazoo Brewing Company Gerst Amber', 'Free State Brewing Co. Ad Astra Ale', 'Fordham Brewing Company Fordham Copperhead Ale', 'Victory Brewing Company Ten Years Alt', \"Mother's Brewing Company Three Blind Mice\", 'Rising Tide Brewing Company Ishmael', 'Tuckerman Brewing Co. Headwall Alt', 'Hops & Grain Alt-eration Ale', \"August Schell Brewing Company Barrel Aged Schmaltz's Alt\", 'Privatbrauerei Frankenheim Frankenheim Alt', 'Metropolitan Brewing Iron Works Alt', 'Brauerei Diebels GmbH & Co KG Diebels Premium Altbier', 'Mission Brewery Mission Amber', 'Hövels Hausbrauerei Hövels Original Bitterbier', 'Evolution Craft Brewing Company Secret Spot Winter Ale', 'Cheboygan Brewing Company Lighthouse Amber', 'Les Trois Mousquetaires Série Signature Sticke Alt', 'Driftwood Brewery Crooked Coast Amber Ale', 'Rahr & Sons Brewing Company Gravel Road', 'Grimm Brothers Brewhouse Little Red Cap', \"Beau's All Natural Brewing Company Festivale\", 'Buzzards Bay Brewing Moby D', 'Rush River Brewing Company Über Alt', 'Brauerei Im Füchschen Im Füchschen Alt', \"O'Fallon Brewery Sticke It To The Man\", 'Blue Mountain Brewery Evan Altmighty', 'COAST Brewing Company ALTerior Motive', 'Detroit Beer Co. Detroit Beer Co. The Detroit Dwarf', 'Dogfish Head Brewery Olde School Barleywine', 'Central Waters Brewing Company Bourbon Barrel Barleywine', 'Great Divide Brewing Company Old Ruffian Barley Wine', 'Victory Brewing Company Old Horizontal', 'Three Floyds Brewing Co. & Brewpub Behemoth Blonde Barleywine', 'Lagunitas Brewing Company Olde GnarlyWine', 'AleSmith Brewing Company AleSmith Old Numbskull', 'Tröegs Brewing Company Flying Mouflan', 'Rogue Ales XS Old Crustacean', 'Hair of the Dog Brewing Company / Brewery and Tasting Room Doggie Claws', 'Firestone Walker Brewing Co. Helldorado', 'Uinta Brewing Company Cockeyed Cooper', \"Brasserie Dieu Du Ciel Solstice D'hiver\", 'Uinta Brewing Company Anniversary Barley Wine', 'Green Flash Brewing Co. Barleywine Style Ale', '21st Amendment Brewery Lower Da Boom Barleywine', 'Boulder Beer / Wilderness Pub Killer Penguin Barleywine', 'Alpine Beer Company Great', \"Boston Beer Company (Samuel Adams) Griffin's Bow\", 'Real Ale Brewing Company Sisyphus', 'East End Brewing Company Gratitude', 'The Duck-Rabbit Craft Brewery Duck-Rabbit Barleywine Ale', 'Rock Art Brewery Vermonster', 'Smuttynose Brewing Company Smuttynose Barleywine Style Ale (Big Beer Series)', 'Mad River Brewing Company John Barleycorn Barleywine Ale', 'Three Floyds Brewing Co. & Brewpub Barrel Aged Behemoth', 'Great Divide Brewing Company Barrel Aged Old Ruffian', 'Nøgne Ø - Det Kompromissløse Bryggeri A/S # 100', 'AleSmith Brewing Company AleSmith Old Numbskull - Barrel Aged', \"DuClaw Brewing Company Devil's Milk\", 'Mikkeller ApS Big Worse', 'Santa Fe Brewing Company Chicken Killer Barley Wine', 'Big Sky Brewing Company Olde Bluehair - Barrel Aged', \"Moylan's Brewery Old Blarney Barleywine\", 'Middle Ages Brewing Co., Ltd. Druid Fluid', 'Berkshire Brewing Company Inc. Holidale', 'Blue Point Brewing Company Blue Point Old Howling Bastard', 'Free State Brewing Co. Old Backus Barleywine', 'Firestone Walker Brewing Co. §ucaba (Abacus)', 'Weyerbacher Brewing Co. Insanity', 'Weyerbacher Brewing Co. Blithering Idiot', 'Pelican Pub & Brewery Mother Of All Storms', 'Anchor Brewing Company Anchor Old Foghorn', 'Firestone Walker Brewing Co. Double Double Barrel Ale', 'Deschutes Brewery Mirror Mirror', 'Midnight Sun Brewing Co. Arctic Devil Barley Wine', 'Flying Dog Brewery Horn Dog Barley Wine Style Ale', 'Kuhnhenn Brewing Company Kuhnhenn Bourbon Barrel Barley Wine', 'J.W. Lees & Co (Brewers) Ltd J.W. Lees Harvest Ale (Lagavulin Whisky Cask)', \"Dry Dock Brewing Co. Bligh's Barleywine Ale\", 'J.W. Lees & Co (Brewers) Ltd J.W. Lees Harvest Ale (Calvados Cask)', 'J.W. Lees & Co (Brewers) Ltd J.W. Lees Harvest Ale (Port Cask)', 'Rock Art Brewery Ridge Runner', 'J.W. Lees & Co (Brewers) Ltd J.W. Lees Harvest Ale (Sherry Cask)', 'Olde Hickory Brewery Irish Walker', 'Ridgeway Brewing Criminally Bad Elf', 'Lift Bridge Brewery Commander', \"Shipyard Brewing Co. Shipyard Barley Wine Style Ale (Pugsley's Signature Series)\", 'Brouwerij De Molen Bommen & Granaten', 'Shipyard Brewing Co. Double Old Thumper Ale', 'Flossmoor Station Restaurant & Brewery Wooden Hell', 'Fuller Smith & Turner PLC Golden Pride', \"Pelican Pub & Brewery Stormwatcher's Winterfest\", 'Stoudts Brewing Co. Old Abominable', \"Fuller Smith & Turner PLC Fuller's ESB\", 'Wychwood Brewery Company Ltd Hobgoblin', 'Left Hand Brewing Company Sawtooth Ale', 'Southern Tier Brewing Company Harvest Ale', 'Shipyard Brewing Co. Old Thumper ESA', 'Greene King / Morland Brewery Abbot Ale', 'AleSmith Brewing Company Anvil Ale ESB', \"Stoudts Brewing Co. Stoudt's Scarlet Lady ESB\", 'Three Floyds Brewing Co. & Brewpub Lord Admiral Nelson', 'Yards Brewing Co. Extra Special Ale (ESA)', \"Foster's Group Limited Foster's Premium Ale\", 'Anderson Valley Brewing Company Boont ESB', 'Green Man Brewery Green Man ESB', 'SweetWater Brewing Company Sweetwater Motor Boat', 'Ska Brewing Co. ESB Special Ale', \"Short's Brewing Company Short's Autumn Ale\", \"Gritty McDuff's Brewing Company Gritty McDuff's Halloween Ale\", 'Shepherd Neame Ltd Bishops Finger', 'French Broad Brewing Co. 13 Rebels ESB', 'Middle Ages Brewing Co., Ltd. Beast Bitter', 'Great Lakes Brewing Company Great Lakes Moondog ESB', 'Rock Art Brewery Magnumus Ete Tomahawkus ESB³', 'Elysian Brewing Company The Wise ESB', 'Woodstock Inn Brewery Red Rack Ale', \"Gritty McDuff's Brewing Company Gritty McDuff's Christmas Ale\", 'Deschutes Brewery Bachelor ESB', 'Elevator Brewery & Draught Haus Elevator Bleeding Buckeye Red Ale', 'Propeller Brewery Propeller Extra Special Bitter (ESB)', 'Blue Mountain Brewery Steel Wheels ESB', 'George Bateman and Son Ltd. / Batemans Brewery Batemans XXXB', 'Grand Teton Brewing Co. XX Bitch Creek', 'Adnams plc, Sole Bay Brewery Adnams SSB (Suffolk Special Bitter)', 'Driftwood Brewery Naughty Hildegard ESB', \"Goose Island Beer Co. Honker's Ale\", \"Fuller Smith & Turner PLC Fuller's London Pride\", 'Coniston Brewing Co. Ltd Bluebird Bitter', 'Shepherd Neame Ltd Spitfire (Premium Ale Export)', \"Rogue Ales Younger's Special Bitter\", 'City Steam Brewery Café City Steam Naughty Nurse Pale Ale', 'Greene King / Morland Brewery Ruddles County', \"Foster's Group Limited Foster's Special Bitter\", \"Victory Brewing Company Uncle Teddy's Bitter\", \"Sharp's Brewery Doom Bar Bitter\", 'Two Brothers Brewing Company Long Haul Session Ale', \"Gritty McDuff's Brewing Company Gritty McDuff's Best Bitter\", 'Greene King / Morland Brewery Old Golden Hen', 'Hop Back Brewery plc Hopback Summer Lightning', 'Belhaven Brewery Company Ltd. Belhaven Best', 'Adnams plc, Sole Bay Brewery Adnams Southwold Bitter', \"D.L. Geary Brewing Company Geary's Winter Ale\", 'W.H. Brakspear & Sons plc Brakspear Bitter', 'Wychwood Brewery Company Ltd Goliath', \"Marshall Brewing Company McNellie's Pub Ale\", \"St. Peter's Brewery Co Ltd St. Peter's Ruby Red Ale\", 'Brouwerij De Molen Op & Top', \"Carlsberg-Tetley Brewing Ltd Tetley's Smoothflow\", 'Wellington County Brewery Arkell Best Bitter', 'Sly Fox Brewing Company Chester County Bitter', \"Robert Cain & Company Limited Cain's Best Bitter\", 'Ridgeway Brewing Ridgeway Bitter', 'Cricket Hill Brewing Co. Colonel Blides Cask Ale', \"Hog's Back Brewery T.E.A. (Traditional English Ale)\", 'Coniston Brewing Co. Ltd XB Bluebird Bitter', 'RCH Brewery Pitchfork Rebellious Bitter', 'Dark Star Brewing Company Limited HopHead', \"Samuel Smith Old Brewery (Tadcaster) Samuel Smith's Old Brewery Bitter\", 'Hair of the Dog Brewing Company / Brewery and Tasting Room Little Dog', \"St. Peter's Brewery Co Ltd St. Peter's Best Bitter\", 'Castle Eden & Camerons Brewing Company Ltd Camerons Strongarm', 'George Gale & Company Ltd HSB (Horndean Special Bitter)', \"Strangford Lough Brewing Company Ltd St. Patrick's Best\", 'Hook Norton Brewery Co. Ltd. Hooky Bitter', 'Minneapolis Town Hall Brewery West Bank Pub Ale', 'Adnams plc, Sole Bay Brewery Adnams Bitter', 'Brouwerij Bosteels DeuS (Brut Des Flandres)', 'Mikkeller ApS Nelson Sauvignon (Nelson Sauvin Brut)', 'Brouwerij De Landtsheer NV Malheur Bière Brut (Brut Reserve)', 'Brouwerij De Landtsheer NV Malheur Brut Noir (Black Chocolate)', 'Cobra Beer Partnership Limited Krait Prestige', 'Cervejaria Sudbrack Ltda Eisenbahn Lust', 'Pivovarský D&#367;m \\x8aamp - Pivní Sekt', 'Cervejaria Sudbrack Ltda Eisenbahn Lust Prestige', 'Victory Brewing Company Summer Love', 'Sixpoint Brewery Sweet Action', 'Kona Brewing Co. Big Wave Golden Ale', 'Deschutes Brewery Twilight Ale', 'Flying Dog Brewery Tire Bite Golden Ale', 'Shipyard Brewing Co. Shipyard Export Ale', \"Real Ale Brewing Company Fireman's #4\", \"Alexander Keith's India Pale Ale\", 'Great Divide Brewing Company Samurai Ale', 'Southern Star Brewing Company Bombshell Blonde', 'Flying Fish Brewing Company Farmhouse Summer Ale', 'Magic Hat Brewing Company Single Chair Ale', 'Widmer Brothers Brewing Company Citra Summer Blonde Brew', 'Ska Brewing Co. True Blonde Ale', 'Two Brothers Brewing Company Prairie Path Ale', 'Blue Point Brewing Company Blue Point Summer Ale', 'Russian River Brewing Company Aud Blonde', 'Half Acre Beer Company Gossamer Golden Ale', 'Heavy Seas Beer Heavy Seas - Gold Ale', \"Uinta Brewing Company Sum'R\", 'Big Sky Brewing Company Summer Honey Ale', 'Pabst Brewing Company Ballantine XXX Ale', 'Molson Coors Canada Molson Export', 'Fulton Beer Lonely Blonde', 'River Horse Brewing Co. River Horse Summer Blonde', \"Lawson's Finest Liquids Knockout Blonde\", 'Thomas Hooker Brewing Company Thomas Hooker Blonde Ale', 'DuClaw Brewing Company Bare Ass Blonde Ale', 'New Orleans Lager & Ale Brewing Company (NOLA) NOLA Blonde Ale', 'Alamo Beer Co. Alamo Golden Ale', 'Mayflower Brewing Company Mayflower Golden Ale', 'Abbaye de Leffe S.A. Leffe Blonde', 'Brouwerij De Smedt / Brouwerij Affligem Affligem Blond', 'Brouwerij Westvleteren (Sint-Sixtusabdij van Westvleteren) Trappist Westvleteren Blonde', 'The Lost Abbey Devotion Ale', 'Brouwerij Alken-Maes Grimbergen Blonde', 'Brouwerij Duvel Moortgat NV Maredsous 6 - Blonde', 'Brasserie Caracole Saxo', 'Bierbrouwerij De Koningshoeven B.V. La Trappe Blond (Koningshoeven / Dominus)', 'Brouwerij Van Steenberge N.V. Augustijn Blond', 'Brouwerij Van Honsebrouck N.V. Kasteel Blond', \"Brasserie de l'Abbaye du Val-Dieu Val-Dieu Blond\", 'Brasserie St. Feuillien St. Feuillien Blonde', 'Brouwerij Kerkom Bink Blond', 'Brouwerij Hof Ten Dormaal Blond', 'Brouwerij Haacht NV Tongerlo 6 Dubbel Blond', 'Perennial Artisan Ales Southside Blonde', 'BottleTree Beer Co. BottleTree Belgian Blonde', 'Brasserie La Binchoise (Malterie des Remparts) La Binchoise Blonde Tradition', 'Brasserie De Brunehaut Brunehaut Blonde', 'Brouwerij Palm NV Steenbrugge Blond', 'Brasserie Lefèbvre SA Abbaye De Floreffe Blonde', 'Brasserie Du Bocq La Gauloise Blonde', 'Brouwerij Contreras Valeir Blond', 'Old Forge Brewing Company Celestial Blond Ale', \"Brouwerij Smisje 't Smisje Blond\", 'Brouwerij De Koninck NV De Koninck Blond', 'Brasserie Meteor Wendelinus', 'Brouwerij Roman N.V. Ename Blond', 'Brouwerij Huyghe St. Idesbald Blond', \"Brasserie Val De Sambre Abbaye D'Aulne Blonde Des Pères (Sur Lie) 6°\", 'Brouwerij Van Viven Viven Blond', \"Choc Beer Co. / Pete's Place Belgian-Style Blonde Ale\", 'Brouwerij Van den Bossche Pater Lieven Blond', 'Tröegs Brewing Company Troegenator Double Bock', 'Spaten-Franziskaner-Bräu Spaten Optimator', 'Paulaner Brauerei GmbH & Co. KG Salvator Doppel Bock', 'Bayerische Staatsbrauerei Weihenstephan Weihenstephaner Korbinian', 'Brauerei Schloss Eggenberg Samichlaus Bier', 'Boston Beer Company (Samuel Adams) Samuel Adams Double Bock (Imperial Series)', 'Klosterbrauerei Andechs Andechser Doppelbock Dunkel', 'Dark Horse Brewing Company Dark Horse Perkulator Coffee Dopplebock', 'Kulmbacher Brauerei AG EKU 28', 'Thomas Hooker Brewing Company Thomas Hooker Liberator Doppelbock', \"Smuttynose Brewing Company Smuttynose S'muttonator (Big Beer Series)\", 'Tommyknocker Brewery Butthead Doppelbock', 'Capital Brewery Autumnal Fire', 'Klosterbrauerei Weltenburg Weltenburger Kloster Asam-Bock', 'Utah Brewers Cooperative Wasatch Devastator Double Bock', 'Victory Brewing Company St. Victorious', 'Brauerei Schloss Eggenberg Urbock 23°', 'Atwater Block Brewery Atwater Voodoovator', \"Jack's Abby Brewing Saxonator Dunkles Doppelbock\", 'Der HirschBrau/Privatbrauerei Höss Doppel-Hirsch', \"Trader Joe's Brewing Company Josephs Brau Winterfest\", 'The Duck-Rabbit Craft Brewery Duck-Rabbit Duck-Rabbator', 'Klosterbrauerei Ettal / Ettaler Klosterbetriebe GmbH Ettaler Curator Doppelbock (US Import Version)', 'Capital Brewery Blonde Doppelbock', 'Brauerei Schloss Eggenberg Doppelbock Dunkel', 'Brauerei Tucher Brau Tucher Bajuvator Doppelbock', 'Kuhnhenn Brewing Company Kuhnhenn Dark Heathen Triple Bock', 'Gordon Biersch Brewery Restaurant Gordon Biersch Winter Bock', 'Thomas Creek Brewery Deep Water Dopplebock', 'Les Trois Mousquetaires Doppelbock Grande Cuvée Printemps', 'Indian Wells Brewing Company Lobotomy Bock', 'Pivovar Náchod a.s. Primátor Double Bock Beer', 'Einstök Ölgerð Icelandic Doppelbock', 'Sprecher Brewing Company Dopple Bock', \"Pennsylvania Brewing Company St. Nikolaus Bock Bier - Brewer's Reserve\", 'Christian Moerlein Brewing Company Christian Moerlein Doppelbock', 'Einbecker Brauhaus AG Einbecker Winter-Bock', 'Brauerei Hofstetten Krammer GmbH & Co. KG Granitbock', 'Grand Teton Brewing Co. Double Vision Doppelbock', \"Fireman's Brew, Inc. Fireman's Brew Brewnette Beer\", 'Weisses Bräuhaus G. Schneider & Sohn GmbH Schneider Aventinus Weizen-Eisbock', 'Kuhnhenn Brewing Company Kuhnhenn Eisbock', 'Kuhnhenn Brewing Company Kuhnhenn Winter Wonder Lager', 'High Point Brewing Company Ramstein Winter Wheat Eisbock', 'Brauerei Hofstetten Krammer GmbH & Co. KG Granitbock Ice', 'Southampton Publick House Double Ice Bock', \"Micro-Brasserie L'Alchimiste Eisbock (Congelator)\", 'Schorschbräu Schorschbock Ice 13', 'Schorschbräu Schorschbock 31%', 'Le Bilboquet, Brasseur Artisan La Félix', 'Schorschbräu Schorschbock 57%', 'Lodi Beer Company Eisbock', 'Sly Fox Brewing Company Eis Instigator', 'Aarhus Bryghus Black Ice', 'Rogue Ales Dead Guy Ale', 'Abita Brewing Co. Andygator', 'Abita Brewing Co. Mardi Gras Bock', 'Hofbräuhaus München Hofbräu Maibock (Urbock)', 'New Glarus Brewing Company Cabin Fever', 'Rogue Ales John John Dead Guy Ale', 'Genesee Brewing Co. / Dundee Brewing Co. Dundee Pale Bock Lager', 'Summit Brewing Company Summit Maibock', 'Einbecker Brauhaus AG Einbecker Mai-Ur-Bock', 'Brauerei Schloss Eggenberg Samichlaus Bier Helles', 'Gordon Biersch Brewery Restaurant Gordon Biersch Blonde Bock', \"Boulevard Brewing Co. Boss Tom's Golden Bock\", 'Capital Brewery Maibock', 'Narragansett Brewing Co. Narragansett Bock', 'Berkshire Brewing Company Inc. Berkshire Maibock Lager', \"Stoudts Brewing Co. Stoudt's Blonde Double MaiBock\", 'Sprecher Brewing Company Mai Bock', 'Gordon Biersch Brewery Restaurant Gordon Biersch Maibock', 'Hacker-Pschorr Bräu GmbH Hacker-Pschorr Hubertus Bock', 'Rahr & Sons Brewing Company Bucking Bock', 'Starr Hill Brewery The Gift (WinterBock Lager)', 'Pivovar Náchod a.s. Primátor Maibock', 'Klosterbrauerei Andechs Andechser Bergbock Hell', 'Spaten-Franziskaner-Bräu Spaten Maibock / Premium Bock', 'Atwater Block Brewery Atwater Maibock', 'Les Trois Mousquetaires Serie Signature Maibock', 'Pennsylvania Brewing Company PENNdemonium', 'Southampton Publick House Southampton May Bock', 'The Olde Mecklenburg Brewery Fruehbock (Früh Bock)', \"Mahrs-Bräu Mahr's Bock-Bier\", \"Free State Brewing Co. Brinkley's Maibock\", 'Brauerei Hofstetten Krammer GmbH & Co. KG Saphir Bock', 'Foothills Brewing Company Gruffmeister 8', 'High Point Brewing Company Ramstein Maibock', 'Bayern Brewing, Inc. Dump Truck', 'Boston Beer Company (Samuel Adams) Samuel Adams Winter Lager', 'Spoetzl Brewery Shiner Bock', 'Boston Beer Company (Samuel Adams) Samuel Adams Chocolate Bock', 'Anheuser-Busch Michelob Amber Bock', 'Boston Beer Company (Samuel Adams) Samuel Adams Chocolate Cherry Bock', 'New Glarus Brewing Company Uff-da', 'Boston Beer Company (Samuel Adams) Samuel Adams Chocolate Chili Bock', 'Pennsylvania Brewing Company St. Nikolaus Bock Bier', 'Saint Arnold Brewing Company Saint Arnold Spring Bock', \"Breckenridge Brewery Pandora's Bock\", 'Genesee Brewing Co. / Dundee Brewing Co. Genesee Bock', 'Einbecker Brauhaus AG Einbecker Ur-Bock Dunkel', 'Bierbrouwerij De Koningshoeven B.V. La Trappe Bockbier', \"Mahrs-Bräu Mahr's Christmas Bock\", 'Cervecería Cuauhtémoc Moctezuma, S.A. de C.V. Noche Buena', \"August Schell Brewing Company Schell's Bock\", 'Millstream Brewing Company Millstream Schokolade Bock', 'Matt Brewing Company Saranac Chocolate Lager', \"Granite City Food & Brewery Brother Benedict's Bock\", 'Atwater Block Brewery Atwater Winter Bock', 'Creemore Springs Brewery Limited Creemore Springs UrBock', 'Rock Art Brewery Mountain Holidays In Vermont Rich Creamy Bock Lager', 'Minhas Craft Brewery Huber Bock Beer', 'Browar Amber Kozlak', \"Amarcord Birra Artigianale Italiana Nero's 1st Century Double Dark Malt Ale\", 'Jopen Bier BV Haarlem Jopen Bokbier', 'Kulmbacher Brauerei AG Mönchshof Bockbier', 'Red Oak Brewery Battlefield Bock', \"Brasserie d'Achouffe Chouffe-Bok\", 'Bierbrouwerij Sint Christoffel B.V Christoffel Bokbier', 'Aass Brewery Aass Bock', 'Lion Brewery, Inc. Stegmaier Brewhouse Bock', \"Micro-Brasserie L'Alchimiste Bock De Joliette\", 'Dreher Brewery Dreher Bak', 'Weisses Bräuhaus G. Schneider & Sohn GmbH Schneider Aventinus', 'Bayerische Staatsbrauerei Weihenstephan Weihenstephaner Vitus', 'Victory Brewing Company Moonglow Weizenbock', 'Lagunitas Brewing Company Bavarian-Styled Doppel Weizen', 'Erdinger Weissbräu Erdinger Weissbier Pikantus', 'High Point Brewing Company Ramstein Winter Wheat', 'Weisses Bräuhaus G. Schneider & Sohn GmbH Schneider Weisse Tap X Mein Nelson Sauvin', 'Live Oak Brewing Company Live Oak Primus Weizenbock', 'Mahrs-Bräu Der Weisse Bock', 'Brauerei Michael Plank Plank Bavarian Heller Weizenbock', 'Brauerei Michael Plank Plank Bavarian Dunkler Weizenbock', 'Le Trou Du Diable La Shawinigan Handshake', 'Les Trois Mousquetaires Weizenbock Grande Cuvée', 'Cervejaria Sudbrack Ltda Eisenbahn Vigorosa (Weizenbock)', 'Fat Heads Brewery & Saloon Alpen Glow Weizenbock', 'Peak Organic Brewing Company Peak Organic Weiss Principal', 'Atwater Block Brewery Teufel Bock', 'Bayern Brewing, Inc. Face Plant Doppelweizen', 'Weissbierbrauerei Hopf Hopf Weisser Bock', 'Rahr & Sons Brewing Company Angry Goat', 'Pennsylvania Brewing Company Weizenbock', 'Appalachian Brewing Company Volks Weizenbock', 'Scuttlebutt Brewing Company Weizen Bock', 'Heineken Nederland B.V. Heineken Tarwebok', 'Olde Hickory Brewery Weizenbock', 'Heavy Seas Beer Heavy Seas - Yule Tide', 'Aktien-Brauerei Kaufbeuren AG St. Blasius Weizenbock', 'Blue Mountain Brewery Summer Haze Pale Weizenbock', 'Urban Chestnut Brewing Company Maximilian', 'Mill Street Brew Pub Mill Street Weizenbock', 'Portsmouth Brewery Portsmouth Weizenbock', 'Les Brasseurs Du Temps DumDuminator', 'Kuhnhenn Brewing Company Kuhnhenn Braggot', \"Jackie O's Pub & Brewery Baklava Braggot\", \"The People's Pint Slippery Slope\", 'Dansk Mjød A/S Old Danish Braggot', 'Portsmouth Brewery Portsmouth Killer Bee', \"Rabbit's Foot Meadery Biere De Miele\", 'Valkyrie Brewing Mjød', 'White Winter Winery, Inc. Premium Oak Brackett', 'Mountain Sun Pub & Brewery Hummingbird', 'Crabtree Brewing Company Braggot', 'White Winter Winery, Inc. White Winter Brackett', 'South Street Brewery Honey, I Can Explain', 'Saku Brewery LTD Saku Mõdu', 'Craftsman Brewing Co. Craftsman Spring Braggot', 'Russian River Brewing Company Sanctification', 'Victory Brewing Company Wild Devil', 'Russian River Brewing Company Defenestration', 'Dogfish Head Brewery Indian Brown Ale', 'Dogfish Head Brewery Palo Santo Marron', 'Rogue Ales Hazelnut Brown Nectar', 'Big Sky Brewing Company Moose Drool Brown Ale', 'Smuttynose Brewing Company Smuttynose Old Brown Dog Ale', 'Surly Brewing Company Coffee Bender', 'Lagunitas Brewing Company Wilco Tango Foxtrot', 'Brooklyn Brewery Brooklyn Brown Ale', \"Avery Brewing Company Ellie's Brown Ale\", 'Surly Brewing Company Bender', 'Founders Brewing Company Founders Sumatra Mountain Brown', 'Kona Brewing Co. Koko Brown', 'Abita Brewing Co. Pecan Harvest Ale', 'Tommyknocker Brewery Maple Nut Brown Ale', \"Tyranena Brewing Company Rocky's Revenge Bourbon Brown\", \"Anchor Brewing Company Brekle's Brown\", \"Short's Brewing Company Short's Bellaire Brown Ale\", 'Hill Farmstead Brewery George', 'The Duck-Rabbit Craft Brewery Duck-Rabbit Brown Ale', 'Yazoo Brewing Company Dos Perros', 'Tommyknocker Brewery Imperial Nut Brown Ale', \"Bear Republic Brewing Co. Pete's Brown (Tribute Ale)\", \"Short's Brewing Company Good Humans\", 'Lonerider Brewing Sweet Josie Brown Ale', 'Firestone Walker Brewing Co. Bravo Brown', 'Boulder Beer / Wilderness Pub Flashback Ale', 'Ale Asylum Mad Town Nut Brown', 'Half Acre Beer Company Over Ale', 'Abbaye de Leffe S.A. Leffe Brune / Brown', 'Unibroue Noire De Chambly / Chambly Noire', 'River Horse Brewing Co. River Horse Belgian Freeze Belgian Style Winter Ale', 'Ithaca Beer Company Cold Front', 'Brouwerij St. Bernardus NV Grottenbier', 'Russian River Brewing Company Rejection', 'Brasserie Artisanale De Rullés SPRL La Rullés Cuvée Meilleurs Voeux (Bière De Gaume)', 'Rinkuškiai Alaus Darykloje Werewolf', 'Brouwerij Corsendonk Tempelier', 'Brouwerij Kerkom Bink Bruin', 'Lift Bridge Brewery Biscotti', 'Karl Strauss Brewing Company Fullsuit Belgian-Style Brown Ale', 'Weyerbacher Brewing Co. Tango', 'Brouwerij De Koninck NV Winter Koninck', 'Brouwerij Haacht NV Tongerlo 6 Dubbel Bruin', 'Brasserie Thiriez Bière De Noël', 'Cathedral Square Brewery Belgian-Style Abbey Ale', 'Abbaye de Leffe S.A. Leffe De Noël', \"The Brewer's Art Brewer's Art Proletary Ale\", 'North by Northwest Restaurant & Brewery Black Jack (Bourbon Barrel Aged)', 'Brasserie Artisanale De Rullés SPRL La Rullés Brune (Bière De Gaume)', 'Black Raven Brewing Co. La Petite Mort', 'Abbaye de Leffe S.A. Leffe Rossa', 'North by Northwest Restaurant & Brewery North By Northwest Okanogan Black Ale', 'Brouwerij Contreras Valeir Donker', 'Ladyface Ale Companie Blind Ambition', \"Samuel Smith Old Brewery (Tadcaster) Samuel Smith's Nut Brown Ale\", 'Cigar City Brewing Maduro Oatmeal Brown Ale', 'Abita Brewing Co. Turbodog', 'Lazy Magnolia Brewing Company Southern Pecan', 'New Glarus Brewing Company Fat Squirrel Ale', 'Cigar City Brewing Maduro Oatmeal Brown Ale - Cubano-Style Espresso', 'AleSmith Brewing Company AleSmith Nautical Nut Brown Ale', 'Lost Coast Brewery and Cafe Downtown Brown', 'Weyerbacher Brewing Co. Winter Ale', 'SweetWater Brewing Company Sweetwater Georgia Brown', 'Long Trail Brewing Co. Harvest', 'Dark Horse Brewing Company Dark Horse Boffo Brown Ale', 'Cigar City Brewing Maduro Oatmeal Brown Ale - Oatmeal Raisin Cookie', 'Tröegs Brewing Company Tröegs Rugged Trail Nut Brown Ale', 'Black Toad Brewing Co. Black Toad Dark Ale', 'Legend Brewing Co. Brown Ale', 'Real Ale Brewing Company Brewhouse Brown Ale', 'Ithaca Beer Company Nut Brown Ale', \"Woodstock Inn Brewery Pig's Ear Brown Ale\", \"Jackie O's Pub & Brewery Chomolungma\", 'Peak Organic Brewing Company Peak Organic Nut Brown Ale', \"Short's Brewing Company Short's The Woodmaster\", 'Big Boss Brewing Bad Penny Brown Ale', 'DuClaw Brewing Company Euphoria', 'Upslope Brewing Company Brown Ale', 'Nebraska Brewing Company NBC Brunette Nut Brown Ale', 'Santa Fe Brewing Company Nut Brown Ale', 'Saint Arnold Brewing Company Saint Arnold Brown Ale', 'Back Forty Beer Co. Truck Stop Honey Brown Ale', 'Ska Brewing Co. Buster Nut Brown Ale', 'Flossmoor Station Restaurant & Brewery Pullman Brown Ale', 'Arcadia Brewing Company Arcadia Nut Brown Ale', 'Alaskan Brewing Co. Alaskan Heritage Coffee Brown Ale', 'Big Rock Brewery Traditional Ale', 'Brau Brothers Brewing Co. LLC Ring Neck Braun Ale', 'Moat Mountain Smoke House & Brewing Co. Moat Brown', \"Shipyard Brewing Co. Brewer's Brown Ale\", \"D.L. Geary Brewing Company Geary's Autumn Ale\", 'Sprecher Brewing Company Pub Brown Ale', 'Empyrean Brewing Company Third Stone Brown', 'Anchor Brewing Company Anchor Steam Beer', \"Toppling Goliath Brewing Company Dorothy's New World Lager\", 'Furthermore Beer Oscura', 'Local Option Dampf Loc', 'Steamworks Brewing Co. Steam Engine Lager', \"Short's Brewing Company Short's Village Reserve\", 'Peekskill Brewery Hop Common', 'Cismontane Brewing Company The Citizen', 'Ölvisholt Brugghús Skjálfti', 'Mountain Goat Beer Pty Ltd Mountain Goat Steam Ale', 'Sierra Blanca Brewing Company (Rio Grande) Rio Grande Outlaw Lager', 'Liberty Street Brewing Company Steamy Windows', 'Beer Works Boston Common', 'Lake Louie Brewery Company Mosquito Beach', \"Portsmouth Brewing Co. / Mault's Brewpub Portsmouth Brewing Red Bird Ale\", 'Aviator Brewing Company Steamhead', 'Anaheim Brewery 1888.0', \"Linden Street Brewery Urban People's Common Lager\", 'Palmetto Brewing Company Palmetto Aftershock', 'Sun King Brewing Company Westy', 'Dogfish Head Brewery Theobroma', 'Rogue Ales Chipotle Ale', 'Twisted Pine Brewing Company Ghost Face Killah', '5 Rabbit Cerveceria 5 Vulture', \"Twisted Pine Brewing Company Billy's Chilies Beer (Timberline Series)\", 'Upright Brewing Company Fatali Four', 'Bent River Brewing Company Jalapeño Pepper Ale', 'Horseheads Brewing Inc. Hot-Jala-Heim', 'Sierra Blanca Brewing Company (Rio Grande) Rio Grande Pancho Verde Chile Cerveza', \"Wynkoop Brewing Company Patty's Chile Beer\", 'Asheville Brewing Company Fire Escape', 'Twisted X Brewing Company Fuego', 'Throwback Brewery Throwback Spicy Bohemian', 'Six Rivers Brewery Chili Pepper Ale', \"Weston Brewing Company & O'Malley's Pub Li'L Lucy's Hot Pepper Ale\", 'Midtfyns Bryghus Midtfyns Chili Tripel', 'Tommyknocker Brewery Chili Lager', 'Valkyrie Brewing Hot Chocolate', \"Coopersmith's Pub & Brewing Sigda's Green Chili\", \"Fitger's Brewhouse Wildfire Lager\", 'Great Dane Pub & Brewing Company (Downtown) Tri-Pepper Pilsener', 'Microbrasserie du Lièvre El Lapino', 'Dragonmead Microbrewery Dragonmead Ring Of Fire', 'Flat Branch Pub & Brewery Green Chili Beer', 'Calapooia Brewing Company Chili Beer', 'New Glarus Brewing Company Spotted Cow', 'Anderson Valley Brewing Company Summer Solstice Cerveza Crema', 'Genesee Brewing Co. / Dundee Brewing Co. Genesee Cream Ale', 'Greene King / Morland Brewery Wexford Irish Cream Ale', 'Sun King Brewing Company Sunlight Cream Ale', 'Terrapin Beer Company Terrapin Golden Ale', 'Hudepohl-Schoenling Brewing Co. Little Kings Cream Ale', 'Foothills Brewing Company Carolina Blonde', 'Pelican Pub & Brewery Kiwanda Cream Ale', 'Erie Brewing Co. Derailed Black Cherry Ale', 'Muskoka Brewery Dry Hopped Cream Ale', 'Alltech’s Lexington Brewing and Distilling Co. Kentucky Cream Ale', 'Sleeman Breweries Ltd. Sleeman Cream Ale (64*)', 'Grey Sail Brewing of Rhode Island Flagship Ale', 'Thomas Creek Brewery Stillwater Vanilla Cream Ale', 'Bold City Brewery Killer Whale Cream Ale', 'Swamp Head Brewery & Tasting Room Wild Night Honey Cream Ale', 'Mike Hess Brewing Grazias', \"Blitz-Weinhard Brewing Co. Henry Weinhard's Blue Boar Ale\", 'Furthermore Beer Fallen Apple', \"Cameron's Brewing Co. Cream Ale\", 'Crow Peak Brewing Canyon Cream Ale', 'Empire Brewing Company Cream Ale', 'Granville Island Brewery Kitsilano Maple Cream Ale', 'Bières de Chimay S.A. Chimay Première (Red)', 'Unibroue Maudite', 'Brewery Ommegang Ommegang (Abbey Ale)', 'Brouwerij Westmalle Westmalle Trappist Dubbel', 'Brasserie de Rochefort Trappistes Rochefort 6', 'Brouwerij St. Bernardus NV St. Bernardus Prior 8', 'New Belgium Brewing Abbey Belgian Style Ale', 'Brouwerij Westvleteren (Sint-Sixtusabdij van Westvleteren) Trappist Westvleteren 8', 'Goose Island Beer Co. Pere Jacques', 'Allagash Brewing Company Allagash Dubbel Ale', 'Brouwerij St. Bernardus NV St. Bernardus Pater 6', 'Brouwerij Corsendonk Corsendonk Pater / Abbey Brown Ale', 'Brouwerij Alken-Maes Grimbergen Dubbel', 'Bierbrouwerij De Koningshoeven B.V. La Trappe Dubbel (Koningshoeven / Dominus)', 'Brouwerij der St. Benedictusabdij de Achelse Trappist Achel 8° Bruin', 'The Lost Abbey Lost & Found Abbey Ale', 'Flying Fish Brewing Company Bourbon Barrel Abbey Dubbel', 'Brouwerij Van Steenberge N.V. Bornem Dubbel', 'Brouwerij De Smedt / Brouwerij Affligem Affligem Dubbel', 'Abita Brewing Co. Abbey Ale', \"The Brewer's Art Brewer's Art Resurrection\", \"Anderson Valley Brewing Company Brother David's Belgian-style Double Ale\", \"Brasserie de l'Abbaye du Val-Dieu Val-Dieu Brune\", 'Brasserie St. Feuillien St. Feuillien Brune', 'Uncommon Brewers Siamese Twin Ale', 'Russian River Brewing Company Benediction', 'Brouwerij Van Steenberge N.V. Augustijn Brune', 'Brouwerij Sterkens N.V. St. Sebastiaan Dark', 'Brouwerij Straffe Hendrik / Huisbrouwerij De Halve Maan Brugse Zot Dubbel', 'Sierra Nevada Brewing Co. Ovila Abbey Dubbel', 'Brewery Vivant Solitude', 'Crown Valley Brewing & Distilling Co. Big Bison Ale', \"Captain Lawrence Brewing Co. St. Vincent's Dubbel\", \"Straight To Ale Brother Joseph's Belgian Dubbel\", 'Devils Backbone Brewing Company Dark Abbey', 'Brasserie De Brunehaut St Martin Brune', 'Microbrasserie Charlevoix Dominus Vobiscum Double', 'Blue Mountain Brewery Evil 8° Belgian-Style Dubbel Ale', 'Brouwerij Sterkens N.V. Sterkens Dubbel Ale', \"Brouwerij 't IJ Natte\", \"Green's Gluten Free Beers Green's Endeavour\", 'Jolly Pumpkin Artisan Ales Oro De Calabaza', 'Two Brothers Brewing Company Domaine DuPage French Style Country Ale', 'BFM Brasserie Des Franches-Montagnes Abbaye De Saint Bon-Chien', 'The Lost Abbey Gift Of The Magi', 'The Lost Abbey Avant Garde', 'Jolly Pumpkin Artisan Ales Fuego Del Otono, Autumn Fire', 'Jolly Pumpkin Artisan Ales Bière De Mars', 'Russian River Brewing Company Perdition', 'Brewery Ommegang Bière De Mars', 'Southampton Publick House Southampton Biere De Mars', 'Brasserie Duyck Jenlain Ambrée', 'Les Brasseurs de Gayant Goudale', 'Brasserie Castelain Castelain Blond Biere De Garde', 'Southern Star Brewing Company Le Mort Vivant', 'Brewery Vivant Contemplation Ale', 'Brasserie La Choulette Les Bière Des Sans Culottes', 'Brasserie Duyck Jenlain Blonde', 'Les Brasseurs de Gayant Saint Landelin La Divine', 'Leelanau Brewing Company Good Harbor Golden Ale', 'Southampton Publick House Biere De Garde', 'Lakefront Brewery, Inc. Rendezvous', 'Brasserie Castelain St. Amand', 'Brasserie La Choulette La Choulette Ambrée', 'Oxbow Brewing Company Oxtoberfest', \"Brasserie Castelain Ch'ti Blonde\", 'Brasserie La Choulette La Choulette De Noël', 'Brasserie Duyck Jenlain Bière De Noël', 'Southampton Publick House French Country Christmas Ale (Biere De Garde)', 'Brasserie Thiriez L\\x92Ambrée D\\x92Esquelbecq / Thiriez Amber', 'Brasserie La Choulette La Choulette Blonde', \"Choc Beer Co. / Pete's Place Bière De Garde\", 'Brasserie Duyck Jenlain Bière De Printemps', \"Dogfish Head Brewery Sah'tea\", 'Malmgårdin Panimo Arctic Circle Ale', 'Lammin Sahti Oy Lammin Kataja Olut', 'Lammin Sahti Oy Lammin Sahtia', 'Finlandia Sahti Ky Finlandia Sahti', 'Vintage Brewing Company Summer Sahti', 'Malmgårdin Panimo Malmgård Jouluolut', 'Finlandia Sahti Ky Finlandia Strong Sahti', 'Lammin Sahti Oy Puhti IV B', 'Brewery Ommegang Hennepin (Farmhouse Saison)', 'Boulevard Brewing Co. Tank 7 Farmhouse Ale', 'Goose Island Beer Co. Sofie', 'Brasserie Dupont sprl Saison Dupont', 'Boulevard Brewing Co. Saison - Brett', 'Brooklyn Brewery Brooklyn Sorachi Ace', 'Hill Farmstead Brewery Arthur', 'Brasserie Fantôme Fantôme Saison', 'Goose Island Beer Co. Pepe Nero', 'Great Divide Brewing Company Colette Farmhouse Ale', 'Hill Farmstead Brewery Anna', 'Dogfish Head Brewery Saison Du BUFF', 'Logsdon Farmhouse Ales Seizoen Bretta', 'Brasserie Dupont sprl Avec Les Bons Voeux', 'Firestone Walker Brewing Co. Opal', 'Jolly Pumpkin Artisan Ales Bam Bière', 'Allagash Brewing Company Allagash Interlude', 'North Coast Brewing Co. Le Merle', 'Crooked Stave Artisan Beer Project Crooked Stave Surette', 'Stillwater Artisanal Ales Cellar Door', 'Three Floyds Brewing Co. & Brewpub Rabbid Rabbit', 'Victory Brewing Company Helios (V Saison)', 'The Lost Abbey Red Barn Ale', 'Stillwater Artisanal Ales Stateside Saison', 'Jolly Pumpkin Artisan Ales Bam Noire', 'Brasserie St. Feuillien St. Feuillien Saison', 'The Lost Abbey Carnevale', 'Anchorage Brewing Company Love Buzz Saison', 'Brasserie Dupont sprl Foret', 'Jester King Craft Brewery Das Wunderkind', 'Hill Farmstead Brewery Clara', 'Magic Hat Brewing Company #9', 'Boston Beer Company (Samuel Adams) Samuel Adams Cherry Wheat', 'New Glarus Brewing Company Raspberry Tart', \"Jacob Leinenkugel Brewing Company Leinenkugel's Summer Shandy\", 'Founders Brewing Company Founders Rübæus', 'New Glarus Brewing Company Wisconsin Belgian Red', 'Abita Brewing Co. Purple Haze', '21st Amendment Brewery Hell Or High Watermelon Wheat Beer', 'Founders Brewing Company Founders Blushing Monk', 'Unibroue Éphémère (Apple)', 'The Bruery Autumn Maple', 'New Glarus Brewing Company Apple Ale', 'Dogfish Head Brewery Black & Blue', 'Founders Brewing Company Founders Cerise', 'Abita Brewing Co. Strawberry Harvest Lager', 'Boston Beer Company (Samuel Adams) Samuel Adams Cranberry Lambic', 'Spoetzl Brewery Shiner Ruby Redbird', \"Dogfish Head Brewery Tweason'ale\", 'Dogfish Head Brewery Fort', \"Short's Brewing Company Imperial Soft Parade\", 'SweetWater Brewing Company Sweetwater Blue', 'Pyramid Breweries, Inc. Audacious Apricot Ale', 'Stieglbrauerei zu Salzburg GmbH Stiegl Radler (Grapefruit)', 'Lost Coast Brewery and Cafe Tangerine Wheat', 'Cigar City Brewing Cucumber Saison', 'Terrapin Beer Company Terrapin Pumpkinfest', 'Ithaca Beer Company Apricot Wheat', 'Harpoon Brewery UFO Raspberry Hefeweizen', 'RJ Rockers Brewing Company Son Of A Peach', 'Fat Heads Brewery & Saloon Bumbleberry Honey Blueberry Ale', 'Long Trail Brewing Co. Blackbeary Wheat', 'Dark Horse Brewing Company Dark Horse Raspberry Ale', 'Blue Point Brewing Company Blue Point Blueberry', 'Lakefront Brewery, Inc. Pumpkin Lager Beer', 'Brouwerij Huyghe Delirium Red', \"Buffalo Bill's Brewery Orange Blossom Cream Ale\", \"Shipyard Brewing Co. Shipyard Smashed Blueberry (Pugsley's Signature Series)\", 'Williams Brothers Brewing Company Fraoch Heather Ale', 'Williams Brothers Brewing Company Alba Scots Pine Ale', 'Williams Brothers Brewing Company Ebulum Elderberry Black Ale', 'Williams Brothers Brewing Company Grozet Gooseberry & Wheat Ale', 'Williams Brothers Brewing Company Kelpie Seaweed Ale', 'Professor Fritz Briem Professor Fritz Briem 13th Century Grut Bier', 'Brasserie Dupont sprl Posca Rustica', 'Jopen Bier BV Haarlem Jopen Koyt', \"Beau's All Natural Brewing Company Bogwater\", 'Moonlight Brewing Company Working For Tips', 'Magnolia Pub & Brewery Weekapaug Gruit', 'Cairngorm Brewery Company, The Blessed Thistle', 'Kuhnhenn Brewing Company Kuhnhenn Heather Ale', 'Moonlight Brewing Company Artemis', 'Moonlight Brewing Company Two Weeks Notice', 'Brasserie Dieu Du Ciel La Clef Des Champs', 'Triumph Brewing Company Gothic Ale', 'Dragonmead Microbrewery Dragonmead Andromeda Ale', 'Upright Brewing Company Reggae Junkie', 'Kirin Brewery Company, Limited Kirin Tanrei', 'Suntory Suntory Rich Malt', 'Asahi Breweries Ltd Clear Asahi', 'Asahi Breweries Ltd Asahi Honnama Red', 'Kirin Brewery Company, Limited Kirin Tanrei Green Label', 'Asahi Breweries Ltd Asahi Honnama Aqua Blue', 'Orion Beer Co., Ltd. Orion Mugi Shokunin', 'Sapporo Breweries Ltd. Sapporo Draft One', 'Land Beer Kinshachi Nagoya Red Miso Lager', 'Orion Beer Co., Ltd. Orion Southern Star', 'Kirin Brewery Company, Limited Kirin Enjuku', 'Helios Distillery Co., Ltd. Helios Goya Dry', 'Asahi Breweries Ltd Asahi Honnama Gold', 'Kirin Brewery Company, Limited Kirin Nodogoshi', 'Kirin Brewery Company, Limited Kirin Shirokirin', 'Suntory Jokki (Jug Nama)', 'Asahi Breweries Ltd Asahi Shinnama', 'Kirin Brewery Company, Limited Kirin Enjuku Kuro', 'Kirin Brewery Company, Limited Honkaku Karakuchi Mugi', 'Sapporo Breweries Ltd. Sapporo Mugi To Hopppu (trans. Barley And Hop)', 'Asahi Breweries Ltd Asahi Strong Off', 'Orion Beer Co., Ltd. Orion Nangoku Monogatari', 'Suntory Akiraku', 'Dogfish Head Brewery Midas Touch Golden Elixir', 'Dogfish Head Brewery Chateau Jiahu', 'Left Hand Brewing Company Good Juju (Ginger Ale)', 'Rogue Ales Juniper Pale Ale', 'Breckenridge Brewery Agave Wheat', \"Brasserie Dieu Du Ciel Rosée D'hibiscus\", 'Dogfish Head Brewery Ta Henket', \"Yards Brewing Co. Poor Richard's Tavern Spruce Ale\", 'Kiuchi Brewery Hitachino Nest Real Ginger Brew', 'Arcadia Brewing Company Arcadia Jaw-Jacker', 'Alpine Beer Company Mandarin Nectar', 'New Holland Brewing Company New Holland El Mole Ocho', 'Shipyard Brewing Co. Applehead', 'Birrificio Le Baladin Baladin Nora', 'Bison Brewing Bison Organic Gingerbread Ale', 'Copper Kettle Brewing Company Mexican Chocolate Stout', 'Bison Brewing Bison Organic Honey Basil', \"Allentown Brew Works Rude Elf's Reserve\", 'Nøgne Ø - Det Kompromissløse Bryggeri A/S Underlig Jul', 'Mill Street Brew Pub Mill Street Lemon Tea Ale', 'Wychwood Brewery Company Ltd Ginger Beard', 'Mikkeller ApS Red/White Christmas', 'BFM Brasserie Des Franches-Montagnes La Meule', \"Thomas Hooker Brewing Company Thomas Hooker Nor'Easter Lager\", 'Ballast Point Brewing Company Ghost Pepper Sculpin', 'Dogfish Head Brewery 60 Minute IPA', 'Sierra Nevada Brewing Co. Sierra Nevada Torpedo Extra IPA', 'Sierra Nevada Brewing Co. Sierra Nevada Celebration Ale', \"Lagunitas Brewing Company A Little Sumpin' Sumpin' Ale\", 'Cigar City Brewing Jai Alai IPA', 'Founders Brewing Company Founders Centennial IPA', 'Founders Brewing Company Founders All Day IPA', 'Victory Brewing Company HopDevil Ale', 'Russian River Brewing Company Blind Pig IPA', 'Surly Brewing Company Furious', 'Maine Beer Company Lunch', 'Deschutes Brewery Fresh Squeezed IPA', 'Ithaca Beer Company Flower Power India Pale Ale', 'Smuttynose Brewing Company Smuttynose IPA \"Finest Kind\"', 'Dogfish Head Brewery ApriHop', 'Founders Brewing Company Founders Harvest Ale', 'Alpine Beer Company Duet IPA', \"Fat Heads Brewery & Saloon Fat Head's Head Hunter IPA\", 'Uinta Brewing Company Hop Notch IPA', 'Ballast Point Brewing Company Big Eye Double Ginger', 'AleSmith Brewing Company AleSmith IPA', 'Great Divide Brewing Company Titan IPA', 'Alpine Beer Company Nelson', 'Boston Beer Company (Samuel Adams) Samuel Adams Latitude 48 IPA', 'Victory Brewing Company Hop Wallop', 'Dogfish Head Brewery 75 Minute IPA', 'Sierra Nevada Brewing Co. Northern Hemisphere Harvest Wet Hop Ale', 'SweetWater Brewing Company Sweetwater IPA', 'Terrapin Beer Company Terrapin Hopsecutioner', 'Anchor Brewing Company Anchor Liberty Ale', 'Flying Dog Brewery Snake Dog IPA', \"Oskar Blues Grill & Brew Deviant Dale's IPA\", '21st Amendment Brewery 21st Amendment IPA', 'Dark Horse Brewing Company Dark Horse Crooked Tree IPA', 'Odell Brewing Company British IPA', \"Anderson Valley Brewing Company Hop Ottin' IPA\", 'Avery Brewing Company India Pale Ale (IPA)', 'Flying Dog Brewery Raging Bitch Belgian-Style IPA', \"Lagunitas Brewing Company A Little Sumpin' Wild\", \"Brasserie d'Achouffe Houblon Chouffe Dobbelen IPA Tripel\", 'Green Flash Brewing Co. Green Flash Le Freak', 'Deschutes Brewery Chainbreaker White IPA', 'Anchorage Brewing Company Bitter Monk', 'Allagash Brewing Company Allagash Hugh Malone', 'De Leyerth Brouwerijen (Urthel) Urthel Hop-It', \"Otter Creek Brewing / Wolaver's Otter Creek Solstice\", 'Ale Asylum Bedlam', 'Brouwerij Het Anker Gouden Carolus Hopsinjoor', 'Brasserie Dieu Du Ciel Dernière Volonté', 'Cambridge Brewing Company The Audacity Of Hops', 'Matt Brewing Company Saranac White IPA', 'Smuttynose Brewing Company Smuttynose Homunculus (Big Beer Series)', 'Brewery Vivant Triomphe Belgian IPA', 'Brasserie Lefèbvre SA Hopus', 'Nebraska Brewing Company Hop God Reserve Series Aged In French Oak Chardonnay Barrels', 'Kuhnhenn Brewing Company Kuhnhenn Simcoe Silly', \"Short's Brewing Company Pan Galactic Gargle Blaster\", 'Blue Point Brewing Company Blue Point IPA', 'Coronado Brewing Company Hoppy Daze IPA', 'Peace Tree Brewing Co. Hop Wrangler', 'Picobrouwerij Alvinne / Den Bierzolder Gaspar Ale', 'White Birch Brewing White Birch Hooksett Ale', 'Kuhnhenn Brewing Company Kuhnhenn Aldebaran', '21st Amendment Brewery Back In Black', 'Victory Brewing Company Yakima Glory', 'New Belgium Brewing Snow Day Winter Ale', 'Clown Shoes Hoppy Feet', 'Deschutes Brewery Hop In The Dark Cascadian Dark Ale', 'Dark Horse Brewing Company Dark Horse Reserve Special Black Bier Ale', 'Widmer Brothers Brewing Company Pitch Black IPA', 'Heavy Seas Beer Heavy Seas Black Cannon', 'Greenbush Brewing Company Anger', 'Bear Republic Brewing Co. Black Racer', 'Tommyknocker Brewery Hop Strike Black IPA', 'Blue Point Brewing Company Blue Point Toxic Sludge', 'Hill Farmstead Brewery James Black Ale', 'Surly Brewing Company Damien', 'Rogue Ales Morimoto Black Obi Soba Ale', 'Keweenaw Brewing Company Widow Maker Black Ale', 'New Holland Brewing Company New Holland Black Hatter', 'Arcadia Brewing Company Arcadia B-Craft Black IPA', 'Peak Organic Brewing Company Hop Noir', 'RJ Rockers Brewing Company Black Perle', \"Short's Brewing Company Bludgeon Yer Eye PA\", 'Flying Monkeys Craft Brewery Flying Monkeys Netherworld Cascadian Dark Ale', 'Hill Farmstead Brewery Foster', 'Harpoon Brewery Harpoon IPA', 'Great Lakes Brewing Company Great Lakes Commodore Perry IPA', 'Brooklyn Brewery Brooklyn East India Pale Ale', 'Rogue Ales Brutal Bitter Ale', \"Samuel Smith Old Brewery (Tadcaster) Samuel Smith's India Ale\", 'Three Floyds Brewing Co. & Brewpub Blackheart', 'Magic Hat Brewing Company Blind Faith', 'Shipyard Brewing Co. Fuggles IPA', 'Flying Fish Brewing Company HopFish IPA', 'Berkshire Brewing Company Inc. Lost Sailor India Pale Ale', 'Arcadia Brewing Company Arcadia IPA', 'Fulton Beer Sweet Child Of Vine', 'Meantime Brewing Company Limited India Pale Ale', 'Green Man Brewery Green Man India Pale Ale', 'Kiuchi Brewery Hitachino Nest Japanese Classic Ale', 'Boulder Beer / Wilderness Pub Cold Hop British-Style Ale', 'Ridgeway Brewing Bad Elf', 'Toppling Goliath Brewing Company Naughty 90', 'Middle Ages Brewing Co., Ltd. ImPaled Ale', \"St. Peter's Brewery Co Ltd St. Peter's India Pale Ale\", \"Federal Jack's Restaurant & Brew Pub Kennebunkport IPA\", 'Cricket Hill Brewing Co. Hopnotic India Pale Ale', \"Fuller Smith & Turner PLC Fuller's India Pale Ale\", \"O'Connor Brewing Co. El Guapo IPA\", \"Museum Brewing Company / White Shield Brewery Worthington's White Shield\", 'Sea Dog Brewing Company Sea Dog Old East India Pale Ale', 'Granite City Food & Brewery Duke Of Wellington India Pale Ale', 'The Caledonian Brewing Company Deuchars IPA', 'Southampton Publick House Southampton Burton Ale', 'Greene King / Morland Brewery Greene King IPA', 'Carolina Brewery Flagship IPA', 'McAuslan Brewing St-Ambroise India Pale Ale', 'St. Austell Brewery Proper Job', 'Railway City Brewing Company Railway City Dead Elephant Ale', \"McNeill's Brewery McNeill's Dead Horse IPA\", 'Trinity Brewhouse Trinity IPA', 'St. George Brewing Company, The India Pale Ale', 'Dogfish Head Brewery 90 Minute IPA', 'Russian River Brewing Company Pliny The Elder', 'Lagunitas Brewing Company Lagunitas Sucks Holiday Ale', 'Dogfish Head Brewery 120 Minute IPA', 'Green Flash Brewing Co. Green Flash West Coast I.P.A.', 'Lagunitas Brewing Company Hop Stoopid', 'Firestone Walker Brewing Co. Double Jack', 'Dogfish Head Brewery Burton Baton', 'Founders Brewing Company Founders Double Trouble', 'Sierra Nevada Brewing Co. Hoptimum Double IPA - Beer Camp #19', 'Three Floyds Brewing Co. & Brewpub Dreadnaught IPA', 'Avery Brewing Company Maharaja', 'Lagunitas Brewing Company Maximus', 'Founders Brewing Company Founders Devil Dancer', 'Southern Tier Brewing Company 2XIPA', 'Surly Brewing Company Abrasive Ale', 'Great Divide Brewing Company Hercules Double IPA', 'Tröegs Brewing Company Tröegs Perpetual IPA', 'Alpine Beer Company Pure Hoppiness', 'Three Floyds Brewing Co. & Brewpub Arctic Panzer Wolf', 'Russian River Brewing Company Pliny The Younger', 'Southern Tier Brewing Company Unearthly (Imperial India Pale Ale)', \"Lagunitas Brewing Company A Little Sumpin' Extra! Ale\", 'Odell Brewing Company Myrcenary Double IPA', 'Oskar Blues Grill & Brew GUBNA Imperial IPA', 'Ballast Point Brewing Company Dorado Double IPA', 'Dark Horse Brewing Company Dark Horse Double Crooked Tree IPA', 'Great Lakes Brewing Company Great Lakes Lake Erie Monster', 'Green Flash Brewing Co. Green Flash Imperial India Pale Ale', 'Deschutes Brewery Hop Henge Experimental IPA', \"Lawson's Finest Liquids Double Sunshine IPA\", 'Stone Brewing Co. Stone Ruination IPA', \"Lagunitas Brewing Company Waldos' Special Ale\", 'Fat Heads Brewery & Saloon Hop JuJu Imperial IPA', 'Breckenridge Brewery 471 IPA', 'The Alchemist Heady Topper', 'Hill Farmstead Brewery Abner Imperial IPA', 'Hill Farmstead Brewery Ephraim', 'Fiddlehead Brewing Company IPA', 'Ochakovo Ochakovskiy Kvass', 'All Stars Bakery Kvas', 'Monastyrskiy Kvas Monastyrskiy Kvas', 'Beaver Brewing Company Kvass', 'Baltika Breweries Khlebny Kray', 'Deka Brewery Nicola', 'Slavutych Brewery Kvas Taras', 'Gubernija Brewery Gubernija Duonos Gira Kvass', 'Monastyrskiy Kvas Monastyrskiy Okroshka Kvas', 'Tempo Beer Industries LTD Nesher Malt', 'Obolon Brewery Obolon Kwas Chlebowy', 'Pivovarinniy Zavod Samko Krushka & Bochka Kvass', 'Monastyrskiy Kvas Monastyrskiy Black Currant Kvas', 'Darl, Tov Danilo Classic Kvas', 'Darl, Tov Danilo Okroshka Kvas', 'Darl, Tov Danilo Pohmilny Kvas', 'Israel Beer Breweries Ltd. Malty', 'Vofas-Engelman Smetoni\\x9aka Gira', 'Borodino ZAO Borodinskiy Kvas', 'Radomyshlskij Pivovarennyj Zavod Drevlyansky Kvass', 'SP Etrus Olimpia Kvas', 'Goose Island Beer Co. Summertime', 'Brauerei Heinrich Reissdorf Reissdorf Kölsch', 'Privatbrauerei Gaffel Becker & Co. Gaffel Kölsch', 'Saint Arnold Brewing Company Saint Arnold Fancy Lawnmower', 'Boston Beer Company (Samuel Adams) Samuel Adams East-West Kölsch', 'New Holland Brewing Company New Holland Full Circle', 'Saint Arnold Brewing Company Saint Arnold Santo', 'Three Floyds Brewing Co. & Brewpub Calumet Queen', 'Brauerei Früh Am Dom Früh Kolsch', 'Gebr. Sünner GmbH & Co. KG Sünner Kölsch', \"Captain Lawrence Brewing Co. Captain's Kölsch\", 'Pyramid Breweries, Inc. Curve Ball Blonde Ale', 'Matt Brewing Company Saranac Kölsch', 'Sierra Nevada Brewing Co. Sierra Nevada Kölsch Style Ale', 'Metropolitan Brewing Krankshaft Kölsch', 'COAST Brewing Company 32/50', 'Stoudts Brewing Co. Karnival Kolsch', 'Mother Earth Brewing Endless River', \"Beau's All Natural Brewing Company Lug Tread Lagered Ale\", \"D.L. Geary Brewing Company Geary's Summer Ale\", 'Lancaster Brewing Company Lancaster Kölsch', 'Genesee Brewing Co. / Dundee Brewing Co. Dundee Kolsch Style Ale', 'Blue Mountain Brewery Kölsch 151', 'Uinta Brewing Company HooDoo', 'Spoetzl Brewery Shiner Kölsch', 'French Broad Brewing Co. Gateway Kolsch', 'Berkshire Brewing Company Inc. Gold Spike Ale', \"Short's Brewing Company Kolsch 45\", 'Rock Bottom Restaurant & Brewery Kolsch', 'Big Boss Brewing Angry Angel Kolsch', \"Trader Joe's Brewing Company Josephs Brau Summer Brew\", 'Four Peaks Brewing Company Sunbru Kölsch-Style Ale', 'Anheuser-Busch Budweiser', 'Pabst Brewing Company Pabst Blue Ribbon (PBR)', 'Grupo Modelo S.A. de C.V. Corona Extra', 'Miller Brewing Co. Miller High Life', 'Desnoes & Geddes Limited Red Stripe Jamaican Lager', 'Latrobe Brewing Co. Rolling Rock Extra Pale', 'Cervecería Cuauhtémoc Moctezuma, S.A. de C.V. Dos Equis Special Lager', 'Grupo Modelo S.A. de C.V. Modelo Especial', 'Miller Brewing Co. Miller Genuine Draft', 'Labatt Brewing Company Ltd. Labatt Blue', \"Foster's Group Limited Foster's Lager\", 'Cervecería Cuauhtémoc Moctezuma, S.A. de C.V. Tecate', 'Margaritaville Brewing Co. Landshark Lager', 'Molson Coors Canada Molson Canadian Lager', 'Anheuser-Busch Busch Beer', 'Cervecería Cuauhtémoc Moctezuma, S.A. de C.V. Sol', 'Anheuser-Busch Natural Ice', 'Narragansett Brewing Co. Narragansett Lager', 'Miller Brewing Co. Icehouse', 'Coors Brewing Company Batch 19', 'Anheuser-Busch Bud Ice', \"Hamm's Brewing Co. Hamm's\", 'Pabst Brewing Company Lone Star Beer', 'Pabst Brewing Company Old Milwaukee Beer', 'Cerveceria Nacional Dominicana Presidente', \"Miller Brewing Co. Milwaukee's Best Dry\", 'Miller Brewing Co. Red Dog', 'Coors Brewing Company Keystone Ice', 'Pabst Brewing Company Old Style', \"Miller Brewing Co. Milwaukee's Best Ice\", 'Genesee Brewing Co. / Dundee Brewing Co. Genesee Beer', \"Jacob Leinenkugel Brewing Company Leinenkugel's Original\", \"Pabst Brewing Company Stroh's\", 'August Schell Brewing Company Grain Belt Premium', 'Cervecería Cuauhtémoc Moctezuma, S.A. de C.V. Carta Blanca', 'Cerveceria Costa Rica Imperial', 'Pabst Brewing Company National Bohemian Beer', 'Pittsburgh Brewing Co. Iron City Beer', \"JOS. Schlitz Brewing Co. (Pabst) Schlitz Gusto (Classic 1960's Formula)\", 'United Breweries - UB Group Taj Mahal Premium Lager', 'Molson Coors Canada Molson Ice', 'Lion Brewery, Inc. Lionshead Pilsner', 'Carib Brewery Limited Carib Lager', 'Birra Peroni Industriale S.p.A. Birra Peroni', 'UNICER União Cervejeira S.A. Super Bock', 'Brooklyn Brewery Brooklyn Lager', 'Blue Point Brewing Company Blue Point Toasted Lager', 'Abita Brewing Co. Amber', 'Genesee Brewing Co. / Dundee Brewing Co. Dundee Original Honey Brown Lager', 'Lakefront Brewery, Inc. Riverwest Stein Beer', 'Magic Hat Brewing Company Vinyl', 'Hop City Brewing Co. Barking Squirrel Lager', 'Anheuser-Busch Redbridge', 'Anheuser-Busch ZiegenBock Amber', 'August Schell Brewing Company Grain Belt Nordeast', 'Capital Brewery Wisconsin Amber', \"Molson Coors Canada Rickard's Red\", 'Creemore Springs Brewery Limited Creemore Springs Premium Lager', 'Red Oak Brewery Red Oak Amber', \"Rahr & Sons Brewing Company Rahr's Red Amber Lager\", 'Stevens Point Brewery Point Classic Amber', 'Sleeman Breweries Ltd. Sleeman Honey Brown Lager', 'Capital Brewery Winter Skål', \"August Schell Brewing Company Schell's Dark\", 'Starr Hill Brewery Starr Hill Jomo Lager', 'AC Golden Brewing Company Colorado Native Lager', \"Cape Ann Brewing Company Fisherman's Brew\", 'Anheuser-Busch Michelob Honey Lager', 'Tommyknocker Brewery Ornery Amber', 'Lucky Bucket Brewing Co. Pre-Prohibition Style Lager', \"Trader Joe's Brewing Company Trader Jose's Dark Lager\", 'Hudepohl-Schoenling Brewing Co. Amber Lager', 'Granville Island Brewery Cypress Honey Lager', 'Rochester Mills Beer Co. Rochester Mills Rochester Red', 'Olde Hickory Brewery Ruby Lager', 'Genesee Brewing Co. / Dundee Brewing Co. Dundee Irish Red Lager', 'The Defiant Brewing Company Muddy Creek Lager', 'Lion Brewery, Inc. Stegmaier Amber Lager', 'Indian Wells Brewing Company Mojave Red', 'Kona Brewing Co. Longboard Island Lager', 'Sapporo Breweries Ltd. Sapporo Premium Beer', 'Kirin Brewery Company, Limited Kirin Ichiban', 'Moosehead Breweries Ltd. Alpine Lager', 'New Glarus Brewing Company Totally Naked', 'Anheuser-Busch Michelob (Original Lager)', 'Spoetzl Brewery Shiner Kosmos Reserve', 'Spoetzl Brewery Shiner Blonde', 'Molson Coors Canada Molson Golden', \"Avery Brewing Company Joe's Premium American Pilsner\", 'Minhas Craft Brewery Simpler Times Lager', \"Blitz-Weinhard Brewing Co. Henry Weinhard's Private Reserve\", 'Capital Brewery Supper Club Lager', 'Ska Brewing Co. Mexican Logger', 'Upslope Brewing Company Upslope Craft Lager', 'Orange Blossom Pilsner LLC Orange Blossom Pilsner', 'Philadelphia Brewing Company Kenzinger', 'Abita Brewing Co. Golden', 'Tommyknocker Brewery Alpine Glacier Lager', 'Sleeman Breweries Ltd. Original Draught', 'Cricket Hill Brewing Co. East Coast Lager', 'Jacob Leinenkugel Brewing Company Northwoods Lager', 'Great Lakes Brewing Company Great Lakes Dortmunder Gold', 'Three Floyds Brewing Co. & Brewpub Jinx Proof', 'Dortmunder Actien Brauerei / DAB DAB Original', 'Baltika Breweries Baltika #7 Export', 'Two Brothers Brewing Company Dog Days Dortmunder Style Lager', 'VBL Tien Giang Limited (Fosters) 33 Export', 'Spoetzl Brewery Shiner Dortmunder', 'UAB Švyturys Svyturys Ekstra', 'Appalachian Brewing Company Mountain Lager', 'Thirsty Dog Brewing Company Labrador Lager', 'Great Lakes Brewing Company Great Lakes Imperial Dortmunder', 'Sapporo Breweries Ltd. Yebisu (Premium)', 'Spoetzl Brewery Shiner Fröst', 'Dortmunder Actien Brauerei / DAB DAB Export', 'Flensburger Brauerei GmbH Und Co. KG Flensburger Gold', 'Gordon Biersch Brewery Restaurant Gordon Biersch Golden Export', 'Minneapolis Town Hall Brewery Dortmunder Lager', 'Klosterbrauerei Reutberg Reutberger Export Hell', 'Aktien-Brauerei Kaufbeuren AG Premium Edel (Spezialbier Edel)', 'the Nils Oscar Company Nils Oscar God Lager', 'Bürgerbräu Bad Reichenhall Alpen Stoff', 'Spendrups Bryggeri AB Mariestads Export', 'Depot Street Brewing Loose Caboose Lager', 'Herzoglich Bayerisches Brauhaus Tegernsee Tegernsee Spezial', 'Kulmbacher Brauerei AG Mönchshof Landbier', 'Moonlight Brewing Company Lunatic Lager', 'UAB Švyturys Svyturys Ekstra Draught', 'Spendrups Bryggeri AB Norrlands Guld Export', 'Hansa Brauerei / Namibia Breweries Hansa Imported Dortmunder', 'Howe Sound Inn & Brewing Company Lager', 'Dortmunder Actien Brauerei / DAB Hansa Export', 'Der HirschBrau/Privatbrauerei Höss Allgäuer Hüttenbier', 'Lagerheads Smokehouse & Brewing Co. Barnburner Lager', 'Bayreuther Bierbrauerei Aktien Original 1857', 'Hofbrauhaus Freising Jägerbier Natürtrub Export Hell', 'New Belgium Brewing 1554 Enlightened Black Ale', 'Guinness Ltd. Guinness Black Lager', \"Jacob Leinenkugel Brewing Company Leinenkugel's Creamy Dark\", 'Heineken Nederland B.V. Heineken Dark Lager', 'Baltika Breweries Baltika #4 Original (Dark)', 'St. Pauli Brauerei C.L. Wilh. Brandt Gmbh & Co. St. Pauli Girl Special Dark', \"Brasserie Fischer / Fischer Biere d' Alsace Fischer Tradition Amber\", 'Moonlight Brewing Company Death & Taxes Black Beer', 'Anadolu Efes Brewery Efes Dark', 'Lao Brewery Co. Beerlao Dark', \"Short's Brewing Company Black Licorice Lager\", 'Bernard Family Brewery Bernard Cerne', 'Grupo Cervezas Alhambra, SL Alhambra Negra', 'Greenpoint Beerworks / Kelso of Brooklyn Kelso Nut Brown Lager', 'Elevator Brewery & Draught Haus Elevator Dark Horse Lager', '\\x8eŽatecký Pivovar \\x8eŽatec Dark Lager', 'Royal Unibrew A/S Faxe Amber', 'UNICER União Cervejeira S.A. Super Bock Stout', 'Notch Brewing Notch Černé Pivo', 'Dortmunder Actien Brauerei / DAB DAB Dark Beer', 'Sociedade Central de Cervejas Sagres Cerveja Preta (Dark)', 'Obolon Brewery Obolon Oksamytove (Deep Velvet)', 'U Fleků Pivovaru a Restauraci U Fleku Dark Lager', 'Sapporo Breweries Ltd. Yebisu Black Beer', 'Pivovary Staropramen Staropramen Granat Prague', 'Big Rock Brewery Honey Brown Lager', 'Sociedade Central de Cervejas Bohemia', 'Pivovar Náchod a.s. Primator Dark Lager', 'Asahi Breweries Ltd Asahi Honnama Clear Black', \"Cameron's Brewing Co. Dark 266\", 'Heineken Nederland B.V. Heineken Oud Bruin', 'Stella Artois Stella Artois', 'Heineken Nederland B.V. Heineken Lager Beer', 'Guinness Ltd. Harp Lager', 'Birra Peroni Industriale S.p.A. Peroni Nastro Azzurro', 'Grolsch Bierbrouwerij N.V. Grolsch Premium Lager', 'Carlsberg Danmark A/S Carlsberg Beer', 'Brasseries Kronenbourg Kronenbourg 1664', 'Birra Moretti (Heineken) Birra Moretti', 'Boon Rawd Brewery Co., Ltd Singha', 'St. Pauli Brauerei C.L. Wilh. Brandt Gmbh & Co. St. Pauli Girl', \"Samuel Smith Old Brewery (Tadcaster) Samuel Smith's Pure Brewed Lager Beer\", 'Asia Pacific Breweries Ltd. Tiger Beer', 'Zywiec Breweries PLC (Heineken) Zywiec Beer', 'United Breweries - UB Group Kingfisher Premium Lager', 'Damm S. A. Estrella Damm', 'Mythos Breweries S.A. Mythos Hellenic Lager Beer', 'Rogue Ales Kells Irish Style Lager', 'Anadolu Efes Brewery Efes Pilsener', 'Cervecería y Maltería Quilmes / Grupo Bemberg Quilmes', 'New Zealand Breweries Limited Steinlager', 'Browar Okocim S.A. (Carlsberg) O.K. Beer', 'Baltika Breweries Baltika #3 Classic', 'Oranjeboom Bierbrouwerij B. V. Oranjeboom Premium Lager', 'Amstel Brouwerij B. V. Amstel Lager', 'Sapporo Breweries Ltd. Sapporo Reserve', \"Tennent Caledonian Breweries Tennent's Lager\", 'Brasserie Piedboeuf Jupiler', \"J. Boag & Son Brewing James Boag's Premium Lager\", 'Damm S. A. Estrella Damm Daura', 'Mill Street Brew Pub Mill Street Original Organic Lager', 'Karbach Brewing Co. Sympathy For The Lager', 'Tuborgs Bryggerier A/S Tuborg Pilsner Beer (Green / Grøn)', 'Brauerei Göss (Brau Union) Gösser', 'Hite Brewery Company LTD Hite', 'Beijing Yanjing Beer Group Corporation Yanjing Beer', 'Lech Browary Wielkopolski (SABMiller) Lech Premium', 'Baltika Breweries Baltika #5 Gold', 'Royal Unibrew A/S Faxe Premium Danish Lager', 'Brasseries Du Maroc Casablanca Beer', 'Mahou S.A. Cinco Estrellas', 'Brasserie de Tahiti S.A. Hinano', 'Browerij Nacional Balashi Balashi', 'Tuborgs Bryggerier A/S Tuborg Premium Lager (Gold / Guld)', 'Carlsberg Danmark A/S Elephant Beer', 'Baltika Breweries Baltika #9 Extra (Strong)', 'Browary Warka Sp. z o.o. Warka Strong', 'Ceylon / Lion Brewery Limited Lion Imperial Premium Malt Pilsner', 'Grupo Cervezas Alhambra, SL Reserva 1925', 'Elbrewery Co. Ltd. Sp. z o.o. Hevelius Kaper', 'Rinkuškiai Alaus Darykloje Lobster Lovers Beer', 'Browar Okocim S.A. (Carlsberg) Okocim Mocne', 'Royal Unibrew A/S Faxe Extra Strong', 'Bierbrouwerij Sint Christoffel B.V Christoffel Nobel', 'Rinkuškiai Alaus Darykloje Before-After Premium Lager', 'Les Brasseurs de Gayant Bière Du Démon', 'Ceres Brewery (Royal Unibrew) Ceres Strong Ale Export', \"Tennent Caledonian Breweries Tennent's Super Strong Lager\", 'Alaus Darykla Kalnapilis Kalnapilis 7.30', 'Gubernija Brewery Gubernija Grand 9.5 Beer', 'BOSS Browar Witnica S.A. Boss Beer', 'Crest Brewing Company Crest Super Premium Lager', 'Rinkuškiai Alaus Darykloje \\x8eaibo', 'Anadolu Efes Brewery Efes Extra', 'Zywiec Breweries PLC (Heineken) Tatra', 'Carlsberg Danmark A/S Special Brew', \"John Martin's (John Martin SA) Gordon Finest Gold\", 'Baltika Breweries Arsenalnoye Krepkoye (Strong)', 'Grolsch Bierbrouwerij N.V. Amsterdam Navigator 8,4', 'Grupo Cruzcampo SA Cruzcampo Gran Reserve', 'San Miguel Fabricas De Cervaza Y Maltas S.A. San Miguel Selecta', 'Minipivovar U Medvídků X-Beer 33', 'Rinkuškiai Alaus Darykloje Zhiguly Grande 9,5', 'Amstel Brouwerij B. V. Amstel Gold', 'Brasserie Des Gabariers (L&L Cognac SA) XO Beer', 'Rinkuškiai Alaus Darykloje Aiko', 'Cervezas Moritz, S.A. Moritz Epidor', 'Slavutych Brewery Slavutich Mitzne', 'Baltika Breweries Yarpivo Strong (Krepkoye)', 'Royal Unibrew A/S Faxe Strong', 'Browar Van Pur S.A. (Brau Union Polska) Karpackie', 'Gulpener Bierbrouwerij B.V. Gulpener Gladiator Robuust Bier', \"Pivovar Náchod a.s. Primátor 21% Rytírský (Knight's Lager)\", 'Bayerische Staatsbrauerei Weihenstephan Weihenstephaner Original', 'Hofbräuhaus München Hofbräu Original', 'Spaten-Franziskaner-Bräu Spaten Münchner Hell (Premium Lager)', 'New Glarus Brewing Company Two Women Lager', 'Surly Brewing Company Hell', 'Paulaner Brauerei GmbH & Co. KG Paulaner Original Münchner', 'Victory Brewing Company Victory Lager', 'Löwenbräu AG Löwenbräu Original', 'Brauerei Heller-Trum / Schlenkerla Aecht Schlenkerla Helles Lagerbier', 'Cigar City Brewing Hotter Than Helles', 'Hacker-Pschorr Bräu GmbH Hacker-Pschorr Münchner Gold', 'Three Floyds Brewing Co. & Brewpub Gorch Fock', 'Maui Brewing Co. Bikini Blonde Lager', 'Ballast Point Brewing Company Longfin Lager', \"Stoudts Brewing Co. Stoudt's Gold Lager\", 'Stieglbrauerei zu Salzburg GmbH Stiegl Goldbräu', 'Sly Fox Brewing Company Helles Golden Lager', 'Hijos De Rivera, S.A. Estrella Galicia', 'Firestone Walker Brewing Co. Firestone Lager', 'Pennsylvania Brewing Company Penn Gold', 'Henninger Bräu AG Henninger Premium Lager', 'Devils Backbone Brewing Company Gold Leaf Lager', 'Christian Moerlein Brewing Company Christian Moerlein Lager House Original Golden Helles', 'Thomas Hooker Brewing Company Thomas Hooker Munich Style Lager', \"Rahr & Sons Brewing Company Rahr's Blonde\", 'Rahr & Sons Brewing Company Blonde Lager', 'Klosterbrauerei Andechs Andechser Spezial Hell', 'Fordham Brewing Company Fordham Helles Lager', 'Hacker-Pschorr Bräu GmbH Hacker-Pschorr Münchner Hell', 'Hacker-Pschorr Bräu GmbH Hacker-Pschorr Edelhell', 'Klosterbrauerei Weltenburg Weltenburger Kloster Barock-Hell', 'Okanagan Spring Brewery 1516 Bavarian Lager', 'Ninkasi Brewing Company Helles Belles', \"Red Oak Brewery Hummin' Bird\", 'Der HirschBrau/Privatbrauerei Höss Neuschwansteiner', 'Ottakringer Brauerei AG Ottakringer Helles', \"Jack's Abby Brewing Hoponius Union\", \"Jack's Abby Brewing Kiwi Rising\", 'Ballast Point Brewing Company Fathom India Pale Lager', 'Wolverine State Brewing Company Gulo Gulo Lager', 'Pyramid Breweries, Inc. Pale Ale', 'Williams Brothers Brewing Company Caesar Augustus (Lager/IPA Hybrid)', 'Asahi Breweries Ltd Asahi Super Dry', 'Sapporo Breweries Ltd. Sapporo Original Draft Beer', 'Orion Beer Co., Ltd. Orion Premium Draft Beer', 'Kirin Brewery Company, Limited Kirin Lager', 'Lao Brewery Co. Beerlao Lager', 'Sapporo Breweries Ltd. Sapporo Draft Beer', 'Uehara Shuzou Co. Ltd. / Echigo Beer Pub Koshihikari Echigo Beer', 'Asahi Breweries Ltd Asahi Draft (Jukusen)', 'Kirin Brewery Company, Limited Kirin Classic Lager', 'Asahi Breweries Ltd Asahi Orion', 'Asahi Breweries Ltd Asahi Premium', 'Hangzhou Xihu Beer Asahi Co. , Ltd. Siwo', \"Sapporo Breweries Ltd. Sapporo Fuyumonogatari - The Winter's Tale\", 'Yo-Ho Brewing Company Organic Beer Shinshu Sansan', 'Guangzhou Zhujiang Brewery Co. Ltd. Zhujiang Beer', 'Kirin Brewery Company, Limited Kirin Bar Beer', 'Kirin Brewery Company, Limited Kirin Premium Draft Beer', 'Kirin Brewery Company, Limited Kirin Ichiban Maribana', 'Kirin Brewery Company, Limited Kirin Brau Meister', 'Taiwan Tobacco & Liquor Corporation Taiwan Beer', 'Great Divide Brewing Company Hapa Beer', 'Urban Chestnut Brewing Company Zwickel', 'Kulmbacher Brauerei AG Mönchshof Kellerbier (Kellerbräu)', 'Hacker-Pschorr Bräu GmbH Hacker-Pschorr Anno 1417', 'St. Georgenbräu Buttenheimer Keller Bier', 'Creemore Springs Brewery Limited Creemore Springs Kellerbier', 'Columbus Brewing Company Columbus Summer Teeth', 'Private Landbrauerei Scheuerer Moosbacher Kellerbier', 'Brauerei Max Leibinger GmbH Zeppelin Bier', 'Brouwerij Drie Fonteinen Beersel Lager', 'Les Trois Mousquetaires Série Signature Kellerbier', 'Arcobräu Gräfliches Brauhaus Arcobräu Zwickl Lager', 'Stieglbrauerei zu Salzburg GmbH Paracelsus Zwickl', 'Brauerei Hofstetten Krammer GmbH & Co. KG Kubelbier', 'Fürst Wallerstein Brauhaus Fürsten Zwickel', 'Brauerei Zehendner GmbH Mönchsambacher Lager', 'Anheuser-Busch Bud Light', 'Miller Brewing Co. Miller Lite', 'Anheuser-Busch Bud Light Lime', 'Anheuser-Busch Michelob Ultra', 'Boston Beer Company (Samuel Adams) Sam Adams Light', 'Anheuser-Busch Natural Light', 'Grupo Modelo S.A. de C.V. Corona Light', 'Coors Brewing Company Keystone Light', 'Anheuser-Busch Bud Light Platinum', 'Tsingtao Brewery Co., Ltd. Five Star All Malt Beer', 'Anheuser-Busch Busch Light', 'Amstel Brouwerij B. V. Amstel Light', 'Anheuser-Busch Budweiser Select', 'Heineken Nederland B.V. Heineken Premium Light Lager', 'Anheuser-Busch Michelob Light', 'Miller Brewing Co. Miller High Life Light', \"Miller Brewing Co. Milwaukee's Best Light\", 'Labatt Brewing Company Ltd. Labatt Blue Light', 'Anheuser-Busch Budweiser Select 55', 'Anheuser-Busch Michelob Ultra Amber', 'Anheuser-Busch Michelob Golden Draft Light', 'Cervecería Cuauhtémoc Moctezuma, S.A. de C.V. Tecate Light', 'Anheuser-Busch Michelob Ultra Lime Cactus', 'Cisco Brewers Inc. Sankaty Light', 'Miller Brewing Co. Miller Genuine Draft Light 64', 'Spoetzl Brewery Shiner Light Blonde', 'Genesee Brewing Co. / Dundee Brewing Co. Genny Light', 'Pittsburgh Brewing Co. I.C. Light', 'Compañía Cervecera de Puerto Rico Medalla Light', 'Pabst Brewing Company Old Milwaukee Light', \"Brauerei Beck & Co. Beck's Premier Light\", 'Kirin Brewery Company, Limited Kirin Light Beer', 'Anheuser-Busch Michelob Ultra Pomegranate Raspberry', 'Spoetzl Brewery Shiner Light', 'Abita Brewing Co. Light', 'Desnoes & Geddes Limited Red Stripe Light', 'Molson Coors Canada Molson Canadian Light', \"Brauerei Beck & Co. Beck's Light\", 'Pabst Brewing Company Pabst Blue Ribbon Light', 'Cerveceria Nacional Dominicana Presidente Light', \"Miller Brewing Co. Mickey's\", 'Steel Brewing Company Steel Reserve 211 (High Gravity)', 'Miller Brewing Co. Olde English 800', 'Pabst Brewing Company Colt 45 Malt Liquor', 'Molson Coors Canada Molson XXX', 'Anheuser-Busch King Cobra Premium Malt Liquor', 'Anheuser-Busch Natty Daddy', 'Anheuser-Busch Hurricane', 'Miller Brewing Co. Magnum', 'Saint Ides Brewing Company St. Ides High Gravity Malt Liquor', 'Miller Brewing Co. Olde English 800 High Gravity', 'Genesee Brewing Co. / Dundee Brewing Co. Dog Bite High Gravity Lager', 'Shaw Wallace & Company Ltd. Haywards 5000 Super Premium Beer', 'JOS. Schlitz Brewing Co. (Pabst) Schlitz High Gravity V.S.L Very Smooth Lager', 'Labatt Brewing Company Ltd. Labatt Ice', 'Pabst Brewing Company Country Club Malt Liquor', 'Steel Brewing Company Steel Reserve 211 Triple Export', 'Pabst Brewing Company Colt 45 High Gravity Lager', 'Mohan Breweries & Distilleries Ltd Old Monk 10000', 'Camo Brewing Company Camo Black Ice', 'Three Floyds Brewing Co. & Brewpub Region Riot', 'Pabst Brewing Company Colt 45 Double Malt Liquor', 'City Brewing Company, LLC Crazy Stallion', 'Camo Brewing Company Camo Silver ICE', 'Melanie Brewing Company Evil Eye', 'Camo Brewing Company Camo High Gravity Lager', 'United Brands Company Stack High Gravity Lager', 'Molson Coors Canada Brador', 'City Brewing Company, LLC Earthquake High Gravity Lager', 'JOS. Schlitz Brewing Co. (Pabst) Schlitz Red Bull X. L. Xtra Long Malt Liquor', 'Minhas Craft Brewery Axe Head Malt Liquor', 'Minhas Craft Brewery Clear Creek Ice', 'Camo Brewing Company Camo Black Extra', 'Grupo Modelo S.A. de C.V. Negra Modelo', 'Warsteiner Brauerei Warsteiner Premium Dunkel', 'Hofbräuhaus München Hofbräu Dunkel', \"Brauerei Beck & Co. Beck's Dark\", 'Harpoon Brewery Barrel Aged Munich Dark', 'Spaten-Franziskaner-Bräu Spaten Dunkel', 'Lakefront Brewery, Inc. Eastside Dark', 'Pennsylvania Brewing Company Penn Dark', 'Mother Earth Brewing Dark Cloud', 'Klosterbrauerei Weltenburg Weltenburger Kloster Barock Dunkel', 'Asahi Breweries Ltd Asahi Black (Kuronama)', 'Flensburger Brauerei GmbH Und Co. KG Flensburger Dunkel', 'Church Brew Works Pious Monk Dunkel', 'Capital Brewery Capital Dark', 'Kaltenberg International / König Ludwig International GmbH & Co.KG König Ludwig Dunkel', 'Christian Moerlein Brewing Company Barbarossa Double Dark Lager', \"Jack's Abby Brewing Red Tape Lager\", 'Surly Brewing Company Schadenfreude', 'Klosterbrauerei Ettal / Ettaler Klosterbetriebe GmbH Ettaler Kloster Dunkel', 'Der HirschBrau/Privatbrauerei Höss Holzar-Bier', 'Sly Fox Brewing Company Dunkel Lager', 'Sprecher Brewing Company Winter Brew', 'Franconia Brewing Company Franconia Dunkel', 'Matt Brewing Company Saranac Lake Effect Lager', 'Brauerei Hirt GmbH Hirter Morchl', 'The Olde Mecklenburg Brewery Dunkel Lager', 'Brauerei Göss (Brau Union) Gösser Dark Beer', 'Brauerei Pinkus Mueller Organic Pinkus Jubilate', 'Grupo Modelo S.A. de C.V. León', 'Hacker-Pschorr Bräu GmbH Hacker-Pschorr Münchner Dunkel', 'Matt Brewing Company Saranac Lager', 'Grimm Brothers Brewhouse Fearless Youth', 'Paulaner Brauerei GmbH & Co. KG Paulaner Original Münchner Dunkel', 'Klosterbrauerei Andechs Andechser Dunkel', 'Bayerische Staatsbrauerei Weihenstephan Weihenstephaner Tradition', 'Mahou S.A. Negra', 'Boston Beer Company (Samuel Adams) Samuel Adams Octoberfest', 'Paulaner Brauerei GmbH & Co. KG Paulaner Oktoberfest-Märzen', 'Spaten-Franziskaner-Bräu Spaten Oktoberfestbier Ur-Märzen', 'Great Lakes Brewing Company Great Lakes Oktoberfest', 'Victory Brewing Company Festbier', 'Hacker-Pschorr Bräu GmbH Hacker-Pschorr Oktoberfest-Märzen', 'Bayerische Staatsbrauerei Weihenstephan Weihenstephaner Festbier', \"Jacob Leinenkugel Brewing Company Leinenkugel's Oktoberfest\", 'Hofbräuhaus München Hofbräu Oktoberfestbier', 'Avery Brewing Company The Kaiser', 'Left Hand Brewing Company Left Hand Oktoberfest', 'Harpoon Brewery Catamount Octoberfest Beer', 'Spoetzl Brewery Shiner Oktoberfest', 'New Glarus Brewing Company Staghorn Octoberfest', 'Great Divide Brewing Company Hoss', 'Flying Dog Brewery Dogtoberfest', 'Yuengling Brewery Oktoberfest', \"Brauerei Beck & Co. Beck's Oktoberfest\", 'Gordon Biersch Brewery Restaurant Gordon Biersch Märzen', 'Three Floyds Brewing Co. & Brewpub Munsterfest', 'Firestone Walker Brewing Co. Oaktoberfest', 'Warsteiner Brauerei Warsteiner Premium Oktoberfest', \"Boulevard Brewing Co. Bob's '47 Oktoberfest\", 'Summit Brewing Company Summit Oktoberfest Marzen', 'Paulaner Brauerei GmbH & Co. KG Paulaner Wiesn Bier', \"Jack's Abby Brewing Copper Legend\", 'Two Brothers Brewing Company Atom Smasher', 'Saint Arnold Brewing Company Saint Arnold Oktoberfest', 'Stoudts Brewing Co. Oktober Fest', 'Blue Point Brewing Company Blue Point Oktoberfest', 'Flying Fish Brewing Company OktoberFish', 'Sly Fox Brewing Company Oktoberfest', 'Narragansett Brewing Co. Narragansett Fest', 'August Schell Brewing Company Oktoberfest', 'Capital Brewery Oktoberfest', 'Lakefront Brewery, Inc. Oktoberfest Lager Beer', 'Thirsty Dog Brewing Company Barktoberfest', 'Genesee Brewing Co. / Dundee Brewing Co. Dundee Oktoberfest', 'Sprecher Brewing Company Oktoberfest', 'Brauerei Heller-Trum / Schlenkerla Aecht Schlenkerla Rauchbier Märzen', 'Brauerei Heller-Trum / Schlenkerla Aecht Schlenkerla Rauchbier Urbock', \"Jack's Abby Brewing Smoke & Dagger\", 'Brauerei Heller-Trum / Schlenkerla Aecht Schlenkerla Eiche', 'Brauerei Heller-Trum / Schlenkerla Aecht Schlenkerla Rauchbier Weizen', 'Brauerei Heller-Trum / Schlenkerla Aecht Schlenkerla Fastenbier', 'Caldera Brewing Company Rauch Ür Bock', 'Cervejaria Sudbrack Ltda Eisenbahn Rauchbier', \"Roy Pitz Brewing Company Ludwig's Revenge\", 'Brauerei Göller Zur Alten Freyung Göller Rauchbier', 'Matt Brewing Company Saranac Rauchbier', 'Southern Star Brewing Company Rauchbier', 'New Albanian Brewing Company - Pizzeria and Public House Bonfire Of The Valkyries', 'Sly Fox Brewing Company Rauchbier', 'Brauerei Heller-Trum / Schlenkerla Aecht Schlenkerla Krausen', 'New Orleans Lager & Ale Brewing Company (NOLA) Smoky Mary', 'Starr Hill Brewery Smoke Out', 'Marshall Wharf Brewing Company / Three Tides Restaurant Deep Purple', 'Zero Gravity Craft Brewery / American Flatbread Smokey The Beer', 'Iron Hill Brewery & Restaurant Rauchbier', 'Brauerei Gasthof Kundmüller Weiherer Rauch', 'Brauerei Gasthof Rittmayer Hallerndorfer Raiterla Rauchbier', 'Appalachian Brewing Company Rauchbock', 'Micro Cervejaria Bamberg Bamberg Rauchbier', \"Dragonmead Microbrewery Dragonmead Bishop Bob's Holy Smoke\", 'Boston Beer Company (Samuel Adams) Samuel Adams Black Lager', 'Köstritzer Schwarzbierbrauerei GmbH & Co. Köstritzer Schwarzbier', 'Spoetzl Brewery Bohemian Black Lager', 'Uinta Brewing Company Baba Black Lager', 'Matt Brewing Company Saranac Black Forest', 'Magic Hat Brewing Company Howl', 'Sprecher Brewing Company Black Bavarian', 'Kulmbacher Brauerei AG Mönchshof Schwarzbier', 'Rahr & Sons Brewing Company Ugly Pug Black Lager', 'Královský Pivovar Krušovice a.s. Krušovice Cerne', \"Pabst Brewing Company McSorley's Irish Black Lager\", 'The Duck-Rabbit Craft Brewery Duck-Rabbit Schwarzbier', 'Westbrook Brewing Co. Dark Helmet', 'Krombacher Brauerei Krombacher Dark', 'Einbecker Brauhaus AG Einbecker Schwarzbier', '10 Barrel Brewing Co. S1nist0r Black Ale', 'Gordon Biersch Brewery Restaurant Gordon Biersch Schwarzbier', 'Austin Beerworks Black Thunder', 'Midnight Sun Brewing Co. BREWtality - Espresso Black Bier', \"Short's Brewing Company Short's Bourbon Barrel Sustenance Black Beer\", \"Short's Brewing Company Short's Sustenance Black Bier\", 'The Brew Kettle Taproom & Smokehouse / Production Works Ringneck Dark Helmet Imperial Schwarzbier', 'BrewDog Zeitgeist', 'Bayou Teche Brewery LA-31 Bière Noire', 'Weeping Radish Eco Farm & Brewery Black Radish Dark Lager', 'Dinkelacker-Schwabenbraeu AG Das Schwarze', \"Monteith's Brewing Co. Monteith's Black\", \"Choc Beer Co. / Pete's Place Miner Mishap\", 'Matt Brewing Company Saranac Black Lager', 'Pivovar Herold B&#345;eznice A.s. Herold Bohemian Black Lager', 'Boston Beer Company (Samuel Adams) Samuel Adams Boston Lager', 'Great Lakes Brewing Company Great Lakes Eliot Ness', 'Cervecería Cuauhtémoc Moctezuma, S.A. de C.V. Dos Equis Amber Lager', 'Devils Backbone Brewing Company Vienna Lager', 'Sierra Nevada Brewing Co. Sierra Nevada Vienna Style Lager', \"Jacob Leinenkugel Brewing Company Leinenkugel's Red\", 'Grupo Modelo S.A. de C.V. Victoria', 'August Schell Brewing Company FireBrick', 'Pennsylvania Brewing Company Penn Pilsner', 'Sprecher Brewing Company Special Amber', 'Cervecería Cuauhtémoc Moctezuma, S.A. de C.V. Indio', 'Millstream Brewing Company Millstream Schild Brau Amber', 'Live Oak Brewing Company Live Oak Big Bark Amber Lager', \"Matt Brewing Company Saranac Season's Best - Nut Brown Lager\", 'Metropolitan Brewing Dynamo Copper Lager', 'Flying Bison Brewing Company Rusty Chain', 'B.W. Beer Works USA The Raven Special Lager', 'Snake River Brewing Company & Brewpub Snake River Lager', 'Hijos De Rivera, S.A. 1906 Reserva Especial', 'Brasserie Pietra Amber', \"Brauerei Schloss Eggenberg Mac Queen's Nessie\", 'Green Valley Brewing Company (Crooked Creek) Wild Hop Organic Amber Lager', 'Hinterland Brewery Restaurant Oktoberfest', 'Birra Menabrea SpA Menabrea Ambrata', 'Florida Beer Company Ybor Gold Amber Lager', 'Cervecería Cuauhtémoc Moctezuma, S.A. de C.V. Bohemia Obscura', 'Matt Brewing Company Saranac Winter Lager', 'Figueroa Mountain Brewing Co. Danish Red Lager', 'Spoetzl Brewery Shiner 98 Bavarian Style Amber', 'Left Coast Brewing Company Left Coast Una Mas Amber Lager', 'Iron Hill Brewery & Restaurant Vienna Red Lager', 'Tommyknocker Brewery Vienna-Style Amber Lager', 'Crescent City Brewhouse Red Stallion', 'The Fat Cat Beer Company Fat Cat Lager Beer', 'Victory Brewing Company P.J.W. Copper Lager', 'Tuborgs Bryggerier A/S Tuborg Classic', 'Wellington County Brewery Trailhead Lager', 'Brasserie Cantillon Cantillon Faro', 'Brouwerij De Troch Chapeau Faro Lambic', 'Brouwerij Girardin Girardin Faro 1882', 'Brouwerij Boon Faro Boon', 'Brouwerij Timmermans-John Martin N.V. Timmermans Faro', 'Brouwerij Mort Subite Mort Subite Faro', 'Brouwerij Van Honsebrouck N.V. St. Louis Premium Faro', 'Gueuzerie Tilquin Tilquin Faro', 'De Cam Geuzestekerij De Cam Faro', \"Brasserie Cantillon Cantillon Fou' Foune\", 'Brouwerij Lindemans Lindemans Framboise', 'Brasserie Cantillon Cantillon Kriek 100% Lambic', 'Brasserie Cantillon Cantillon Rosé De Gambrinus', 'Brasserie Cantillon Cantillon Saint Lamvinus', 'Brasserie Cantillon Cantillon Lou Pepe - Kriek', 'Brasserie Cantillon Cantillon Vigneronne', 'Brasserie Cantillon Cantillon Framboise', 'Brouwerij Lindemans Lindemans Kriek', 'Brouwerij Drie Fonteinen Drie Fonteinen Oude Kriek', 'Brouwerij Lindemans Lindemans Pêche', 'Brouwerij Drie Fonteinen Drie Fonteinen Hommage', 'Brouwerij Drie Fonteinen Drie Fonteinen Schaerbeekse Kriek', 'Brasserie Cantillon Cantillon Mamouche', 'Brasserie Cantillon Cantillon Blåbær Lambik', 'Brouwerij Lindemans Lindemans Apple', 'Brouwerij Oud Beersel Oud Beersel Oude Kriek Vieille', 'Brouwerij Drie Fonteinen Drie Fonteinen Framboos', 'Hanssens Artisanaal bvba Oude Kriek', 'Allagash Brewing Company Allagash Coolship Red', 'Brouwerij Lindemans Lindemans Cassis', 'Brouwerij Boon Boon Kriek', 'Brouwerij Boon Boon Oude Kriek Mariage Parfait', 'Hanssens Artisanaal bvba Oudbeitje Lambic', 'Brouwerij Boon Boon Framboise', 'Upland Brewing Company Peach Lambic', 'Upland Brewing Company Blackberry Lambic', 'Upland Brewing Company Strawberry Lambic', 'Upland Brewing Company Persimmon Lambic', 'Brouwerij Oud Beersel Oud Beersel Framboise', 'Mikkeller ApS Spontanframboos', 'Upland Brewing Company Cherry Lambic', 'Brouwerij Mort Subite Mort Subite Kriek', 'Brouwerij Van Honsebrouck N.V. St. Louis Premium Framboise', 'Allagash Brewing Company Allagash Coolship Cerise', 'Hanssens Artisanaal bvba Hanssens Experimental Raspberry', 'Hanssens Artisanaal bvba Hanssens Experimental Cassis', 'Brouwerij Timmermans-John Martin N.V. Timmermans Strawberry', 'Brouwerij Timmermans-John Martin N.V. Timmermans Framboise Lambic', 'Hanssens Artisanaal bvba Scarenbecca Kriek', 'Brasserie Belle-Vue Belle Vue Kriek', 'Alpine Beer Company Chez Monieux', 'Brasserie Cantillon Cantillon Gueuze 100% Lambic', 'Brouwerij Drie Fonteinen Drie Fonteinen Oude Geuze', 'Gueuzerie Tilquin Oude Gueuze Tilquin à L’Ancienne', 'The Lost Abbey Duck Duck Gooze', 'Hanssens Artisanaal bvba Oude Gueuze', 'Brasserie Cantillon Cantillon Lou Pepe - Gueuze', 'Brouwerij Girardin Girardin Gueuze 1882 (Black Label)', 'Brouwerij Boon Boon Oude Geuze Mariage Parfait', 'Brouwerij Van Honsebrouck N.V. St. Louis Gueuze Fond Tradition', 'Brouwerij Oud Beersel Oud Beersel Oude Geuze Vieille', 'Allagash Brewing Company Allagash Coolship Resurgam', 'Brouwerij Boon Boon Oude Geuze', 'Gueuzerie Tilquin Gueuze Tilquin (Draught Version)', 'Brouwerij Drie Fonteinen Drie Fonteinen Doesjel', 'Upland Brewing Company Sour Reserve', 'Brouwerij Lindemans Lindemans Gueuze', 'Brouwerij Mort Subite Mort Subite Gueuze', 'De Cam Geuzestekerij Oude Geuze De Cam', 'Brasserie Belle-Vue Belle Vue Gueuze', 'Brouwerij De Troch De Troch Gueuze', 'Brouwerij Girardin Girardin Gueuze 1882 (White Label)', 'Brasserie Cantillon Cantillon Brabantiae', 'Brouwerij Mort Subite Mort Subite Oude Gueuze', 'Brouwerij Kerkom Reuss', 'Brouwerij De Troch Chapeau Gueuze Lambic', 'Brasserie Cantillon Cantillon Iris', 'Brasserie Cantillon Cantillon Bruocsella (1900) Grand Cru', 'Brasserie Cantillon Cantillon 50 Degrees North-4 Degrees East', 'De Cam Geuzestekerij Oude Lambiek De Cam', 'Brasserie Cantillon Cantillon Lambic', 'Café-Brouwerij Loterbol Tuverbol', 'Panil Panil Divina', 'Brouwerij Oud Beersel Oud Beersel Lambik', 'Brouwerij Boon Boon Oude Lambic', 'Brouwerij Drie Fonteinen Lambiek (1 Year Old)', 'Brouwerij Drie Fonteinen Jonge Lambik', 'Brouwerij Drie Fonteinen Oude Lambik', 'Brouwerij Girardin Lambik (1 Year Old Unblended)', 'Mikkeller ApS Spontanale', 'De Cam Geuzestekerij Lambiek De Cam', 'Brouwerij Boon Boon Lambiek', 'Brouwerij Girardin Lambik (2 Year Old Unblended)', 'Brouwerij Girardin Jonge Lambiek', 'Brouwerij Lindemans Lindemans Oude Lambik', 'Brouwerij De Troch De Troch Jonge Lambik', 'Brouwerij Girardin Lambik (3 Year Old Unblended)', 'Brouwerij Mort Subite Mort Subite Oude Lambik', 'Brouwerij Bockor N.V. Oud', 'Gueuzerie Tilquin Tilquin Jonge Lambic', \"Anheuser-Busch O'Doul's\", \"Anheuser-Busch O'Doul's Amber\", 'Guinness Ltd. Kaliber', \"Miller Brewing Co. Sharp's\", 'St. Pauli Brauerei C.L. Wilh. Brandt Gmbh & Co. St. Pauli N. A.', 'Heineken Nederland B.V. Buckler 0%', 'Erdinger Weissbräu Erdinger Weissbier Alkoholfrei', 'BrewDog Nanny State', \"Brauerei Beck & Co. Beck's Alkoholfrei\", 'Anheuser-Busch Busch NA', 'Binding-Brauerei AG Clausthaler Golden Amber', 'Bitburger Brauerei Bitburger Drive', 'Warsteiner Brauerei Warsteiner Premium Fresh', 'Pabst Brewing Company Old Milwaukee Non Alcoholic', 'Paulaner Brauerei GmbH & Co. KG Paulaner Hefe-Weissbier Alkoholfrei', 'Baltika Breweries Baltika #0 Non-Alcoholic', 'Privatbrauerei Eichbaum GmbH & Co. KG Gerstel Non Alcoholic', 'Paulaner Brauerei GmbH & Co. KG ThomasBrau', 'Weisses Bräuhaus G. Schneider & Sohn GmbH Schneider Weisse Mein Alkoholfreies', 'Labatt Brewing Company Ltd. Labatt Blue Non-Alcoholic', 'Bayerische Staatsbrauerei Weihenstephan Weihenstephaner Alkoholfrei Original', 'Brauerei Beck & Co. Haake Beck NA', 'Krombacher Brauerei Krombacher Alkoholfrie', 'Einbecker Brauhaus AG Einbecker Brauherren Non-Alcoholic', 'Pabst Brewing Company Pabst Non-Alcoholic', 'Molson Coors Canada Molson Exel', 'Bitburger Brauerei Bitburger Alkoholfrei', 'Cerveceria Vegana, S.A. Malta India', 'Fentimans Ltd. Fentimans Full Bodied Shandy', \"Brauerei Gebrüder Maisel GmbH & Co. Maisel's Weisse Alkoholfrei\", 'Brasserie Piedboeuf Jupiler NA', 'Genesee Brewing Co. / Dundee Brewing Co. Genesee NA', 'Goose Island Beer Co. Mild Winter', 'Jester King Craft Brewery Commercial Suicide', \"Moorhouse's Brewery (Burnley) Ltd Black Cat\", 'Motor City Brewing Works Motor City Brewing Ghettoblaster', 'Surly Brewing Company Mild', 'Hockley Valley Brewing Co. Hockley Dark', 'Coopers Brewery Limited Coopers Dark Ale', 'Neustadt Springs Brewery Neustadt 10w30', 'Robert Cain & Company Limited Cains Dark Mild', 'Eagle Rock Brewery Solidarity', 'Tooheys Brewing Tooheys Old', 'Whistler Brewing Company Original Black Tusk Ale', \"Northwoods Brewpub and Grill Floppin' Crappie\", 'Fort Garry Brewing Company Ltd. Dark Ale', 'Wandering Star Brewing Company Mild At Heart', 'Sea Dog Brewing Company Sea Dog Old Gollywobbler Brown Ale', 'Devils Backbone Brewing Company Ale Of Fergus', 'New Albanian Brewing Company - Pizzeria and Public House Community Dark Mild Ale', 'Calfkiller Brewing Company J. Henry Mild Brown Ale', 'Nelson Brewing Company After Dark Mild', 'Beacon Hotel (Sarah Hughes Brewery) Original Sarah Hughes Dark Ruby Mild', \"Pratt Street Ale House Oliver's Dark Horse\", \"George Gale & Company Ltd Gale's Festival Mild\", 'Daniel Thwaites Brewery PLC Nutty Black', \"Market Street Brewing Co. and Restaurant Market Street D'Artagnan Dark British Ale\", 'Rudgate Brewery Limited Ruby Mild', 'Brasseurs De Montréal London Ruby Anglaise', 'Montana Brewing Company Fat Belly Amber', 'Inveralmond Brewery Ltd., The Ossian', 'Moab Brewery Dead Horse Amber Ale', 'Coopers Brewery Limited Coopers Mild Ale', 'Cervecería Minerva Minerva Pale Ale', 'Greene King / Morland Brewery Hop', 'Copper Dragon Brewery Golden Pippin Ale', \"Sea Dog Brewing Company Sea Dog Owl's Head Light Ale\", 'Simonds Farsons Cisk Plc. Blue Label Ale', 'Rohrbach Brewing Company (Brewpub) Next Door Ale', 'Purple Moose Brewery Snowdonia Ale', 'Granite Brewery & Restaurant Summer Ale', 'Daniel Thwaites Brewery PLC Thwaites Smooth', 'Daniel Thwaites Brewery PLC Thoroughbred Gold', 'Palos De Moguer - 82 Colón Rubia', 'Isle of Arran Brewery Company Ltd. Arran Sunset', \"Badger Brewery, Hall and Woodhouse England's Gold\", 'The Ship Inn Spring Mild', 'Dostal Alley Brewpub Jacob Mac Mild', 'Westerham Brewery Company Ltd Finchcocks Original', 'Founders Brewing Company Founders Kaiser Curmudgeon', 'North Coast Brewing Co. Old Stock Ale', 'Great Divide Brewing Company Hibernation Ale', 'Hair of the Dog Brewing Company / Brewery and Tasting Room Adam', 'Kuhnhenn Brewing Company Kuhnhenn Bourbon Barrel Fourth Dementia', 'Avery Brewing Company Old Jubilation', \"Fuller Smith & Turner PLC Fuller's Vintage Ale\", 'North Coast Brewing Co. Old Stock Cellar Reserve (Aged In Bourbon Barrels)', 'Kuhnhenn Brewing Company Kuhnhenn Fourth Dementia (4D)', 'T & R Theakston Ltd. Theakston Old Peculier', 'Hair of the Dog Brewing Company / Brewery and Tasting Room Adam From The Wood', 'Harviestoun Brewery Ltd. Ola Dubh Special Reserve 12', 'Hair of the Dog Brewing Company / Brewery and Tasting Room Cherry Adam From The Wood', 'Alaskan Brewing Co. Alaskan Winter Ale', 'Saint Arnold Brewing Company Saint Arnold Christmas Ale', 'Harviestoun Brewery Ltd. Ola Dubh Special Reserve 16', 'Breckenridge Brewery Autumn Ale', 'Harviestoun Brewery Ltd. Ola Dubh Special Reserve 18', 'Greene King / Morland Brewery Olde Suffolk English (Strong Suffolk Vintage) Ale', 'Harviestoun Brewery Ltd. Ola Dubh Special Reserve 30', \"George Gale & Company Ltd Gale's Prize Old Ale\", 'Lancaster Brewing Company Winter Warmer', 'Great Divide Brewing Company Barrel Aged Hibernation Ale', 'Eel River Brewing Co. Triple Exultation', \"Arcadia Brewing Company Arcadia Big Dick's Olde Ale\", 'Straight To Ale Barrel-Aged Unobtanium Old Ale', 'Mayflower Brewing Company Mayflower Thanksgiving Ale', 'Block 15 Brewery & Restaurant Figgy Pudding', 'Harviestoun Brewery Ltd. Ola Dubh Special Reserve 40', 'Fish Brewing Company / Fishbowl Brewpub Old Woody', 'Upright Brewing Company Billy The Mountain', 'Blue Mountain Brewery Lights Out Holiday Ale', 'DuClaw Brewing Company Old Flame', 'Box Steam Brewery Dark & Handsome', 'Sierra Nevada Brewing Co. Chico Special Pale Ale', 'Three Floyds Brewing Co. & Brewpub Zombie Dust', \"Oskar Blues Grill & Brew Dale's Pale Ale\", 'Three Floyds Brewing Co. & Brewpub Alpha King Pale Ale', 'Toppling Goliath Brewing Company PseudoSue', 'Half Acre Beer Company Daisy Cutter Pale Ale', 'SweetWater Brewing Company Sweetwater 420 Extra Pale Ale', 'Deschutes Brewery Mirror Pond Pale Ale', 'Maine Beer Company Peeper Ale', 'Hill Farmstead Brewery Edward Pale Ale', 'New Glarus Brewing Company Moon Man', 'Deschutes Brewery Red Chair NWPA', 'Victory Brewing Company Headwaters Pale Ale', 'Kona Brewing Co. Fire Rock Pale Ale', 'Flying Dog Brewery Doggie Style Classic Pale Ale', 'Three Floyds Brewing Co. & Brewpub Pride & Joy Mild Ale', 'Firestone Walker Brewing Co. Pale 31', 'Lagunitas Brewing Company New Dogtown Pale Ale', 'Great Divide Brewing Company Fresh Hop Pale Ale', \"Southern Tier Brewing Company Phin & Matt's Extraordinary Ale\", 'Ballast Point Brewing Company Pale Ale', 'Matt Brewing Company Saranac Pale Ale', 'Carton Brewing Company Boat', 'Goose Island Beer Co. Green Line Pale Ale', 'Odell Brewing Company St. Lupulin', \"Brasserie d'Orval S.A. Orval Trappist Ale\", 'Brewery Ommegang Rare Vos (Amber Ale)', 'Russian River Brewing Company Redemption', 'Brouwerij Palm NV Palm / Palm Speciale', 'Avery Brewing Company Karma', 'Jolly Pumpkin Artisan Ales Luciérnaga, The Firefly', 'Unibroue Raftman', 'Weyerbacher Brewing Co. Verboten', 'New Glarus Brewing Company Stone Soup', 'Captain Lawrence Brewing Co. Liquid Gold', 'Brouwerij De Koninck NV De Koninck', 'Brouwerij Straffe Hendrik / Huisbrouwerij De Halve Maan Brugse Zot', 'Brasserie de la Senne Taras Boulba', 'Bières de Chimay S.A. Dorée', 'DC Brau Brewing Co. The Citizen', 'Dark Horse Brewing Company Dark Horse Amber Ale', 'Hardywood Park Craft Brewery Singel', \"The Lost Abbey Saints' Devotion\", 'Brouwerij Van Steenberge N.V. Bruegel Amber Ale', 'Brasserie Dubuisson Frères sprl Cuvée Des Trolls', 'Perennial Artisan Ales Hommel Bier', 'Furthermore Beer Fatty Boombalatty', \"AleSmith Brewing Company AleSmith Lil' Devil\", \"Big Boss Brewing Hell's Belle\", 'Matt Brewing Company Saranac Belgian Ale', 'Brouwerij Slaghmuylder Witkap Pater Singel / Stimulo', 'Brasserie de la Senne Zinnebir', 'Russian River Brewing Company It Takes A Lot Of Great Beer To Make Great Wine', \"Mikkeller ApS It's Alright!\", 'White Birch Brewing White Birch Belgian Style Pale Ale', 'Philadelphia Brewing Company Fleur De Lehigh', 'Brouwerij Van Steenberge N.V. Bière Du Boucanier Red', 'Omnipollo Leon', 'Firestone Walker Brewing Co. Double Barrel Ale', 'Bass Brewers Limited Bass Pale Ale', 'Greene King / Morland Brewery Old Speckled Hen', 'Boston Beer Company (Samuel Adams) Samuel Adams Boston Ale (Stock Ale)', 'Brooklyn Brewery Brooklyn Summer Ale', \"Samuel Smith Old Brewery (Tadcaster) Samuel Smith's Old Brewery Pale Ale\", 'Smuttynose Brewing Company Smuttynose Shoals Pale Ale', 'Great Divide Brewing Company Denver Pale Ale', \"Cisco Brewers Inc. Whale's Tale Pale Ale\", 'Summit Brewing Company Summit Extra Pale Ale', \"Black Sheep Brewery PLC Monty Python's Holy Grail Ale\", 'Boston Beer Company (Samuel Adams) Samuel Adams Pale Ale', 'Yuengling Brewery Lord Chesterfield Ale', 'Odell Brewing Company 5 Barrel Pale Ale', 'Coopers Brewery Limited Coopers Sparkling Ale', 'Coopers Brewery Limited Coopers Original Pale Ale', \"Carlsberg-Tetley Brewing Ltd Tetley's English Ale\", 'Wychwood Brewery Company Ltd Scarecrow Ale', 'Harviestoun Brewery Ltd. Bitter & Twisted', 'Big Sky Brewing Company Scape Goat Pale Ale', \"D.L. Geary Brewing Company Geary's Pale Ale\", 'Ipswich Ale Brewery Ipswich Original Ale', 'Wychwood Brewery Company Ltd WychCraft', 'Alltech’s Lexington Brewing and Distilling Co. Kentucky Ale', 'Shipyard Brewing Co. Chamberlain Pale Ale', 'Christian Moerlein Brewing Company Christian Moerlein Over-The-Rhine Ale', 'Ridgeway Brewing Very Bad Elf', 'Granville Island Brewery English Bay Pale Ale', 'Four Peaks Brewing Company 8th Street Ale', 'Whitbread PLC Whitbread Pale Ale', \"St. Peter's Brewery Co Ltd St. Peter's English Ale\", 'Firestone Walker Brewing Co. Unfiltered Double Barrel Ale', \"Arcadia Brewing Company Arcadia Angler's Ale\", \"St. Peter's Brewery Co Ltd St. Peter's Golden Ale\", 'Wachusett Brewing Company Wachusett Country Pale Ale', 'Genesee Brewing Co. / Dundee Brewing Co. Dundee English-Style Ale', 'Cucapá Brewing Company Cucapá Chupacabras Pale Ale', 'Green Valley Brewing Company (Crooked Creek) Stone Mill Organic Pale Ale', 'Mayflower Brewing Company Mayflower Pale Ale', 'Heavy Seas Beer Heavy Seas - Pale Ale', \"Oskar Blues Grill & Brew Mama's Little Yella Pils\", 'Lagunitas Brewing Company Lagunitas PILS (Czech Style Pilsner)', 'Pivovary Staropramen Staropramen Lager', 'Great Lakes Brewing Company Great Lakes The Wright Pils', 'Great Divide Brewing Company Nomad', 'Pivovar Zlaty Bazant a.s. Golden Pheasant', 'Foothills Brewing Company Torch Pilsner', 'Steam Whistle Brewing Steam Whistle Pilsner', 'Královský Pivovar Krušovice a.s. Krušovice Imperial', 'Gordon Biersch Brewery Restaurant Gordon Biersch Czech Style Pilsner', 'Cisco Brewers Inc. Summer Of Lager', 'Live Oak Brewing Company Live Oak Pilz', 'Moonlight Brewing Company Reality Czeck', 'Spoetzl Brewery Shiner 101 Czech Style Pilsner', \"Trader Joe's Brewing Company Trader Joe's Bohemian Lager\", \"Trader Joe's Brewing Company Josephs Brau PLZNR Czech-Style Lager\", 'Notch Brewing Notch Session Pils', 'Matt Brewing Company Saranac Bohemian Pilsener', \"Short's Brewing Company Short's Pontius Road Pilsner\", 'Red Hare Brewing Company Long Day Lager', 'Grupo Modelo S.A. de C.V. Montejo', '\\x8eŽatecký Pivovar \\x8e\\x8eŽatec', 'Terrapin Beer Company Terrapin Sound Czech', 'Creemore Springs Brewery Limited Creemore Springs Traditional Pilsner', 'Pivovar Velké Popovice a.s. Kozel', 'Hopworks Urban Brewery HUB Lager', 'Moat Mountain Smoke House & Brewing Co. Moat Czech Pilsner', 'Greenpoint Beerworks / Kelso of Brooklyn Kelso Pilsner', 'Heater Allen Brewing Pils', 'Victory Brewing Company Prima Pils', 'Boston Beer Company (Samuel Adams) Samuel Adams Noble Pils', \"Brauerei Beck & Co. Beck's\", 'North Coast Brewing Co. Scrimshaw Pilsner', 'Bitburger Brauerei Bitburger Premium Pils', 'Sixpoint Brewery Sehr Crisp Pilsner', 'Tröegs Brewing Company Tröegs Sunshine Pils', 'Cervecería Cuauhtémoc Moctezuma, S.A. de C.V. Bohemia Clásica', 'Radeberger Exportbierbrauerei Radeberger Pilsner', 'Brooklyn Brewery Brooklyn Pilsner', 'Matt Brewing Company Saranac Adirondack Lager', 'Friesisches Brauhaus zu Jever GmbH & Co KG Jever Pilsener', 'König-Brauerei GmbH König Pilsener', 'Sly Fox Brewing Company Pikeland Pils', 'Bayerische Staatsbrauerei Weihenstephan Weihenstephaner Pilsner', 'Stoudts Brewing Co. Stoudts Pils', 'Trumer Brauerei Berkeley Trumer Pils', 'Krombacher Brauerei Krombacher Pils', 'Stieglbrauerei zu Salzburg GmbH Stiegl Pils', 'Badische Staatsbrauerei Rothaus AG Rothaus Pils Tannen Zäpfle', 'Abita Brewing Co. SOS (Save Our Shore)', 'Saint Arnold Brewing Company Saint Arnold Summer Pils', 'Wernesgrüner Brauerei AG Wernesgruner', 'Brauerei C. & A. Veltins GmbH & Co. Veltins Pilsner', 'Brauerei Pinkus Mueller Organic Ur Pils', \"Real Ale Brewing Company Hans' Pils\", 'Paulaner Brauerei GmbH & Co. KG Paulaner Premium Pils', 'New England Brewing Co. Elm City Lager', 'Kulmbacher Brauerei AG EKU Pils', 'Flensburger Brauerei GmbH Und Co. KG Flensburger Pilsener', 'Dinkelacker-Schwabenbraeu AG Dinkel Acker Cd-Pils', 'Austin Beerworks Pearl Snap Pils', 'Minhas Craft Brewery Simpler Times Pilsner', 'New Glarus Brewing Company Home Town Blonde', 'Brasserie Almaza S.A.L. Almaza Pilsner Beer', 'Victory Brewing Company Braumeister Pils', 'Hofbrauhaus Wolters GmbH Wolters Pilsener Premium', 'Kulmbacher Brauerei AG Kulmbacher Edelherb Premium Pils', 'Dogfish Head Brewery My Antonia', 'Southern Tier Brewing Company Krampus (Imperial Helles Lager)', 'Boston Beer Company (Samuel Adams) Samuel Adams Hallertau Imperial Pilsner', 'Rogue Ales Morimoto Imperial Pilsner', \"Short's Brewing Company Imperial Spruce India Pilsner\", 'Three Floyds Brewing Co. & Brewpub Evil Power', 'Uinta Brewing Company Tilted Smile Imperial Pilsner', 'Mikkeller ApS Draft Bear', 'Breckenridge Brewery Regal Pilsner', \"Short's Brewing Company Short's The Curl\", 'Kiuchi Brewery Hitachino Nipponia', 'Thomas Creek Brewery OBP Squared (Orange Blossom Pilsner Squared)', 'Rahr & Sons Brewing Company Pecker Wrecker', 'Blue Mountain Brewery überPils', 'Element Brewing Company Summer Pilsner Fusion', 'Karl Strauss Brewing Company Whistler Imperial Pils', 'Atwater Block Brewery Uber Ursa Pils', 'New Albanian Brewing Company - Pizzeria and Public House Elsa Von Horizon', 'Epic Brewing Company Epic Lager', 'Great Lakes Brewing Company Coffee Infused Edmund Fitzgerald Porter', 'Deschutes Brewery Black Butte Porter', 'Breckenridge Brewery Vanilla Porter', 'Anchor Brewing Company Anchor Porter', 'Sierra Nevada Brewing Co. Sierra Nevada Porter', 'Rogue Ales Mocha Porter', 'Hill Farmstead Brewery Everett Robust Porter', 'Boston Beer Company (Samuel Adams) Samuel Adams Holiday Porter', 'Maui Brewing Co. CoCoNut Porter', 'Three Floyds Brewing Co. & Brewpub Alpha Klaus Christmas (Xmas) Porter', 'Kona Brewing Co. Pipeline Porter', 'Atwater Block Brewery Atwater Vanilla Java Porter', 'Highland Brewing Highland Oatmeal Porter', 'Odell Brewing Company Odell Cutthroat Pale Ale', 'Mississippi Brewing Co. Mississippi Mud Black & Tan', 'Tröegs Brewing Company Tröegs Dead Reckoning Porter', 'Hill Farmstead Brewery Twilight Of The Idols', 'Berkshire Brewing Company Inc. Coffeehouse Porter', 'Ballast Point Brewing Company Black Marlin Porter', 'Flying Dog Brewery Road Dog Porter', 'Avery Brewing Company New World Porter', 'Southern Tier Brewing Company Porter', 'Thirsty Dog Brewing Company Old Leghumper', 'Central Waters Brewing Company Mudpuppy Porter', 'Matt Brewing Company Saranac Caramel Porter', '(512) Brewing Company (512) Pecan Porter', 'Matt Brewing Company Saranac Black & Tan', 'Midnight Sun Brewing Co. TREAT (Imperial Chocolate Pumpkin Porter)', 'Summit Brewing Company Summit Great Northern Porter', 'The Duck-Rabbit Craft Brewery Duck-Rabbit Porter', 'Utah Brewers Cooperative Wasatch Polygamy Porter', 'Real Ale Brewing Company Shade Grown Coffee Porter', 'Highland Brewing Highland Thunderstruck Coffee Porter', 'DC Brau Brewing Co. Penn Quarter Porter', 'Port City Brewing Porter', 'NoDa Brewing Company Coco Loco', 'Smuttynose Brewing Company Smuttynose Baltic Porter (Big Beer Series)', 'Arcadia Brewing Company Arcadia Shipwreck Porter', 'Baltika Breweries Baltika #6 Porter', 'The Duck-Rabbit Craft Brewery Duck-Rabbit Baltic Porter', 'Surly Brewing Company Smoke', 'Oy Sinebrychoff Ab Sinebrychoff Porter', 'BOSS Browar Witnica S.A. Black Boss Porter', 'Carlsberg Sverige AB Carnegie Porter 5,5%', 'Three Floyds Brewing Co. & Brewpub Topless Wytch', 'Les Trois Mousquetaires Les Trois Mousquetaires Porter Baltique', 'Nøgne Ø - Det Kompromissløse Bryggeri A/S Porter', 'Great Divide Brewing Company Smoked Baltic Porter', 'Southampton Publick House Southampton Imperial Baltic Porter', 'Deep Ellum Brewing Company Double Brown Stout', 'Foothills Brewing Company Foothills Baltic Porter', 'Brouwerij De Molen Tsarina Esra Reserva', 'Utenos Alus Porter', 'Aldaris Porteris', 'Devils Backbone Brewing Company Danzig Baltic Porter', 'Beer Here Mørke - Pumpernickel Porter', 'HaandBryggeriet Akevitt Porter (Barrel-Aged Porter)', \"Atwater Block Brewery Atwater Bourbon Barrel Aged Shaman's Porter\", 'Uncommon Brewers Baltic Porter', 'Browar Amber Grand Imperial Porter', 'Baird Brewing Company / Fishmarket Taproom Kurofune Porter', 'Hill Farmstead Brewery Fear And Trembling (Cabernet/Bourbon Blend)', 'BrewDog Alice Porter', 'Brouwerij Sterkens N.V. Hoogstraten Poorter', 'Thisted Bryghus Limfjordsporter', \"Fuller Smith & Turner PLC Fuller's London Porter\", 'Harviestoun Brewery Ltd. Old Engine Oil', 'Boulevard Brewing Co. Bully! Porter', 'Boston Beer Company (Samuel Adams) Samuel Adams Honey Porter', \"Foothills Brewing Company People's Porter\", \"Yards Brewing Co. General Washington's Tavern Porter\", 'Mayflower Brewing Company Mayflower Porter', \"St. Peter's Brewery Co Ltd St. Peter's Old-Style Porter\", 'Meantime Brewing Company Limited Coffee Porter', 'Brouwerij Drie Fonteinen Zwet.Be', \"Ridgeway Brewing Santa's Butt\", 'Meantime Brewing Company Limited London Porter', 'Starr Hill Brewery Box Car Pumpkin Porter', 'Green Man Brewery Green Man Porter', 'Yazoo Brewing Company Sly Rye Porter', \"Short's Brewing Company Short's Publican Porter (Imperial London Porter)\", \"D.L. Geary Brewing Company Geary's London Style Porter\", 'Darwin Brewery Ltd. Original Flag Porter', 'Greenport Harbor Brewing Company Black Duck Porter', \"Federal Jack's Restaurant & Brew Pub Kennebunkport Porter\", 'Ale Asylum Contorter', 'Salopian Brewing Company Ltd Entire Butt English Porter', 'St. George Brewing Company, The Porter', 'Cooperstown Brewing Company Benchwarmer Porter', 'Wychwood Brewery Company Ltd Black Wych', 'Mill Street Brew Pub Mill Street Vanilla Porter', 'Nethergate Brewery Co. Ltd. Old Growler', 'Shipyard Brewing Co. Longfellow Winter Ale', \"Molson Coors Canada Rickard's Dark\", 'Lancaster Brewing Company Porter', 'Middle Ages Brewing Co., Ltd. Duke Of Winship', 'Williams Brothers Brewing Company Midnight Sun', 'Phillips Brewing Company Longboat Double Chocolate Porter', 'Big Woods Brewing Co. Busted Knuckle Red Ale', 'RCH Brewery Old Slug Porter', 'Harvest Moon Brewery Pigs Ass Porter', 'French Broad Brewing Co. Anvil Porter', 'Ballast Point Brewing Company Victory At Sea Coffee Vanilla Imperial Porter', 'Flying Dog Brewery Gonzo Imperial Porter', 'Hill Farmstead Brewery Birth Of Tragedy', 'Flying Dog Brewery Barrel-Aged Gonzo Imperial Porter', 'Caldera Brewing Company Mogli', 'Tyranena Brewing Company The Devil Made Me Do It! Coffee Imperial Oatmeal Porter', 'Tyranena Brewing Company Dirty Old Man Imperial Rye Porter', 'Great Lakes Brewing Company Great Lakes Alberta Clipper', 'Tyranena Brewing Company Devil Over A Barrel - Bourbon Barrel-Aged Coffee Imperial Oatmeal Porter', 'Evil Twin Brewing Evil Twin Yang', '(512) Brewing Company (512) Whiskey Barrel Aged Double Pecan Porter', 'Two Brothers Brewing Company Red Eye Coffee Porter', 'Hill Farmstead Brewery Everett (Barrel Aged)', 'Ballast Point Brewing Company Victory At Sea (Barrel Aged) Imperial Porter', \"Short's Brewing Company Bourbon Black Cherry Porter\", 'Southampton Publick House Southampton Imperial Porter', 'Laughing Dog Brewing Anubis Imperial Coffee Porter', \"Shipyard Brewing Co. Shipyard Imperial Porter (Pugsley's Signature Series)\", 'Clown Shoes Pecan Pie Porter', 'To Øl Black Ball Porter', 'Founders Brewing Company Founders Porter', 'Smuttynose Brewing Company Smuttynose Robust Porter', 'Einstök Ölgerð Icelandic Toasted Porter', \"Foothills Brewing Company Barrel Aged Peoples' Porter\", 'Dark Horse Brewing Company Dark Horse Thirsty Trout Porter', 'Tyranena Brewing Company Chief BlackHawk Porter', 'Speakeasy Ales & Lagers Payback Porter', \"Big Sky Brewing Company Bobo's Robust Porter\", \"Drake's Brewing Co. Drake's Black Robusto Porter\", \"Crow Peak Brewing Pile O' Dirt Porter\", 'Kuhnhenn Brewing Company Kuhnhenn Penetration Porter', 'Coop Ale Works Gran-Sport Porter', 'Great Dane Pub & Brewing Company (Downtown) Black Earth Porter', 'Zero Gravity Craft Brewery / American Flatbread Black Cat Porter', 'Bridge Road Brewers Robust Porter', \"Emmett's Brewing Company Robust Porter\", 'Stone Brewing Co. Stone Smoked Porter', 'Alaskan Brewing Co. Alaskan Smoked Porter', \"O'Fallon Brewery Smoke (Smoked Porter)\", 'Arcadia Brewing Company Arcadia London Porter', \"Tyranena Brewing Company Benji's Chipotle Smoked Imperial Porter\", 'Captain Lawrence Brewing Co. Pleasantville Smoked Porter', 'Ranger Creek Brewing & Distilling Mesquite Smoked Porter - MSP', 'Brouwerij Van Viven Viven Porter', 'Grey Sail Brewing of Rhode Island Leaning Chimney Porter', '8 Wired Brewing Co. The Big Smoke', 'East End Brewing Company Smokestack Heritage Porter', 'Swamp Head Brewery & Tasting Room Smoke Signal', 'Rock Art Brewery Double Porter Smoked', 'Fat Heads Brewery & Saloon Up In Smoke Smoked Porter', \"Choc Beer Co. / Pete's Place Smoked Porter\", 'Throwback Brewery Throwback Campfire Smoked Porter', 'Bristol Brewing Company Smokebrush Porter', 'The Vermont Pub & Brewery Vermont Smoked Porter', 'Great Lakes Brewing Company Great Lakes Big Black Smoke', 'Spring House Brewing Company Smoked Porter', 'Feral Brewing Co. Smoked Porter', 'Moat Mountain Smoke House & Brewing Co. Moat Smoke House Porter', 'Middle Ages Brewing Co., Ltd. Smoked Porter', 'COAST Brewing Company Porter, Smoked', 'Captain Lawrence Brewing Co. Imperial Smoked Porter', 'Davidson Brothers Restaurant & Brewery Smoked Porter', 'Southern Tier Brewing Company Pumking', 'Dogfish Head Brewery Punkin Ale', 'Shipyard Brewing Co. Pumpkinhead Ale', 'Weyerbacher Brewing Co. Imperial Pumpkin Ale', 'Boston Beer Company (Samuel Adams) Samuel Adams Harvest Pumpkin Ale', 'Brooklyn Brewery Post Road Pumpkin Ale', 'Smuttynose Brewing Company Smuttynose Pumpkin Ale', \"Shipyard Brewing Co. Shipyard Smashed Pumpkin (Pugsley's Signature Series)\", 'New Holland Brewing Company New Holland Ichabod Ale', 'Avery Brewing Company Rumpkin', 'Cigar City Brewing Good Gourd Imperial Pumpkin Ale', 'Elysian Brewing Company Night Owl Pumpkin Ale', \"Buffalo Bill's Brewery Buffalo Bill's Pumpkin Ale\", 'Matt Brewing Company Saranac Pumpkin Ale', 'Harpoon Brewery UFO Pumpkin', 'Saint Arnold Brewing Company Pumpkinator', 'Jolly Pumpkin Artisan Ales La Parcela', 'Heavy Seas Beer Heavy Seas - The Great Pumpkin', 'Elysian Brewing Company The Great Pumpkin', \"Hoppin' Frog Brewery Frog's Hollow Double Pumpkin Ale\", \"Elysian Brewing Company Dark O' The Moon\", 'Cisco Brewers Inc. Pumple Drumkin Spiced Ale', 'Flying Dog Brewery The Fear', \"O'Fallon Brewery Pumpkin Ale\", 'Southampton Publick House Southampton Pumpkin Ale', \"Cape Ann Brewing Company Fisherman's Pumpkin Stout\", 'Southern Tier Brewing Company Oak Aged Pumking', 'Fat Heads Brewery & Saloon Spooky Tooth Imperial Pumpkin', 'River Horse Brewing Co. Hipp-O-Lantern', \"Blue Point Brewing Company Blue Point's Mother Pumpkin Ale\", 'Brouwerij St. Bernardus NV St. Bernardus Abt 12', 'Brasserie de Rochefort Trappistes Rochefort 10', 'Brewery Ommegang Three Philosophers Belgian Style Blend (Quadrupel)', 'Brouwerij Westvleteren (Sint-Sixtusabdij van Westvleteren) Trappist Westvleteren 12', 'Boulevard Brewing Co. The Sixth Glass', 'Firestone Walker Brewing Co. Sticky Monkey', 'Boulevard Brewing Co. Bourbon Barrel Quad (BBQ)', 'Bierbrouwerij De Koningshoeven B.V. La Trappe Quadrupel (Koningshoeven / Dominus)', 'De Struise Brouwers Pannepot', 'Brouwerij St. Bernardus NV Christmas Ale', 'Unibroue La Terrible', 'Avery Brewing Company The Reverend', 'Victory Brewing Company V-Twelve', 'Brouwerij Van Steenberge N.V. Gulden Draak Quad', 'Weyerbacher Brewing Co. Quad', 'De Struise Brouwers Pannepot Reserva', 'The Lost Abbey Judgment Day', 'Brouwerij Van Honsebrouck N.V. Kasteel Rouge', 'Weyerbacher Brewing Co. Blasphemy', 'Brouwerij Van Honsebrouck N.V. Kasteel Donker', 'Brouwerij Straffe Hendrik / Huisbrouwerij De Halve Maan Straffe Hendrik Quadrupel', 'Brasserie Dieu Du Ciel Rigor Mortis ABT', 'Smuttynose Brewing Company Smuttynose Gravitation (Big Beer Series)', 'Bierbrouwerij De Koningshoeven B.V. La Trappe Quadrupel Barrique (Oak Aged)', 'De Leyerth Brouwerijen (Urthel) Urthel Samaranth', 'Brouwerij Van Honsebrouck N.V. Kasteel Cuvée Du Chateau', 'Brouwerij De Landtsheer NV Malheur 12°', \"Brasserie de l'Abbaye du Val-Dieu Val-Dieu Grand Cru\", 'De Struise Brouwers St. Amatus 12', 'Charleville Vineyard Microbrewery Box Of Chocolate', 'Sly Fox Brewing Company Ichor', 'Arcense Stoombierbouwerij (Hertog Jan Brouwerij) Hertog Jan Grand Prestige', \"Brouwerij Smisje 't Smisje BBBourgondier\", 'Brewery Ommegang Bourbon Barrel Aged Three Philosophers', 'New Belgium Brewing Fat Tire Amber Ale', 'Tröegs Brewing Company Tröegs Hopback Amber Ale', 'Lagunitas Brewing Company Censored', 'Bear Republic Brewing Co. Red Rocket Ale', 'Maine Beer Company Zoe', \"Rogue Ales Santa's Private Reserve Ale\", \"North Coast Brewing Co. Ruedrich's Red Seal Ale\", 'Anderson Valley Brewing Company Boont Amber Ale', 'Cigar City Brewing Tocobaga Red Ale', 'Highland Brewing Highland Gaelic Ale', 'Rogue Ales American Amber Ale', 'Breckenridge Brewery Avalanche Ale', 'Ithaca Beer Company Cascazilla', 'Rogue Ales St. Rogue Red', 'Speakeasy Ales & Lagers Prohibition Ale', 'Mendocino Brewing Company Red Tail Ale', 'Switchback Brewing Company Switchback Ale', 'Lakefront Brewery, Inc. Fixed Gear', 'BrewDog 5 A.M. Saint', \"Rogue Ales Captain Sig's Northwestern Ale\", 'AleSmith Brewing Company AleSmith My Bloody Valentine', 'Ale Asylum Ambergeddon', 'AleSmith Brewing Company AleSmith Evil Dead Red', \"Coronado Brewing Company Mermaid's Red Ale\", 'The Bruery Loakal Red', 'The Duck-Rabbit Craft Brewery Duck-Rabbit Amber Ale', 'Ninkasi Brewing Company Believer', 'Saint Arnold Brewing Company Saint Arnold Amber Ale', 'Mad River Brewing Company Jamaica Red Ale', 'Local Option Morning Wood', 'Boston Beer Company (Samuel Adams) Samuel Adams Mighty Oak Ale', 'New Glarus Brewing Company Snowshoe Red Ale', 'Brewery Vivant Big Red Coq', 'Tröegs Brewing Company Tröegs Nugget Nectar', \"Oskar Blues Grill & Brew G'Knight Imperial Red Ale\", 'Green Flash Brewing Co. Green Flash Hop Head Red Ale', 'Lagunitas Brewing Company Lagunitas Lucky 13 Mondo Large Red Ale', 'Great Lakes Brewing Company Great Lakes Nosferatu', 'Ballast Point Brewing Company Tongue Buckler - Imperial Red Ale', 'Grand Teton Brewing Co. Pursuit Of Hoppiness', \"Short's Brewing Company Aorta Ale (Double Red Ale)\", 'Mad River Brewing Company Double Dread Imperial Red Ale', 'Peak Organic Brewing Company King Crimson', 'Upland Brewing Company Ard Ri', 'New Albanian Brewing Company - Pizzeria and Public House Elector Imperial Red Ale', 'Odell Brewing Company Odell Extra Special Red Ale', 'Iron Horse Brewery Double Rainbow Ale', 'Marble Brewery Imperial Red Ale', 'Grand Teton Brewing Co. Bone Warmer Amber Ale', 'Lavery Brewing Company Lavery Imperial Red Ale', 'Columbus Brewing Company Columbus Uncle Rusty', 'Austin Beerworks Battle Axe', \"Guinness Ltd. Smithwick's\", 'Boston Beer Company (Samuel Adams) Samuel Adams Irish Red', \"Great Lakes Brewing Company Great Lakes Conway's Irish Ale\", \"Smithwick's Brewery / Irish Ale Breweries Ltd Smithwick's Ale\", 'Guinness Ltd. Kilkenny Irish Cream Ale', \"Murphy Brewery Ireland Limited Murphy's Irish Red Beer\", 'Boulevard Brewing Co. Irish Ale', 'Karl Strauss Brewing Company Red Trolley Ale', \"Carlow Brewing Company O'Hara's Irish Red\", 'Boston Beer Company (Samuel Adams) Samuel Adams Brick Red', \"Short's Brewing Company Short's The Magician\", 'Matt Brewing Company Saranac Irish Red Ale', \"Pabst Brewing Company McSorley's Irish Pale Ale\", \"Alpine Beer Company McIlhenney's Irish Red\", 'Thomas Creek Brewery River Falls Red Ale', 'Thomas Hooker Brewing Company Thomas Hooker Irish Style Red Ale', 'Casco Bay Brewing Co. Casco Bay RipTide Red Ale', \"BJ's Chicago Pizza & Brewery Inc. BJ's Jeremiah Red Ale\", \"Moylan's Brewery Danny's Irish Style Red Ale\", 'Aviator Brewing Company HotRod Red', 'Starr Hill Brewery Starr Hill Amber Ale', 'The Porterhouse Brewing Company Porterhouse Red', 'North Country Brewing Station 33 Firehouse Red', 'Flying Bison Brewing Company Aviator Red', \"Thomas Caffrey Brewing Co. Caffrey's Irish Ale\", 'Tighthead Brewing Company Scarlet Fire', 'Smoky Mountain Brewery & Restaurant Cherokee Red Ale', 'Thirsty Dog Brewing Company Irish Setter Red', \"BJ's Restaurant & Brewhouse Jeremiah Red Ale\", 'Dragonmead Microbrewery Dragonmead Erik The Red', 'Long Ireland Beer Company Celtic Ale', 'Rock Bottom Restaurant & Brewery Fire Chief Ale', \"Wachusett Brewing Company Quinn's Amber Ale\", 'Dunedin Brewery Red Head Red Ale', 'Franciscan Well Micro Brewery Rebel Red', 'Garrison Brewing Company Irish Red Ale', \"Sly Fox Brewing Company Seamus' Irish Red Ale\", 'Titletown Brewing Company Johnny \"Blood\" McNally Red Ale', 'Live Oak Brewing Company Live Oak Roggenbier', 'Mill Street Brew Pub Mill Street Schleimhammer Roggenbier', 'Stiftsbrauerei Schlägl Schlägl Bio-Roggen', 'Thurn Und Taxis Regensburg Gmbh Fürstliche Brauerei Thurn Und Taxis Roggen', 'Brauerei Schrems Schremser Roggen Bier', 'Beaver Brewing Company Roggenator', 'Real Ale Brewing Company Roggenbier', 'Vintage Brewing Company Tippy Toboggon', 'Iron Hill Brewery & Restaurant Roggenbier', 'Sweetwater Tavern & Brewery Crazy Jackass Ale', 'The Bier Brewery Roggenschnizzle', 'Real Ale Brewing Company Dunkelroggen', 'Brasserie Dieu Du Ciel Barbarossa', 'Browar Kormoran Orkiszowe', 'Taps Fish House & Brewery Roggen', 'Iron Hill Brewery & Restaurant Rye Halladay', \"Founders Brewing Company Founders Red's Rye PA\", 'Sierra Nevada Brewing Co. Sierra Nevada Ruthless Rye IPA', 'Bear Republic Brewing Co. Hop Rod Rye', 'Boulevard Brewing Co. Rye-on-Rye', 'Two Brothers Brewing Company Cane & Ebel', 'Brasserie Dieu Du Ciel Route Des Épices (Ale Rousse Au Poivre)', 'Real Ale Brewing Company Full Moon Pale Rye Ale', 'Arcadia Brewing Company Arcadia Sky High Rye', 'Blue Point Brewing Company Blue Point Rastafa Rye Ale', 'Boston Beer Company (Samuel Adams) Samuel Adams Revolutionary Rye Ale', 'Upright Brewing Company Six (#6)', 'New Holland Brewing Company Rye P.A. Hatter', 'Rising Tide Brewing Company Daymark', \"Lawson's Finest Liquids Permagrin Rye Pale Ale\", 'Boulevard Brewing Co. Westside Rye', 'Mayflower Brewing Company Summer Rye', 'Dock Street Brewery & Restaurant Rye IPA', 'Madison River Brewing Company Salmon Fly Honey Rye', 'Black Market Brewing Co. Rye IPA', 'The Bronx Brewery Pale Ale', 'Telluride Brewing Co. Bridal Veil Rye Pale Ale', 'Founders Brewing Company Founders Backwoods Bastard', 'Founders Brewing Company Founders Dirty Bastard', 'Oskar Blues Grill & Brew Old Chub - Scottish Style Ale', 'Orkney Brewery SkullSplitter', 'Dark Horse Brewing Company Dark Horse Scotty Karate Scotch Ale', 'Great Divide Brewing Company Claymore Scotch Ale', 'Innis & Gunn Rum Cask Oak Aged Beer', 'AleSmith Brewing Company AleSmith Wee Heavy', 'Traquair House Brewery Lld Traquair House Ale', 'Boston Beer Company (Samuel Adams) Samuel Adams Scotch Ale', 'Belhaven Brewery Company Ltd. Wee Heavy', 'Traquair House Brewery Lld Traquair Jacobite', \"Moylan's Brewery Kilt Lifter Scotch Ale\", 'Cigar City Brewing Big Sound Scotch Ale', 'Boston Beer Company (Samuel Adams) Samuel Adams Wee Heavy (Imperial Series)', 'Magic Hat Brewing Company Jinx', 'Brasserie Dieu Du Ciel Équinoxe Du Printemps', 'Smuttynose Brewing Company Smuttynose Scotch Style Ale (Big Beer Series)', 'The Duck-Rabbit Craft Brewery Duck-Rabbit Wee Heavy Scotch Style Ale', 'Brasserie de Silly S.A. Scotch Silly', 'AleSmith Brewing Company AleSmith Wee Heavy - Barrel Aged', 'Lake Louie Brewery Company Lake Louie Warped Speed Scotch Ale', 'Monday Night Brewing Drafty Kilt Scotch Ale', 'Rahr & Sons Brewing Company Iron Thistle', 'New England Brewing Co. Wet Willy Scotch Ale', 'Tyranena Brewing Company Sheep Shagger Scotch Ale', 'French Broad Brewing Co. Wee Heavy-er Scotch Style Ale', \"Erie Brewing Co. Ol' Red Cease And Desist\", \"Tyranena Brewing Company Shaggin' In The Wood\", 'Sierra Nevada Brewing Co. Sierra Nevada Scotch Ale', 'Big Sky Brewing Company Heavy Horse Scotch Ale', 'Sprecher Brewing Company Pipers Scotch-Style Ale', 'Brau Brothers Brewing Co. LLC Bancreagie Peated Scotch Ale', \"Lake Louie Brewery Company Louie's Reserve Scotch Ale\", \"Hoppin' Frog Brewery Outta Kilter\", 'Three Floyds Brewing Co. & Brewpub Robert The Bruce Scottish Ale', 'Belhaven Brewery Company Ltd. Belhaven Scottish Ale', 'Odell Brewing Company Oak Aged 90 Shilling', 'Innis & Gunn Innis And Gunn Oak Aged Beer', 'Brooklyn Brewery Brooklyn Winter Ale', 'Four Peaks Brewing Company Kilt Lifter Scottish Style Ale', 'Erie Brewing Co. Railbender Ale', 'Long Trail Brewing Co. Hibernator', 'Sun King Brewing Company Wee Mac Brown', 'Orkney Brewery Dark Island', 'Ballast Point Brewing Company Pepper Piper Down (Habanero)', \"Belhaven Brewery Company Ltd. St. Andrew's Ale\", 'Appalachian Brewing Company Jolly Scot Scottish Ale', 'Bristol Brewing Company Laughing Lab Scottish-Style Ale', 'Orkney Brewery The Red MacGregor', 'Thirsty Dog Brewing Company Twisted Kilt Scotch Ale', 'Empyrean Brewing Company Burning Skye Scottish Ale', 'Inveralmond Brewery Ltd., The Blackfriar', \"Fargo Brewing Company Stone's Throw Scottish Ale\", 'Orkney Brewery Dark Island Reserve', 'The Caledonian Brewing Company Caledonian 80/-', \"Pelican Pub & Brewery MacPelican's Scottish Style Ale\", 'Inveralmond Brewery Ltd., The Lia Fail', \"Gritty McDuff's Brewing Company Gritty McDuff's Scottish Ale\", 'Broughton Ales Ltd Black Douglas Ale', 'Keweenaw Brewing Company Olde Ore Dock Scottish Ale', 'Ballast Point Brewing Company Piper Down Scottish Ale (Bourbon Barrel Aged)', 'Williams Brothers Brewing Company 80/- (Eighty Shilling)', 'Fearless Brewing Company Scottish Ale', \"Florida Beer Company Hog's Head Brew (Harry Potter)\", 'Sun King Brewing Company Java Mac', 'Sheepscot Valley Brewing Company Pemaquid Ale', 'Shoreline Brewery And Restaurant Beltaine Scottish Ale', 'Isle Of Skye Brewery Black Cuillin', 'Dark Horse Brewing Company Dark Horse Fore Smoked Stout', 'Yazoo Brewing Company Sue', 'The Bruery Smoking Wood Rye Barrel Aged', 'Evil Twin Brewing Evil Twin Ashtray Heart', 'HaandBryggeriet Norwegian Wood', 'Nøgne Ø - Det Kompromissløse Bryggeri A/S Sunturnbrew', 'New Holland Brewing Company Charkoota Rye', 'Hill Farmstead Brewery Holger Danske', 'Brouwerij De Molen Hemel & Aarde', 'Midnight Sun Brewing Co. Bar Fly', 'Three Floyds Brewing Co. & Brewpub Ham On Rye', 'Professor Fritz Briem Professor Fritz Briem Grodziskie', 'Brouwerij De Molen Bloed, Zweet & Tranen', 'Bayou Teche Brewery LA-31 Boucanèe', 'Brouwerij De Molen Rook & Vuur', 'Brasserie Dieu Du Ciel Charbonniere', 'White Birch Brewing White Birch Tavern Ale', 'Brasseurs Illimités Simple Malt Double Porter', \"Brasserie Fischer / Fischer Biere d' Alsace Adelscott\", 'the Nils Oscar Company Nils Oscar Rökporter', 'Yeastie Boys Rex Attitude', 'Fullsteam Brewery Hogwash!', 'Brouwerij De Dochter van de Korenaar Bravoure', \"Jackie O's Pub & Brewery Hogwash\", 'Flying Dog Brewery Backyard Ale', 'Crown Valley Brewing & Distilling Co. Black Cabin Smoked Ale', \"Bootlegger's Brewery Wild Fire Wheat\", 'Live Oak Brewing Company Live Oak Oaktoberfest', 'Dogfish Head Brewery Festina Pêche', 'Professor Fritz Briem Professor Fritz Briem 1809 Berliner Weisse', 'Three Floyds Brewing Co. & Brewpub Deesko', 'Bear Republic Brewing Co. Tartare', 'White Birch Brewing White Birch Berliner Weisse', 'Gasthaus & Gosebrauerei Bayerischer Bahnhof Berliner Style Weisse', 'Ballast Point Brewing Company Sour Wench Blackberry Ale', 'Berliner Kindl Brauerei Berliner Kindl Weisse', \"Jackie O's Pub & Brewery Berliner Weiss\", 'Bend Brewing Company Ching Ching', 'New Belgium Brewing La Folie', \"Brouwerij Van Steenberge N.V. Monk's Café Flemish Sour Ale\", 'Deschutes Brewery The Dissident', 'Brouwerij Liefmans Goudenband', 'Goose Island Beer Co. Madame Rose', 'Captain Lawrence Brewing Co. Rosso E Marrone', 'Brouwerij Van Honsebrouck N.V. Bacchus', 'HaandBryggeriet Haandbakk', 'Picobrouwerij Alvinne / Den Bierzolder Cuvee Freddy', 'Kuhnhenn Brewing Company Kuhnhenn Cherry Olde Brune', 'De Struise Brouwers Aardmonnik - Earthmonk', 'LoverBeer Madamin', 'Brasserie Trois Dames Grande Dame Oud Bruin', 'Trinity Brewing Company Old Growth', 'Picobrouwerij Alvinne / Den Bierzolder Wild Undressed', 'Grand Teton Brewing Co. Oud Bruin', \"Jackie O's Pub & Brewery Chunga's Old Bruin\", 'Three Floyds Brewing Co. & Brewpub SoBro', 'Brouwerij Liefmans Oud Bruin', 'Snake River Brewing Company & Brewpub Le Serpent', 'Brouwerij Verhaeghe Duchesse De Bourgogne', 'Brouwerij Rodenbach N.V. Rodenbach Grand Cru', 'Brouwerij Bockor N.V. Cuvee Des Jacobins Rouge', 'The Lost Abbey Double Red Poppy', 'Jolly Pumpkin Artisan Ales La Roja', 'Brouwerij Rodenbach N.V. Rodenbach Classic (Red)', 'Brouwerij Rodenbach N.V. Rodenbach Caractère Rouge', 'Cascade Brewing / Raccoon Lodge & Brewpub Cascade Kriek Ale', 'Brouwerij Rodenbach N.V. Alexander Rodenbach', \"Brouwerij Strubbe Ichtegem's Grand Cru\", 'Panil Barriquée (Sour Version)', 'Brouwerij Verhaeghe Vichtenaar', 'Brouwerij Verhaeghe Verhaeghe Echte Kriek / Echte Kriekenbier', 'De Proefbrouwerij (bvba Andelot) Zoetzuur Flemish Ale', 'Hair of the Dog Brewing Company / Brewery and Tasting Room Michael', 'Jolly Pumpkin Artisan Ales La Roja - Grand Reserve', 'Jolly Pumpkin Artisan Ales Roja De Kriek', 'Panil Barriquée (Italy Version)', 'Brouwerij Bockor N.V. Jacobins Kriek', 'Birrificio Del Ducato La Luna Rossa', 'Brouwerij Rodenbach N.V. Rodenbach Foederbier', 'Alpine Beer Company Ned', 'Portsmouth Brewery Portsmouth Flanders Red - Maude', 'The Vermont Pub & Brewery Tulach Leis', 'Gasthaus & Gosebrauerei Bayerischer Bahnhof Leipziger Gose', 'Upright Brewing Company Gose', 'Southern Tier Brewing Company Imperial Cherry Saison', 'Founders Brewing Company Founders KBS (Kentucky Breakfast Stout)', 'Goose Island Beer Co. Bourbon County Brand Stout', 'Oskar Blues Grill & Brew Ten FIDY', 'Deschutes Brewery The Abyss', 'Goose Island Beer Co. Bourbon County Brand Coffee Stout', 'AleSmith Brewing Company AleSmith Speedway Stout', 'Founders Brewing Company Founders CBS Imperial Stout', 'Victory Brewing Company Storm King Stout', 'Great Divide Brewing Company Barrel Aged Yeti', 'Southern Tier Brewing Company Choklat', 'Brasserie Dieu Du Ciel Péché Mortel (Bourbon Barrel)', 'Dogfish Head Brewery World Wide Stout', 'Great Divide Brewing Company Oak Aged Yeti Imperial Stout', 'Lagunitas Brewing Company Cappuccino Stout', 'Evil Twin Brewing Evil Twin Biscotti Break', \"Cigar City Brewing Hunahpu's Imperial Stout\", 'The Bruery Black Tuesday', \"Dogfish Head Brewery Miles Davis' Bitches Brew\", 'Great Divide Brewing Company Espresso Oak Aged Yeti Imperial Stout', 'Southern Tier Brewing Company Warlock', 'Great Divide Brewing Company Chocolate Oak Aged Yeti', 'Green Flash Brewing Co. Double Stout', 'Perennial Artisan Ales Abraxas', 'Mikkeller ApS Beer Geek Brunch Weasel', 'The Bruery Chocolate Rain', \"Central Waters Brewing Company Brewer's Reserve Bourbon Barrel Stout\", 'Boulevard Brewing Co. Dark Truth Stout', 'Bear Republic Brewing Co. Big Bear Black Stout', 'Southern Tier Brewing Company Mokah', 'AleSmith Brewing Company AleSmith Speedway Stout - Barrel Aged', 'Oskar Blues Grill & Brew Ten Fidy (Oak-Aged)', 'FiftyFifty Brewing Co. Imperial Eclipse Stout - Elijah Craig (12 Year)', 'AleSmith Brewing Company AleSmith Speedway Stout - Vietnamese Coffee', 'Goose Island Beer Co. Bourbon County Brand Vanilla Stout', 'Rogue Ales Chocolate Stout', 'Deschutes Brewery Obsidian Stout', 'Sierra Nevada Brewing Co. Sierra Nevada Stout', 'Dogfish Head Brewery Chicory Stout', 'Maine Beer Company Mean Old Tom', 'Dark Horse Brewing Company Dark Horse Tres Blueberry Stout', 'Brasserie Dieu Du Ciel Aphrodisiaque', 'Avery Brewing Company Out Of Bounds Stout', 'Highland Brewing Highland Black Mocha Stout', 'Lakefront Brewery, Inc. Fuel Cafe (Coffee Flavored Stout)', 'New Glarus Brewing Company Coffee Stout', 'Central Waters Brewing Company Brewhouse Coffee Stout', 'Harpoon Brewery Harpoon Chocolate Stout', 'Arcadia Brewing Company Arcadia Cocoa Loco', 'Bison Brewing Bison Organic Chocolate Stout', 'Evolution Craft Brewing Company Rise Up Stout', 'Alpine Beer Company Captain Stout', 'Hinterland Brewery Restaurant Luna Coffee Stout', 'Coronado Brewing Company Blue Bridge Coffee Stout', 'Pisgah Brewing Co. Pisgah Valdez', 'Right Brain Brewery CEO Stout', 'New Orleans Lager & Ale Brewing Company (NOLA) Irish Channel Stout', 'Hopworks Urban Brewery Survival \"7-Grain\" Stout', 'Kuhnhenn Brewing Company Kuhnhenn Crème Brûlée Java Stout', \"Bootlegger's Brewery Black Phoenix (Chipotle Coffee Ale)\", \"Jackie O's Pub & Brewery Java The Stout\", 'Olde Hickory Brewery Hickory Stick Stout', 'Spring House Brewing Company Planet Bean Coffee Stout', 'DuClaw Brewing Company Naked Fish', 'Magic Hat Brewing Company Heart Of Darkness', 'Belhaven Brewery Company Ltd. Belhaven Scottish Stout', 'Orkney Brewery Dragonhead Stout', \"Brasserie Dupont sprl Monk's Stout Dupont\", 'Uehara Shuzou Co. Ltd. / Echigo Beer Pub Echigo Stout', 'Hook Norton Brewery Co. Ltd. Double Stout', \"Wye Valley Brewery Dorothy Goodbody's Wholesome Stout\", 'Cooperstown Brewing Company Strike Out Stout', 'Ridgeway Brewing Bad King John', 'Fordham Brewing Company Oyster Stout', 'Hop Back Brewery plc Hopback Entire Stout', 'Shepherd Neame Ltd Double Stout', 'Middle Ages Brewing Co., Ltd. Blackheart Stout', 'Williams Brothers Brewing Company March Of The Penguins', 'Cannery Brewing Company Maple Stout', 'Brasseurs Du Nord Inc. Boréale Noire', 'Meantime Brewing Company Limited London Stout', 'Magic Rock Brewing Dark Arts', \"Samuel Smith Old Brewery (Tadcaster) Samuel Smith's Old Brewery Extra Stout\", 'Schmohz Brewing Company Bonecrusher Stout', 'Garrison Brewing Company Martello Stout', 'Lost Rhino Brewing Company Woody Stout', 'Marshall Wharf Brewing Company / Three Tides Restaurant Pemaquid Oyster Stout', \"Belhaven Brewery Company Ltd. Belhaven McCallum's Stout\", 'Cervecera Mexicana S.A. De C.V. Potro', 'Black Creek Historic Brewery Black Creek Stout', 'Lancaster Brewery Company Ltd Black', 'Titanic Brewery Titanic Stout', 'Guinness Ltd. Guinness Foreign Extra Stout', 'Ceylon / Lion Brewery Limited Lion Stout', 'Ballast Point Brewing Company Indra Kunindra', 'Left Hand Brewing Company Fade To Black Volume 1 - Foreign Export Stout', 'Coopers Brewery Limited Coopers Best Extra Stout', 'Ridgeway Brewing Lump Of Coal', 'Brouwerij De Dolle Brouwers De Dolle Extra Export Stout', 'Snake River Brewing Company & Brewpub Snake River Zonker Stout', 'Desnoes & Geddes Limited Dragon Stout', 'Pelican Pub & Brewery Tsunami Stout', 'La Cumbre Brewing Co. Malpais Stout', 'Flying Fish Brewing Company Exit 1', \"Cisco Brewers Inc. Captain Swain's Extra Stout\", 'Steel Toe Brewing Dissent', 'Marin Brewing Company San Quentin Breakout Stout', 'Upslope Brewing Company Stout', 'The Kernel Brewery Export Stout', 'Brasserie De Cazeau Cazeau Tournay Noire', 'Moat Mountain Smoke House & Brewing Co. Moat Stout', 'Ridgeway Brewing Foreign Export Stout', 'Harar Beer Factory Hakim Stout', 'Scheldebrouwerij Oesterstout', \"Oggi's Pizza & Brewing Co. Black Magic Stout\", 'Cigar City Brewing Hot Blooded Foreign Stout', 'Zero Gravity Craft Brewery / American Flatbread Extra Stout', 'Jopen Bier BV Haarlem Jopen Extra Stout', 'Big City Brewing CO LTD Jamaica Stout', 'Crossroads Brewing Company Black Rock Stout', 'COAST Brewing Company Bulls Bay Oyster Stout', 'Bahamian Brewery Beverage & Co. Ltd. Strong Back Stout', 'Guinness Nigeria PLC Guinness Foreign Extra Stout (Africa)', 'Kuhnhenn Brewing Company Kuhnhenn Foreign Export Stout', 'Cascade Brewery Company Ltd. Cascade Export Stout', 'Tsingtao Brewery Co., Ltd. Tsingtao Stout', 'Liberty Street Brewing Company Starkweather Stout', 'Ceres Brewery (Royal Unibrew) Ceres Royal Stout (Ceres Extra Strong Stout)', 'Guinness Ltd. Guinness Draught', 'Guinness Ltd. Guinness Extra Stout (Original)', \"Murphy Brewery Ireland Limited Murphy's Irish Stout\", 'North Coast Brewing Co. Old #38 Stout', \"Carlow Brewing Company O'Hara's Irish Stout\", 'Three Floyds Brewing Co. & Brewpub Black Sun Stout', 'Beamish & Crawford Plc. Beamish Irish Stout', 'Mendocino Brewing Company Black Hawk Stout', 'Brooklyn Brewery Brooklyn Dry Stout', 'Yards Brewing Co. Love Stout', 'Shipyard Brewing Co. Blue Fin Stout', 'Guinness Ltd. Guinness Draught Extra Cold', 'Victory Brewing Company Donnybrook Stout', 'Starr Hill Brewery Dark Starr Stout', 'Russian River Brewing Company O.V.L. Stout', 'The Porterhouse Brewing Company Oyster Stout', \"Gritty McDuff's Brewing Company Gritty McDuff's Black Fly Stout\", \"Moylan's Brewery Moylans Dragoons Dry Irish Stout\", 'Boulevard Brewing Co. Dry Stout', 'Guinness Ltd. Guinness Extra Stout (Canada)', 'Fuller Smith & Turner PLC Black Cab', \"Short's Brewing Company Short's Uncle Steve's Irish Stout\", 'The Porterhouse Brewing Company Wrasslers XXXX Stout', 'Mill Street Brew Pub Mill Street Cobblestone Stout', \"Sly Fox Brewing Company O'Reilly's Irish Stout\", 'Matt Brewing Company Saranac Irish Stout', 'Brasserie de la Senne Stouterik', 'Portsmouth Brewery Portsmouth Black Cat Stout', \"Carlow Brewing Company O'Hara's Leann Folláin\", 'Furthermore Beer Three Feet Deep', 'The Porterhouse Brewing Company Plain Porter', 'Cigar City Brewing Hillsborough River Dry Stout (Patio Tools) - Cedar Aged (Humidor Series)', 'Appalachian Brewing Company Susquehanna Stout', 'Sprecher Brewing Company Irish Style Stout', \"Le Trou Du Diable La Sang-d'encre\", 'The Porterhouse Brewing Company Celebration Stout', 'Empire Brewing Company Black Magic Stout', 'Cigar City Brewing Hillsborough River Dry Stout (Patio Tools)', 'Christian Moerlein Brewing Company Friend Of An Irishman Stout', 'Guinness Ltd. Guinness Original', 'Sun King Brewing Company Ring Of Dingle Irish Stout', 'Public House Brewing Company Revalations Stout', 'Founders Brewing Company Founders Breakfast Stout', \"Samuel Smith Old Brewery (Tadcaster) Samuel Smith's Oatmeal Stout\", 'Terrapin Beer Company Terrapin Coffee Oatmeal Imperial Stout', 'Rogue Ales Shakespeare Oatmeal Stout', 'Firestone Walker Brewing Co. Velvet Merlin (Merkin)', 'Mikkeller ApS Beer Geek Breakfast', 'Anderson Valley Brewing Company Barney Flats Oatmeal Stout', 'New Holland Brewing Company New Holland The Poet', 'Tröegs Brewing Company Tröegs Java Head Stout', \"Hoppin' Frog Brewery Barrel Aged B.O.R.I.S. Oatmeal Imperial Stout\", 'Breckenridge Brewery Oatmeal Stout', 'McAuslan Brewing St-Ambroise Oatmeal Stout', 'Founders Brewing Company Founders Oatmeal Stout', 'Lost Coast Brewery and Cafe 8 Ball Stout', 'Dark Horse Brewing Company Dark Horse One Oatmeal Stout Ale', \"Elysian Brewing Company Dragon's Tooth Oatmeal Stout\", 'Ipswich Ale Brewery Ipswich Oatmeal Stout', \"Trader Joe's Brewing Company Trader Joe's Stockyard Oatmeal Stout\", 'Ninkasi Brewing Company Oatis', 'Hill Farmstead Brewery Earl Oatmeal Coffee Stout', 'Ninkasi Brewing Company Vanilla Oatis', 'Mikkeller ApS Beer Geek Bacon', 'Goose Island Beer Co. Oatmeal Stout', \"Buffalo Bill's Brewery Buffalo Bill's Blueberry Oatmeal Stout\", 'Boulder Beer / Wilderness Pub Bourbon Barrel Obovoid', 'Independence Brewing Co. Convict Hill Oatmeal Stout', 'Great Lakes Brewing Company Great Lakes Ohio City Oatmeal Stout', 'Good People Brewing Company Coffee Oatmeal Stout', 'Alaskan Brewing Co. Alaskan Stout', 'Summit Brewing Company Summit Oatmeal Stout', 'Oakshire Brewing Overcast Espresso Stout', 'Fremont Brewing Company Dark Star Oatmeal Stout', \"Tyranena Brewing Company Down 'N Dirty Chocolate Oatmeal Stout\", 'North Coast Brewing Co. Old Rasputin XI', 'Firestone Walker Brewing Co. Parabola', 'Brooklyn Brewery Brooklyn Black Chocolate Stout', 'Sierra Nevada Brewing Co. Sierra Nevada Imperial Stout', 'Three Floyds Brewing Co. & Brewpub Dark Lord Imperial Stout', 'Surly Brewing Company Darkness', 'Dark Horse Brewing Company Plead The 5th Imperial Stout', \"Samuel Smith Old Brewery (Tadcaster) Samuel Smith's Imperial Stout\", 'Great Lakes Brewing Company Great Lakes Blackout Stout', 'Dark Horse Brewing Company Dark Horse Bourbon Barrel Aged Plead The 5th', \"Cigar City Brewing Marshal Zhukov's Imperial Stout\", \"Hoppin' Frog Brewery B.O.R.I.S. The Crusher Oatmeal-Imperial Stout\", 'Brooklyn Brewery Brooklyn Black OPS', 'Lagunitas Brewing Company Black Rain Imperial Stout', 'Thirsty Dog Brewing Company Siberian Night Imperial Stout', 'Great Lakes Brewing Company Great Lakes Barrel-Aged Blackout Stout', 'De Struise Brouwers Black Albert', 'Clown Shoes Blaecorn Unidragon', 'Boston Beer Company (Samuel Adams) Samuel Adams Imperial Stout', 'Heavy Seas Beer Heavy Seas - Peg Leg (Imperial Stout)', 'Foothills Brewing Company Sexual Chocolate', \"Hoppin' Frog Brewery D.O.R.I.S. The Destroyer Double Imperial Stout\", 'New England Brewing Co. Imperial Stout Trooper', 'Rogue Ales Imperial Stout', 'Foothills Brewing Company Barrel Aged Sexual Chocolate', 'Smuttynose Brewing Company Smuttynose Imperial Stout (Big Beer Series)', 'Thirsty Dog Brewing Company Bourbon Barrel Aged Siberian Night', \"Jackie O's Pub & Brewery Dark Apparition\", 'Left Hand Brewing Company Wake Up Dead', 'Two Brothers Brewing Company Northwind Imperial Stout', 'Three Floyds Brewing Co. & Brewpub Oak Aged Dark Lord Imperial Stout', 'Jester King Craft Brewery Black Metal Imperial Stout', 'Nøgne Ø - Det Kompromissløse Bryggeri A/S Imperial Stout', 'The Duck-Rabbit Craft Brewery Duck-Rabbit Rabid Duck', 'Big Sky Brewing Company Ivan The Terrible', 'Left Hand Brewing Company Left Hand Milk Stout', 'Boston Beer Company (Samuel Adams) Samuel Adams Cream Stout', 'Terrapin Beer Company Terrapin Moo-Hoo Chocolate Milk Stout', 'Southern Tier Brewing Company 2X Stout', 'The Duck-Rabbit Craft Brewery Duck-Rabbit Milk Stout', 'Three Floyds Brewing Co. & Brewpub Moloko', 'Hardywood Park Craft Brewery Gingerbread Stout', 'Lancaster Brewing Company Milk Stout', 'Dark Horse Brewing Company Dark Horse Too Cream Stout', \"St. Peter's Brewery Co Ltd St. Peter's Cream Stout\", 'Saugatuck Brewing Company Neapolitan Milk Stout', 'Breckenridge Brewery 72 Imperial Chocolate Cream Stout', 'Butternuts Beer & Ale Moo Thunder Stout', 'Keegan Ales Mothers Milk Stout', 'Whitbread PLC Mackeson Triple XXX Stout', 'River Horse Brewing Co. Oatmeal Milk Stout Ale Redux', 'Brau Brothers Brewing Co. LLC Moo Joos', \"Lagunitas Brewing Company Brown Shugga'\", 'Lagunitas Brewing Company Undercover Investigation Shut-down Ale', 'Lagunitas Brewing Company Hairy Eyeball Ale', 'Boston Beer Company (Samuel Adams) Samuel Adams Utopias', 'The Bruery Melange No. 3', 'The Lost Abbey Deliverance', \"The Lost Abbey The Angel's Share - Bourbon Barrel-Aged\", 'Hair of the Dog Brewing Company / Brewery and Tasting Room Fred', 'Sierra Nevada Brewing Co. Life & Limb', 'Fremont Brewing Company Bourbon Barrel Abominable', 'Rogue Ales Double Dead Guy Ale', 'Boulevard Brewing Co. Chocolate Ale', 'Mendocino Brewing Company Eye of the Hawk', 'Hair of the Dog Brewing Company / Brewery and Tasting Room Matt', \"The Lost Abbey The Angel's Share - Brandy Barrel-Aged\", 'Avery Brewing Company Ale To The Chief', 'Hair of the Dog Brewing Company / Brewery and Tasting Room Fred From The Wood', 'RJ Rockers Brewing Company Bell Ringer', 'Hair of the Dog Brewing Company / Brewery and Tasting Room Bourbon Fred From The Wood', \"Lawson's Finest Liquids Maple Tripple Ale\", 'Middle Ages Brewing Co., Ltd. Wailing Wench', \"Iron Horse Brewery Quilter's Irish Death\", 'Long Trail Brewing Co. Triple Bag', \"Shmaltz Brewing Company He'Brew Origin Pomegranate Ale\", 'Cold Spring Brewing Co. John Henry 3 Lick Spiker Ale', 'Ballast Point Brewing Company Barmy Ale', 'Minhas Craft Brewery Boatswain H.L.V. Ale (Heavy Lift Vessel)', 'Berkshire Brewing Company Inc. Raspberry Strong Ale', '10 Barrel Brewing Co. Pray For Snow', 'DuClaw Brewing Company Colossus', 'FiftyFifty Brewing Co. BART', 'Keegan Ales Super Kitty', 'Bières de Chimay S.A. Chimay Grande Réserve (Blue)', 'Brasserie de Rochefort Trappistes Rochefort 8', 'Unibroue Trois Pistoles', \"Dogfish Head Brewery Raison D'etre\", 'Brouwerij Van Steenberge N.V. Gulden Draak (Dark Triple)', 'Tröegs Brewing Company Tröegs Mad Elf', 'North Coast Brewing Co. Brother Thelonious', 'Brouwerij Huyghe Delirium Nocturnum', 'Allagash Brewing Company Allagash Black', 'Brouwerij Huyghe Delirium Noël', 'Avery Brewing Company Collaboration Not Litigation Ale', \"Dogfish Head Brewery Raison D'extra\", \"21st Amendment Brewery Monk's Blood\", 'Brooklyn Brewery Brooklyn Local 2', \"Brasserie d'Achouffe N'Ice Chouffe\", 'Brouwerij Corsendonk Corsendonk Christmas Ale', 'Russian River Brewing Company Salvation', \"Brasserie d'Achouffe McChouffe\", 'Unibroue 17 Grande Réserve', 'Brouwerij De Dolle Brouwers De Dolle Oerbier', 'Jolly Pumpkin Artisan Ales Noel De Calabaza', 'AleSmith Brewing Company AleSmith Grand Cru Ale', 'The Lost Abbey 10 Commandments', 'Brasserie Caracole Nostradamus', 'Brouwerij Het Anker Gouden Carolus Classic', 'Brouwerij Het Anker Gouden Carolus Noël / Christmas', \"Brasserie de l'Abbaye des Rocs s.a. Abbaye Des Rocs Grand Cru Belgian Special Brown\", 'Kiuchi Brewery Hitachino Nest Extra High (XH)', 'Allagash Brewing Company Allagash Grand Cru', 'Brouwerij De Smedt / Brouwerij Affligem Affligem Noël', \"Brasserie de l'Abbaye des Rocs s.a. Abbaye Des Rocs [Brasserie Des Rocs Brune]\", 'Brouwerij der St. Benedictusabdij de Achelse Achel Trappist Extra', \"Brasserie de l'Abbaye des Rocs s.a. Brasserie Des Rocs Triple Impériale\", 'Green Flash Brewing Co. Green Flash Grand Cru', 'Brouwerij Het Anker Gouden Carolus Ambrio', 'Brasserie St. Feuillien St. Feuillien Cuvée De Noël', 'Brouwerij Van Steenberge N.V. Leute Bok', 'Brasserie Dupont sprl Moinette Brune', 'Abbaye de Leffe S.A. Leffe Radieuse', \"Midnight Sun Brewing Co. Monk's Mistress\", \"Captain Lawrence Brewing Co. Nor' Easter\", 'Brouwerij Duvel Moortgat NV Duvel', 'Brouwerij Huyghe Delirium Tremens', 'Goose Island Beer Co. Matilda', 'Russian River Brewing Company Damnation', 'North Coast Brewing Co. Pranqster', \"Brasserie d'Achouffe La Chouffe\", 'Brouwerij Van Steenberge N.V. Piraat 9', 'Brooklyn Brewery Brooklyn Local 1', 'The Bruery Mischief', 'Brouwerij Bosteels Pauwel Kwak', 'Brewery Ommegang Gnomegang', 'Brouwerij De Dolle Brouwers De Dolle Stille Nacht', 'AleSmith Brewing Company AleSmith Horny Devil', 'Allagash Brewing Company Allagash Confluence Ale', 'New England Brewing Co. 668 The Neighbor Of The Beast', \"Bierbrouwerij De Koningshoeven B.V. La Trappe Isid'or\", 'The Lost Abbey Inferno Ale', 'Kiuchi Brewery Hitachino Nest Red Rice Ale', 'Dogfish Head Brewery Faithfull Ale', 'Great Divide Brewing Company Hades Ale', 'Brouwerij De Dolle Brouwers De Dolle Arabier', 'De Proefbrouwerij (bvba Andelot) Reinaert Flemish Wild Ale', 'Flying Fish Brewing Company Grand Cru Winter Reserve', 'Brasserie Dupont sprl Moinette Blond', 'Brouwerij Het Anker Lucifer', 'Brouwerij De Dolle Brouwers De Dolle Bos Keun', 'Allagash Brewing Company Allagash Victoria Ale', 'Allagash Brewing Company Allagash Victor Ale', 'North Coast Brewing Co. Grand Cru', \"Brasserie Grain d' Orge (Brasserie Jeanne d'Arc SA) Belzebuth\", \"Mikkeller ApS It's Alive!\", 'Brouwerij De Landtsheer NV Malheur 10°', 'Brasserie Lefèbvre SA Barbãr (Belgian Honey Ale)', 'Nebraska Brewing Company Melange A Trois Reserve Series Aged In French Oak Chardonnay Barrels', 'Brouwerij Huyghe La Guillotine', 'Southampton Publick House Southampton Grand Cru', 'Brouwerij van Hoegaarden Hoegaarden Grand Cru', 'Three Floyds Brewing Co. & Brewpub Alpha Kong', 'Brasserie St. Feuillien St. Feuillien Grand Cru', 'Unibroue La Seigneuriale', 'Alltech’s Lexington Brewing and Distilling Co. Kentucky Bourbon Barrel Ale', 'Dogfish Head Brewery Immort Ale', \"Fuller Smith & Turner PLC Fuller's 1845\", \"Samuel Smith Old Brewery (Tadcaster) Samuel Smith's Yorkshire Stingo\", 'Lake Placid Craft Brewing Company Ubu Ale', \"D.L. Geary Brewing Company Geary's Hampshire Special Ale\", 'Wychwood Brewery Company Ltd King Goblin', 'Adnams plc, Sole Bay Brewery Adnams Broadside', 'Coopers Brewery Limited Coopers Extra Strong Vintage Ale', \"Greene King / Morland Brewery Hen's Tooth\", 'Black Sheep Brewery PLC Riggwelter Yorkshire Ale', 'Ridgeway Brewing Insanely Bad Elf', 'Greene King / Morland Brewery Old Crafty Hen', 'Ridgeway Brewing Seriously Bad Elf', 'J.W. Lees & Co (Brewers) Ltd Manchester Star Ale', 'Maritime Pacific Brewing Company Maritime Pacific Jolly Roger Christmas Ale', 'Thornbridge Brewery Bracia', 'J.W. Lees & Co (Brewers) Ltd Moonraker Ale', \"Ridgeway Brewing Reindeer's Revolt\", 'Cooperstown Brewing Company Pride Of Milford Special Ale', \"Middle Ages Brewing Co., Ltd. Wizard's Winter Ale\", 'Hook Norton Brewery Co. Ltd. Twelve Days', 'The Porterhouse Brewing Company Brainblasta', 'Element Brewing Company Extra Special Oak (ESO)', 'W.H. Brakspear & Sons plc Triple', 'Daleside Brewery Monkey Wrench Strong Ale', 'Daleside Brewery Morocco Ale', 'Otro Mundo Brewing Company Otro Mundo Strong Red Ale', 'Granite Brewery & Restaurant Peculiar', 'Tullibardine Distillery 1488 Whisky Beer', 'Otter Brewery Ltd Otter Head', 'Lord Nelson Brewery Hotel Old Admiral', \"St. Peter's Brewery Co Ltd St. Peter's The Saints Whisky Beer\", \"York Brewery Company Limited Centurion's Ghost Ale\", 'Daleside Brewery Ripon Jewel Ale', 'Unibroue La Fin Du Monde', 'Victory Brewing Company Golden Monkey', 'Brouwerij Westmalle Westmalle Trappist Tripel', 'Bières de Chimay S.A. Chimay Tripel (White)', 'Brouwerij Bosteels Tripel Karmeliet', 'Brouwerij St. Bernardus NV St. Bernardus Tripel', 'New Belgium Brewing Trippel Grand Cru', 'Unibroue Don de Dieu', 'Allagash Brewing Company Allagash Tripel Ale', \"Weyerbacher Brewing Co. Merry Monks' Ale\", 'Brouwerij Duvel Moortgat NV Maredsous 10 - Triple', 'The Bruery Trade Winds Tripel', 'Bierbrouwerij De Koningshoeven B.V. La Trappe Tripel (Koningshoeven / Dominus)', 'Boston Beer Company (Samuel Adams) Samuel Adams New World Tripel (Barrel Room Collection)', 'Brouwerij Corsendonk Corsendonk Agnus / Abbey Pale Ale', 'Brouwerij Het Anker Gouden Carolus Tripel', 'Brouwerij De Dolle Brouwers De Dolle Dulle Teve (Mad Bitch)', 'Dark Horse Brewing Company Dark Horse Sapient Trip Ale', \"Real Ale Brewing Company Devil's Backbone\", 'Brouwerij der St. Benedictusabdij de Achelse Trappist Achel 8° Blond', 'Brouwerij De Smedt / Brouwerij Affligem Affligem Tripel', \"Anderson Valley Brewing Company Brother David's Triple Abbey Style Ale\", 'Brouwerij Van Steenberge N.V. Bornem Triple', 'River Horse Brewing Co. Bourbon Tripel Horse', 'Captain Lawrence Brewing Co. Golden Delicious', 'Brasserie St. Feuillien St. Feuillien Triple', 'Dragonmead Microbrewery Dragonmead Final Absolution Trippel', 'Brouwerij Straffe Hendrik / Huisbrouwerij De Halve Maan Straffe Hendrik Brugse Tripel Bier 9°', 'Brouwerij St. Bernardus NV Watou Tripel', 'Green Flash Brewing Co. Green Flash Trippel', 'Russian River Brewing Company Damnation Batch 23 (Oak Aged)', \"Brasserie de l'Abbaye du Val-Dieu Val-Dieu Triple\", 'Brouwerij Van Steenberge N.V. Augustijn Ale', 'Brouwerij Van Honsebrouck N.V. Kasteel Triple', 'Unibroue Eau Benite', 'Sprecher Brewing Company Abbey Triple', 'Brouwerij Van Steenberge N.V. Tripel Van De Garre', 'Peak Organic Brewing Company Winter Session Ale', 'Berkshire Brewing Company Inc. River Ale', 'No Label Brewing Company Black Wit-O', 'Thunderhead Brewing Company Cornstalker Dark Wheat', 'Piney River Brewing Company Black Walnut Wheat', 'Greenbush Brewing Company Red Bud', 'Wild Rose Brewery & Taproom WRed Wheat', \"Barley Brown's Brewpub Shredder's Wheat\", \"Weston Brewing Company & O'Malley's Pub Ruddy Wheat\", 'Brasserie Britt de Bretagne Gwiniz Du', 'Schmohz Brewing Company Oktoberfest', 'Franconia Brewing Company Winter Wheat', 'Freetail Brewing Company Outlaw McCaw', 'Jamieson Brewery Jamieson Mountain Ale', 'Middle Ages Brewing Co., Ltd. Winter Wheat', 'Iron Hill Brewery & Restaurant Yin-Yang Witbier', 'Flat Branch Pub & Brewery Red Wheat', 'The Merchant Ale House Restaurant & Brewpub Dark Wheat', 'Three Floyds Brewing Co. & Brewpub Gumballhead', 'Boston Beer Company (Samuel Adams) Samuel Adams Summer Ale', 'Goose Island Beer Co. 312 Urban Wheat', 'Boulevard Brewing Co. Unfiltered Wheat', 'Magic Hat Brewing Company Circus Boy', 'Harpoon Brewery UFO Hefeweizen', 'Southern Tier Brewing Company Hop Sun (Summer Wheat Beer)', \"Jacob Leinenkugel Brewing Company Leinenkugel's Berry Weiss\", 'Anchor Brewing Company Anchor Summer Beer', 'Coors Brewing Company Blue Moon Summer Honey Wheat', 'Boston Beer Company (Samuel Adams) Samuel Adams Coastal Wheat', 'Kona Brewing Co. Wailua Wheat', 'Big Sky Brewing Company Montana Trout Slayer Ale', 'Boulder Beer / Wilderness Pub Sweaty Betty Blonde', 'Breckenridge Brewery SummerBright Ale', 'North Coast Brewing Co. Blue Star Great American Wheat Beer', 'Shipyard Brewing Co. Summer Ale', 'Odell Brewing Company Chili Easy Street Wheat', 'Arcadia Brewing Company Arcadia Whitsun Ale', 'Maui Brewing Co. Mana Wheat', 'Atwater Block Brewery Dirty Blonde Ale', 'Firestone Walker Brewing Co. Solace', 'Tommyknocker Brewery Jack Whacker Wheat Ale', 'Coors Brewing Company Blue Moon Spring Blonde Wheat Ale', 'Ithaca Beer Company White Gold', 'Matt Brewing Company Saranac Pomegranate Wheat', 'Peak Organic Brewing Company Peak Organic Summer Session Ale', 'Matt Brewing Company Saranac Summer Ale', 'Captain Lawrence Brewing Co. Sun Block Witte', 'DuClaw Brewing Company Funk', 'Alpine Beer Company Willy Vanilly', 'Parish Brewing Company Canebrake', 'Bayerische Staatsbrauerei Weihenstephan Weihenstephaner Hefeweissbier Dunkel', 'Spoetzl Brewery Shiner Holiday Cheer', 'Spaten-Franziskaner-Bräu Franziskaner Hefe-Weisse Dunkel', 'Erdinger Weissbräu Erdinger Weissbier Dunkel', 'Boston Beer Company (Samuel Adams) Samuel Adams Dunkelweizen', 'Hacker-Pschorr Bräu GmbH Hacker-Pschorr Dunkle Weisse', 'Würzburger Hofbräu AG Julius Echter Hefe-Weissbier Dunkel', 'Paulaner Brauerei GmbH & Co. KG Paulaner Hefe-Weissbier Dunkel', 'Klosterbrauerei Andechs Andechs Weissbier Dunkel', 'Anheuser-Busch Michelob DunkelWeisse', 'Brauerei Tucher Brau Tucher Dunkles Hefe Weizen', 'Kulmbacher Brauerei AG Kapuziner Schwarz-Weizen', 'Urban Chestnut Brewing Company Winged Nut', 'Hofbräuhaus München Hofbrau Hefe Weisse Dunkel', 'Scuttlebutt Brewing Company 10 Degrees Below', 'Private Landbrauerei Scheuerer Moosbacher Schwarze Weisse', 'Fish Brewing Company / Fishbowl Brewpub Leavenworth Boulder Bend Dunkelweizen', \"Bayern Brewing, Inc. Bayern Dragon's Breath\", \"Brauerei Gebrüder Maisel GmbH & Co. Maisel's Weisse Dunkel\", 'Spoetzl Brewery Shiner Dunkelweizen', 'Kaltenberg International / König Ludwig International GmbH & Co.KG König Ludwig Weissbier Dunkel', 'High Point Brewing Company Ramstein Classic', 'Klosterbrauerei Weltenburg Weltenburger Hefe-Weissbier Dunkel', 'Weissbierbrauerei Hopf Hopf Dunkle Weisse', 'Binding-Brauerei AG Schöfferhofer Dunkles Hefeweizen', 'Gordon Biersch Brewery Restaurant Gordon Biersch Dunkelweizen', \"Piece Brewery & Pizzeria Dark 'n Curvy\", 'Texelse Bierbrouwerij Texels Skuumkoppe', 'Klosterbrauerei Ettal / Ettaler Klosterbetriebe GmbH Ettaler Weißbier Dunkel', 'Unertl Weissbier GmbH Unertl Weissbier', 'Sprecher Brewing Company Dunkel Weizen', 'Portsmouth Brewery Portsmouth Winter Weizen', 'Fürstlich Fürstenbergische Brauerei KG Fürstenberg Weizen Hefe Dunkel', 'Der HirschBrau/Privatbrauerei Höss Dunkler Hirsch Allgäuer Weizen', 'Birrificio Italiano Vùdù', 'Aktien-Brauerei Kaufbeuren AG Steingadener Weisse Dunkel', 'Portsmouth Brewery Portsmouth Dunkelweizen', 'Bayerische Staatsbrauerei Weihenstephan Weihenstephaner Hefeweissbier', 'Spaten-Franziskaner-Bräu Franziskaner Hefe-Weisse', 'Paulaner Brauerei GmbH & Co. KG Paulaner Hefe-Weissbier Naturtrüb', 'Widmer Brothers Brewing Company Widmer Hefeweizen', 'Erdinger Weissbräu Erdinger Weissbier', 'Tröegs Brewing Company DreamWeaver Wheat', 'Weisses Bräuhaus G. Schneider & Sohn GmbH Schneider Weisse Original', 'Hacker-Pschorr Bräu GmbH Hacker-Pschorr Hefe Weisse Natürtrub', 'Live Oak Brewing Company Live Oak HefeWeizen', 'Flying Dog Brewery Imperial Hefeweizen', 'New Glarus Brewing Company Dancing Man Wheat', 'Hofbräuhaus München Hofbräu Münchner Weisse', 'Weisses Bräuhaus G. Schneider & Sohn GmbH Schneider Wiesen Edel-Weisse Mein Grunes', 'Spoetzl Brewery Shiner Hefeweizen', 'Kaltenberg International / König Ludwig International GmbH & Co.KG Konig Ludwig Hell', 'Binding-Brauerei AG Schofferhofer Grapefruit Hefeweizen', 'Pyramid Breweries, Inc. Haywire Hefeweizen', 'Boston Beer Company (Samuel Adams) Samuel Adams Hefeweizen', \"Two Brothers Brewing Company Ebel's Weiss Beer\", 'Würzburger Hofbräu AG Julius Echter Hefe-Weissbier Hell', 'Erdinger Weissbräu Erdinger Oktoberfest Weissbier', 'Brauerei Tucher Brau Tucher Helles Hefe Weizen', 'Kulmbacher Brauerei AG Kapuziner Weissbier', 'Binding-Brauerei AG Schöfferhofer Hefeweizen', 'Lonerider Brewing Shotgun Betty', \"Brauerei Gebrüder Maisel GmbH & Co. Maisel's Weisse Original\", 'Yazoo Brewing Company Hefeweizen', 'Starr Hill Brewery The Love', 'Karbach Brewing Co. Weisse Versa Wheat', \"Victory Brewing Company Mad King's Weiss\", \"Trader Joe's Brewing Company Trader Joe's Bavarian Style Hefeweizen\", 'Brauerei Pinkus Mueller Organic Hefe-Weizen', 'SweetWater Brewing Company Sweetwater Waterkeeper Hefeweizen', 'Gordon Biersch Brewery Restaurant Gordon Biersch Hefeweizen', 'Butternuts Beer & Ale Heinnieweisse Weissebier', 'Brooklyn Brewery Brooklyner Weisse', 'Pennsylvania Brewing Company Penn Weizen', 'Three Floyds Brewing Co. & Brewpub Drunk Monk Hefeweizen', 'Klosterbrauerei Ettal / Ettaler Klosterbetriebe GmbH Ettaler Benediktiner Weizen', 'Baltika Breweries Baltika #8 Wheat', 'Weisses Bräuhaus G. Schneider & Sohn GmbH Schneider Weisse Mein Blondes', 'Sly Fox Brewing Company Royal Weisse', 'Bayerische Staatsbrauerei Weihenstephan Weihenstephaner Kristallweissbier', \"Jacob Leinenkugel Brewing Company Leinenkugel's Honey Weiss\", 'New Glarus Brewing Company Laughing Fox', 'Erdinger Weissbräu Erdinger Weissbier Kristallklar', 'Brauerei Tucher Brau Tucher Kristall Weizen', 'Sierra Nevada Brewing Co. Old Chico Crystal Wheat', 'Spaten-Franziskaner-Bräu Franziskaner Club-Weisse Kristalklar', 'Paulaner Brauerei GmbH & Co. KG Paulaner Weissbier Kristallklar', 'Binding-Brauerei AG Schöfferhofer Kristallweizen', 'Weisses Bräuhaus G. Schneider & Sohn GmbH Schneider Weisse Kristall', \"Brauerei Gebrüder Maisel GmbH & Co. Maisel's Weisse Kristall\", 'Bayern Brewing, Inc. Bayern Dancing Trout Ale', 'Cervecería Cuauhtémoc Moctezuma, S.A. de C.V. Bohemia Weizen', 'Hacker-Pschorr Bräu GmbH Hacker-Pschorr Kristall Weisse', 'Black Raven Brewing Co. Sunthief Kristallweizen', 'Franconia Brewing Company Franconia Kristal-weizen', 'Cascade Brewery Company Ltd. Cascade Blonde', 'Dinkelacker-Schwabenbraeu AG Sanwald Kristall Weizen', 'Privatbrauerei Bischoff Falkensteiner Weizen', 'Portneuf Valley Brewing Krystal Weizen', 'Triumph Brewing Company Zitronenweizen', 'Kulmbacher Brauerei AG Kapuziner Kristall-Weizen', 'Würzburger Hofbräu AG Julius Echter Kristall Weizen', 'Ankerbräu Nördlingen Rieser Kristall-Weizen', 'Propeller Brewery Propeller Kristall Weizen', 'English Ales Brewery Monterey Bay Wheat', 'The Bruery White Oak', \"New Holland Brewing Company Bourbon Barrel Aged Pilgrim's Dole\", \"Short's Brewing Company Anniversary Ale\", 'Terrapin Beer Company Terrapin Gamma Ray', \"Jackie O's Pub & Brewery Wood Ya Honey\", 'Marin Brewing Company Marin Star Brew-Triple Wheat Ale', 'Portsmouth Brewery Portsmouth Wheat Wine', 'DuClaw Brewing Company Misery', 'Perennial Artisan Ales Heart Of Gold', 'Element Brewing Company Vernal', 'Marshall Wharf Brewing Company / Three Tides Restaurant Illegal Ale-ien', 'Big Time Brewery & Alehouse Old Sol Wheatwine Ale', 'Baird Brewing Company / Fishmarket Taproom West Coast Wheat Wine', \"Fitger's Brewhouse 1100 Wheat Wine\", 'The Livery Umae Umami', 'Coors Brewing Company Blue Moon Belgian White', 'Allagash Brewing Company Allagash White', 'Brouwerij van Hoegaarden Hoegaarden Original White Ale', 'Anheuser-Busch Shock Top Belgian White', 'Dogfish Head Brewery Namaste', 'Avery Brewing Company White Rascal', 'Unibroue Blanche De Chambly', 'Brewery Ommegang Ommegang Witte', 'Dogfish Head Brewery Red & White', 'Cigar City Brewing Florida Cracker White Ale', 'Kiuchi Brewery Hitachino Nest White Ale', 'Boston Beer Company (Samuel Adams) Samuel Adams Blackberry Witbier', 'Harpoon Brewery UFO White', 'Boston Beer Company (Samuel Adams) Samuel Adams White Ale', 'Boston Beer Company (Samuel Adams) Samuel Adams Imperial White', 'Clown Shoes Clementine', 'Southampton Publick House Double White Ale', 'Dogfish Head Brewery Positive Contact', 'Great Lakes Brewing Company Great Lakes Holy Moses', 'Brasserie Lefèbvre SA Blanche De Bruxelles / Manneken Pis Belgian White', 'Jolly Pumpkin Artisan Ales Calabaza Blanca', 'Westbrook Brewing Co. White Thai', 'New Belgium Brewing Mothership Wit (Organic Wheat Beer)', 'Victory Brewing Company Whirlwind Witbier', 'Lost Coast Brewery and Cafe Great White', 'Alaskan Brewing Co. Alaskan White', 'Cisco Brewers Inc. Grey Lady', 'Ballast Point Brewing Company Wahoo Wheat Beer', 'Boulevard Brewing Co. ZÔN', 'Brasseries Kronenbourg Kronenbourg', 'Coronado Brewing Company Orange Avenue Wit', 'Boulevard Brewing Co. Two Jokers Double-Wit', 'Damm S. A. Estrella Damm Inedit', 'Rogue Ales Half-E-Weizen', 'Brasserie Du Bocq Blanche De Namur', 'Upland Brewing Company Wheat Ale', 'Russian River Brewing Company Supplication', 'Russian River Brewing Company Consecration', 'Russian River Brewing Company Temptation', 'Russian River Brewing Company Beatification', 'Cascade Brewing / Raccoon Lodge & Brewpub Cascade Sang Noir', 'Cascade Brewing / Raccoon Lodge & Brewpub Cascade Apricot Ale', 'Goose Island Beer Co. Juliet', 'The Lost Abbey Cuvee De Tomme', 'The Lost Abbey Framboise De Amorosa', 'The Lost Abbey Cable Car', 'Surly Brewing Company Pentagram', 'Russian River Brewing Company Framboise For A Cure', 'Weyerbacher Brewing Co. Riserva', 'The Bruery Bottleworks XII', 'Cascade Brewing / Raccoon Lodge & Brewpub Cascade Noyeaux', 'Cascade Brewing / Raccoon Lodge & Brewpub Cascade Sang Royal', 'Cascade Brewing / Raccoon Lodge & Brewpub Cascade The Vine', \"Jester King Craft Brewery Boxer's Revenge\", 'New Belgium Brewing Tart Lychee', 'Jolly Pumpkin Artisan Ales Maracaibo Especial', 'Odell Brewing Company Friek', 'Boston Beer Company (Samuel Adams) Samuel Adams Stony Brook Red (Barrel Room Collection)', 'Cascade Brewing / Raccoon Lodge & Brewpub Cascade Vlad The Imp Aler', 'Boston Beer Company (Samuel Adams) Samuel Adams Old Fezziwig Ale', 'Great Lakes Brewing Company Great Lakes Christmas Ale', 'Deschutes Brewery Jubelale', \"Samuel Smith Old Brewery (Tadcaster) Samuel Smith's Winter Welcome Ale\", 'Anderson Valley Brewing Company Winter Solstice Seasonal Ale', 'Southern Tier Brewing Company Old Man (Winter Ale)', 'Harpoon Brewery Harpoon Winter Warmer', '21st Amendment Brewery Fireside Chat', 'Breckenridge Brewery Christmas Ale', 'Boulevard Brewing Co. Nutcracker Ale', 'Pyramid Breweries, Inc. Snow Cap', 'Odell Brewing Company Odell Isolation Ale', 'Flying Dog Brewery K-9 Cruiser Winter Ale', 'Dark Horse Brewing Company Dark Horse 4 Elf', 'SweetWater Brewing Company Sweetwater Festive Ale', 'Thirsty Dog Brewing Company 12 Dogs Of Christmas Ale', 'Summit Brewing Company Summit Winter Ale', \"Widmer Brothers Brewing Company Barrel Aged Brrrbon (Brothers' Reserve Series)\", 'Elysian Brewing Company BiFrost', 'Shipyard Brewing Co. Prelude Special Ale', 'Boulder Beer / Wilderness Pub Never Summer Ale', 'Big Sky Brewing Company Powder Hound Winter Ale', 'Lost Coast Brewery and Cafe Winterbraun', 'Rahr & Sons Brewing Company Bourbon Barrel Aged Winter Warmer', 'Sly Fox Brewing Company Christmas Ale', \"Hoppin' Frog Brewery Frosted Frog Christmas Ale\", 'Fat Heads Brewery & Saloon Christmas Ale', 'Wychwood Brewery Company Ltd Bah Humbug', 'Berkshire Brewing Company Inc. Cabin Fever Ale', 'Rogue Ales Mogul Madness Ale', 'Nøgne Ø - Det Kompromissløse Bryggeri A/S God Jul', 'Granville Island Brewery Lions Winter Ale', 'Nøgne Ø - Det Kompromissløse Bryggeri A/S Special Holiday Ale - Nøgne Ø/Jolly Pumpkin Artisan Ales/Stone Brewing Co.', \"St. Peter's Brewery Co Ltd St. Peter's Winter Ale\", 'Rahr & Sons Brewing Company Winter Warmer', 'Cisco Brewers Inc. Winter Shredder', 'RJ Rockers Brewing Company First Snow Ale', \"Natty Greene's Pub & Brewing Co. Red Nose Winter Ale\", 'Fish Brewing Company / Fishbowl Brewpub Fish Tale Winterfish', \"Hoppin' Frog Brewery Barrel Aged Frosted Frog Christmas Ale\"))"
      ]
     },
     "execution_count": 49,
     "metadata": {},
     "output_type": "execute_result"
    }
   ],
   "source": [
    "g.nodes()"
   ]
  },
  {
   "cell_type": "code",
   "execution_count": null,
   "metadata": {
    "colab": {
     "base_uri": "https://localhost:8080/",
     "height": 319
    },
    "id": "flMmqL732Wcn",
    "outputId": "fbf27da8-2a41-4ee9-f8a1-f79d60795724"
   },
   "outputs": [
    {
     "data": {
      "image/png": "[encoded data removed]",
      "text/plain": [
       "<Figure size 432x288 with 1 Axes>"
      ]
     },
     "metadata": {},
     "output_type": "display_data"
    }
   ],
   "source": [
    "nx.draw(g)"
   ]
  },
  {
   "cell_type": "code",
   "execution_count": null,
   "metadata": {
    "colab": {
     "base_uri": "https://localhost:8080/"
    },
    "id": "YCI9KLqa6yGm",
    "outputId": "1bdbeaf1-c609-4932-d876-0a40998de209"
   },
   "outputs": [
    {
     "name": "stdout",
     "output_type": "stream",
     "text": [
      "Looking in indexes: https://pypi.org/simple, https://us-python.pkg.dev/colab-wheels/public/simple/\n",
      "Collecting node2vec\n",
      "  Downloading node2vec-0.4.3.tar.gz (4.6 kB)\n",
      "Requirement already satisfied: networkx in /usr/local/lib/python3.7/dist-packages (from node2vec) (2.6.3)\n",
      "Requirement already satisfied: gensim in /usr/local/lib/python3.7/dist-packages (from node2vec) (3.6.0)\n",
      "Requirement already satisfied: numpy in /usr/local/lib/python3.7/dist-packages (from node2vec) (1.21.6)\n",
      "Requirement already satisfied: tqdm in /usr/local/lib/python3.7/dist-packages (from node2vec) (4.64.0)\n",
      "Requirement already satisfied: joblib>=0.13.2 in /usr/local/lib/python3.7/dist-packages (from node2vec) (1.1.0)\n",
      "Requirement already satisfied: six>=1.5.0 in /usr/local/lib/python3.7/dist-packages (from gensim->node2vec) (1.15.0)\n",
      "Requirement already satisfied: scipy>=0.18.1 in /usr/local/lib/python3.7/dist-packages (from gensim->node2vec) (1.4.1)\n",
      "Requirement already satisfied: smart-open>=1.2.1 in /usr/local/lib/python3.7/dist-packages (from gensim->node2vec) (5.2.1)\n",
      "Building wheels for collected packages: node2vec\n",
      "  Building wheel for node2vec (setup.py) ... \u001b[?25l\u001b[?25hdone\n",
      "  Created wheel for node2vec: filename=node2vec-0.4.3-py3-none-any.whl size=5980 sha256=e5ac3ca940c25f7396937b323197cdb7cebce2a1c79115306ecfd0a5f68b680e\n",
      "  Stored in directory: /root/.cache/pip/wheels/07/62/78/5202cb8c03cbf1593b48a8a442fca8ceec2a8c80e22318bae9\n",
      "Successfully built node2vec\n",
      "Installing collected packages: node2vec\n",
      "Successfully installed node2vec-0.4.3\n"
     ]
    }
   ],
   "source": [
    "!pip install node2vec"
   ]
  },
  {
   "cell_type": "code",
   "execution_count": null,
   "metadata": {
    "colab": {
     "base_uri": "https://localhost:8080/",
     "height": 66,
     "referenced_widgets": [
      "c8e446e6d56445699138097b8379c6a6",
      "c38cad1a99e045ecaea6cdfbb5b1a2b0",
      "fd9a4818bbc143c6af0852353022a745",
      "3087727fdb9c40199d1747851eff5dbb",
      "a4ec20f93ef24e18b03b0cce8aacfa28",
      "997a602501154f6fa66b9a170a1c5f98",
      "935024b3bf474e10b6deddc0d41744e6",
      "77bbfe548916404caa41bf46005d4b34",
      "29486c79cf004dd1a4b64f336ee59c03",
      "202e8fe5edcb44fbafc7826a3342e4c1",
      "cc8682ac0523471fbd35726cacc4aee2"
     ]
    },
    "id": "DYisDJdr6WcN",
    "outputId": "c29bedc9-aa5d-450b-c7aa-eb525be64635"
   },
   "outputs": [
    {
     "data": {
      "application/vnd.jupyter.widget-view+json": {
       "model_id": "c8e446e6d56445699138097b8379c6a6",
       "version_major": 2,
       "version_minor": 0
      },
      "text/plain": [
       "Computing transition probabilities:   0%|          | 0/3197 [00:00<?, ?it/s]"
      ]
     },
     "metadata": {},
     "output_type": "display_data"
    },
    {
     "name": "stderr",
     "output_type": "stream",
     "text": [
      "Generating walks (CPU: 1): 100%|██████████| 10/10 [02:54<00:00, 17.43s/it]\n"
     ]
    }
   ],
   "source": [
    "from node2vec import Node2Vec as n2v\n",
    "embedding = n2v(g, dimensions = 16)\n",
    "# *****Look into walk length, q, other relevant parameters"
   ]
  },
  {
   "cell_type": "code",
   "execution_count": null,
   "metadata": {
    "id": "lqNtnXu97A_2"
   },
   "outputs": [],
   "source": [
    "model = embedding.fit(window = 1, min_count = 1, batch_words = 4)"
   ]
  },
  {
   "cell_type": "code",
   "execution_count": null,
   "metadata": {
    "colab": {
     "base_uri": "https://localhost:8080/",
     "height": 424
    },
    "id": "ZxswO-Z98L_b",
    "outputId": "73d065a0-496d-47ba-dfbd-a9e278a2d194"
   },
   "outputs": [
    {
     "data": {
      "text/html": [
       "\n",
       "  <div id=\"df-4666b4df-2638-4b81-8a06-4650556e1e38\">\n",
       "    <div class=\"colab-df-container\">\n",
       "      <div>\n",
       "<style scoped>\n",
       "    .dataframe tbody tr th:only-of-type {\n",
       "        vertical-align: middle;\n",
       "    }\n",
       "\n",
       "    .dataframe tbody tr th {\n",
       "        vertical-align: top;\n",
       "    }\n",
       "\n",
       "    .dataframe thead th {\n",
       "        text-align: right;\n",
       "    }\n",
       "</style>\n",
       "<table border=\"1\" class=\"dataframe\">\n",
       "  <thead>\n",
       "    <tr style=\"text-align: right;\">\n",
       "      <th></th>\n",
       "      <th>0</th>\n",
       "      <th>1</th>\n",
       "      <th>2</th>\n",
       "      <th>3</th>\n",
       "      <th>4</th>\n",
       "      <th>5</th>\n",
       "      <th>6</th>\n",
       "      <th>7</th>\n",
       "      <th>8</th>\n",
       "      <th>9</th>\n",
       "      <th>10</th>\n",
       "      <th>11</th>\n",
       "      <th>12</th>\n",
       "      <th>13</th>\n",
       "      <th>14</th>\n",
       "      <th>15</th>\n",
       "    </tr>\n",
       "  </thead>\n",
       "  <tbody>\n",
       "    <tr>\n",
       "      <th>Alaskan Brewing Co. Alaskan Amber</th>\n",
       "      <td>0.997164</td>\n",
       "      <td>1.451330</td>\n",
       "      <td>1.429362</td>\n",
       "      <td>0.652789</td>\n",
       "      <td>0.294611</td>\n",
       "      <td>-0.747432</td>\n",
       "      <td>-0.884854</td>\n",
       "      <td>0.113690</td>\n",
       "      <td>-0.496736</td>\n",
       "      <td>-0.271886</td>\n",
       "      <td>2.504094</td>\n",
       "      <td>0.229425</td>\n",
       "      <td>-3.049869</td>\n",
       "      <td>-1.249675</td>\n",
       "      <td>-2.266161</td>\n",
       "      <td>-0.938055</td>\n",
       "    </tr>\n",
       "    <tr>\n",
       "      <th>Long Trail Brewing Co. Double Bag</th>\n",
       "      <td>0.999965</td>\n",
       "      <td>1.934584</td>\n",
       "      <td>0.537305</td>\n",
       "      <td>-0.402595</td>\n",
       "      <td>-0.654271</td>\n",
       "      <td>-0.630338</td>\n",
       "      <td>-0.351270</td>\n",
       "      <td>-0.627889</td>\n",
       "      <td>-2.296510</td>\n",
       "      <td>0.958768</td>\n",
       "      <td>1.086193</td>\n",
       "      <td>2.125142</td>\n",
       "      <td>-0.122681</td>\n",
       "      <td>1.021203</td>\n",
       "      <td>-3.003179</td>\n",
       "      <td>2.416190</td>\n",
       "    </tr>\n",
       "    <tr>\n",
       "      <th>Long Trail Brewing Co. Long Trail Ale</th>\n",
       "      <td>-0.113876</td>\n",
       "      <td>0.214403</td>\n",
       "      <td>-0.388953</td>\n",
       "      <td>0.848809</td>\n",
       "      <td>2.356862</td>\n",
       "      <td>0.480563</td>\n",
       "      <td>1.689502</td>\n",
       "      <td>-1.683322</td>\n",
       "      <td>-0.901299</td>\n",
       "      <td>-0.231873</td>\n",
       "      <td>1.064334</td>\n",
       "      <td>1.292724</td>\n",
       "      <td>-1.496416</td>\n",
       "      <td>-0.705197</td>\n",
       "      <td>-0.515393</td>\n",
       "      <td>1.153095</td>\n",
       "    </tr>\n",
       "    <tr>\n",
       "      <th>Uerige Obergärige Hausbrauerei GmbH / Zum Uerige Uerige Doppelsticke</th>\n",
       "      <td>-0.211446</td>\n",
       "      <td>2.764344</td>\n",
       "      <td>0.265679</td>\n",
       "      <td>-0.160525</td>\n",
       "      <td>-1.050788</td>\n",
       "      <td>-0.898601</td>\n",
       "      <td>0.520222</td>\n",
       "      <td>-1.643457</td>\n",
       "      <td>-1.911007</td>\n",
       "      <td>2.216485</td>\n",
       "      <td>1.710104</td>\n",
       "      <td>2.035307</td>\n",
       "      <td>-1.200276</td>\n",
       "      <td>-0.007296</td>\n",
       "      <td>-1.945520</td>\n",
       "      <td>-0.134443</td>\n",
       "    </tr>\n",
       "    <tr>\n",
       "      <th>Ninkasi Brewing Company Sleigh'r Dark Doüble Alt Ale</th>\n",
       "      <td>-0.547561</td>\n",
       "      <td>-0.471252</td>\n",
       "      <td>-0.562134</td>\n",
       "      <td>0.258161</td>\n",
       "      <td>0.867434</td>\n",
       "      <td>-1.346372</td>\n",
       "      <td>1.036260</td>\n",
       "      <td>-1.991167</td>\n",
       "      <td>-2.571052</td>\n",
       "      <td>-1.496343</td>\n",
       "      <td>1.309907</td>\n",
       "      <td>0.696445</td>\n",
       "      <td>-0.273820</td>\n",
       "      <td>-0.335958</td>\n",
       "      <td>-1.604927</td>\n",
       "      <td>2.640215</td>\n",
       "    </tr>\n",
       "    <tr>\n",
       "      <th>...</th>\n",
       "      <td>...</td>\n",
       "      <td>...</td>\n",
       "      <td>...</td>\n",
       "      <td>...</td>\n",
       "      <td>...</td>\n",
       "      <td>...</td>\n",
       "      <td>...</td>\n",
       "      <td>...</td>\n",
       "      <td>...</td>\n",
       "      <td>...</td>\n",
       "      <td>...</td>\n",
       "      <td>...</td>\n",
       "      <td>...</td>\n",
       "      <td>...</td>\n",
       "      <td>...</td>\n",
       "      <td>...</td>\n",
       "    </tr>\n",
       "    <tr>\n",
       "      <th>Cisco Brewers Inc. Winter Shredder</th>\n",
       "      <td>0.684619</td>\n",
       "      <td>0.620505</td>\n",
       "      <td>2.496969</td>\n",
       "      <td>2.366435</td>\n",
       "      <td>-0.359142</td>\n",
       "      <td>-0.723206</td>\n",
       "      <td>0.745722</td>\n",
       "      <td>-1.298426</td>\n",
       "      <td>-0.161924</td>\n",
       "      <td>-0.771525</td>\n",
       "      <td>0.323386</td>\n",
       "      <td>2.038232</td>\n",
       "      <td>0.153466</td>\n",
       "      <td>-0.389085</td>\n",
       "      <td>-0.750272</td>\n",
       "      <td>2.592577</td>\n",
       "    </tr>\n",
       "    <tr>\n",
       "      <th>RJ Rockers Brewing Company First Snow Ale</th>\n",
       "      <td>0.848726</td>\n",
       "      <td>-0.500619</td>\n",
       "      <td>0.699803</td>\n",
       "      <td>1.259054</td>\n",
       "      <td>-1.264574</td>\n",
       "      <td>0.195981</td>\n",
       "      <td>0.582065</td>\n",
       "      <td>-0.150931</td>\n",
       "      <td>0.084758</td>\n",
       "      <td>-0.080407</td>\n",
       "      <td>-1.019543</td>\n",
       "      <td>2.152348</td>\n",
       "      <td>-1.945145</td>\n",
       "      <td>0.458036</td>\n",
       "      <td>-1.216313</td>\n",
       "      <td>0.283705</td>\n",
       "    </tr>\n",
       "    <tr>\n",
       "      <th>Natty Greene's Pub &amp; Brewing Co. Red Nose Winter Ale</th>\n",
       "      <td>-0.132512</td>\n",
       "      <td>0.186903</td>\n",
       "      <td>1.058233</td>\n",
       "      <td>0.527948</td>\n",
       "      <td>-0.469581</td>\n",
       "      <td>2.313164</td>\n",
       "      <td>-0.326681</td>\n",
       "      <td>-0.968682</td>\n",
       "      <td>-1.515917</td>\n",
       "      <td>-0.588383</td>\n",
       "      <td>-1.732635</td>\n",
       "      <td>0.716451</td>\n",
       "      <td>-0.911026</td>\n",
       "      <td>-0.069485</td>\n",
       "      <td>-1.905648</td>\n",
       "      <td>2.838261</td>\n",
       "    </tr>\n",
       "    <tr>\n",
       "      <th>Fish Brewing Company / Fishbowl Brewpub Fish Tale Winterfish</th>\n",
       "      <td>0.768793</td>\n",
       "      <td>0.079305</td>\n",
       "      <td>1.554113</td>\n",
       "      <td>1.178417</td>\n",
       "      <td>-1.501626</td>\n",
       "      <td>-0.930227</td>\n",
       "      <td>2.661837</td>\n",
       "      <td>-2.703179</td>\n",
       "      <td>-0.162161</td>\n",
       "      <td>-1.139765</td>\n",
       "      <td>0.229792</td>\n",
       "      <td>0.957542</td>\n",
       "      <td>-0.406130</td>\n",
       "      <td>-0.055085</td>\n",
       "      <td>-0.182428</td>\n",
       "      <td>-1.431863</td>\n",
       "    </tr>\n",
       "    <tr>\n",
       "      <th>Hoppin' Frog Brewery Barrel Aged Frosted Frog Christmas Ale</th>\n",
       "      <td>-0.478156</td>\n",
       "      <td>0.687458</td>\n",
       "      <td>1.124976</td>\n",
       "      <td>1.450398</td>\n",
       "      <td>-1.443348</td>\n",
       "      <td>1.411297</td>\n",
       "      <td>-0.561957</td>\n",
       "      <td>-1.028487</td>\n",
       "      <td>-0.145991</td>\n",
       "      <td>-0.892637</td>\n",
       "      <td>-2.265583</td>\n",
       "      <td>2.007640</td>\n",
       "      <td>-1.564817</td>\n",
       "      <td>0.785318</td>\n",
       "      <td>-1.763588</td>\n",
       "      <td>-1.105262</td>\n",
       "    </tr>\n",
       "  </tbody>\n",
       "</table>\n",
       "<p>3197 rows × 16 columns</p>\n",
       "</div>\n",
       "      <button class=\"colab-df-convert\" onclick=\"convertToInteractive('df-4666b4df-2638-4b81-8a06-4650556e1e38')\"\n",
       "              title=\"Convert this dataframe to an interactive table.\"\n",
       "              style=\"display:none;\">\n",
       "        \n",
       "  <svg xmlns=\"http://www.w3.org/2000/svg\" height=\"24px\"viewBox=\"0 0 24 24\"\n",
       "       width=\"24px\">\n",
       "    <path d=\"M0 0h24v24H0V0z\" fill=\"none\"/>\n",
       "    <path d=\"M18.56 5.44l.94 2.06.94-2.06 2.06-.94-2.06-.94-.94-2.06-.94 2.06-2.06.94zm-11 1L8.5 8.5l.94-2.06 2.06-.94-2.06-.94L8.5 2.5l-.94 2.06-2.06.94zm10 10l.94 2.06.94-2.06 2.06-.94-2.06-.94-.94-2.06-.94 2.06-2.06.94z\"/><path d=\"M17.41 7.96l-1.37-1.37c-.4-.4-.92-.59-1.43-.59-.52 0-1.04.2-1.43.59L10.3 9.45l-7.72 7.72c-.78.78-.78 2.05 0 2.83L4 21.41c.39.39.9.59 1.41.59.51 0 1.02-.2 1.41-.59l7.78-7.78 2.81-2.81c.8-.78.8-2.07 0-2.86zM5.41 20L4 18.59l7.72-7.72 1.47 1.35L5.41 20z\"/>\n",
       "  </svg>\n",
       "      </button>\n",
       "      \n",
       "  <style>\n",
       "    .colab-df-container {\n",
       "      display:flex;\n",
       "      flex-wrap:wrap;\n",
       "      gap: 12px;\n",
       "    }\n",
       "\n",
       "    .colab-df-convert {\n",
       "      background-color: #E8F0FE;\n",
       "      border: none;\n",
       "      border-radius: 50%;\n",
       "      cursor: pointer;\n",
       "      display: none;\n",
       "      fill: #1967D2;\n",
       "      height: 32px;\n",
       "      padding: 0 0 0 0;\n",
       "      width: 32px;\n",
       "    }\n",
       "\n",
       "    .colab-df-convert:hover {\n",
       "      background-color: #E2EBFA;\n",
       "      box-shadow: 0px 1px 2px rgba(60, 64, 67, 0.3), 0px 1px 3px 1px rgba(60, 64, 67, 0.15);\n",
       "      fill: #174EA6;\n",
       "    }\n",
       "\n",
       "    [theme=dark] .colab-df-convert {\n",
       "      background-color: #3B4455;\n",
       "      fill: #D2E3FC;\n",
       "    }\n",
       "\n",
       "    [theme=dark] .colab-df-convert:hover {\n",
       "      background-color: #434B5C;\n",
       "      box-shadow: 0px 1px 3px 1px rgba(0, 0, 0, 0.15);\n",
       "      filter: drop-shadow(0px 1px 2px rgba(0, 0, 0, 0.3));\n",
       "      fill: #FFFFFF;\n",
       "    }\n",
       "  </style>\n",
       "\n",
       "      <script>\n",
       "        const buttonEl =\n",
       "          document.querySelector('#df-4666b4df-2638-4b81-8a06-4650556e1e38 button.colab-df-convert');\n",
       "        buttonEl.style.display =\n",
       "          google.colab.kernel.accessAllowed ? 'block' : 'none';\n",
       "\n",
       "        async function convertToInteractive(key) {\n",
       "          const element = document.querySelector('#df-4666b4df-2638-4b81-8a06-4650556e1e38');\n",
       "          const dataTable =\n",
       "            await google.colab.kernel.invokeFunction('convertToInteractive',\n",
       "                                                     [key], {});\n",
       "          if (!dataTable) return;\n",
       "\n",
       "          const docLinkHtml = 'Like what you see? Visit the ' +\n",
       "            '<a target=\"_blank\" href=https://colab.research.google.com/notebooks/data_table.ipynb>data table notebook</a>'\n",
       "            + ' to learn more about interactive tables.';\n",
       "          element.innerHTML = '';\n",
       "          dataTable['output_type'] = 'display_data';\n",
       "          await google.colab.output.renderOutput(dataTable, element);\n",
       "          const docLink = document.createElement('div');\n",
       "          docLink.innerHTML = docLinkHtml;\n",
       "          element.appendChild(docLink);\n",
       "        }\n",
       "      </script>\n",
       "    </div>\n",
       "  </div>\n",
       "  "
      ],
      "text/plain": [
       "                                                          0         1   \\\n",
       "Alaskan Brewing Co. Alaskan Amber                   0.997164  1.451330   \n",
       "Long Trail Brewing Co. Double Bag                   0.999965  1.934584   \n",
       "Long Trail Brewing Co. Long Trail Ale              -0.113876  0.214403   \n",
       "Uerige Obergärige Hausbrauerei GmbH / Zum Uerig... -0.211446  2.764344   \n",
       "Ninkasi Brewing Company Sleigh'r Dark Doüble Al... -0.547561 -0.471252   \n",
       "...                                                      ...       ...   \n",
       "Cisco Brewers Inc. Winter Shredder                  0.684619  0.620505   \n",
       "RJ Rockers Brewing Company First Snow Ale           0.848726 -0.500619   \n",
       "Natty Greene's Pub & Brewing Co. Red Nose Winte... -0.132512  0.186903   \n",
       "Fish Brewing Company / Fishbowl Brewpub Fish Ta...  0.768793  0.079305   \n",
       "Hoppin' Frog Brewery Barrel Aged Frosted Frog C... -0.478156  0.687458   \n",
       "\n",
       "                                                          2         3   \\\n",
       "Alaskan Brewing Co. Alaskan Amber                   1.429362  0.652789   \n",
       "Long Trail Brewing Co. Double Bag                   0.537305 -0.402595   \n",
       "Long Trail Brewing Co. Long Trail Ale              -0.388953  0.848809   \n",
       "Uerige Obergärige Hausbrauerei GmbH / Zum Uerig...  0.265679 -0.160525   \n",
       "Ninkasi Brewing Company Sleigh'r Dark Doüble Al... -0.562134  0.258161   \n",
       "...                                                      ...       ...   \n",
       "Cisco Brewers Inc. Winter Shredder                  2.496969  2.366435   \n",
       "RJ Rockers Brewing Company First Snow Ale           0.699803  1.259054   \n",
       "Natty Greene's Pub & Brewing Co. Red Nose Winte...  1.058233  0.527948   \n",
       "Fish Brewing Company / Fishbowl Brewpub Fish Ta...  1.554113  1.178417   \n",
       "Hoppin' Frog Brewery Barrel Aged Frosted Frog C...  1.124976  1.450398   \n",
       "\n",
       "                                                          4         5   \\\n",
       "Alaskan Brewing Co. Alaskan Amber                   0.294611 -0.747432   \n",
       "Long Trail Brewing Co. Double Bag                  -0.654271 -0.630338   \n",
       "Long Trail Brewing Co. Long Trail Ale               2.356862  0.480563   \n",
       "Uerige Obergärige Hausbrauerei GmbH / Zum Uerig... -1.050788 -0.898601   \n",
       "Ninkasi Brewing Company Sleigh'r Dark Doüble Al...  0.867434 -1.346372   \n",
       "...                                                      ...       ...   \n",
       "Cisco Brewers Inc. Winter Shredder                 -0.359142 -0.723206   \n",
       "RJ Rockers Brewing Company First Snow Ale          -1.264574  0.195981   \n",
       "Natty Greene's Pub & Brewing Co. Red Nose Winte... -0.469581  2.313164   \n",
       "Fish Brewing Company / Fishbowl Brewpub Fish Ta... -1.501626 -0.930227   \n",
       "Hoppin' Frog Brewery Barrel Aged Frosted Frog C... -1.443348  1.411297   \n",
       "\n",
       "                                                          6         7   \\\n",
       "Alaskan Brewing Co. Alaskan Amber                  -0.884854  0.113690   \n",
       "Long Trail Brewing Co. Double Bag                  -0.351270 -0.627889   \n",
       "Long Trail Brewing Co. Long Trail Ale               1.689502 -1.683322   \n",
       "Uerige Obergärige Hausbrauerei GmbH / Zum Uerig...  0.520222 -1.643457   \n",
       "Ninkasi Brewing Company Sleigh'r Dark Doüble Al...  1.036260 -1.991167   \n",
       "...                                                      ...       ...   \n",
       "Cisco Brewers Inc. Winter Shredder                  0.745722 -1.298426   \n",
       "RJ Rockers Brewing Company First Snow Ale           0.582065 -0.150931   \n",
       "Natty Greene's Pub & Brewing Co. Red Nose Winte... -0.326681 -0.968682   \n",
       "Fish Brewing Company / Fishbowl Brewpub Fish Ta...  2.661837 -2.703179   \n",
       "Hoppin' Frog Brewery Barrel Aged Frosted Frog C... -0.561957 -1.028487   \n",
       "\n",
       "                                                          8         9   \\\n",
       "Alaskan Brewing Co. Alaskan Amber                  -0.496736 -0.271886   \n",
       "Long Trail Brewing Co. Double Bag                  -2.296510  0.958768   \n",
       "Long Trail Brewing Co. Long Trail Ale              -0.901299 -0.231873   \n",
       "Uerige Obergärige Hausbrauerei GmbH / Zum Uerig... -1.911007  2.216485   \n",
       "Ninkasi Brewing Company Sleigh'r Dark Doüble Al... -2.571052 -1.496343   \n",
       "...                                                      ...       ...   \n",
       "Cisco Brewers Inc. Winter Shredder                 -0.161924 -0.771525   \n",
       "RJ Rockers Brewing Company First Snow Ale           0.084758 -0.080407   \n",
       "Natty Greene's Pub & Brewing Co. Red Nose Winte... -1.515917 -0.588383   \n",
       "Fish Brewing Company / Fishbowl Brewpub Fish Ta... -0.162161 -1.139765   \n",
       "Hoppin' Frog Brewery Barrel Aged Frosted Frog C... -0.145991 -0.892637   \n",
       "\n",
       "                                                          10        11  \\\n",
       "Alaskan Brewing Co. Alaskan Amber                   2.504094  0.229425   \n",
       "Long Trail Brewing Co. Double Bag                   1.086193  2.125142   \n",
       "Long Trail Brewing Co. Long Trail Ale               1.064334  1.292724   \n",
       "Uerige Obergärige Hausbrauerei GmbH / Zum Uerig...  1.710104  2.035307   \n",
       "Ninkasi Brewing Company Sleigh'r Dark Doüble Al...  1.309907  0.696445   \n",
       "...                                                      ...       ...   \n",
       "Cisco Brewers Inc. Winter Shredder                  0.323386  2.038232   \n",
       "RJ Rockers Brewing Company First Snow Ale          -1.019543  2.152348   \n",
       "Natty Greene's Pub & Brewing Co. Red Nose Winte... -1.732635  0.716451   \n",
       "Fish Brewing Company / Fishbowl Brewpub Fish Ta...  0.229792  0.957542   \n",
       "Hoppin' Frog Brewery Barrel Aged Frosted Frog C... -2.265583  2.007640   \n",
       "\n",
       "                                                          12        13  \\\n",
       "Alaskan Brewing Co. Alaskan Amber                  -3.049869 -1.249675   \n",
       "Long Trail Brewing Co. Double Bag                  -0.122681  1.021203   \n",
       "Long Trail Brewing Co. Long Trail Ale              -1.496416 -0.705197   \n",
       "Uerige Obergärige Hausbrauerei GmbH / Zum Uerig... -1.200276 -0.007296   \n",
       "Ninkasi Brewing Company Sleigh'r Dark Doüble Al... -0.273820 -0.335958   \n",
       "...                                                      ...       ...   \n",
       "Cisco Brewers Inc. Winter Shredder                  0.153466 -0.389085   \n",
       "RJ Rockers Brewing Company First Snow Ale          -1.945145  0.458036   \n",
       "Natty Greene's Pub & Brewing Co. Red Nose Winte... -0.911026 -0.069485   \n",
       "Fish Brewing Company / Fishbowl Brewpub Fish Ta... -0.406130 -0.055085   \n",
       "Hoppin' Frog Brewery Barrel Aged Frosted Frog C... -1.564817  0.785318   \n",
       "\n",
       "                                                          14        15  \n",
       "Alaskan Brewing Co. Alaskan Amber                  -2.266161 -0.938055  \n",
       "Long Trail Brewing Co. Double Bag                  -3.003179  2.416190  \n",
       "Long Trail Brewing Co. Long Trail Ale              -0.515393  1.153095  \n",
       "Uerige Obergärige Hausbrauerei GmbH / Zum Uerig... -1.945520 -0.134443  \n",
       "Ninkasi Brewing Company Sleigh'r Dark Doüble Al... -1.604927  2.640215  \n",
       "...                                                      ...       ...  \n",
       "Cisco Brewers Inc. Winter Shredder                 -0.750272  2.592577  \n",
       "RJ Rockers Brewing Company First Snow Ale          -1.216313  0.283705  \n",
       "Natty Greene's Pub & Brewing Co. Red Nose Winte... -1.905648  2.838261  \n",
       "Fish Brewing Company / Fishbowl Brewpub Fish Ta... -0.182428 -1.431863  \n",
       "Hoppin' Frog Brewery Barrel Aged Frosted Frog C... -1.763588 -1.105262  \n",
       "\n",
       "[3197 rows x 16 columns]"
      ]
     },
     "execution_count": 19,
     "metadata": {},
     "output_type": "execute_result"
    }
   ],
   "source": [
    "emb_df = (pd.DataFrame([model.wv.get_vector(str(n)) for n in g.nodes()],\n",
    "                       index = g.nodes))\n",
    "emb_df"
   ]
  },
  {
   "cell_type": "code",
   "execution_count": null,
   "metadata": {
    "id": "NN8P1K_Vvm6X"
   },
   "outputs": [],
   "source": [
    "def predict_links(g, df, beer_name, num_rec):\n",
    "  #dataframe with just row of given beer name\n",
    "  this_beer = df[df.index == beer_name]\n",
    "\n",
    "  #getting beers which are not already linked to the given beer\n",
    "  all_nodes = g.nodes()\n",
    "  all_other_nodes = [n for n in all_nodes if n not in list(g.adj[beer_name]) + [beer_name]]\n",
    "  other_nodes = df[df.index.isin(all_other_nodes)]\n",
    "  #find the cosine similarity between the given beer and all beers that are not already neighbors\n",
    "  similar = dict()\n",
    "  for beer in other_nodes.iterrows():\n",
    "    similar[beer[0]] = (1 - spatial.distance.cosine(beer[1], np.array(this_beer)))\n",
    "  #sort the dictionary by highest cosine similarity\n",
    "  similar = pd.DataFrame(similar.items(), columns = ['beer', 'cos sim'])\n",
    "  sorted_sim = similar.sort_values(by = 'cos sim', ascending = False)\n",
    "  return sorted_sim['beer'].iloc[0:num_rec]"
   ]
  },
  {
   "cell_type": "code",
   "execution_count": null,
   "metadata": {
    "colab": {
     "base_uri": "https://localhost:8080/"
    },
    "id": "f1ECxhNvxLLb",
    "outputId": "d125d6cd-d686-4a84-9c9c-3195dd0ca1b1"
   },
   "outputs": [
    {
     "data": {
      "text/plain": [
       "2261             Thomas Creek Brewery River Falls Red Ale\n",
       "1879    Green Valley Brewing Company (Crooked Creek) S...\n",
       "355                   Jopen Bier BV Haarlem Jopen Bokbier\n",
       "66      Santa Fe Brewing Company Chicken Killer Barley...\n",
       "3074                       Element Brewing Company Vernal\n",
       "Name: beer, dtype: object"
      ]
     },
     "execution_count": 21,
     "metadata": {},
     "output_type": "execute_result"
    }
   ],
   "source": [
    "predict_links(g, emb_df, 'Alaskan Brewing Co. Alaskan Amber', 5)"
   ]
  },
  {
   "cell_type": "code",
   "execution_count": null,
   "metadata": {
    "colab": {
     "base_uri": "https://localhost:8080/"
    },
    "id": "kTd8ebYuzBY7",
    "outputId": "eb44d3b4-83cb-4322-884d-a92264d45be4"
   },
   "outputs": [
    {
     "data": {
      "text/plain": [
       "array([[-1.8838661 ,  1.8184282 , -0.933051  , -1.3868701 ,  0.7584359 ,\n",
       "        -1.631737  , -2.7907512 ,  2.250058  , -2.2395337 ,  0.8718171 ,\n",
       "         0.15289038,  0.71087015, -0.30582073,  0.9763884 , -0.09827285,\n",
       "         0.2521493 ]], dtype=float32)"
      ]
     },
     "execution_count": 48,
     "metadata": {},
     "output_type": "execute_result"
    }
   ],
   "source": [
    "np.array(emb_df[emb_df.index == 'Alaskan Brewing Co. Alaskan Amber'])"
   ]
  },
  {
   "cell_type": "code",
   "execution_count": null,
   "metadata": {
    "colab": {
     "base_uri": "https://localhost:8080/",
     "height": 1000
    },
    "id": "or43P0e8Kfhk",
    "outputId": "910d583f-d27c-4f92-8732-de0c36dd8aa6"
   },
   "outputs": [
    {
     "data": {
      "text/html": [
       "\n",
       "  <div id=\"df-382f765b-3bd8-4d7d-990a-02cefb6b6613\">\n",
       "    <div class=\"colab-df-container\">\n",
       "      <div>\n",
       "<style scoped>\n",
       "    .dataframe tbody tr th:only-of-type {\n",
       "        vertical-align: middle;\n",
       "    }\n",
       "\n",
       "    .dataframe tbody tr th {\n",
       "        vertical-align: top;\n",
       "    }\n",
       "\n",
       "    .dataframe thead th {\n",
       "        text-align: right;\n",
       "    }\n",
       "</style>\n",
       "<table border=\"1\" class=\"dataframe\">\n",
       "  <thead>\n",
       "    <tr style=\"text-align: right;\">\n",
       "      <th></th>\n",
       "      <th>Name</th>\n",
       "      <th>Style</th>\n",
       "      <th>Brewery</th>\n",
       "      <th>Beer Name (Full)</th>\n",
       "      <th>Description</th>\n",
       "      <th>ABV</th>\n",
       "      <th>Min IBU</th>\n",
       "      <th>Max IBU</th>\n",
       "      <th>Astringency</th>\n",
       "      <th>Body</th>\n",
       "      <th>Alcohol</th>\n",
       "      <th>Bitter</th>\n",
       "      <th>Sweet</th>\n",
       "      <th>Sour</th>\n",
       "      <th>Salty</th>\n",
       "      <th>Fruits</th>\n",
       "      <th>Hoppy</th>\n",
       "      <th>Spices</th>\n",
       "      <th>Malty</th>\n",
       "      <th>review_aroma</th>\n",
       "      <th>review_appearance</th>\n",
       "      <th>review_palate</th>\n",
       "      <th>review_taste</th>\n",
       "      <th>review_overall</th>\n",
       "      <th>number_of_reviews</th>\n",
       "    </tr>\n",
       "  </thead>\n",
       "  <tbody>\n",
       "    <tr>\n",
       "      <th>0</th>\n",
       "      <td>Amber</td>\n",
       "      <td>Altbier</td>\n",
       "      <td>Alaskan Brewing Co.</td>\n",
       "      <td>Alaskan Brewing Co. Alaskan Amber</td>\n",
       "      <td>Notes:Richly malty and long on the palate, wit...</td>\n",
       "      <td>5.3</td>\n",
       "      <td>25</td>\n",
       "      <td>50</td>\n",
       "      <td>13</td>\n",
       "      <td>32</td>\n",
       "      <td>9</td>\n",
       "      <td>47</td>\n",
       "      <td>74</td>\n",
       "      <td>33</td>\n",
       "      <td>0</td>\n",
       "      <td>33</td>\n",
       "      <td>57</td>\n",
       "      <td>8</td>\n",
       "      <td>111</td>\n",
       "      <td>3.498994</td>\n",
       "      <td>3.636821</td>\n",
       "      <td>3.556338</td>\n",
       "      <td>3.643863</td>\n",
       "      <td>3.847082</td>\n",
       "      <td>497</td>\n",
       "    </tr>\n",
       "    <tr>\n",
       "      <th>1</th>\n",
       "      <td>Double Bag</td>\n",
       "      <td>Altbier</td>\n",
       "      <td>Long Trail Brewing Co.</td>\n",
       "      <td>Long Trail Brewing Co. Double Bag</td>\n",
       "      <td>Notes:This malty, full-bodied double alt is al...</td>\n",
       "      <td>7.2</td>\n",
       "      <td>25</td>\n",
       "      <td>50</td>\n",
       "      <td>12</td>\n",
       "      <td>57</td>\n",
       "      <td>18</td>\n",
       "      <td>33</td>\n",
       "      <td>55</td>\n",
       "      <td>16</td>\n",
       "      <td>0</td>\n",
       "      <td>24</td>\n",
       "      <td>35</td>\n",
       "      <td>12</td>\n",
       "      <td>84</td>\n",
       "      <td>3.798337</td>\n",
       "      <td>3.846154</td>\n",
       "      <td>3.904366</td>\n",
       "      <td>4.024948</td>\n",
       "      <td>4.034304</td>\n",
       "      <td>481</td>\n",
       "    </tr>\n",
       "    <tr>\n",
       "      <th>2</th>\n",
       "      <td>Long Trail Ale</td>\n",
       "      <td>Altbier</td>\n",
       "      <td>Long Trail Brewing Co.</td>\n",
       "      <td>Long Trail Brewing Co. Long Trail Ale</td>\n",
       "      <td>Notes:Long Trail Ale is a full-bodied amber al...</td>\n",
       "      <td>5.0</td>\n",
       "      <td>25</td>\n",
       "      <td>50</td>\n",
       "      <td>14</td>\n",
       "      <td>37</td>\n",
       "      <td>6</td>\n",
       "      <td>42</td>\n",
       "      <td>43</td>\n",
       "      <td>11</td>\n",
       "      <td>0</td>\n",
       "      <td>10</td>\n",
       "      <td>54</td>\n",
       "      <td>4</td>\n",
       "      <td>62</td>\n",
       "      <td>3.409814</td>\n",
       "      <td>3.667109</td>\n",
       "      <td>3.600796</td>\n",
       "      <td>3.631300</td>\n",
       "      <td>3.830239</td>\n",
       "      <td>377</td>\n",
       "    </tr>\n",
       "    <tr>\n",
       "      <th>3</th>\n",
       "      <td>Doppelsticke</td>\n",
       "      <td>Altbier</td>\n",
       "      <td>Uerige Obergärige Hausbrauerei GmbH / Zum Uerige</td>\n",
       "      <td>Uerige Obergärige Hausbrauerei GmbH / Zum Ueri...</td>\n",
       "      <td>Notes:</td>\n",
       "      <td>8.5</td>\n",
       "      <td>25</td>\n",
       "      <td>50</td>\n",
       "      <td>13</td>\n",
       "      <td>55</td>\n",
       "      <td>31</td>\n",
       "      <td>47</td>\n",
       "      <td>101</td>\n",
       "      <td>18</td>\n",
       "      <td>1</td>\n",
       "      <td>49</td>\n",
       "      <td>40</td>\n",
       "      <td>16</td>\n",
       "      <td>119</td>\n",
       "      <td>4.148098</td>\n",
       "      <td>4.033967</td>\n",
       "      <td>4.150815</td>\n",
       "      <td>4.205163</td>\n",
       "      <td>4.005435</td>\n",
       "      <td>368</td>\n",
       "    </tr>\n",
       "    <tr>\n",
       "      <th>4</th>\n",
       "      <td>Sleigh'r Dark Doüble Alt Ale</td>\n",
       "      <td>Altbier</td>\n",
       "      <td>Ninkasi Brewing Company</td>\n",
       "      <td>Ninkasi Brewing Company Sleigh'r Dark Doüble A...</td>\n",
       "      <td>Notes:Called 'Dark Double Alt' on the label.Se...</td>\n",
       "      <td>7.2</td>\n",
       "      <td>25</td>\n",
       "      <td>50</td>\n",
       "      <td>25</td>\n",
       "      <td>51</td>\n",
       "      <td>26</td>\n",
       "      <td>44</td>\n",
       "      <td>45</td>\n",
       "      <td>9</td>\n",
       "      <td>1</td>\n",
       "      <td>11</td>\n",
       "      <td>51</td>\n",
       "      <td>20</td>\n",
       "      <td>95</td>\n",
       "      <td>3.625000</td>\n",
       "      <td>3.973958</td>\n",
       "      <td>3.734375</td>\n",
       "      <td>3.765625</td>\n",
       "      <td>3.817708</td>\n",
       "      <td>96</td>\n",
       "    </tr>\n",
       "    <tr>\n",
       "      <th>...</th>\n",
       "      <td>...</td>\n",
       "      <td>...</td>\n",
       "      <td>...</td>\n",
       "      <td>...</td>\n",
       "      <td>...</td>\n",
       "      <td>...</td>\n",
       "      <td>...</td>\n",
       "      <td>...</td>\n",
       "      <td>...</td>\n",
       "      <td>...</td>\n",
       "      <td>...</td>\n",
       "      <td>...</td>\n",
       "      <td>...</td>\n",
       "      <td>...</td>\n",
       "      <td>...</td>\n",
       "      <td>...</td>\n",
       "      <td>...</td>\n",
       "      <td>...</td>\n",
       "      <td>...</td>\n",
       "      <td>...</td>\n",
       "      <td>...</td>\n",
       "      <td>...</td>\n",
       "      <td>...</td>\n",
       "      <td>...</td>\n",
       "      <td>...</td>\n",
       "    </tr>\n",
       "    <tr>\n",
       "      <th>3192</th>\n",
       "      <td>Winter Shredder</td>\n",
       "      <td>Winter Warmer</td>\n",
       "      <td>Cisco Brewers Inc.</td>\n",
       "      <td>Cisco Brewers Inc. Winter Shredder</td>\n",
       "      <td>Notes:</td>\n",
       "      <td>8.8</td>\n",
       "      <td>35</td>\n",
       "      <td>50</td>\n",
       "      <td>15</td>\n",
       "      <td>37</td>\n",
       "      <td>24</td>\n",
       "      <td>35</td>\n",
       "      <td>46</td>\n",
       "      <td>19</td>\n",
       "      <td>0</td>\n",
       "      <td>23</td>\n",
       "      <td>45</td>\n",
       "      <td>67</td>\n",
       "      <td>74</td>\n",
       "      <td>4.125000</td>\n",
       "      <td>3.875000</td>\n",
       "      <td>3.875000</td>\n",
       "      <td>3.750000</td>\n",
       "      <td>4.000000</td>\n",
       "      <td>4</td>\n",
       "    </tr>\n",
       "    <tr>\n",
       "      <th>3193</th>\n",
       "      <td>The First Snow Ale</td>\n",
       "      <td>Winter Warmer</td>\n",
       "      <td>RJ Rockers Brewing Company</td>\n",
       "      <td>RJ Rockers Brewing Company First Snow Ale</td>\n",
       "      <td>Notes:This hearty American pale ale contains a...</td>\n",
       "      <td>6.0</td>\n",
       "      <td>35</td>\n",
       "      <td>50</td>\n",
       "      <td>15</td>\n",
       "      <td>31</td>\n",
       "      <td>23</td>\n",
       "      <td>16</td>\n",
       "      <td>54</td>\n",
       "      <td>43</td>\n",
       "      <td>0</td>\n",
       "      <td>54</td>\n",
       "      <td>14</td>\n",
       "      <td>140</td>\n",
       "      <td>58</td>\n",
       "      <td>3.950000</td>\n",
       "      <td>3.750000</td>\n",
       "      <td>3.760000</td>\n",
       "      <td>3.790000</td>\n",
       "      <td>3.730000</td>\n",
       "      <td>50</td>\n",
       "    </tr>\n",
       "    <tr>\n",
       "      <th>3194</th>\n",
       "      <td>Red Nose Winter Ale</td>\n",
       "      <td>Winter Warmer</td>\n",
       "      <td>Natty Greene's Pub &amp; Brewing Co.</td>\n",
       "      <td>Natty Greene's Pub &amp; Brewing Co. Red Nose Wint...</td>\n",
       "      <td>Notes:</td>\n",
       "      <td>6.8</td>\n",
       "      <td>35</td>\n",
       "      <td>50</td>\n",
       "      <td>8</td>\n",
       "      <td>44</td>\n",
       "      <td>24</td>\n",
       "      <td>19</td>\n",
       "      <td>52</td>\n",
       "      <td>21</td>\n",
       "      <td>0</td>\n",
       "      <td>26</td>\n",
       "      <td>21</td>\n",
       "      <td>96</td>\n",
       "      <td>77</td>\n",
       "      <td>3.576923</td>\n",
       "      <td>3.711538</td>\n",
       "      <td>3.596154</td>\n",
       "      <td>3.673077</td>\n",
       "      <td>3.711538</td>\n",
       "      <td>26</td>\n",
       "    </tr>\n",
       "    <tr>\n",
       "      <th>3195</th>\n",
       "      <td>Fish Tale Winterfish</td>\n",
       "      <td>Winter Warmer</td>\n",
       "      <td>Fish Brewing Company / Fishbowl Brewpub</td>\n",
       "      <td>Fish Brewing Company / Fishbowl Brewpub Fish T...</td>\n",
       "      <td>Notes:</td>\n",
       "      <td>7.5</td>\n",
       "      <td>35</td>\n",
       "      <td>50</td>\n",
       "      <td>11</td>\n",
       "      <td>36</td>\n",
       "      <td>50</td>\n",
       "      <td>70</td>\n",
       "      <td>72</td>\n",
       "      <td>59</td>\n",
       "      <td>0</td>\n",
       "      <td>81</td>\n",
       "      <td>110</td>\n",
       "      <td>18</td>\n",
       "      <td>73</td>\n",
       "      <td>3.902299</td>\n",
       "      <td>3.885057</td>\n",
       "      <td>3.862069</td>\n",
       "      <td>3.902299</td>\n",
       "      <td>3.879310</td>\n",
       "      <td>87</td>\n",
       "    </tr>\n",
       "    <tr>\n",
       "      <th>3196</th>\n",
       "      <td>Frosted Frog Christmas Ale - Barrel-Aged</td>\n",
       "      <td>Winter Warmer</td>\n",
       "      <td>Hoppin' Frog Brewery</td>\n",
       "      <td>Hoppin' Frog Brewery Barrel Aged Frosted Frog ...</td>\n",
       "      <td>Notes:The essence of Christmas is captured in ...</td>\n",
       "      <td>8.6</td>\n",
       "      <td>35</td>\n",
       "      <td>50</td>\n",
       "      <td>8</td>\n",
       "      <td>50</td>\n",
       "      <td>49</td>\n",
       "      <td>13</td>\n",
       "      <td>71</td>\n",
       "      <td>17</td>\n",
       "      <td>0</td>\n",
       "      <td>33</td>\n",
       "      <td>16</td>\n",
       "      <td>148</td>\n",
       "      <td>69</td>\n",
       "      <td>3.888889</td>\n",
       "      <td>3.694444</td>\n",
       "      <td>3.833333</td>\n",
       "      <td>3.555556</td>\n",
       "      <td>3.527778</td>\n",
       "      <td>18</td>\n",
       "    </tr>\n",
       "  </tbody>\n",
       "</table>\n",
       "<p>3197 rows × 25 columns</p>\n",
       "</div>\n",
       "      <button class=\"colab-df-convert\" onclick=\"convertToInteractive('df-382f765b-3bd8-4d7d-990a-02cefb6b6613')\"\n",
       "              title=\"Convert this dataframe to an interactive table.\"\n",
       "              style=\"display:none;\">\n",
       "        \n",
       "  <svg xmlns=\"http://www.w3.org/2000/svg\" height=\"24px\"viewBox=\"0 0 24 24\"\n",
       "       width=\"24px\">\n",
       "    <path d=\"M0 0h24v24H0V0z\" fill=\"none\"/>\n",
       "    <path d=\"M18.56 5.44l.94 2.06.94-2.06 2.06-.94-2.06-.94-.94-2.06-.94 2.06-2.06.94zm-11 1L8.5 8.5l.94-2.06 2.06-.94-2.06-.94L8.5 2.5l-.94 2.06-2.06.94zm10 10l.94 2.06.94-2.06 2.06-.94-2.06-.94-.94-2.06-.94 2.06-2.06.94z\"/><path d=\"M17.41 7.96l-1.37-1.37c-.4-.4-.92-.59-1.43-.59-.52 0-1.04.2-1.43.59L10.3 9.45l-7.72 7.72c-.78.78-.78 2.05 0 2.83L4 21.41c.39.39.9.59 1.41.59.51 0 1.02-.2 1.41-.59l7.78-7.78 2.81-2.81c.8-.78.8-2.07 0-2.86zM5.41 20L4 18.59l7.72-7.72 1.47 1.35L5.41 20z\"/>\n",
       "  </svg>\n",
       "      </button>\n",
       "      \n",
       "  <style>\n",
       "    .colab-df-container {\n",
       "      display:flex;\n",
       "      flex-wrap:wrap;\n",
       "      gap: 12px;\n",
       "    }\n",
       "\n",
       "    .colab-df-convert {\n",
       "      background-color: #E8F0FE;\n",
       "      border: none;\n",
       "      border-radius: 50%;\n",
       "      cursor: pointer;\n",
       "      display: none;\n",
       "      fill: #1967D2;\n",
       "      height: 32px;\n",
       "      padding: 0 0 0 0;\n",
       "      width: 32px;\n",
       "    }\n",
       "\n",
       "    .colab-df-convert:hover {\n",
       "      background-color: #E2EBFA;\n",
       "      box-shadow: 0px 1px 2px rgba(60, 64, 67, 0.3), 0px 1px 3px 1px rgba(60, 64, 67, 0.15);\n",
       "      fill: #174EA6;\n",
       "    }\n",
       "\n",
       "    [theme=dark] .colab-df-convert {\n",
       "      background-color: #3B4455;\n",
       "      fill: #D2E3FC;\n",
       "    }\n",
       "\n",
       "    [theme=dark] .colab-df-convert:hover {\n",
       "      background-color: #434B5C;\n",
       "      box-shadow: 0px 1px 3px 1px rgba(0, 0, 0, 0.15);\n",
       "      filter: drop-shadow(0px 1px 2px rgba(0, 0, 0, 0.3));\n",
       "      fill: #FFFFFF;\n",
       "    }\n",
       "  </style>\n",
       "\n",
       "      <script>\n",
       "        const buttonEl =\n",
       "          document.querySelector('#df-382f765b-3bd8-4d7d-990a-02cefb6b6613 button.colab-df-convert');\n",
       "        buttonEl.style.display =\n",
       "          google.colab.kernel.accessAllowed ? 'block' : 'none';\n",
       "\n",
       "        async function convertToInteractive(key) {\n",
       "          const element = document.querySelector('#df-382f765b-3bd8-4d7d-990a-02cefb6b6613');\n",
       "          const dataTable =\n",
       "            await google.colab.kernel.invokeFunction('convertToInteractive',\n",
       "                                                     [key], {});\n",
       "          if (!dataTable) return;\n",
       "\n",
       "          const docLinkHtml = 'Like what you see? Visit the ' +\n",
       "            '<a target=\"_blank\" href=https://colab.research.google.com/notebooks/data_table.ipynb>data table notebook</a>'\n",
       "            + ' to learn more about interactive tables.';\n",
       "          element.innerHTML = '';\n",
       "          dataTable['output_type'] = 'display_data';\n",
       "          await google.colab.output.renderOutput(dataTable, element);\n",
       "          const docLink = document.createElement('div');\n",
       "          docLink.innerHTML = docLinkHtml;\n",
       "          element.appendChild(docLink);\n",
       "        }\n",
       "      </script>\n",
       "    </div>\n",
       "  </div>\n",
       "  "
      ],
      "text/plain": [
       "                                          Name          Style  \\\n",
       "0                                        Amber        Altbier   \n",
       "1                                   Double Bag        Altbier   \n",
       "2                               Long Trail Ale        Altbier   \n",
       "3                                 Doppelsticke        Altbier   \n",
       "4                 Sleigh'r Dark Doüble Alt Ale        Altbier   \n",
       "...                                        ...            ...   \n",
       "3192                           Winter Shredder  Winter Warmer   \n",
       "3193                        The First Snow Ale  Winter Warmer   \n",
       "3194                       Red Nose Winter Ale  Winter Warmer   \n",
       "3195                      Fish Tale Winterfish  Winter Warmer   \n",
       "3196  Frosted Frog Christmas Ale - Barrel-Aged  Winter Warmer   \n",
       "\n",
       "                                               Brewery  \\\n",
       "0                                  Alaskan Brewing Co.   \n",
       "1                               Long Trail Brewing Co.   \n",
       "2                               Long Trail Brewing Co.   \n",
       "3     Uerige Obergärige Hausbrauerei GmbH / Zum Uerige   \n",
       "4                              Ninkasi Brewing Company   \n",
       "...                                                ...   \n",
       "3192                                Cisco Brewers Inc.   \n",
       "3193                        RJ Rockers Brewing Company   \n",
       "3194                  Natty Greene's Pub & Brewing Co.   \n",
       "3195           Fish Brewing Company / Fishbowl Brewpub   \n",
       "3196                              Hoppin' Frog Brewery   \n",
       "\n",
       "                                       Beer Name (Full)  \\\n",
       "0                     Alaskan Brewing Co. Alaskan Amber   \n",
       "1                     Long Trail Brewing Co. Double Bag   \n",
       "2                 Long Trail Brewing Co. Long Trail Ale   \n",
       "3     Uerige Obergärige Hausbrauerei GmbH / Zum Ueri...   \n",
       "4     Ninkasi Brewing Company Sleigh'r Dark Doüble A...   \n",
       "...                                                 ...   \n",
       "3192                 Cisco Brewers Inc. Winter Shredder   \n",
       "3193          RJ Rockers Brewing Company First Snow Ale   \n",
       "3194  Natty Greene's Pub & Brewing Co. Red Nose Wint...   \n",
       "3195  Fish Brewing Company / Fishbowl Brewpub Fish T...   \n",
       "3196  Hoppin' Frog Brewery Barrel Aged Frosted Frog ...   \n",
       "\n",
       "                                            Description  ABV  Min IBU  \\\n",
       "0     Notes:Richly malty and long on the palate, wit...  5.3       25   \n",
       "1     Notes:This malty, full-bodied double alt is al...  7.2       25   \n",
       "2     Notes:Long Trail Ale is a full-bodied amber al...  5.0       25   \n",
       "3                                                Notes:  8.5       25   \n",
       "4     Notes:Called 'Dark Double Alt' on the label.Se...  7.2       25   \n",
       "...                                                 ...  ...      ...   \n",
       "3192                                             Notes:  8.8       35   \n",
       "3193  Notes:This hearty American pale ale contains a...  6.0       35   \n",
       "3194                                             Notes:  6.8       35   \n",
       "3195                                             Notes:  7.5       35   \n",
       "3196  Notes:The essence of Christmas is captured in ...  8.6       35   \n",
       "\n",
       "      Max IBU  Astringency  Body  Alcohol  Bitter  Sweet  Sour  Salty  Fruits  \\\n",
       "0          50           13    32        9      47     74    33      0      33   \n",
       "1          50           12    57       18      33     55    16      0      24   \n",
       "2          50           14    37        6      42     43    11      0      10   \n",
       "3          50           13    55       31      47    101    18      1      49   \n",
       "4          50           25    51       26      44     45     9      1      11   \n",
       "...       ...          ...   ...      ...     ...    ...   ...    ...     ...   \n",
       "3192       50           15    37       24      35     46    19      0      23   \n",
       "3193       50           15    31       23      16     54    43      0      54   \n",
       "3194       50            8    44       24      19     52    21      0      26   \n",
       "3195       50           11    36       50      70     72    59      0      81   \n",
       "3196       50            8    50       49      13     71    17      0      33   \n",
       "\n",
       "      Hoppy  Spices  Malty  review_aroma  review_appearance  review_palate  \\\n",
       "0        57       8    111      3.498994           3.636821       3.556338   \n",
       "1        35      12     84      3.798337           3.846154       3.904366   \n",
       "2        54       4     62      3.409814           3.667109       3.600796   \n",
       "3        40      16    119      4.148098           4.033967       4.150815   \n",
       "4        51      20     95      3.625000           3.973958       3.734375   \n",
       "...     ...     ...    ...           ...                ...            ...   \n",
       "3192     45      67     74      4.125000           3.875000       3.875000   \n",
       "3193     14     140     58      3.950000           3.750000       3.760000   \n",
       "3194     21      96     77      3.576923           3.711538       3.596154   \n",
       "3195    110      18     73      3.902299           3.885057       3.862069   \n",
       "3196     16     148     69      3.888889           3.694444       3.833333   \n",
       "\n",
       "      review_taste  review_overall  number_of_reviews  \n",
       "0         3.643863        3.847082                497  \n",
       "1         4.024948        4.034304                481  \n",
       "2         3.631300        3.830239                377  \n",
       "3         4.205163        4.005435                368  \n",
       "4         3.765625        3.817708                 96  \n",
       "...            ...             ...                ...  \n",
       "3192      3.750000        4.000000                  4  \n",
       "3193      3.790000        3.730000                 50  \n",
       "3194      3.673077        3.711538                 26  \n",
       "3195      3.902299        3.879310                 87  \n",
       "3196      3.555556        3.527778                 18  \n",
       "\n",
       "[3197 rows x 25 columns]"
      ]
     },
     "execution_count": 47,
     "metadata": {},
     "output_type": "execute_result"
    }
   ],
   "source": [
    "beer_profile"
   ]
  },
  {
   "cell_type": "markdown",
   "metadata": {
    "id": "fDPV2DU0D0Us"
   },
   "source": [
    "## Testing Node2Vec\n",
    "- First, test similarity of beers using their reviews\n",
    "- Second, query users that have tried given beer & recommended beers to see how their ratings compare"
   ]
  },
  {
   "cell_type": "code",
   "execution_count": null,
   "metadata": {
    "id": "-6c0l9yoKuS9"
   },
   "outputs": [],
   "source": [
    "# Using the beer_profile dataframe, we want to compare "
   ]
  },
  {
   "cell_type": "markdown",
   "metadata": {
    "id": "QXPbF0CLg5Lo"
   },
   "source": []
  }
 ],
 "metadata": {
  "colab": {
   "collapsed_sections": [
    "hos2Q122sNa8"
   ],
   "include_colab_link": true,
   "name": "Recommender System.ipynb",
   "provenance": []
  },
  "kernelspec": {
   "display_name": "Python 3",
   "language": "python",
   "name": "python3"
  },
  "language_info": {
   "codemirror_mode": {
    "name": "ipython",
    "version": 3
   },
   "file_extension": ".py",
   "mimetype": "text/x-python",
   "name": "python",
   "nbconvert_exporter": "python",
   "pygments_lexer": "ipython3",
   "version": "3.8.5"
  },
  "widgets": {
   "application/vnd.jupyter.widget-state+json": {
    "202e8fe5edcb44fbafc7826a3342e4c1": {
     "model_module": "@jupyter-widgets/base",
     "model_module_version": "1.2.0",
     "model_name": "LayoutModel",
     "state": {
      "_model_module": "@jupyter-widgets/base",
      "_model_module_version": "1.2.0",
      "_model_name": "LayoutModel",
      "_view_count": null,
      "_view_module": "@jupyter-widgets/base",
      "_view_module_version": "1.2.0",
      "_view_name": "LayoutView",
      "align_content": null,
      "align_items": null,
      "align_self": null,
      "border": null,
      "bottom": null,
      "display": null,
      "flex": null,
      "flex_flow": null,
      "grid_area": null,
      "grid_auto_columns": null,
      "grid_auto_flow": null,
      "grid_auto_rows": null,
      "grid_column": null,
      "grid_gap": null,
      "grid_row": null,
      "grid_template_areas": null,
      "grid_template_columns": null,
      "grid_template_rows": null,
      "height": null,
      "justify_content": null,
      "justify_items": null,
      "left": null,
      "margin": null,
      "max_height": null,
      "max_width": null,
      "min_height": null,
      "min_width": null,
      "object_fit": null,
      "object_position": null,
      "order": null,
      "overflow": null,
      "overflow_x": null,
      "overflow_y": null,
      "padding": null,
      "right": null,
      "top": null,
      "visibility": null,
      "width": null
     }
    },
    "29486c79cf004dd1a4b64f336ee59c03": {
     "model_module": "@jupyter-widgets/controls",
     "model_module_version": "1.5.0",
     "model_name": "ProgressStyleModel",
     "state": {
      "_model_module": "@jupyter-widgets/controls",
      "_model_module_version": "1.5.0",
      "_model_name": "ProgressStyleModel",
      "_view_count": null,
      "_view_module": "@jupyter-widgets/base",
      "_view_module_version": "1.2.0",
      "_view_name": "StyleView",
      "bar_color": null,
      "description_width": ""
     }
    },
    "3087727fdb9c40199d1747851eff5dbb": {
     "model_module": "@jupyter-widgets/controls",
     "model_module_version": "1.5.0",
     "model_name": "HTMLModel",
     "state": {
      "_dom_classes": [],
      "_model_module": "@jupyter-widgets/controls",
      "_model_module_version": "1.5.0",
      "_model_name": "HTMLModel",
      "_view_count": null,
      "_view_module": "@jupyter-widgets/controls",
      "_view_module_version": "1.5.0",
      "_view_name": "HTMLView",
      "description": "",
      "description_tooltip": null,
      "layout": "IPY_MODEL_202e8fe5edcb44fbafc7826a3342e4c1",
      "placeholder": "​",
      "style": "IPY_MODEL_cc8682ac0523471fbd35726cacc4aee2",
      "value": " 3197/3197 [01:15&lt;00:00, 73.09it/s]"
     }
    },
    "77bbfe548916404caa41bf46005d4b34": {
     "model_module": "@jupyter-widgets/base",
     "model_module_version": "1.2.0",
     "model_name": "LayoutModel",
     "state": {
      "_model_module": "@jupyter-widgets/base",
      "_model_module_version": "1.2.0",
      "_model_name": "LayoutModel",
      "_view_count": null,
      "_view_module": "@jupyter-widgets/base",
      "_view_module_version": "1.2.0",
      "_view_name": "LayoutView",
      "align_content": null,
      "align_items": null,
      "align_self": null,
      "border": null,
      "bottom": null,
      "display": null,
      "flex": null,
      "flex_flow": null,
      "grid_area": null,
      "grid_auto_columns": null,
      "grid_auto_flow": null,
      "grid_auto_rows": null,
      "grid_column": null,
      "grid_gap": null,
      "grid_row": null,
      "grid_template_areas": null,
      "grid_template_columns": null,
      "grid_template_rows": null,
      "height": null,
      "justify_content": null,
      "justify_items": null,
      "left": null,
      "margin": null,
      "max_height": null,
      "max_width": null,
      "min_height": null,
      "min_width": null,
      "object_fit": null,
      "object_position": null,
      "order": null,
      "overflow": null,
      "overflow_x": null,
      "overflow_y": null,
      "padding": null,
      "right": null,
      "top": null,
      "visibility": null,
      "width": null
     }
    },
    "935024b3bf474e10b6deddc0d41744e6": {
     "model_module": "@jupyter-widgets/controls",
     "model_module_version": "1.5.0",
     "model_name": "DescriptionStyleModel",
     "state": {
      "_model_module": "@jupyter-widgets/controls",
      "_model_module_version": "1.5.0",
      "_model_name": "DescriptionStyleModel",
      "_view_count": null,
      "_view_module": "@jupyter-widgets/base",
      "_view_module_version": "1.2.0",
      "_view_name": "StyleView",
      "description_width": ""
     }
    },
    "997a602501154f6fa66b9a170a1c5f98": {
     "model_module": "@jupyter-widgets/base",
     "model_module_version": "1.2.0",
     "model_name": "LayoutModel",
     "state": {
      "_model_module": "@jupyter-widgets/base",
      "_model_module_version": "1.2.0",
      "_model_name": "LayoutModel",
      "_view_count": null,
      "_view_module": "@jupyter-widgets/base",
      "_view_module_version": "1.2.0",
      "_view_name": "LayoutView",
      "align_content": null,
      "align_items": null,
      "align_self": null,
      "border": null,
      "bottom": null,
      "display": null,
      "flex": null,
      "flex_flow": null,
      "grid_area": null,
      "grid_auto_columns": null,
      "grid_auto_flow": null,
      "grid_auto_rows": null,
      "grid_column": null,
      "grid_gap": null,
      "grid_row": null,
      "grid_template_areas": null,
      "grid_template_columns": null,
      "grid_template_rows": null,
      "height": null,
      "justify_content": null,
      "justify_items": null,
      "left": null,
      "margin": null,
      "max_height": null,
      "max_width": null,
      "min_height": null,
      "min_width": null,
      "object_fit": null,
      "object_position": null,
      "order": null,
      "overflow": null,
      "overflow_x": null,
      "overflow_y": null,
      "padding": null,
      "right": null,
      "top": null,
      "visibility": null,
      "width": null
     }
    },
    "a4ec20f93ef24e18b03b0cce8aacfa28": {
     "model_module": "@jupyter-widgets/base",
     "model_module_version": "1.2.0",
     "model_name": "LayoutModel",
     "state": {
      "_model_module": "@jupyter-widgets/base",
      "_model_module_version": "1.2.0",
      "_model_name": "LayoutModel",
      "_view_count": null,
      "_view_module": "@jupyter-widgets/base",
      "_view_module_version": "1.2.0",
      "_view_name": "LayoutView",
      "align_content": null,
      "align_items": null,
      "align_self": null,
      "border": null,
      "bottom": null,
      "display": null,
      "flex": null,
      "flex_flow": null,
      "grid_area": null,
      "grid_auto_columns": null,
      "grid_auto_flow": null,
      "grid_auto_rows": null,
      "grid_column": null,
      "grid_gap": null,
      "grid_row": null,
      "grid_template_areas": null,
      "grid_template_columns": null,
      "grid_template_rows": null,
      "height": null,
      "justify_content": null,
      "justify_items": null,
      "left": null,
      "margin": null,
      "max_height": null,
      "max_width": null,
      "min_height": null,
      "min_width": null,
      "object_fit": null,
      "object_position": null,
      "order": null,
      "overflow": null,
      "overflow_x": null,
      "overflow_y": null,
      "padding": null,
      "right": null,
      "top": null,
      "visibility": null,
      "width": null
     }
    },
    "c38cad1a99e045ecaea6cdfbb5b1a2b0": {
     "model_module": "@jupyter-widgets/controls",
     "model_module_version": "1.5.0",
     "model_name": "HTMLModel",
     "state": {
      "_dom_classes": [],
      "_model_module": "@jupyter-widgets/controls",
      "_model_module_version": "1.5.0",
      "_model_name": "HTMLModel",
      "_view_count": null,
      "_view_module": "@jupyter-widgets/controls",
      "_view_module_version": "1.5.0",
      "_view_name": "HTMLView",
      "description": "",
      "description_tooltip": null,
      "layout": "IPY_MODEL_997a602501154f6fa66b9a170a1c5f98",
      "placeholder": "​",
      "style": "IPY_MODEL_935024b3bf474e10b6deddc0d41744e6",
      "value": "Computing transition probabilities: 100%"
     }
    },
    "c8e446e6d56445699138097b8379c6a6": {
     "model_module": "@jupyter-widgets/controls",
     "model_module_version": "1.5.0",
     "model_name": "HBoxModel",
     "state": {
      "_dom_classes": [],
      "_model_module": "@jupyter-widgets/controls",
      "_model_module_version": "1.5.0",
      "_model_name": "HBoxModel",
      "_view_count": null,
      "_view_module": "@jupyter-widgets/controls",
      "_view_module_version": "1.5.0",
      "_view_name": "HBoxView",
      "box_style": "",
      "children": [
       "IPY_MODEL_c38cad1a99e045ecaea6cdfbb5b1a2b0",
       "IPY_MODEL_fd9a4818bbc143c6af0852353022a745",
       "IPY_MODEL_3087727fdb9c40199d1747851eff5dbb"
      ],
      "layout": "IPY_MODEL_a4ec20f93ef24e18b03b0cce8aacfa28"
     }
    },
    "cc8682ac0523471fbd35726cacc4aee2": {
     "model_module": "@jupyter-widgets/controls",
     "model_module_version": "1.5.0",
     "model_name": "DescriptionStyleModel",
     "state": {
      "_model_module": "@jupyter-widgets/controls",
      "_model_module_version": "1.5.0",
      "_model_name": "DescriptionStyleModel",
      "_view_count": null,
      "_view_module": "@jupyter-widgets/base",
      "_view_module_version": "1.2.0",
      "_view_name": "StyleView",
      "description_width": ""
     }
    },
    "fd9a4818bbc143c6af0852353022a745": {
     "model_module": "@jupyter-widgets/controls",
     "model_module_version": "1.5.0",
     "model_name": "FloatProgressModel",
     "state": {
      "_dom_classes": [],
      "_model_module": "@jupyter-widgets/controls",
      "_model_module_version": "1.5.0",
      "_model_name": "FloatProgressModel",
      "_view_count": null,
      "_view_module": "@jupyter-widgets/controls",
      "_view_module_version": "1.5.0",
      "_view_name": "ProgressView",
      "bar_style": "success",
      "description": "",
      "description_tooltip": null,
      "layout": "IPY_MODEL_77bbfe548916404caa41bf46005d4b34",
      "max": 3197,
      "min": 0,
      "orientation": "horizontal",
      "style": "IPY_MODEL_29486c79cf004dd1a4b64f336ee59c03",
      "value": 3197
     }
    }
   }
  }
 },
 "nbformat": 4,
 "nbformat_minor": 1
}
